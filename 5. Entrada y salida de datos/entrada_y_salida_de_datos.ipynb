{
 "cells": [
  {
   "cell_type": "markdown",
   "id": "17f6aeef",
   "metadata": {},
   "source": [
    "# Principios de Informática: Entrada y Salida de Datos 🐍\n",
    "\n",
    "### Del Teclado a la Pantalla: ¡Hagamos que nuestros programas hablen!\n",
    "\n",
    "**Curso:** Principios de Informática\n",
    "\n",
    "---"
   ]
  },
  {
   "cell_type": "markdown",
   "id": "44980b24",
   "metadata": {},
   "source": [
    "## Entrada de Datos: Escuchando al Usuario ⌨️\n",
    "\n",
    "¡Nuestros programas no tienen por qué ser sordos! Pueden recibir información del exterior para volverse más dinámicos e interactivos. Pensemos que es como darle a nuestro programa oídos para escuchar lo que el usuario le quiere decir.\n",
    "\n",
    "---"
   ]
  },
  {
   "cell_type": "markdown",
   "id": "363b8f6c",
   "metadata": {},
   "source": [
    "### Entrada Estándar con `input()`\n",
    "\n",
    "La forma más común de \"escuchar\" al usuario es a través del teclado. En Python, la función `input()` pausa el programa y espera a que el usuario escriba algo y presione \"Enter\".\n",
    "\n",
    "🧠 **Analogía:** La función `input()` es como un recepcionista que te pregunta \"¿Cuál es tu nombre?\" y espera pacientemente tu respuesta para anotarla.\n",
    "\n",
    "**¡Importante!** 💡 Todo lo que `input()` recibe es siempre una cadena de texto (`str`). Si necesitas un número, ¡debes convertirlo!\n",
    "\n",
    "---"
   ]
  },
  {
   "cell_type": "code",
   "execution_count": null,
   "id": "7cc1fbd9",
   "metadata": {},
   "outputs": [],
   "source": [
    "# Pedimos el nombre al usuario y lo saludamos\n",
    "print(\"Por favor, introduce tu nombre:\")\n",
    "nombre: str = input()\n",
    "print(f\"¡Hola, {nombre}! Bienvenido a la programación.\")\n",
    "\n",
    "# Ahora pedimos un número, lo convertimos y lo usamos\n",
    "print(\"\\nIntroduce un número para multiplicarlo por 2:\")\n",
    "numero_texto: str = input()\n",
    "numero_entero: int = int(numero_texto) # Convertimos el texto a un número entero\n",
    "resultado: int = numero_entero * 2\n",
    "print(f\"El resultado es: {resultado}\")"
   ]
  },
  {
   "cell_type": "markdown",
   "id": "33b11af1",
   "metadata": {},
   "source": [
    "---\n",
    "\n",
    "#### ✅ Ejercicio 1: Calculadora de Edad\n",
    "\n",
    "Crea un pequeño programa que le pregunte al usuario su año de nacimiento, lo convierta a número, calcule su edad aproximada y la muestre en pantalla.\n",
    "\n",
    "---"
   ]
  },
  {
   "cell_type": "code",
   "execution_count": null,
   "id": "ad0c3d70",
   "metadata": {},
   "outputs": [],
   "source": [
    "# Solución al Ejercicio 1\n",
    "import datetime\n",
    "\n",
    "def calcular_edad() -> None:\n",
    "    \"\"\"\n",
    "    Pregunta el año de nacimiento, calcula la edad y la muestra.\n",
    "    \"\"\"\n",
    "    print(\"¿En qué año naciste?\")\n",
    "    ano_nacimiento_str: str = input()\n",
    "    ano_nacimiento_int: int = int(ano_nacimiento_str)\n",
    "    # Obtenemos el año actual para un cálculo más preciso\n",
    "    ano_actual: int = datetime.date.today().year\n",
    "    edad: int = ano_actual - ano_nacimiento_int\n",
    "    print(f\"¡Genial! Tienes o cumplirás {edad} años en {ano_actual}.\")\n",
    "\n",
    "# Llamamos a la función para ejecutar el programa\n",
    "calcular_edad()"
   ]
  },
  {
   "cell_type": "markdown",
   "id": "575cea4b",
   "metadata": {},
   "source": [
    "---\n",
    "\n",
    "### Argumentos de Línea de Comandos\n",
    "\n",
    "A veces, queremos darle información a un programa *antes* de que se ejecute. Esto es común en herramientas de consola. Para esto usamos los \"argumentos de línea de comandos\". En Python, los manejamos con el módulo `sys`.\n",
    "\n",
    "`sys.argv` es una lista que contiene todos los argumentos. El primer elemento (`sys.argv[0]`) es siempre el nombre del script.\n",
    "\n",
    "**Nota:** Para probar esto, deberías guardar el código en un archivo `.py` y ejecutarlo desde la terminal, por ejemplo: `python mi_script.py argumento1 argumento2`\n",
    "\n",
    "---"
   ]
  },
  {
   "cell_type": "code",
   "execution_count": null,
   "id": "96f09cd8",
   "metadata": {},
   "outputs": [],
   "source": [
    "import sys\n",
    "\n",
    "def procesar_argumentos() -> None:\n",
    "    \"\"\"\n",
    "    Muestra los argumentos pasados por la línea de comandos.\n",
    "    \"\"\"\n",
    "    print(f\"El nombre del script es: {sys.argv[0]}\")\n",
    "    # Verificamos si se pasaron argumentos adicionales\n",
    "    if len(sys.argv) > 1:\n",
    "        print(\"Los argumentos que pasaste son:\")\n",
    "        # Empezamos desde el índice 1 para ignorar el nombre del script\n",
    "        for argumento in sys.argv[1:]:\n",
    "            print(f\"- {argumento}\")\n",
    "    else:\n",
    "        print(\"No se proporcionaron argumentos adicionales.\")\n",
    "\n",
    "# Para ejecutar esto en un notebook, podemos simular los argumentos\n",
    "# En un entorno real, descomenta la línea de abajo y ejecuta desde la terminal\n",
    "# procesar_argumentos()\n",
    "\n",
    "# Simulación para que el código sea ejecutable aquí:\n",
    "sys.argv = ['mi_script_simulado.py', 'Juan', '25', 'Costa Rica']\n",
    "procesar_argumentos()"
   ]
  },
  {
   "cell_type": "markdown",
   "id": "0f85e524",
   "metadata": {},
   "source": [
    "---\n",
    "\n",
    "#### ✅ Ejercicio 2: Saludo Personalizado por Argumentos\n",
    "\n",
    "Crea un programa que reciba un nombre y un apellido como argumentos de línea de comandos e imprima un saludo formal. Por ejemplo, si se ejecuta como `python saludo.py Ana Solis`, debería imprimir `Estimada Sra. Ana Solis, bienvenida.`\n",
    "\n",
    "---"
   ]
  },
  {
   "cell_type": "code",
   "execution_count": null,
   "id": "df264f9c",
   "metadata": {},
   "outputs": [],
   "source": [
    "# Solución al Ejercicio 2\n",
    "import sys\n",
    "\n",
    "def saludar_formal(nombre: str, apellido: str) -> None:\n",
    "    \"\"\"\n",
    "    Imprime un saludo formal usando el nombre y apellido.\n",
    "    \"\"\"\n",
    "    print(f\"Estimado/a {nombre} {apellido}, bienvenido/a.\")\n",
    "\n",
    "# Simulación de argumentos para que el código se ejecute en el notebook\n",
    "# En la vida real, se ejecutaría desde la terminal: python mi_saludo.py Ada Lovelace\n",
    "sys.argv = ['mi_saludo.py', 'Ada', 'Lovelace']\n",
    "\n",
    "# Verificamos que tengamos exactamente dos argumentos (además del nombre del script)\n",
    "if len(sys.argv) == 3:\n",
    "    nombre_arg: str = sys.argv[1]\n",
    "    apellido_arg: str = sys.argv[2]\n",
    "    saludar_formal(nombre_arg, apellido_arg)\n",
    "else:\n",
    "    print(\"Error ❌: Debes proporcionar un nombre y un apellido.\")\n",
    "    print(\"Ejemplo: python mi_saludo.py Ada Lovelace\")"
   ]
  },
  {
   "cell_type": "markdown",
   "id": "28003b8d",
   "metadata": {},
   "source": [
    "---\n",
    "\n",
    "## Salida de Datos: Mostrando Resultados 🖥️\n",
    "\n",
    "La \"salida\" es cómo nuestro programa comunica información al exterior, generalmente mostrándola en la pantalla. La función `print()` es nuestra principal herramienta para esta tarea.\n",
    "\n",
    "---"
   ]
  },
  {
   "cell_type": "markdown",
   "id": "311c3e10",
   "metadata": {},
   "source": [
    "### Salida Estándar y Salida Formateada\n",
    "\n",
    "`print()` puede mostrar texto, números y variables. Pero a menudo queremos que la salida sea más legible y estructurada. A esto le llamamos \"formatear la salida\".\n",
    "\n",
    "🚀 **La mejor manera: f-strings (Cadenas f)**\n",
    "\n",
    "Las \"f-strings\" son la forma más moderna, fácil y legible de formatear cadenas en Python. Simplemente pones una `f` antes de las comillas y escribes los nombres de las variables entre llaves `{}`.\n",
    "\n",
    "`nombre = \"Alan\"`  \n",
    "`edad = 41`  \n",
    "`print(f\"El famoso científico {nombre} tenía {edad} años.\")`\n",
    "\n",
    "---"
   ]
  },
  {
   "cell_type": "code",
   "execution_count": null,
   "id": "80427d7f",
   "metadata": {},
   "outputs": [],
   "source": [
    "# Ejemplo de diferentes formas de salida\n",
    "nombre_lenguaje: str = \"Python\"\n",
    "version: float = 3.12\n",
    "\n",
    "# Salida básica\n",
    "print(\"El lenguaje es\", nombre_lenguaje)\n",
    "\n",
    "# Salida con f-string (la forma recomendada)\n",
    "print(f\"Estamos aprendiendo {nombre_lenguaje} en su versión {version}.\")\n",
    "\n",
    "# También podemos incluir expresiones dentro de las f-strings\n",
    "a: int = 10\n",
    "b: int = 5\n",
    "print(f\"La suma de {a} + {b} es {a + b}.\")\n",
    "\n",
    "# Formateando números: podemos especificar decimales\n",
    "pi: float = 3.1415926535\n",
    "print(f\"El valor de PI con solo dos decimales es {pi:.2f}\")"
   ]
  },
  {
   "cell_type": "markdown",
   "id": "554614e1",
   "metadata": {},
   "source": [
    "---\n",
    "\n",
    "#### ✅ Ejercicio 3: Ticket de Compra\n",
    "\n",
    "Crea un programa que defina tres variables: `producto` (str), `cantidad` (int), y `precio_unitario` (float). Luego, calcula el `precio_total` y muestra un \"ticket\" bien formateado en la pantalla usando f-strings.\n",
    "\n",
    "---"
   ]
  },
  {
   "cell_type": "code",
   "execution_count": null,
   "id": "fb60cb05",
   "metadata": {},
   "outputs": [],
   "source": [
    "# Solución al Ejercicio 3\n",
    "def generar_ticket() -> None:\n",
    "    \"\"\"\n",
    "    Genera y muestra un ticket de compra formateado.\n",
    "    \"\"\"\n",
    "    # Datos de la compra\n",
    "    producto: str = \"Café en grano\"\n",
    "    cantidad: int = 2\n",
    "    precio_unitario: float = 7.50\n",
    "    # Cálculo\n",
    "    precio_total: float = cantidad * precio_unitario\n",
    "    # Impresión del ticket formateado\n",
    "    print(\"=\" * 30)\n",
    "    print(\"      TICKET DE COMPRA      \")\n",
    "    print(\"=\" * 30)\n",
    "    print(f\"Producto:   {producto}\")\n",
    "    print(f\"Cantidad:   {cantidad} unidades\")\n",
    "    print(f\"Precio/Ud:  ${precio_unitario:.2f}\")\n",
    "    print(\"-\" * 30)\n",
    "    print(f\"TOTAL:      ${precio_total:.2f}\")\n",
    "    print(\"=\" * 30)\n",
    "    print(\"   ¡Gracias por su compra!  \")\n",
    "\n",
    "generar_ticket()"
   ]
  },
  {
   "cell_type": "markdown",
   "id": "be54e070",
   "metadata": {},
   "source": [
    "---\n",
    "\n",
    "## Manejo Básico de Errores en la Entrada 🛡️\n",
    "\n",
    "¿Qué pasa si le pedimos al usuario un número y escribe \"hola\"? ¡El programa se romperá con un `ValueError`! Un buen programa debe ser robusto y anticipar estos problemas.\n",
    "\n",
    "Usamos un bloque `try...except` para \"intentar\" hacer algo que podría fallar. Si falla, en lugar de detenerse, el programa ejecuta el código dentro del bloque `except`.\n",
    "\n",
    "🧠 **Analogía:** Es como intentar abrir una puerta (`try`). Si la llave funciona, entras. Si no funciona (`except`), en lugar de quedarte atascado, tienes un plan B, como tocar el timbre.\n",
    "\n",
    "`try -> except`  \n",
    "`Intentar código riesgoso -> Manejar el error si ocurre`\n",
    "\n",
    "---"
   ]
  },
  {
   "cell_type": "code",
   "execution_count": null,
   "id": "4377c542",
   "metadata": {},
   "outputs": [],
   "source": [
    "def pedir_numero_seguro() -> None:\n",
    "    \"\"\"\n",
    "    Pide un número al usuario y maneja el error si la entrada no es válida.\n",
    "    \"\"\"\n",
    "    print(\"Por favor, introduce tu edad:\")\n",
    "    edad_texto: str = input()\n",
    "    try:\n",
    "        # Intentamos convertir el texto a número\n",
    "        edad_numero: int = int(edad_texto)\n",
    "        print(f\"¡Gracias! Has introducido la edad {edad_numero}.\")\n",
    "    except ValueError:\n",
    "        # Este bloque se ejecuta SOLO si la conversión falla\n",
    "        print(\"Error ❌: Eso no parece ser un número válido.\")\n",
    "        print(\"El programa no se ha detenido gracias al bloque try-except.\")\n",
    "\n",
    "pedir_numero_seguro()"
   ]
  },
  {
   "cell_type": "markdown",
   "id": "e24e27de",
   "metadata": {},
   "source": [
    "---\n",
    "\n",
    "#### ✅ Ejercicio 4: División Segura\n",
    "\n",
    "Crea un programa que pida al usuario dos números (dividendo y divisor). El programa debe intentar realizar la división y mostrar el resultado. Debes manejar dos posibles errores:\n",
    "\n",
    "1.  `ValueError`: Si el usuario introduce algo que no es un número.\n",
    "2.  `ZeroDivisionError`: Si el usuario introduce 0 como divisor.\n",
    "\n",
    "Muestra mensajes claros para cada tipo de error.\n",
    "\n",
    "---"
   ]
  },
  {
   "cell_type": "code",
   "execution_count": null,
   "id": "fc80869e",
   "metadata": {},
   "outputs": [],
   "source": [
    "# Solución al Ejercicio 4\n",
    "def division_segura() -> None:\n",
    "    \"\"\"\n",
    "    Pide dos números y realiza una división, manejando los errores\n",
    "    ValueError y ZeroDivisionError.\n",
    "    \"\"\"\n",
    "    try:\n",
    "        dividendo_str: str = input(\"Introduce el dividendo (el número a dividir): \")\n",
    "        dividendo: float = float(dividendo_str) # Usamos float para permitir decimales\n",
    "        divisor_str: str = input(\"Introduce el divisor (el número por el que dividir): \")\n",
    "        divisor: float = float(divisor_str)\n",
    "        resultado: float = dividendo / divisor\n",
    "        print(f\"✅ El resultado de {dividendo} / {divisor} es: {resultado:.4f}\")\n",
    "    except ValueError:\n",
    "        print(\"❌ Error de Valor: Por favor, introduce solo números.\")\n",
    "    except ZeroDivisionError:\n",
    "        print(\"❌ Error de División: ¡No se puede dividir por cero!\")\n",
    "    finally:\n",
    "        # El bloque 'finally' se ejecuta siempre, haya error o no.\n",
    "        print(\"\\n--- Fin del intento de división. ---\")\n",
    "\n",
    "division_segura()"
   ]
  }
 ],
 "metadata": {
  "language_info": {
   "name": "python"
  }
 },
 "nbformat": 4,
 "nbformat_minor": 5
}
