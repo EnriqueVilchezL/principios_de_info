{
 "cells": [
  {
   "cell_type": "markdown",
   "id": "39288afa",
   "metadata": {},
   "source": [
    "# Principios de Informática: Estructuras de Datos Fundamentales 🗃️\n",
    "### Organizando la información para resolver problemas complejos\n",
    "\n",
    "**Curso:** Principios de Informática\n",
    "\n",
    "[![Open In Colab](https://colab.research.google.com/assets/colab-badge.svg)](https://githubtocolab.com/EnriqueVilchezL/principios_de_info/blob/main/8_estructuras_de_datos_fundamentales/estructuras_de_datos_fundamentales.ipynb)\n",
    "\n",
    "---\n",
    "\n",
    "## 🗺️ Objetivos y contenidos\n",
    "\n",
    "Este notebook es una guía interactiva para comprender qué es una estructura de datos y por qué son importantes, identificar y diferenciar las principales estructuras de datos en Python: listas, tuplas, diccionarios y conjuntos, realizar operaciones básicas con cada estructura: creación, acceso, modificación y eliminación de elementos, y comparar las ventajas y desventajas de cada estructura según el contexto de uso.\n",
    "\n",
    "> \"Elegir la estructura de datos adecuada es clave para resolver problemas de manera eficiente.\"\n",
    "\n",
    "**Importancia:**\n",
    "- Las estructuras de datos permiten organizar y manipular la información de forma eficiente.\n",
    "- Son la base para el desarrollo de algoritmos y programas robustos.\n",
    "- Facilitan la resolución de problemas complejos en programación.\n",
    "\n",
    "**Contenidos:**\n",
    "\n",
    "1. Listas\n",
    "2. Tuplas\n",
    "3. Diccionarios\n",
    "4. Conjuntos\n",
    "5. Comparación y aplicaciones\n",
    "\n",
    "---"
   ]
  },
  {
   "cell_type": "markdown",
   "id": "62b6f1c6",
   "metadata": {},
   "source": [
    "## ¿Por qué se necesitan diferentes 'cajas'? 📦\n",
    "\n",
    "Imagine que tiene que organizar sus cosas. Usaría una caja de herramientas para los tornillos y martillos, un álbum para sus fotos y una agenda para sus contactos. Cada 'contenedor' está diseñado para un propósito específico.\n",
    "\n",
    "En programación, ocurre lo mismo. No todos los datos son iguales, por lo que usamos diferentes **estructuras de datos** para organizarlos de manera eficiente. Elegir la estructura correcta es fundamental para escribir código limpio, rápido y fácil de mantener.\n",
    "\n",
    "Este cuaderno explora los cuatro contenedores fundamentales de Python: **Listas**, **Tuplas**, **Diccionarios** y **Conjuntos**."
   ]
  },
  {
   "cell_type": "markdown",
   "id": "913fd274",
   "metadata": {},
   "source": [
    "---\n",
    "\n",
    "## 1. Listas: estructura, indexación y métodos básicos\n",
    "\n",
    "---\n",
    "\n",
    "Una **lista** es una colección **ordenada** y **mutable** de elementos.\n",
    "\n",
    "Algunas propiedades de las listas:\n",
    "\n",
    "* Son **ordenadas**: mantienen el orden en el que han sido definidas\n",
    "* Son **mutables**: se puede agregar, remover o modificar sus elementos.\n",
    "* Son **dinámicas**: ya que se pueden añadir o eliminar elementos.\n",
    "* Son **anidadas**: una lista puede contener a otra lista en sus elementos.\n",
    "\n",
    "**🧠 Analogía**: Una lista de compras 📋. Se pueden agregar nuevos artículos, tachar los que ya están y cambiar de opinión sobre una producto.\n",
    "\n",
    "---"
   ]
  },
  {
   "cell_type": "markdown",
   "id": "8eab9216",
   "metadata": {},
   "source": [
    "### Creación de listas\n",
    "\n",
    "Se crean con corchetes `[]`. Para crear una lista en python se usa esta sintaxis:\n",
    "\n",
    "```python\n",
    "lista = [elemento_1, elemento_2, ..., elemento_n]\n",
    "```\n",
    "\n",
    "**Nota**: ¡Los elementos pueden ser de distintos tipos!\n",
    "\n",
    "---"
   ]
  },
  {
   "cell_type": "code",
   "execution_count": null,
   "id": "e3ec4aaf",
   "metadata": {},
   "outputs": [],
   "source": [
    "lista = [1, 2, 3, 4, 5]"
   ]
  },
  {
   "cell_type": "code",
   "execution_count": null,
   "id": "98c9734b",
   "metadata": {},
   "outputs": [],
   "source": [
    "lista_combinada = [1, \"dos\", 3.0, True]"
   ]
  },
  {
   "cell_type": "code",
   "execution_count": null,
   "id": "84c26d8b",
   "metadata": {},
   "outputs": [],
   "source": [
    "print(lista)"
   ]
  },
  {
   "cell_type": "markdown",
   "id": "e884b22e",
   "metadata": {},
   "source": [
    "### Indexación de Listas\n",
    "\n",
    "Se accede a sus elementos mediante un **índice**, que comienza en `0`.\n",
    "\n",
    "**¿Qué son los índices?**\n",
    "\n",
    "Un **índice** es la posición numérica que identifica a cada elemento dentro de una lista (o secuencia) en Python. El primer elemento tiene índice `0`, el segundo índice `1`, y así sucesivamente. También se pueden usar índices negativos para contar desde el final: `-1` es el último elemento, `-2` el penúltimo, etc.\n",
    "\n",
    "Por ejemplo:\n",
    "```python\n",
    "colores = ['rojo', 'verde', 'azul']\n",
    "print(colores[0])   # 'rojo' (primer elemento)\n",
    "print(colores[-1])  # 'azul' (último elemento)\n",
    "```\n",
    "\n",
    "---"
   ]
  },
  {
   "cell_type": "code",
   "execution_count": null,
   "id": "b99e27c4",
   "metadata": {},
   "outputs": [],
   "source": [
    "# Acceso al primer elemento de una lista\n",
    "mi_lista = [1, 2, 3, 4, 5]\n",
    "print(f'El primer elemento es: {mi_lista[0]}')"
   ]
  },
  {
   "cell_type": "code",
   "execution_count": null,
   "id": "9253db08",
   "metadata": {},
   "outputs": [],
   "source": [
    "# Accesso al segundo elemento de una lista\n",
    "mi_lista = [1, 2, 3, 4, 5]\n",
    "print(f'El segundo elemento es: {mi_lista[1]}')"
   ]
  },
  {
   "cell_type": "code",
   "execution_count": null,
   "id": "3c12c734",
   "metadata": {},
   "outputs": [],
   "source": [
    "# Acceso al último elemento de una lista\n",
    "mi_lista = [1, 2, 3, 4, 5]\n",
    "print(f'El último elemento es: {mi_lista[-1]}')"
   ]
  },
  {
   "cell_type": "markdown",
   "id": "613e2401",
   "metadata": {},
   "source": [
    "**¿Qué pasa si se quiere obtener una sublista? (`slicing`)**\n",
    "\n",
    "Python permite obtener una sublista de una lista por medio del *slicing* (rebanado). El slicing consiste en seleccionar un rango de elementos usando la sintaxis `[inicio:fin]`, donde `inicio` es el índice del primer elemento que quieres incluir y `fin` es el índice donde se detiene (sin incluir ese elemento).\n",
    "\n",
    "Por ejemplo:\n",
    "```python\n",
    "numeros = [10, 20, 30, 40, 50, 60]\n",
    "sublista = numeros[1:4]  # Toma los elementos en las posiciones 1, 2 y 3\n",
    "print(sublista)  # [20, 30, 40]\n",
    "```\n",
    "\n",
    "- Si se omite `inicio`, comienza desde el principio de la lista.\n",
    "- Si se omite `fin`, toma hasta el final de la lista.\n",
    "- También se puede usar un tercer parámetro para el paso: `[inicio:fin:paso]`.\n",
    "\n",
    "---"
   ]
  },
  {
   "cell_type": "code",
   "execution_count": null,
   "id": "253a36e8",
   "metadata": {},
   "outputs": [],
   "source": [
    "# Lista de sensores en un proyecto de robótica\n",
    "sensores = ['temperatura', 'humedad', 'distancia', 'luz']\n",
    "\n",
    "# Accediendo a elementos (Indexación)\n",
    "print(f'El primer sensor es: {sensores[0]}')      # Acceso al primer elemento\n",
    "print(f'El último sensor es: {sensores[-1]}')     # Acceso al último elemento\n",
    "print(f'El penúltimo sensor es: {sensores[-2]}')     # Acceso al penúltimo elemento\n",
    "print(f'Los sensores intermedios son: {sensores[1:3]}') # Slicing: desde el índice 1 hasta el 2"
   ]
  },
  {
   "cell_type": "code",
   "execution_count": null,
   "id": "9f4c7b25",
   "metadata": {},
   "outputs": [],
   "source": [
    "# Invertir una lista\n",
    "mi_lista = [1, 2, 3, 4, 5]\n",
    "mi_lista.reverse()\n",
    "print(mi_lista)\n",
    "\n",
    "# Opcion 2\n",
    "mi_lista = [1, 2, 3, 4, 5]\n",
    "mi_lista = mi_lista[::-1]\n",
    "print(mi_lista)"
   ]
  },
  {
   "cell_type": "markdown",
   "id": "926ac853",
   "metadata": {},
   "source": [
    "#### ◀️ Ejercicio: Lista impar\n",
    "\n",
    "Dada una lista ya creada, obtenga una sublista con los números en posiciones impares de la lista, inviértala y luego imprímala.\n",
    "\n",
    "Por ejemplo, si la lista es:\n",
    "\n",
    "```python\n",
    "lista = [0, 1, 2, 3, 4, 5, 6, 7, 8, 9]\n",
    "```\n",
    "\n",
    "Se deben tomar los números 1, 3, 5, 7 y 9, pues están en posiciones impares. Luego, se debe dar vuelta a la sublista. El resultado impreso debe ser `[9, 7, 5, 3, 1]`.\n",
    "\n",
    "---"
   ]
  },
  {
   "cell_type": "code",
   "execution_count": null,
   "id": "614f110d",
   "metadata": {},
   "outputs": [],
   "source": [
    "lista = [0, 1, 2, 3, 4, 5, 6, 7, 8, 9]\n",
    "\n",
    "sublista_impares = lista[1::2]\n",
    "sublista_invertida = sublista_impares[::-1]\n",
    "\n",
    "print(f'Números en posiciones impares invertida: {sublista_invertida}')"
   ]
  },
  {
   "cell_type": "markdown",
   "id": "c30dc8d4",
   "metadata": {},
   "source": [
    "### Métodos básicos\n",
    "\n",
    "Las listas en Python tienen varios métodos útiles para modificar su contenido:\n",
    "\n",
    "- `.append(elemento)`: Agrega un elemento al final de la lista.\n",
    "- `.insert(pos, elemento)`: Inserta un elemento en una posición específica.\n",
    "- `.remove(elemento)`: Elimina la primera aparición de un elemento.\n",
    "- `.pop([pos])`: Elimina y devuelve el elemento en la posición dada (por defecto, el último).\n",
    "- `.sort()`: Ordena la lista en su lugar.\n",
    "- `.extend()`: Agrega los elementos de una lista a otra lista.\n",
    "- `.reverse()`: Invierte el orden de los elementos de la lista.\n",
    "- `.index(elemento)`: Devuelve el índice de la primera aparición del elemento.\n",
    "- `.count(elemento)`: Cuenta cuántas veces aparece un elemento en la lista.\n",
    "- `.copy()`: Esto hace una copia superficial de la lista, es decir, crea una nueva lista con los mismos elementos, pero no copia los objetos mutables anidados si los hubiera. En su lugar, son referencias.\n",
    "\n",
    "Revise la lista completa en la documentación oficial de [Python](https://docs.python.org/3.13/tutorial/datastructures.html).\n",
    "\n",
    "---"
   ]
  },
  {
   "cell_type": "code",
   "execution_count": null,
   "id": "d486a873",
   "metadata": {},
   "outputs": [],
   "source": [
    "# .append(elemento)\n",
    "mi_lista = [1, 2, 3]\n",
    "mi_lista.append(4)\n",
    "print('append:', mi_lista)  # [1, 2, 3, 4]"
   ]
  },
  {
   "cell_type": "code",
   "execution_count": null,
   "id": "5259dc1e",
   "metadata": {},
   "outputs": [],
   "source": [
    "# .insert(pos, elemento)\n",
    "mi_lista.insert(1, 10)\n",
    "print('insert:', mi_lista)  # [1, 10, 2, 3, 4]"
   ]
  },
  {
   "cell_type": "code",
   "execution_count": null,
   "id": "788e6937",
   "metadata": {},
   "outputs": [],
   "source": [
    "# .remove(elemento)\n",
    "mi_lista.remove(10)\n",
    "print('remove:', mi_lista)  # [1, 2, 3, 4]"
   ]
  },
  {
   "cell_type": "code",
   "execution_count": null,
   "id": "8fb5518d",
   "metadata": {},
   "outputs": [],
   "source": [
    "# .pop([pos])\n",
    "ultimo = mi_lista.pop()\n",
    "print('pop (sin índice):', mi_lista, '| valor extraído:', ultimo)  # [1, 2, 3] | 4\n",
    "segundo = mi_lista.pop(1)\n",
    "print('pop (índice 1):', mi_lista, '| valor extraído:', segundo)  # [1, 3] | 2"
   ]
  },
  {
   "cell_type": "code",
   "execution_count": null,
   "id": "5380294d",
   "metadata": {},
   "outputs": [],
   "source": [
    "# .sort()\n",
    "mi_lista = [3, 1, 4, 1, 5]\n",
    "mi_lista.sort()\n",
    "print('sort:', mi_lista)  # [1, 1, 3, 4, 5]"
   ]
  },
  {
   "cell_type": "code",
   "execution_count": null,
   "id": "c6f0deb5",
   "metadata": {},
   "outputs": [],
   "source": [
    "# .extend(otra_lista)\n",
    "otra_lista = [6, 7, 8]\n",
    "mi_lista.extend(otra_lista) # [1, 1, 3, 4, 5, 6, 7, 8]"
   ]
  },
  {
   "cell_type": "code",
   "execution_count": null,
   "id": "807cc30c",
   "metadata": {},
   "outputs": [],
   "source": [
    "# .reverse()\n",
    "mi_lista.reverse()\n",
    "print('reverse:', mi_lista)  # [8, 7, 6, 5, 4, 3, 1, 1]"
   ]
  },
  {
   "cell_type": "code",
   "execution_count": null,
   "id": "438574e2",
   "metadata": {},
   "outputs": [],
   "source": [
    "# .index(elemento)\n",
    "indice = mi_lista.index(4)\n",
    "print('index de 4:', indice)  # 5"
   ]
  },
  {
   "cell_type": "code",
   "execution_count": null,
   "id": "899c5a31",
   "metadata": {},
   "outputs": [],
   "source": [
    "# .count(elemento)\n",
    "cuantos_unos = mi_lista.count(1)\n",
    "print('count de 1:', cuantos_unos)  # 2"
   ]
  },
  {
   "cell_type": "code",
   "execution_count": null,
   "id": "3132ccb8",
   "metadata": {},
   "outputs": [],
   "source": [
    "# .copy()\n",
    "lista_copiada = mi_lista.copy()\n",
    "lista_copiada.append(9)  # Modificar la copia no afecta a la original\n",
    "print('Lista original:', mi_lista)\n",
    "print('Lista copiada:', lista_copiada)\n",
    "\n",
    "# Esto crea una referencia\n",
    "lista_referenciada = mi_lista\n",
    "lista_referenciada.append(10)  # Modificar la referencia afecta a la original\n",
    "print('Lista original:', mi_lista)\n",
    "print('Lista referenciada:', lista_referenciada)\n",
    "\n",
    "original = [[1, 2], [3, 4]]\n",
    "copia = original.copy()\n",
    "print('Copia:', copia)\n",
    "\n",
    "copia[0][0] = 99\n",
    "print('Original después de modificar la copia:', original)"
   ]
  },
  {
   "cell_type": "markdown",
   "id": "d2ddc116",
   "metadata": {},
   "source": [
    "Así mismo, es muy común cambiar el elemento de alguna posición por algún otro valor. Esto se logra accediendo a la posición con `[i]` y luego usando el operador de asignación `=`."
   ]
  },
  {
   "cell_type": "code",
   "execution_count": null,
   "id": "45281666",
   "metadata": {},
   "outputs": [],
   "source": [
    "mi_lista = [1, 2, 3, 4, 5]\n",
    "\n",
    "print(f\"Mi lista original: {mi_lista}\")\n",
    "# Cambiamos el primer elemento\n",
    "mi_lista[0] = 10\n",
    "print(f\"Mi lista modificada: {mi_lista}\")"
   ]
  },
  {
   "cell_type": "markdown",
   "id": "e88bc40b",
   "metadata": {},
   "source": [
    "Finalmente, se puede contar la cantidad de elementos de una lista fácilmente con `len`."
   ]
  },
  {
   "cell_type": "code",
   "execution_count": null,
   "id": "b3e00113",
   "metadata": {},
   "outputs": [],
   "source": [
    "print(len(mi_lista))  # 8, cantidad de elementos en la lista"
   ]
  },
  {
   "cell_type": "markdown",
   "id": "ba501f69",
   "metadata": {},
   "source": [
    "#### 📋 Ejercicio: Gestionar Invitados a un Evento\n",
    "\n",
    "Se tiene la siguiente lista de invitados a una fiesta en la mansión privada de Batman:\n",
    "\n",
    "```txt\n",
    "Maria\n",
    "Juan\n",
    "Ana\n",
    "Pedro\n",
    "```\n",
    "\n",
    "Utilice estos datos para crear una lista y luego realice las siguientes operaciones:\n",
    "1. Agregue a 'Carlos' a la lista.\n",
    "2. 'Ana' no puede venir, entonces elimínela de la lista.\n",
    "3. Resulta que la lista está puesta en orden de prioridad para entrar. `Robin` tiene la prioridad #1 para entrar. Debe estar primero en la lista. Ponga su nombre de primero.\n",
    "4. Imprima la lista final de invitados.\n",
    "\n",
    "---"
   ]
  },
  {
   "cell_type": "code",
   "execution_count": null,
   "id": "75e9a42f",
   "metadata": {},
   "outputs": [],
   "source": [
    "invitados = ['Maria', 'Juan', 'Ana', 'Pedro']\n",
    "print(f'Invitados originales: {invitados}')\n",
    "\n",
    "# 1. Agregar a 'Carlos'\n",
    "invitados.append('Carlos')\n",
    "print(f'Después de agregar a Carlos: {invitados}')\n",
    "\n",
    "# 2. Eliminar a 'Ana'\n",
    "invitados.remove('Ana')\n",
    "print(f'Después de eliminar a Ana: {invitados}')\n",
    "\n",
    "# 3. Agregar a 'Robin'\n",
    "invitados.insert(0, 'Robin')\n",
    "print(f'Lista final: {invitados}')"
   ]
  },
  {
   "cell_type": "markdown",
   "id": "dce3a42f",
   "metadata": {},
   "source": [
    "### Iterando una lista\n",
    "\n",
    "Se pueden recorrer todos los elementos de una lista fácilmente con ciclos.\n",
    "\n",
    "---"
   ]
  },
  {
   "cell_type": "markdown",
   "id": "a55af227",
   "metadata": {},
   "source": [
    "1. Por medio de **índices**: Si se hace por medio de índices, se puede hacer por medio de un `while` o un `for`."
   ]
  },
  {
   "cell_type": "code",
   "execution_count": null,
   "id": "f900cfcd",
   "metadata": {},
   "outputs": [],
   "source": [
    "colores = ['rojo', 'verde', 'azul']\n",
    "\n",
    "cantidad_de_elementos = len(colores)\n",
    "print('Cantidad de elementos en la lista de colores:', cantidad_de_elementos)\n",
    "\n",
    "# Así podemos obtener una lista con los índices de los elementos\n",
    "print(f'Índices de los colores: {list(range(cantidad_de_elementos))}' )"
   ]
  },
  {
   "cell_type": "code",
   "execution_count": null,
   "id": "8d4955f7",
   "metadata": {},
   "outputs": [],
   "source": [
    "# Recorrer la lista de colores con un ciclo for\n",
    "for i in range(len(colores)):\n",
    "    print(colores[i])"
   ]
  },
  {
   "cell_type": "code",
   "execution_count": null,
   "id": "81656663",
   "metadata": {},
   "outputs": [],
   "source": [
    "# Recorrer la lista de colores con un ciclo while\n",
    "colores = ['rojo', 'verde', 'azul']\n",
    "i = 0\n",
    "while i < len(colores):\n",
    "    print(f'Color {i}: {colores[i]}')\n",
    "    i += 1\n"
   ]
  },
  {
   "cell_type": "markdown",
   "id": "122b2403",
   "metadata": {},
   "source": [
    "2. Por medio de **colecciones**: Para ello, hay que usar un ciclo `for`."
   ]
  },
  {
   "cell_type": "code",
   "execution_count": null,
   "id": "9680062c",
   "metadata": {},
   "outputs": [],
   "source": [
    "colores = ['rojo', 'verde', 'azul']\n",
    "for color in colores:\n",
    "    print(color)"
   ]
  },
  {
   "cell_type": "markdown",
   "id": "dda5704e",
   "metadata": {},
   "source": [
    "#### 🫡 Ejercicio: Ordenar\n",
    "\n",
    "Implemente el algoritmo de ordenamiento de selección para ordenar ascendentemente la siguiente lista: [4, 8, 10, 2, 3, 78, 20, 76, 43, 1, 0]. NO puede utilizar `.sort()`.\n",
    "\n",
    "---"
   ]
  },
  {
   "cell_type": "code",
   "execution_count": null,
   "id": "5158b9fb",
   "metadata": {},
   "outputs": [],
   "source": [
    "def get_min_index(list: list[int], start: int) -> int:\n",
    "    \"\"\"\n",
    "    Retorna el índice del elemento mínimo en la sublista que comienza en 'start'\n",
    "    y termina al final de la lista.\n",
    "\n",
    "    Args:\n",
    "        list (list[int]): La lista de enteros.\n",
    "        start (int): El índice desde donde comenzar a buscar el mínimo.\n",
    "\n",
    "    Returns:\n",
    "        int: El índice del elemento mínimo encontrado.\n",
    "    \"\"\"\n",
    "    min_idx = start\n",
    "    for i in range(start + 1, len(list)):\n",
    "        if list[i] < list[min_idx]:\n",
    "            min_idx = i\n",
    "    return min_idx\n",
    "\n",
    "def selection_sort(list: list[int]) -> None:\n",
    "    \"\"\"\n",
    "    Ordena una lista de enteros en su lugar utilizando el algoritmo de selección.\n",
    "\n",
    "    Args:\n",
    "        list (list[int]): La lista de enteros a ordenar.\n",
    "    \"\"\"\n",
    "    n = len(list)\n",
    "    for i in range(n):\n",
    "        # Hallar el índice del elemento mínimo en la sublista no ordenada\n",
    "        min_idx = get_min_index(list, i)\n",
    "        # Intercambiar el elemento actual con el elemento mínimo hallado\n",
    "        list[i], list[min_idx] = list[min_idx], list[i]\n",
    "\n",
    "numeros = [64, 34, 25, 12, 22, 11, 90]\n",
    "print(\"Lista original:\", numeros)\n",
    "selection_sort(numeros)\n",
    "print(\"Lista ordenada:\", numeros)"
   ]
  },
  {
   "cell_type": "markdown",
   "id": "adf3e6b2",
   "metadata": {},
   "source": [
    "Esto mismo, se puede conseguir con las funciones `min` y `max` que vienen por defecto en python."
   ]
  },
  {
   "cell_type": "code",
   "execution_count": null,
   "id": "303f1b90",
   "metadata": {},
   "outputs": [],
   "source": [
    "lista = [50, 75, 46, 22, 80, 65, 8]\n",
    "\n",
    "menor = min(lista)\n",
    "mayor = max(lista)\n",
    "print(f'Menor: {menor}, Mayor: {mayor}')\n",
    "\n",
    "indice_menor = lista.index(menor)\n",
    "indice_mayor = lista.index(mayor)\n",
    "print(f'Índice del menor: {indice_menor}, Índice del mayor: {indice_mayor}')"
   ]
  },
  {
   "cell_type": "markdown",
   "id": "d72bb8ac",
   "metadata": {},
   "source": [
    "### Particularidades de las listas\n",
    "\n",
    "---"
   ]
  },
  {
   "cell_type": "markdown",
   "id": "a4610ba6",
   "metadata": {},
   "source": [
    "1. **Operador +**: Se puede concatenar listas usando el operador `+`."
   ]
  },
  {
   "cell_type": "code",
   "execution_count": null,
   "id": "f536d6ef",
   "metadata": {},
   "outputs": [],
   "source": [
    "a = [1, 2, 3]\n",
    "b = [4, 5]\n",
    "c = a + b  # [1, 2, 3, 4, 5]\n",
    "print(c)"
   ]
  },
  {
   "cell_type": "markdown",
   "id": "e0000764",
   "metadata": {},
   "source": [
    "2. **Separación de hileras**: Se puede separar una hilera y convertirla a una lista si tiene **separadores** dentro, por medio del método `.split()`."
   ]
  },
  {
   "cell_type": "code",
   "execution_count": null,
   "id": "eb71757e",
   "metadata": {},
   "outputs": [],
   "source": [
    "hilera = \"Esta es una oracion. Esta es la segunda oracion. Esta es la tercera oracion.\"\n",
    "lista_palabras = hilera.split('. ') # Esto separa la hilera en una lista de oraciones, separandolas cada vez que encuentra un punto seguido de un espacio.\n",
    "print(lista_palabras)  # ['Esta es una oracion', 'Esta es la segunda oracion', 'Esta es la tercera oracion']"
   ]
  },
  {
   "cell_type": "code",
   "execution_count": null,
   "id": "7550e886",
   "metadata": {},
   "outputs": [],
   "source": [
    "hilera = \"rojo,verde,azul\"\n",
    "lista_colores = hilera.split(',')  # Esto separa la hilera en una lista de colores, separandolos cada vez que encuentra una coma.\n",
    "print(lista_colores)   # ['rojo', 'verde', 'azul']"
   ]
  },
  {
   "cell_type": "markdown",
   "id": "899b029c",
   "metadata": {},
   "source": [
    "3. **Unión a hilera**: Se puede volver una lista de hileras a una única hilera, poniendo el separador deseado y luego poniendo `.join(lista)`."
   ]
  },
  {
   "cell_type": "code",
   "execution_count": null,
   "id": "76a5cdbf",
   "metadata": {},
   "outputs": [],
   "source": [
    "lista_hileras = ['rojo', 'verde', 'azul']\n",
    "hilera_unida = ', '.join(lista_hileras)  # Esto une la lista de hileras en una sola hilera, poniendo una coma y un espacio entre cada color."
   ]
  },
  {
   "cell_type": "markdown",
   "id": "c97b6928",
   "metadata": {},
   "source": [
    "#### 🀾 Ejercicio: Mayor y menor\n",
    "\n",
    "Escriba un programa que almacene en una lista los siguientes precios, 50, 75, 46, 22, 80, 65, 8, y muestre por pantalla el menor,  el mayor y el promedio de los precios.\n",
    "\n",
    "---"
   ]
  },
  {
   "cell_type": "code",
   "execution_count": null,
   "id": "e590872e",
   "metadata": {},
   "outputs": [],
   "source": [
    "def encontrar_menor(lista: list[int]) -> int:\n",
    "    \"\"\"\n",
    "    Encuentra el valor mínimo en una lista de números.\n",
    "\n",
    "    Args:\n",
    "        lista (list of int/float): Lista de números.\n",
    "\n",
    "    Returns:\n",
    "        int/float: El número más pequeño de la lista.\n",
    "    \"\"\"\n",
    "    menor = lista[0]\n",
    "    for numero in lista:\n",
    "        if numero < menor:\n",
    "            menor = numero\n",
    "    return menor\n",
    "\n",
    "\n",
    "def encontrar_mayor(lista: list[int]) -> int:\n",
    "    \"\"\"\n",
    "    Encuentra el valor máximo en una lista de números.\n",
    "\n",
    "    Args:\n",
    "        lista (list of int/float): Lista de números.\n",
    "\n",
    "    Returns:\n",
    "        int/float: El número más grande de la lista.\n",
    "    \"\"\"\n",
    "    mayor = lista[0]\n",
    "    for numero in lista:\n",
    "        if numero > mayor:\n",
    "            mayor = numero\n",
    "    return mayor\n",
    "\n",
    "def calcular_promedio(lista: list[int]) -> float:\n",
    "    \"\"\"\n",
    "    Calcula el promedio de una lista de números.\n",
    "\n",
    "    Args:\n",
    "        lista (list of int/float): Lista de números.\n",
    "\n",
    "    Returns:\n",
    "        float: El promedio de los números en la lista.\n",
    "    \"\"\"\n",
    "    suma = 0\n",
    "    for numero in lista:\n",
    "        suma += numero\n",
    "    promedio = suma / len(lista)\n",
    "    return promedio\n",
    "\n",
    "\n",
    "# Ejemplo de uso\n",
    "lista = [50, 75, 46, 22, 80, 65, 8]\n",
    "\n",
    "menor = encontrar_menor(lista)\n",
    "print(f'Menor: {menor}')\n",
    "\n",
    "mayor = encontrar_mayor(lista)\n",
    "print(f'Mayor: {mayor}')"
   ]
  },
  {
   "cell_type": "markdown",
   "id": "b6295470",
   "metadata": {},
   "source": [
    "#### ⊹ Ejercicio: Matrices\n",
    "\n",
    "En Python, una matriz se puede representar como una lista de listas. Es decir, una lista en donde cada uno de sus elementos es otra lista.\n",
    "Esto es, cada sublista representa una fila de la matriz.\n",
    "\n",
    "Por ejemplo, la siguiente matriz de 3 filas × 3 columnas:\n",
    "\n",
    "$\n",
    "\\begin{bmatrix}\n",
    "1 & 2 & 3 \\\\\n",
    "4 & 5 & 6 \\\\\n",
    "7 & 8 & 9\n",
    "\\end{bmatrix}\n",
    "$\n",
    "\n",
    "se puede representar en Python como:\n",
    "\n",
    "```python\n",
    "matriz = [\n",
    "    [1, 2, 3],   # fila 0\n",
    "    [4, 5, 6],   # fila 1\n",
    "    [7, 8, 9]    # fila 2\n",
    "]\n",
    "```\n",
    "\n",
    "**Parte 1**: Itere por todos los elementos de esta matriz y calcule la suma de todos los elementos. Imprímala en pantalla.\n",
    "\n",
    "**Parte 2**: Haga un algoritmo para obtener la transpuesta de esta matriz. Imprímala en pantalla.\n",
    "\n",
    "---"
   ]
  },
  {
   "cell_type": "code",
   "execution_count": null,
   "id": "c5e3c85e",
   "metadata": {},
   "outputs": [],
   "source": [
    "matriz = [\n",
    "    [1, 2, 3],\n",
    "    [4, 5, 6],\n",
    "    [7, 8, 9]\n",
    "]"
   ]
  },
  {
   "cell_type": "code",
   "execution_count": null,
   "id": "3b57fb74",
   "metadata": {},
   "outputs": [],
   "source": [
    "# Parte 1\n",
    "suma = 0\n",
    "for fila in range(len(matriz)):\n",
    "    for columna in range(len(matriz[fila])):\n",
    "        suma += matriz[fila][columna]\n",
    "\n",
    "print('Suma total:', suma)"
   ]
  },
  {
   "cell_type": "code",
   "execution_count": null,
   "id": "e14cb846",
   "metadata": {},
   "outputs": [],
   "source": [
    "# Parte 2\n",
    "matriz_transpuesta = []\n",
    "for j in range(len(matriz[0])):\n",
    "    fila_transpuesta = []\n",
    "    for i in range(len(matriz)):\n",
    "        fila_transpuesta.append(matriz[i][j])\n",
    "    \n",
    "    matriz_transpuesta.append(fila_transpuesta)\n",
    "\n",
    "print('Matriz transpuesta:')\n",
    "for fila in matriz_transpuesta:\n",
    "    print(fila)"
   ]
  },
  {
   "cell_type": "markdown",
   "id": "64c0055c",
   "metadata": {},
   "source": [
    "---\n",
    "\n",
    "## 2. Tuplas: La Caja Fuerte Inmutable\n",
    "\n",
    "---\n",
    "\n",
    "Una **tupla** es una colección **ordenada** e **inmutable** de elementos. Es muy similar a las listas, con la excepción de que son **inmutables**. No se pueden agregar, quitar o actualizar elementos de la tupla.\n",
    "\n",
    "**🧠 Analogía**: Las coordenadas GPS de un lugar. Son un par de números fijos (latitud, longitud) que no deberían cambiar.\n",
    "\n",
    "---"
   ]
  },
  {
   "cell_type": "markdown",
   "id": "6cf74b0d",
   "metadata": {},
   "source": [
    "### Creación\n",
    "\n",
    "Se crean con corchetes `()`, pero pueden ser opcionales. Para crear una tupla en python se puede usar esta sintaxis:\n",
    "\n",
    "```python\n",
    "tupla = (elemento_1, elemento_2, ..., elemento_n)\n",
    "```\n",
    "\n",
    "**Nota**: ¡Los elementos pueden ser de distintos tipos!\n",
    "\n",
    "---"
   ]
  },
  {
   "cell_type": "code",
   "execution_count": null,
   "id": "ca68ac0b",
   "metadata": {},
   "outputs": [],
   "source": [
    "tupla = (1, 2, 3, 4, 5)"
   ]
  },
  {
   "cell_type": "code",
   "execution_count": null,
   "id": "c981da7b",
   "metadata": {},
   "outputs": [],
   "source": [
    "tupla_combinada = (1, \"dos\", 3.0, True)"
   ]
  },
  {
   "cell_type": "markdown",
   "id": "eb0d9a1f",
   "metadata": {},
   "source": [
    "### Indexación de tuplas\n",
    "\n",
    "Se accede a sus elementos mediante un **índice**, que comienza en `0`.\n",
    "\n",
    "---"
   ]
  },
  {
   "cell_type": "code",
   "execution_count": null,
   "id": "ed33def2",
   "metadata": {},
   "outputs": [],
   "source": [
    "tupla = (1, 2, 3, 4, 5)\n",
    "print(f'El primer elemento es: {tupla[0]}')\n",
    "print(f'El segundo elemento es: {tupla[1]}')\n",
    "print(f'El último elemento es: {tupla[-1]}')"
   ]
  },
  {
   "cell_type": "markdown",
   "id": "cccc93d6",
   "metadata": {},
   "source": [
    "### Métodos básicos\n",
    "\n",
    "Las tuplas en Python tienen varios métodos útiles acceder a su contenido:\n",
    "\n",
    "- `.index(elemento)`: Devuelve el índice de la primera aparición del elemento.\n",
    "- `.count(elemento)`: Cuenta cuántas veces aparece un elemento en la tupla.\n",
    "\n",
    "Revise la lista completa en la documentación oficial de [Python](https://docs.python.org/3.13/tutorial/datastructures.html).\n",
    "\n",
    "---"
   ]
  },
  {
   "cell_type": "code",
   "execution_count": null,
   "id": "f05f92c8",
   "metadata": {},
   "outputs": [],
   "source": [
    "# .index(elemento)\n",
    "tupla = (1, 2, 3, 4, 5)\n",
    "tupla_index = tupla.index(3)\n",
    "print(f'Índice del elemento 3: {tupla_index}')  # 2"
   ]
  },
  {
   "cell_type": "code",
   "execution_count": null,
   "id": "6a2c6f67",
   "metadata": {},
   "outputs": [],
   "source": [
    "# .count(elemento)\n",
    "cantidad_de_elementos = tupla.count(2)\n",
    "print(f'Cantidad de veces que aparece el elemento 2: {cantidad_de_elementos}')  # 1"
   ]
  },
  {
   "cell_type": "markdown",
   "id": "7bd5e4b5",
   "metadata": {},
   "source": [
    "Finalmente, podemos contar la cantidad de elementos de una tupla fácilmente con `len`."
   ]
  },
  {
   "cell_type": "code",
   "execution_count": null,
   "id": "335b890c",
   "metadata": {},
   "outputs": [],
   "source": [
    "print(f'Cantidad de elementos en la tupla: {len(tupla)}')  # 5"
   ]
  },
  {
   "cell_type": "markdown",
   "id": "e5be439b",
   "metadata": {},
   "source": [
    "### Inmutabilidad\n",
    "\n",
    "Las tuplas, son **inmutables**. Esto quiere decir que, una vez se crean, **no se pueden modificar**. Si se quiere hacer un cambio, hay que hacer una tupla nueva.\n",
    "\n",
    "---"
   ]
  },
  {
   "cell_type": "code",
   "execution_count": null,
   "id": "150cfd07",
   "metadata": {},
   "outputs": [],
   "source": [
    "try:\n",
    "    tupla = (1, 2, 3, 4, 5)\n",
    "    tupla[0] = 10  # Intento de modificar el primer elemento\n",
    "    print('Tupla modificada:', tupla)\n",
    "    \n",
    "except TypeError as e:\n",
    "    print(f'Error: {e}')"
   ]
  },
  {
   "cell_type": "markdown",
   "id": "43b9f360",
   "metadata": {},
   "source": [
    "### Empaquetado y Desempaquetado\n",
    "\n",
    "Una particularidad de las tuplas es que Python permite separar sus elementos a variables individuales y agrupar varias variables a una sola tupla.\n",
    "\n",
    "---"
   ]
  },
  {
   "cell_type": "markdown",
   "id": "b7ba4a4d",
   "metadata": {},
   "source": [
    "* **Empaquetado (Packing)**: Es el acto de agrupar varios valores en una tupla."
   ]
  },
  {
   "cell_type": "code",
   "execution_count": null,
   "id": "6a42912b",
   "metadata": {},
   "outputs": [],
   "source": [
    "# Empaquetado\n",
    "tupla_empacada = 1, 2, 3  # No es necesario usar paréntesis\n",
    "print(f'Tupla empacada: {tupla_empacada}')"
   ]
  },
  {
   "cell_type": "code",
   "execution_count": null,
   "id": "9a4b1e74",
   "metadata": {},
   "outputs": [],
   "source": [
    "# Empaquetado con variables\n",
    "x = 1\n",
    "y = 2\n",
    "z = 3\n",
    "tupla_empacada = x, y, z\n",
    "print(f'Tupla empacada con variables: {tupla_empacada}')"
   ]
  },
  {
   "cell_type": "markdown",
   "id": "13f8cd23",
   "metadata": {},
   "source": [
    "* **Desempaquetado (Unpacking)**: Es el acto de asignar los valores de una tupla a múltiples variables."
   ]
  },
  {
   "cell_type": "code",
   "execution_count": null,
   "id": "95652637",
   "metadata": {},
   "outputs": [],
   "source": [
    "# Desempaquetado\n",
    "punto_3d = (1, 2, 3)\n",
    "x, y, z = punto_3d  # Asignación de los valores de la tupla a las variables\n",
    "print(f'Valor de x: {x}')\n",
    "print(f'Valor de y: {y}')\n",
    "print(f'Valor de z: {z}')"
   ]
  },
  {
   "cell_type": "markdown",
   "id": "805cb8c3",
   "metadata": {},
   "source": [
    "**¡Ojo!**: No se pueden desempaquetar más o menos valores de la cuenta."
   ]
  },
  {
   "cell_type": "code",
   "execution_count": null,
   "id": "072a9bd4",
   "metadata": {},
   "outputs": [],
   "source": [
    "try:\n",
    "    tupla = (1, 2, 3, 4, 5)\n",
    "    x, y, z = tupla  # Intento de desempaquetar número incorrecto de valores\n",
    "    print(f'Valores desempaquetados: x={x}, y={y}, z={z}')\n",
    "\n",
    "except ValueError as e:\n",
    "    print(f'Error: {e}')"
   ]
  },
  {
   "cell_type": "code",
   "execution_count": null,
   "id": "9ce63465",
   "metadata": {},
   "outputs": [],
   "source": [
    "try:\n",
    "    tupla = (1, 2, 3, 4, 5)\n",
    "    x, y, z, k, p, h = tupla  # Intento de desempaquetar número incorrecto de valores\n",
    "    print(f'Valores desempaquetados: x={x}, y={y}, z={z}, k={k}, p={p}, h={h}')\n",
    "\n",
    "except ValueError as e:\n",
    "    print(f'Error: {e}')"
   ]
  },
  {
   "cell_type": "markdown",
   "id": "8fff3eff",
   "metadata": {},
   "source": [
    "#### ✖️ Ejercicio: Devolver múltiples valores\n",
    "\n",
    "Una aplicación común de las tuplas es devolver múltiples valores desde una función. Cree una función que reciba una lista de números y devuelva tanto el valor mínimo como el máximo en una sola tupla.\n",
    "\n",
    "---"
   ]
  },
  {
   "cell_type": "code",
   "execution_count": null,
   "id": "21e6e9d1",
   "metadata": {},
   "outputs": [],
   "source": [
    "def encontrar_min_y_max(numeros: list[float]) -> tuple[float, float]:\n",
    "    \"\"\"Encuentra el valor mínimo y máximo de una lista y los devuelve en una tupla.\"\"\"\n",
    "    minimo = min(numeros)\n",
    "    maximo = max(numeros)\n",
    "    return (minimo, maximo) # Empaquetado\n",
    "\n",
    "# Desempaquetado del resultado\n",
    "lecturas_sensor = [25.1, 24.8, 25.5, 24.9, 26.0, 24.7]\n",
    "temp_min, temp_max = encontrar_min_y_max(lecturas_sensor)\n",
    "\n",
    "print(f'Las lecturas del sensor fueron: {lecturas_sensor}')\n",
    "print(f'La temperatura mínima registrada fue: {temp_min}°C')\n",
    "print(f'La temperatura máxima registrada fue: {temp_max}°C')"
   ]
  },
  {
   "cell_type": "markdown",
   "id": "f6d86e20",
   "metadata": {},
   "source": [
    "### Iterando una tupla\n",
    "\n",
    "Se pueden recorrer todos los elementos de una tupla fácilmente con ciclos. De hecho, **se pueden recorrer igual que una lista**.\n",
    "\n",
    "---"
   ]
  },
  {
   "cell_type": "markdown",
   "id": "f344c30f",
   "metadata": {},
   "source": [
    "1. Por medio de **índices**: Si se hace por medio de índices, se puede hacer por medio de un `while` o un `for`."
   ]
  },
  {
   "cell_type": "code",
   "execution_count": null,
   "id": "135da665",
   "metadata": {},
   "outputs": [],
   "source": [
    "tupla = (1, 2, 3, 4, 5)\n",
    "for i in range(len(tupla)):\n",
    "    print(f'Índice {i}: {tupla[i]}')"
   ]
  },
  {
   "cell_type": "code",
   "execution_count": null,
   "id": "93db2a2f",
   "metadata": {},
   "outputs": [],
   "source": [
    "tupla = (1, 2, 3, 4, 5)\n",
    "contador = 0\n",
    "\n",
    "while contador < len(tupla):\n",
    "    print(f'Índice {contador}: {tupla[contador]}')\n",
    "    contador += 1"
   ]
  },
  {
   "cell_type": "markdown",
   "id": "525d47c0",
   "metadata": {},
   "source": [
    "2. Por medio de **colecciones**: Para ello, hay que usar un ciclo `for`."
   ]
  },
  {
   "cell_type": "code",
   "execution_count": null,
   "id": "efcedbd8",
   "metadata": {},
   "outputs": [],
   "source": [
    "tupla = (1, 2, 3, 4, 5)\n",
    "for elemento in tupla:\n",
    "    print(f'Elemento: {elemento}')"
   ]
  },
  {
   "cell_type": "markdown",
   "id": "aaa4c1cb",
   "metadata": {},
   "source": [
    "#### 🝊 Ejercicio: Coordenadas en el Plano\n",
    "\n",
    "Se tiene una lista de coordenadas en 2D, donde cada coordenada está representada como una tupla con dos valores: (x, y).\n",
    "\n",
    "Ejemplo de lista de coordenadas:\n",
    "\n",
    "```python\n",
    "coordenadas = [(3, 4), (1, 1), (0, 0), (5, 2), (-3, 3), (2, -1), (4, 5), (6, 7), (8, 9), (0, 1), (9, 0), (-1, 0), (-3, 0)]\n",
    "```\n",
    "\n",
    "- Cuente e imprima cuántas coordenadas están en cada cuadrante (I, II, III, IV) y cuántas están en los ejes o el origen.\n",
    "- Cree una nueva lista con solo las coordenadas que están en el primer cuadrante.\n",
    "\n",
    "---"
   ]
  },
  {
   "cell_type": "code",
   "execution_count": null,
   "id": "6f90dab3",
   "metadata": {},
   "outputs": [],
   "source": [
    "def analizar_coordenadas(\n",
    "    coordenadas: list[tuple[int, int]]\n",
    ") -> tuple[list[tuple[int, int]], list[int], int, int, int]:\n",
    "    \"\"\"\n",
    "    Analiza una lista de coordenadas en el plano cartesiano y clasifica\n",
    "    cuántas están en cada cuadrante, en los ejes o en el origen.\n",
    "\n",
    "    Args:\n",
    "        coordenadas (List[Tuple[int, int]]): Lista de tuplas con coordenadas (x, y).\n",
    "\n",
    "    Returns:\n",
    "        Tuple[List[Tuple[int, int]], List[int], int, int, int]: \n",
    "            - Lista de coordenadas en el primer cuadrante.\n",
    "            - Lista de cantidades por cuadrante [Q1, Q2, Q3, Q4].\n",
    "            - Cantidad de coordenadas sobre el eje X.\n",
    "            - Cantidad de coordenadas sobre el eje Y.\n",
    "            - Cantidad de coordenadas en el origen.\n",
    "    \"\"\"\n",
    "    primer_cuadrante = []\n",
    "    cantidades_por_cuadrante = [0, 0, 0, 0]  # Q1, Q2, Q3, Q4\n",
    "    cantidad_eje_x = 0\n",
    "    cantidad_eje_y = 0\n",
    "    cantidad_origen = 0\n",
    "\n",
    "    for x, y in coordenadas:\n",
    "        if x > 0 and y > 0:\n",
    "            primer_cuadrante.append((x, y))\n",
    "            cantidades_por_cuadrante[0] += 1\n",
    "        elif x < 0 and y > 0:\n",
    "            cantidades_por_cuadrante[1] += 1\n",
    "        elif x < 0 and y < 0:\n",
    "            cantidades_por_cuadrante[2] += 1\n",
    "        elif x > 0 and y < 0:\n",
    "            cantidades_por_cuadrante[3] += 1\n",
    "        elif x == 0 and y != 0:\n",
    "            cantidad_eje_y += 1\n",
    "        elif y == 0 and x != 0:\n",
    "            cantidad_eje_x += 1\n",
    "        elif x == 0 and y == 0:\n",
    "            cantidad_origen += 1\n",
    "\n",
    "    return primer_cuadrante, cantidades_por_cuadrante, cantidad_eje_x, cantidad_eje_y, cantidad_origen\n",
    "\n",
    "\n",
    "coordenadas = [(3, 4), (1, 1), (0, 0), (5, 2), (-3, 3), (2, -1), \n",
    "               (4, 5), (6, 7), (8, 9), (0, 1), (9, 0), (-1, 0), (-3, 0)]\n",
    "\n",
    "primer_cuadrante, cantidades, eje_x, eje_y, origen = analizar_coordenadas(coordenadas)\n",
    "print(f\"Coordenadas en el primer cuadrante: {primer_cuadrante}\")\n",
    "print(f\"Cantidades por cuadrante: {cantidades}\")\n",
    "print(f\"Sobre eje X: {eje_x}, sobre eje Y: {eje_y}\")\n",
    "print(f\"En el origen: {origen}\")"
   ]
  },
  {
   "cell_type": "markdown",
   "id": "8448c48f",
   "metadata": {},
   "source": [
    "---\n",
    "\n",
    "## 3. Diccionarios: estructura clave-valor, métodos básicos\n",
    "\n",
    "---\n",
    "\n",
    "Un **diccionario** es una colección **no ordenada** de pares **clave-valor**.\n",
    "\n",
    "Algunas propiedades de los diccionarios:\n",
    "\n",
    "* Son **dinámicos**: se pueden añadir o eliminar elementos.\n",
    "* Son **anidados**: un diccionario puede contener a otro diccionario en su campo value.\n",
    "* Son **mutables**: se pueden modificar sus elementos.\n",
    "\n",
    "**🧠 Analogía**: Un diccionario es como un diccionario de palabras, las claves son las palabras, y los valores son sus significados.\n",
    "\n",
    "---"
   ]
  },
  {
   "cell_type": "markdown",
   "id": "00b2f47d",
   "metadata": {},
   "source": [
    "### Creación\n",
    "\n",
    "Se crean con llaves `{}`, o la palabra `dict`. Para crear un diccionario en python puedes usar esta sintaxis:\n",
    "\n",
    "```python\n",
    "diccionario = {\n",
    "    clave_1: valor_1,\n",
    "    clave_2: valor_2,\n",
    "    ...\n",
    "    clave_n: valor_n\n",
    "}\n",
    "```\n",
    "\n",
    "**Nota**: ¡Las claves y valores pueden ser de distintos tipos!\n",
    "\n",
    "**✅ Regla para las claves**:\n",
    "* Las claves deben ser **inmutables** (hashables): pueden ser de tipos como int, float, str, tuple (si sus elementos también son inmutables), bool, etc.\n",
    "* No se pueden usar usar listas, diccionarios u otros objetos mutables como claves.\n",
    "\n",
    "---"
   ]
  },
  {
   "cell_type": "code",
   "execution_count": null,
   "id": "70337f0e",
   "metadata": {},
   "outputs": [],
   "source": [
    "persona = {\n",
    "  \"Nombre\": \"Sara\",\n",
    "  \"Edad\": 27,\n",
    "  \"Cedula\": 1_0234_0983\n",
    "}\n",
    "print(persona)"
   ]
  },
  {
   "cell_type": "markdown",
   "id": "448d2e62",
   "metadata": {},
   "source": [
    "Otra forma equivalente de crear un diccionario en Python es usando `dict()` e introduciendo los pares `clave: valor` entre paréntesis."
   ]
  },
  {
   "cell_type": "code",
   "execution_count": null,
   "id": "a59e0b67",
   "metadata": {},
   "outputs": [],
   "source": [
    "persona = dict([\n",
    "    ('Nombre', 'Sara'),\n",
    "    ('Edad', 27),\n",
    "    ('Cedula', 1_0234_0983),\n",
    "])\n",
    "print(persona)"
   ]
  },
  {
   "cell_type": "markdown",
   "id": "d9d214ea",
   "metadata": {},
   "source": [
    "También es posible asignar los valores directamente en `dict()`."
   ]
  },
  {
   "cell_type": "code",
   "execution_count": null,
   "id": "113f74fa",
   "metadata": {},
   "outputs": [],
   "source": [
    "persona = dict(\n",
    "    Nombre='Sara',\n",
    "    Edad=27,\n",
    "    Cedula=1_0234_0983\n",
    ")\n",
    "print(persona)"
   ]
  },
  {
   "cell_type": "markdown",
   "id": "f7f16f25",
   "metadata": {},
   "source": [
    "### Accesando diccionarios\n",
    "\n",
    "Se accede a sus elementos mediante un la **clave**, usando `[clave]`, o el método `get`. Esto es similar al **índice** usado en las listas o las tuplas, con la diferencia de que las claves pueden ser de cualquier tipo **inmutable**.\n",
    "\n",
    "Por ejemplo:\n",
    "```python\n",
    "definiciones = {\n",
    "    \"Uva\": \"Fruta de color morado que sabe muy bien\",\n",
    "    \"Carro\": \"Medio de transporte de cuatro ruedas\",\n",
    "    \"Lluvia\": \"Fenomeno natural que hace caer lluvia del cielo\"\n",
    "}\n",
    "\n",
    "print(definiciones[\"Uva\"])  # Fruta de color morado que sabe muy bien\n",
    "print(definiciones[\"Carro\"])  # Medio de transporte de cuatro ruedas\n",
    "```\n",
    "\n",
    "---"
   ]
  },
  {
   "cell_type": "code",
   "execution_count": null,
   "id": "18b1cd5e",
   "metadata": {},
   "outputs": [],
   "source": [
    "# Diccionario para almacenar la configuración de un motor\n",
    "config_motor = {\n",
    "    'velocidad': 5000,\n",
    "    'temperatura_max': 95.5,\n",
    "    'unidades': 'RPM',\n",
    "    'activo': True\n",
    "}\n",
    "\n",
    "# Acceder a un valor a través de su clave\n",
    "print(f'Velocidad configurada: {config_motor[\"velocidad\"]} {config_motor[\"unidades\"]}')\n",
    "print(f'Velocidad configurada: {config_motor.get(\"velocidad\")} {config_motor.get(\"unidades\")}')\n",
    "\n",
    "# Poner un valor por defecto si no se encuentra la clave\n",
    "print(f'Color configurado: {config_motor.get(\"color\", \"No especificado\")}')"
   ]
  },
  {
   "cell_type": "markdown",
   "id": "8dcc9302",
   "metadata": {},
   "source": [
    "#### 🆔 Ejercicio: Identificación\n",
    "\n",
    "Usted es el encargado del registro de personas en una institución.\n",
    "Su tarea consiste en desarrollar un programa en Python que permita almacenar los datos de las personas que se van a registrar.\n",
    "\n",
    "El programa debe:\n",
    "\n",
    "1. Preguntar al usuario cuántas personas (n) desea registrar.\n",
    "2. Para cada persona, solicitar la siguiente información:\n",
    "    -\tCédula\n",
    "\t-\tNombre\n",
    "\t-\tEdad\n",
    "3. Guardar los datos de cada persona en un diccionario, utilizando como claves: \"cedula\", \"nombre\" y \"edad\".\n",
    "4. Almacenar todos los diccionarios en una lista.\n",
    "5. Al finalizar el proceso, mostrar en pantalla la información de cada persona de manera clara y legible.\n",
    "\n",
    "Este es un ejemplo de la salida esperada:\n",
    "\n",
    "```txt\n",
    "¿Cuántas personas desea registrar? 2\n",
    "\n",
    "--- Persona 1 ---\n",
    "Ingrese la cédula: 12345\n",
    "Ingrese el nombre: Ana\n",
    "Ingrese la edad: 30\n",
    "\n",
    "--- Persona 2 ---\n",
    "Ingrese la cédula: 67890\n",
    "Ingrese el nombre: Luis\n",
    "Ingrese la edad: 25\n",
    "\n",
    "==== Resumen de Registros ====\n",
    "Cédula: 12345\n",
    "Nombre: Ana\n",
    "Edad: 30 años\n",
    "------------------------------\n",
    "Cédula: 67890\n",
    "Nombre: Luis\n",
    "Edad: 25 años\n",
    "------------------------------\n",
    "```\n",
    "\n",
    "---"
   ]
  },
  {
   "cell_type": "code",
   "execution_count": null,
   "id": "3ac2a847",
   "metadata": {},
   "outputs": [],
   "source": [
    "def registrar_personas() -> list[dict[str, str]]:\n",
    "    \"\"\"\n",
    "    Permite registrar múltiples personas y devuelve una lista con sus datos.\n",
    "\n",
    "    Cada persona tiene:\n",
    "        - 'cedula': str\n",
    "        - 'nombre': str\n",
    "        - 'edad': int\n",
    "\n",
    "    Returns:\n",
    "        List[Dict[str, str]]: Lista de diccionarios con la información de cada persona.\n",
    "    \"\"\"\n",
    "    lista_personas = []\n",
    "\n",
    "    numero_de_personas = int(input(\"¿Cuántas personas desea registrar? \"))\n",
    "    print()\n",
    "\n",
    "    for i in range(numero_de_personas):\n",
    "        print(f\"--- Persona {i + 1} ---\")\n",
    "        cedula = input(\"Ingrese la cédula de la persona: \")\n",
    "        nombre = input(\"Ingrese el nombre de la persona: \")\n",
    "        edad = int(input(\"Ingrese la edad de la persona: \"))\n",
    "\n",
    "        persona = {\n",
    "            'cedula': cedula,\n",
    "            'nombre': nombre,\n",
    "            'edad': edad\n",
    "        }\n",
    "\n",
    "        lista_personas.append(persona)\n",
    "\n",
    "    return lista_personas\n",
    "\n",
    "\n",
    "def mostrar_resumen(lista_personas: list[dict[str, str]]) -> None:\n",
    "    \"\"\"\n",
    "    Muestra en pantalla un resumen de las personas registradas.\n",
    "\n",
    "    Args:\n",
    "        lista_personas (List[Dict[str, str]]): Lista de personas registradas.\n",
    "    \"\"\"\n",
    "    print()\n",
    "    print(\"==== Resumen de Registros ====\")\n",
    "    for persona in lista_personas:\n",
    "        print(f\"Cédula: {persona['cedula']}\")\n",
    "        print(f\"Nombre: {persona['nombre']}\")\n",
    "        print(f\"Edad: {persona['edad']} años\")\n",
    "        print(\"------------------------------\")\n",
    "\n",
    "\n",
    "personas = registrar_personas()\n",
    "mostrar_resumen(personas)"
   ]
  },
  {
   "cell_type": "markdown",
   "id": "014fe739",
   "metadata": {},
   "source": [
    "### Métodos básicos\n",
    "\n",
    "Los diccionarios en Python tienen varios métodos útiles para modificar y consultar sus elementos:\n",
    "\n",
    "- `.keys()`: Devuelve una vista con todas las claves del diccionario.\n",
    "- `.values()`: Devuelve una vista con todos los valores del diccionario.\n",
    "- `.items()`: Devuelve una vista de pares (clave, valor).\n",
    "- `.get(clave, valor_por_defecto)`: Devuelve el valor asociado a la clave, o el valor por defecto si la clave no existe.\n",
    "- `.pop(clave)`: Elimina la clave y devuelve su valor.\n",
    "- `.update(otro_diccionario)`: Actualiza el diccionario con los pares de otro diccionario.\n",
    "- `.clear()`: Elimina todos los elementos del diccionario.\n",
    "- `.copy()`: Esto hace una copia superficial del diccionario, es decir, crea un nuevo diccionario con las mismas claves y valores, pero no copia los objetos anidados si los hubiera.\n",
    "\n",
    "Revise la lista completa en la documentación oficial de [Python](https://docs.python.org/3.13/tutorial/datastructures.html).\n",
    "\n",
    "---"
   ]
  },
  {
   "cell_type": "code",
   "execution_count": null,
   "id": "50d83eb0",
   "metadata": {},
   "outputs": [],
   "source": [
    "# .keys()\n",
    "config_motor = {\n",
    "    'velocidad': 5000,\n",
    "    'temperatura_max': 95.5,\n",
    "    'unidades': 'RPM',\n",
    "    'activo': True\n",
    "}\n",
    "print(f'Claves del diccionario: {config_motor.keys()}')"
   ]
  },
  {
   "cell_type": "code",
   "execution_count": null,
   "id": "5e945c13",
   "metadata": {},
   "outputs": [],
   "source": [
    "# .values()\n",
    "print(f'Valores del diccionario: {config_motor.values()}')"
   ]
  },
  {
   "cell_type": "code",
   "execution_count": null,
   "id": "df421570",
   "metadata": {},
   "outputs": [],
   "source": [
    "# .items()\n",
    "print(f'Pares del diccionario: {config_motor.items()}')"
   ]
  },
  {
   "cell_type": "code",
   "execution_count": null,
   "id": "ad4b67d1",
   "metadata": {},
   "outputs": [],
   "source": [
    "# .get(clave, valor_por_defecto)\n",
    "print(f'Valor de \"velocidad\": {config_motor.get(\"velocidad\", \"No disponible\")}')\n",
    "print(f'Valor de \"presion\": {config_motor.get(\"presion\", \"No disponible\")}')\n",
    "print(f'Valor de \"activo\": {config_motor.get(\"activo\", \"No disponible\")}')\n",
    "print(f'Valor de \"inactivo\": {config_motor.get(\"inactivo\", \"No disponible\")}')"
   ]
  },
  {
   "cell_type": "code",
   "execution_count": null,
   "id": "a77bf037",
   "metadata": {},
   "outputs": [],
   "source": [
    "# .pop(clave)\n",
    "config_motor.pop('velocidad')\n",
    "print(f'Configuración del motor después de eliminar \"velocidad\": {config_motor}')"
   ]
  },
  {
   "cell_type": "code",
   "execution_count": null,
   "id": "499ece5c",
   "metadata": {},
   "outputs": [],
   "source": [
    "# .update(otro_diccionario)\n",
    "otro_config = {\n",
    "    'presion': 101.3,\n",
    "    'activo': False\n",
    "}\n",
    "config_motor.update(otro_config)\n",
    "print(f'Configuración del motor después de actualizar: {config_motor}')"
   ]
  },
  {
   "cell_type": "code",
   "execution_count": null,
   "id": "e64d61a7",
   "metadata": {},
   "outputs": [],
   "source": [
    "# .clear()\n",
    "config_motor.clear()\n",
    "print(f'Configuración del motor después de limpiar: {config_motor}')"
   ]
  },
  {
   "cell_type": "code",
   "execution_count": null,
   "id": "a2fd6c53",
   "metadata": {},
   "outputs": [],
   "source": [
    "# .copy()\n",
    "copia_config_motor = config_motor.copy()\n",
    "copia_config_motor['velocidad'] = 23109\n",
    "print(f'Configuración del motor original: {config_motor}')\n",
    "print(f'Configuración del motor copiada: {copia_config_motor}')"
   ]
  },
  {
   "cell_type": "markdown",
   "id": "f21b44a2",
   "metadata": {},
   "source": [
    "Para agregar un par de `clave: valor` a un diccionario, se puede poner la clave que se desea con `[clave]` y luego se usa el operador de asignación `=`."
   ]
  },
  {
   "cell_type": "code",
   "execution_count": null,
   "id": "f572a428",
   "metadata": {},
   "outputs": [],
   "source": [
    "config_motor[\"marca\"] = \"MotorX\"\n",
    "print(f'Configuración del motor después de cambiar la marca: {config_motor}')"
   ]
  },
  {
   "cell_type": "markdown",
   "id": "96746279",
   "metadata": {},
   "source": [
    "Así mismo, es muy común cambiar el elemento de alguna clave por algún otro valor. Esto se logra accediendo a la clave con `[clave]` y luego usando el operador de asignación `=`."
   ]
  },
  {
   "cell_type": "code",
   "execution_count": null,
   "id": "36092bdf",
   "metadata": {},
   "outputs": [],
   "source": [
    "config_motor[\"marca\"] = \"MotorY\"\n",
    "print(f'Configuración del motor después de cambiar la marca: {config_motor}')"
   ]
  },
  {
   "cell_type": "markdown",
   "id": "420685ff",
   "metadata": {},
   "source": [
    "Finalmente, podemos contar la cantidad de pares de `clave: valor` de un diccionario fácilmente con `len`."
   ]
  },
  {
   "cell_type": "code",
   "execution_count": null,
   "id": "577bd195",
   "metadata": {},
   "outputs": [],
   "source": [
    "config_motor = {\n",
    "    'velocidad': 5000,\n",
    "    'temperatura_max': 95.5,\n",
    "    'unidades': 'RPM',\n",
    "    'activo': True\n",
    "}\n",
    "print(f'Cantidad de elementos en el diccionario: {len(config_motor)}')  # 4"
   ]
  },
  {
   "cell_type": "markdown",
   "id": "855d415b",
   "metadata": {},
   "source": [
    "Y, se puede eliminar una clave y sus items con la palabra reservada `del`."
   ]
  },
  {
   "cell_type": "code",
   "execution_count": null,
   "id": "ceccbe23",
   "metadata": {},
   "outputs": [],
   "source": [
    "del config_motor['activo']\n",
    "print(f'Cantidad de elementos en el diccionario después de eliminar \"activo\": {len(config_motor)}')  # 3"
   ]
  },
  {
   "cell_type": "markdown",
   "id": "e1112b42",
   "metadata": {},
   "source": [
    "#### 😶 Ejercicio: Palabras\n",
    "\n",
    "Escriba un programa que cuente la frecuencia de cada palabra en un texto ingresado por el usuario. Es decir, si el texto es 'corra, corra, que hay que llegar primeros', su programa debe imprimir que hay 2 palabras de `corra`, 1 de `,`, 2 de `que`, etc.\n",
    "\n",
    "---"
   ]
  },
  {
   "cell_type": "code",
   "execution_count": null,
   "id": "f4d2246a",
   "metadata": {},
   "outputs": [],
   "source": [
    "def contar_frecuencia_palabras(oracion: str) -> dict[str, int]:\n",
    "    \"\"\"\n",
    "    Cuenta la frecuencia de cada palabra en una oración.\n",
    "\n",
    "    Args:\n",
    "        oracion (str): La oración a analizar.\n",
    "\n",
    "    Returns:\n",
    "        dict[str, int]: Diccionario donde las claves son palabras\n",
    "                        y los valores son la cantidad de veces que aparecen.\n",
    "    \"\"\"\n",
    "    palabras = oracion.split(' ')\n",
    "    diccionario_palabras = {}\n",
    "\n",
    "    for palabra in palabras:\n",
    "        if palabra in diccionario_palabras:\n",
    "            diccionario_palabras[palabra] += 1\n",
    "        else:\n",
    "            diccionario_palabras[palabra] = 1\n",
    "\n",
    "    return diccionario_palabras\n",
    "\n",
    "\n",
    "oracion = input(\"Ingrese una oración: \")\n",
    "frecuencia = contar_frecuencia_palabras(oracion)\n",
    "\n",
    "print(\"Frecuencia de palabras:\")\n",
    "for palabra, cantidad in frecuencia.items():\n",
    "    print(f'{palabra}: {cantidad}')"
   ]
  },
  {
   "cell_type": "markdown",
   "id": "4f258fae",
   "metadata": {},
   "source": [
    "### Iterando un diccionario\n",
    "\n",
    "Puedes recorrer todos los elementos de un diccionario fácilmente con ciclos.\n",
    "\n",
    "---"
   ]
  },
  {
   "cell_type": "markdown",
   "id": "f647b32a",
   "metadata": {},
   "source": [
    "1. Por medio de **claves**: Hay que usar un ciclo `for`."
   ]
  },
  {
   "cell_type": "code",
   "execution_count": null,
   "id": "563b2f68",
   "metadata": {},
   "outputs": [],
   "source": [
    "vestimenta = {\n",
    "    'camisa': 'azul',\n",
    "    'pantalones': 'negros',\n",
    "    'zapatos': 'marrones'\n",
    "}\n",
    "\n",
    "for clave in vestimenta:\n",
    "    print(f\"{clave}: {vestimenta[clave]}\")"
   ]
  },
  {
   "cell_type": "markdown",
   "id": "7cad3be1",
   "metadata": {},
   "source": [
    "2. Por medio de `.items()`: Hay que usar un ciclo `for`. `.items()` devuelve una lista de tuplas, conteniendo cada par de clave y valor del diccionario."
   ]
  },
  {
   "cell_type": "code",
   "execution_count": null,
   "id": "93d5c9f1",
   "metadata": {},
   "outputs": [],
   "source": [
    "vestimenta = {\n",
    "    'camisa': 'azul',\n",
    "    'pantalones': 'negros',\n",
    "    'zapatos': 'marrones'\n",
    "}\n",
    "\n",
    "for clave, valor in vestimenta.items():\n",
    "    print(f\"{clave}: {valor}\")"
   ]
  },
  {
   "cell_type": "markdown",
   "id": "1e221ea6",
   "metadata": {},
   "source": [
    "#### 📁 Ejercicio: Acceso anidado\n",
    "\n",
    "En una empresa, cada empleado tiene información personal y números de teléfono de distintos tipos: casa, celular y trabajo. Dada la lista de empleados con su información de contacto, imprima el último número de teléfono de trabajo registrado para cada empleado:\n",
    "\n",
    "```python\n",
    "personas = [\n",
    "    {\n",
    "        \"Nombre\": \"Ana\",\n",
    "        \"Edad\": 2,\n",
    "        \"Residencia\": \"Heredia\",\n",
    "        \"Telefonos\": {\n",
    "            \"Casa\": \"2233-0022\", \n",
    "            \"Celular\": \"8793-9212\", \n",
    "            \"Trabajo\": [\"2222-3293\", \"2123-0932\"]\n",
    "        }\n",
    "    },\n",
    "    {\n",
    "        \"Nombre\": \"Luis\",\n",
    "        \"Edad\": 30,\n",
    "        \"Residencia\": \"Cartago\",\n",
    "        \"Telefonos\": {\n",
    "            \"Casa\": \"2456-7890\",\n",
    "            \"Celular\": \"8888-1111\",\n",
    "            \"Trabajo\": [\"2100-1122\"]\n",
    "        }\n",
    "    }\n",
    "]\n",
    "```\n",
    "\n",
    "---"
   ]
  },
  {
   "cell_type": "code",
   "execution_count": null,
   "id": "4317ccd1",
   "metadata": {},
   "outputs": [],
   "source": [
    "def ultimos_telefonos_trabajo(personas: list[dict]) -> list[str]:\n",
    "    \"\"\"\n",
    "    Devuelve el último número de teléfono de trabajo de cada persona en la lista.\n",
    "\n",
    "    Args:\n",
    "        personas (List[Dict]): Lista de diccionarios que representan personas. \n",
    "            Cada diccionario debe contener la clave \"Telefonos\" con subclave \"Trabajo\".\n",
    "\n",
    "    Returns:\n",
    "        List[str]: Lista de los últimos teléfonos de trabajo de cada persona.\n",
    "    \"\"\"\n",
    "    telefonos_trabajo = []\n",
    "\n",
    "    for persona in personas:\n",
    "        # Accedemos al último teléfono de trabajo\n",
    "        telefono = persona[\"Telefonos\"][\"Trabajo\"][-1]\n",
    "        telefonos_trabajo.append(telefono)\n",
    "\n",
    "    return telefonos_trabajo\n",
    "\n",
    "\n",
    "personas = [\n",
    "    {\n",
    "        \"Nombre\": \"Ana\",\n",
    "        \"Edad\": 2,\n",
    "        \"Residencia\": \"Heredia\",\n",
    "        \"Telefonos\": {\n",
    "            \"Casa\": \"2233-0022\", \n",
    "            \"Celular\": \"8793-9212\", \n",
    "            \"Trabajo\": [\"2222-3293\", \"2123-0932\"]\n",
    "        }\n",
    "    },\n",
    "    {\n",
    "        \"Nombre\": \"Luis\",\n",
    "        \"Edad\": 30,\n",
    "        \"Residencia\": \"Cartago\",\n",
    "        \"Telefonos\": {\n",
    "            \"Casa\": \"2456-7890\",\n",
    "            \"Celular\": \"8888-1111\",\n",
    "            \"Trabajo\": [\"2100-1122\"]\n",
    "        }\n",
    "    }\n",
    "]\n",
    "\n",
    "telefonos = ultimos_telefonos_trabajo(personas)\n",
    "for persona, telefono in zip(personas, telefonos):\n",
    "    print(f\"Persona: {persona['Nombre']}, Teléfono de trabajo: {telefono}\")"
   ]
  },
  {
   "cell_type": "markdown",
   "id": "3a771bb0",
   "metadata": {},
   "source": [
    "---\n",
    "\n",
    "## 4. Conjuntos: estructura de valores únicos, métodos básicos\n",
    "\n",
    "---\n",
    "\n",
    "Un **conjunto** es una colección **no ordenada** de elementos **únicos**.\n",
    "\n",
    "Algunas propiedades de los conjuntos son:\n",
    "\n",
    "* Son **no ordenados**: no se puede estar seguro del orden de los elementos.\n",
    "* Son **únicos**: no puede haber elementos duplicados. Si se intenta agregar un elemento que ya existe, simplemente se ignora.\n",
    "* Son **mutables y dinámicos**: se pueden agregar y eliminar elementos. Pero, no se puede modificar sus elementos porque **no tienen posiciones fijas**.\n",
    "\n",
    "**🧠 Analogía**: Una colección de calcomonías únicos. Si le regalan una calcomonía que ya tiene, su colección no cambia de tamaño.\n",
    "\n",
    "---"
   ]
  },
  {
   "cell_type": "code",
   "execution_count": null,
   "id": "7163792e",
   "metadata": {},
   "outputs": [],
   "source": [
    "conjunto = {1, 2, 3, 4, 5}\n",
    "print(f'Conjunto original: {conjunto}')"
   ]
  },
  {
   "cell_type": "code",
   "execution_count": null,
   "id": "02ff8eec",
   "metadata": {},
   "outputs": [],
   "source": [
    "conjunto_combinado = {1, \"dos\", 3.0, True}\n",
    "print(f'Conjunto combinado: {conjunto_combinado}')"
   ]
  },
  {
   "cell_type": "markdown",
   "id": "88bb4be9",
   "metadata": {},
   "source": [
    "También, es posible crear un conjunto con `set()` y una lista de elementos."
   ]
  },
  {
   "cell_type": "code",
   "execution_count": null,
   "id": "7cd231b2",
   "metadata": {},
   "outputs": [],
   "source": [
    "conjunto = set([1, 2, 3, 4, 5, 5])\n",
    "print(f'Conjunto creado con set(): {conjunto}')  # Ojo, el 5 solo se agrega una vez porque los conjuntos no permiten duplicados"
   ]
  },
  {
   "cell_type": "markdown",
   "id": "69b875e6",
   "metadata": {},
   "source": [
    "### Indexación de conjuntos\n",
    "\n",
    "Los conjuntos (set) en Python **no se pueden indexar**, porque **no tienen orden ni posiciones fijas**.\n",
    "\n",
    "---"
   ]
  },
  {
   "cell_type": "code",
   "execution_count": null,
   "id": "aabc01fc",
   "metadata": {},
   "outputs": [],
   "source": [
    "try:\n",
    "    conjunto = {1, 2, 3, 4, 5}\n",
    "    print(conjunto[0])  # Intento de indexar un conjunto, lo cual no es válido\n",
    "\n",
    "except TypeError as e:\n",
    "    print(f'Error: {e}')"
   ]
  },
  {
   "cell_type": "markdown",
   "id": "c1f896e7",
   "metadata": {},
   "source": [
    "### Métodos básicos de conjuntos\n",
    "\n",
    "Los conjuntos en Python tienen varios métodos útiles para trabajar con elementos únicos:\n",
    "\n",
    "- `.add(elemento)`: Agrega un elemento al conjunto.\n",
    "- `.remove(elemento)`: Elimina un elemento (lanza error si no existe).\n",
    "- `.discard(elemento)`: Elimina un elemento si existe (no lanza error si no está).\n",
    "- `.pop()`: Elimina y devuelve un elemento arbitrario del conjunto.\n",
    "- `.clear()`: Elimina todos los elementos del conjunto.\n",
    "- `.update(otro_conjunto)`: Actualiza un conjunto para agregar los elementos de otro conjunto.\n",
    "- `.union(otro_conjunto)`: Devuelve un nuevo conjunto con todos los elementos de ambos conjuntos.\n",
    "- `.intersection(otro_conjunto)`: Devuelve un nuevo conjunto con los elementos comunes.\n",
    "- `.difference(otro_conjunto)`: Devuelve un nuevo conjunto con los elementos que están en el primero pero no en el segundo.\n",
    "- `.issubset(otro_conjunto)`: Devuelve True si el conjunto es subconjunto de otro.\n",
    "- `.issuperset(otro_conjunto)`: Devuelve True si el conjunto es superconjunto de otro.\n",
    "\n",
    "Revise la lista completa en la documentación oficial de [Python](https://docs.python.org/3.13/tutorial/datastructures.html).\n",
    "\n",
    "---"
   ]
  },
  {
   "cell_type": "code",
   "execution_count": null,
   "id": "70bf1d5c",
   "metadata": {},
   "outputs": [],
   "source": [
    "# .add()\n",
    "conjunto = {1, 2, 3}\n",
    "conjunto.add(4)\n",
    "print('Después de add(4):', conjunto)"
   ]
  },
  {
   "cell_type": "code",
   "execution_count": null,
   "id": "34076f8d",
   "metadata": {},
   "outputs": [],
   "source": [
    "# .remove()\n",
    "conjunto.remove(2)\n",
    "print('Después de remove(2):', conjunto)"
   ]
  },
  {
   "cell_type": "code",
   "execution_count": null,
   "id": "f4dad787",
   "metadata": {},
   "outputs": [],
   "source": [
    "# .discard()\n",
    "conjunto.discard(10)  # No lanza error si el elemento no existe\n",
    "print('Después de discard(10):', conjunto)"
   ]
  },
  {
   "cell_type": "code",
   "execution_count": null,
   "id": "1cb7e599",
   "metadata": {},
   "outputs": [],
   "source": [
    "# .pop()\n",
    "elemento = conjunto.pop()  # Elimina y retorna un elemento arbitrario\n",
    "print('Después de pop():', conjunto, '| Elemento eliminado:', elemento)"
   ]
  },
  {
   "cell_type": "code",
   "execution_count": null,
   "id": "a5b2e52e",
   "metadata": {},
   "outputs": [],
   "source": [
    "# .clear()\n",
    "conjunto.clear()\n",
    "print('Después de clear():', conjunto)"
   ]
  },
  {
   "cell_type": "code",
   "execution_count": null,
   "id": "21eba258",
   "metadata": {},
   "outputs": [],
   "source": [
    "# .update()\n",
    "conjunto.update({5, 6, 7})\n",
    "print('Después de update({5, 6, 7}):', conjunto)"
   ]
  },
  {
   "cell_type": "code",
   "execution_count": null,
   "id": "fafdd044",
   "metadata": {},
   "outputs": [],
   "source": [
    "a = {1, 2, 3}\n",
    "b = {3, 4, 5}"
   ]
  },
  {
   "cell_type": "code",
   "execution_count": null,
   "id": "e5830fcf",
   "metadata": {},
   "outputs": [],
   "source": [
    "# .union()\n",
    "print('a.union(b):', a.union(b))\n",
    "print('a | b:', a | b)  # Otra forma de hacer la unión"
   ]
  },
  {
   "cell_type": "code",
   "execution_count": null,
   "id": "2b67840b",
   "metadata": {},
   "outputs": [],
   "source": [
    "# .intersection()\n",
    "print('a.intersection(b):', a.intersection(b))\n",
    "print('a & b:', a & b)  # Otra forma de hacer la intersección"
   ]
  },
  {
   "cell_type": "code",
   "execution_count": null,
   "id": "915d726a",
   "metadata": {},
   "outputs": [],
   "source": [
    "# .difference()\n",
    "print('a.difference(b):', a.difference(b))\n",
    "print('a - b:', a - b)  # Otra forma de hacer la diferencia"
   ]
  },
  {
   "cell_type": "code",
   "execution_count": null,
   "id": "bac96db0",
   "metadata": {},
   "outputs": [],
   "source": [
    "# .issubset()\n",
    "print('{1, 2}.issubset(a):', {1, 2}.issubset(a))"
   ]
  },
  {
   "cell_type": "code",
   "execution_count": null,
   "id": "17e93b29",
   "metadata": {},
   "outputs": [],
   "source": [
    "# .issuperset()\n",
    "print('a.issuperset({1, 2}):', a.issuperset({1, 2}))"
   ]
  },
  {
   "cell_type": "markdown",
   "id": "604cb756",
   "metadata": {},
   "source": [
    "Finalmente, podemos contar la cantidad de elementos de un conjunto fácilmente con `len`."
   ]
  },
  {
   "cell_type": "code",
   "execution_count": null,
   "id": "99a0bb04",
   "metadata": {},
   "outputs": [],
   "source": [
    "print(f'Cantidad de elementos en el conjunto: {len(a)}')"
   ]
  },
  {
   "cell_type": "markdown",
   "id": "0ab225d9",
   "metadata": {},
   "source": [
    "#### 👷‍♀️ Ejercicio: Encontrar ingenieros\n",
    "\n",
    "Suponga que usted trabaja en una empresa de ingeniería civil que gestiona proyectos de construcción. Cada proyecto tiene un conjunto de supervisores o ingenieros asignados, y usted necesita analizar estos conjuntos para optimizar la asignación de personal y la coordinación de obra.\n",
    "\n",
    "Dadas las listas de ingenieros asignados a tres proyectos de construcción diferentes, realice las siguientes tareas:\n",
    "\n",
    "1.\t**Ingenieros involucrados en todos los proyectos**:\n",
    "Identifique a los ingenieros que participan en los tres proyectos, de manera que usted pueda evaluar su carga de trabajo y disponibilidad para nuevas tareas.\n",
    "\n",
    "2.\t**Ingenieros exclusivos de un proyecto**:\n",
    "Encuentre a los ingenieros que solo trabajan en un proyecto específico y no participan en los demás, útil para asignaciones especializadas o para evitar sobrecarga en un proyecto determinado.\n",
    "\n",
    "3.\t**Total de ingenieros únicos**:\n",
    "Determine el número total de ingenieros distintos involucrados en todos los proyectos, lo que le permitirá dimensionar correctamente los recursos humanos para la empresa.\n",
    "\n",
    "Tome esta como la lista de ingenieros asignados en cada proyecto:\n",
    "\n",
    "- **Proyecto 1:** `Ing. Pérez`, `Ing. Gómez`, `Ing. Martínez`, `Ing. López`\n",
    "- **Proyecto 2:** `Ing. Gómez`, `Ing. Torres`, `Ing. López`, `Ing. Ramírez`\n",
    "- **Proyecto 3:** `Ing. Pérez`, `Ing. López`, `Ing. Ramírez`, `Ing. Sánchez`"
   ]
  },
  {
   "cell_type": "markdown",
   "id": "32476cef",
   "metadata": {},
   "source": [
    "---"
   ]
  },
  {
   "cell_type": "code",
   "execution_count": null,
   "id": "a89582ec",
   "metadata": {},
   "outputs": [],
   "source": [
    "def obtener_integrantes_comunes(\n",
    "    proyecto_1: set[str], \n",
    "    proyecto_2: set[str], \n",
    "    proyecto_3: set[str]\n",
    ") -> set[str]:\n",
    "    \"\"\"\n",
    "    Devuelve los integrantes que están en los tres proyectos.\n",
    "    \"\"\"\n",
    "    return proyecto_1 & proyecto_2 & proyecto_3\n",
    "\n",
    "\n",
    "def obtener_integrantes_exclusivos(\n",
    "    proyecto_1: set[str], \n",
    "    proyecto_2: set[str], \n",
    "    proyecto_3: set[str]\n",
    ") -> set[str]:\n",
    "    \"\"\"\n",
    "    Devuelve los integrantes que están solo en un proyecto (exclusivos).\n",
    "    \"\"\"\n",
    "    exclusivos_1 = proyecto_1 - (proyecto_2 | proyecto_3)\n",
    "    exclusivos_2 = proyecto_2 - (proyecto_1 | proyecto_3)\n",
    "    exclusivos_3 = proyecto_3 - (proyecto_1 | proyecto_2)\n",
    "    return exclusivos_1 | exclusivos_2 | exclusivos_3\n",
    "\n",
    "\n",
    "def obtener_total_unicos(\n",
    "    proyecto_1: set[str], \n",
    "    proyecto_2: set[str], \n",
    "    proyecto_3: set[str]\n",
    ") -> int:\n",
    "    \"\"\"\n",
    "    Devuelve el total de integrantes que están en todos los proyectos.\n",
    "    \"\"\"\n",
    "    return len(obtener_integrantes_comunes(proyecto_1, proyecto_2, proyecto_3))\n",
    "\n",
    "proyecto_1 = {'Ing. Pérez', 'Ing. Gómez', 'Ing. Martínez', 'Ing. López'}\n",
    "proyecto_2 = {'Ing. Gómez', 'Ing. Torres', 'Ing. López', 'Ing. Ramírez'}\n",
    "proyecto_3 = {'Ing. Pérez', 'Ing. López', 'Ing. Ramírez', 'Ing. Sánchez'}\n",
    "\n",
    "comunes = obtener_integrantes_comunes(proyecto_1, proyecto_2, proyecto_3)\n",
    "exclusivos = obtener_integrantes_exclusivos(proyecto_1, proyecto_2, proyecto_3)\n",
    "total = obtener_total_unicos(proyecto_1, proyecto_2, proyecto_3)\n",
    "\n",
    "print(f'Integrantes en común: {comunes}')\n",
    "print(f'Integrantes exclusivos en total: {exclusivos}')\n",
    "print(f'Total de integrantes únicos: {total}')"
   ]
  },
  {
   "cell_type": "markdown",
   "id": "fb73cec4",
   "metadata": {},
   "source": [
    "### Iterando un conjunto\n",
    "\n",
    "Puedes recorrer todos los elementos de un conjunto fácilmente con ciclos.\n",
    "\n",
    "---"
   ]
  },
  {
   "cell_type": "code",
   "execution_count": null,
   "id": "2fb1a592",
   "metadata": {},
   "outputs": [],
   "source": [
    "frutas = {\"manzana\", \"banana\", \"pera\"}\n",
    "\n",
    "for fruta in frutas:\n",
    "    print(fruta)"
   ]
  },
  {
   "cell_type": "markdown",
   "id": "0aef154a",
   "metadata": {},
   "source": [
    "#### 📚 Ejercicio: Libros leidos\n",
    "\n",
    "Una biblioteca lleva el registro de los libros que leen los miembros de un club de lectura. Cada miembro está representado por un diccionario con su nombre, edad y un conjunto de libros que ha leído:\n",
    "\n",
    "```python\n",
    "club = [\n",
    "    {\n",
    "        \"nombre\": \"Ana\",\n",
    "        \"edad\": 25,\n",
    "        \"libros\": {\"1984\", \"Cien años de soledad\", \"El Principito\"}\n",
    "    },\n",
    "    {\n",
    "        \"nombre\": \"Luis\",\n",
    "        \"edad\": 30,\n",
    "        \"libros\": {\"1984\", \"Fahrenheit 451\", \"El Hobbit\"}\n",
    "    },\n",
    "    {\n",
    "        \"nombre\": \"María\",\n",
    "        \"edad\": 22,\n",
    "        \"libros\": {\"Cien años de soledad\", \"El Hobbit\", \"Don Quijote\"}\n",
    "    }\n",
    "]\n",
    "```\n",
    "\n",
    "Cree un conjunto con todos los libros únicos leídos por el club.\n",
    "\n",
    "---"
   ]
  },
  {
   "cell_type": "code",
   "execution_count": null,
   "id": "28d31efe",
   "metadata": {},
   "outputs": [],
   "source": [
    "club = [\n",
    "    {\n",
    "        \"nombre\": \"Ana\",\n",
    "        \"edad\": 25,\n",
    "        \"libros\": {\"1984\", \"Cien años de soledad\", \"El Principito\"}\n",
    "    },\n",
    "    {\n",
    "        \"nombre\": \"Luis\",\n",
    "        \"edad\": 30,\n",
    "        \"libros\": {\"1984\", \"Fahrenheit 451\", \"El Hobbit\"}\n",
    "    },\n",
    "    {\n",
    "        \"nombre\": \"María\",\n",
    "        \"edad\": 22,\n",
    "        \"libros\": {\"Cien años de soledad\", \"El Hobbit\", \"Don Quijote\"}\n",
    "    }\n",
    "]\n",
    "\n",
    "libros_unicos = set()\n",
    "\n",
    "for miembro in club:\n",
    "    libros_unicos.update(miembro[\"libros\"])"
   ]
  },
  {
   "cell_type": "markdown",
   "id": "76a3f897",
   "metadata": {},
   "source": [
    "---\n",
    "\n",
    "## 5. Aplicaciones de cada estructura\n",
    "\n",
    "---\n",
    "\n",
    "Dependiendo de lo que se esté haciendo, puede ser más conveniente una estructura u otra.\n",
    "\n",
    "| Estructura | Caso de Uso Principal | Ejemplo en Procesamiento de Datos |\n",
    "| :--- | :--- | :--- |\n",
    "| **Lista** 📝 | Una colección ordenada de elementos que necesitas modificar. | Almacenar una serie temporal de lecturas de un sensor, que puedes ordenar o filtrar. |\n",
    "| **Tupla** 📦 | Una colección ordenada de elementos que NO deben cambiar. Ideal para devolver múltiples valores de una función. | Almacenar coordenadas (lat, lon), colores (R, G, B) o registros fijos de una base de datos. |\n",
    "| **Diccionario** 🔑 | Para almacenar relaciones lógicas entre pares de datos (clave-valor). Búsqueda rápida por clave. | Un perfil de usuario, la configuración de un sistema, o los metadatos de un archivo. |\n",
    "| **Conjunto** 🎯 | Para almacenar elementos únicos y realizar operaciones matemáticas de conjuntos (unión, intersección). | Eliminar duplicados de una lista de datos, o comprobar la pertenencia de un elemento de forma muy rápida. |\n",
    "\n",
    "---"
   ]
  },
  {
   "cell_type": "markdown",
   "id": "38af7fc0",
   "metadata": {},
   "source": [
    "### Operaciones en común\n",
    "\n",
    "Las principales estructuras de datos en Python (listas, tuplas, diccionarios y conjuntos) comparten varias operaciones y funciones útiles que facilitan su manipulación y recorrido. Algunas de las más importantes son:\n",
    "\n",
    "- **`for`**: Se puede iterar sobre los elementos de cualquier estructura de datos con un ciclo `for`.\n",
    "- **`enumerate()`**: Permite obtener tanto el índice como el valor de cada elemento al recorrer una estructura secuencial (como listas o tuplas).\n",
    "    - Ejemplo:\n",
    "      ```python\n",
    "      for i, valor in enumerate(lista):\n",
    "          print(i, valor)\n",
    "      ```\n",
    "- **`zip()`**: Permite recorrer dos o más estructuras de datos en paralelo, emparejando sus elementos.\n",
    "    - Ejemplo:\n",
    "      ```python\n",
    "      for nombre, edad in zip(nombres, edades):\n",
    "          print(nombre, edad)\n",
    "      ```\n",
    "- **`len()`**: Devuelve la cantidad de elementos de la estructura.\n",
    "- **`in`**: Permite verificar si un elemento está presente en la estructura.\n",
    "- **Conversión entre estructuras**: Se puede convertir entre listas, tuplas, conjuntos y diccionarios usando las funciones `list()`, `tuple()`, `set()`, y `dict()`.\n",
    "\n",
    "Estas operaciones hacen que trabajar con datos en Python sea flexible y eficiente, permitiendo escribir código más claro y compacto.\n",
    "\n",
    "---"
   ]
  },
  {
   "cell_type": "markdown",
   "id": "0ac1c8b9",
   "metadata": {},
   "source": [
    "#### 📊 Ejercicio: ¿Qué estructura de datos?\n",
    "\n",
    "Lea cada enunciado y elige la estructura más adecuada:\n",
    "**list, tuple, dict, set**\n",
    "\n",
    "1. Se quiere almacenar las temperaturas registradas durante una semana, y se necesita calcular promedios y ordenar los datos.\n",
    "\n",
    "2. Una función devuelve las dimensiones (ancho, alto) de una imagen, y no deben modificarse accidentalmente.\n",
    "\n",
    "3. Se debe guardar la cantidad de productos disponibles en una tienda, donde se puede buscar por nombre del producto.\n",
    "\n",
    "4. Se tiene una lista con muchos correos electrónicos, pero se necesita eliminar los duplicados rápidamente.\n",
    "\n",
    "5. Se necesita mantener una colección de colores (como (255, 0, 0)) asociados a nombres como \"rojo\" o \"verde\".\n",
    "\n",
    "6. Se quiere saber qué palabras aparecen en ambos documentos para encontrar coincidencias.\n",
    "\n",
    "7. Se debe guardar la información personal de un usuario (nombre, edad, correo) y poder accederla fácilmente por campo.\n",
    "\n",
    "8. Guardar los resultados de una encuesta donde se registraron las respuestas en el orden en que llegaron.\n",
    "\n",
    "9. Una función debe devolver un par (resultado, mensaje) que no debe modificarse una vez devuelto.\n",
    "\n",
    "10. Se quiere verificar si un número de identificación aparece en una lista grande, y no te importa el orden.\n",
    "\n",
    "---"
   ]
  },
  {
   "cell_type": "code",
   "execution_count": null,
   "id": "e58a59ec",
   "metadata": {},
   "outputs": [],
   "source": [
    "# Eleccion de estructuras de datos\n",
    "\n",
    "\"\"\"\n",
    "1. Se quiere almacenar las temperaturas registradas durante una semana, y se necesita calcular promedios y ordenar los datos: \n",
    "- Estructura recomendada: Lista (para mantener el orden) o Diccionario (si se quiere acceder por día)\n",
    "\n",
    "2. Una función devuelve las dimensiones (ancho, alto) de una imagen, y no deben modificarse accidentalmente.\n",
    "- Estructura recomendada: Tupla (inmutable)\n",
    "\n",
    "3. Se debe guardar la cantidad de productos disponibles en una tienda, donde se puede buscar por nombre del producto.\n",
    "- Estructura recomendada: Diccionario (clave: nombre del producto, valor: cantidad)\n",
    "\n",
    "4. Se tiene una lista con muchos correos electrónicos, pero se necesita eliminar los duplicados rápidamente.\n",
    "- Estructura recomendada: Conjunto (set)\n",
    "\n",
    "5. Se necesita mantener una colección de colores (como (255, 0, 0)) asociados a nombres como \"rojo\" o \"verde\".\n",
    "- Estructura recomendada: Diccionario (clave: nombre del color, valor: tupla RGB)\n",
    "\n",
    "6. Se quiere saber qué palabras aparecen en ambos documentos para encontrar coincidencias.\n",
    "- Estructura recomendada: Conjunto (set) para cada documento y luego intersección.\n",
    "\n",
    "7. Se debe guardar la información personal de un usuario (nombre, edad, correo) y poder accederla fácilmente por campo.\n",
    "- Estructura recomendada: Diccionario (clave: campo, valor: dato)\n",
    "\n",
    "8. Guardar los resultados de una encuesta donde se registraron las respuestas en el orden en que llegaron.\n",
    "- Estructura recomendada: Lista (para mantener el orden)\n",
    "\n",
    "9. Una función debe devolver un par (resultado, mensaje) que no debe modificarse una vez devuelto.\n",
    "- Estructura recomendada: Tupla (inmutable)\n",
    "\n",
    "10. Se quiere verificar si un número de identificación aparece en una lista grande, y no te importa el orden.\n",
    "- Estructura recomendada: Conjunto (set) para búsqueda rápida.\n",
    "\"\"\""
   ]
  },
  {
   "cell_type": "markdown",
   "id": "46d4cf35",
   "metadata": {},
   "source": [
    "### Acciones en común\n",
    "\n",
    "Todas estas estructuras de datos comparten ciertas operaciones.\n",
    "\n",
    "---"
   ]
  },
  {
   "cell_type": "markdown",
   "id": "22607e0a",
   "metadata": {},
   "source": [
    "#### Enumerando con `enumerate`\n",
    "\n",
    "Si se necesita un índice acompañado cada elemento de una estructura de datos iterable, que tome valores desde 0 hasta n-1, se puede hacer con `enumerate`.\n",
    "\n",
    "---"
   ]
  },
  {
   "cell_type": "code",
   "execution_count": null,
   "id": "ab1ae305",
   "metadata": {},
   "outputs": [],
   "source": [
    "lista = [\"manzanas\", \"peras\", \"sandías\"]\n",
    "print(list(enumerate(lista)))\n",
    "\n",
    "tupla = (\"manzanas\", \"peras\", \"sandías\")\n",
    "print(list(enumerate(tupla)))\n",
    "\n",
    "diccionario = {\n",
    "    \"fruta_1\": \"manzanas\",\n",
    "    \"fruta_2\": \"peras\",\n",
    "    \"fruta_3\": \"sandías\"\n",
    "}\n",
    "print(list(enumerate(diccionario)))\n",
    "\n",
    "conjunto = {\"manzanas\", \"peras\", \"sandías\"}\n",
    "print(list(enumerate(conjunto)))"
   ]
  },
  {
   "cell_type": "code",
   "execution_count": null,
   "id": "9899cf9e",
   "metadata": {},
   "outputs": [],
   "source": [
    "for indice, fruta in enumerate(lista):\n",
    "    print(f'Índice: {indice}, Elemento: {fruta}')\n",
    "\n",
    "for indice, fruta in enumerate(tupla):\n",
    "    print(f'Índice: {indice}, Elemento: {fruta}')\n",
    "\n",
    "for indice, fruta in enumerate(diccionario):\n",
    "    print(f'Índice: {indice}, Clave: {fruta}')\n",
    "\n",
    "for indice, fruta in enumerate(conjunto):\n",
    "    print(f'Índice: {indice}, Elemento: {fruta}')"
   ]
  },
  {
   "cell_type": "markdown",
   "id": "6f5a87fd",
   "metadata": {},
   "source": [
    "#### Juntando con `zip`\n",
    "\n",
    "Si se tienen dos estructuras de datos y las se quieren iterar a la vez, es posible hacerlo por medio de `zip`.\n",
    "\n",
    "---"
   ]
  },
  {
   "cell_type": "code",
   "execution_count": null,
   "id": "5edbf574",
   "metadata": {},
   "outputs": [],
   "source": [
    "lista = [\"manzanas\", \"peras\", \"sandías\"]\n",
    "lista_2 = [\"naranjas\", \"kiwis\", \"uvas\"]\n",
    "print(list(zip(lista, lista_2)))\n",
    "\n",
    "\n",
    "tupla = (\"manzanas\", \"peras\", \"sandías\")\n",
    "tupla_2 = (\"naranjas\", \"kiwis\", \"uvas\")\n",
    "print(list(zip(tupla, tupla_2)))\n",
    "\n",
    "diccionario = {\n",
    "    \"fruta_1\": \"manzanas\",\n",
    "    \"fruta_2\": \"peras\",\n",
    "    \"fruta_3\": \"sandías\"\n",
    "}\n",
    "diccionario_2 = {\n",
    "    \"fruta_4\": \"naranjas\",\n",
    "    \"fruta_5\": \"kiwis\",\n",
    "    \"fruta_6\": \"uvas\"\n",
    "}\n",
    "print(list(zip(diccionario, diccionario_2)))\n",
    "\n",
    "conjunto = {\"manzanas\", \"peras\", \"sandías\"}\n",
    "conjunto_2 = {\"naranjas\", \"kiwis\", \"uvas\"}\n",
    "print(list(zip(conjunto, conjunto_2)))"
   ]
  },
  {
   "cell_type": "code",
   "execution_count": null,
   "id": "b36853b0",
   "metadata": {},
   "outputs": [],
   "source": [
    "for fruta_1, fruta_2 in zip(lista, lista_2):\n",
    "    print(f\"Elemento de lista 1: {fruta_1}, Elemento de lista 2: {fruta_2}\")\n",
    "\n",
    "for fruta_1, fruta_2 in zip(tupla, tupla_2):\n",
    "    print(f\"Elemento de tupla 1: {fruta_1}, Elemento de tupla 2: {fruta_2}\")\n",
    "\n",
    "for fruta_1, fruta_2 in zip(diccionario, diccionario_2):\n",
    "    print(f\"Clave de diccionario 1: {fruta_1}, Clave de diccionario 2: {fruta_2}\")\n",
    "\n",
    "for fruta_1, fruta_2 in zip(conjunto, conjunto_2):\n",
    "    print(f\"Elemento de conjunto 1: {fruta_1}, Elemento de conjunto 2: {fruta_2}\")"
   ]
  },
  {
   "cell_type": "markdown",
   "id": "a16a9b34",
   "metadata": {},
   "source": [
    "#### Contando con `len`\n",
    "\n",
    "Si se quiere contar la cantidad de elementos de una estructura de datos, se puede usar `len()`.\n",
    "\n",
    "---"
   ]
  },
  {
   "cell_type": "code",
   "execution_count": null,
   "id": "9694f367",
   "metadata": {},
   "outputs": [],
   "source": [
    "lista = [\"manzanas\", \"peras\", \"sandías\"]\n",
    "print(len(lista))\n",
    "\n",
    "tupla = (\"manzanas\", \"peras\", \"sandías\")\n",
    "print(len(tupla))\n",
    "\n",
    "diccionario = {\n",
    "    \"fruta_1\": \"manzanas\",\n",
    "    \"fruta_2\": \"peras\",\n",
    "    \"fruta_3\": \"sandías\"\n",
    "}\n",
    "print(len(diccionario))\n",
    "\n",
    "conjunto = {\"manzanas\", \"peras\", \"sandías\"}\n",
    "print(len(conjunto))"
   ]
  },
  {
   "cell_type": "markdown",
   "id": "f9148cd6",
   "metadata": {},
   "source": [
    "#### Pertenencia con `in`\n",
    "\n",
    "Se puede verificar si un elemento pertenece a una estructura de datos por medio del operador de membresía `in`.\n",
    "\n",
    "---"
   ]
  },
  {
   "cell_type": "code",
   "execution_count": null,
   "id": "62ee0829",
   "metadata": {},
   "outputs": [],
   "source": [
    "lista = [\"manzanas\", \"peras\", \"sandías\"]\n",
    "print(\"peras\" in lista)\n",
    "\n",
    "tupla = (\"manzanas\", \"peras\", \"sandías\")\n",
    "print(\"peras\" in tupla)\n",
    "\n",
    "diccionario = {\n",
    "    \"fruta_1\": \"manzanas\",\n",
    "    \"fruta_2\": \"peras\",\n",
    "    \"fruta_3\": \"sandías\"\n",
    "}\n",
    "print(\"peras\" in diccionario)  # Esto verifica si la clave \"peras\" está en el diccionario, no el valor\n",
    "\n",
    "conjunto = {\"manzanas\", \"peras\", \"sandías\"}\n",
    "print(\"peras\" in conjunto)"
   ]
  },
  {
   "cell_type": "markdown",
   "id": "3ada83e8",
   "metadata": {},
   "source": [
    "#### Unión en hilera con `join`\n",
    "\n",
    "Se pueden unir los elementos de una lista en una única hilera de texto, poniendo cuál es el separador y usando el método `.join()`. Esto funciona con **listas, tuplas y conjuntos**, pero no diccionarios.\n",
    "\n",
    "---"
   ]
  },
  {
   "cell_type": "code",
   "execution_count": null,
   "id": "f9c67e39",
   "metadata": {},
   "outputs": [],
   "source": [
    "lista = [\"rojo\", \"verde\", \"azul\"]\n",
    "hilera_unida = \",\".join(lista)\n",
    "print(hilera_unida)\n",
    "\n",
    "tupla = (\"rojo\", \"verde\", \"azul\")\n",
    "hilera_unida_tupla = \",\".join(tupla)\n",
    "print(hilera_unida_tupla)\n",
    "\n",
    "conjunto = {\"rojo\", \"verde\", \"azul\"}\n",
    "hilera_unida_conjunto = \",\".join(conjunto)\n",
    "print(hilera_unida_conjunto)"
   ]
  },
  {
   "cell_type": "markdown",
   "id": "9cc29f86",
   "metadata": {},
   "source": [
    "#### Conversiones\n",
    "\n",
    "Se pueden convertir las estructuras de datos a otras estructuras de datos, con `list()`, `tuple()`, `set()`, y `dict()`.\n",
    "\n",
    "---"
   ]
  },
  {
   "cell_type": "code",
   "execution_count": null,
   "id": "4e75b0a6",
   "metadata": {},
   "outputs": [],
   "source": [
    "lista = [\"manzanas\", \"peras\", \"sandías\"]\n",
    "print(lista)\n",
    "\n",
    "tupla = tuple(lista)\n",
    "print(tupla)\n",
    "\n",
    "diccionario = {f\"fruta_{i+1}\": fruta for i, fruta in enumerate(lista)}\n",
    "print(diccionario)\n",
    "\n",
    "conjunto = set(lista)\n",
    "print(conjunto)"
   ]
  },
  {
   "cell_type": "markdown",
   "id": "9b1e3801",
   "metadata": {},
   "source": [
    "## Ejercicios Adicionales\n",
    "\n",
    "---"
   ]
  },
  {
   "cell_type": "markdown",
   "id": "4eb3166b",
   "metadata": {},
   "source": [
    "**1. Inventario de Frutas**\n",
    "\n",
    "Cree una lista de frutas. Pida al usuario que añada una fruta nueva a la lista. Luego, muestre la lista final ordenada alfabéticamente.\n",
    "\n",
    "---"
   ]
  },
  {
   "cell_type": "code",
   "execution_count": null,
   "id": "e01d6f3c",
   "metadata": {},
   "outputs": [],
   "source": [
    "frutas: list[str] = ['manzana', 'banana', 'uva']\n",
    "nueva_fruta: str = input('Agrega una nueva fruta al inventario: ')\n",
    "frutas.append(nueva_fruta)\n",
    "frutas.sort()\n",
    "print(f'Inventario actualizado y ordenado: {frutas}')"
   ]
  },
  {
   "cell_type": "markdown",
   "id": "6d755b2b",
   "metadata": {},
   "source": [
    "**2. Elementos repetidos**\n",
    "\n",
    "Pida al usuario que ingrese una lista de números separados por comas. Determine cuántos elementos están repetidos en esa lista.\n",
    "\n",
    "---"
   ]
  },
  {
   "cell_type": "code",
   "execution_count": null,
   "id": "c3627b49",
   "metadata": {},
   "outputs": [],
   "source": [
    "elementos = input('Ingresa una lista de elementos separados por comas: ')\n",
    "lista_elementos = elementos.split(',')\n",
    "\n",
    "elementos_nuevos = []\n",
    "for elemento in lista_elementos:\n",
    "    if elemento not in elementos_nuevos:\n",
    "        elementos_nuevos.append(elemento.strip())\n",
    "\n",
    "print(f'Cantidad de elementos repetidos: {len(lista_elementos) - len(elementos_nuevos)}')"
   ]
  },
  {
   "cell_type": "code",
   "execution_count": null,
   "id": "59b77f1d",
   "metadata": {},
   "outputs": [],
   "source": [
    "elementos = input('Ingresa una lista de elementos separados por comas: ')\n",
    "lista_elementos = elementos.split(',')\n",
    "\n",
    "elementos_unicos = set(lista_elementos)  # Convertimos a conjunto para eliminar duplicados\n",
    "print(f\"Cantidad de elementos repetidos: {len(lista_elementos) - len(elementos_unicos)}\")"
   ]
  },
  {
   "cell_type": "markdown",
   "id": "8515695a",
   "metadata": {},
   "source": [
    "**3. Teléfonos de Contacto Únicos**\n",
    "\n",
    "Se tienen dos listas de teléfonos de dos eventos diferentes. Encuentre todos los números de teléfono únicos (sin duplicados) de ambos eventos combinados.\n",
    "\n",
    "---"
   ]
  },
  {
   "cell_type": "code",
   "execution_count": null,
   "id": "e8caac00",
   "metadata": {},
   "outputs": [],
   "source": [
    "telefonos_evento_1 = ['555-123', '555-456', '555-789']\n",
    "telefonos_evento_2 = ['555-456', '555-999', '555-111']\n",
    "\n",
    "# Usamos conjuntos para combinar y obtener valores únicos automáticamente\n",
    "set_1 = set(telefonos_evento_1)\n",
    "set_2 = set(telefonos_evento_2)\n",
    "todos_los_telefonos_unicos = set_1.union(set_2)\n",
    "\n",
    "print(f'Todos los números de contacto únicos son: {todos_los_telefonos_unicos}')"
   ]
  },
  {
   "cell_type": "markdown",
   "id": "bde73ed5",
   "metadata": {},
   "source": [
    "**4. Frecuencia de caracteres**\n",
    "\n",
    "Escriba un programa que procese strings ingresados por el usuario. La lectura finaliza cuando se hayan procesado 3 strings. Al finalizar, informe la cantidad total de ocurrencias de cada carácter, por todos los strings ingresados. Ejemplo: `\"r\":5, \"%\":3, \"a\":8, \"9\":1`.\n",
    "\n",
    "---"
   ]
  },
  {
   "cell_type": "code",
   "execution_count": null,
   "id": "5ecb557b",
   "metadata": {},
   "outputs": [],
   "source": [
    "diccionario_de_caracteres = {}\n",
    "\n",
    "for i in range(3):\n",
    "    frase = input('Ingresa una frase: ')\n",
    "    for caracter in frase:\n",
    "\n",
    "        if caracter not in diccionario_de_caracteres:\n",
    "            diccionario_de_caracteres[caracter] = 1\n",
    "        else:\n",
    "            diccionario_de_caracteres[caracter] += 1\n",
    "\n",
    "print(\"Frecuencia de caracteres:\")\n",
    "for caracter, frecuencia in diccionario_de_caracteres.items():\n",
    "    print(f\"'{caracter}': {frecuencia}\")"
   ]
  },
  {
   "cell_type": "markdown",
   "id": "2c771629",
   "metadata": {},
   "source": [
    "**5. Lista de la Compra**\n",
    "\n",
    "Se tiene un inventario de una tienda con los productos disponibles y sus cantidades en stock. Los datos son los siguientes:\n",
    "\n",
    "- **Manzanas:** 10 unidades  \n",
    "- **Bananas:** 5 unidades  \n",
    "- **Naranjas:** 0 unidades  \n",
    "- **Peras:** 3 unidades  \n",
    "\n",
    "1.\tEscriba un bucle que permita al usuario “comprar” productos.\n",
    "2.\tSi el producto existe y hay stock, disminuya la cantidad y muestre un mensaje.\n",
    "3.\tSi no hay stock, informe al usuario que está agotado.\n",
    "4.\tSi el producto no existe, informe que no lo vende.\n",
    "5.\tEl usuario puede escribir \"salir\" para terminar.\n",
    "\n",
    "---"
   ]
  },
  {
   "cell_type": "code",
   "execution_count": null,
   "id": "f82bada7",
   "metadata": {},
   "outputs": [],
   "source": [
    "# Inventario inicial\n",
    "inventario: dict[str, int] = {\n",
    "    'manzanas': 10,\n",
    "    'bananas': 5,\n",
    "    'naranjas': 8,\n",
    "    'peras': 12\n",
    "}\n",
    "\n",
    "\n",
    "def mostrar_inventario(inventario: dict[str, int]) -> None:\n",
    "    \"\"\"\n",
    "    Muestra en pantalla las frutas y sus cantidades en el inventario.\n",
    "\n",
    "    Args:\n",
    "        inventario (dict[str, int]): Diccionario con frutas como claves y cantidad como valores.\n",
    "    \"\"\"\n",
    "    print(\"Inventario actual:\")\n",
    "    for fruta, cantidad in inventario.items():\n",
    "        print(f\"{fruta}: {cantidad}\")\n",
    "\n",
    "\n",
    "def verificar_stock(inventario: dict[str, int], fruta: str) -> int:\n",
    "    \"\"\"\n",
    "    Verifica cuántas unidades de una fruta hay en el inventario.\n",
    "\n",
    "    Args:\n",
    "        inventario (dict[str, int]): Diccionario del inventario.\n",
    "        fruta (str): Nombre de la fruta a consultar.\n",
    "\n",
    "    Returns:\n",
    "        int: Cantidad disponible en stock. Devuelve 0 si la fruta no existe.\n",
    "    \"\"\"\n",
    "    return inventario.get(fruta, 0)\n",
    "\n",
    "\n",
    "def comprar_fruta(inventario: dict[str, int], fruta: str) -> None:\n",
    "    \"\"\"\n",
    "    Permite comprar una unidad de una fruta, actualizando el inventario.\n",
    "\n",
    "    Args:\n",
    "        inventario (dict[str, int]): Diccionario del inventario.\n",
    "        fruta (str): Nombre de la fruta a comprar.\n",
    "    \"\"\"\n",
    "    if fruta in inventario:\n",
    "        if verificar_stock(inventario, fruta) > 0:\n",
    "            inventario[fruta] -= 1\n",
    "            print(f\"Has comprado una {fruta}. Stock restante: {inventario[fruta]}\")\n",
    "        else:\n",
    "            print(f\"La fruta '{fruta}' está agotada.\")\n",
    "    else:\n",
    "        print(f\"La fruta '{fruta}' no está disponible en el inventario.\")\n",
    "\n",
    "\n",
    "# Menú interactivo\n",
    "salir = False\n",
    "while not salir:\n",
    "    print(\"\\nOpciones:\")\n",
    "    print(\"1. Mostrar inventario\")\n",
    "    print(\"2. Verificar stock de una fruta\")\n",
    "    print(\"3. Comprar una fruta\")\n",
    "    print(\"4. Salir\")\n",
    "\n",
    "    opcion = input(\"Selecciona una opción (1-4): \")\n",
    "\n",
    "    if opcion == '1':\n",
    "        mostrar_inventario(inventario)\n",
    "    elif opcion == '2':\n",
    "        fruta = input(\"Ingresa el nombre de la fruta: \")\n",
    "        cantidad = verificar_stock(inventario, fruta)\n",
    "        print(f\"Cantidad de '{fruta}' en stock: {cantidad}\")\n",
    "    elif opcion == '3':\n",
    "        fruta = input(\"Ingresa el nombre de la fruta que deseas comprar: \")\n",
    "        comprar_fruta(inventario, fruta)\n",
    "    elif opcion == '4':\n",
    "        salir = True\n",
    "    else:\n",
    "        print(\"Opción no válida, intenta nuevamente.\")"
   ]
  },
  {
   "cell_type": "markdown",
   "id": "17e4248b",
   "metadata": {},
   "source": [
    "## 🎯 Resumen y Ejercicios de Repaso\n",
    "\n",
    "Se presentó una síntesis de las estructuras de datos fundamentales en Python.\n",
    "\n",
    "### 📚 Contenidos revisados\n",
    "\n",
    "1. **Listas:**\n",
    "   - Cómo crear, modificar y recorrer listas.\n",
    "   - Métodos útiles como `append`, `remove`, `sort`, entre otros.\n",
    "   - Ejercicios prácticos: sumar elementos, buscar valores, eliminar duplicados.\n",
    "\n",
    "2. **Tuplas:**\n",
    "   - Diferencias con las listas (inmutabilidad).\n",
    "   - Casos de uso y cómo acceder a sus elementos.\n",
    "\n",
    "3. **Diccionarios:**\n",
    "   - Almacenar pares clave-valor.\n",
    "   - Acceso, modificación y recorrido de diccionarios.\n",
    "   - Ejercicios: inventario de productos, frecuencia de caracteres.\n",
    "\n",
    "4. **Conjuntos:**\n",
    "   - Almacenar elementos únicos y operaciones de conjuntos (unión, intersección, diferencia).\n",
    "   - Ejercicios: obtener valores únicos de listas, combinar contactos.\n",
    "\n",
    "5. **Aplicaciones:**\n",
    "   - Casos de uso de cada tipo de estructura de datos.\n",
    "\n",
    "---"
   ]
  },
  {
   "cell_type": "markdown",
   "id": "567d1006",
   "metadata": {},
   "source": [
    "## 📝 Ejercicios de Práctica\n",
    "\n",
    "A continuación se proponen ejercicios organizados por tema para consolidar los conceptos.\n",
    "\n",
    "-----\n",
    "\n",
    "### 1️⃣ **Ejercicios: Listas**\n",
    "\n",
    "**Ejercicio 1.1 - Filtrado y Ordenación Dinámica**\n",
    "\n",
    "```python\n",
    "# Pídale al usuario que ingrese una lista de números separados por comas.\n",
    "# Luego, pídale un número de \"umbral\" y una opción de filtrado (\"mayor\", \"menor\" o \"igual\").\n",
    "# Filtre la lista original de acuerdo a la opción y el umbral. Por ejemplo, si el usuario ingresó la opción de \"mayor\" y el umbral es 4, se tienen que mantener únicamente los elementos mayores a 4 en la lista.\n",
    "# Finalmente, imprima la nueva lista filtrada y ordenada de forma ascendente.\n",
    "# Si el usuario ingresa una opción de filtrado no válida, muestre un mensaje de error.\n",
    "```\n",
    "\n",
    "**Ejercicio 1.2 - Rotación de una lista**\n",
    "\n",
    "```python\n",
    "# Cree una función `rotar_lista(lista, k)` que tome una lista y un entero `k`.\n",
    "# La función debe rotar los elementos de la lista `k` posiciones hacia la derecha.\n",
    "# Ejemplo: si `lista = [1, 2, 3, 4, 5]` y `k = 2`, la lista resultante debe ser `[4, 5, 1, 2, 3]`.\n",
    "# No use la función `reverse()` ni `slice` con `step` negativo.\n",
    "```\n",
    "\n",
    "**Ejercicio 1.3 - Islas**\n",
    "\n",
    "```python\n",
    "# Cree una función `perimetro_isla(matriz: list[list[int]]) -> int` que reciba una matriz que solo tiene 0s y 1s como valores.\n",
    "# La matriz contiene 0s y 1s, donde 1 representa tierra y 0 representa agua.\n",
    "# La función debe calcular y devolver el perímetro de la isla.\n",
    "# Suponga que hay exactamente una isla y que los unos están conectados únicamente de manera vertical u horizontal, sin diagonales.\n",
    "# Cada celda de la matriz tiene un lado de longitud 1.\n",
    "# Ejemplo: si\n",
    "\n",
    "isla = [\n",
    "    [0, 1, 1, 1],\n",
    "    [1, 1, 0, 0],\n",
    "    [1, 1, 1, 0],\n",
    "    [0, 1, 0, 0],\n",
    "    [0, 1, 1, 1]\n",
    "]\n",
    "\n",
    "# entonces `perimetro_isla(isla)` debe devolver 24.\n",
    "# La idea es recorrer la matriz y para cada celda de tierra, sumar 1 al perímetro por cada lado que esté adyacente al agua o al borde de la matriz.\n",
    "```\n",
    "\n",
    "**Ejercicio 1.4 - Sublistas**\n",
    "\n",
    "```python\n",
    "# Dada una lista de enteros, divídala en dos sublistas cuya multiplicación de elementos sea igual.\n",
    "# La función debe recibir una lista de enteros y devolver dos listas cuyos elementos multiplicados den el mismo producto.\n",
    "\n",
    "# Ejemplo 1:\n",
    "# Entrada: [2, -1, -2, 1, 1]\n",
    "# Salida: Las dos sublistas son [2, -1] y [-2, 1], ambos con producto igual a -2.\n",
    "\n",
    "# Ejemplo 2:\n",
    "# Entrada: [3, 1, 2, -1, -2]\n",
    "# Salida: Los dos sublistas son [3, -1] y [-2, 1], ambos con producto igual a -3.\n",
    "# La idea es encontrar una partición de la lista en la que el producto de los elementos de cada subarreglo sea idéntico.\n",
    "```\n",
    "\n",
    "-----\n",
    "\n",
    "### 2️⃣ **Ejercicios: Tuplas**\n",
    "\n",
    "**Ejercicio 2.1 - Análisis de Puntos**\n",
    "\n",
    "```python\n",
    "# Pídale al usuario que ingrese 5 pares de coordenadas (x, y) separadas por comas.\n",
    "# Almacene cada par de coordenadas como una tupla en una lista.\n",
    "# Calcule la distancia euclidiana de cada punto al origen (0, 0).\n",
    "# Identifique e imprima el punto más alejado del origen y su distancia.\n",
    "# La fórmula de la distancia es sqrt(x^2 + y^2).\n",
    "```\n",
    "\n",
    "**Ejercicio 2.2 - Transformación de datos**\n",
    "\n",
    "```python\n",
    "# Dada una lista de tuplas donde cada tupla contiene un nombre y una edad, por ejemplo:\n",
    "# `lista_datos = [(\"Ana\", 25), (\"Luis\", 30), (\"Sofía\", 22)]`\n",
    "# Cree una nueva lista de tuplas donde cada tupla contenga la edad y el nombre, en ese orden.\n",
    "# El resultado para el ejemplo anterior sería `[(25, \"Ana\"), (30, \"Luis\"), (22, \"Sofía\")]`.\n",
    "```\n",
    "\n",
    "**Ejercicio 2.3 - De compras**\n",
    "\n",
    "```python\n",
    "# Una tienda de ropa almacena sus productos en una lista de tuplas llamada ropa, donde cada tupla contiene el nombre del producto, la marca y la categoría de la prenda en formato string. Un ejemplo de esta estructura es:\n",
    "\n",
    "ropa = [\n",
    "    ('Camiseta Básica', 'H&M', 'Camisetas'),\n",
    "    ('Pantalón Jeans', 'Levi\\'s', 'Pantalones'),\n",
    "    ('Sudadera con Capucha', 'Nike', 'Sudaderas'),\n",
    "    ('Falda Plisada', 'Zara', 'Faldas'),\n",
    "    ('Chaqueta de Cuero', 'Mango', 'Chaquetas'),\n",
    "    ('Camiseta Estampada', 'Adidas', 'Camisetas')\n",
    "]\n",
    "\n",
    "# Escriba un programa que reciba como entrada una hilera con alguna categoría y entregue como salida una lista con el nombre de los productos de esa categoría.\n",
    "# Los productos deben aparecer en el mismo orden que en la lista original y, si no hay productos de esa categoría, imprima en su lugar: No hay.\n",
    "```\n",
    "\n",
    "-----\n",
    "\n",
    "### 3️⃣ **Ejercicios: Diccionarios**\n",
    "\n",
    "**Ejercicio 3.1 - Gestor de Contactos**\n",
    "\n",
    "```python\n",
    "# Implemente un sistema de gestión de contactos.\n",
    "# El programa debe usar un diccionario para almacenar los contactos. Las claves serán los nombres y los valores serán otros diccionarios con los detalles (teléfono, email).\n",
    "# El programa debe mostrar un menú con las siguientes opciones:\n",
    "# 1. Agregar un nuevo contacto.\n",
    "# 2. Buscar un contacto por nombre.\n",
    "# 3. Eliminar un contacto.\n",
    "# 4. Mostrar todos los contactos.\n",
    "# 5. Salir.\n",
    "# Use un ciclo `while` para mantener el programa en ejecución hasta que el usuario decida salir.\n",
    "```\n",
    "\n",
    "**Ejercicio 3.2 - Consolidación de Ventas**\n",
    "\n",
    "```python\n",
    "# Tiene una lista de diccionarios, donde cada diccionario representa una venta.\n",
    "# ventas = [{\"producto\": \"leche\", \"cantidad\": 2}, {\"producto\": \"pan\", \"cantidad\": 1}, {\"producto\": \"leche\", \"cantidad\": 3}]\n",
    "# Escriba un programa que consolide las ventas en un único diccionario, sumando las cantidades por producto.\n",
    "# El resultado para el ejemplo anterior debería ser `{\"leche\": 5, \"pan\": 1}`.\n",
    "```\n",
    "\n",
    "**Ejercicio 3.3 - Conteo**\n",
    "\n",
    "```python\n",
    "# Cree una función que, dada una lista, devuelva un diccionario donde las claves sean los elementos únicos de la lista y los valores sean la cantidad de veces que cada elemento aparece.\n",
    "# Por ejemplo: para `lista = [1, \"a\", 2, \"a\", 3, 1]`, la función debería devolver `{\"a\": 2, 1: 2, 2: 1, 3: 1}`.\n",
    "```\n",
    "\n",
    "-----\n",
    "\n",
    "### 4️⃣ **Ejercicios: Conjuntos**\n",
    "\n",
    "**Ejercicio 4.1 - Análisis de Clientes**\n",
    "\n",
    "```python\n",
    "# Pídale al usuario que ingrese una lista de nombres de clientes que compraron en la \"Tienda A\" y otra lista de nombres que compraron en la \"Tienda B\".\n",
    "# Ambos deben ser ingresados como una cadena separada por comas.\n",
    "# Use conjuntos para determinar y mostrar:\n",
    "# 1. Clientes que compraron en ambas tiendas.\n",
    "# 2. Clientes que compraron solo en la \"Tienda A\".\n",
    "# 3. Clientes que compraron en la \"Tienda B\" pero no en la \"Tienda A\".\n",
    "```\n",
    "\n",
    "**Ejercicio 4.2 - Identificador de Duplicados**\n",
    "\n",
    "```python\n",
    "# Escriba una función `tiene_duplicados(lista: list[str])` que tome una lista y determine si contiene elementos duplicados.\n",
    "# La función debe ser lo más eficiente posible.\n",
    "# No use bucles anidados (`for` dentro de `for`).\n",
    "# La función debe devolver `True` si hay duplicados y `False` en caso contrario.\n",
    "```\n",
    "\n",
    "**Ejercicio 4.3 - Investigadores**\n",
    "\n",
    "```python\n",
    "# Un grupo de investigadores trabaja en varios proyectos de ciencia. Cada proyecto tiene un conjunto de investigadores que participan. La información se almacena en un diccionario de proyectos:\n",
    "\n",
    "proyectos = {\n",
    "    'Biotecnología': {'Ana', 'Luis', 'Carlos', 'Marta'},\n",
    "    'Robótica': {'Luis', 'Sofía', 'Marta', 'Andrés'},\n",
    "    'Astronomía': {'Carlos', 'Sofía', 'Pedro', 'Lucía'},\n",
    "    'Energía Renovable': {'Ana', 'Pedro', 'Diego', 'Lucía'}\n",
    "}\n",
    "\n",
    "# Se pide:\n",
    "# 1.\tIdentificar los investigadores que participan en exactamente dos proyectos.\n",
    "# 2.\tDeterminar si hay algún investigador que participe en todos los proyectos.\n",
    "# 3.\tEncontrar los investigadores que trabajan en proyectos que no comparten ningún investigador con “Robótica”.\n",
    "```\n",
    "\n",
    "-----\n",
    "\n",
    "### 5️⃣ **Ejercicios: Aplicaciones de cada estructura en el procesamiento de datos**\n",
    "\n",
    "**Ejercicio 5.1 - Análisis de Votación**\n",
    "\n",
    "```python\n",
    "# Tiene una lista de listas, donde cada sub-lista contiene los votos de una persona, por ejemplo:\n",
    "# votos = [[\"perro\", \"gato\"], [\"gato\", \"pez\"], [\"perro\", \"gato\"]]\n",
    "# 1. Encuentre todos los animales únicos que recibieron votos. Para ello, utilice la estructura de datos que más convenga.\n",
    "# 2. Cuente el total de votos para cada animal. Para ello, utilice la estructura de datos que más convenga.\n",
    "# 3. Imprima la lista de animales únicos y el conteo final.\n",
    "```\n",
    "\n",
    "**Ejercicio 5.2 - Reservas**\n",
    "\n",
    "```python\n",
    "# Un complejo turístico tiene varias cabañas y varios clientes que pueden reservarlas. Cada reserva indica el nombre del cliente y las fechas de entrada y salida. La información no viene en un formato específico; tú debes elegir la estructura de datos más adecuada para resolverlo.\n",
    "\n",
    "# Se sabe lo siguiente sobre las reservas:\n",
    "# - Carlos reservó del 1 al 5 de agosto.\n",
    "# - Ana reservó del 3 al 6 de agosto.\n",
    "# - Luis reservó del 5 al 10 de agosto.\n",
    "# - Marta reservó del 7 al 12 de agosto.\n",
    "# - Pedro reservó del 2 al 4 de agosto.\n",
    "\n",
    "# Se pide:\n",
    "# 1. Determinar si alguna reserva se solapa con otra y mostrar cuáles.\n",
    "# 2. Encontrar los días en los que más de un cliente tiene reserva.\n",
    "# 3. Crear un listado de clientes que nunca comparten días de estancia con otro cliente.\n",
    "# 4. Calcular el máximo número de clientes simultáneamente hospedados en el complejo.\n",
    "```\n",
    "\n",
    "**Ejercicio 5.3 - Stock**\n",
    "\n",
    "```python\n",
    "# Un almacén recibe y despacha productos diariamente. La información disponible es la siguiente:\n",
    "# - Cada registro indica el nombre del producto, la cantidad y si fue entrada o salida.\n",
    "# - Los registros del día son:\n",
    "\n",
    "('Manzanas', 50, 'entrada')\n",
    "('Naranjas', 30, 'entrada')\n",
    "('Manzanas', 20, 'salida')\n",
    "('Peras', 40, 'entrada')\n",
    "('Naranjas', 10, 'salida')\n",
    "('Manzanas', 15, 'entrada')\n",
    "('Peras', 50, 'salida')\n",
    "\n",
    "# Se pide:\n",
    "# 1. Calcular el stock final de cada producto.\n",
    "# 2. Identificar los productos que quedaron con stock negativo (si los hay).\n",
    "# 3. Determinar cuál producto tuvo la mayor cantidad total de entradas y cuál la mayor cantidad total de salidas.\n",
    "# 4. Listar los productos que no tuvieron movimientos de salida durante el día.\n",
    "# 5. Crear un resumen que muestre, para cada producto, el número de transacciones realizadas y el stock final.\n",
    "```\n",
    "\n",
    "-----\n",
    "\n",
    "### 6️⃣ **Ejercicios: Ejercicios integrados**\n",
    "\n",
    "**Ejercicio 6.1 - Sistema de Reservas**\n",
    "\n",
    "```python\n",
    "# Diseñe un sistema de reservas simple para una sala de reuniones.\n",
    "# El sistema usará un diccionario donde las claves son los días de la semana (\"Lunes\", \"Martes\", etc.) y los valores son diccionarios anidados.\n",
    "# El diccionario anidado tendrá las horas del día (\"09:00\", \"10:00\", etc.) como claves y su estado (\"disponible\", \"reservado\") como valores.\n",
    "# El programa debe permitirle al usuario:\n",
    "# - Consultar la disponibilidad para un día y hora específicos.\n",
    "# - Hacer una reserva, cambiando el estado a \"reservado\".\n",
    "# - Cancelar una reserva, volviendo el estado a \"disponible\".\n",
    "# El programa debe manejar errores de entrada y validar que la reserva solo se pueda hacer en un horario disponible.\n",
    "```\n",
    "\n",
    "-----\n",
    "\n",
    "### 7️⃣ **Ejercicios: Ejercicios de Repaso**\n",
    "\n",
    "**Ejercicio 7.1 - Agrupación de Anagramas**\n",
    "\n",
    "```python\n",
    "# Escriba una función que tome una lista de palabras y las agrupe por anagrama.\n",
    "# Un anagrama es una palabra que se forma reordenando las letras de otra.\n",
    "# Por ejemplo, para la lista `[\"eat\", \"tea\", \"tan\", \"ate\", \"nat\", \"bat\"]`,\n",
    "# la función debe devolver una lista de listas como `[[\"eat\", \"tea\", \"ate\"], [\"tan\", \"nat\"], [\"bat\"]]`.\n",
    "# Pista: Piense en cómo puede usar un diccionario para agrupar las palabras.\n",
    "# ¿Cuál sería una clave única y consistente para todos los anagramas de una palabra?\n",
    "```\n",
    "\n",
    "-----\n",
    "\n",
    "### 📋 **Instrucciones para resolver:**\n",
    "\n",
    "1.  Copie cada ejercicio en una nueva celda de código.\n",
    "2.  Resuelva paso a paso y comente su razonamiento.\n",
    "3.  Ejecute para verificar sus respuestas.\n",
    "4.  Experimente modificando los valores.\n",
    "5.  Pregunte si tiene dudas."
   ]
  }
 ],
 "metadata": {
  "language_info": {
   "name": "python"
  }
 },
 "nbformat": 4,
 "nbformat_minor": 5
}
