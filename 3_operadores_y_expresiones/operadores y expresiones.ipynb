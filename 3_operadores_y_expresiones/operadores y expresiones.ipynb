{
 "cells": [
  {
   "cell_type": "markdown",
   "metadata": {},
   "source": [
    "# Principios de Informática: Operadores y Expresiones ⚙️\n",
    "### El poder de los cálculos en Python\n",
    "\n",
    "**Curso:** Principios de Informática\n",
    "\n",
    "[![Open In Colab](https://colab.research.google.com/assets/colab-badge.svg)](https://githubtocolab.com/EnriqueVilchezL/principios_de_info/blob/main/3_operadores_y_expresiones/operadores_y_expresiones.ipynb)\n",
    "\n",
    "---\n",
    "\n",
    "## 🗺️ Objetivos y contenidos\n",
    "\n",
    "Este notebook es una guía interactiva para comprender y practicar el uso de operadores y expresiones en Python. Se explican los conceptos necesarios para realizar cálculos, comparar valores, combinar condiciones y analizar cómo se evalúan las expresiones paso a paso.\n",
    "\n",
    "> \"Dominar los operadores es como tener las herramientas para construir cualquier solución informática.\"\n",
    "\n",
    "**Importancia:**\n",
    "- Los operadores y las expresiones constituyen el núcleo de cualquier programa: permiten transformar, comparar y combinar datos.\n",
    "- Comprender su funcionamiento facilita la escritura de código más claro, correcto y eficiente.\n",
    "- Son esenciales para resolver problemas reales, desde cálculos simples hasta lógica compleja.\n",
    "\n",
    "**Contenidos:**\n",
    "1. Operadores aritméticos, relacionales, lógicos, de asignación, de membresía y de identidad\n",
    "2. Evaluación de expresiones: precedencia y asociatividad"
   ]
  },
  {
   "cell_type": "markdown",
   "metadata": {},
   "source": [
    "---\n",
    "\n",
    "## 1. Operadores aritméticos, relacionales, lógicos, de asignación, de membresía y de identidad\n",
    "\n",
    "---\n",
    "\n",
    "### ¿Qué son los Operadores? 🛠️\n",
    "\n",
    "Los **operadores** son símbolos especiales que realizan operaciones sobre uno o más valores (llamados operandos).\n",
    "\n",
    "**Operando + Operador + Operando = Resultado**  \n",
    "`5` `+` `3` `=` `8`"
   ]
  },
  {
   "cell_type": "markdown",
   "metadata": {},
   "source": [
    "### ➕➖ Operadores Aritméticos\n",
    "\n",
    "Permiten realizar **cálculos matemáticos** básicos. Son como las funciones de una calculadora. 🧮\n",
    "\n",
    "| Operador | Nombre           | Ejemplo         | Resultado |\n",
    "|----------|------------------|-----------------|-----------|\n",
    "| `+`      | Suma             | `5 + 3`         | `8`       |\n",
    "| `-`      | Resta            | `10 - 4`        | `6`       |\n",
    "| `*`      | Multiplicación   | `2 * 6`         | `12`      |\n",
    "| `/`      | División         | `10 / 3`        | `3.33...` |\n",
    "| `//`     | División Entera  | `10 // 3`       | `3`       |\n",
    "| `%`      | Módulo (Resto)   | `10 % 3`        | `1`       |\n",
    "| `**`     | Exponenciación   | `2 ** 3`        | `8`       |\n",
    "\n",
    "---"
   ]
  },
  {
   "cell_type": "code",
   "execution_count": null,
   "metadata": {},
   "outputs": [],
   "source": [
    "# Ejemplo Práctico de Operadores Aritméticos\n",
    "a = 15\n",
    "b = 4\n",
    "\n",
    "print(f\"Suma: {a + b}\")               # 19\n",
    "print(f\"Resta: {a - b}\")              # 11\n",
    "print(f\"Multiplicación: {a * b}\")     # 60\n",
    "print(f\"División: {a / b}\")           # 3.75\n",
    "print(f\"División Entera: {a // b}\")   # 3\n",
    "print(f\"Módulo: {a % b}\")             # 3 (15 = 4*3 + 3)\n",
    "print(f\"Potencia: {a ** 2}\")          # 225 (15 al cuadrado)"
   ]
  },
  {
   "cell_type": "markdown",
   "metadata": {},
   "source": [
    "#### 📐 Ejercicio: Calculadora de Área\n",
    "\n",
    "Calcular el área de un rectángulo.\n",
    "1. Definir una variable `ancho` con valor `7.5`.\n",
    "2. Definir una variable `alto` con valor `4`.\n",
    "3. Utilizar el operador de multiplicación para calcular el área.\n",
    "4. Imprimir el resultado.\n",
    "\n",
    "---\n"
   ]
  },
  {
   "cell_type": "code",
   "execution_count": null,
   "metadata": {},
   "outputs": [],
   "source": [
    "# Código de ejemplo para calcular el área de un rectángulo:\n",
    "ancho = 7.5\n",
    "alto = 4\n",
    "\n",
    "area = ancho * alto\n",
    "print(f\"El área del rectángulo es: {area}\")"
   ]
  },
  {
   "cell_type": "markdown",
   "id": "6f6ade64",
   "metadata": {},
   "source": [
    "#### 💯 Ejercicio: Centenas\n",
    "\n",
    "Crear un programa que imprima cuál es el dígito de las centenas de un número de 3 o más cifras. Por ejemplo, 9730 debería imprimir 7.\n",
    "\n",
    "Pista: Combine el operador `//` con `%`.\n",
    "\n",
    "---"
   ]
  },
  {
   "cell_type": "code",
   "execution_count": null,
   "id": "a0051a93",
   "metadata": {},
   "outputs": [],
   "source": [
    "numero = 9730\n",
    "centenas = (numero // 100) % 10\n",
    "\n",
    "print(f\"El dígito de las centenas es: {centenas}\")"
   ]
  },
  {
   "cell_type": "markdown",
   "metadata": {},
   "source": [
    "### ⚖️ Operadores Relacionales (Comparación)\n",
    "\n",
    "Permiten **comparar** dos valores. El resultado de una comparación siempre es un valor **booleano**: `True` o `False`. ✅❌\n",
    "\n",
    "| Operador | Nombre                    | Ejemplo       | Resultado |\n",
    "|----------|---------------------------|---------------|----------|\n",
    "| `==`     | Igual a                   | `5 == 5`      | `True`   |\n",
    "| `!=`     | Diferente de (No igual a) | `10 != 5`     | `True`   |\n",
    "| `>`      | Mayor que                 | `7 > 3`       | `True`   |\n",
    "| `<`      | Menor que                 | `2 < 8`       | `True`   |\n",
    "| `>=`     | Mayor o igual que         | `5 >= 5`      | `True`   |\n",
    "| `<=`     | Menor o igual que         | `4 <= 2`      | `False`  |\n",
    "\n",
    "---"
   ]
  },
  {
   "cell_type": "code",
   "execution_count": null,
   "metadata": {},
   "outputs": [],
   "source": [
    "# Ejemplo Práctico de Operadores Relacionales\n",
    "edad_juan = 20\n",
    "edad_maria = 25\n",
    "\n",
    "print(f\"¿Juan es mayor que María? {edad_juan > edad_maria}\")  # False\n",
    "print(f\"¿Juan y María tienen la misma edad? {edad_juan == edad_maria}\")  # False\n",
    "print(f\"¿María es mayor o igual que Juan? {edad_maria >= edad_juan}\")  # True\n",
    "\n",
    "nombre = \"Ana\"\n",
    "otro_nombre = \"ana\"\n",
    "print(f\"¿Son los nombres iguales? {nombre == otro_nombre}\")  # False (sensible a mayúsculas)"
   ]
  },
  {
   "cell_type": "markdown",
   "metadata": {},
   "source": [
    "#### 🎓 Ejercicio: ¿Aprobado o Reprobado?\n",
    "\n",
    "Determinar si un estudiante aprobó o no.\n",
    "1. Definir una variable `calificacion` con valor `75`.\n",
    "2. Definir una variable `minimo_aprobacion` con valor `70`.\n",
    "3. Verificar si aprobó.\n",
    "4. Imprimir el resultado booleano.\n",
    "\n",
    "---"
   ]
  },
  {
   "cell_type": "code",
   "execution_count": null,
   "metadata": {},
   "outputs": [],
   "source": [
    "# Código de ejemplo para determinar si la calificación es suficiente para aprobar:\n",
    "calificacion = 75\n",
    "minimo_aprobacion = 70\n",
    "\n",
    "aprobado = calificacion >= minimo_aprobacion\n",
    "print(f\"¿El estudiante aprobó? {aprobado}\")"
   ]
  },
  {
   "cell_type": "markdown",
   "metadata": {},
   "source": [
    "### 💡 Operadores Lógicos\n",
    "\n",
    "Permiten **combinar** o **modificar** expresiones booleanas. Son esenciales para tomar decisiones complejas en tu código. 🚦\n",
    "\n",
    "#### Los tres operadores lógicos principales:\n",
    "- `and` (Y lógico)\n",
    "- `or` (O lógico)\n",
    "- `not` (Negación lógica)\n",
    "\n",
    "#### Tablas de Verdad:\n",
    "\n",
    "**`and` (Y lógico):**\n",
    "| Condición 1 | Condición 2 | Resultado |\n",
    "|-------------|-------------|----------|\n",
    "| `True`      | `True`      | `True`   |\n",
    "| `True`      | `False`     | `False`  |\n",
    "| `False`     | `True`      | `False`  |\n",
    "| `False`     | `False`     | `False`  |\n",
    "\n",
    "**`or` (O lógico):**\n",
    "| Condición 1 | Condición 2 | Resultado |\n",
    "|-------------|-------------|----------|\n",
    "| `True`      | `True`      | `True`   |\n",
    "| `True`      | `False`     | `True`   |\n",
    "| `False`     | `True`      | `True`   |\n",
    "| `False`     | `False`     | `False`  |\n",
    "\n",
    "**`not` (Negación lógica):**\n",
    "| Condición | Resultado |\n",
    "|-----------|----------|\n",
    "| `True`    | `False`  |\n",
    "| `False`   | `True`   |\n",
    "\n",
    "---"
   ]
  },
  {
   "cell_type": "code",
   "execution_count": null,
   "metadata": {},
   "outputs": [],
   "source": [
    "# Ejemplo Práctico de Operadores Lógicos\n",
    "es_dia_soleado = True\n",
    "tengo_sombrilla = False\n",
    "voy_a_playa = True\n",
    "\n",
    "# ¿Puedo ir a la playa SI hace sol Y tengo sombrilla?\n",
    "print(f\"¿Playa con sol y sombrilla? {es_dia_soleado and tengo_sombrilla}\")  # False\n",
    "\n",
    "# ¿Puedo ir al cine SI hace sol O tengo sombrilla?\n",
    "print(f\"¿Cine con sol o sombrilla? {es_dia_soleado or tengo_sombrilla}\")  # True\n",
    "\n",
    "# ¿NO voy a la playa?\n",
    "print(f\"¿No voy a la playa? {not voy_a_playa}\")  # False"
   ]
  },
  {
   "cell_type": "markdown",
   "metadata": {},
   "source": [
    "#### 🔐 Ejercicio: Acceso al Sistema\n",
    "\n",
    "Un usuario puede acceder si su contraseña es correcta Y su cuenta no está bloqueada.\n",
    "1. Definir `contrasena_correcta` como `True`.\n",
    "2. Definir `cuenta_bloqueada` como `False`.\n",
    "3. Utilizar operadores lógicos para determinar si el usuario tiene acceso.\n",
    "4. Imprimir el resultado.\n",
    "\n",
    "---"
   ]
  },
  {
   "cell_type": "code",
   "execution_count": null,
   "metadata": {},
   "outputs": [],
   "source": [
    "# Código de ejemplo para determinar acceso al sistema:\n",
    "contrasena_correcta = True\n",
    "cuenta_bloqueada = False\n",
    "\n",
    "# El usuario tiene acceso si la contraseña es correcta Y la cuenta NO está bloqueada.\n",
    "tiene_acceso = contrasena_correcta and (not cuenta_bloqueada)\n",
    "print(f\"¿Tiene acceso el usuario? {tiene_acceso}\")"
   ]
  },
  {
   "cell_type": "markdown",
   "metadata": {},
   "source": [
    "## ➡️ Operadores de Asignación\n",
    "\n",
    "Sirven para **asignar un valor a una variable**. El operador `=` es el más básico.\n",
    "\n",
    "### Operadores de Asignación Compuesta:\n",
    "Son atajos para realizar una operación y luego asignar el resultado.\n",
    "\n",
    "| Operador | Equivalente a    | Ejemplo   | Resultado     |\n",
    "|----------|------------------|-----------|---------------|\n",
    "| `+=`     | `x = x + y`      | `x += 5`  | `x = x + 5`   |\n",
    "| `-=`     | `x = x - y`      | `x -= 2`  | `x = x - 2`   |\n",
    "| `*=`     | `x = x * y`      | `x *= 3`  | `x = x * 3`   |\n",
    "| `/=`     | `x = x / y`      | `x /= 2`  | `x = x / 2`   |\n",
    "| `//=`    | `x = x // y`     | `x //= 4` | `x = x // 4`  |\n",
    "| `%=`     | `x = x % y`      | `x %= 3`  | `x = x % 3`   |\n",
    "| `**=`    | `x = x ** y`     | `x **= 2` | `x = x ** 2`  |\n",
    "\n",
    "---"
   ]
  },
  {
   "cell_type": "code",
   "execution_count": null,
   "metadata": {},
   "outputs": [],
   "source": [
    "# Ejemplo Práctico de Operadores de Asignación\n",
    "saldo = 100  # Saldo inicial\n",
    "\n",
    "saldo += 50  # saldo = saldo + 50 (saldo ahora es 150)\n",
    "print(f\"Saldo después de depósito: {saldo}\")\n",
    "\n",
    "saldo -= 20  # saldo = saldo - 20 (saldo ahora es 130)\n",
    "print(f\"Saldo después de retiro: {saldo}\")\n",
    "\n",
    "multiplicador = 2\n",
    "multiplicador *= 3  # multiplicador = multiplicador * 3 (multiplicador ahora es 6)\n",
    "print(f\"Multiplicador actualizado: {multiplicador}\")"
   ]
  },
  {
   "cell_type": "markdown",
   "metadata": {},
   "source": [
    "#### 🎮 Ejercicio: Pares ganan\n",
    "\n",
    "Hay que determinar si un número es par o impar. Si el número es par, se le debe sumar el cuadrado del número anterior.\n",
    "\n",
    "---"
   ]
  },
  {
   "cell_type": "code",
   "execution_count": null,
   "metadata": {},
   "outputs": [],
   "source": [
    "numero = 90\n",
    "\n",
    "# Determinar si es par\n",
    "residuo = numero % 2\n",
    "es_par = residuo == 0\n",
    "\n",
    "# Hacer la suma\n",
    "numero_anterior = numero - 1\n",
    "numero_anterior_al_cuadrado = numero_anterior ** 2\n",
    "\n",
    "numero += int(es_par) * numero_anterior_al_cuadrado"
   ]
  },
  {
   "cell_type": "markdown",
   "metadata": {},
   "source": [
    "### 🔍 Operadores de Membresía (`in`, `not in`)\n",
    "\n",
    "Permiten verificar si un valor se encuentra **dentro de una secuencia** (como una cadena de texto, una lista o una tupla). Piensa: \"¿Está 'manzana' en mi cesta de frutas?\" 🍎🧺\n",
    "\n",
    "**Operadores de Membresía:**\n",
    "- `in`: Retorna `True` si el valor está presente en la secuencia.\n",
    "- `not in`: Retorna `True` si el valor **NO** está presente en la secuencia.\n",
    "\n",
    "---"
   ]
  },
  {
   "cell_type": "code",
   "execution_count": null,
   "metadata": {},
   "outputs": [],
   "source": [
    "# Ejemplo Práctico de Operadores de Membresía\n",
    "frutas = [\"manzana\", \"banana\", \"cereza\"]\n",
    "texto = \"Hola mundo Python\"\n",
    "\n",
    "print(f\"¿'banana' está en frutas? {'banana' in frutas}\")  # True\n",
    "print(f\"¿'uva' está en frutas? {'uva' in frutas}\")      # False\n",
    "\n",
    "print(f\"¿'mundo' está en texto? {'mundo' in texto}\")     # True\n",
    "print(f\"¿'java' no está en texto? {'java' not in texto}\")  # True\n",
    "\n",
    "letra = \"o\"\n",
    "print(f\"¿La letra 'o' está en 'Python'? {letra in 'Python'}\")  # True"
   ]
  },
  {
   "cell_type": "markdown",
   "metadata": {},
   "source": [
    "#### 📚 Ejercicio: Buscador de Palabras\n",
    "\n",
    "Verificar si una palabra clave está presente en una frase. Por ejemplo, la palabra `lenguaje` está dentro de la frase `Python es un lenguaje de programación`.\n",
    "\n",
    "---"
   ]
  },
  {
   "cell_type": "code",
   "execution_count": null,
   "metadata": {},
   "outputs": [],
   "source": [
    "# Código de ejemplo para buscar una palabra en una frase:\n",
    "frase = \"Python es un lenguaje de programación poderoso\"\n",
    "palabra_clave = \"lenguaje\"\n",
    "\n",
    "esta_presente = palabra_clave in frase\n",
    "print(f\"¿La palabra '{palabra_clave}' está en la frase? {esta_presente}\")\n",
    "print(f\"Posición de la palabra: {frase.find(palabra_clave)}\")"
   ]
  },
  {
   "cell_type": "markdown",
   "metadata": {},
   "source": [
    "### 🆔 Operadores de Identidad (`is`, `is not`)\n",
    "\n",
    "Permiten verificar si dos variables se refieren al **mismo objeto en memoria**. Es diferente de `==` que compara solo los *valores*. Piensa: \"¿Son estas dos llaves exactamente la MISMA llave?\" 🔑🔑\n",
    "\n",
    "**Operadores de Identidad:**\n",
    "- `is`: Retorna `True` si ambos operandos son el mismo objeto.\n",
    "- `is not`: Retorna `True` si ambos operandos **NO** son el mismo objeto.\n",
    "\n",
    "#### Diferencia clave: `is` vs `==`\n",
    "- `==` compara **valores**.\n",
    "- `is` compara **identidad** (si es el mismo objeto).\n",
    "\n",
    "---"
   ]
  },
  {
   "cell_type": "code",
   "execution_count": null,
   "metadata": {},
   "outputs": [],
   "source": [
    "# Ejemplo con listas (objetos mutables)\n",
    "lista1 = [1, 2, 3]\n",
    "lista2 = [1, 2, 3]  # Nueva lista, mismo contenido\n",
    "lista3 = lista1     # 'lista3' ahora apunta al MISMO objeto que 'lista1'\n",
    "\n",
    "print(f\"lista1 == lista2: {lista1 == lista2}\")  # True (mismo valor)\n",
    "print(f\"lista1 is lista2: {lista1 is lista2}\")  # False (objetos diferentes en memoria)\n",
    "\n",
    "print(f\"lista1 == lista3: {lista1 == lista3}\")  # True (mismo valor)\n",
    "print(f\"lista1 is lista3: {lista1 is lista3}\")  # True (es el mismo objeto)"
   ]
  },
  {
   "cell_type": "code",
   "execution_count": null,
   "metadata": {},
   "outputs": [],
   "source": [
    "# Ejemplo con números y cadenas (inmutables)\n",
    "# Para tipos inmutables, Python a veces optimiza y usa el mismo objeto para valores idénticos\n",
    "a = 10\n",
    "b = 10\n",
    "print(f\"a is b: {a is b}\")  # True (Python optimiza enteros pequeños)\n",
    "\n",
    "s1 = \"Hola\"\n",
    "s2 = \"Hola\"\n",
    "print(f\"s1 is s2: {s1 is s2}\")  # True (Python optimiza cadenas cortas)\n",
    "\n",
    "# Nota: Para comparar valores, siempre usa == en lugar de is"
   ]
  },
  {
   "cell_type": "markdown",
   "metadata": {},
   "source": [
    "#### 👯 Ejercicio: ¿Mismo Objeto?\n",
    "\n",
    "1. Crear una lista `mi_primer_lista = [10, 20]`.\n",
    "2. Crear una segunda lista `mi_segunda_lista = [10, 20]`.\n",
    "3. Crear una tercera variable `referencia_lista = mi_primer_lista`.\n",
    "4. Determinar cuáles listas corresponden al mismo objeto.\n",
    "6. Imprimir los resultados.\n",
    "\n",
    "---"
   ]
  },
  {
   "cell_type": "code",
   "execution_count": null,
   "metadata": {},
   "outputs": [],
   "source": [
    "# Tu código aquí:\n",
    "mi_primer_lista = [10, 20]\n",
    "mi_segunda_lista = [10, 20]\n",
    "referencia_lista = mi_primer_lista\n",
    "\n",
    "print(f\"¿'mi_primer_lista' es el mismo objeto que 'mi_segunda_lista'? {mi_primer_lista is mi_segunda_lista}\")\n",
    "# Output: False (son dos listas diferentes en memoria, aunque con el mismo contenido)\n",
    "\n",
    "print(f\"¿'mi_primer_lista' es el mismo objeto que 'referencia_lista'? {mi_primer_lista is referencia_lista}\")\n",
    "# Output: True ('referencia_lista' apunta al mismo objeto que 'mi_primer_lista')"
   ]
  },
  {
   "cell_type": "markdown",
   "metadata": {},
   "source": [
    "---\n",
    "\n",
    "## 2. Evaluación de expresiones: precedencia y asociatividad\n",
    "\n",
    "---\n",
    "\n",
    "Cuando se tiene una expresión con varios operadores, ¿en qué orden se ejecutan? ¡Aquí entran la **precedencia** y la **asociatividad**!\n",
    "\n",
    "### Precedencia de Operadores 🏆\n",
    "\n",
    "La **precedencia** determina el orden en que se evalúan los operadores. Es como el \"orden de las operaciones\" en matemáticas.\n",
    "\n",
    "#### Orden general (de mayor a menor precedencia):\n",
    "1. **Paréntesis `()`**: ¡Lo que está dentro se evalúa primero! 🚀\n",
    "2. **Exponenciación `**`**\n",
    "3. **Multiplicación `*`, División `/`, División Entera `//`, Módulo `%`**\n",
    "4. **Suma `+`, Resta `-`**\n",
    "5. **Comparación `==`, `!=`, `>`, `<`, `>=`, `<=`**\n",
    "6. **Identidad `is`, `is not`**\n",
    "7. **Membresía `in`, `not in`**\n",
    "8. **Negación lógica `not`**\n",
    "9. **AND lógico `and`**\n",
    "10. **OR lógico `or`**\n",
    "\n",
    "---"
   ]
  },
  {
   "cell_type": "code",
   "execution_count": null,
   "metadata": {},
   "outputs": [],
   "source": [
    "# Ejemplo de Precedencia\n",
    "resultado = 5 + 3 * 2  # ¿Es 16 o 11?\n",
    "# Multiplicación (*) tiene mayor precedencia que Suma (+)\n",
    "# 1. 3 * 2 = 6\n",
    "# 2. 5 + 6 = 11\n",
    "print(f\"5 + 3 * 2 = {resultado}\")  # 11\n",
    "\n",
    "# Usando Paréntesis para Forzar el Orden\n",
    "resultado_forzado = (5 + 3) * 2\n",
    "# Paréntesis se evalúa primero\n",
    "# 1. (5 + 3) = 8\n",
    "# 2. 8 * 2 = 16\n",
    "print(f\"(5 + 3) * 2 = {resultado_forzado}\")  # 16"
   ]
  },
  {
   "cell_type": "markdown",
   "metadata": {},
   "source": [
    "### Asociatividad de Operadores ↔️\n",
    "\n",
    "La **asociatividad** determina cómo se evalúan los operadores de la **misma precedencia**. ¿De izquierda a derecha o de derecha a izquierda?\n",
    "\n",
    "**Mayoría de operadores en Python:**\n",
    "Son **asociativos de izquierda a derecha**.\n",
    "Ejemplo: `10 - 5 - 2` -> `(10 - 5) - 2` -> `5 - 2` -> `3`\n",
    "\n",
    "**Excepción importante: Exponenciación `**`**\n",
    "Es **asociativa de derecha a izquierda**.\n",
    "Ejemplo: `2 ** 3 ** 2` -> `2 ** (3 ** 2)` -> `2 ** 9` -> `512`\n",
    "\n",
    "---"
   ]
  },
  {
   "cell_type": "code",
   "execution_count": null,
   "metadata": {},
   "outputs": [],
   "source": [
    "# Ejemplo de Asociatividad\n",
    "print(f\"10 - 5 - 2 = {10 - 5 - 2}\")    # (10 - 5) - 2 = 5 - 2 = 3\n",
    "print(f\"2 ** 3 ** 2 = {2 ** 3 ** 2}\")  # 2 ** (3 ** 2) = 2 ** 9 = 512"
   ]
  },
  {
   "cell_type": "markdown",
   "metadata": {},
   "source": [
    "#### 🤯 Ejercicio: Evaluación Compleja\n",
    "\n",
    "Evalúe la siguiente expresión y predice su resultado. Luego, verifique con Python.\n",
    "`resultado = 10 + 2 * 5 - (8 / 4) ** 2`\n",
    "\n",
    "---"
   ]
  },
  {
   "cell_type": "code",
   "execution_count": null,
   "id": "c63e6234",
   "metadata": {},
   "outputs": [],
   "source": [
    "# 1. Se ejecuta 2 * 5\n",
    "# 2. Se ejecuta 8 / 4\n",
    "# 3. Se ejecuta (8 / 4) ** 2\n",
    "# 4. Se ejecuta 10 + 2 * 5\n",
    "# 5. Se ejecuta 10 + 2 * 5 - (8 / 4) ** 2"
   ]
  },
  {
   "cell_type": "markdown",
   "id": "43763c99",
   "metadata": {},
   "source": [
    "## 🎯 Resumen y Ejercicios de Repaso\n",
    "\n",
    "Se presentó una síntesis de los operadores y expresiones en Python.\n",
    "\n",
    "### 📚 Contenidos revisados\n",
    "\n",
    "1. **Operadores aritméticos, relacionales, lógicos, de asignación, de membresía y de identidad**:\n",
    "   - Qué es un operador y cómo se usan en Python para realizar cálculos, comparaciones y operaciones lógicas.\n",
    "   - Diferencias y ejemplos prácticos de cada tipo de operador.\n",
    "\n",
    "2. **Evaluación de expresiones: precedencia y asociatividad**:\n",
    "   - Cómo Python decide el orden de evaluación cuando hay varios operadores en una expresión.\n",
    "   - Reglas de precedencia y asociatividad, y cómo afectan el resultado de los cálculos.\n",
    "   - Uso de paréntesis para controlar el orden de las operaciones.\n",
    "\n",
    "---"
   ]
  },
  {
   "cell_type": "markdown",
   "id": "7809c37f",
   "metadata": {},
   "source": [
    "## 📝 Ejercicios de Práctica Final\n",
    "\n",
    "A continuación se proponen ejercicios organizados por tema para consolidar los conceptos.\n",
    "\n",
    "### 1️⃣ **Ejercicios: Operadores y Expresiones Básicas**\n",
    "\n",
    "**Ejercicio 1.1 - Calculadora de Propinas**\n",
    "\n",
    "```python\n",
    "# Calcular el monto de la propina (18%) y el total a pagar para una cuenta de $125.50.\n",
    "# ¿Cuánto paga cada persona si dividen la cuenta entre 4?\n",
    "```\n",
    "\n",
    "**Ejercicio 1.2 - Conversión de Tiempo**\n",
    "\n",
    "```python\n",
    "# Convertir 7265 segundos a formato horas:minutos:segundos usando división entera y módulo.\n",
    "```\n",
    "\n",
    "**Ejercicio 1.3 - Cajero Automático**\n",
    "\n",
    "```python\n",
    "# Se tienen $763. Hay que desglosar esta cantidad en billetes de 100, 50, 20, 10, 5, 2 y 1.\n",
    "# Usando operadores aritméticos y de asignación, encuentre la cantidad de billetes de cada denominación.\n",
    "# Imprima la cantidad de billetes para cada valor.\n",
    "```\n",
    "\n",
    "-----\n",
    "\n",
    "### 2️⃣ **Ejercicios: Operadores Relacionales, Lógicos y Precedencia**\n",
    "\n",
    "**Ejercicio 2.1 - Sistema de Calificaciones**\n",
    "\n",
    "```python\n",
    "# Dada una nota = 87, hay que determinar si la persona ha pasado el curso, debe ir a ampliación o ha reprobado usando operadores relacionales.\n",
    "# Imprima las evaluaciones booleanas para cada rango.\n",
    "```\n",
    "\n",
    "**Ejercicio 2.2 - Evaluación de Expresión Compleja**\n",
    "\n",
    "```python\n",
    "# Evalúe y explique paso a paso el orden en el que se resuelve esta expresión: resultado = 10 + 2 * 5 - (8 / 4) ** 2\n",
    "# Escriba los pasos intermedios como comentarios.\n",
    "```\n",
    "\n",
    "**Ejercicio 2.3 - Verificador de Contraseña Segura**\n",
    "\n",
    "```python\n",
    "# Evalúe la fortaleza de una contraseña basándose en múltiples criterios.\n",
    "# La contraseña es segura si:\n",
    "# 1. Tiene al menos 8 caracteres.\n",
    "# 2. Contiene al menos un número.\n",
    "# 3. Contiene al menos una letra mayúscula.\n",
    "# 4. No contiene la palabra 'password' (sin importar mayúsculas/minúsculas).\n",
    "# Imprima si la contraseña es segura o no.\n",
    "```\n",
    "\n",
    "-----\n",
    "\n",
    "### 3️⃣ **Ejercicios Integrados: Lógica y Operadores Combinados**\n",
    "\n",
    "**Ejercicio 3.1 - Calculadora de Descuentos por Membresía**\n",
    "\n",
    "```python\n",
    "# Calcule el precio final de una compra basándose en reglas de descuento.\n",
    "# Variables iniciales: precio_base = 250, tipo_cliente = 'VIP', cantidad_productos = 6.\n",
    "# Aplique un 15% de descuento si el cliente es 'VIP'.\n",
    "# Aplique un descuento adicional del 10% si la cantidad_productos es mayor a 5.\n",
    "# Use operadores relacionales y lógicos para combinar las condiciones y calcular el precio final.\n",
    "```\n",
    "\n",
    "-----\n",
    "\n",
    "### 4️⃣ **Ejercicios de Repaso y Profundización**\n",
    "\n",
    "**Ejercicio 4.1 - Analizador de Texto**\n",
    "\n",
    "```python\n",
    "# Dado un texto, verifique si contiene la palabra 'Python', alguna vocal, números y caracteres especiales.\n",
    "# Imprima un booleano para cada tipo de contenido.\n",
    "```\n",
    "\n",
    "**Ejercicio 4.2 - Evaluador de Expresiones Booleanas Anidadas**\n",
    "\n",
    "```python\n",
    "# Evalúe la siguiente expresión y prediga el resultado antes de ejecutar el código.\n",
    "# Explique el orden de las operaciones usando la precedencia y asociatividad.\n",
    "# Expresión: (True or False) and (not False and 10 > 5)\n",
    "```\n",
    "\n",
    "-----\n",
    "\n",
    "### 📋 Instrucciones para resolver\n",
    "\n",
    "1. Copiar cada ejercicio a una nueva celda de código.\n",
    "2. Resolver paso a paso.\n",
    "3. Ejecutar para verificar resultados.\n",
    "4. Experimentar modificando valores.\n",
    "5. Consultar dudas cuando sea necesario."
   ]
  }
 ],
 "metadata": {
  "language_info": {
   "name": "python"
  }
 },
 "nbformat": 4,
 "nbformat_minor": 5
}
