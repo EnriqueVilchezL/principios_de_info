{
  "cells": [
    {
      "cell_type": "markdown",
      "metadata": {},
      "source": [
        "# 3. Operadores y expresiones ➕➖\n",
        "\n",
        "**Principios de Informática - UCR ECCI**\n",
        "\n",
        "---\n",
        "\n",
        "## ¡Bienvenido al mundo de las operaciones! 🧠\n",
        "\n",
        "**Hoy aprenderemos a:**\n",
        "- Realizar **cálculos** con operadores aritméticos. 🔢\n",
        "- Hacer **comparaciones** lógicas. ✅❌\n",
        "- Combinar **condiciones**. 🚦\n",
        "- Guardar y actualizar **valores**. 💾\n",
        "- Entender el **orden** de las operaciones. 🚀"
      ]
    },
    {
      "cell_type": "markdown",
      "metadata": {},
      "source": [
        "## ¿Qué son los Operadores? 🛠️\n",
        "\n",
        "Los **operadores** son símbolos especiales que realizan operaciones sobre uno o más valores (llamados operandos).\n",
        "\n",
        "**Operando + Operador + Operando = Resultado**  \n",
        "`5` `+` `3` `=` `8`"
      ]
    },
    {
      "cell_type": "markdown",
      "metadata": {},
      "source": [
        "## ➕➖ Operadores Aritméticos\n",
        "\n",
        "Nos permiten realizar **cálculos matemáticos** básicos. Son como las funciones de una calculadora. 🧮\n",
        "\n",
        "| Operador | Nombre           | Ejemplo         | Resultado |\n",
        "|----------|------------------|-----------------|-----------|\n",
        "| `+`      | Suma             | `5 + 3`         | `8`       |\n",
        "| `-`      | Resta            | `10 - 4`        | `6`       |\n",
        "| `*`      | Multiplicación   | `2 * 6`         | `12`      |\n",
        "| `/`      | División         | `10 / 3`        | `3.33...` |\n",
        "| `//`     | División Entera  | `10 // 3`       | `3`       |\n",
        "| `%`      | Módulo (Resto)   | `10 % 3`        | `1`       |\n",
        "| `**`     | Exponenciación   | `2 ** 3`        | `8`       |"
      ]
    },
    {
      "cell_type": "code",
      "execution_count": null,
      "metadata": {},
      "outputs": [],
      "source": [
        "# Ejemplo Práctico de Operadores Aritméticos\n",
        "a = 15\n",
        "b = 4\n",
        "\n",
        "print(f\"Suma: {a + b}\")               # 19\n",
        "print(f\"Resta: {a - b}\")              # 11\n",
        "print(f\"Multiplicación: {a * b}\")     # 60\n",
        "print(f\"División: {a / b}\")           # 3.75\n",
        "print(f\"División Entera: {a // b}\")   # 3\n",
        "print(f\"Módulo: {a % b}\")             # 3 (15 = 4*3 + 3)\n",
        "print(f\"Potencia: {a ** 2}\")          # 225 (15 al cuadrado)"
      ]
    },
    {
      "cell_type": "markdown",
      "metadata": {},
      "source": [
        "### 📐 Ejercicio: Calculadora de Área\n",
        "\n",
        "**Consigna:**\n",
        "Calcula el área de un rectángulo.\n",
        "1. Define una variable `ancho` con valor `7.5`.\n",
        "2. Define una variable `alto` con valor `4`.\n",
        "3. Usa el operador de multiplicación para calcular el área.\n",
        "4. Imprime el resultado."
      ]
    },
    {
      "cell_type": "code",
      "execution_count": null,
      "metadata": {},
      "outputs": [],
      "source": [
        "# Tu código aquí:\n",
        "ancho = 7.5\n",
        "alto = 4\n",
        "\n",
        "area = ancho * alto\n",
        "print(f\"El área del rectángulo es: {area}\")"
      ]
    },
    {
      "cell_type": "markdown",
      "metadata": {},
      "source": [
        "## ⚖️ Operadores Relacionales (Comparación)\n",
        "\n",
        "Nos permiten **comparar** dos valores. El resultado de una comparación siempre es un valor **booleano**: `True` o `False`. ✅❌\n",
        "\n",
        "| Operador | Nombre                    | Ejemplo       | Resultado |\n",
        "|----------|---------------------------|---------------|----------|\n",
        "| `==`     | Igual a                   | `5 == 5`      | `True`   |\n",
        "| `!=`     | Diferente de (No igual a) | `10 != 5`     | `True`   |\n",
        "| `>`      | Mayor que                 | `7 > 3`       | `True`   |\n",
        "| `<`      | Menor que                 | `2 < 8`       | `True`   |\n",
        "| `>=`     | Mayor o igual que         | `5 >= 5`      | `True`   |\n",
        "| `<=`     | Menor o igual que         | `4 <= 2`      | `False`  |"
      ]
    },
    {
      "cell_type": "code",
      "execution_count": null,
      "metadata": {},
      "outputs": [],
      "source": [
        "# Ejemplo Práctico de Operadores Relacionales\n",
        "edad_juan = 20\n",
        "edad_maria = 25\n",
        "\n",
        "print(f\"¿Juan es mayor que María? {edad_juan > edad_maria}\")  # False\n",
        "print(f\"¿Juan y María tienen la misma edad? {edad_juan == edad_maria}\")  # False\n",
        "print(f\"¿María es mayor o igual que Juan? {edad_maria >= edad_juan}\")  # True\n",
        "\n",
        "nombre = \"Ana\"\n",
        "otro_nombre = \"ana\"\n",
        "print(f\"¿Son los nombres iguales? {nombre == otro_nombre}\")  # False (sensible a mayúsculas)"
      ]
    },
    {
      "cell_type": "markdown",
      "metadata": {},
      "source": [
        "### 🎓 Ejercicio: ¿Aprobado o Reprobado?\n",
        "\n",
        "**Consigna:**\n",
        "Determina si un estudiante aprobó o no.\n",
        "1. Define una variable `calificacion` con valor `75`.\n",
        "2. Define una variable `minimo_aprobacion` con valor `70`.\n",
        "3. Usa un operador relacional para verificar si `calificacion` es mayor o igual que `minimo_aprobacion`.\n",
        "4. Imprime el resultado booleano."
      ]
    },
    {
      "cell_type": "code",
      "execution_count": null,
      "metadata": {},
      "outputs": [],
      "source": [
        "# Tu código aquí:\n",
        "calificacion = 75\n",
        "minimo_aprobacion = 70\n",
        "\n",
        "aprobado = calificacion >= minimo_aprobacion\n",
        "print(f\"¿El estudiante aprobó? {aprobado}\")"
      ]
    },
    {
      "cell_type": "markdown",
      "metadata": {},
      "source": [
        "## 💡 Operadores Lógicos\n",
        "\n",
        "Nos permiten **combinar** o **modificar** expresiones booleanas. Son esenciales para tomar decisiones complejas en tu código. 🚦\n",
        "\n",
        "### Los tres operadores lógicos principales:\n",
        "- `and` (Y lógico)\n",
        "- `or` (O lógico)\n",
        "- `not` (Negación lógica)\n",
        "\n",
        "### Tablas de Verdad:\n",
        "\n",
        "**`and` (Y lógico):**\n",
        "| Condición 1 | Condición 2 | Resultado |\n",
        "|-------------|-------------|----------|\n",
        "| `True`      | `True`      | `True`   |\n",
        "| `True`      | `False`     | `False`  |\n",
        "| `False`     | `True`      | `False`  |\n",
        "| `False`     | `False`     | `False`  |\n",
        "\n",
        "**`or` (O lógico):**\n",
        "| Condición 1 | Condición 2 | Resultado |\n",
        "|-------------|-------------|----------|\n",
        "| `True`      | `True`      | `True`   |\n",
        "| `True`      | `False`     | `True`   |\n",
        "| `False`     | `True`      | `True`   |\n",
        "| `False`     | `False`     | `False`  |\n",
        "\n",
        "**`not` (Negación lógica):**\n",
        "| Condición | Resultado |\n",
        "|-----------|----------|\n",
        "| `True`    | `False`  |\n",
        "| `False`   | `True`   |"
      ]
    },
    {
      "cell_type": "code",
      "execution_count": null,
      "metadata": {},
      "outputs": [],
      "source": [
        "# Ejemplo Práctico de Operadores Lógicos\n",
        "es_dia_soleado = True\n",
        "tengo_sombrilla = False\n",
        "voy_a_playa = True\n",
        "\n",
        "# ¿Puedo ir a la playa SI hace sol Y tengo sombrilla?\n",
        "print(f\"¿Playa con sol y sombrilla? {es_dia_soleado and tengo_sombrilla}\")  # False\n",
        "\n",
        "# ¿Puedo ir al cine SI hace sol O tengo sombrilla?\n",
        "print(f\"¿Cine con sol o sombrilla? {es_dia_soleado or tengo_sombrilla}\")  # True\n",
        "\n",
        "# ¿NO voy a la playa?\n",
        "print(f\"¿No voy a la playa? {not voy_a_playa}\")  # False"
      ]
    },
    {
      "cell_type": "markdown",
      "metadata": {},
      "source": [
        "### 🔐 Ejercicio: Acceso al Sistema\n",
        "\n",
        "**Consigna:**\n",
        "Un usuario puede acceder si su contraseña es correcta Y su cuenta no está bloqueada.\n",
        "1. Define `contrasena_correcta` como `True`.\n",
        "2. Define `cuenta_bloqueada` como `False`.\n",
        "3. Usa operadores lógicos para determinar si el usuario tiene acceso.\n",
        "4. Imprime el resultado."
      ]
    },
    {
      "cell_type": "code",
      "execution_count": null,
      "metadata": {},
      "outputs": [],
      "source": [
        "# Tu código aquí:\n",
        "contrasena_correcta = True\n",
        "cuenta_bloqueada = False\n",
        "\n",
        "# El usuario tiene acceso si la contraseña es correcta Y la cuenta NO está bloqueada.\n",
        "tiene_acceso = contrasena_correcta and (not cuenta_bloqueada)\n",
        "print(f\"¿Tiene acceso el usuario? {tiene_acceso}\")"
      ]
    },
    {
      "cell_type": "markdown",
      "metadata": {},
      "source": [
        "## ➡️ Operadores de Asignación\n",
        "\n",
        "Sirven para **asignar un valor a una variable**. El operador `=` es el más básico.\n",
        "\n",
        "### Operadores de Asignación Compuesta:\n",
        "Son atajos para realizar una operación y luego asignar el resultado.\n",
        "\n",
        "| Operador | Equivalente a    | Ejemplo   | Resultado     |\n",
        "|----------|------------------|-----------|---------------|\n",
        "| `+=`     | `x = x + y`      | `x += 5`  | `x = x + 5`   |\n",
        "| `-=`     | `x = x - y`      | `x -= 2`  | `x = x - 2`   |\n",
        "| `*=`     | `x = x * y`      | `x *= 3`  | `x = x * 3`   |\n",
        "| `/=`     | `x = x / y`      | `x /= 2`  | `x = x / 2`   |\n",
        "| `//=`    | `x = x // y`     | `x //= 4` | `x = x // 4`  |\n",
        "| `%=`     | `x = x % y`      | `x %= 3`  | `x = x % 3`   |\n",
        "| `**=`    | `x = x ** y`     | `x **= 2` | `x = x ** 2`  |"
      ]
    },
    {
      "cell_type": "code",
      "execution_count": null,
      "metadata": {},
      "outputs": [],
      "source": [
        "# Ejemplo Práctico de Operadores de Asignación\n",
        "saldo = 100  # Saldo inicial\n",
        "\n",
        "saldo += 50  # saldo = saldo + 50 (saldo ahora es 150)\n",
        "print(f\"Saldo después de depósito: {saldo}\")\n",
        "\n",
        "saldo -= 20  # saldo = saldo - 20 (saldo ahora es 130)\n",
        "print(f\"Saldo después de retiro: {saldo}\")\n",
        "\n",
        "multiplicador = 2\n",
        "multiplicador *= 3  # multiplicador = multiplicador * 3 (multiplicador ahora es 6)\n",
        "print(f\"Multiplicador actualizado: {multiplicador}\")"
      ]
    },
    {
      "cell_type": "markdown",
      "metadata": {},
      "source": [
        "### 🎮 Ejercicio: Contador de Puntos\n",
        "\n",
        "**Consigna:**\n",
        "Un jugador obtiene puntos en un juego.\n",
        "1. Define una variable `puntuacion` con valor `0`.\n",
        "2. El jugador gana 100 puntos. Usa un operador de asignación para actualizar `puntuacion`.\n",
        "3. Luego, la puntuación se duplica por un bonus. Usa otro operador de asignación para esto.\n",
        "4. Imprime la `puntuacion` final."
      ]
    },
    {
      "cell_type": "code",
      "execution_count": null,
      "metadata": {},
      "outputs": [],
      "source": [
        "# Tu código aquí:\n",
        "puntuacion = 0\n",
        "\n",
        "# El jugador gana 100 puntos\n",
        "puntuacion += 100  # puntuacion ahora es 100\n",
        "\n",
        "# La puntuación se duplica\n",
        "puntuacion *= 2  # puntuacion ahora es 200\n",
        "\n",
        "print(f\"Puntuación final: {puntuacion}\")"
      ]
    },
    {
      "cell_type": "markdown",
      "metadata": {},
      "source": [
        "## 🔍 Operadores de Membresía (`in`, `not in`)\n",
        "\n",
        "Nos permiten verificar si un valor se encuentra **dentro de una secuencia** (como una cadena de texto, una lista o una tupla). Piensa: \"¿Está 'manzana' en mi cesta de frutas?\" 🍎🧺\n",
        "\n",
        "**Operadores de Membresía:**\n",
        "- `in`: Retorna `True` si el valor está presente en la secuencia.\n",
        "- `not in`: Retorna `True` si el valor **NO** está presente en la secuencia."
      ]
    },
    {
      "cell_type": "code",
      "execution_count": null,
      "metadata": {},
      "outputs": [],
      "source": [
        "# Ejemplo Práctico de Operadores de Membresía\n",
        "frutas = [\"manzana\", \"banana\", \"cereza\"]\n",
        "texto = \"Hola mundo Python\"\n",
        "\n",
        "print(f\"¿'banana' está en frutas? {'banana' in frutas}\")  # True\n",
        "print(f\"¿'uva' está en frutas? {'uva' in frutas}\")      # False\n",
        "\n",
        "print(f\"¿'mundo' está en texto? {'mundo' in texto}\")     # True\n",
        "print(f\"¿'java' no está en texto? {'java' not in texto}\")  # True\n",
        "\n",
        "letra = \"o\"\n",
        "print(f\"¿La letra 'o' está en 'Python'? {letra in 'Python'}\")  # True"
      ]
    },
    {
      "cell_type": "markdown",
      "metadata": {},
      "source": [
        "### 📚 Ejercicio: Buscador de Palabras\n",
        "\n",
        "**Consigna:**\n",
        "Verifica si una palabra clave está presente en una frase.\n",
        "1. Define `frase = \"Python es un lenguaje de programación poderoso\"`.\n",
        "2. Define `palabra_clave = \"lenguaje\"`.\n",
        "3. Usa el operador `in` para verificar si `palabra_clave` está en `frase`.\n",
        "4. Imprime el resultado."
      ]
    },
    {
      "cell_type": "code",
      "execution_count": null,
      "metadata": {},
      "outputs": [],
      "source": [
        "# Tu código aquí:\n",
        "frase = \"Python es un lenguaje de programación poderoso\"\n",
        "palabra_clave = \"lenguaje\"\n",
        "\n",
        "esta_presente = palabra_clave in frase\n",
        "print(f\"¿La palabra '{palabra_clave}' está en la frase? {esta_presente}\")"
      ]
    },
    {
      "cell_type": "markdown",
      "metadata": {},
      "source": [
        "## 🆔 Operadores de Identidad (`is`, `is not`)\n",
        "\n",
        "Nos permiten verificar si dos variables se refieren al **mismo objeto en memoria**. Es diferente de `==` que compara solo los *valores*. Piensa: \"¿Son estas dos llaves exactamente la MISMA llave?\" 🔑🔑\n",
        "\n",
        "**Operadores de Identidad:**\n",
        "- `is`: Retorna `True` si ambos operandos son el mismo objeto.\n",
        "- `is not`: Retorna `True` si ambos operandos **NO** son el mismo objeto.\n",
        "\n",
        "### Diferencia clave: `is` vs `==`\n",
        "- `==` compara **valores**.\n",
        "- `is` compara **identidad** (si es el mismo objeto)."
      ]
    },
    {
      "cell_type": "code",
      "execution_count": null,
      "metadata": {},
      "outputs": [],
      "source": [
        "# Ejemplo con listas (objetos mutables)\n",
        "lista1 = [1, 2, 3]\n",
        "lista2 = [1, 2, 3]  # Nueva lista, mismo contenido\n",
        "lista3 = lista1     # 'lista3' ahora apunta al MISMO objeto que 'lista1'\n",
        "\n",
        "print(f\"lista1 == lista2: {lista1 == lista2}\")  # True (mismo valor)\n",
        "print(f\"lista1 is lista2: {lista1 is lista2}\")  # False (objetos diferentes en memoria)\n",
        "\n",
        "print(f\"lista1 == lista3: {lista1 == lista3}\")  # True (mismo valor)\n",
        "print(f\"lista1 is lista3: {lista1 is lista3}\")  # True (es el mismo objeto)"
      ]
    },
    {
      "cell_type": "code",
      "execution_count": null,
      "metadata": {},
      "outputs": [],
      "source": [
        "# Ejemplo con números y cadenas (inmutables)\n",
        "# Para tipos inmutables, Python a veces optimiza y usa el mismo objeto para valores idénticos\n",
        "a = 10\n",
        "b = 10\n",
        "print(f\"a is b: {a is b}\")  # True (Python optimiza enteros pequeños)\n",
        "\n",
        "s1 = \"Hola\"\n",
        "s2 = \"Hola\"\n",
        "print(f\"s1 is s2: {s1 is s2}\")  # True (Python optimiza cadenas cortas)\n",
        "\n",
        "# Nota: Para comparar valores, siempre usa == en lugar de is"
      ]
    },
    {
      "cell_type": "markdown",
      "metadata": {},
      "source": [
        "### 👯 Ejercicio: ¿Mismo Objeto?\n",
        "\n",
        "**Consigna:**\n",
        "1. Crea una lista `mi_primer_lista = [10, 20]`.\n",
        "2. Crea una segunda lista `mi_segunda_lista = [10, 20]`.\n",
        "3. Crea una tercera variable `referencia_lista = mi_primer_lista`.\n",
        "4. Usa `is` para comparar `mi_primer_lista` con `mi_segunda_lista`.\n",
        "5. Usa `is` para comparar `mi_primer_lista` con `referencia_lista`.\n",
        "6. Imprime ambos resultados."
      ]
    },
    {
      "cell_type": "code",
      "execution_count": null,
      "metadata": {},
      "outputs": [],
      "source": [
        "# Tu código aquí:\n",
        "mi_primer_lista = [10, 20]\n",
        "mi_segunda_lista = [10, 20]\n",
        "referencia_lista = mi_primer_lista\n",
        "\n",
        "print(f\"¿'mi_primer_lista' es el mismo objeto que 'mi_segunda_lista'? {mi_primer_lista is mi_segunda_lista}\")\n",
        "# Output: False (son dos listas diferentes en memoria, aunque con el mismo contenido)\n",
        "\n",
        "print(f\"¿'mi_primer_lista' es el mismo objeto que 'referencia_lista'? {mi_primer_lista is referencia_lista}\")\n",
        "# Output: True ('referencia_lista' apunta al mismo objeto que 'mi_primer_lista')"
      ]
    },
    {
      "cell_type": "markdown",
      "metadata": {},
      "source": [
        "# Evaluación de Expresiones 🧠\n",
        "\n",
        "Cuando tienes una expresión con varios operadores, ¿en qué orden se ejecutan? ¡Aquí entran la **precedencia** y la **asociatividad**!\n",
        "\n",
        "## Precedencia de Operadores 🏆\n",
        "\n",
        "La **precedencia** determina el orden en que se evalúan los operadores. Es como el \"orden de las operaciones\" en matemáticas (PEMDAS/BODMAS).\n",
        "\n",
        "### Orden general (de mayor a menor precedencia):\n",
        "1. **Paréntesis `()`**: ¡Lo que está dentro se evalúa primero! 🚀\n",
        "2. **Exponenciación `**`**\n",
        "3. **Multiplicación `*`, División `/`, División Entera `//`, Módulo `%`**\n",
        "4. **Suma `+`, Resta `-`**\n",
        "5. **Comparación `==`, `!=`, `>`, `<`, `>=`, `<=`**\n",
        "6. **Identidad `is`, `is not`**\n",
        "7. **Membresía `in`, `not in`**\n",
        "8. **Negación lógica `not`**\n",
        "9. **AND lógico `and`**\n",
        "10. **OR lógico `or`**"
      ]
    },
    {
      "cell_type": "code",
      "execution_count": null,
      "metadata": {},
      "outputs": [],
      "source": [
        "# Ejemplo de Precedencia\n",
        "resultado = 5 + 3 * 2  # ¿Es 16 o 11?\n",
        "# Multiplicación (*) tiene mayor precedencia que Suma (+)\n",
        "# 1. 3 * 2 = 6\n",
        "# 2. 5 + 6 = 11\n",
        "print(f\"5 + 3 * 2 = {resultado}\")  # 11\n",
        "\n",
        "# Usando Paréntesis para Forzar el Orden\n",
        "resultado_forzado = (5 + 3) * 2\n",
        "# Paréntesis se evalúa primero\n",
        "# 1. (5 + 3) = 8\n",
        "# 2. 8 * 2 = 16\n",
        "print(f\"(5 + 3) * 2 = {resultado_forzado}\")  # 16"
      ]
    },
    {
      "cell_type": "markdown",
      "metadata": {},
      "source": [
        "## Asociatividad de Operadores ↔️\n",
        "\n",
        "La **asociatividad** determina cómo se evalúan los operadores de la **misma precedencia**. ¿De izquierda a derecha o de derecha a izquierda?\n",
        "\n",
        "**Mayoría de operadores en Python:**\n",
        "Son **asociativos de izquierda a derecha**.\n",
        "Ejemplo: `10 - 5 - 2` -> `(10 - 5) - 2` -> `5 - 2` -> `3`\n",
        "\n",
        "**Excepción importante: Exponenciación `**`**\n",
        "Es **asociativa de derecha a izquierda**.\n",
        "Ejemplo: `2 ** 3 ** 2` -> `2 ** (3 ** 2)` -> `2 ** 9` -> `512`"
      ]
    },
    {
      "cell_type": "code",
      "execution_count": null,
      "metadata": {},
      "outputs": [],
      "source": [
        "# Ejemplo de Asociatividad\n",
        "print(f\"10 - 5 - 2 = {10 - 5 - 2}\")    # (10 - 5) - 2 = 5 - 2 = 3\n",
        "print(f\"2 ** 3 ** 2 = {2 ** 3 ** 2}\")  # 2 ** (3 ** 2) = 2 ** 9 = 512"
      ]
    },
    {
      "cell_type": "markdown",
      "metadata": {},
      "source": [
        "### 🤯 Ejercicio: Evaluación Compleja\n",
        "\n",
        "**Consigna:**\n",
        "Evalúa la siguiente expresión y predice su resultado. Luego, verifica con Python.\n",
        "`resultado = 10 + 2 * 5 - (8 / 4) ** 2`\n",
        "\n",
        "**Paso a paso:**\n",
        "1. **Paréntesis:** `(8 / 4)` -> `2.0`\n",
        "2. **Exponenciación:** `2.0 ** 2` -> `4.0`\n",
        "3. **Multiplicación:** `2 * 5` -> `10`\n",
        "4. **Suma/Resta (de izquierda a derecha):** `10 + 10 - 4.0` -> `16.0`"
      ]
    },
    {
      "cell_type": "markdown",
      "metadata": {},
      "source": [
        "# 🚀 Ejercicios Finales - Operadores y Expresiones\n",
        "\n",
        "Principios de Informática - UCR ECCI\n",
        "\n",
        "---\n",
        "\n",
        "## 📝 Instrucciones Generales\n",
        "- Resuelve cada ejercicio en la celda de código correspondiente\n",
        "- Incluye comentarios explicando tu razonamiento\n",
        "- Prueba tus soluciones con diferentes valores cuando sea apropiado\n",
        "- ¡No mires las soluciones hasta intentarlo por tu cuenta!"
      ]
    },
    {
      "cell_type": "markdown",
      "metadata": {},
      "source": [
        "## 🔢 Nivel Básico - Operadores Aritméticos"
      ]
    },
    {
      "cell_type": "markdown",
      "metadata": {},
      "source": [
        "### Ejercicio 1: Calculadora de Propinas 💰\n",
        "Eres mesero en un restaurante y necesitas calcular propinas.\n",
        "- El total de la cuenta es $125.50\n",
        "- La propina recomendada es el 18% del total\n",
        "- Calcula e imprime:\n",
        "  1. El monto de la propina\n",
        "  2. El total a pagar (cuenta + propina)\n",
        "  3. Si divides la cuenta entre 4 personas, ¿cuánto paga cada una?"
      ]
    },
    {
      "cell_type": "code",
      "execution_count": null,
      "metadata": {},
      "outputs": [],
      "source": [
        "# Tu código aquí:\n"
      ]
    },
    {
      "cell_type": "markdown",
      "metadata": {},
      "source": [
        "### Ejercicio 2: Conversión de Tiempo ⏰\n",
        "Convierte segundos a formato horas:minutos:segundos.\n",
        "- Tienes 7265 segundos\n",
        "- Calcula cuántas horas, minutos y segundos representan\n",
        "- Pista: Usa división entera (//) y módulo (%)"
      ]
    },
    {
      "cell_type": "code",
      "execution_count": null,
      "metadata": {},
      "outputs": [],
      "source": [
        "# Tu código aquí:\n"
      ]
    },
    {
      "cell_type": "markdown",
      "metadata": {},
      "source": [
        "## ⚖️ Nivel Intermedio - Operadores Relacionales y Lógicos"
      ]
    },
    {
      "cell_type": "markdown",
      "metadata": {},
      "source": [
        "### Ejercicio 3: Sistema de Calificaciones 🎓\n",
        "Implementa un sistema que determine la letra de calificación según la nota numérica:\n",
        "- Define una variable nota = 87\n",
        "- Usa operadores relacionales para determinar si la nota corresponde a:\n",
        "  - A: 90-100\n",
        "  - B: 80-89\n",
        "  - C: 70-79\n",
        "  - D: 60-69\n",
        "  - F: menor a 60\n",
        "- Imprime todas las evaluaciones booleanas"
      ]
    },
    {
      "cell_type": "code",
      "execution_count": null,
      "metadata": {},
      "outputs": [],
      "source": [
        "# Tu código aquí:\n"
      ]
    },
    {
      "cell_type": "markdown",
      "metadata": {},
      "source": [
        "### Ejercicio 4: Validador de Contraseña 🔐\n",
        "Crea un validador que verifique si una contraseña cumple los requisitos:\n",
        "- Define contrasena = \"MiClave123!\"\n",
        "- La contraseña debe:\n",
        "  - Tener al menos 8 caracteres\n",
        "  - Contener al menos un número\n",
        "  - Contener al menos una letra mayúscula\n",
        "- Imprime si cada condición se cumple y si la contraseña es válida en general"
      ]
    },
    {
      "cell_type": "code",
      "execution_count": null,
      "metadata": {},
      "outputs": [],
      "source": [
        "# Tu código aquí:\n"
      ]
    },
    {
      "cell_type": "markdown",
      "metadata": {},
      "source": [
        "## 🎮 Nivel Avanzado - Operadores Combinados"
      ]
    },
    {
      "cell_type": "markdown",
      "metadata": {},
      "source": [
        "### Ejercicio 5: Simulador de Juego RPG ⚔️\n",
        "Simula un sistema de combate básico:\n",
        "- Jugador: vida_jugador = 100, ataque_jugador = 25\n",
        "- Enemigo: vida_enemigo = 80, ataque_enemigo = 20\n",
        "- El jugador tiene una poción que cura 30 puntos\n",
        "- Simula 2 turnos de combate:\n",
        "  1. Jugador ataca primero\n",
        "  2. Enemigo contraataca\n",
        "  3. Jugador usa poción si su vida es menor a 50\n",
        "  4. Jugador ataca de nuevo\n",
        "- Imprime el estado después de cada acción"
      ]
    },
    {
      "cell_type": "code",
      "execution_count": null,
      "metadata": {},
      "outputs": [],
      "source": [
        "# Tu código aquí:\n"
      ]
    },
    {
      "cell_type": "markdown",
      "metadata": {},
      "source": [
        "### Ejercicio 6: Calculadora de Descuentos por Membresía 🛒\n",
        "Una tienda tiene diferentes descuentos según el tipo de cliente:\n",
        "- precio_original = 200\n",
        "- es_miembro_premium = True\n",
        "- es_estudiante = False\n",
        "- cantidad_productos = 3\n",
        "\n",
        "Reglas de descuento:\n",
        "- Miembros premium: 20% de descuento\n",
        "- Estudiantes: 15% de descuento\n",
        "- Si compras 3+ productos: 10% adicional\n",
        "- El descuento máximo es 35%\n",
        "- Si eres premium Y estudiante, solo aplica el mayor descuento\n",
        "\n",
        "Calcula e imprime el precio final."
      ]
    },
    {
      "cell_type": "code",
      "execution_count": null,
      "metadata": {},
      "outputs": [],
      "source": [
        "# Tu código aquí:\n"
      ]
    },
    {
      "cell_type": "markdown",
      "metadata": {},
      "source": [
        "## 🔍 Nivel Experto - Operadores de Membresía e Identidad"
      ]
    },
    {
      "cell_type": "markdown",
      "metadata": {},
      "source": [
        "### Ejercicio 7: Analizador de Texto 📝\n",
        "Analiza las características de un texto:\n",
        "- Define texto = \"Python es un Lenguaje de Programación Poderoso\"\n",
        "- Verifica si el texto contiene:\n",
        "  - La palabra 'Python'\n",
        "  - Alguna vocal (a, e, i, o, u)\n",
        "  - Números del 0 al 9\n",
        "  - Caracteres especiales (!@#$%^&*)\n",
        "- Cuenta cuántas palabras tienen más de 5 caracteres"
      ]
    },
    {
      "cell_type": "code",
      "execution_count": null,
      "metadata": {},
      "outputs": [],
      "source": [
        "# Tu código aquí:\n"
      ]
    },
    {
      "cell_type": "markdown",
      "metadata": {},
      "source": [
        "### Ejercicio 8: Detector de Listas Duplicadas 👯\n",
        "Trabaja con listas y referencias:\n",
        "- Crea tres listas:\n",
        "  - lista_a = [1, 2, 3, 4]\n",
        "  - lista_b = [1, 2, 3, 4]\n",
        "  - lista_c = lista_a\n",
        "- Verifica y explica las diferencias entre:\n",
        "  - lista_a == lista_b vs lista_a is lista_b\n",
        "  - lista_a == lista_c vs lista_a is lista_c\n",
        "- Modifica lista_c agregando el número 5\n",
        "- Vuelve a verificar todas las comparaciones"
      ]
    },
    {
      "cell_type": "code",
      "execution_count": null,
      "metadata": {},
      "outputs": [],
      "source": [
        "# Tu código aquí:\n"
      ]
    },
    {
      "cell_type": "markdown",
      "metadata": {},
      "source": [
        "## 🧠 Desafío Final - Precedencia y Evaluación"
      ]
    },
    {
      "cell_type": "markdown",
      "metadata": {},
      "source": [
        "### Ejercicio 9: Calculadora de Expresiones Complejas 🤯\n",
        "Evalúa las siguientes expresiones SIN usar Python primero. Predice el resultado y luego verifica:"
      ]
    },
    {
      "cell_type": "code",
      "execution_count": null,
      "metadata": {},
      "outputs": [],
      "source": [
        "# Predice primero, luego ejecuta:\n",
        "# expresion_1 = 2 + 3 * 4 ** 2 - 10 // 3\n",
        "# expresion_2 = (5 > 3) and (10 < 15) or not (8 == 8)\n",
        "# expresion_3 = 15 % 4 * 2 + 3 ** 2 // 2\n",
        "# expresion_4 = 'Hola' in 'Hola Mundo' and len('Python') > 5\n",
        "\n",
        "# Escribe tus predicciones aquí como comentarios:\n",
        "# Mi predicción para expresion_1: \n",
        "# Mi predicción para expresion_2: \n",
        "# Mi predicción para expresion_3: \n",
        "# Mi predicción para expresion_4: \n",
        "\n",
        "# Ahora verifica ejecutando el código:\n"
      ]
    },
    {
      "cell_type": "markdown",
      "metadata": {},
      "source": [
        "### Ejercicio 10: Proyecto Integrador - Sistema de Inventario 📦\n",
        "Crea un mini-sistema de inventario para una tienda:"
      ]
    },
    {
      "cell_type": "code",
      "execution_count": null,
      "metadata": {},
      "outputs": [],
      "source": [
        "# Datos iniciales\n",
        "producto = 'Laptop'\n",
        "precio_base = 1500\n",
        "stock_inicial = 10\n",
        "ventas_del_dia = 3\n",
        "descuento_porcentaje = 12\n",
        "es_producto_premium = True\n",
        "requiere_envio = True\n",
        "peso_kg = 2.5\n",
        "\n",
        "# Tu sistema debe:\n",
        "# 1. Calcular el precio con descuento\n",
        "# 2. Actualizar el stock después de las ventas\n",
        "# 3. Verificar si hay stock suficiente (stock > 5 es 'Alto', <= 5 es 'Bajo')\n",
        "# 4. Calcular el costo de envío ($10 base + $2 por kg si requiere envío)\n",
        "# 5. Determinar si el producto es 'Rentable' (precio final > $1000 AND es premium)\n",
        "# 6. Generar un reporte completo\n",
        "\n",
        "# Tu código aquí:\n"
      ]
    },
    {
      "cell_type": "markdown",
      "metadata": {},
      "source": [
        "## 🎯 Criterios de Evaluación\n",
        "\n",
        "Para cada ejercicio, asegúrate de:\n",
        "- ✅ Usar los operadores apropiados\n",
        "- ✅ Aplicar la precedencia correctamente\n",
        "- ✅ Incluir comentarios explicativos\n",
        "- ✅ Probar con diferentes casos\n",
        "- ✅ Formatear la salida de manera clara\n",
        "\n",
        "¡Buena suerte! 🍀"
      ]
    },
    {
      "cell_type": "markdown",
      "metadata": {},
      "source": [
        "---\n",
        "\n",
        "## 📚 Notas para el Profesor\n",
        "\n",
        "Conceptos evaluados por ejercicio:\n",
        "- Ejercicios 1-2: Operadores aritméticos básicos, precedencia\n",
        "- Ejercicios 3-4: Operadores relacionales, lógicos, membresía\n",
        "- Ejercicios 5-6: Operadores de asignación compuesta, lógica compleja\n",
        "- Ejercicios 7-8: Operadores de membresía, identidad, referencias\n",
        "- Ejercicios 9-10: Precedencia, evaluación de expresiones, integración\n"
      ]
    }
  ],
  "metadata": {
    "language_info": {
      "name": "python"
    }
  },
  "nbformat": 4,
  "nbformat_minor": 5
}
