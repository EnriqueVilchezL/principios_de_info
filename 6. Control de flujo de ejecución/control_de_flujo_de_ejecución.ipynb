{
 "cells": [
  {
   "cell_type": "markdown",
   "id": "99bff469",
   "metadata": {},
   "source": [
    "# Principios de Informática: Control de Flujo de Ejecución 🚦\n",
    "\n",
    "### Dándole a nuestro programa la capacidad de decidir y repetir\n",
    "\n",
    "**Curso:** Principios de Informática"
   ]
  },
  {
   "cell_type": "markdown",
   "id": "8a7f178d",
   "metadata": {},
   "source": [
    "---"
   ]
  },
  {
   "cell_type": "markdown",
   "id": "239c8914",
   "metadata": {},
   "source": [
    "## Introducción: El Poder de Tomar Decisiones 🧠\n",
    "\n",
    "Hasta ahora, nuestros programas han sido como una lista de tareas que se ejecutan una tras otra, sin desviarse. Pero la verdadera magia de la programación comienza cuando le damos a nuestros programas la capacidad de **pensar**: de evaluar condiciones, tomar diferentes caminos y repetir tareas.\n",
    "\n",
    "Imagina un GPS: no sigue una única ruta fija. Constantemente revisa: '¿Hay tráfico adelante?', 'Es esta la salida correcta?'. Basado en las respuestas, toma decisiones.\n",
    "\n",
    "Hoy, aprenderemos a darle ese poder a nuestros programas en Python."
   ]
  },
  {
   "cell_type": "markdown",
   "id": "0df68a77",
   "metadata": {},
   "source": [
    "---"
   ]
  },
  {
   "cell_type": "markdown",
   "id": "46a7805f",
   "metadata": {},
   "source": [
    "### ✅ Lo que aprenderemos hoy:\n",
    "\n",
    "  * **Secuencia y Bloques:** Cómo Python lee y agrupa nuestro código.\n",
    "  * **Condicionales (`if`, `elif`, `else`):** El arte de tomar decisiones.\n",
    "  * **Bucles (`while`, `for`):** Cómo repetir tareas de forma eficiente.\n",
    "  * **Manejo de Excepciones (`try...except`):** Qué hacer cuando las cosas no salen como se planean."
   ]
  },
  {
   "cell_type": "markdown",
   "id": "1a4b61a5",
   "metadata": {},
   "source": [
    "---"
   ]
  },
  {
   "cell_type": "markdown",
   "id": "bb719c63",
   "metadata": {},
   "source": [
    "## 📜 Secuencia y Bloques de Instrucciones"
   ]
  },
  {
   "cell_type": "markdown",
   "id": "b32f461c",
   "metadata": {},
   "source": [
    "---"
   ]
  },
  {
   "cell_type": "markdown",
   "id": "4d8c6356",
   "metadata": {},
   "source": [
    "### Secuencia de Instrucciones\n",
    "\n",
    "Por defecto, un programa en Python se ejecuta de forma **secuencial**: de arriba hacia abajo, una línea a la vez. Es como leer un libro, página por página."
   ]
  },
  {
   "cell_type": "markdown",
   "id": "5e90c6c3",
   "metadata": {},
   "source": [
    "---"
   ]
  },
  {
   "cell_type": "code",
   "execution_count": null,
   "id": "9873457a",
   "metadata": {},
   "outputs": [],
   "source": [
    "# Ejemplo de secuencia\n",
    "print(\"Paso 1: Iniciar proceso.\")\n",
    "print(\"Paso 2: Realizar cálculo.\")\n",
    "print(\"Paso 3: Finalizar proceso.\")"
   ]
  },
  {
   "cell_type": "markdown",
   "id": "a4d177b2",
   "metadata": {},
   "source": [
    "---"
   ]
  },
  {
   "cell_type": "markdown",
   "id": "cee54e64",
   "metadata": {},
   "source": [
    "### Bloques de Instrucciones\n",
    "\n",
    "En Python, no usamos `{}` como en otros lenguajes para agrupar código. Usamos la **indentación** (el espacio al inicio de una línea, usualmente 4 espacios).\n",
    "\n",
    "Un **bloque** es un grupo de instrucciones que pertenecen a una estructura de control (como un `if` o un `for`). ¡La indentación es crucial y no opcional!\n",
    "\n",
    "`Estructura de control:` => Inicia el bloque\n",
    "     instruccion_1 \n",
    "     instruccion_2 \n",
    "`instruccion_fuera_del_bloque` => Esta ya no pertenece al bloque"
   ]
  },
  {
   "cell_type": "markdown",
   "id": "f4c645df",
   "metadata": {},
   "source": [
    "---"
   ]
  },
  {
   "cell_type": "markdown",
   "id": "f945835d",
   "metadata": {},
   "source": [
    "## 🤔 Estructuras Condicionales\n",
    "\n",
    "Permiten que un programa ejecute ciertos bloques de código **solo si** se cumple una condición."
   ]
  },
  {
   "cell_type": "markdown",
   "id": "be7bc597",
   "metadata": {},
   "source": [
    "---"
   ]
  },
  {
   "cell_type": "markdown",
   "id": "7ecfa93a",
   "metadata": {},
   "source": [
    "### ### `if`: La Decisión Simple\n",
    "\n",
    "El `if` (si) evalúa una condición. Si es `True`, ejecuta el bloque de código indentado. Si es `False`, lo salta.\n",
    "\n",
    "**Analogía:** Si `está lloviendo`, `entonces llevo paraguas`."
   ]
  },
  {
   "cell_type": "markdown",
   "id": "f75d7c09",
   "metadata": {},
   "source": [
    "---"
   ]
  },
  {
   "cell_type": "code",
   "execution_count": null,
   "id": "da136501",
   "metadata": {},
   "outputs": [],
   "source": [
    "def verificar_temperatura(temp: float) -> None:\n",
    "    # Si la temperatura es mayor a 30...\n",
    "    if temp > 30:\n",
    "        # ...este bloque se ejecuta.\n",
    "        print(\"¡Hace mucho calor! 🥵\")\n",
    "    print(\"Fin de la verificación.\")  # Esta línea siempre se ejecuta\n",
    "\n",
    "verificar_temperatura(32.5)\n",
    "verificar_temperatura(25.0)"
   ]
  },
  {
   "cell_type": "markdown",
   "id": "597e25ac",
   "metadata": {},
   "source": [
    "---"
   ]
  },
  {
   "cell_type": "markdown",
   "id": "507d2405",
   "metadata": {},
   "source": [
    "### ### `if-else`: El Plan B\n",
    "\n",
    "El `else` (si no) nos da un camino alternativo. Si la condición del `if` es `False`, se ejecuta el bloque del `else`.\n",
    "\n",
    "**Analogía:** Si `tengo efectivo`, `pago con efectivo`. Si no, `pago con tarjeta`."
   ]
  },
  {
   "cell_type": "markdown",
   "id": "ede5da0b",
   "metadata": {},
   "source": [
    "---"
   ]
  },
  {
   "cell_type": "code",
   "execution_count": null,
   "id": "b5df1376",
   "metadata": {},
   "outputs": [],
   "source": [
    "def revisar_edad_para_votar(edad: int) -> None:\n",
    "    if edad >= 18:\n",
    "        print(\"✅ Puedes votar.\")\n",
    "    else:\n",
    "        print(\"❌ Aún no puedes votar.\")\n",
    "\n",
    "revisar_edad_para_votar(20)\n",
    "revisar_edad_para_votar(16)"
   ]
  },
  {
   "cell_type": "markdown",
   "id": "1ecc4edd",
   "metadata": {},
   "source": [
    "---"
   ]
  },
  {
   "cell_type": "markdown",
   "id": "ab38f52a",
   "metadata": {},
   "source": [
    "### ### `if-elif-else`: Múltiples Caminos\n",
    "\n",
    "El `elif` (contracción de 'else if') nos permite encadenar múltiples condiciones. Python las revisa en orden y ejecuta el bloque de la **primera** que sea `True`. Si ninguna lo es, ejecuta el `else` (si existe)."
   ]
  },
  {
   "cell_type": "markdown",
   "id": "fbb9fd44",
   "metadata": {},
   "source": [
    "---"
   ]
  },
  {
   "cell_type": "markdown",
   "id": "555207bf",
   "metadata": {},
   "source": [
    "**Ejercicio: Calificación con Letras**\n",
    "Crea una función que reciba una nota de 0 a 100 y devuelva la letra correspondiente:\n",
    "\n",
    "  * 90-100: 'A'\n",
    "  * 80-89: 'B'\n",
    "  * 70-79: 'C'\n",
    "  * Menor a 70: 'F'"
   ]
  },
  {
   "cell_type": "markdown",
   "id": "c63f7c08",
   "metadata": {},
   "source": [
    "---"
   ]
  },
  {
   "cell_type": "code",
   "execution_count": null,
   "id": "0330683f",
   "metadata": {},
   "outputs": [],
   "source": [
    "def obtener_calificacion(nota: int) -> str:\n",
    "    if nota >= 90:\n",
    "        return 'A'\n",
    "    elif nota >= 80:\n",
    "        return 'B'\n",
    "    elif nota >= 70:\n",
    "        return 'C'\n",
    "    else:\n",
    "        return 'F'\n",
    "\n",
    "print(f'Una nota de 95 es: {obtener_calificacion(95)}')\n",
    "print(f'Una nota de 82 es: {obtener_calificacion(82)}')\n",
    "print(f'Una nota de 65 es: {obtener_calificacion(65)}')"
   ]
  },
  {
   "cell_type": "markdown",
   "id": "250359fd",
   "metadata": {},
   "source": [
    "---"
   ]
  },
  {
   "cell_type": "markdown",
   "id": "d3016adf",
   "metadata": {},
   "source": [
    "## 🔁 Ciclos (Bucles)\n",
    "\n",
    "Los ciclos o bucles nos permiten ejecutar un bloque de código **múltiples veces** sin tener que escribirlo una y otra vez."
   ]
  },
  {
   "cell_type": "markdown",
   "id": "c70664d6",
   "metadata": {},
   "source": [
    "---"
   ]
  },
  {
   "cell_type": "markdown",
   "id": "1cd40d48",
   "metadata": {},
   "source": [
    "### ### Ciclo `while`: Repetir mientras se cumpla una condición\n",
    "\n",
    "El bucle `while` (mientras) ejecuta un bloque de código repetidamente **mientras** su condición sea `True`.\n",
    "\n",
    "**Peligro:** ¡Cuidado con los bucles infinitos! Debes asegurarte de que la condición eventualmente se vuelva `False`."
   ]
  },
  {
   "cell_type": "markdown",
   "id": "68b118c0",
   "metadata": {},
   "source": [
    "---"
   ]
  },
  {
   "cell_type": "markdown",
   "id": "88ab7eaa",
   "metadata": {},
   "source": [
    "**Ejercicio: Cuenta Regresiva** 🚀\n",
    "Crea un programa que haga una cuenta regresiva desde 5 hasta 1 y al final imprima '¡Despegue!'."
   ]
  },
  {
   "cell_type": "markdown",
   "id": "aa617508",
   "metadata": {},
   "source": [
    "---"
   ]
  },
  {
   "cell_type": "code",
   "execution_count": null,
   "id": "6b8c9714",
   "metadata": {},
   "outputs": [],
   "source": [
    "contador = 5\n",
    "while contador > 0:\n",
    "    print(f'{contador}...')\n",
    "    contador -= 1  # ¡Importante! Modificamos el contador para que el bucle termine.\n",
    "print('¡Despegue! 🚀')"
   ]
  },
  {
   "cell_type": "markdown",
   "id": "8cb71272",
   "metadata": {},
   "source": [
    "---"
   ]
  },
  {
   "cell_type": "markdown",
   "id": "a28d61d9",
   "metadata": {},
   "source": [
    "### ### Ciclo `for`: Repetir un número de veces o sobre una colección\n",
    "\n",
    "El bucle `for` (para) es ideal para iterar sobre una secuencia de elementos (como una lista, una cadena de texto) o para ejecutar un bloque un número determinado de veces."
   ]
  },
  {
   "cell_type": "markdown",
   "id": "2615521f",
   "metadata": {},
   "source": [
    "---"
   ]
  },
  {
   "cell_type": "markdown",
   "id": "dbe55231",
   "metadata": {},
   "source": [
    "#### Iterar por contador con `range()`\n",
    "\n",
    "La función `range(n)` genera una secuencia de números desde 0 hasta `n-1`."
   ]
  },
  {
   "cell_type": "markdown",
   "id": "50f88ea9",
   "metadata": {},
   "source": [
    "---"
   ]
  },
  {
   "cell_type": "code",
   "execution_count": null,
   "id": "79aa0f76",
   "metadata": {},
   "outputs": [],
   "source": [
    "# Iterar 5 veces (de 0 a 4)\n",
    "for i in range(5):\n",
    "    print(f'Repetición número {i}')"
   ]
  },
  {
   "cell_type": "markdown",
   "id": "c5888f7d",
   "metadata": {},
   "source": [
    "---"
   ]
  },
  {
   "cell_type": "markdown",
   "id": "f59cdd59",
   "metadata": {},
   "source": [
    "#### Iterar por una colección\n",
    "\n",
    "El bucle `for` puede recorrer directamente los elementos de una lista, tupla o cadena."
   ]
  },
  {
   "cell_type": "markdown",
   "id": "b6ebcfb3",
   "metadata": {},
   "source": [
    "---"
   ]
  },
  {
   "cell_type": "markdown",
   "id": "f84b6ea9",
   "metadata": {},
   "source": [
    "**Ejercicio: Analizar una Frase**\n",
    "Dada una frase, cuenta cuántas vocales tiene."
   ]
  },
  {
   "cell_type": "markdown",
   "id": "40d4aa5b",
   "metadata": {},
   "source": [
    "---"
   ]
  },
  {
   "cell_type": "code",
   "execution_count": null,
   "id": "1c86a2a5",
   "metadata": {},
   "outputs": [],
   "source": [
    "def contar_vocales(frase: str) -> int:\n",
    "    vocales = 'aeiouAEIOU'\n",
    "    conteo = 0\n",
    "    # La variable 'letra' tomará el valor de cada carácter de la frase\n",
    "    for letra in frase:\n",
    "        if letra in vocales:\n",
    "            conteo += 1\n",
    "    return conteo\n",
    "\n",
    "frase_ejemplo = 'La programación es divertida'\n",
    "print(f\"La frase '{frase_ejemplo}' tiene {contar_vocales(frase_ejemplo)} vocales.\")"
   ]
  },
  {
   "cell_type": "markdown",
   "id": "2882467a",
   "metadata": {},
   "source": [
    "---"
   ]
  },
  {
   "cell_type": "markdown",
   "id": "519b1c06",
   "metadata": {},
   "source": [
    "## 🛡️ Manejo de Excepciones\n",
    "\n",
    "¿Qué pasa si nuestro código intenta hacer algo imposible, como dividir por cero o convertir 'hola' a un número? El programa se 'cae' y muestra un error.\n",
    "\n",
    "El bloque `try...except` nos permite **intentar** ejecutar un código propenso a errores y, si ocurre uno, **capturarlo** y manejarlo de forma elegante sin que el programa se detenga."
   ]
  },
  {
   "cell_type": "markdown",
   "id": "39f2fab6",
   "metadata": {},
   "source": [
    "---"
   ]
  },
  {
   "cell_type": "markdown",
   "id": "5ef4d8eb",
   "metadata": {},
   "source": [
    "**Ejercicio: División Segura**\n",
    "Crea una función que pida al usuario dos números y muestre el resultado de la división. Debe manejar el caso en que el segundo número sea cero y el caso en que el usuario no ingrese un número válido."
   ]
  },
  {
   "cell_type": "markdown",
   "id": "f67820db",
   "metadata": {},
   "source": [
    "---"
   ]
  },
  {
   "cell_type": "code",
   "execution_count": null,
   "id": "4b6f96c1",
   "metadata": {},
   "outputs": [],
   "source": [
    "def division_segura() -> None:\n",
    "    try:\n",
    "        num1_str = input('Ingresa el dividendo: ')\n",
    "        num1 = float(num1_str)\n",
    "        num2_str = input('Ingresa el divisor: ')\n",
    "        num2 = float(num2_str)\n",
    "        resultado = num1 / num2\n",
    "        print(f'El resultado es: {resultado}')\n",
    "    except ValueError:\n",
    "        print('❌ Error: Debes ingresar números válidos.')\n",
    "    except ZeroDivisionError:\n",
    "        print('❌ Error: No se puede dividir por cero.')\n",
    "    except Exception as e:\n",
    "        print(f'Ocurrió un error inesperado: {e}')\n",
    "\n",
    "division_segura()"
   ]
  },
  {
   "cell_type": "markdown",
   "id": "b5e9982f",
   "metadata": {},
   "source": [
    "---"
   ]
  },
  {
   "cell_type": "markdown",
   "id": "5cd2f4bf",
   "metadata": {},
   "source": [
    "## ✏️ Ejercicios de Práctica"
   ]
  },
  {
   "cell_type": "markdown",
   "id": "86f86386",
   "metadata": {},
   "source": [
    "---"
   ]
  },
  {
   "cell_type": "markdown",
   "id": "1bfa5092",
   "metadata": {},
   "source": [
    "**1. ¿Par o Impar?**\n",
    "Crea una función `es_par(numero: int) -> bool` que devuelva `True` si un número es par y `False` si es impar."
   ]
  },
  {
   "cell_type": "markdown",
   "id": "66f0a909",
   "metadata": {},
   "source": [
    "---"
   ]
  },
  {
   "cell_type": "code",
   "execution_count": null,
   "id": "85cb7c39",
   "metadata": {},
   "outputs": [],
   "source": [
    "def es_par(numero: int) -> bool:\n",
    "    # Un número es par si el resto de dividirlo por 2 es 0.\n",
    "    return numero % 2 == 0\n",
    "\n",
    "# Pruebas\n",
    "print(f'¿Es 10 par? {es_par(10)}')\n",
    "print(f'¿Es 7 par? {es_par(7)}')"
   ]
  },
  {
   "cell_type": "markdown",
   "id": "a2bed067",
   "metadata": {},
   "source": [
    "---"
   ]
  },
  {
   "cell_type": "markdown",
   "id": "86bc903a",
   "metadata": {},
   "source": [
    "**2. Adivina el número**\n",
    "Escribe un programa donde la computadora 'piensa' en un número (por ejemplo, `numero_secreto = 7`) y el usuario tiene que adivinarlo. Usa un bucle `while` para seguir pidiendo un número hasta que el usuario acierte."
   ]
  },
  {
   "cell_type": "markdown",
   "id": "6ca32242",
   "metadata": {},
   "source": [
    "---"
   ]
  },
  {
   "cell_type": "code",
   "execution_count": null,
   "id": "9dfe41f2",
   "metadata": {},
   "outputs": [],
   "source": [
    "numero_secreto: int = 7\n",
    "adivinado: bool = False\n",
    "\n",
    "while not adivinado:\n",
    "    try:\n",
    "        intento_str = input('Adivina el número secreto (entre 1 y 10): ')\n",
    "        intento_num = int(intento_str)\n",
    "        if intento_num == numero_secreto:\n",
    "            print('🎉 ¡Felicidades! ¡Adivinaste!')\n",
    "            adivinado = True\n",
    "        else:\n",
    "            print('🤔 Intenta de nuevo.')\n",
    "    except ValueError:\n",
    "        print('Por favor, ingresa un número válido.')"
   ]
  },
  {
   "cell_type": "markdown",
   "id": "6a7920d6",
   "metadata": {},
   "source": [
    "---"
   ]
  },
  {
   "cell_type": "markdown",
   "id": "dfc1f70c",
   "metadata": {},
   "source": [
    "**3. Tabla de Multiplicar**\n",
    "Pide al usuario un número y muestra su tabla de multiplicar del 1 al 10 usando un bucle `for`."
   ]
  },
  {
   "cell_type": "markdown",
   "id": "07fa5997",
   "metadata": {},
   "source": [
    "---"
   ]
  },
  {
   "cell_type": "code",
   "execution_count": null,
   "id": "bb0dbc6f",
   "metadata": {},
   "outputs": [],
   "source": [
    "try:\n",
    "    num_str = input('Ingresa un número para ver su tabla de multiplicar: ')\n",
    "    num = int(num_str)\n",
    "    print(f'--- Tabla del {num} ---')\n",
    "    for i in range(1, 11):  # range(1, 11) va de 1 a 10\n",
    "        print(f'{num} x {i} = {num * i}')\n",
    "except ValueError:\n",
    "    print('Entrada no válida. Debes ingresar un número.')"
   ]
  },
  {
   "cell_type": "markdown",
   "id": "e588a7ef",
   "metadata": {},
   "source": [
    "---"
   ]
  },
  {
   "cell_type": "markdown",
   "id": "29c81ee9",
   "metadata": {},
   "source": [
    "**4. Buscador de Nombres**\n",
    "Crea una lista de nombres. Luego, pide al usuario un nombre y dile si está en la lista o no."
   ]
  },
  {
   "cell_type": "markdown",
   "id": "de9dd8a4",
   "metadata": {},
   "source": [
    "---"
   ]
  },
  {
   "cell_type": "code",
   "execution_count": null,
   "id": "1e18f08f",
   "metadata": {},
   "outputs": [],
   "source": [
    "lista_invitados: list[str] = ['Ana', 'Juan', 'Pedro', 'Maria', 'Luis']\n",
    "nombre_buscar: str = input('Ingresa tu nombre para ver si estás en la lista: ')\n",
    "\n",
    "if nombre_buscar in lista_invitados:\n",
    "    print(f'¡Bienvenido, {nombre_buscar}! Estás en la lista.')\n",
    "else:\n",
    "    print(f'Lo siento {nombre_buscar}, no estás en la lista de invitados.')"
   ]
  },
  {
   "cell_type": "markdown",
   "id": "c0c3945e",
   "metadata": {},
   "source": [
    "---"
   ]
  },
  {
   "cell_type": "markdown",
   "id": "42ab8964",
   "metadata": {},
   "source": [
    "**5. Calculadora Simple con Manejo de Errores**\n",
    "Expande el ejercicio de la división segura para que también pueda sumar, restar y multiplicar, pidiendo al usuario qué operación desea realizar."
   ]
  },
  {
   "cell_type": "markdown",
   "id": "65dc940b",
   "metadata": {},
   "source": [
    "---"
   ]
  },
  {
   "cell_type": "code",
   "execution_count": null,
   "id": "2ccd80b1",
   "metadata": {},
   "outputs": [],
   "source": [
    "def calculadora_completa() -> None:\n",
    "    try:\n",
    "        operacion = input('Elige una operación (+, -, *, /): ')\n",
    "        num1 = float(input('Ingresa el primer número: '))\n",
    "        num2 = float(input('Ingresa el segundo número: '))\n",
    "        if operacion == '+':\n",
    "            resultado = num1 + num2\n",
    "        elif operacion == '-':\n",
    "            resultado = num1 - num2\n",
    "        elif operacion == '*':\n",
    "            resultado = num1 * num2\n",
    "        elif operacion == '/':\n",
    "            resultado = num1 / num2\n",
    "        else:\n",
    "            print('Operación no válida.')\n",
    "            return  # Termina la función\n",
    "        print(f'El resultado de {num1} {operacion} {num2} es: {resultado}')\n",
    "    except ValueError:\n",
    "        print('❌ Error: Ambos valores deben ser numéricos.')\n",
    "    except ZeroDivisionError:\n",
    "        print('❌ Error: No se puede dividir por cero.')\n",
    "\n",
    "calculadora_completa()"
   ]
  }
 ],
 "metadata": {
  "language_info": {
   "name": "python"
  }
 },
 "nbformat": 4,
 "nbformat_minor": 5
}
