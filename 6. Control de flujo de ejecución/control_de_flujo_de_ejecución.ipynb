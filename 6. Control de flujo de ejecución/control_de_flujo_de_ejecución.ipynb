{
 "cells": [
  {
   "cell_type": "markdown",
   "id": "99bff469",
   "metadata": {},
   "source": [
    "# Principios de Informática: Control de Flujo de Ejecución 🚦\n",
    "\n",
    "### Dándole a nuestro programa la capacidad de decidir y repetir\n",
    "\n",
    "**Curso:** Principios de Informática\n",
    "\n",
    "---\n",
    "\n",
    "## 🗺️ Nuestro Recorrido de Hoy\n",
    "\n",
    "En este notebook aprenderás a:\n",
    "- Entender la ejecución secuencial y los bloques de instrucciones en Python.\n",
    "- Utilizar estructuras condicionales (`if`, `elif`, `else`) para tomar decisiones.\n",
    "- Aplicar ciclos (`while`, `for`) para repetir acciones de manera controlada.\n",
    "- Comprender y usar las instrucciones `break`, `continue` y `else` en ciclos.\n",
    "- Utilizar la estructura `match-case` (switch) para múltiples opciones (Python 3.10+).\n",
    "- Manejar errores y excepciones con `try...except`.\n",
    "\n",
    "> \"Detectar y corregir errores es una habilidad esencial para cualquier programador.\"\n",
    "\n",
    "**¿Por qué es importante?**\n",
    "- El control de flujo permite que los programas sean inteligentes y flexibles.\n",
    "- Los ciclos y condicionales son la base de la lógica algorítmica.\n",
    "- El manejo de errores hace que los programas sean robustos y confiables.\n",
    "\n",
    "**¿Qué encontrarás aquí?**\n",
    "1. Secuencia y bloques de instrucciones\n",
    "2. Estructuras condicionales\n",
    "3. Ciclos y control de iteraciones\n",
    "4. Estructura `match-case` (switch)\n",
    "5. Manejo de excepciones\n",
    "\n",
    "¡Listos para practicar y dominar el control de flujo en Python! 💡⌨️"
   ]
  },
  {
   "cell_type": "markdown",
   "id": "4d8c6356",
   "metadata": {},
   "source": [
    "---\n",
    "\n",
    "## 1. Secuencia de Instrucciones\n",
    "\n",
    "---\n",
    "\n",
    "Por defecto, un programa en Python se ejecuta de forma **secuencial**: de arriba hacia abajo, una línea a la vez. Es como leer un libro, página por página.\n",
    "\n",
    "---"
   ]
  },
  {
   "cell_type": "code",
   "execution_count": null,
   "id": "9873457a",
   "metadata": {},
   "outputs": [],
   "source": [
    "# Ejemplo de secuencia\n",
    "print(\"Paso 1: Iniciar proceso.\")\n",
    "print(\"Paso 2: Realizar cálculo.\")\n",
    "print(\"Paso 3: Finalizar proceso.\")"
   ]
  },
  {
   "cell_type": "markdown",
   "id": "cee54e64",
   "metadata": {},
   "source": [
    "---\n",
    "\n",
    "## 2. Bloques de Instrucciones\n",
    "\n",
    "---\n",
    "\n",
    "En Python, no usamos `{}` como en otros lenguajes para agrupar código. Usamos la **indentación** (el espacio al inicio de una línea, usualmente 4 espacios).\n",
    "\n",
    "Un **bloque** es un grupo de instrucciones que pertenecen a una estructura de control (como un `if` o un `for`). ¡La indentación es crucial y no opcional!\n",
    "\n",
    "`Estructura de control:` => Inicia el bloque\n",
    "     instruccion_1 \n",
    "     instruccion_2 \n",
    "`instruccion_fuera_del_bloque` => Esta ya no pertenece al bloque"
   ]
  },
  {
   "cell_type": "code",
   "execution_count": null,
   "id": "4af1f0e7",
   "metadata": {},
   "outputs": [],
   "source": [
    "# Ejemplo de bloque de instrucciones con if\n",
    "x = 5\n",
    "\n",
    "if x > 0:\n",
    "    print(\"x es positivo\")\n",
    "    print(\"Este mensaje también está dentro del bloque\")\n",
    "\n",
    "print(\"Este mensaje está fuera del bloque\")"
   ]
  },
  {
   "cell_type": "markdown",
   "id": "f945835d",
   "metadata": {},
   "source": [
    "---\n",
    "\n",
    "## 3. Estructuras Condicionales\n",
    "\n",
    "---\n",
    "\n",
    "Permiten que un programa ejecute ciertos bloques de código **solo si** se cumple una condición."
   ]
  },
  {
   "cell_type": "markdown",
   "id": "7ecfa93a",
   "metadata": {},
   "source": [
    "### `if`: La Decisión Simple\n",
    "\n",
    "El `if` (si) evalúa una condición. Si es `True`, ejecuta el bloque de código indentado. Si es `False`, lo salta.\n",
    "\n",
    "La sintaxis es:\n",
    "\n",
    "```python\n",
    "if [condición]:\n",
    "    [código si se cumple]\n",
    "\n",
    "[código que sigue]\n",
    "```\n",
    "\n",
    "\n",
    "**Analogía:** Si `está lloviendo`, `entonces llevo paraguas`.\n",
    "\n",
    "---"
   ]
  },
  {
   "cell_type": "code",
   "execution_count": null,
   "id": "da136501",
   "metadata": {},
   "outputs": [],
   "source": [
    "# Si la temperatura es mayor a 30...\n",
    "temp = 32.5\n",
    "if temp > 30:\n",
    "    # ...este bloque se ejecuta.\n",
    "    print(\"¡Hace mucho calor! 🥵\")\n",
    "    \n",
    "print(\"Fin de la verificación.\")  # Esta línea siempre se ejecuta"
   ]
  },
  {
   "cell_type": "code",
   "execution_count": null,
   "id": "04408de5",
   "metadata": {},
   "outputs": [],
   "source": [
    "temp = 25.0\n",
    "if temp > 30:\n",
    "    print(\"¡Hace mucho calor! 🥵\")\n",
    "print(\"Fin de la verificación.\")"
   ]
  },
  {
   "cell_type": "markdown",
   "id": "507d2405",
   "metadata": {},
   "source": [
    "### `if-else`: El Plan B\n",
    "\n",
    "El `else` (si no) nos da un camino alternativo. Si la condición del `if` es `False`, se ejecuta el bloque del `else`.\n",
    "\n",
    "La sintaxis es:\n",
    "\n",
    "```python\n",
    "if [condición]:\n",
    "    [código si se cumple]\n",
    "else:\n",
    "    [código si no se cumple]\n",
    "    \n",
    "[código que sigue]\n",
    "```\n",
    "\n",
    "\n",
    "**Analogía:** Si `tengo efectivo`, `pago con efectivo`. Si no, `pago con tarjeta`.\n",
    "\n",
    "---"
   ]
  },
  {
   "cell_type": "code",
   "execution_count": null,
   "id": "b5df1376",
   "metadata": {},
   "outputs": [],
   "source": [
    "edad = 20\n",
    "if edad >= 18:\n",
    "    print(\"✅ Puedes votar.\")\n",
    "else:\n",
    "    print(\"❌ Aún no puedes votar.\")"
   ]
  },
  {
   "cell_type": "code",
   "execution_count": null,
   "id": "a2794b72",
   "metadata": {},
   "outputs": [],
   "source": [
    "edad = 16\n",
    "if edad >= 18:\n",
    "    print(\"✅ Puedes votar.\")\n",
    "else:\n",
    "    print(\"❌ Aún no puedes votar.\")"
   ]
  },
  {
   "cell_type": "markdown",
   "id": "ab38f52a",
   "metadata": {},
   "source": [
    "### `if-elif-else`: Múltiples Caminos\n",
    "\n",
    "El `elif` (contracción de 'else if') nos permite encadenar múltiples condiciones. Python las revisa en orden y ejecuta el bloque de la **primera** que sea `True`. Si ninguna lo es, ejecuta el `else` (si existe).\n",
    "\n",
    "La sintaxis es:\n",
    "```python\n",
    "if [condición]:\n",
    "    [código si se cumple]\n",
    "elif [otra condición]:\n",
    "    [código si se cumple la otra condición]\n",
    "else:\n",
    "    [código si no se cumple ninguna]\n",
    "    \n",
    "[código que sigue]\n",
    "```\n",
    "\n",
    "---"
   ]
  },
  {
   "cell_type": "code",
   "execution_count": null,
   "id": "ae790cbf",
   "metadata": {},
   "outputs": [],
   "source": [
    "edad = int(input(\"Ingresa tu edad: \"))\n",
    "\n",
    "if edad < 18:\n",
    "    print(\"Aún no puedes votar :(\")\n",
    "elif edad == 18:\n",
    "    print(\"Ya puedes votar :D\")\n",
    "else:\n",
    "    print(\"Puedes votar :)\")"
   ]
  },
  {
   "cell_type": "markdown",
   "id": "c120e5fe",
   "metadata": {},
   "source": [
    "### Operador ternario\n",
    "\n",
    "El **operador ternario** en Python permite escribir una condición simple en una sola línea, haciendo el código más compacto y legible.\n",
    "\n",
    "La sintaxis es:\n",
    "\n",
    "```python\n",
    "[código si se cumple] if [condición] else [código si no se cumple]\n",
    "```\n",
    "\n",
    "**Ejemplo:**\n",
    "\n",
    "Supongamos que queremos asignar el mensaje \"Mayor de edad\" si la variable `edad` es mayor o igual a 18, y \"Menor de edad\" en caso contrario.\n",
    "\n",
    "---\n"
   ]
  },
  {
   "cell_type": "code",
   "execution_count": null,
   "id": "7849f523",
   "metadata": {},
   "outputs": [],
   "source": [
    "edad = 20\n",
    "mensaje = \"Mayor de edad\" if edad >= 18 else \"Menor de edad\"\n",
    "print(mensaje)  # Imprime: Mayor de edad"
   ]
  },
  {
   "cell_type": "markdown",
   "id": "d5345e0e",
   "metadata": {},
   "source": [
    "Esto es equivalente a:"
   ]
  },
  {
   "cell_type": "code",
   "execution_count": null,
   "id": "3d1720a1",
   "metadata": {},
   "outputs": [],
   "source": [
    "edad = 20\n",
    "\n",
    "if edad >= 18:\n",
    "    mensaje = \"Mayor de edad\"\n",
    "else:\n",
    "    mensaje = \"Menor de edad\"\n",
    "\n",
    "print(mensaje)  # Imprime: Mayor de edad"
   ]
  },
  {
   "cell_type": "markdown",
   "id": "6cd362c4",
   "metadata": {},
   "source": [
    "El operador ternario es útil para asignaciones o expresiones simples, pero para lógica más compleja es mejor usar estructuras condicionales tradicionales.\n",
    "\n",
    "---"
   ]
  },
  {
   "cell_type": "markdown",
   "id": "555207bf",
   "metadata": {},
   "source": [
    "**Ejercicio: Calificación con Letras**\n",
    "Crea un programa que reciba una nota de 0 a 100 y devuelva la letra correspondiente:\n",
    "\n",
    "  * 90-100: 'A'\n",
    "  * 80-89: 'B'\n",
    "  * 70-79: 'C'\n",
    "  * Menor a 70: 'F'\n",
    "\n",
    "---"
   ]
  },
  {
   "cell_type": "code",
   "execution_count": null,
   "id": "0330683f",
   "metadata": {},
   "outputs": [],
   "source": [
    "nota = int(input(\"Ingresa tu nota:\"))\n",
    "\n",
    "if nota >= 90:\n",
    "    calificacion = 'A'\n",
    "elif nota >= 80:\n",
    "    calificacion = 'B'\n",
    "elif nota >= 70:\n",
    "    calificacion = 'C'\n",
    "else:\n",
    "    calificacion = 'F'\n",
    "print(f'Una nota de {nota} es: {calificacion}')"
   ]
  },
  {
   "cell_type": "markdown",
   "id": "c81aaf4b",
   "metadata": {},
   "source": [
    "### Estructura `switch` (match-case) en Python\n",
    "\n",
    "En otros lenguajes existe la estructura `switch` para comparar una variable contra varios valores posibles. En Python, a partir de la versión 3.10, se puede usar `match-case` para lograr algo similar.\n",
    "\n",
    "**Ejemplo:** Selección de día de la semana usando `match-case`.\n",
    "\n",
    "---"
   ]
  },
  {
   "cell_type": "code",
   "execution_count": null,
   "id": "b25b97e0",
   "metadata": {},
   "outputs": [],
   "source": [
    "# Ejemplo de match-case (switch)\n",
    "dia = \"lunes\"\n",
    "match dia:\n",
    "    case \"lunes\":\n",
    "        print(\"Es lunes, inicio de semana\")\n",
    "    case \"viernes\":\n",
    "        print(\"Es viernes, casi fin de semana\")\n",
    "    case \"sábado\" | \"domingo\":\n",
    "        print(\"Es fin de semana\")\n",
    "    case _ :\n",
    "        print(\"Es un día entre semana\")"
   ]
  },
  {
   "cell_type": "markdown",
   "id": "0c5645f0",
   "metadata": {},
   "source": [
    "**Ejercicio: Menú de opciones con match-case**\n",
    "\n",
    "Crea un programa que muestre un menú simple (por ejemplo: 1. Sumar, 2. Restar, 3. Salir) y use `match-case` para ejecutar la acción correspondiente según la opción elegida por el usuario.\n",
    "\n",
    "---"
   ]
  },
  {
   "cell_type": "code",
   "execution_count": null,
   "id": "d5206f90",
   "metadata": {},
   "outputs": [],
   "source": [
    "# Solución: Menú de opciones con match-case (Python 3.10+)\n",
    "opcion = input(\"Elige una opción (1. Sumar, 2. Restar, 3. Salir): \")\n",
    "\n",
    "match opcion:\n",
    "    case \"1\":\n",
    "        a = float(input(\"Ingrese el primer número: \"))\n",
    "        b = float(input(\"Ingrese el segundo número: \"))\n",
    "        print(f\"La suma es: {a + b}\")\n",
    "    case \"2\":\n",
    "        a = float(input(\"Ingrese el primer número: \"))\n",
    "        b = float(input(\"Ingrese el segundo número: \"))\n",
    "        print(f\"La resta es: {a - b}\")\n",
    "    case \"3\":\n",
    "        print(\"Saliendo del programa...\")\n",
    "    case _ :\n",
    "        print(\"Opción no válida\")"
   ]
  },
  {
   "cell_type": "markdown",
   "id": "d7bc7039",
   "metadata": {},
   "source": [
    "---\n",
    "\n",
    "## 4. Ciclos por condición, por contador y por colección\n",
    "\n",
    "---\n",
    "\n",
    "Muchas veces, queremos evitar trabajo repetitivo poniendo varias veces la misma línea. Para evitar repetir esas líneas manualmente, se usan **ciclos**.\n",
    "\n",
    "**¿Qué significa *iterar*?**\n",
    "*Iterar* es repetir varias veces un proceso con el objetivo de llegar a un objetivo deseado.\n",
    "\n",
    "**¿Qué es una *iteración*?**\n",
    "Una *iteración* es cada repetición individual del ciclo, es decir, cada vez que el bloque de código dentro del ciclo se ejecuta para un elemento diferente. Son los *pasos* de un ciclo.\n",
    "\n",
    "**Ejemplo**: Supón que te piden imprimir todos los números del 1 al 100.\n",
    "\n",
    "---"
   ]
  },
  {
   "cell_type": "code",
   "execution_count": null,
   "id": "06e05986",
   "metadata": {},
   "outputs": [],
   "source": [
    "print(1)\n",
    "print(2)\n",
    "print(3)\n",
    "print(4)\n",
    "print(5)\n",
    "print(6)\n",
    "print(7)\n",
    "# ...\n",
    "print(100)  # Imprime hasta el 100"
   ]
  },
  {
   "cell_type": "markdown",
   "id": "2ee9b03a",
   "metadata": {},
   "source": [
    "Para no hacer esto, se usan los ciclos."
   ]
  },
  {
   "cell_type": "markdown",
   "id": "1cd40d48",
   "metadata": {},
   "source": [
    "### Ciclo `while`: Repetir mientras se cumpla una condición\n",
    "\n",
    "El bucle `while` (mientras) ejecuta un bloque de código repetidamente **mientras** su condición sea `True`.\n",
    "\n",
    "La sintaxis es:\n",
    "```python\n",
    "while [condición]:\n",
    "    [código si se cumple]  # Este código se repite hasta que la condición sea `False`.\n",
    "\n",
    "[código que sigue]\n",
    "```\n",
    "\n",
    "**Peligro:** ¡Cuidado con los bucles infinitos! Debes asegurarte de que la condición eventualmente se vuelva `False`.\n",
    "\n",
    "---"
   ]
  },
  {
   "cell_type": "code",
   "execution_count": null,
   "id": "73d4a176",
   "metadata": {},
   "outputs": [],
   "source": [
    "contador = 0\n",
    "while contador < 3:\n",
    "    print('Contador vale', contador)\n",
    "    contador += 1\n",
    "print('Fin del ciclo while')"
   ]
  },
  {
   "cell_type": "markdown",
   "id": "c3725ca3",
   "metadata": {},
   "source": [
    "#### `break`: salir inmediatamente de un ciclo\n",
    "\n",
    "La instrucción `break` se usa dentro de un ciclo (`while` o `for`) para terminarlo inmediatamente, sin importar si la condición del ciclo todavía es verdadera. Es útil cuando encontramos lo que buscamos o ya no tiene sentido seguir repitiendo.\n",
    "\n",
    "---"
   ]
  },
  {
   "cell_type": "code",
   "execution_count": null,
   "id": "abe8ee6f",
   "metadata": {},
   "outputs": [],
   "source": [
    "n = 10\n",
    "while n <= 30:\n",
    "    if n % 7 == 0:\n",
    "        print(f'El primer múltiplo de 7 en el rango es: {n}')\n",
    "        break\n",
    "    print(f'{n} no es múltiplo de 7')\n",
    "    n += 1"
   ]
  },
  {
   "cell_type": "markdown",
   "id": "a1fad7b3",
   "metadata": {},
   "source": [
    "**Nota:** Aunque `break` es útil, abusar de él puede hacer que el código sea difícil de leer y entender, porque el ciclo termina en un punto inesperado. Siempre que sea posible, es mejor diseñar la condición del ciclo para que termine de forma natural, es decir, cuando la condición del `while` o el rango del `for` ya no se cumple. Así el flujo del programa es más claro y predecible.\n",
    "\n",
    "---"
   ]
  },
  {
   "cell_type": "markdown",
   "id": "13d09b39",
   "metadata": {},
   "source": [
    "#### Ejercicio: Sin romper el ciclo\n",
    "\n",
    "Crea un programa que indique si un número es positivo y, si lo es, también indique si es impar.lo de 7 entre 10 y 30 SIN usar break\n",
    "\n",
    "---"
   ]
  },
  {
   "cell_type": "code",
   "execution_count": null,
   "id": "31284fdf",
   "metadata": {},
   "outputs": [],
   "source": [
    "n = 10\n",
    "encontrado = False\n",
    "while n <= 30 and not encontrado:\n",
    "    if n % 7 == 0:\n",
    "        print(f'El primer múltiplo de 7 en el rango es: {n}')\n",
    "        encontrado = True\n",
    "    else:\n",
    "        print(f'{n} no es múltiplo de 7')\n",
    "    n += 1"
   ]
  },
  {
   "cell_type": "markdown",
   "id": "75786d69",
   "metadata": {},
   "source": [
    "Si un ciclo empieza con una condición de `False`, nunca se va a ejecutar."
   ]
  },
  {
   "cell_type": "code",
   "execution_count": null,
   "id": "aba8e4bf",
   "metadata": {},
   "outputs": [],
   "source": [
    "while False:\n",
    "    print('Nunca se ejecuta')"
   ]
  },
  {
   "cell_type": "markdown",
   "id": "d4f15a61",
   "metadata": {},
   "source": [
    "Python tiene una particularidad: permite usar un bloque `else` después de un ciclo. El bloque `else` se ejecuta solo si el ciclo termina de manera \"natural\" (es decir, no por un break).\n",
    "\n",
    "**Analogía:** Imagina que buscas tus llaves en una caja con varios compartimentos. Si revisas todos los compartimentos y no las encuentras, dices: \"No estaban aquí\". Pero si las encuentras antes de terminar, dejas de buscar y no dices nada más."
   ]
  },
  {
   "cell_type": "code",
   "execution_count": null,
   "id": "80984c27",
   "metadata": {},
   "outputs": [],
   "source": [
    "# Buscar un número en un rango usando while y else\n",
    "n = 1\n",
    "encontrado = False\n",
    "while n <= 5:\n",
    "    if n == 7:\n",
    "        print(\"¡Encontré el 7!\")\n",
    "        encontrado = True\n",
    "        break\n",
    "    n += 1\n",
    "else:\n",
    "    print(\"No se encontró el 7 en el rango de 1 a 5\")"
   ]
  },
  {
   "cell_type": "markdown",
   "id": "49a03805",
   "metadata": {},
   "source": [
    "#### `continue`: Saltando pasos de un ciclo\n",
    "\n",
    "La instrucción `continue` se usa dentro de un ciclo para saltar inmediatamente a la siguiente iteración, ignorando el resto del bloque de código en esa vuelta. Es útil cuando queremos omitir ciertos casos sin terminar el ciclo por completo.\n",
    "\n",
    "---"
   ]
  },
  {
   "cell_type": "code",
   "execution_count": null,
   "id": "0c2ef22a",
   "metadata": {},
   "outputs": [],
   "source": [
    "j = 0\n",
    "while j < 5:\n",
    "    j += 1\n",
    "    if j == 3:\n",
    "        continue\n",
    "\n",
    "    print('j:', j)"
   ]
  },
  {
   "cell_type": "markdown",
   "id": "88ab7eaa",
   "metadata": {},
   "source": [
    "**Ejercicio: Cuenta Regresiva** 🚀\n",
    "\n",
    "Crea un programa que haga una cuenta regresiva desde 5 hasta 1 y al final imprima '¡Despegue!'.\n",
    "\n",
    "---"
   ]
  },
  {
   "cell_type": "code",
   "execution_count": null,
   "id": "6b8c9714",
   "metadata": {},
   "outputs": [],
   "source": [
    "contador = 5\n",
    "while contador > 0:\n",
    "    print(f'{contador}...')\n",
    "    contador -= 1  # ¡Importante! Modificamos el contador para que el bucle termine.\n",
    "print('¡Despegue! 🚀')"
   ]
  },
  {
   "cell_type": "markdown",
   "id": "a28d61d9",
   "metadata": {},
   "source": [
    "### Ciclo `for`: Repetir un número de veces o sobre una colección\n",
    "\n",
    "El bucle `for` (para) es ideal para **iterar** sobre una secuencia de elementos (como una lista, una cadena de texto) o para ejecutar un bloque un número determinado de veces.\n",
    "\n",
    "La sintaxis es:\n",
    "```python\n",
    "for [variable] in [secuencia]:  # Variable va tomando los valores de cada elemento en la secuencia\n",
    "    [código si se cumple]  # Este código se repite hasta que variable haya tomado todos los valores de la secuencia.\n",
    "\n",
    "[código que sigue]\n",
    "```\n",
    "\n",
    "---"
   ]
  },
  {
   "cell_type": "markdown",
   "id": "dbe55231",
   "metadata": {},
   "source": [
    "#### Iterar por contador con `range()`\n",
    "\n",
    "La función `range(n)` genera una secuencia de números desde 0 hasta `n-1`.\n",
    "\n",
    "---"
   ]
  },
  {
   "cell_type": "code",
   "execution_count": null,
   "id": "056003fe",
   "metadata": {},
   "outputs": [],
   "source": [
    "print(list(range(5)))  # [0, 1, 2, 3, 4]"
   ]
  },
  {
   "cell_type": "code",
   "execution_count": null,
   "id": "c7c42d4c",
   "metadata": {},
   "outputs": [],
   "source": [
    "print(list(range(1, 6)))  # [1, 2, 3, 4, 5]"
   ]
  },
  {
   "cell_type": "code",
   "execution_count": null,
   "id": "fa649129",
   "metadata": {},
   "outputs": [],
   "source": [
    "print(list(range(0, 10, 2)))  # [0, 2, 4, 6, 8]"
   ]
  },
  {
   "cell_type": "code",
   "execution_count": null,
   "id": "ea3aba13",
   "metadata": {},
   "outputs": [],
   "source": [
    "print(list(range(10, 0, -2)))  # [10, 8, 6, 4, 2]"
   ]
  },
  {
   "cell_type": "code",
   "execution_count": null,
   "id": "79aa0f76",
   "metadata": {},
   "outputs": [],
   "source": [
    "# Iterar 5 veces (de 0 a 4)\n",
    "for i in range(5):\n",
    "    print(f'Repetición número {i}')"
   ]
  },
  {
   "cell_type": "markdown",
   "id": "f59cdd59",
   "metadata": {},
   "source": [
    "#### Iterar por una colección\n",
    "\n",
    "El bucle `for` puede recorrer directamente los elementos de una lista, tupla o cadena.\n",
    "\n",
    "---"
   ]
  },
  {
   "cell_type": "code",
   "execution_count": null,
   "id": "1cd16659",
   "metadata": {},
   "outputs": [],
   "source": [
    "rango = [1, 2, 3, 4, 5]\n",
    "for i in rango:\n",
    "    print(f'Repetición número {i}')"
   ]
  },
  {
   "cell_type": "markdown",
   "id": "f84b6ea9",
   "metadata": {},
   "source": [
    "**Ejercicio: Analizar una Frase**\n",
    "\n",
    "Dada una frase, cuenta cuántas vocales tiene.\n",
    "\n",
    "---"
   ]
  },
  {
   "cell_type": "code",
   "execution_count": null,
   "id": "1c86a2a5",
   "metadata": {},
   "outputs": [],
   "source": [
    "frase = 'La programación es divertida'\n",
    "vocales = 'aeiouAEIOU'\n",
    "conteo = 0\n",
    "for letra in frase:\n",
    "    if letra in vocales:\n",
    "        conteo += 1\n",
    "print(f\"La frase '{frase}' tiene {conteo} vocales.\")"
   ]
  },
  {
   "cell_type": "markdown",
   "id": "519b1c06",
   "metadata": {},
   "source": [
    "---\n",
    "\n",
    "## 5. Manejo de Excepciones\n",
    "\n",
    "---\n",
    "\n",
    "¿Qué pasa si nuestro código intenta hacer algo imposible, como dividir por cero o convertir 'hola' a un número? El programa se 'cae' y muestra un error.\n",
    "\n",
    "El bloque `try...except` nos permite **intentar** ejecutar un código propenso a errores y, si ocurre uno, **capturarlo** y manejarlo de forma elegante sin que el programa se detenga.\n",
    "\n",
    "---"
   ]
  },
  {
   "cell_type": "markdown",
   "id": "5ef4d8eb",
   "metadata": {},
   "source": [
    "**Ejercicio: División Segura**\n",
    "\n",
    "Crea una función que pida al usuario dos números y muestre el resultado de la división. Debe manejar el caso en que el segundo número sea cero y el caso en que el usuario no ingrese un número válido.\n",
    "\n",
    "---"
   ]
  },
  {
   "cell_type": "code",
   "execution_count": null,
   "id": "4b6f96c1",
   "metadata": {},
   "outputs": [],
   "source": [
    "try:\n",
    "    num1_str = input('Ingresa el dividendo: ')\n",
    "    num1 = float(num1_str)\n",
    "    num2_str = input('Ingresa el divisor: ')\n",
    "    num2 = float(num2_str)\n",
    "    resultado = num1 / num2\n",
    "    print(f'El resultado es: {resultado}')\n",
    "except ValueError:\n",
    "    print('❌ Error: Debes ingresar números válidos.')\n",
    "except ZeroDivisionError:\n",
    "    print('❌ Error: No se puede dividir por cero.')\n",
    "except Exception as e:\n",
    "    print(f'Ocurrió un error inesperado: {e}')"
   ]
  },
  {
   "cell_type": "markdown",
   "id": "2de69570",
   "metadata": {},
   "source": [
    "Además, se puede atrapar un error genérico, sin conocer su tipo."
   ]
  },
  {
   "cell_type": "code",
   "execution_count": null,
   "id": "9c868c21",
   "metadata": {},
   "outputs": [],
   "source": [
    "try:\n",
    "    d = 2 + \"Hola\" # Si comentas esto entra en ZeroDivisionError\n",
    "except Exception as ex:\n",
    "    print(\"Ha habido una excepción\", type(ex))"
   ]
  },
  {
   "cell_type": "markdown",
   "id": "5cd2f4bf",
   "metadata": {},
   "source": [
    "## Ejercicios adicionales\n",
    "\n",
    "---"
   ]
  },
  {
   "cell_type": "markdown",
   "id": "1bfa5092",
   "metadata": {},
   "source": [
    "**1. ¿Par o Impar?**\n",
    "Crea una función `es_par(numero: int) -> bool` que devuelva `True` si un número es par y `False` si es impar.\n",
    "\n",
    "---"
   ]
  },
  {
   "cell_type": "code",
   "execution_count": null,
   "id": "85cb7c39",
   "metadata": {},
   "outputs": [],
   "source": [
    "numero = 10\n",
    "# Un número es par si el resto de dividirlo por 2 es 0.\n",
    "es_par = numero % 2 == 0\n",
    "print(f'¿Es 10 par? {es_par}')\n",
    "numero = 7\n",
    "es_par = numero % 2 == 0\n",
    "print(f'¿Es 7 par? {es_par}')"
   ]
  },
  {
   "cell_type": "markdown",
   "id": "86bc903a",
   "metadata": {},
   "source": [
    "**2. Adivina el número**\n",
    "Escribe un programa donde la computadora 'piensa' en un número (por ejemplo, `numero_secreto = 7`) y el usuario tiene que adivinarlo. Usa un bucle `while` para seguir pidiendo un número hasta que el usuario acierte.\n",
    "\n",
    "---"
   ]
  },
  {
   "cell_type": "code",
   "execution_count": null,
   "id": "9dfe41f2",
   "metadata": {},
   "outputs": [],
   "source": [
    "numero_secreto: int = 7\n",
    "adivinado: bool = False\n",
    "\n",
    "while not adivinado:\n",
    "    try:\n",
    "        intento_str = input('Adivina el número secreto (entre 1 y 10): ')\n",
    "        intento_num = int(intento_str)\n",
    "        if intento_num == numero_secreto:\n",
    "            print('🎉 ¡Felicidades! ¡Adivinaste!')\n",
    "            adivinado = True\n",
    "        else:\n",
    "            print('🤔 Intenta de nuevo.')\n",
    "    except ValueError:\n",
    "        print('Por favor, ingresa un número válido.')"
   ]
  },
  {
   "cell_type": "markdown",
   "id": "dfc1f70c",
   "metadata": {},
   "source": [
    "**3. Tabla de Multiplicar**\n",
    "Pide al usuario un número y muestra su tabla de multiplicar del 1 al 10 usando un bucle `for`.\n",
    "\n",
    "---"
   ]
  },
  {
   "cell_type": "code",
   "execution_count": null,
   "id": "bb0dbc6f",
   "metadata": {},
   "outputs": [],
   "source": [
    "try:\n",
    "    num_str = input('Ingresa un número para ver su tabla de multiplicar: ')\n",
    "    num = int(num_str)\n",
    "    print(f'--- Tabla del {num} ---')\n",
    "    for i in range(1, 11):  # range(1, 11) va de 1 a 10\n",
    "        print(f'{num} x {i} = {num * i}')\n",
    "except ValueError:\n",
    "    print('Entrada no válida. Debes ingresar un número.')"
   ]
  },
  {
   "cell_type": "markdown",
   "id": "29c81ee9",
   "metadata": {},
   "source": [
    "**4. Buscador de Nombres**\n",
    "Crea una lista de nombres. Luego, pide al usuario un nombre y dile si está en la lista o no.\n",
    "\n",
    "---"
   ]
  },
  {
   "cell_type": "code",
   "execution_count": null,
   "id": "1e18f08f",
   "metadata": {},
   "outputs": [],
   "source": [
    "lista_invitados: list[str] = ['Ana', 'Juan', 'Pedro', 'Maria', 'Luis']\n",
    "nombre_buscar: str = input('Ingresa tu nombre para ver si estás en la lista: ')\n",
    "\n",
    "if nombre_buscar in lista_invitados:\n",
    "    print(f'¡Bienvenido, {nombre_buscar}! Estás en la lista.')\n",
    "else:\n",
    "    print(f'Lo siento {nombre_buscar}, no estás en la lista de invitados.')"
   ]
  },
  {
   "cell_type": "markdown",
   "id": "42ab8964",
   "metadata": {},
   "source": [
    "**5. Calculadora Simple con Manejo de Errores**\n",
    "Expande el ejercicio de la división segura para que también pueda sumar, restar y multiplicar, pidiendo al usuario qué operación desea realizar.\n",
    "\n",
    "---"
   ]
  },
  {
   "cell_type": "code",
   "execution_count": null,
   "id": "2ccd80b1",
   "metadata": {},
   "outputs": [],
   "source": [
    "# Sorpresa: Este código tiene un error. ¿Puedes encontrarlo?\n",
    "\n",
    "try:\n",
    "    operacion = input('Elige una operación (+, -, *, /): ')\n",
    "    num1 = float(input('Ingresa el primer número: '))\n",
    "    num2 = float(input('Ingresa el segundo número: '))\n",
    "    if operacion == '+':\n",
    "        resultado = num1 + num2\n",
    "    elif operacion == '-':\n",
    "        resultado = num1 - num2\n",
    "    elif operacion == '*':\n",
    "        resultado = num1 * num2\n",
    "    elif operacion == '/':\n",
    "        resultado = num1 / num2\n",
    "    else:\n",
    "        print('Operación no válida.')\n",
    "\n",
    "    print(f'El resultado de {num1} {operacion} {num2} es: {resultado}')\n",
    "except ValueError:\n",
    "    print('❌ Error: Ambos valores deben ser numéricos.')\n",
    "except ZeroDivisionError:\n",
    "    print('❌ Error: No se puede dividir por cero.')"
   ]
  },
  {
   "cell_type": "markdown",
   "id": "ed990e1e",
   "metadata": {},
   "source": [
    "## 🎯 Resumen y Ejercicios de Repaso\n",
    "\n",
    "¡Excelente trabajo! Has completado el recorrido por los conceptos clave del **control de flujo de ejecución** en Python.\n",
    "\n",
    "### 📚 Lo que hemos aprendido:\n",
    "\n",
    "1. **Secuencia de instrucciones**:\n",
    "   - Cómo Python ejecuta las instrucciones de manera secuencial.\n",
    "\n",
    "2. **Bloques de instrucciones**:\n",
    "   - Cómo agrupar instrucciones usando la indentación.\n",
    "\n",
    "3. **Estructuras condicionales (`if`, `elif`, `else`, `match-case`)**:\n",
    "   - Tomar decisiones en el programa según condiciones.\n",
    "   - Encadenar múltiples condiciones y caminos alternativos.\n",
    "\n",
    "4. **Ciclos (`while`, `for`) y control de iteraciones**:\n",
    "   - Repetir acciones mientras se cumpla una condición o sobre una colección de elementos.\n",
    "   - Uso de `break`, `continue` y `else` para controlar el flujo dentro de los ciclos.\n",
    "\n",
    "5. **Manejo de excepciones**:\n",
    "   - Anticipar y manejar errores comunes con `try...except` para hacer programas más robustos.\n",
    "---"
   ]
  },
  {
   "cell_type": "markdown",
   "id": "d9f121d2",
   "metadata": {},
   "source": [
    "## 📝 Ejercicios de Práctica\n",
    "\n",
    "¡Es hora de poner en práctica lo aprendido\\!\n",
    "\n",
    "-----\n",
    "\n",
    "### 1️⃣ **Ejercicios: Secuencia de Instrucciones**\n",
    "\n",
    "**Ejercicio 1.1 - Conversor de segundos**\n",
    "\n",
    "```python\n",
    "# Pídele al usuario una cantidad de segundos.\n",
    "# Calcula y muestra cuántas horas, minutos y segundos hay en esa cantidad.\n",
    "#\n",
    "# Para resolverlo, tu código debe seguir una secuencia de pasos clara y en orden.\n",
    "# 1. Solicitar la entrada del usuario.\n",
    "# 2. Realizar los cálculos necesarios (primero horas, luego minutos, etc.).\n",
    "# 3. Imprimir el resultado final.\n",
    "```\n",
    "\n",
    "-----\n",
    "\n",
    "### 2️⃣ **Ejercicios: Bloques de Instrucciones**\n",
    "\n",
    "**Ejercicio 2.1 - Identificación de bloques**\n",
    "\n",
    "```python\n",
    "# Analiza el siguiente fragmento de código.\n",
    "# Identifica e indica cuáles instrucciones forman parte del mismo bloque.\n",
    "#\n",
    "# Escribe en los comentarios qué líneas de código se ejecutan si el `numero` es mayor a 10 y cuáles si no lo es.\n",
    "\n",
    "numero = int(input(\"Ingresa un número: \"))\n",
    "\n",
    "if numero > 10:\n",
    "    print(\"El número es mayor a 10.\")\n",
    "    print(\"¡Felicidades!\")\n",
    "else:\n",
    "    print(\"El número no es mayor a 10.\")\n",
    "    print(\"Intenta con un número más grande.\")\n",
    "print(\"Fin del programa.\")\n",
    "```\n",
    "\n",
    "-----\n",
    "\n",
    "### 3️⃣ **Ejercicios: Estructuras Condicionales**\n",
    "\n",
    "**Ejercicio 3.1 - Calificador de edad**\n",
    "\n",
    "```python\n",
    "# Pídele al usuario su edad.\n",
    "# Usa una estructura condicional para determinar si es un \"niño\" (0-12), \"adolescente\" (13-17), \"adulto\" (18-64) o \"anciano\" (65 o más).\n",
    "# Imprime la categoría de edad correspondiente.\n",
    "```\n",
    "\n",
    "**Ejercicio 3.2 - Par o impar**\n",
    "\n",
    "```python\n",
    "# Haz un programa que reciba un número entero de un usuario.\n",
    "# Usa el operador de módulo (%) dentro de una estructura condicional (if-else) para determinar si el número es par o impar.\n",
    "# Imprime si el número es \"par\" o \"impar\".\n",
    "# ¡Ojo! Debes hacerlo en una única línea de código.\n",
    "```\n",
    "\n",
    "**Ejercicio 3.3 - Calculadora**\n",
    "\n",
    "```python\n",
    "# Realiza un programa que lea dos números por teclado y permita elegir entre 3 opciones en un menú:\n",
    "\n",
    "# - Mostrar una suma de los dos números\n",
    "# - Mostrar una resta de los dos números (el primero menos el segundo)\n",
    "# - Mostrar una multiplicación de los dos números\n",
    "# En caso de introducir una opción inválida, el programa informará de que no es correcta.\n",
    "# Debes hacerlo con un `Switch`.\n",
    "```\n",
    "\n",
    "-----\n",
    "\n",
    "### 4️⃣ **Ejercicios: Ciclos por Condición, Contador y Colección**\n",
    "\n",
    "**Ejercicio 4.1 - Conteo regresivo**\n",
    "\n",
    "```python\n",
    "# Pídele al usuario un número entero positivo.\n",
    "# Usa un ciclo `for` para hacer un conteo regresivo desde ese número hasta 0.\n",
    "# Imprime cada número en la misma línea, separado por un \"-\".\n",
    "```\n",
    "\n",
    "**Ejercicio 4.2 - Factorial**\n",
    "\n",
    "```python\n",
    "# Pídele al usuario un número `n`.\n",
    "# Usa un ciclo `for` con la función `range()` para multiplicar todos los números del 1 al `n`.\n",
    "# Imprime el resultado de la multiplicación.\n",
    "```\n",
    "\n",
    "**Ejercicio 4.3 - Número impar**\n",
    "\n",
    "```python\n",
    "# Realiza un programa que lea un número impar por teclado. Si el usuario no introduce un número impar, debe repetise el proceso hasta que lo introduzca correctamente.\n",
    "```\n",
    "\n",
    "**Ejercicio 4.4 - Media aritmética**\n",
    "\n",
    "```python\n",
    "# Realiza un programa que pida al usuario cuantos números quiere introducir. Luego lee todos los números y realiza una media aritmética.\n",
    "```\n",
    "\n",
    "-----\n",
    "\n",
    "### 5️⃣ **Ejercicios: Manejo de Excepciones**\n",
    "\n",
    "**Ejercicio 5.1 - Divisor seguro**\n",
    "\n",
    "```python\n",
    "# Pídele al usuario dos números.\n",
    "# Realiza la división del primer número por el segundo.\n",
    "# Usa un bloque `try-except` para manejar la excepción si el segundo número es 0 (`ZeroDivisionError`).\n",
    "# Si la división es exitosa, imprime el resultado. Si hay un error, imprime un mensaje claro.\n",
    "```\n",
    "\n",
    "**Ejercicio 5.2 - Conversión de tipo segura**\n",
    "\n",
    "```python\n",
    "# Pídele al usuario que ingrese un número.\n",
    "# Intenta convertir la entrada a un número entero.\n",
    "# Usa un bloque `try-except` para capturar la excepción `ValueError` si el usuario no ingresa un número válido.\n",
    "# Si la conversión es exitosa, imprime el número. Si hay un error, imprime un mensaje de error.\n",
    "```\n",
    "\n",
    "-----\n",
    "\n",
    "### 6️⃣ **Ejercicios Integrados**\n",
    "\n",
    "**Ejercicio 6.1 - Calculadora con bucle y manejo de errores**\n",
    "\n",
    "```python\n",
    "# Crea un programa que le pida al usuario dos números y una operación (+, -, *, /).\n",
    "# El programa debe realizar la operación y mostrar el resultado.\n",
    "# Debe usar un ciclo `while` para seguir pidiendo operaciones hasta que el usuario decida salir.\n",
    "# Debe usar estructuras condicionales para determinar qué operación realizar.\n",
    "# Debe usar un bloque `try-except` para manejar la división por cero y entradas no numéricas.\n",
    "```\n",
    "\n",
    "-----\n",
    "\n",
    "### 7️⃣ **Ejercicios de Repaso**\n",
    "\n",
    "**Ejercicio 7.1 - Lista de compras**\n",
    "\n",
    "```python\n",
    "# Escribe un programa que pida al usuario un número entero y muestre por pantalla un triángulo rectángulo como el de más abajo, de altura el número introducido.\n",
    "\n",
    "# Para n = 5:\n",
    "*\n",
    "**\n",
    "***\n",
    "****\n",
    "*****\n",
    "```\n",
    "\n",
    "**Ejercicio 7.2 - Tabla de multiplicar**\n",
    "\n",
    "```python\n",
    "# Pídele al usuario un número entero.\n",
    "# Usa un ciclo `for` para imprimir la tabla de multiplicar de ese número del 1 al 10.\n",
    "# Por ejemplo, si el usuario ingresa 5, la salida debe ser:\n",
    "# 5 x 1 = 5\n",
    "# 5 x 2 = 10\n",
    "# ...\n",
    "# 5 x 10 = 50\n",
    "```\n",
    "\n",
    "**Ejercicio 7.3 - Inverso**\n",
    "\n",
    "```python\n",
    "# Escribe un programa que pida al usuario una palabra y luego muestre por pantalla una a una las letras de la palabra introducida empezando por la última.\n",
    "```\n",
    "\n",
    "-----\n",
    "\n",
    "### 📋 **Instrucciones para resolver:**\n",
    "\n",
    "1.  Copia cada ejercicio en una nueva celda de código.\n",
    "2.  Resuelve paso a paso y comenta tu razonamiento.\n",
    "3.  Ejecuta para verificar tus respuestas.\n",
    "4.  Experimenta modificando los valores.\n",
    "5.  Pregunta si tienes dudas."
   ]
  }
 ],
 "metadata": {
  "language_info": {
   "name": "python"
  }
 },
 "nbformat": 4,
 "nbformat_minor": 5
}
