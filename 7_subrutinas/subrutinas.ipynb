{
 "cells": [
  {
   "cell_type": "markdown",
   "id": "90c832e3",
   "metadata": {},
   "source": [
    "# Principios de Informática: Subrutinas 🧩\n",
    "### Construyendo programas modulares y reutilizables\n",
    "\n",
    "**Curso:** Principios de Informática\n",
    "\n",
    "[![Open In Colab](https://colab.research.google.com/assets/colab-badge.svg)](https://githubtocolab.com/EnriqueVilchezL/principios_de_info/blob/main/7_subrutinas/subrutinas.ipynb)\n",
    "\n",
    "---\n",
    "\n",
    "## 🗺️ Objetivos y contenidos\n",
    "\n",
    "Este notebook es una guía interactiva para comprender la importancia de la modularización y la reutilización en la programación, definir y utilizar subrutinas (funciones) en Python, identificar los componentes de una función y su firma, diferenciar entre funciones que retornan valores y funciones que no retornan (None), invocar funciones y pasar argumentos (mutables e inmutables).\n",
    "\n",
    "> \"Cada subrutina es una pequeña herramienta para construir programas más grandes y con menos esfuerzo\"\n",
    "\n",
    "**Importancia:**\n",
    "- La modularización facilita el desarrollo, mantenimiento y reutilización del código.\n",
    "- Las funciones permiten dividir problemas complejos en partes más simples y manejables.\n",
    "- Comprender el paso de argumentos y el retorno de valores es esencial para escribir programas robustos.\n",
    "\n",
    "**Contenidos:**\n",
    "1. Modularización y reutilización\n",
    "2. Definición y componentes de una función\n",
    "3. Retorno de valores y el valor especial None\n",
    "4. Invocación y paso de argumentos\n",
    "5. Diferencias entre objetos mutables e inmutables"
   ]
  },
  {
   "cell_type": "markdown",
   "id": "224ba31e",
   "metadata": {},
   "source": [
    "---\n",
    "\n",
    "## 1. La importancia de la Modularización y la Reutilización\n",
    "\n",
    "---\n",
    "\n",
    "### ¿Por Qué Dividir Para Conquistar? 💡\n",
    "\n",
    "Imagine que un mecánico está construyendo un auto. No construiría todo el auto como una sola pieza gigante y monolítica. Lo construiría en partes: el motor, el chasis, las ruedas, el sistema eléctrico. Cada parte es un **módulo** que se puede diseñar, construir y probar de forma independiente. Si el motor falla, se puede arreglar o reemplazar el motor sin tener que reconstruir todo el auto.\n",
    "\n",
    "En programación, se hace exactamente lo mismo. En lugar de escribir un programa muy largo y complejo como un solo bloque de código, se divide en piezas más pequeñas y manejables llamadas **subrutinas** (o, como se conocen más comúnmente en Python, **funciones**).\n",
    "\n",
    "---"
   ]
  },
  {
   "cell_type": "markdown",
   "id": "be0741ac",
   "metadata": {},
   "source": [
    "### Modularización\n",
    "\n",
    "Dividir un problema complejo en subproblemas más simples. Esto hace que el código sea más fácil de leer, entender y depurar. 🧩\n",
    "\n",
    "Por ejemplo:\n",
    "\n",
    "---"
   ]
  },
  {
   "cell_type": "code",
   "execution_count": null,
   "id": "9095489d",
   "metadata": {},
   "outputs": [],
   "source": [
    "# --- Módulo de entrada de datos ---\n",
    "def obtener_datos_estudiante():\n",
    "    nombre = input(\"Ingresa el nombre del estudiante: \")\n",
    "    nota = float(input(f\"Ingrese la nota de {nombre}: \"))\n",
    "    return nombre, nota\n",
    "\n",
    "# --- Módulo de lógica de evaluación ---\n",
    "def evaluar_aprobacion(nota):\n",
    "    return nota >= 6.0\n",
    "\n",
    "# --- Módulo de salida ---\n",
    "def mostrar_resultado(nombre, nota):\n",
    "    if evaluar_aprobacion(nota):\n",
    "        print(f\"{nombre} ha aprobado con {nota}\")\n",
    "    else:\n",
    "        print(f\"{nombre} ha reprobado con {nota}\")\n",
    "\n",
    "# --- Función principal ---\n",
    "for _ in range(3):\n",
    "    nombre, nota = obtener_datos_estudiante()\n",
    "    mostrar_resultado(nombre, nota)"
   ]
  },
  {
   "cell_type": "markdown",
   "id": "5b1a7722",
   "metadata": {},
   "source": [
    "\n",
    "### Reutilización\n",
    "\n",
    "Una vez que se escribe una subrutina para una tarea específica (como calcular un promedio o validar un correo electrónico), se puede **llamarla** y usarla tantas veces como se ocupe, en diferentes partes del programa o incluso en otros programas ♻️.\n",
    "\n",
    "Por ejemplo:\n",
    "\n",
    "---"
   ]
  },
  {
   "cell_type": "code",
   "execution_count": null,
   "id": "ce8e4f6d",
   "metadata": {},
   "outputs": [],
   "source": [
    "def calcular_promedio(lista_numeros):\n",
    "    return sum(lista_numeros) / len(lista_numeros)\n",
    "\n",
    "notas_matematica = [90, 85, 78]\n",
    "notas_historia = [88, 92, 80]\n",
    "\n",
    "promedio_mate = calcular_promedio(notas_matematica)\n",
    "promedio_hist = calcular_promedio(notas_historia)\n",
    "\n",
    "print(f\"Promedio Matemática: {promedio_mate}\")\n",
    "print(f\"Promedio Historia: {promedio_hist}\")"
   ]
  },
  {
   "cell_type": "markdown",
   "id": "aed8ff6e",
   "metadata": {},
   "source": [
    "---\n",
    "\n",
    "## 2. Definición de subrutinas y sus componentes\n",
    "\n",
    "---\n",
    "\n",
    "Una **subrutina** o **función** es un bloque de código organizado y reutilizable que realiza una única acción definida por el programador. Las funciones proporcionan una mejor modularidad para la aplicación y un alto grado de reutilización de código.\n",
    "\n",
    "**Ejemplo**:\n",
    "```python\n",
    "def funcion(parametro: tipo) -> tipo:\n",
    "    [código]\n",
    "    ...\n",
    "    [código]\n",
    "    return [valor(es)]\n",
    "```\n",
    "---"
   ]
  },
  {
   "cell_type": "markdown",
   "id": "e7f7073d",
   "metadata": {},
   "source": [
    "### Componentes de una Función en Python\n",
    "\n",
    "Una función se define con la palabra clave `def` y tiene los siguientes componentes:\n",
    "\n",
    "```python\n",
    "def nombre_de_la_funcion(parametro: tipo_de_entrada) -> tipo_de_retorno:\n",
    "    \"\"\"\n",
    "    Descripción\n",
    "    \"\"\"\n",
    "\n",
    "    # Cuerpo de la función\n",
    "    [código]\n",
    "    ...\n",
    "    [código]\n",
    "    return [valor(es)]\n",
    "```\n",
    "\n",
    "1.  **`def`**: La palabra clave que le dice a Python: \"¡Voy a definir una función!\".\n",
    "2.  **`nombre_de_la_funcion`**: Un nombre descriptivo (usando `snake_case`). Generalmente, se usan **verbos en infinitvo**, pues las funciones representan acciones. Por ejemplo: **comer,calcular_promedio, almacenar_valor**, etc.\n",
    "3.  **`parametros`**: (Opcionales) Las variables que la función recibe como entrada para trabajar. Son como los ingredientes de una receta.\n",
    "4.  **`tipo_de_entrada`**: (Opcional) El tipo de dato de un parámetro de la función.\n",
    "5.  **`-> tipo_de_retorno`**: (Opcional pero muy recomendado) Una \"type hint\" que indica qué tipo de dato devolverá la función. Si no devuelve nada, se usa `-> None`.\n",
    "6.  **`:`**: Dos puntos que marcan el inicio del bloque de la función.\n",
    "7.  **`descripción`**: Es un comentario en donde se describe lo que hace una función, sus parámetros y su retorno.\n",
    "8.  **Cuerpo de la función**: El bloque de código indentado que realiza la tarea.\n",
    "9.  **`return`**: (Opcional) La palabra clave que envía un resultado de vuelta a quien llamó la función.\n",
    "\n",
    "---"
   ]
  },
  {
   "cell_type": "code",
   "execution_count": null,
   "id": "30da2ddc",
   "metadata": {},
   "outputs": [],
   "source": [
    "def sumar(a: int, b: int) -> int:\n",
    "    \"\"\"\n",
    "    Esta función recibe dos números enteros y retorna su suma.\n",
    "    \"\"\"\n",
    "    return a + b"
   ]
  },
  {
   "cell_type": "markdown",
   "id": "3c750af4",
   "metadata": {},
   "source": [
    "#### Firma de la función\n",
    "\n",
    "La definición del nombre de la función, parámetros, tipos de entrada y tipos de retorno, se le llama la **firma** de la función.\n",
    "\n",
    "```python\n",
    "def saludar(nombre: str) -> None:\n",
    "    ...\n",
    "```\n",
    "\n",
    "---"
   ]
  },
  {
   "cell_type": "markdown",
   "id": "4c828570",
   "metadata": {},
   "source": [
    "#### Invocación de funciones\n",
    "\n",
    "Se le llama **invocar** o **llamar** a la acción de ejecutar la función ya definida, con ciertos **argumentos**.\n",
    "\n",
    "> Un argumento es lo mismo que un parámetro, con al diferencia de que el argumento tiene un valor almacenado, y no es solo para definir la función. \n",
    "\n",
    "- **Parámetro**: es la variable que se define en la función para recibir un valor. Es como un “espacio vacío” que la función espera llenar.\n",
    "- **Argumento**: es el valor real que se pasa a la función cuando se le llama.\n",
    "\n",
    "---"
   ]
  },
  {
   "cell_type": "code",
   "execution_count": null,
   "id": "bd649776",
   "metadata": {},
   "outputs": [],
   "source": [
    "argumento_a = 10\n",
    "argumento_b = 5\n",
    "\n",
    "resultado = sumar(argumento_a, argumento_b)\n",
    "print(resultado)"
   ]
  },
  {
   "cell_type": "markdown",
   "id": "5c030001",
   "metadata": {},
   "source": [
    "#### Docstring\n",
    "\n",
    "Un **docstring** es una cadena de texto (usualmente entre triple comillas `\"\"\"`) que se coloca justo después de la definición de una función. Sirve para documentar qué hace la función, describir sus parámetros y su valor de retorno.\n",
    "\n",
    "- Es la forma estándar de documentar funciones en Python.\n",
    "- Se puede acceder al docstring usando `help(nombre_funcion)` o `nombre_funcion.__doc__`.\n",
    "\n",
    "---"
   ]
  },
  {
   "cell_type": "code",
   "execution_count": null,
   "id": "647762a1",
   "metadata": {},
   "outputs": [],
   "source": [
    "def sumar(a: int, b: int) -> int:\n",
    "    \"\"\"\n",
    "    Esta función recibe dos números enteros y retorna su suma.\n",
    "    \"\"\"\n",
    "    return a + b\n",
    "\n",
    "help(sumar)"
   ]
  },
  {
   "cell_type": "markdown",
   "id": "8eee1692",
   "metadata": {},
   "source": [
    "**Estándar de Google para docstrings**:\n",
    "Google propone un formato claro y estructurado para los docstrings, que facilita la lectura y el análisis automático de la documentación. Este formato incluye secciones como Args, Returns y Raises.\n",
    "\n",
    "**Ejemplo (estilo Google):**\n",
    "```python\n",
    "def sumar(a: int, b: int) -> int:\n",
    "    \"\"\"Suma dos números enteros y devuelve el resultado.\n",
    "\n",
    "    Args:\n",
    "        a (int): Primer sumando.\n",
    "        b (int): Segundo sumando.\n",
    "\n",
    "    Returns:\n",
    "        int: La suma de a y b.\n",
    "    \"\"\"\n",
    "    return a + b\n",
    "```\n",
    "\n",
    "Las secciones más comunes en el estándar de Google son:\n",
    "- `Args:` para describir los parámetros de entrada.\n",
    "- `Returns:` para describir el valor de retorno.\n",
    "- `Raises:` para indicar posibles excepciones que puede lanzar la función.\n",
    "\n",
    "---"
   ]
  },
  {
   "cell_type": "markdown",
   "id": "e81f0064",
   "metadata": {},
   "source": [
    "#### 🥇 Ejercicio: La primera función\n",
    "\n",
    "Defina una función llamada `saludar` que reciba un `nombre` como parámetro y muestre un saludo personalizado.\n",
    "\n",
    "---"
   ]
  },
  {
   "cell_type": "code",
   "execution_count": null,
   "id": "b09aeb6f",
   "metadata": {},
   "outputs": [],
   "source": [
    "def saludar(nombre: str) -> None:\n",
    "    \"\"\"Esta función recibe un nombre e imprime un saludo en la consola.\n",
    "\n",
    "    Args:\n",
    "        nombre (str): El nombre de la persona a saludar.\n",
    "\n",
    "    Returns:\n",
    "        None: No devuelve ningún valor.\n",
    "    \"\"\"\n",
    "    mensaje: str = f\"¡Hola, {nombre}! Bienvenido a las funciones en Python.\"\n",
    "    print(mensaje)"
   ]
  },
  {
   "cell_type": "code",
   "execution_count": null,
   "id": "9368ad0d",
   "metadata": {},
   "outputs": [],
   "source": [
    "# Invocación de la función\n",
    "saludar(\"Ana\")"
   ]
  },
  {
   "cell_type": "code",
   "execution_count": null,
   "id": "2c347bdb",
   "metadata": {},
   "outputs": [],
   "source": [
    "# Invocación de la función\n",
    "saludar(\"Carlos\")"
   ]
  },
  {
   "cell_type": "markdown",
   "id": "17092505",
   "metadata": {},
   "source": [
    "#### Nombres de las funciones\n",
    "\n",
    "Es importante elegir nombres descriptivos y claros para las funciones. Por convención en Python, los nombres de las funciones deben escribirse en minúsculas y con palabras separadas por guiones bajos (`snake_case`).\n",
    "\n",
    "Además, es recomendable que el nombre de la función comience con un **verbo en infinitivo** que indique la acción que realiza, para que sea fácil entender su propósito.\n",
    "\n",
    "**Ejemplos de buenos nombres de funciones:**\n",
    "- `calcular_area`\n",
    "- `imprimir_resultado`\n",
    "- `obtener_datos`\n",
    "- `validar_email`\n",
    "\n",
    "Evite nombres genéricos o poco descriptivos como `funcion1`, `hacer_algo` o `proceso`. Un buen nombre ayuda a que el código sea más legible y mantenible."
   ]
  },
  {
   "cell_type": "markdown",
   "id": "db8cdb6d",
   "metadata": {},
   "source": [
    "---\n",
    "\n",
    "## 3. Retorno de valores\n",
    "\n",
    "---\n",
    "\n",
    "No todas las funciones simplemente imprimen algo. Muchas veces, se ocupa que una función **calcule un valor** y lo entregue para que se pueda usar después. Para esto se utiliza la instrucción `return`.\n",
    "\n",
    "Cuando Python encuentra un `return`, sale inmediatamente de la función y devuelve el valor especificado.\n",
    "\n",
    "```python\n",
    "def nombre_de_la_funcion(parametro: tipo_de_entrada) -> tipo_de_retorno:\n",
    "    # Cuerpo de la función\n",
    "    [variable] = [valor]\n",
    "    ... # Cálculos\n",
    "    return [variable]\n",
    "```"
   ]
  },
  {
   "cell_type": "markdown",
   "id": "077d37b6",
   "metadata": {},
   "source": [
    "#### ➕ Ejercicio: Sumadora\n",
    "\n",
    "Escriba un programa que pida dos números enteros y escriba la suma de todos los enteros desde el primer número hasta el segundo.\n",
    "\n",
    "Asegúrese de que su función está correcta usando `assert`.\n",
    "\n",
    "---"
   ]
  },
  {
   "cell_type": "code",
   "execution_count": null,
   "id": "f4388987",
   "metadata": {},
   "outputs": [],
   "source": [
    "def sumar_numeros_entre_a_y_b(a: int, b: int) -> int:\n",
    "    \"\"\"Suma todos los números entre a y b (incluidos).\n",
    "\n",
    "    Args:\n",
    "        a (int): El primer número.\n",
    "        b (int): El segundo número.\n",
    "\n",
    "    Returns:\n",
    "        int: La suma de todos los números entre a y b (incluidos).\n",
    "    \"\"\"\n",
    "    if a > b:\n",
    "        a, b = b, a\n",
    "    \n",
    "    suma = 0\n",
    "    for i in range(a, b + 1):\n",
    "        suma += i\n",
    "    return suma"
   ]
  },
  {
   "cell_type": "code",
   "execution_count": null,
   "id": "a1abaa53",
   "metadata": {},
   "outputs": [],
   "source": [
    "# Invocación y almacenamiento del resultado\n",
    "suma1 = sumar_numeros_entre_a_y_b(1, 9)\n",
    "print(f\"La suma de los números entre 1 y 9 es: {suma1}\")"
   ]
  },
  {
   "cell_type": "code",
   "execution_count": null,
   "id": "024235d6",
   "metadata": {},
   "outputs": [],
   "source": [
    "assert sumar_numeros_entre_a_y_b(1, 9) == 45, \"Error en la suma de números entre 1 y 9\""
   ]
  },
  {
   "cell_type": "code",
   "execution_count": null,
   "id": "e874e133",
   "metadata": {},
   "outputs": [],
   "source": [
    "assert sumar_numeros_entre_a_y_b(20, 8) == 108, \"Error en la suma de números entre 20 y 8\""
   ]
  },
  {
   "cell_type": "markdown",
   "id": "1c6604c3",
   "metadata": {},
   "source": [
    "### El valor especial `None` en Python\n",
    "\n",
    "En Python, `None` es un valor especial que representa la ausencia de un valor o un valor nulo. Es equivalente a \"nada\" o \"sin resultado\".\n",
    "\n",
    "- Cuando una función **no tiene una instrucción `return`**, o tiene un `return` sin valor, **devuelve automáticamente `None`**.\n",
    "- Se utiliza para indicar que una variable aún no tiene un valor útil, o que una función no retorna nada.\n",
    "\n",
    "---"
   ]
  },
  {
   "cell_type": "code",
   "execution_count": null,
   "id": "4c51bc5d",
   "metadata": {},
   "outputs": [],
   "source": [
    "def saludar_sin_retorno() -> None:\n",
    "    \"\"\"Esta función no retorna ningún valor, solo imprime un mensaje.\"\"\"\n",
    "    print(\"Hola\")"
   ]
  },
  {
   "cell_type": "code",
   "execution_count": null,
   "id": "0263e9de",
   "metadata": {},
   "outputs": [],
   "source": [
    "resultado = saludar_sin_retorno()\n",
    "print(resultado)  # Imprime: None"
   ]
  },
  {
   "cell_type": "code",
   "execution_count": null,
   "id": "eaa476e8",
   "metadata": {},
   "outputs": [],
   "source": [
    "def saludar_sin_retorno() -> None:\n",
    "    \"\"\"Esta función no retorna ningún valor, solo imprime un mensaje.\"\"\"\n",
    "    print(\"Hola\")\n",
    "    return"
   ]
  },
  {
   "cell_type": "code",
   "execution_count": null,
   "id": "0fc8a60a",
   "metadata": {},
   "outputs": [],
   "source": [
    "resultado = saludar_sin_retorno()\n",
    "print(resultado)  # Imprime: None"
   ]
  },
  {
   "cell_type": "markdown",
   "id": "e8a1de3d",
   "metadata": {},
   "source": [
    "En este ejemplo, la función imprime un mensaje, pero no retorna ningún valor, por lo que la variable `resultado` contiene `None`."
   ]
  },
  {
   "cell_type": "markdown",
   "id": "24648422",
   "metadata": {},
   "source": [
    "#### 🎰 Ejercicio: Máximo común divisor\n",
    "\n",
    "El máximo común divisor (mcd) de dos números enteros positivos es el número entero más grande que divide uniformemente en ambos. Por ejemplo, el máximo común divisor de 102 y 68 es 34, ya que ambos 102 y 68 son múltiplos de 34, además no hay entero mayor que 34 y divida uniformemente en 102 y 68. El mcd de 8 y 15 es 1. El mcd de 8 y 16 es 8. El mcd de 50 y 8 es 2.\n",
    "\n",
    "Escriba un programa que pida al usuario **dos valores** y calcula el máximo común divisor de estos\n",
    "dos valores. Puede suponer que ambos valores son digitados correctamente, como enteros\n",
    "positivos. Luego de devolver el valor del mcd, el programa pregunta al usuario si desea calcular\n",
    "el mcd de otros dos valores (\"¿Desea calcular otro mcd? O digite 'N' o 'n' para salir \").\n",
    "\n",
    "Haga una función llamada `calcular_mcd` que reciba dos números y retorne el mcd.\n",
    "\n",
    "---"
   ]
  },
  {
   "cell_type": "code",
   "execution_count": null,
   "id": "d9ff79f6",
   "metadata": {},
   "outputs": [],
   "source": [
    "def calcular_mcd(numero_1: int, numero_2: int) -> int:\n",
    "    \"\"\"Calcula el máximo común divisor (MCD) de dos números enteros.\n",
    "\n",
    "    Args:\n",
    "        numero_1 (int): El primer número.\n",
    "        numero_2 (int): El segundo número.\n",
    "\n",
    "    Returns:\n",
    "        int: El MCD de los dos números.\n",
    "    \"\"\"\n",
    "    # Determinar el máximo de los dos números\n",
    "    if numero_1 > numero_2:\n",
    "        maximo = numero_1\n",
    "    else:\n",
    "        maximo = numero_2\n",
    "\n",
    "    mcd = 1  # Inicializar el MCD como 1\n",
    "    for numero in range(maximo + 1):\n",
    "        if numero_1 % numero == 0 and numero_2 % numero == 0:\n",
    "            mcd = numero\n",
    "        \n",
    "    return mcd"
   ]
  },
  {
   "cell_type": "markdown",
   "id": "82759fed",
   "metadata": {},
   "source": [
    "---\n",
    "\n",
    "## 4. Invocación y paso de argumentos\n",
    "\n",
    "---\n",
    "\n",
    "* **Invocación**: Es el acto de \"llamar\" o ejecutar una función. Se hace escribiendo el nombre de la función seguido de paréntesis `()`.\n",
    "* **Argumentos**: Son los valores reales que se le envían a la función cuando se invoca. Estos valores se asignan a los **parámetros** definidos en la función.\n",
    "\n",
    "```python\n",
    "def calcular(parametro_1: tipo, parametro_2: tipo_2) -> tipo_de_retorno:\n",
    "    ...\n",
    "\n",
    "# Invocamos la función\n",
    "calcular(argumento_1, argumento_2)\n",
    "```\n",
    "---"
   ]
  },
  {
   "cell_type": "code",
   "execution_count": null,
   "id": "5e93730e",
   "metadata": {},
   "outputs": [],
   "source": [
    "def imprimir_parametros(parametro_1: int, parametro_2: str) -> None:\n",
    "    \"\"\"Esta función recibe dos parámetros y los imprime en la consola.\n",
    "\n",
    "    Args:\n",
    "        parametro_1 (int): Un número entero.\n",
    "        parametro_2 (str): Una cadena de texto.\n",
    "    \n",
    "    Returns:\n",
    "        None: No devuelve ningún valor.\n",
    "    \"\"\"\n",
    "    print(f\"Parámetro 1: {parametro_1}, Parámetro 2: {parametro_2}\")"
   ]
  },
  {
   "cell_type": "code",
   "execution_count": null,
   "id": "a19bb1e5",
   "metadata": {},
   "outputs": [],
   "source": [
    "# Invocación de la función\n",
    "argumento_1 = 42\n",
    "argumento_2 = \"Hola Mundo\"\n",
    "imprimir_parametros(argumento_1, argumento_2)"
   ]
  },
  {
   "cell_type": "code",
   "execution_count": null,
   "id": "2bbbf2d9",
   "metadata": {},
   "outputs": [],
   "source": [
    "# Invocación de la función\n",
    "imprimir_parametros(42, \"Hola Mundo\")"
   ]
  },
  {
   "cell_type": "markdown",
   "id": "7a1b4979",
   "metadata": {},
   "source": [
    "Se puede hacer explícito a cuáles parámetros nos referimos cuando llamamos a la función. Python asigna a los parámetros los argumentos según el orden en el que vengan."
   ]
  },
  {
   "cell_type": "code",
   "execution_count": null,
   "id": "2ff9f842",
   "metadata": {},
   "outputs": [],
   "source": [
    "def sumar(a: int, b: int) -> int:\n",
    "    \"\"\"\n",
    "    Esta función recibe dos números enteros y retorna su suma.\n",
    "    \"\"\"\n",
    "    print(f\"Argumento a {a}. Argumento b {b}\")\n",
    "    return a + b\n",
    "\n",
    "argumento_a = 10\n",
    "argumento_b = 5\n",
    "\n",
    "# Especificamos los argumentos por nombre\n",
    "resultado = sumar(a=argumento_a, b=argumento_b)\n",
    "print(resultado)"
   ]
  },
  {
   "cell_type": "markdown",
   "id": "85567022",
   "metadata": {},
   "source": [
    "**NOTA**: En Python, los tipos de datos indicados en los parámetros son solo guías visuales (anotaciones de tipo).\n",
    "\n",
    "> No son restrictivos. Por ejemplo, si un parámetro se indica como `int` pero se pasa un `str` como argumento, Python no genera un error automáticamente, sino que intentará ejecutar la función con el valor proporcionado, lo que **puede causar errores en tiempo de ejecución si el tipo no es compatible o errores lógicos**."
   ]
  },
  {
   "cell_type": "code",
   "execution_count": null,
   "id": "e911f5b2",
   "metadata": {},
   "outputs": [],
   "source": [
    "def multiplicar_caracter(c: str, n: int) -> str:\n",
    "    \"\"\"Esta función retorna el carácter 'c' multiplicado 'n' veces.\n",
    "\n",
    "    Args:\n",
    "        c (str): El carácter a multiplicar.\n",
    "        n (int): El número de veces que se multiplicará el carácter.\n",
    "\n",
    "    Returns:\n",
    "        str: El carácter 'c' multiplicado 'n' veces.\n",
    "    \"\"\"\n",
    "    return c * n"
   ]
  },
  {
   "cell_type": "code",
   "execution_count": null,
   "id": "87025b5a",
   "metadata": {},
   "outputs": [],
   "source": [
    "resultado = multiplicar_caracter(\"a\", 5)\n",
    "print(resultado)  # Imprime: aaaaa"
   ]
  },
  {
   "cell_type": "code",
   "execution_count": null,
   "id": "e4c95761",
   "metadata": {},
   "outputs": [],
   "source": [
    "# Intercambiamos los argumentos\n",
    "resultado = multiplicar_caracter(3, 'b')\n",
    "print(resultado)"
   ]
  },
  {
   "cell_type": "markdown",
   "id": "015fd708",
   "metadata": {},
   "source": [
    "No obstante, si ponemos los nombres de los parámetros, podemos pasarlos en distinto orden manteniendo la lógica."
   ]
  },
  {
   "cell_type": "code",
   "execution_count": null,
   "id": "bb4706b0",
   "metadata": {},
   "outputs": [],
   "source": [
    "# Intercambiamos los argumentos\n",
    "resultado = multiplicar_caracter(n=3, c='b')\n",
    "print(resultado)"
   ]
  },
  {
   "cell_type": "markdown",
   "id": "02dd7b51",
   "metadata": {},
   "source": [
    "### Localidad 🏟️ vs Globalidad 🌎\n",
    "\n",
    "Cuando se trabaja con funciones en programación, es importante entender la diferencia entre variables **locales** y **globales**:\n",
    "\n",
    "- **🏟️ Variables locales:** Son aquellas que se definen dentro de una función y solo existen mientras la función se está ejecutando. No pueden ser accedidas fuera de la función.\n",
    "\n",
    "- **🌎 Variables globales:** Son aquellas que se definen fuera de cualquier función y pueden ser accedidas desde cualquier parte del programa, incluyendo dentro de las funciones (aunque no es recomendable modificarlas directamente dentro de una función).\n",
    "\n",
    "---"
   ]
  },
  {
   "cell_type": "code",
   "execution_count": null,
   "id": "c8b93d48",
   "metadata": {},
   "outputs": [],
   "source": [
    "x = 20 # Variable globa;\n",
    "\n",
    "def mi_funcion():\n",
    "    x = 10  # Variable local\n",
    "    print(f\"X de la función: {x}\")\n",
    "\n",
    "print(f\"X antes de la función: {x}.\")  # Imprime 20\n",
    "\n",
    "mi_funcion()  # Imprime 10\n",
    "\n",
    "print(f\"X después de la función: {x}.\")  # Imprime 20"
   ]
  },
  {
   "cell_type": "markdown",
   "id": "370312d1",
   "metadata": {},
   "source": [
    "En este ejemplo, la variable `x` dentro de la función es **local** y diferente de la variable `x` global."
   ]
  },
  {
   "cell_type": "markdown",
   "id": "34206bac",
   "metadata": {},
   "source": [
    "Si se quiere modificar una variable global en una función, se debe usar la palabra clave `global` de la siguiente forma:"
   ]
  },
  {
   "cell_type": "code",
   "execution_count": null,
   "id": "502f5f84",
   "metadata": {},
   "outputs": [],
   "source": [
    "x = 20\n",
    "def modificar_global() -> None:\n",
    "    global x\n",
    "    x += 20"
   ]
  },
  {
   "cell_type": "markdown",
   "id": "79f709ca",
   "metadata": {},
   "source": [
    "---\n",
    "\n",
    "## 5. Diferencias entre objetos mutables e inmutables en el paso de argumentos\n",
    "\n",
    "---\n",
    "\n",
    "Este es un concepto **crucial**. La forma en que Python pasa los argumentos a las funciones tiene un efecto diferente dependiendo de si el tipo de dato es **inmutable** o **mutable**.\n",
    "\n",
    "---"
   ]
  },
  {
   "cell_type": "markdown",
   "id": "8551bd35",
   "metadata": {},
   "source": [
    "### Paso de Tipos Inmutables (como `int`, `str`, `float`, `bool`)\n",
    "\n",
    "Cuando se pasa un objeto inmutable a una función como argumento, la función recibe una **copia del valor**. Si se modifica el parámetro dentro de la función, la variable original fuera de la función **NO cambia**.\n",
    "\n",
    "---"
   ]
  },
  {
   "cell_type": "code",
   "execution_count": null,
   "id": "5c4c6607",
   "metadata": {},
   "outputs": [],
   "source": [
    "def intentar_modificar_numero(numero: int) -> None:\n",
    "    \"\"\"Esta función intenta modificar el valor de un número, pero no afecta al número original fuera de la función.\n",
    "\n",
    "    Args:\n",
    "        numero (int): Un número entero que se intenta modificar.\n",
    "\n",
    "    Returns:\n",
    "        None: No devuelve ningún valor.\n",
    "    \"\"\"\n",
    "    print(f\"    Dentro de la función (antes): {numero}\")\n",
    "    numero = 100 # Se crea una nueva variable 'numero' local a la función\n",
    "    print(f\"    Dentro de la función (después): {numero}\")"
   ]
  },
  {
   "cell_type": "code",
   "execution_count": null,
   "id": "9d926a01",
   "metadata": {},
   "outputs": [],
   "source": [
    "# Variable original\n",
    "mi_numero = 10\n",
    "print(f\"Fuera de la función (antes): {mi_numero}\")\n",
    "\n",
    "intentar_modificar_numero(mi_numero)\n",
    "\n",
    "print(f\"Fuera de la función (después): {mi_numero}\") # ¡No cambió!"
   ]
  },
  {
   "cell_type": "markdown",
   "id": "fa5129af",
   "metadata": {},
   "source": [
    "### Paso de Tipos Mutables (como `list`, `dict`)\n",
    "\n",
    "Cuando se pasa un objeto mutable a una función, la función recibe una **referencia al objeto original**. Si se modifica el objeto dentro de la función (por ejemplo, agregando un elemento a una lista), el objeto original fuera de la función **SÍ cambia**.\n",
    "\n",
    "---"
   ]
  },
  {
   "cell_type": "code",
   "execution_count": null,
   "id": "ed67360e",
   "metadata": {},
   "outputs": [],
   "source": [
    "def agregar_elemento_a_lista(una_lista: list) -> None:\n",
    "    \"\"\"Esta función agrega un elemento a una lista, modificando el objeto original.\n",
    "\n",
    "    Args:\n",
    "        una_lista (list): La lista a la que se le agregará un elemento.\n",
    "\n",
    "    Returns:\n",
    "        None: No devuelve ningún valor.\n",
    "    \"\"\"\n",
    "    print(f\"    Dentro de la función (antes): {una_lista}\")\n",
    "    una_lista.append(99) # Se modifica el objeto original\n",
    "    print(f\"    Dentro de la función (después): {una_lista}\")"
   ]
  },
  {
   "cell_type": "code",
   "execution_count": null,
   "id": "ff847ec5",
   "metadata": {},
   "outputs": [],
   "source": [
    "# Lista original\n",
    "mi_lista = [1, 2, 3]\n",
    "print(f\"Fuera de la función (antes): {mi_lista}\")\n",
    "\n",
    "agregar_elemento_a_lista(mi_lista)\n",
    "\n",
    "print(f\"Fuera de la función (después): {mi_lista}\") # ¡Sí cambió!"
   ]
  },
  {
   "cell_type": "markdown",
   "id": "dda054bb",
   "metadata": {},
   "source": [
    "La mutabilidad funciona con **referencias**. En Python, **las variables no son cajas que guardan valores directamente**, sino que son **referencias a objetos** en memoria.  \n",
    "\n",
    "```python\n",
    "def modificar_lista(lista_parametro: list) -> list:\n",
    "    \"\"\"\n",
    "    Modifica una lista\n",
    "\n",
    "    Args:\n",
    "        lista (list): lista a modificar\n",
    "\n",
    "    Returns:\n",
    "        list: Lista modificada\n",
    "    \"\"\"\n",
    "    lista_parametro.append(100)    # MUTACIÓN: agrega al mismo objeto\n",
    "    return lista_parametro\n",
    "\n",
    "lista_argumento = [1, 2, 3]\n",
    "resultado = modificar_lista(lista_argumento)\n",
    "```\n",
    "\n",
    "\n",
    "> Al hacer `lista_argumento = [1, 2, 3]`, antes de llamar a la función:\n",
    "\n",
    "`lista_argumento` ──► [1, 2, 3]\n",
    "\n",
    "> Al llamar a la función:\n",
    "\n",
    "`lista_argumento` ──► [1, 2, 3] ◄── `lista_parametro`\n",
    "\n",
    "**OJO:** Las variables solo funcionan como punteros a ubicaciones de los valores en memoria. NO están ligadas a los valores como tal.\n",
    "\n",
    "---"
   ]
  },
  {
   "cell_type": "markdown",
   "id": "48ece27c",
   "metadata": {},
   "source": [
    "#### 🕵️‍♀️ Ejercicio: Detective\n",
    "\n",
    "Un profesor quiere escribir una función que “reinicie” cualquier estructura de datos y la convierta en vacía, pero tiene un error lógico, puesto que no conoce bien del concepto de `mutabilidad`. ¿Cuál es el error?\n",
    "\n",
    "---"
   ]
  },
  {
   "cell_type": "code",
   "execution_count": null,
   "id": "03ba636b",
   "metadata": {},
   "outputs": [],
   "source": [
    "def reiniciar(valor: list) -> None:\n",
    "    \"\"\"\n",
    "    Acá debe ir un docstring que explique la función. PENDIENTE. Att. El prof. del ejercicio.\n",
    "    \"\"\"\n",
    "    valor = valor[:0]\n",
    "\n",
    "# Pruebas\n",
    "lista = [1, 2, 3]\n",
    "texto = \"hola\"\n",
    "\n",
    "print(reiniciar(lista))\n",
    "print(lista)"
   ]
  },
  {
   "cell_type": "markdown",
   "id": "a9a442da",
   "metadata": {},
   "source": [
    "Por eso, lo importante es distinguir entre:\n",
    "\n",
    "- **Reasignar**: cambiar a qué objeto apunta una variable.  \n",
    "- **Mutar**: modificar el contenido de un objeto en el lugar."
   ]
  },
  {
   "cell_type": "markdown",
   "id": "62ab5f0e",
   "metadata": {},
   "source": [
    "---\n",
    "\n",
    "## 6. Funciones integradas en python\n",
    "\n",
    "Python ya tiene algunas funciones integradas dentro de su intérprete, como lo son `input` y `print`. Puede revisar la [Documentación oficial de Python](https://docs.python.org/es/3.13/library/functions.html) para ver la lista completa de funciones ya integradas.\n",
    "\n",
    "---"
   ]
  },
  {
   "cell_type": "markdown",
   "id": "aee10d9f",
   "metadata": {},
   "source": [
    "### `sorted`\n",
    "\n",
    "La función sorted en Python toma un iterable (como una lista, una tupla o una cadena) y devuelve una nueva lista con todos los elementos ordenados.\n",
    "\n",
    "---"
   ]
  },
  {
   "cell_type": "code",
   "execution_count": null,
   "id": "c97bed83",
   "metadata": {},
   "outputs": [],
   "source": [
    "sorted([3, 1, 2])        # Devuelve [1, 2, 3]\n",
    "sorted(\"cba\")             # Devuelve ['a', 'b', 'c']\n",
    "sorted([3, 1, 2], reverse=True)  # Devuelve [3, 2, 1]"
   ]
  },
  {
   "cell_type": "markdown",
   "id": "9ee4ba46",
   "metadata": {},
   "source": [
    "### `abs`\n",
    "\n",
    "La función `abs` en Python devuelve el valor absoluto de un número, es decir, la distancia de ese número al cero sin importar si es positivo o negativo.\n",
    "\n",
    "---"
   ]
  },
  {
   "cell_type": "code",
   "execution_count": null,
   "id": "3a88f021",
   "metadata": {},
   "outputs": [],
   "source": [
    "# Ejemplo de uso de abs\n",
    "print(abs(-10))   # 10"
   ]
  },
  {
   "cell_type": "markdown",
   "id": "c07b22ee",
   "metadata": {},
   "source": [
    "### `divmod`\n",
    "\n",
    "La función `divmod` en Python toma dos números y devuelve una tupla con el cociente y el residuo de la división entera.\n",
    "\n",
    "**Parámetros:**\n",
    "\n",
    "- `a`: el dividendo (número que se va a dividir).  \n",
    "- `b`: el divisor (número por el cual se divide).  \n",
    "\n",
    "**Valor devuelto:**  \n",
    "Una tupla `(cociente, residuo)` donde:\n",
    "- `cociente` es el resultado de la división entera (`a // b`).  \n",
    "- `residuo` es el resto de la división (`a % b`).\n",
    "\n",
    "---"
   ]
  },
  {
   "cell_type": "code",
   "execution_count": null,
   "id": "3a1256f9",
   "metadata": {},
   "outputs": [],
   "source": [
    "# Ejemplo de uso de divmod\n",
    "print(divmod(10, 3))  # (3, 1) -> 10 // 3 = 3 y 10 % 3 = 1"
   ]
  },
  {
   "cell_type": "markdown",
   "id": "fb7f5292",
   "metadata": {},
   "source": [
    "### `pow`\n",
    "\n",
    "La función `pow` en Python devuelve el resultado de elevar un número a una potencia. También puede recibir un tercer parámetro para calcular el módulo del resultado.\n",
    "\n",
    "**Parámetros:**\n",
    "\n",
    "- `x`: la base.  \n",
    "- `y`: el exponente al que se va a elevar la base.  \n",
    "\n",
    "---"
   ]
  },
  {
   "cell_type": "code",
   "execution_count": null,
   "id": "014265c1",
   "metadata": {},
   "outputs": [],
   "source": [
    "# Ejemplo de uso de pow\n",
    "print(pow(2, 3))  # 8 -> 2 elevado a la 3"
   ]
  },
  {
   "cell_type": "markdown",
   "id": "e70aee0c",
   "metadata": {},
   "source": [
    "### `min`\n",
    "\n",
    "La función `min` en Python devuelve el **valor mínimo** de un iterable o entre dos o más argumentos.\n",
    "\n",
    "---"
   ]
  },
  {
   "cell_type": "code",
   "execution_count": null,
   "id": "bef60b27",
   "metadata": {},
   "outputs": [],
   "source": [
    "# Ejemplo de uso de min\n",
    "print(min(2, 3))  # 2\n",
    "print(min([3, 1, 2]))  # 1"
   ]
  },
  {
   "cell_type": "markdown",
   "id": "65cee357",
   "metadata": {},
   "source": [
    "### `max`\n",
    "\n",
    "La función `max` en Python devuelve el **valor máximo** de un iterable o entre dos o más argumentos.\n",
    "\n",
    "---"
   ]
  },
  {
   "cell_type": "code",
   "execution_count": null,
   "id": "9ae3f3b0",
   "metadata": {},
   "outputs": [],
   "source": [
    "# Ejemplo de uso de max\n",
    "print(max(2, 3))  # 3\n",
    "print(max([3, 1, 2]))  # 3"
   ]
  },
  {
   "cell_type": "markdown",
   "id": "c1d7664d",
   "metadata": {},
   "source": [
    "### `sum`\n",
    "\n",
    "La función `sum` en Python **devuelve la suma de todos los elementos de un iterable**, como listas o tuplas, y permite opcionalmente sumar un valor inicial.\n",
    "\n",
    "**Parámetros:**\n",
    "\n",
    "- `iterable`: un objeto como lista, tupla o conjunto cuyos elementos se van a sumar.  \n",
    "- `start` (opcional): un valor inicial que se suma al total. Por defecto es 0.\n",
    "\n",
    "---"
   ]
  },
  {
   "cell_type": "code",
   "execution_count": null,
   "id": "b1f311c9",
   "metadata": {},
   "outputs": [],
   "source": [
    "print(sum([1, 2, 3, 4]))        # Devuelve 10\n",
    "print(sum([1, 2, 3, 4], 5))     # Devuelve 15 (5 + 1 + 2 + 3 + 4)"
   ]
  },
  {
   "cell_type": "markdown",
   "id": "29991819",
   "metadata": {},
   "source": [
    "### `round`\n",
    "\n",
    "La función `round` en Python **redondea un número al entero más cercano o a un número de decimales especificado**.\n",
    "\n",
    "**Parámetros:**\n",
    "\n",
    "- `number`: el número que se quiere redondear.  \n",
    "- `ndigits` (opcional): la cantidad de decimales a la que se desea redondear. Por defecto es 0 (redondeo a entero).\n",
    "\n",
    "---"
   ]
  },
  {
   "cell_type": "code",
   "execution_count": null,
   "id": "fbd325f9",
   "metadata": {},
   "outputs": [],
   "source": [
    "# Ejemplo de uso de round\n",
    "print(round(2.5))  # 3\n",
    "print(round(2.5123, 1))  # 2.5"
   ]
  },
  {
   "cell_type": "markdown",
   "id": "5bef0c7d",
   "metadata": {},
   "source": [
    "## Ejercicios adicionales\n",
    "\n",
    "---"
   ]
  },
  {
   "cell_type": "markdown",
   "id": "06a3d8a9",
   "metadata": {},
   "source": [
    "**1. Convertidor de Temperatura**\n",
    "\n",
    "Escribe una función `convertir_celsius_a_fahrenheit` que reciba una temperatura en Celsius y devuelva el valor equivalente en Fahrenheit. La fórmula es: `F = C * 9/5 + 32`.\n",
    "\n",
    "---"
   ]
  },
  {
   "cell_type": "code",
   "execution_count": null,
   "id": "9e176e9d",
   "metadata": {},
   "outputs": [],
   "source": [
    "def convertir_celsius_a_fahrenheit(celsius: float) -> float:\n",
    "    \"\"\"Convierte una temperatura de Celsius a Fahrenheit.\n",
    "    \n",
    "    Args:\n",
    "        celsius (float): La temperatura en grados Celsius.\n",
    "\n",
    "    Returns:\n",
    "        float: La temperatura convertida a grados Fahrenheit.\n",
    "    \"\"\"\n",
    "    fahrenheit = celsius * 9/5 + 32\n",
    "    return fahrenheit\n",
    "\n",
    "# Prueba\n",
    "temp_c = 25.0\n",
    "temp_f = convertir_celsius_a_fahrenheit(temp_c)\n",
    "print(f\"{temp_c}°C es equivalente a {temp_f}°F\")"
   ]
  },
  {
   "cell_type": "markdown",
   "id": "f97e3532",
   "metadata": {},
   "source": [
    "**2. Encontrar el Máximo**\n",
    "\n",
    "Crea una función `encontrar_maximo` que reciba dos números y devuelva el mayor de los dos, sin usar la función `max()` de Python.\n",
    "\n",
    "---"
   ]
  },
  {
   "cell_type": "code",
   "execution_count": null,
   "id": "5995b287",
   "metadata": {},
   "outputs": [],
   "source": [
    "def encontrar_maximo(num1: float, num2: float) -> float:\n",
    "    \"\"\"Encuentra el valor máximo entre dos números.\n",
    "\n",
    "    Args:\n",
    "        num1 (float): El primer número.\n",
    "        num2 (float): El segundo número.\n",
    "\n",
    "    Returns:\n",
    "        float: El número mayor entre los dos.\n",
    "    \"\"\"\n",
    "    if num1 > num2:\n",
    "        return num1\n",
    "    else:\n",
    "        return num2\n",
    "\n",
    "# Prueba\n",
    "print(f\"El máximo entre 10 y 25 es: {encontrar_maximo(10, 25)}\")\n",
    "print(f\"El máximo entre -5 y -1 es: {encontrar_maximo(-5, -1)}\")"
   ]
  },
  {
   "cell_type": "markdown",
   "id": "cc0263f5",
   "metadata": {},
   "source": [
    "**3. Longitud de una Cadena**\n",
    "\n",
    "Escriba una función `calcular_longitud` que reciba una cadena de texto y devuelva el número de caracteres que contiene, sin usar la función `len()` de Python. (Pista: use un bucle `for`).\n",
    "\n",
    "---"
   ]
  },
  {
   "cell_type": "code",
   "execution_count": null,
   "id": "cc19a0eb",
   "metadata": {},
   "outputs": [],
   "source": [
    "def calcular_longitud(texto: str) -> int:\n",
    "    \"\"\"Calcula la longitud de una cadena de texto.\n",
    "    \n",
    "    Args:\n",
    "        texto (str): La cadena de texto cuya longitud se desea calcular.\n",
    "\n",
    "    Returns:\n",
    "        int: La longitud de la cadena de texto.\n",
    "    \"\"\"\n",
    "    contador = 0\n",
    "    for _ in texto:\n",
    "        contador += 1\n",
    "    return contador\n",
    "\n",
    "# Prueba\n",
    "print(f\"La longitud de 'Python' es: {calcular_longitud('Python')}\")\n",
    "print(f\"La longitud de '' es: {calcular_longitud('')}\")"
   ]
  },
  {
   "cell_type": "markdown",
   "id": "9abf0d58",
   "metadata": {},
   "source": [
    "**4. Composición de funciones**\n",
    "\n",
    "Haga dos funciones:\n",
    "- `doblar(x)`: que reciba un número y devuelva el doble.\n",
    "- `sumar_cinco(x)`: que reciba un número y le sume 5.\n",
    "\n",
    "Luego, escriba una función que use ambas funciones para calcular el doble de un número y luego sumarle 5 (por ejemplo, para el número 4, el resultado debe ser 13).\n",
    "\n",
    "---"
   ]
  },
  {
   "cell_type": "code",
   "execution_count": null,
   "id": "0cd68323",
   "metadata": {},
   "outputs": [],
   "source": [
    "def doblar(x: float) -> float:\n",
    "    \"\"\"Devuelve el doble de un número.\n",
    "\n",
    "    Args:\n",
    "        x (float): El número a duplicar.\n",
    "\n",
    "    Returns:\n",
    "        float: El doble del número.\n",
    "    \"\"\"\n",
    "    return x * 2\n",
    "\n",
    "def sumar_cinco(x: float) -> float:\n",
    "    \"\"\"Suma 5 a un número.\n",
    "\n",
    "    Args:\n",
    "        x (float): El número al que se le sumará 5.\n",
    "\n",
    "    Returns:\n",
    "        float: El número incrementado en 5.\n",
    "    \"\"\"\n",
    "    return x + 5\n",
    "\n",
    "def usar_ambas_funciones(numero: float) -> float:\n",
    "    \"\"\"Calcula el doble de un número y luego le suma 5.\n",
    "\n",
    "    Args:\n",
    "        numero (float): El número a procesar.\n",
    "\n",
    "    Returns:\n",
    "        float: El resultado del cálculo.\n",
    "    \"\"\"\n",
    "    resultado_doblar = doblar(numero)\n",
    "    resultado_final = sumar_cinco(resultado_doblar)\n",
    "    return resultado_final"
   ]
  },
  {
   "cell_type": "markdown",
   "id": "75fd20ce",
   "metadata": {},
   "source": [
    "**5. Tablas extendidas**\n",
    "\n",
    "\n",
    "Escriba una función en Python que:\n",
    "\n",
    "1. Reciba un número `n` (entero positivo).  \n",
    "2. Imprima la **tabla de multiplicar del 1 al 10** para cada número que exista del 1 al `n` de manera ordenada.\n",
    "\n",
    "---"
   ]
  },
  {
   "cell_type": "code",
   "execution_count": null,
   "id": "a8133346",
   "metadata": {},
   "outputs": [],
   "source": [
    "def imprimir_tablas_extendidas(n: int) -> None:\n",
    "    \"\"\"\n",
    "    Imprime las tablas de multiplicar del 1 al 10 para un número dado.\n",
    "\n",
    "    Args:\n",
    "        n (int): El número para el cual se imprimirán las tablas de multiplicar.\n",
    "\n",
    "    Returns:\n",
    "        None\n",
    "    \"\"\"\n",
    "    for numero in range(1, n + 1):\n",
    "        print(f\"Tabla de multiplicar del {numero}:\")\n",
    "        for i in range(1, 11):\n",
    "            print(f\"{numero} x {i} = {numero * i}\")\n",
    "\n",
    "        print()\n"
   ]
  },
  {
   "cell_type": "markdown",
   "id": "daaf124f",
   "metadata": {},
   "source": [
    "## 🎯 Resumen y Ejercicios de Repaso\n",
    "\n",
    "Se presentó una síntesis de subrutinas en Python.\n",
    "\n",
    "### 📚 Contenidos revisados\n",
    "\n",
    "1. **Modularización y reutilización**:\n",
    "   - Cómo dividir problemas complejos en partes más simples usando funciones.\n",
    "   - Reutilizar código para evitar repeticiones y facilitar el mantenimiento.\n",
    "\n",
    "2. **Definición y componentes de una función**:\n",
    "   - Sintaxis básica de una función en Python.\n",
    "   - Firma de la función, parámetros, tipo de retorno y docstrings.\n",
    "\n",
    "3. **Retorno de valores y el valor especial `None`**:\n",
    "   - Diferencia entre funciones que retornan valores y las que no.\n",
    "   - Uso y significado de `None` en Python.\n",
    "\n",
    "4. **Invocación y paso de argumentos**:\n",
    "   - Cómo llamar funciones y pasar argumentos (mutables e inmutables).\n",
    "   - Efectos de modificar argumentos dentro de una función.\n",
    "\n",
    "5. **Ejercicios prácticos**:\n",
    "   - Aplicación de funciones para resolver problemas comunes: conversión de temperaturas, encontrar el máximo, calcular la longitud de una cadena, modificar listas, etc.\n",
    "\n",
    "---"
   ]
  },
  {
   "cell_type": "markdown",
   "id": "b35ace94",
   "metadata": {},
   "source": [
    "## 📝 Ejercicios de Práctica\n",
    "\n",
    "A continuación se proponen ejercicios organizados por tema para consolidar los conceptos.\n",
    "\n",
    "-----\n",
    "\n",
    "### 1️⃣ **Ejercicios: Funciones**\n",
    "\n",
    "**Ejercicio 1.1 - Máximo**\n",
    "\n",
    "```python\n",
    "# Defina una función max_de_tres(), que tome tres números como argumentos y devuelva el mayor de ellos. No puede usar la función \"max\" que Python tiene por defecto.\n",
    "```\n",
    "\n",
    "**Ejercicio 1.2 - Día de la semana**\n",
    "\n",
    "```python\n",
    "# Existen múltiples formas de determinar el día de la semana correspondiente a cualquier fecha. En este ejercicio utilizaremos un método descrito por Claus Tøndering, que permite obtener el día de la semana para fechas posteriores al año 1582.\n",
    "\n",
    "# El procedimiento consiste en realizar una serie de cálculos intermedios basados en el año, el mes y el día de la fecha:\n",
    "\n",
    "# 1. A es el cociente de la división de 14 menos el mes entre 12,\n",
    "# 2. B es el año menos A\n",
    "# 3. C es el mes más doce veces A menos 2\n",
    "# 4. D es el cociente de la división de B entre 4\n",
    "# 5. E es el cociente de la división de B entre 100\n",
    "# 6. F es el cociente de la división de B entre 400\n",
    "# 7. G es el cociente de 31 veces C entre 12\n",
    "# 8. H es el dia más B más D menos E más F más G\n",
    "# 9. I es el resto de la división de H entre 7\n",
    "# Si I es 0, el día cae en Domingo; si I es 1, el día cae en Lunes; si I es 2, el día cae en Martes, etc\n",
    "\n",
    "# Haga una función que aplique este algoritmo, pidiendo como parámetro el día del mes, el número de mes, y el año.\n",
    "```\n",
    "\n",
    "**Ejercicio 1.3 - Área**\n",
    "\n",
    "```python\n",
    "# Escriba una función que pida la anchura y altura de un rectángulo y lo dibuje con caracteres producto (*):\n",
    "\n",
    "# Anchura del rectángulo: 5\n",
    "# Altura del rectángulo: 3\n",
    "# * * * * *\n",
    "# * * * * *\n",
    "# * * * * *\n",
    "\n",
    "# Pista: Usa 2 ciclos.\n",
    "```\n",
    "\n",
    "**Ejercicio 1.4 - Área avanzada**\n",
    "\n",
    "```python\n",
    "# Repita el ejercicio anterior, pero logre hacer lo mismo con un solo ciclo.\n",
    "```\n",
    "\n",
    "**Ejercicio 1.5 - Predicción**\n",
    "\n",
    "```python\n",
    "# Sin ejecutar el siguiente programa, determine cuál es la salida en pantalla si se ingresan los valores x=6, y=7\n",
    "\n",
    "def coordenadaZ(x: int, y: int) -> int:\n",
    "  \"\"\"\n",
    "  Este es un docstring.\n",
    "  \"\"\"\n",
    "  x=x+10\n",
    "  y=y+15\n",
    "  return x+y\n",
    "\n",
    " \n",
    "#programa principal\n",
    "x=int(input(\"Coordenada eje x: \"))\n",
    "y=int(input(\"Coordenada eje y: \"))\n",
    "for i in range(3):\n",
    "  z=coordenadaZ(x,y)\n",
    "  x=x+1\n",
    "  y=y+1\n",
    "print(x,\" . \",y)\n",
    "```\n",
    "\n",
    "**Ejercicio 1.6 - Corrección**\n",
    "\n",
    "```python\n",
    "# El siguiente programa debería imprimir el número 2 si se le ingresan como valores x=5, y=1 pero en su lugar imprime 5. ¿Qué hay que corregir?\n",
    "\n",
    "def maximo(a,b):\n",
    "  if x>y:\n",
    "    return x\n",
    "  else:\n",
    "    return y\n",
    "\n",
    " \n",
    "def minimo(a,b):\n",
    "  if x<y:\n",
    "    return x\n",
    "  else:\n",
    "    return y\n",
    "\n",
    "\n",
    "# Programa principal\n",
    "x=int(input(\"Un número: \"))\n",
    "y=int(input(\"Otro número: \"))\n",
    "print(maximo(x-3, minimo(x+2, y-5)))\n",
    "```\n",
    "\n",
    "**Ejercicio 1.7 - Ocurrencias**\n",
    "\n",
    "```python\n",
    "# Solicite al usuario un número entero y luego un único dígito.\n",
    "# Cree una función que informe la cantidad de ocurrencias del dígito en el número. Póngale al nombre de la función \"frecuencia\".\n",
    "\n",
    "# Por ejemplo: Si el número es 467807, y el dígito es 7, la función debería retornar el número 2.\n",
    "```\n",
    "\n",
    "**Ejercicio 1.8 - Muchos ciclos**\n",
    "\n",
    "```python\n",
    "\n",
    "# Observe con atención el siguiente código en Python, que contiene dos funciones: calcular_suma y calcular_suma_de_varios_numeros.\n",
    "\n",
    "def calcular_suma(n: int) -> int:\n",
    "    suma = 0\n",
    "    for i in range(1, n + 1):\n",
    "        suma += i\n",
    "    return suma\n",
    "\n",
    "def calcular_suma_de_varias_sumas_de_numeros(N: int) -> int:\n",
    "    suma = 0\n",
    "    for i in range(N):\n",
    "        suma += calcular_suma(i + 1)\n",
    "    \n",
    "    return suma\n",
    "\n",
    "\n",
    "# ¿Qué valor devuelve la función calcular_suma_de_varios_numeros(5)? No ejecute el código.\n",
    "# A) 35\n",
    "# B) 55\n",
    "# C) 5\n",
    "# D) 10\n",
    "\n",
    "# Justifique su respuesta explicando qué ocurre en cada iteración del ciclo y cómo se actualiza la variable suma.\n",
    "```\n",
    "\n",
    "---\n",
    "\n",
    "### 2️⃣ **Ejercicios: Pruebas de caja negra**\n",
    "\n",
    "**Ejercicio 2.1 - Probando el máximo**\n",
    "\n",
    "```python\n",
    "# Use la función que creó en el ejercicio 1.2 para hacer pruebas de caja negra.\n",
    "# Compruebe si su programa está comportándose bien en meses como febrero, que no tiene 30 días. Use la instrucción assert.\n",
    "```\n",
    "\n",
    "**Ejercicio 2.2: Pequeños errores**\n",
    "\n",
    "```python\n",
    "# Analice la siguiente función. Contiene un error lógico que solo se manifiesta en un caso particular.\n",
    "\n",
    "def validar_numero_positivo(numero):\n",
    "    \"\"\"\n",
    "    Verifica si un número es estrictamente mayor que cero.\n",
    "    \n",
    "    >>> validar_numero_positivo(5)\n",
    "    True\n",
    "    >>> validar_numero_positivo(-1)\n",
    "    False\n",
    "    \"\"\"\n",
    "    if numero >= 0:\n",
    "        return True\n",
    "    else:\n",
    "        return False\n",
    "\n",
    "# A continuación, se ejecutan las siguientes pruebas para la función.\n",
    "# Una de ellas fallará debido al error en el código.\n",
    "\n",
    "assert validar_numero_positivo(5) == True\n",
    "assert validar_numero_positivo(-3) == False\n",
    "assert validar_numero_positivo(100) == True\n",
    "assert validar_numero_positivo(0) == False\n",
    "\n",
    "print(\"Todas las pruebas han pasado.\")\n",
    "\n",
    "# 1.  **Ejecuta el código** para confirmar cuál de las pruebas falla.\n",
    "# 2.  **Identifica** la prueba `assert` que no se cumple.\n",
    "# 3.  **Explica** por qué esa prueba falla. ¿Cuál es el caso extremo que la función no maneja correctamente y cuál es el valor que debería retornar?\n",
    "# 4.  **Corrige la función** para que todas las pruebas pasen.\n",
    "```\n",
    "\n",
    "-----\n",
    "\n",
    "### 📋 **Instrucciones para resolver:**\n",
    "\n",
    "1.  Copia cada ejercicio en una nueva celda de código.\n",
    "2.  Resuelve paso a paso y comenta tu razonamiento.\n",
    "3.  Ejecuta para verificar tus respuestas.\n",
    "4.  Experimenta modificando los valores.\n",
    "5.  Pregunta si tienes dudas."
   ]
  }
 ],
 "metadata": {
  "language_info": {
   "name": "python"
  }
 },
 "nbformat": 4,
 "nbformat_minor": 5
}
