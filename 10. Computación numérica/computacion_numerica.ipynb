{
 "cells": [
  {
   "cell_type": "markdown",
   "id": "e3e1104f",
   "metadata": {},
   "source": [
    "# Principios de Informática: Computación Numérica 🔢\n",
    "### De los bucles lentos a las operaciones vectorizadas de alta velocidad\n",
    "\n",
    "**Curso:** Principios de Informática\n",
    "\n",
    "---\n",
    "## La Necesidad de la Velocidad 🚀\n",
    "\n",
    "En ingeniería y ciencia, a menudo trabajamos con grandes volúmenes de datos numéricos: lecturas de sensores, simulaciones, imágenes, etc. Procesar estos datos con bucles `for` tradicionales de Python puede ser **muy lento**.\n",
    "\n",
    "La computación numérica utiliza bibliotecas especializadas para realizar operaciones matemáticas sobre grandes conjuntos de datos de manera extremadamente rápida y eficiente. La biblioteca fundamental para esto en Python es **NumPy**.\n",
    "\n",
    "**NumPy (Numerical Python)** nos proporciona un nuevo tipo de estructura de datos llamado **arreglo (array)**, que es la base para casi toda la computación científica en Python.\n",
    "\n",
    "---\n",
    "## Arreglos de Una Dimensión (Vectores) 📏\n",
    "\n",
    "Un arreglo de una dimensión es similar a una lista, pero con dos diferencias clave:\n",
    "1.  Todos sus elementos deben ser del **mismo tipo** (generalmente números).\n",
    "2.  Son mucho más **rápidos** para operaciones matemáticas.\n",
    "\n",
    "---\n",
    "### Creación de Arreglos\n",
    "\n",
    "La forma más común de crear un arreglo es a partir de una lista de Python usando la función `numpy.array()`.\n",
    "\n",
    "---"
   ]
  },
  {
   "cell_type": "code",
   "execution_count": null,
   "id": "3033e999",
   "metadata": {},
   "outputs": [],
   "source": [
    "import numpy as np # Es una convención estándar importar numpy como 'np'\n",
    "\n",
    "# Creando un arreglo a partir de una lista\n",
    "lecturas_voltaje = [5.1, 5.0, 4.9, 5.2, 4.8]\n",
    "arreglo_voltajes = np.array(lecturas_voltaje)\n",
    "\n",
    "print(f\"Esto es una lista de Python: {lecturas_voltaje}\")\n",
    "print(f\"Esto es un arreglo de NumPy: {arreglo_voltajes}\")\n",
    "print(f\"Tipo de dato del arreglo: {arreglo_voltajes.dtype}\")"
   ]
  },
  {
   "cell_type": "markdown",
   "id": "1cc2c397",
   "metadata": {},
   "source": [
    "---\n",
    "### Indexación, Recorrido y Slicing\n",
    "\n",
    "Funciona de manera muy similar a las listas de Python.\n",
    "\n",
    "* **Indexación**: `arreglo[i]` para acceder al elemento en la posición `i`.\n",
    "* **Recorrido**: Se puede usar un bucle `for` para iterar sobre los elementos.\n",
    "* **Slicing**: `arreglo[inicio:fin]` para obtener una sub-sección del arreglo.\n",
    "\n",
    "---"
   ]
  },
  {
   "cell_type": "code",
   "execution_count": null,
   "id": "5c6db491",
   "metadata": {},
   "outputs": [],
   "source": [
    "import numpy as np\n",
    "\n",
    "datos_acelerometro = np.array([0.1, 0.5, 1.2, 1.8, 2.3, 2.5, 2.1])\n",
    "\n",
    "# Indexación\n",
    "print(f\"Primer dato: {datos_acelerometro[0]}\")\n",
    "print(f\"Último dato: {datos_acelerometro[-1]}\")\n",
    "\n",
    "# Recorrido\n",
    "print(\"Recorriendo los datos:\")\n",
    "for dato in datos_acelerometro:\n",
    "    print(f\"  - {dato}\")\n",
    "\n",
    "# Slicing\n",
    "print(f\"Primeros tres datos: {datos_acelerometro[0:3]}\")\n",
    "print(f\"Datos desde el índice 3 hasta el final: {datos_acelerometro[3:]}\")"
   ]
  },
  {
   "cell_type": "markdown",
   "id": "0de3e662",
   "metadata": {},
   "source": [
    "---\n",
    "## Arreglos de Múltiples Dimensiones (Matrices) ▦\n",
    "\n",
    "Podemos tener arreglos de dos, tres o más dimensiones. Un arreglo 2D es una **matriz**, que es fundamental en áreas como el álgebra lineal, el procesamiento de imágenes y las simulaciones.\n",
    "\n",
    "---\n",
    "### Creación, Indexación y Slicing de Matrices\n",
    "\n",
    "Se crean a partir de una lista de listas. Para acceder a los elementos, usamos dos índices: `matriz[fila, columna]`.\n",
    "\n",
    "---"
   ]
  },
  {
   "cell_type": "code",
   "execution_count": null,
   "id": "37d656cb",
   "metadata": {},
   "outputs": [],
   "source": [
    "import numpy as np\n",
    "\n",
    "# Creando una matriz 2x3 a partir de una lista de listas\n",
    "matriz_datos = np.array([[1, 2, 3],\n",
    "                         [4, 5, 6]])\n",
    "\n",
    "print(\"Matriz de datos:\")\n",
    "print(matriz_datos)\n",
    "\n",
    "# Forma de la matriz (filas, columnas)\n",
    "print(f\"Forma de la matriz: {matriz_datos.shape}\")\n",
    "\n",
    "# Indexación: acceder al elemento en la fila 1, columna 2 (el número 6)\n",
    "elemento = matriz_datos[1, 2]\n",
    "print(f\"Elemento en la fila 1, columna 2: {elemento}\")\n",
    "\n",
    "# Slicing: obtener la primera fila completa\n",
    "primera_fila = matriz_datos[0, :]\n",
    "print(f\"Primera fila: {primera_fila}\")\n",
    "\n",
    "# Slicing: obtener la segunda columna completa\n",
    "segunda_columna = matriz_datos[:, 1]\n",
    "print(f\"Segunda columna: {segunda_columna}\")"
   ]
  },
  {
   "cell_type": "markdown",
   "id": "11e72ce7",
   "metadata": {},
   "source": [
    "---\n",
    "## Operaciones Vectorizadas: La Magia de NumPy ✨\n",
    "\n",
    "La principal ventaja de NumPy es su capacidad para realizar **operaciones vectorizadas**. Esto significa que podemos aplicar una operación a un arreglo completo de una sola vez, sin necesidad de escribir un bucle `for`. NumPy ejecuta estas operaciones en código C o Fortran compilado, lo que es órdenes de magnitud más rápido.\n",
    "\n",
    "---\n",
    "### Operaciones Elemento a Elemento\n",
    "\n",
    "Podemos sumar, restar, multiplicar, etc., dos arreglos (si tienen la misma forma) o un arreglo y un escalar.\n",
    "\n",
    "---"
   ]
  },
  {
   "cell_type": "code",
   "execution_count": null,
   "id": "203c2e26",
   "metadata": {},
   "outputs": [],
   "source": [
    "import numpy as np\n",
    "\n",
    "# Operaciones con un escalar\n",
    "arr1 = np.array([10, 20, 30])\n",
    "print(f\"Arreglo original: {arr1}\")\n",
    "\n",
    "# Sumar 5 a cada elemento\n",
    "resultado_suma = np.add(arr1, 5)\n",
    "print(f\"Sumando 5: {resultado_suma}\")\n",
    "\n",
    "# Operaciones entre dos arreglos\n",
    "arr2 = np.array([2, 3, 4])\n",
    "print(f\"Segundo arreglo: {arr2}\")\n",
    "\n",
    "# Multiplicar elemento a elemento\n",
    "resultado_mult = np.multiply(arr1, arr2)\n",
    "print(f\"Multiplicación elemento a elemento: {resultado_mult}\")"
   ]
  },
  {
   "cell_type": "markdown",
   "id": "b96535ff",
   "metadata": {},
   "source": [
    "---\n",
    "### Funciones de Agregación\n",
    "\n",
    "Funciones que resumen los datos en un arreglo, como encontrar el promedio, el mínimo o el máximo.\n",
    "\n",
    "---"
   ]
  },
  {
   "cell_type": "code",
   "execution_count": null,
   "id": "5928472d",
   "metadata": {},
   "outputs": [],
   "source": [
    "import numpy as np\n",
    "\n",
    "datos_sensor = np.array([22.1, 22.5, 22.0, 23.1, 21.9, 22.3])\n",
    "\n",
    "# Suma de todos los elementos\n",
    "suma_total = np.sum(datos_sensor)\n",
    "print(f\"Suma de las lecturas: {suma_total:.2f}\")\n",
    "\n",
    "# Promedio\n",
    "promedio = np.mean(datos_sensor)\n",
    "print(f\"Promedio de las lecturas: {promedio:.2f}\")\n",
    "\n",
    "# Valor mínimo y máximo\n",
    "minimo = np.min(datos_sensor)\n",
    "maximo = np.max(datos_sensor)\n",
    "print(f\"Lectura mínima: {minimo}, Lectura máxima: {maximo}\")"
   ]
  },
  {
   "cell_type": "markdown",
   "id": "b6005f57",
   "metadata": {},
   "source": [
    "---\n",
    "### Operaciones sobre Filas y Columnas\n",
    "\n",
    "Para matrices, podemos aplicar funciones de agregación al arreglo completo, o solo a lo largo de las filas (`axis=1`) o de las columnas (`axis=0`).\n",
    "\n",
    "---"
   ]
  },
  {
   "cell_type": "code",
   "execution_count": null,
   "id": "55af9770",
   "metadata": {},
   "outputs": [],
   "source": [
    "import numpy as np\n",
    "\n",
    "ventas_trimestrales = np.array([[100, 120, 150],  # Producto A\n",
    "                                 [80,  90,  110]]) # Producto B\n",
    "\n",
    "# Suma total de todas las ventas\n",
    "total_ventas = np.sum(ventas_trimestrales)\n",
    "print(f\"Ventas totales: {total_ventas}\")\n",
    "\n",
    "# Suma por columna (ventas totales por mes)\n",
    "ventas_por_mes = np.sum(ventas_trimestrales, axis=0)\n",
    "print(f\"Ventas por mes: {ventas_por_mes}\")\n",
    "\n",
    "# Suma por fila (ventas totales por producto)\n",
    "ventas_por_producto = np.sum(ventas_trimestrales, axis=1)\n",
    "print(f\"Ventas por producto: {ventas_por_producto}\")"
   ]
  },
  {
   "cell_type": "markdown",
   "id": "c7ed7355",
   "metadata": {},
   "source": [
    "---\n",
    "### Álgebra Lineal: Operaciones con Matrices\n",
    "\n",
    "NumPy (y su compañera **SciPy**) son potencias para el álgebra lineal.\n",
    "\n",
    "* **Multiplicación de matrices**: Se usa `numpy.dot()` o el operador `@`.\n",
    "* **Transposición**: Intercambia filas por columnas.\n",
    "* **Diagonal**: Extrae los elementos de la diagonal principal.\n",
    "* **Inversa**: Para una matriz cuadrada, encuentra su matriz inversa (usualmente con `scipy.linalg.inv`).\n",
    "\n",
    "---"
   ]
  },
  {
   "cell_type": "code",
   "execution_count": null,
   "id": "81808380",
   "metadata": {},
   "outputs": [],
   "source": [
    "import numpy as np\n",
    "from scipy import linalg # SciPy es la biblioteca para computación científica, construida sobre NumPy\n",
    "\n",
    "A = np.array([[1, 2], [3, 4]])\n",
    "B = np.array([[5, 6], [7, 8]])\n",
    "\n",
    "# Multiplicación de matrices\n",
    "C = np.dot(A, B)\n",
    "print(\"Multiplicación de A y B:\")\n",
    "print(C)\n",
    "\n",
    "# Transposición de A\n",
    "A_t = np.transpose(A)\n",
    "print(\"Transpuesta de A:\")\n",
    "print(A_t)\n",
    "\n",
    "# Diagonal de C\n",
    "diag_C = np.diag(C)\n",
    "print(f\"Diagonal de C: {diag_C}\")\n",
    "\n",
    "# Inversa de A (usando SciPy)\n",
    "A_inv = linalg.inv(A)\n",
    "print(\"Inversa de A:\")\n",
    "print(A_inv)\n",
    "\n",
    "# Verificación: A * A_inv debería ser la matriz identidad\n",
    "print(\"Verificación A * A_inv:\")\n",
    "print(np.dot(A, A_inv))"
   ]
  },
  {
   "cell_type": "markdown",
   "id": "25527096",
   "metadata": {},
   "source": [
    "---\n",
    "## Broadcasting: El Poder de la Flexibilidad 📢\n",
    "\n",
    "El **broadcasting** describe cómo NumPy trata los arreglos con diferentes formas durante las operaciones aritméticas. Sujeto a ciertas restricciones, el arreglo más pequeño es \"transmitido\" (broadcast) a través del arreglo más grande para que tengan formas compatibles.\n",
    "\n",
    "Esto nos permite, por ejemplo, sumar un vector a cada fila de una matriz sin tener que crear copias del vector.\n",
    "\n",
    "---"
   ]
  },
  {
   "cell_type": "code",
   "execution_count": null,
   "id": "9bcc53c4",
   "metadata": {},
   "outputs": [],
   "source": [
    "import numpy as np\n",
    "\n",
    "# Matriz de datos de 3x3\n",
    "matriz = np.array([[1, 2, 3],\n",
    "                   [4, 5, 6],\n",
    "                   [7, 8, 9]])\n",
    "\n",
    "# Vector de 1x3 que queremos sumar a cada fila\n",
    "vector_suma = np.array([10, 20, 30])\n",
    "\n",
    "print(\"Matriz original:\")\n",
    "print(matriz)\n",
    "print(\"\\nVector a sumar:\")\n",
    "print(vector_suma)\n",
    "\n",
    "# Broadcasting en acción: NumPy \"estira\" o \"duplica\" virtualmente el vector_suma\n",
    "# para que coincida con la forma de la matriz, y luego realiza la suma.\n",
    "resultado = np.add(matriz, vector_suma)\n",
    "\n",
    "print(\"\\nResultado de la suma con broadcasting:\")\n",
    "print(resultado)"
   ]
  },
  {
   "cell_type": "markdown",
   "id": "3c4a31ea",
   "metadata": {},
   "source": [
    "---\n",
    "## ✏️ Ejercicios de Práctica\n",
    "\n",
    "---\n",
    "**1. Normalización de Datos**\n",
    "Dadas las lecturas de un sensor, normaliza los datos para que estén en el rango de 0 a 1. La fórmula es: `X_norm = (X - X_min) / (X_max - X_min)`.\n",
    "\n",
    "---"
   ]
  },
  {
   "cell_type": "code",
   "execution_count": null,
   "id": "586bb320",
   "metadata": {},
   "outputs": [],
   "source": [
    "import numpy as np\n",
    "\n",
    "datos = np.array([110, 115, 108, 120, 105, 112])\n",
    "\n",
    "# Tu código aquí\n",
    "minimo = np.min(datos)\n",
    "maximo = np.max(datos)\n",
    "\n",
    "datos_normalizados = np.divide(np.subtract(datos, minimo), np.subtract(maximo, minimo))\n",
    "\n",
    "print(f\"Datos originales: {datos}\")\n",
    "print(f\"Datos normalizados: {datos_normalizados}\")"
   ]
  },
  {
   "cell_type": "markdown",
   "id": "c2f440eb",
   "metadata": {},
   "source": [
    "---\n",
    "**2. Calificaciones Finales**\n",
    "Tienes una matriz donde las filas representan a los estudiantes y las columnas representan las calificaciones de 3 exámenes. Calcula el promedio final de cada estudiante.\n",
    "\n",
    "---"
   ]
  },
  {
   "cell_type": "code",
   "execution_count": null,
   "id": "5256fffb",
   "metadata": {},
   "outputs": [],
   "source": [
    "import numpy as np\n",
    "\n",
    "calificaciones = np.array([[8, 7, 9],   # Estudiante 1\n",
    "                           [10, 8, 9],  # Estudiante 2\n",
    "                           [7, 6, 8]]) # Estudiante 3\n",
    "\n",
    "# Tu código aquí (calcula el promedio por fila)\n",
    "promedios_finales = np.mean(calificaciones, axis=1)\n",
    "\n",
    "print(\"Calificaciones:\")\n",
    "print(calificaciones)\n",
    "print(f\"Promedios finales de los estudiantes: {promedios_finales}\")"
   ]
  },
  {
   "cell_type": "markdown",
   "id": "fbfd0178",
   "metadata": {},
   "source": [
    "---\n",
    "**3. Conversión de Moneda**\n",
    "Tienes un arreglo con precios en dólares. Usa broadcasting para convertirlos a tres monedas diferentes (Euros, Yenes, Libras) usando un vector de tasas de conversión.\n",
    "\n",
    "---"
   ]
  },
  {
   "cell_type": "code",
   "execution_count": null,
   "id": "4a87bf7d",
   "metadata": {},
   "outputs": [],
   "source": [
    "import numpy as np\n",
    "\n",
    "precios_usd = np.array([[10], [25], [50]]) # Precios en USD\n",
    "tasas_conversion = np.array([0.92, 148.5, 0.79]) # EUR, JPY, GBP\n",
    "\n",
    "# Tu código aquí (multiplica la matriz de precios por el vector de tasas)\n",
    "precios_convertidos = np.multiply(precios_usd, tasas_conversion)\n",
    "\n",
    "print(\"Precios convertidos (filas=producto, columnas=EUR, JPY, GBP):\")\n",
    "print(precios_convertidos)"
   ]
  },
  {
   "cell_type": "markdown",
   "id": "b9f60c18",
   "metadata": {},
   "source": [
    "---\n",
    "**4. Sistema de Ecuaciones Lineales**\n",
    "Resuelve el siguiente sistema de ecuaciones lineales usando la inversa de una matriz:\n",
    "  `2x + y = 8`\n",
    "  `x + 3y = 7`\n",
    "Esto se puede representar como `A * v = b`, donde `v` es el vector `[x, y]`. La solución es `v = A_inv * b`.\n",
    "\n",
    "---"
   ]
  },
  {
   "cell_type": "code",
   "execution_count": null,
   "id": "da180ffa",
   "metadata": {},
   "outputs": [],
   "source": [
    "import numpy as np\n",
    "from scipy import linalg\n",
    "\n",
    "# Matriz de coeficientes A\n",
    "A = np.array([[2, 1],\n",
    "              [1, 3]])\n",
    "\n",
    "# Vector de resultados b\n",
    "b = np.array([8, 7])\n",
    "\n",
    "# Tu código aquí: calcula la inversa de A y luego usa np.dot para encontrar la solución\n",
    "A_inv = linalg.inv(A)\n",
    "solucion = np.dot(A_inv, b)\n",
    "\n",
    "print(f\"La solución es x = {solucion[0]}, y = {solucion[1]}\")"
   ]
  },
  {
   "cell_type": "markdown",
   "id": "9230b571",
   "metadata": {},
   "source": [
    "---\n",
    "**5. Distancia Euclidiana**\n",
    "Crea una función que calcule la distancia euclidiana entre dos puntos (vectores) en un espacio n-dimensional. La fórmula es `sqrt(sum((p1 - p2)^2))`.\n",
    "\n",
    "---"
   ]
  },
  {
   "cell_type": "code",
   "execution_count": null,
   "id": "d2e6ea3f",
   "metadata": {},
   "outputs": [],
   "source": [
    "import numpy as np\n",
    "\n",
    "def distancia_euclidiana(p1: np.ndarray, p2: np.ndarray) -> float:\n",
    "    # Tu código aquí\n",
    "    diferencia_cuadrada = np.power(np.subtract(p1, p2), 2)\n",
    "    suma_cuadrados = np.sum(diferencia_cuadrada)\n",
    "    distancia = np.sqrt(suma_cuadrados)\n",
    "    return distancia\n",
    "\n",
    "# Prueba\n",
    "punto1 = np.array([1, 2, 3])\n",
    "punto2 = np.array([4, 6, 8])\n",
    "\n",
    "dist = distancia_euclidiana(punto1, punto2)\n",
    "print(f\"La distancia euclidiana entre {punto1} y {punto2} es: {dist:.2f}\")"
   ]
  }
 ],
 "metadata": {
  "language_info": {
   "name": "python"
  }
 },
 "nbformat": 4,
 "nbformat_minor": 5
}
