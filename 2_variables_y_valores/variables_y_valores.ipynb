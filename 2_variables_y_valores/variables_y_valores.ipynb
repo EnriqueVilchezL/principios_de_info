{
 "cells": [
  {
   "cell_type": "markdown",
   "id": "381dbeb8",
   "metadata": {},
   "source": [
    "# Principios de Informática: Tipos de Datos y Variables en Python 🧮\n",
    "### Componentes fundamentales de todo programa\n",
    "\n",
    "**Curso:** Principios de Informática\n",
    "\n",
    "---\n",
    "\n",
    "## 🗺️ Objetivos y contenidos\n",
    "\n",
    "Este notebook presenta de forma estructurada los conceptos esenciales de los tipos de datos y el manejo de variables en Python. El propósito es reconocer, utilizar y transformar los tipos de datos más comunes, crear variables con criterios correctos y evitar errores frecuentes.\n",
    "\n",
    "> Comprender los tipos de datos es un requisito básico para diseñar programas correctos y eficientes.\n",
    "\n",
    "**Importancia:**\n",
    "- Los tipos de datos y las variables constituyen la base de cualquier programa.\n",
    "- Un uso adecuado mejora la claridad, seguridad y eficiencia del código.\n",
    "- Su dominio permite resolver problemas en contextos reales (cálculo científico, aplicaciones, etc.).\n",
    "\n",
    "**Contenidos:**\n",
    "1. Tipos de datos fundamentales: enteros, flotantes, booleanos, cadenas de caracteres\n",
    "2. Variables: nomenclatura, inicialización, asignación\n",
    "3. Conversión de tipos\n",
    "4. Mutabilidad e inmutabilidad"
   ]
  },
  {
   "cell_type": "markdown",
   "id": "eff559f5",
   "metadata": {},
   "source": [
    "---\n",
    "\n",
    "## 1. Tipos de datos fundamentales\n",
    "\n",
    "---\n",
    "\n",
    "Los tipos de datos son las unidades básicas de representación de información en un programa. La selección adecuada permite modelar con precisión y operar de manera eficiente.\n",
    "\n",
    "> Cada tipo de dato responde a un propósito específico dentro del programa.\n",
    "\n",
    "En Python, los más utilizados son:\n",
    "\n",
    "- **Enteros (`int`)**: Números sin parte decimal. Apropiados para conteos exactos (personas, páginas, piezas).\n",
    "- **Flotantes (`float`)**: Números con parte decimal. Adecuados para mediciones (altura, peso, temperatura).\n",
    "- **Booleanos (`bool`)**: Valores lógicos con dos estados posibles: `True` o `False`.\n",
    "- **Cadenas de caracteres (`str`)**: Texto (nombres, mensajes, identificadores, etc.).\n",
    "\n",
    "A continuación se presentan definiciones y ejemplos de uso de cada tipo.\n",
    "\n",
    "---"
   ]
  },
  {
   "cell_type": "markdown",
   "id": "bf2e0e88",
   "metadata": {},
   "source": [
    "### 🔢 Enteros (`int`)\n",
    "\n",
    "Los **enteros** representan números sin parte decimal. Son idóneos para conteos, índices y cantidades discretas.\n",
    "\n",
    "#### Características principales:\n",
    "- Sin decimales (ej.: 3, -7, 0)\n",
    "- Positivos, negativos o cero\n",
    "- Adecuados para conteos exactos y numeraciones\n",
    "- En Python 3, el tamaño está limitado por la memoria disponible\n",
    "\n",
    "#### Ejemplos de uso:\n",
    "- Número de estudiantes en una clase\n",
    "- Páginas de un libro\n",
    "- Cantidad de elementos en un inventario\n",
    "- Año en curso\n",
    "\n",
    "#### Ejemplo en Python:\n",
    "```python\n",
    "edad = 20\n",
    "cantidad = 5\n",
    "temperatura_baja = -3\n",
    "anio_actual = 2025\n",
    "```\n",
    "\n",
    "---"
   ]
  },
  {
   "cell_type": "code",
   "execution_count": null,
   "id": "f3070510",
   "metadata": {},
   "outputs": [],
   "source": [
    "# Ejemplo de declaración de variables enteras\n",
    "revoluciones_motor = 5000\n",
    "poblacion_bacterias = 1_000_000_000  # Guiones bajos opcionales para legibilidad\n",
    "numero_negativo = -42\n",
    "cero = 0\n",
    "print(f\"Revoluciones del motor: {revoluciones_motor}\")"
   ]
  },
  {
   "cell_type": "code",
   "execution_count": null,
   "id": "ee9bd6dc",
   "metadata": {},
   "outputs": [],
   "source": [
    "# Imprimir otros ejemplos de enteros\n",
    "print(f\"Población de bacterias: {poblacion_bacterias}\")\n",
    "print(f\"Número negativo: {numero_negativo}\")\n",
    "print(f\"Cero: {cero}\")"
   ]
  },
  {
   "cell_type": "code",
   "execution_count": null,
   "id": "27aaf095",
   "metadata": {},
   "outputs": [],
   "source": [
    "# Verificar el tipo de las variables enteras\n",
    "print(f\"Tipo de revoluciones_motor: {type(revoluciones_motor)}\")\n",
    "print(f\"Tipo de poblacion_bacterias: {type(poblacion_bacterias)}\")"
   ]
  },
  {
   "cell_type": "markdown",
   "id": "07b20485",
   "metadata": {},
   "source": [
    "**🧪 Ejercicio: Uso de enteros**\n",
    "\n",
    "Modificar los valores de las variables enteras, ejecutar el código y analizar los resultados obtenidos."
   ]
  },
  {
   "cell_type": "code",
   "execution_count": null,
   "id": "233cc26f",
   "metadata": {},
   "outputs": [],
   "source": [
    "pulsos_por_segundo = 1000\n",
    "tiempo_segundos = 30\n",
    "\n",
    "# Cálculos automáticos\n",
    "total_pulsos = pulsos_por_segundo * tiempo_segundos\n",
    "pulsos_por_minuto = pulsos_por_segundo * 60\n",
    "\n",
    "print(f\"⚡ Análisis de Pulsos del Sensor\")\n",
    "print(f\"Pulsos por segundo: {pulsos_por_segundo}\")\n",
    "print(f\"Tiempo de medición: {tiempo_segundos} segundos\")\n",
    "print(f\"Total de pulsos detectados: {total_pulsos}\")\n",
    "print(f\"Frecuencia por minuto: {pulsos_por_minuto} pulsos/min\")\n",
    "\n",
    "# Verifica que son enteros\n",
    "print(f\"\\n🔍 Verificación de tipos:\")\n",
    "for var_name, var_value in [(\"pulsos_por_segundo\", pulsos_por_segundo), \n",
    "                           (\"total_pulsos\", total_pulsos)]:\n",
    "    print(f\"{var_name}: {type(var_value).__name__}\")"
   ]
  },
  {
   "cell_type": "markdown",
   "id": "9fa699d7",
   "metadata": {},
   "source": [
    "### 🌊 Flotantes (`float`)\n",
    "\n",
    "Los **flotantes** representan números reales con parte decimal. Se emplean en mediciones y cantidades fraccionarias.\n",
    "\n",
    "#### Características principales:\n",
    "- Incluyen parte decimal (ej.: 3.14, -0.5, 0.0)\n",
    "- Precisión aproximada (alrededor de 15–17 dígitos significativos)\n",
    "- Permiten notación científica (ej.: 1.5e-10)\n",
    "- Apropiados para magnitudes continuas (distancias, temperaturas)\n",
    "\n",
    "#### Ejemplos de uso:\n",
    "- Altura de una persona (1.75 m)\n",
    "- Temperatura ambiente (23.6 °C)\n",
    "- Peso de un objeto (0.150 kg)\n",
    "- Distancias astronómicas (1.496e+8 km)\n",
    "\n",
    "#### Ejemplo en Python:\n",
    "```python\n",
    "altura = 1.75\n",
    "pi = 3.14159\n",
    "temperatura = 36.5\n",
    "peso = 0.150\n",
    "```\n",
    "\n",
    "---"
   ]
  },
  {
   "cell_type": "code",
   "execution_count": null,
   "id": "da0160e6",
   "metadata": {},
   "outputs": [],
   "source": [
    "# Experimentando con flotantes\n",
    "voltaje = 4.95\n",
    "temperatura = 23.7\n",
    "pi_aproximado = 3.14159\n",
    "constante_planck = 6.626e-34  # Notación científica\n",
    "print(f\"Voltaje del sensor: {voltaje} V\")"
   ]
  },
  {
   "cell_type": "code",
   "execution_count": null,
   "id": "c9f34b0c",
   "metadata": {},
   "outputs": [],
   "source": [
    "# Imprimir otros ejemplos de flotantes\n",
    "print(f\"Temperatura ambiente: {temperatura} °C\")\n",
    "print(f\"Pi aproximado: {pi_aproximado}\")\n",
    "print(f\"Constante de Planck: {constante_planck} J⋅s\")"
   ]
  },
  {
   "cell_type": "code",
   "execution_count": null,
   "id": "81e8cc9c",
   "metadata": {},
   "outputs": [],
   "source": [
    "# Verificar tipos de variables flotantes\n",
    "print(f\"Tipo de voltaje: {type(voltaje)}\")\n",
    "print(f\"Tipo de constante_planck: {type(constante_planck)}\")"
   ]
  },
  {
   "cell_type": "code",
   "execution_count": null,
   "id": "15f90a8d",
   "metadata": {},
   "outputs": [],
   "source": [
    "# Demostración de precisión de flotantes\n",
    "print(f\"0.1 + 0.2 = {0.1 + 0.2}\")  # Nota: resultado no exacto por representación binaria\n",
    "print(f\"¿Es 0.1 + 0.2 == 0.3? {0.1 + 0.2 == 0.3}\")\n",
    "print(\"💡 Este comportamiento ilustra las limitaciones de precisión de los flotantes.\")"
   ]
  },
  {
   "cell_type": "markdown",
   "id": "b0b42a4d",
   "metadata": {},
   "source": [
    "### ✅❌ Booleanos (`bool`)\n",
    "\n",
    "Los **booleanos** representan valores lógicos con dos estados posibles: `True` (verdadero) y `False` (falso). Constituyen la base para expresar condiciones y estados binarios.\n",
    "\n",
    "#### Características principales:\n",
    "- Dos valores posibles: `True` y `False`\n",
    "- Representan estados o resultados de comparaciones\n",
    "- Útiles para indicar activación/inactivación, aprobación/denegación, etc.\n",
    "- En Python, `True` se asocia a 1 y `False` a 0, aunque su uso es eminentemente lógico\n",
    "\n",
    "#### Ejemplos de uso:\n",
    "- Estado de un dispositivo (encendido/apagado)\n",
    "- Confirmación de acciones (aceptado/rechazado)\n",
    "- Resultado de comparaciones (mayor/igual/menor)\n",
    "\n",
    "#### Ejemplo en Python:\n",
    "```python\n",
    "es_mayor_edad = True\n",
    "llueve = False\n",
    "tiene_licencia = True\n",
    "```\n",
    "\n",
    "---"
   ]
  },
  {
   "cell_type": "code",
   "execution_count": null,
   "id": "2004770e",
   "metadata": {},
   "outputs": [],
   "source": [
    "# Experimentando con booleanos\n",
    "verdadero = True\n",
    "falso = False\n",
    "print(f\"Valor verdadero: {verdadero}\")"
   ]
  },
  {
   "cell_type": "code",
   "execution_count": null,
   "id": "f4f56ee0",
   "metadata": {},
   "outputs": [],
   "source": [
    "# Imprimir otros valores booleanos\n",
    "print(f\"Valor falso: {falso}\")\n",
    "print(f\"Tipo de verdadero: {type(verdadero)}\")"
   ]
  },
  {
   "cell_type": "code",
   "execution_count": null,
   "id": "9c579630",
   "metadata": {},
   "outputs": [],
   "source": [
    "# Booleanos como números\n",
    "print(f\"True como número: {True + 0}\")\n",
    "print(f\"False como número: {False + 0}\")\n",
    "print(f\"Suma True + True: {True + True}\")"
   ]
  },
  {
   "cell_type": "code",
   "execution_count": null,
   "id": "a60b6e38",
   "metadata": {},
   "outputs": [],
   "source": [
    "# Comparaciones que generan booleanos\n",
    "temperatura_actual = 95.5\n",
    "temperatura_maxima = 90.0\n",
    "print(f\"Temperatura actual: {temperatura_actual}°C\")\n",
    "print(f\"Temperatura máxima: {temperatura_maxima}°C\")"
   ]
  },
  {
   "cell_type": "markdown",
   "id": "ad372700",
   "metadata": {},
   "source": [
    "### 📝 Cadenas (`str`)\n",
    "\n",
    "Las **cadenas** son secuencias ordenadas e inmutables de caracteres. Se emplean para representar texto.\n",
    "\n",
    "#### Características principales:\n",
    "- Secuencias de caracteres Unicode (compatibles con tildes, emojis, etc.)\n",
    "- Inmutables: su contenido no se modifica después de su creación\n",
    "- Se definen con comillas simples `'...'`, dobles `\"...\"` o triples `'''...'''`\n",
    "- Un carácter individual corresponde a una cadena de longitud 1\n",
    "\n",
    "#### Ejemplos de uso:\n",
    "- Nombres propios\n",
    "- Mensajes en interfaces de usuario\n",
    "- Códigos e identificadores\n",
    "- Contenido de comunicaciones\n",
    "\n",
    "#### Ejemplo en Python:\n",
    "```python\n",
    "letra = 'A'\n",
    "nombre = \"Ana\"\n",
    "mensaje = \"Hola, mundo\"\n",
    "frase = \"La programación es una disciplina rigurosa\"\n",
    "```\n",
    "\n",
    "---"
   ]
  },
  {
   "cell_type": "code",
   "execution_count": null,
   "id": "b61a4c6f",
   "metadata": {},
   "outputs": [],
   "source": [
    "# Experimentando con cadenas\n",
    "nombre_sensor = \"Sensor de Temperatura DHT22\"\n",
    "id_componente = 'X-48-AB-v2'\n",
    "letra = 'A'  # Un carácter es una cadena de longitud 1\n",
    "cadena_vacia = \"\"\n",
    "print(f\"Nombre del sensor: {nombre_sensor}\")"
   ]
  },
  {
   "cell_type": "code",
   "execution_count": null,
   "id": "281a1253",
   "metadata": {},
   "outputs": [],
   "source": [
    "# Imprimir otros ejemplos de cadenas\n",
    "print(f\"ID del componente: {id_componente}\")\n",
    "print(f\"Una letra: {letra}\")\n",
    "print(f\"Cadena vacía: '{cadena_vacia}'\")"
   ]
  },
  {
   "cell_type": "code",
   "execution_count": null,
   "id": "e3f20626",
   "metadata": {},
   "outputs": [],
   "source": [
    "# Verificar tipos y longitudes de cadenas\n",
    "print(f\"Tipo de nombre_sensor: {type(nombre_sensor)}\")\n",
    "print(f\"Longitud del nombre: {len(nombre_sensor)} caracteres\")\n",
    "print(f\"Longitud de una letra: {len(letra)} caracteres\")"
   ]
  },
  {
   "cell_type": "code",
   "execution_count": null,
   "id": "fe0bc459",
   "metadata": {},
   "outputs": [],
   "source": [
    "# Operaciones con cadenas\n",
    "print(f\"Concatenación: {id_componente + '-' + letra}\")\n",
    "print(f\"Repetición: {letra * 5}\")\n",
    "print(f\"Mayúsculas: {nombre_sensor.upper()}\")\n",
    "print(f\"Minúsculas: {id_componente.lower()}\")"
   ]
  },
  {
   "cell_type": "code",
   "execution_count": null,
   "id": "bad46e71",
   "metadata": {},
   "outputs": [],
   "source": [
    "# Indexación y slicing de cadenas\n",
    "print(f\"Primer carácter: '{nombre_sensor[0]}'\")\n",
    "print(f\"Último carácter: '{nombre_sensor[-1]}'\")\n",
    "print(f\"Primeras 6 letras: '{nombre_sensor[:6]}'\")\n",
    "print(f\"Palabra 'Sensor': '{nombre_sensor[0:6]}'\")"
   ]
  },
  {
   "cell_type": "code",
   "execution_count": null,
   "id": "e0ac479c",
   "metadata": {},
   "outputs": [],
   "source": [
    "# Métodos útiles para ingeniería con cadenas\n",
    "codigo_sensor = \"TEMP_01_ACTIVO\"\n",
    "print(f\"Código original: {codigo_sensor}\")\n",
    "print(f\"¿Contiene 'TEMP'? {codigo_sensor.startswith('TEMP')}\")\n",
    "print(f\"¿Está activo? {codigo_sensor.endswith('ACTIVO')}\")\n",
    "print(f\"Separar por '_': {codigo_sensor.split('_')}\")"
   ]
  },
  {
   "cell_type": "markdown",
   "id": "c45909f1",
   "metadata": {},
   "source": [
    "---\n",
    "\n",
    "## 2. Variables: nomenclatura, inicialización, asignación\n",
    "\n",
    "---\n",
    "\n",
    "Las **variables** almacenan referencias a valores en memoria. Funcionan como identificadores que permiten acceder y manipular dichos valores de manera controlada.\n",
    "\n",
    "A continuación se presentan reglas de nomenclatura y operaciones básicas de inicialización, asignación y reasignación."
   ]
  },
  {
   "cell_type": "markdown",
   "id": "20767043",
   "metadata": {},
   "source": [
    "### Nomenclatura de variables\n",
    "En Python, los nombres de variables deben cumplir:\n",
    "- Iniciar con una letra o guión bajo (`_`).\n",
    "- Contener letras, números y guión bajo (sin espacios ni tildes).\n",
    "- Respetar mayúsculas/minúsculas (`edad` ≠ `Edad`).\n",
    "- No coincidir con palabras reservadas (`if`, `for`, `class`, etc.).\n",
    "\n",
    "Ejemplos válidos e inválidos:"
   ]
  },
  {
   "cell_type": "code",
   "execution_count": null,
   "id": "33736fc7",
   "metadata": {},
   "outputs": [],
   "source": [
    "# Nombres válidos\n",
    "nombre = 'Ana'\n",
    "edad_usuario = 25\n",
    "_saldo_cuenta = 100.0\n",
    "temperatura_ambiente = 22.5\n",
    "\n",
    "# Nombres inválidos (generarían error si se descomentan)\n",
    "# 2nombres = 'Juan'   # No puede iniciar con número\n",
    "# mi-variable = 10    # No puede contener guiones\n",
    "# class = 5           # No puede ser palabra reservada"
   ]
  },
  {
   "cell_type": "markdown",
   "id": "531b4a6f",
   "metadata": {},
   "source": [
    "### Inicialización de variables\n",
    "La inicialización consiste en asignar un valor por primera vez a una variable, creando su referencia en memoria."
   ]
  },
  {
   "cell_type": "code",
   "execution_count": null,
   "id": "102b22c4",
   "metadata": {},
   "outputs": [],
   "source": [
    "contador = 0  # Inicialización: se crea la variable y se le da un valor inicial"
   ]
  },
  {
   "cell_type": "markdown",
   "id": "91e2084e",
   "metadata": {},
   "source": [
    "### Asignación de variables\n",
    "La asignación establece o actualiza el valor asociado a una variable mediante el operador `=`."
   ]
  },
  {
   "cell_type": "code",
   "execution_count": null,
   "id": "8d853fe1",
   "metadata": {},
   "outputs": [],
   "source": [
    "contador = 5  # Asignación: se cambia el valor de la variable"
   ]
  },
  {
   "cell_type": "markdown",
   "id": "dc5a4273",
   "metadata": {},
   "source": [
    "### Reasignación de variables\n",
    "La reasignación modifica el valor previamente asociado a una variable. La identidad del nombre se mantiene; el contenido referenciado puede cambiar."
   ]
  },
  {
   "cell_type": "code",
   "execution_count": null,
   "id": "4cd8cd36",
   "metadata": {},
   "outputs": [],
   "source": [
    "contador = 10  # Reasignación: se vuelve a cambiar el valor"
   ]
  },
  {
   "cell_type": "markdown",
   "id": "8b67806d",
   "metadata": {},
   "source": [
    "### 💻 Ejercicio: Intercambio de valores entre sensores\n",
    "\n",
    "Contexto: En un sistema de control industrial, se dispone de dos sensores:\n",
    "- `sensor_temperatura`: mide la temperatura del sistema.\n",
    "- `sensor_presion`: mide la presión del sistema.\n",
    "\n",
    "```python\n",
    "sensor_temperatura = 23\n",
    "sensor_presion = 39\n",
    "```\n",
    "\n",
    "Debido a un error de cableado, las lecturas están intercambiadas. Realice el intercambio correcto de valores entre las variables.\n",
    "\n",
    "Condición: No introducir valores literales. Utilizar únicamente asignaciones (y variables auxiliares si es necesario).\n",
    "\n",
    "---"
   ]
  },
  {
   "cell_type": "code",
   "execution_count": null,
   "id": "b55804b7",
   "metadata": {},
   "outputs": [],
   "source": [
    "sensor_temperatura = 23\n",
    "sensor_presion = 39\n",
    "\n",
    "print(f\"Temperatura del sensor: {sensor_temperatura} °C\")\n",
    "print(f\"Presión del sensor: {sensor_presion} hPa\")\n",
    "\n",
    "# Intercambio\n",
    "variable_temporal = sensor_temperatura\n",
    "sensor_temperatura = sensor_presion\n",
    "sensor_presion = variable_temporal\n",
    "\n",
    "print(f\"Temperatura del sensor después del intercambio: {sensor_temperatura} °C\")\n",
    "print(f\"Presión del sensor después del intercambio: {sensor_presion} hPa\")"
   ]
  },
  {
   "cell_type": "markdown",
   "id": "ea95df78",
   "metadata": {},
   "source": [
    "### 🔍 Verificación de tipos (type checking)\n",
    "\n",
    "Es fundamental conocer el tipo de dato que se manipula para depurar, validar y documentar el código.\n",
    "\n",
    "#### Objetivos\n",
    "- Depuración: detectar errores relacionados con tipos\n",
    "- Validación: comprobar que los datos cumplen el tipo esperado\n",
    "- Documentación: facilitar la comprensión del código\n",
    "- Robustez: prevenir fallos en tiempo de ejecución\n",
    "\n",
    "#### Herramientas\n",
    "- `type()`: retorna el tipo del objeto\n",
    "- `isinstance()`: verifica pertenencia a un tipo/clase\n",
    "- `dir()`: lista métodos y atributos disponibles\n",
    "\n",
    "---"
   ]
  },
  {
   "cell_type": "code",
   "execution_count": null,
   "id": "331a428b",
   "metadata": {},
   "outputs": [],
   "source": [
    "# EXPLORACIÓN DE TIPOS DE DATOS\n",
    "# Creamos variables de diferentes tipos\n",
    "nombre = \"Ana\"              # string (cadena de caracteres)\n",
    "edad = 20                   # int (entero)\n",
    "altura = 1.65               # float (flotante)\n",
    "es_estudiante = True        # bool (booleano)\n",
    "print(f\"Nombre: {nombre}\")\n",
    "print(f\"Tipo de nombre: {type(nombre)}\")"
   ]
  },
  {
   "cell_type": "code",
   "execution_count": null,
   "id": "2c638911",
   "metadata": {},
   "outputs": [],
   "source": [
    "# Imprimir edad y su tipo\n",
    "print(f\"Edad: {edad}\")\n",
    "print(f\"Tipo de edad: {type(edad)}\")"
   ]
  },
  {
   "cell_type": "code",
   "execution_count": null,
   "id": "56e85887",
   "metadata": {},
   "outputs": [],
   "source": [
    "# Imprimir altura y su tipo\n",
    "print(f\"Altura: {altura}\")\n",
    "print(f\"Tipo de altura: {type(altura)}\")"
   ]
  },
  {
   "cell_type": "code",
   "execution_count": null,
   "id": "b35831bc",
   "metadata": {},
   "outputs": [],
   "source": [
    "# Imprimir si es estudiante y su tipo\n",
    "print(f\"Es estudiante: {es_estudiante}\")\n",
    "print(f\"Tipo de es_estudiante: {type(es_estudiante)}\")"
   ]
  },
  {
   "cell_type": "code",
   "execution_count": null,
   "id": "d193e9e9",
   "metadata": {},
   "outputs": [],
   "source": [
    "# Verificaciones simples con type()\n",
    "print(f\"¿La edad es un entero? {type(edad) == int}\")\n",
    "print(f\"¿El nombre es una cadena? {type(nombre) == str}\")\n",
    "print(f\"¿La altura es un flotante? {type(altura) == float}\")\n",
    "print(f\"¿es_estudiante es booleano? {type(es_estudiante) == bool}\")"
   ]
  },
  {
   "cell_type": "markdown",
   "id": "1f06feae",
   "metadata": {},
   "source": [
    "---\n",
    "\n",
    "## 3. Conversión de tipos\n",
    "\n",
    "---\n",
    "\n",
    "En numerosas situaciones es necesario transformar datos entre tipos para realizar operaciones o presentar resultados correctamente.\n",
    "\n",
    "### Motivación\n",
    "- Convertir texto a números para cálculos\n",
    "- Formatear números como texto para salida\n",
    "- Validar y limpiar datos de entrada\n",
    "\n",
    "#### Funciones principales\n",
    "- `int()`: convierte a entero\n",
    "- `float()`: convierte a flotante\n",
    "- `str()`: convierte a cadena\n",
    "- `bool()`: convierte a booleano\n",
    "\n",
    "#### Ejemplo en Python\n",
    "```python\n",
    "edad_texto = \"25\"\n",
    "edad = int(edad_texto)\n",
    "altura_texto = \"1.75\"\n",
    "altura = float(altura_texto)\n",
    "nombre = str(12345)\n",
    "activo = bool(\"algo\")\n",
    "```\n",
    "\n",
    "Nota: La conversión requiere compatibilidad entre el valor origen y el tipo destino; de lo contrario, se produce un error.\n",
    "\n",
    "El proceso de conversión de un tipo a otro se denomina casting.\n",
    "\n",
    "---"
   ]
  },
  {
   "cell_type": "code",
   "execution_count": null,
   "id": "3ab8250d",
   "metadata": {},
   "outputs": [],
   "source": [
    "# CONVERSIÓN DE TIPOS\n",
    "# Datos de ejemplo\n",
    "numero_como_texto = \"25\"        # String que representa un entero\n",
    "decimal_como_texto = \"3.14\"     # String que representa un flotante\n",
    "numero_entero = 42              # Entero que queremos como string\n",
    "numero_decimal = 2.71           # Flotante que queremos como entero\n",
    "\n",
    "print(\"DATOS ORIGINALES:\")\n",
    "print(f\"numero_como_texto: '{numero_como_texto}' (tipo: {type(numero_como_texto).__name__})\")\n",
    "print(f\"decimal_como_texto: '{decimal_como_texto}' (tipo: {type(decimal_como_texto).__name__})\")\n",
    "print(f\"numero_entero: {numero_entero} (tipo: {type(numero_entero).__name__})\")\n",
    "print(f\"numero_decimal: {numero_decimal} (tipo: {type(numero_decimal).__name__})\")"
   ]
  },
  {
   "cell_type": "code",
   "execution_count": null,
   "id": "8c0d7298",
   "metadata": {},
   "outputs": [],
   "source": [
    "# String a número\n",
    "numero = int(numero_como_texto)\n",
    "print(f\"String a int: '{numero_como_texto}' → {numero}\")\n",
    "decimal = float(decimal_como_texto)\n",
    "print(f\"String a float: '{decimal_como_texto}' → {decimal}\")"
   ]
  },
  {
   "cell_type": "code",
   "execution_count": null,
   "id": "b712b8e5",
   "metadata": {},
   "outputs": [],
   "source": [
    "# Número a string y float a int\n",
    "texto = str(numero_entero)\n",
    "print(f\"Int a string: {numero_entero} → '{texto}'\")\n",
    "entero = int(numero_decimal)\n",
    "print(f\"Float a int: {numero_decimal} → {entero}\")"
   ]
  },
  {
   "cell_type": "code",
   "execution_count": null,
   "id": "d4d071c3",
   "metadata": {},
   "outputs": [],
   "source": [
    "# Conversiones a booleano\n",
    "print(f\"bool(1): {bool(1)}\")\n",
    "print(f\"bool(0): {bool(0)}\")\n",
    "print(f\"bool('hola'): {bool('hola')}\")\n",
    "print(f\"bool(''): {bool('')}\")"
   ]
  },
  {
   "cell_type": "code",
   "execution_count": null,
   "id": "f0c64259",
   "metadata": {},
   "outputs": [],
   "source": [
    "# ⚠️ Conversiones que pueden dar error\n",
    "numero_malo = int(\"hola\")"
   ]
  },
  {
   "cell_type": "code",
   "execution_count": null,
   "id": "353e2bd8",
   "metadata": {},
   "outputs": [],
   "source": [
    "# ⚠️ Conversiones que pueden dar error\n",
    "decimal_malo = float(\"abc\")"
   ]
  },
  {
   "cell_type": "markdown",
   "id": "5726f549",
   "metadata": {},
   "source": [
    "---\n",
    "\n",
    "## 4. Mutabilidad e inmutabilidad\n",
    "\n",
    "---\n",
    "\n",
    "En Python, algunos tipos permiten modificar su contenido después de creados (**mutables**) y otros no (**inmutables**). Este comportamiento afecta la gestión de memoria y la forma en que se comparten referencias entre variables.\n",
    "\n",
    "### Definiciones\n",
    "- **Mutables:** su contenido puede modificarse sin cambiar la identidad del objeto (ej.: `list`, `dict`, `set`).\n",
    "- **Inmutables:** su contenido no puede alterarse; toda modificación genera un objeto nuevo (ej.: `int`, `float`, `bool`, `str`).\n",
    "\n",
    "#### Tipos inmutables\n",
    "- `int`, `float`, `bool`, `str`\n",
    "\n",
    "#### Tipos mutables\n",
    "- `list`, `dict`, `set`\n",
    "\n",
    "#### Ejemplos\n",
    "```python\n",
    "# Inmutabilidad\n",
    "a = 5\n",
    "a = 6  # se crea un nuevo objeto\n",
    "\n",
    "# Mutabilidad\n",
    "lista = [1, 2, 3]\n",
    "lista.append(4)  # se modifica el mismo objeto\n",
    "```\n",
    "\n",
    "Importancia: Al compartir objetos mutables entre variables, los cambios se reflejan en todas las referencias. Con objetos inmutables, cada reasignación crea una nueva referencia.\n",
    "\n",
    "---"
   ]
  },
  {
   "cell_type": "code",
   "execution_count": null,
   "id": "ec7bdcaf",
   "metadata": {},
   "outputs": [],
   "source": [
    "# DEMOSTRACIÓN BÁSICA DE MUTABILIDAD\n",
    "# Ejemplo con tipos INMUTABLES (números y strings)\n",
    "numero = 42\n",
    "print(f\"Número original: {numero}\")\n",
    "numero = numero + 1\n",
    "print(f\"Número después de +1: {numero}\")\n",
    "print(\"💡 Nota: Se crea un nuevo número; el original no cambia.\")"
   ]
  },
  {
   "cell_type": "code",
   "execution_count": null,
   "id": "865c7570",
   "metadata": {},
   "outputs": [],
   "source": [
    "# Strings también son inmutables\n",
    "texto = \"Hola\"\n",
    "print(f\"Texto original: '{texto}'\")\n",
    "texto = texto + \" mundo\"\n",
    "print(f\"Texto después de concatenar: '{texto}'\")\n",
    "print(\"💡 Nota: Se crea un nuevo string; el original no cambia.\")"
   ]
  },
  {
   "cell_type": "code",
   "execution_count": null,
   "id": "64926f76",
   "metadata": {},
   "outputs": [],
   "source": [
    "# Ejemplo con listas (MUTABLES)\n",
    "lista_numeros = [1, 2, 3]\n",
    "print(f\"Lista original: {lista_numeros}\")\n",
    "lista_numeros.append(4)\n",
    "print(f\"Lista después de agregar 4: {lista_numeros}\")\n",
    "print(\"💡 Nota: Se modifica el mismo objeto (lista).\")"
   ]
  },
  {
   "cell_type": "code",
   "execution_count": null,
   "id": "72376205",
   "metadata": {},
   "outputs": [],
   "source": [
    "# Demostración con variables que apuntan a la misma lista\n",
    "lista_a = [1, 2, 3]\n",
    "lista_b = lista_a  # Ambas variables referencian la misma lista\n",
    "print(f\"lista_a: {lista_a}\")\n",
    "print(f\"lista_b: {lista_b}\")\n",
    "lista_b.append(4)\n",
    "print(\"Después de lista_b.append(4):\")\n",
    "print(f\"lista_a: {lista_a}\")  # También cambia\n",
    "print(f\"lista_b: {lista_b}\")\n",
    "print(\"💡 Nota: Al compartir referencias a objetos mutables, los cambios se reflejan en todas las variables.\")"
   ]
  },
  {
   "cell_type": "code",
   "execution_count": null,
   "id": "999ae9c4",
   "metadata": {},
   "outputs": [],
   "source": [
    "# Resumen de mutabilidad\n",
    "print(\"• int, float, bool, str → INMUTABLES\")\n",
    "print(\"• list, dict → MUTABLES\")\n",
    "print(\"• Atención: al compartir listas entre variables, los cambios afectan a todas las referencias\")"
   ]
  },
  {
   "cell_type": "markdown",
   "id": "e96f767c",
   "metadata": {},
   "source": [
    "## 🎯 Resumen y ejercicios de repaso\n",
    "\n",
    "Se presentó una síntesis de los tipos de datos básicos y el manejo de variables en Python.\n",
    "\n",
    "### 📚 Contenidos revisados\n",
    "\n",
    "1. **Tipos de datos básicos**:\n",
    "   - `int`: números enteros para conteos e identificadores\n",
    "   - `float`: números decimales para mediciones\n",
    "   - `bool`: valores lógicos para condiciones\n",
    "   - `str`: texto para nombres, mensajes e identificadores\n",
    "\n",
    "2. **Variables**:\n",
    "   - Contenedores que almacenan referencias a objetos\n",
    "   - Nombres descriptivos mejoran la legibilidad\n",
    "   - Convención de nomenclatura: snake_case\n",
    "\n",
    "3. **Conversión de tipos**:\n",
    "   - `int()`, `float()`, `str()`, `bool()` para transformar datos\n",
    "   - Manejo de errores en conversiones\n",
    "\n",
    "4. **Mutabilidad**:\n",
    "   - Inmutables: `int`, `float`, `bool`, `str`\n",
    "   - Mutables: `list`, `dict`, `set`\n",
    "   - Atención con referencias compartidas\n",
    "\n",
    "---"
   ]
  },
  {
   "cell_type": "markdown",
   "id": "aa41012a",
   "metadata": {},
   "source": [
    "## 📝 Ejercicios de práctica\n",
    "\n",
    "A continuación se proponen ejercicios organizados por tema para consolidar los conceptos.\n",
    "\n",
    "### 1️⃣ Ejercicios: Tipos de datos fundamentales\n",
    "\n",
    "**Ejercicio 1.1 — Enteros**\n",
    "```python\n",
    "# Declarar variables para:\n",
    "# - La edad\n",
    "# - El año actual\n",
    "# - La cantidad de días en una semana\n",
    "# - Un entero negativo que represente temperatura bajo cero\n",
    "```\n",
    "\n",
    "**Ejercicio 1.2 — Flotantes**\n",
    "```python\n",
    "# Declarar variables para:\n",
    "# - Altura en metros\n",
    "# - Valor de pi (3.14159)\n",
    "# - Temperatura corporal (36.5)\n",
    "# - Un número pequeño en notación científica (1.5e-10)\n",
    "```\n",
    "\n",
    "**Ejercicio 1.3 — Booleanos**\n",
    "```python\n",
    "# Declarar variables booleanas para:\n",
    "# - Licencia de conducir\n",
    "# - Si está lloviendo hoy\n",
    "# - Si 5 es mayor que 3\n",
    "# - Si la edad es mayor o igual a 18\n",
    "```\n",
    "\n",
    "**Ejercicio 1.4 — Cadenas**\n",
    "```python\n",
    "# Declarar variables string para:\n",
    "# - Nombre completo\n",
    "# - Color favorito\n",
    "# - Frase motivacional\n",
    "# - Cadena vacía\n",
    "```\n",
    "\n",
    "### 2️⃣ Ejercicios: Variables (nomenclatura, inicialización, asignación)\n",
    "\n",
    "**Ejercicio 2.1 — Nomenclatura correcta**\n",
    "```python\n",
    "# Indicar cuáles nombres son válidos en Python (✅) o inválidos (❌):\n",
    "# mi_edad →\n",
    "# 2nombres →\n",
    "# nombre_completo →\n",
    "# class →\n",
    "# _temperatura →\n",
    "# mi-variable →\n",
    "# nombre2 →\n",
    "# Nombre →\n",
    "```\n",
    "\n",
    "**Ejercicio 2.2 — Asignación múltiple**\n",
    "```python\n",
    "# Declarar en una sola línea:\n",
    "# nombre = \"Juan\", edad = 25, altura = 1.75\n",
    "```\n",
    "\n",
    "**Ejercicio 2.3 — Reasignación**\n",
    "```python\n",
    "# Partir de: contador = 0\n",
    "# Incrementar en 5 y luego duplicar el valor\n",
    "# Determinar el valor final\n",
    "```\n",
    "\n",
    "### 3️⃣ Ejercicios: Conversión de tipos\n",
    "\n",
    "**Ejercicio 3.1 — Conversiones básicas**\n",
    "```python\n",
    "# Convertir los siguientes valores:\n",
    "texto_edad = \"25\"        # → a int con int()\n",
    "texto_precio = \"19.99\"   # → a float con float()\n",
    "numero = 42              # → a str con str()\n",
    "numero_decimal = 3.7     # → a int con int()\n",
    "```\n",
    "\n",
    "**Ejercicio 3.2 — Conversiones a booleano**\n",
    "```python\n",
    "# Convertir a booleano con bool():\n",
    "numero_uno = 1\n",
    "numero_cero = 0\n",
    "texto_vacio = \"\"\n",
    "texto_lleno = \"hola\"\n",
    "```\n",
    "\n",
    "### 4️⃣ Ejercicios: Mutabilidad e inmutabilidad\n",
    "\n",
    "**Ejercicio 4.1 — Clasificación**\n",
    "```python\n",
    "# Clasificar como MUTABLE o INMUTABLE:\n",
    "int  →\n",
    "str  →\n",
    "list →\n",
    "float →\n",
    "bool →\n",
    "```\n",
    "\n",
    "**Ejercicio 4.2 — Comportamiento inmutable**\n",
    "```python\n",
    "texto = \"Hola\"\n",
    "texto_nuevo = texto + \" mundo\"\n",
    "print(texto)        # ¿Cambia el texto original?\n",
    "print(texto_nuevo)  # ¿Qué contiene texto_nuevo?\n",
    "```\n",
    "\n",
    "**Ejercicio 4.3 — Comportamiento mutable**\n",
    "```python\n",
    "lista_a = [1, 2, 3]\n",
    "lista_b = lista_a\n",
    "lista_b.append(4)\n",
    "print(lista_a)  # ¿Contenido de lista_a?\n",
    "print(lista_b)  # ¿Contenido de lista_b?\n",
    "```\n",
    "\n",
    "### 5️⃣ Ejercicios integrados\n",
    "\n",
    "**Ejercicio 5.1 — Datos personales básicos**\n",
    "```python\n",
    "# Crear variables para:\n",
    "# - nombre (string)\n",
    "# - edad_texto (string \"25\")\n",
    "# - edad_numero (convierte edad_texto a int)\n",
    "# - altura_texto (string \"1.75\")\n",
    "# - altura_numero (convierte altura_texto a float)\n",
    "```\n",
    "\n",
    "**Ejercicio 5.2 — Verificación de tipos**\n",
    "```python\n",
    "# Dadas estas variables:\n",
    "a = 10\n",
    "b = 3.14\n",
    "c = \"Python\"\n",
    "d = True\n",
    "\n",
    "# Verificar el tipo con type():\n",
    "# print(type(a))\n",
    "# print(type(b))\n",
    "# print(type(c))\n",
    "# print(type(d))\n",
    "```\n",
    "\n",
    "### 6️⃣ Ejercicios de repaso\n",
    "\n",
    "**Ejercicio 6.1 — Intercambio de variables**\n",
    "```python\n",
    "# Intercambiar los valores usando una variable temporal:\n",
    "x = 10\n",
    "y = 20\n",
    "# 1. temporal = x\n",
    "# 2. x = y\n",
    "# 3. y = temporal\n",
    "```\n",
    "\n",
    "**Ejercicio 6.2 — Práctica de conversiones**\n",
    "```python\n",
    "numero_como_texto = \"123\"\n",
    "decimal_como_texto = \"45.67\"\n",
    "\n",
    "# Convertir numero_como_texto a int\n",
    "# Convertir decimal_como_texto a float\n",
    "# Convertir el número 89 a string\n",
    "# Convertir el string \"89\" a int\n",
    "```\n",
    "\n",
    "---\n",
    "\n",
    "### 📋 Instrucciones para resolver\n",
    "\n",
    "1. Copiar cada ejercicio a una nueva celda de código.\n",
    "2. Resolver paso a paso.\n",
    "3. Ejecutar para verificar resultados.\n",
    "4. Experimentar modificando valores.\n",
    "5. Consultar dudas cuando sea necesario."
   ]
  }
 ],
 "metadata": {
  "language_info": {
   "name": "python"
  }
 },
 "nbformat": 4,
 "nbformat_minor": 5
}
