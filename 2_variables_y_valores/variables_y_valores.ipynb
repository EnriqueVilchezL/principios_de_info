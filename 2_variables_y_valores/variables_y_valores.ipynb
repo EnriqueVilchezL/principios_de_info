{
 "cells": [
  {
   "cell_type": "markdown",
   "id": "381dbeb8",
   "metadata": {},
   "source": [
    "# Principios de Informática: Tipos de Datos y Variables en Python 🧮\n",
    "### Componentes fundamentales de todo programa\n",
    "\n",
    "**Curso:** Principios de Informática\n",
    "\n",
    "---\n",
    "\n",
    "## 🗺️ Objetivos y contenidos\n",
    "\n",
    "Este notebook presenta de forma estructurada los conceptos esenciales de los tipos de datos y el manejo de variables en Python. El propósito es reconocer, utilizar y transformar los tipos de datos más comunes, crear variables con criterios correctos y evitar errores frecuentes.\n",
    "\n",
    "> Comprender los tipos de datos es un requisito básico para diseñar programas correctos y eficientes.\n",
    "\n",
    "**Importancia:**\n",
    "- Los tipos de datos y las variables constituyen la base de cualquier programa.\n",
    "- Un uso adecuado mejora la claridad, seguridad y eficiencia del código.\n",
    "- Su dominio permite resolver problemas en contextos reales (cálculo científico, aplicaciones, etc.).\n",
    "\n",
    "**Contenidos:**\n",
    "1. Tipos de datos fundamentales: enteros, flotantes, booleanos, cadenas de caracteres\n",
    "2. Variables: nomenclatura, inicialización, asignación\n",
    "3. Conversión de tipos\n",
    "4. Mutabilidad e inmutabilidad"
   ]
  },
  {
   "cell_type": "markdown",
   "id": "52ab7b09",
   "metadata": {},
   "source": [
    "---\n",
    "\n",
    "## Preámbulo: anotaciones de tipo (type hints) en Python ✍️\n",
    "\n",
    "Las anotaciones de tipo permiten documentar el tipo esperado de variables y funciones. No cambian la ejecución del programa, pero mejoran la legibilidad, el autocompletado del editor y el análisis estático (p. ej., mypy/pyright).\n",
    "\n",
    "- Variables: `contador: int = 0`, `promedio: float = 3.5`, `nombre: str = \"Ana\"`, `activo: bool = True`.\n",
    "- Colecciones (Python 3.9+): `medidas: list[float]`, `mapa: dict[str, int]`, `ids: set[int]`.\n",
    "- Uniones: `edad: int | None = None` (equivalente a `Optional[int]`).\n",
    "- Funciones: `def area(w: float, h: float) -> float: ...`.\n",
    "\n",
    "Nota: Las anotaciones sirven como contrato de intención; verificación de tipos ocurre con herramientas externas, no en tiempo de ejecución."
   ]
  },
  {
   "cell_type": "markdown",
   "id": "eff559f5",
   "metadata": {},
   "source": [
    "---\n",
    "\n",
    "## 1. Tipos de datos fundamentales\n",
    "\n",
    "---\n",
    "\n",
    "Los tipos de datos son las unidades básicas de representación de información en un programa. La selección adecuada permite modelar con precisión y operar de manera eficiente.\n",
    "\n",
    "> Cada tipo de dato responde a un propósito específico dentro del programa.\n",
    "\n",
    "En Python, los más utilizados son:\n",
    "\n",
    "- **Enteros (`int`)**: Números sin parte decimal. Apropiados para conteos exactos (personas, páginas, piezas).\n",
    "- **Flotantes (`float`)**: Números con parte decimal. Adecuados para mediciones (altura, peso, temperatura).\n",
    "- **Booleanos (`bool`)**: Valores lógicos con dos estados posibles: `True` o `False`.\n",
    "- **Cadenas de caracteres (`str`)**: Texto (nombres, mensajes, identificadores, etc.).\n",
    "\n",
    "A continuación se presentan definiciones y ejemplos de uso de cada tipo.\n",
    "\n",
    "---"
   ]
  },
  {
   "cell_type": "markdown",
   "id": "bf2e0e88",
   "metadata": {},
   "source": [
    "### 🔢 Enteros (`int`)\n",
    "\n",
    "Los **enteros** representan números sin parte decimal. Son idóneos para conteos, índices y cantidades discretas.\n",
    "\n",
    "#### Características principales:\n",
    "- Sin decimales (ej.: 3, -7, 0)\n",
    "- Positivos, negativos o cero\n",
    "- Adecuados para conteos exactos y numeraciones\n",
    "- En Python 3, el tamaño está limitado por la memoria disponible\n",
    "\n",
    "#### Ejemplos de uso:\n",
    "- Número de estudiantes en una clase\n",
    "- Páginas de un libro\n",
    "- Cantidad de elementos en un inventario\n",
    "- Año en curso\n",
    "\n",
    "#### Ejemplo en Python:\n",
    "```python\n",
    "edad = 20\n",
    "cantidad = 5\n",
    "temperatura_baja = -3\n",
    "anio_actual = 2025\n",
    "```\n",
    "\n",
    "---"
   ]
  },
  {
   "cell_type": "code",
   "execution_count": 2,
   "id": "f3070510",
   "metadata": {},
   "outputs": [
    {
     "name": "stdout",
     "output_type": "stream",
     "text": [
      "Revoluciones del motor: 5000\n"
     ]
    }
   ],
   "source": [
    "# Ejemplo de declaración de variables enteras\n",
    "revoluciones_motor: int = 5000\n",
    "poblacion_bacterias: int = 1_000_000_000  # Guiones bajos opcionales para legibilidad\n",
    "numero_negativo: int = -42\n",
    "cero: int = 0\n",
    "print(f\"Revoluciones del motor: {revoluciones_motor}\")"
   ]
  },
  {
   "cell_type": "code",
   "execution_count": 3,
   "id": "ee9bd6dc",
   "metadata": {},
   "outputs": [
    {
     "name": "stdout",
     "output_type": "stream",
     "text": [
      "Población de bacterias: 1000000000\n",
      "Número negativo: -42\n",
      "Cero: 0\n"
     ]
    }
   ],
   "source": [
    "# Imprimir otros ejemplos de enteros\n",
    "print(f\"Población de bacterias: {poblacion_bacterias}\")\n",
    "print(f\"Número negativo: {numero_negativo}\")\n",
    "print(f\"Cero: {cero}\")"
   ]
  },
  {
   "cell_type": "code",
   "execution_count": 4,
   "id": "27aaf095",
   "metadata": {},
   "outputs": [
    {
     "name": "stdout",
     "output_type": "stream",
     "text": [
      "Tipo de revoluciones_motor: <class 'int'>\n",
      "Tipo de poblacion_bacterias: <class 'int'>\n"
     ]
    }
   ],
   "source": [
    "# Verificar el tipo de las variables enteras\n",
    "print(f\"Tipo de revoluciones_motor: {type(revoluciones_motor)}\")\n",
    "print(f\"Tipo de poblacion_bacterias: {type(poblacion_bacterias)}\")"
   ]
  },
  {
   "cell_type": "markdown",
   "id": "07b20485",
   "metadata": {},
   "source": [
    "**🧪 Ejercicio: Uso de enteros**\n",
    "\n",
    "Modificar los valores de las variables enteras, ejecutar el código y analizar los resultados obtenidos."
   ]
  },
  {
   "cell_type": "code",
   "execution_count": 5,
   "id": "233cc26f",
   "metadata": {},
   "outputs": [
    {
     "name": "stdout",
     "output_type": "stream",
     "text": [
      "⚡ Análisis de Pulsos del Sensor\n",
      "Pulsos por segundo: 1000\n",
      "Tiempo de medición: 30 segundos\n",
      "Total de pulsos detectados: 30000\n",
      "Frecuencia por minuto: 60000 pulsos/min\n",
      "\n",
      "🔍 Verificación de tipos:\n",
      "pulsos_por_segundo: int\n",
      "total_pulsos: int\n"
     ]
    }
   ],
   "source": [
    "pulsos_por_segundo: int = 1000\n",
    "tiempo_segundos: int = 30\n",
    "\n",
    "# Cálculos automáticos\n",
    "total_pulsos: int = pulsos_por_segundo * tiempo_segundos\n",
    "pulsos_por_minuto: int = pulsos_por_segundo * 60\n",
    "\n",
    "print(f\"⚡ Análisis de Pulsos del Sensor\")\n",
    "print(f\"Pulsos por segundo: {pulsos_por_segundo}\")\n",
    "print(f\"Tiempo de medición: {tiempo_segundos} segundos\")\n",
    "print(f\"Total de pulsos detectados: {total_pulsos}\")\n",
    "print(f\"Frecuencia por minuto: {pulsos_por_minuto} pulsos/min\")\n",
    "\n",
    "# Verifica que son enteros\n",
    "print(f\"\\n🔍 Verificación de tipos:\")\n",
    "for var_name, var_value in [(\"pulsos_por_segundo\", pulsos_por_segundo), \n",
    "                           (\"total_pulsos\", total_pulsos)]:\n",
    "    print(f\"{var_name}: {type(var_value).__name__}\")"
   ]
  },
  {
   "cell_type": "markdown",
   "id": "9fa699d7",
   "metadata": {},
   "source": [
    "### 🌊 Flotantes (`float`)\n",
    "\n",
    "Los **flotantes** representan números reales con parte decimal. Se emplean en mediciones y cantidades fraccionarias.\n",
    "\n",
    "#### Características principales:\n",
    "- Incluyen parte decimal (ej.: 3.14, -0.5, 0.0)\n",
    "- Precisión aproximada (alrededor de 15–17 dígitos significativos)\n",
    "- Permiten notación científica (ej.: 1.5e-10)\n",
    "- Apropiados para magnitudes continuas (distancias, temperaturas)\n",
    "\n",
    "#### Ejemplos de uso:\n",
    "- Altura de una persona (1.75 m)\n",
    "- Temperatura ambiente (23.6 °C)\n",
    "- Peso de un objeto (0.150 kg)\n",
    "- Distancias astronómicas (1.496e+8 km)\n",
    "\n",
    "#### Ejemplo en Python:\n",
    "```python\n",
    "altura = 1.75\n",
    "pi = 3.14159\n",
    "temperatura = 36.5\n",
    "peso = 0.150\n",
    "```\n",
    "\n",
    "---"
   ]
  },
  {
   "cell_type": "code",
   "execution_count": 6,
   "id": "da0160e6",
   "metadata": {},
   "outputs": [
    {
     "name": "stdout",
     "output_type": "stream",
     "text": [
      "Voltaje del sensor: 4.95 V\n"
     ]
    }
   ],
   "source": [
    "# Experimentando con flotantes\n",
    "voltaje: float = 4.95\n",
    "temperatura: float = 23.7\n",
    "pi_aproximado: float = 3.14159\n",
    "constante_planck: float = 6.626e-34  # Notación científica\n",
    "print(f\"Voltaje del sensor: {voltaje} V\")"
   ]
  },
  {
   "cell_type": "code",
   "execution_count": 7,
   "id": "c9f34b0c",
   "metadata": {},
   "outputs": [
    {
     "name": "stdout",
     "output_type": "stream",
     "text": [
      "Temperatura ambiente: 23.7 °C\n",
      "Pi aproximado: 3.14159\n",
      "Constante de Planck: 6.626e-34 J⋅s\n"
     ]
    }
   ],
   "source": [
    "# Imprimir otros ejemplos de flotantes\n",
    "print(f\"Temperatura ambiente: {temperatura} °C\")\n",
    "print(f\"Pi aproximado: {pi_aproximado}\")\n",
    "print(f\"Constante de Planck: {constante_planck} J⋅s\")"
   ]
  },
  {
   "cell_type": "code",
   "execution_count": 8,
   "id": "81e8cc9c",
   "metadata": {},
   "outputs": [
    {
     "name": "stdout",
     "output_type": "stream",
     "text": [
      "Tipo de voltaje: <class 'float'>\n",
      "Tipo de constante_planck: <class 'float'>\n"
     ]
    }
   ],
   "source": [
    "# Verificar tipos de variables flotantes\n",
    "print(f\"Tipo de voltaje: {type(voltaje)}\")\n",
    "print(f\"Tipo de constante_planck: {type(constante_planck)}\")"
   ]
  },
  {
   "cell_type": "code",
   "execution_count": 9,
   "id": "15f90a8d",
   "metadata": {},
   "outputs": [
    {
     "name": "stdout",
     "output_type": "stream",
     "text": [
      "0.1 + 0.2 = 0.30000000000000004\n",
      "¿Es 0.1 + 0.2 == 0.3? False\n",
      "💡 Este comportamiento ilustra las limitaciones de precisión de los flotantes.\n"
     ]
    }
   ],
   "source": [
    "# Demostración de precisión de flotantes\n",
    "print(f\"0.1 + 0.2 = {0.1 + 0.2}\")  # Nota: resultado no exacto por representación binaria\n",
    "print(f\"¿Es 0.1 + 0.2 == 0.3? {0.1 + 0.2 == 0.3}\")\n",
    "print(\"💡 Este comportamiento ilustra las limitaciones de precisión de los flotantes.\")"
   ]
  },
  {
   "cell_type": "markdown",
   "id": "b0b42a4d",
   "metadata": {},
   "source": [
    "### ✅❌ Booleanos (`bool`)\n",
    "\n",
    "Los **booleanos** representan valores lógicos con dos estados posibles: `True` (verdadero) y `False` (falso). Constituyen la base para expresar condiciones y estados binarios.\n",
    "\n",
    "#### Características principales:\n",
    "- Dos valores posibles: `True` y `False`\n",
    "- Representan estados o resultados de comparaciones\n",
    "- Útiles para indicar activación/inactivación, aprobación/denegación, etc.\n",
    "- En Python, `True` se asocia a 1 y `False` a 0, aunque su uso es eminentemente lógico\n",
    "\n",
    "#### Ejemplos de uso:\n",
    "- Estado de un dispositivo (encendido/apagado)\n",
    "- Confirmación de acciones (aceptado/rechazado)\n",
    "- Resultado de comparaciones (mayor/igual/menor)\n",
    "\n",
    "#### Ejemplo en Python:\n",
    "```python\n",
    "es_mayor_edad = True\n",
    "llueve = False\n",
    "tiene_licencia = True\n",
    "```\n",
    "\n",
    "---"
   ]
  },
  {
   "cell_type": "code",
   "execution_count": 10,
   "id": "2004770e",
   "metadata": {},
   "outputs": [
    {
     "name": "stdout",
     "output_type": "stream",
     "text": [
      "Valor verdadero: True\n"
     ]
    }
   ],
   "source": [
    "# Experimentando con booleanos\n",
    "verdadero: bool = True\n",
    "falso: bool = False\n",
    "print(f\"Valor verdadero: {verdadero}\")"
   ]
  },
  {
   "cell_type": "code",
   "execution_count": 11,
   "id": "f4f56ee0",
   "metadata": {},
   "outputs": [
    {
     "name": "stdout",
     "output_type": "stream",
     "text": [
      "Valor falso: False\n",
      "Tipo de verdadero: <class 'bool'>\n"
     ]
    }
   ],
   "source": [
    "# Imprimir otros valores booleanos\n",
    "print(f\"Valor falso: {falso}\")\n",
    "print(f\"Tipo de verdadero: {type(verdadero)}\")"
   ]
  },
  {
   "cell_type": "code",
   "execution_count": 12,
   "id": "9c579630",
   "metadata": {},
   "outputs": [
    {
     "name": "stdout",
     "output_type": "stream",
     "text": [
      "True como número: 1\n",
      "False como número: 0\n",
      "Suma True + True: 2\n"
     ]
    }
   ],
   "source": [
    "# Booleanos como números\n",
    "print(f\"True como número: {True + 0}\")\n",
    "print(f\"False como número: {False + 0}\")\n",
    "print(f\"Suma True + True: {True + True}\")"
   ]
  },
  {
   "cell_type": "code",
   "execution_count": 13,
   "id": "a60b6e38",
   "metadata": {},
   "outputs": [
    {
     "name": "stdout",
     "output_type": "stream",
     "text": [
      "Temperatura actual: 95.5°C\n",
      "Temperatura máxima: 90.0°C\n"
     ]
    }
   ],
   "source": [
    "# Comparaciones que generan booleanos\n",
    "temperatura_actual: float = 95.5\n",
    "temperatura_maxima: float = 90.0\n",
    "print(f\"Temperatura actual: {temperatura_actual}°C\")\n",
    "print(f\"Temperatura máxima: {temperatura_maxima}°C\")"
   ]
  },
  {
   "cell_type": "markdown",
   "id": "ad372700",
   "metadata": {},
   "source": [
    "### 📝 Cadenas (`str`)\n",
    "\n",
    "Las **cadenas** son secuencias ordenadas e inmutables de caracteres. Se emplean para representar texto.\n",
    "\n",
    "#### Características principales:\n",
    "- Secuencias de caracteres Unicode (compatibles con tildes, emojis, etc.)\n",
    "- Inmutables: su contenido no se modifica después de su creación\n",
    "- Se definen con comillas simples `'...'`, dobles `\"...\"` o triples `'''...'''`\n",
    "- Un carácter individual corresponde a una cadena de longitud 1\n",
    "\n",
    "#### Ejemplos de uso:\n",
    "- Nombres propios\n",
    "- Mensajes en interfaces de usuario\n",
    "- Códigos e identificadores\n",
    "- Contenido de comunicaciones\n",
    "\n",
    "#### Ejemplo en Python:\n",
    "```python\n",
    "letra = 'A'\n",
    "nombre = \"Ana\"\n",
    "mensaje = \"Hola, mundo\"\n",
    "frase = \"La programación es una disciplina rigurosa\"\n",
    "```\n",
    "\n",
    "---"
   ]
  },
  {
   "cell_type": "code",
   "execution_count": 14,
   "id": "b61a4c6f",
   "metadata": {},
   "outputs": [
    {
     "name": "stdout",
     "output_type": "stream",
     "text": [
      "Nombre del sensor: Sensor de Temperatura DHT22\n"
     ]
    }
   ],
   "source": [
    "# Experimentando con cadenas\n",
    "nombre_sensor: str = \"Sensor de Temperatura DHT22\"\n",
    "id_componente: str = 'X-48-AB-v2'\n",
    "letra: str = 'A'  # Un carácter es una cadena de longitud 1\n",
    "cadena_vacia: str = \"\"\n",
    "print(f\"Nombre del sensor: {nombre_sensor}\")"
   ]
  },
  {
   "cell_type": "code",
   "execution_count": 15,
   "id": "281a1253",
   "metadata": {},
   "outputs": [
    {
     "name": "stdout",
     "output_type": "stream",
     "text": [
      "ID del componente: X-48-AB-v2\n",
      "Una letra: A\n",
      "Cadena vacía: ''\n"
     ]
    }
   ],
   "source": [
    "# Imprimir otros ejemplos de cadenas\n",
    "print(f\"ID del componente: {id_componente}\")\n",
    "print(f\"Una letra: {letra}\")\n",
    "print(f\"Cadena vacía: '{cadena_vacia}'\")"
   ]
  },
  {
   "cell_type": "code",
   "execution_count": 16,
   "id": "e3f20626",
   "metadata": {},
   "outputs": [
    {
     "name": "stdout",
     "output_type": "stream",
     "text": [
      "Tipo de nombre_sensor: <class 'str'>\n",
      "Longitud del nombre: 27 caracteres\n",
      "Longitud de una letra: 1 caracteres\n"
     ]
    }
   ],
   "source": [
    "# Verificar tipos y longitudes de cadenas\n",
    "print(f\"Tipo de nombre_sensor: {type(nombre_sensor)}\")\n",
    "print(f\"Longitud del nombre: {len(nombre_sensor)} caracteres\")\n",
    "print(f\"Longitud de una letra: {len(letra)} caracteres\")"
   ]
  },
  {
   "cell_type": "code",
   "execution_count": 17,
   "id": "fe0bc459",
   "metadata": {},
   "outputs": [
    {
     "name": "stdout",
     "output_type": "stream",
     "text": [
      "Concatenación: X-48-AB-v2-A\n",
      "Repetición: AAAAA\n",
      "Mayúsculas: SENSOR DE TEMPERATURA DHT22\n",
      "Minúsculas: x-48-ab-v2\n"
     ]
    }
   ],
   "source": [
    "# Operaciones con cadenas\n",
    "print(f\"Concatenación: {id_componente + '-' + letra}\")\n",
    "print(f\"Repetición: {letra * 5}\")\n",
    "print(f\"Mayúsculas: {nombre_sensor.upper()}\")\n",
    "print(f\"Minúsculas: {id_componente.lower()}\")"
   ]
  },
  {
   "cell_type": "code",
   "execution_count": 18,
   "id": "bad46e71",
   "metadata": {},
   "outputs": [
    {
     "name": "stdout",
     "output_type": "stream",
     "text": [
      "Primer carácter: 'S'\n",
      "Último carácter: '2'\n",
      "Primeras 6 letras: 'Sensor'\n",
      "Palabra 'Sensor': 'Sensor'\n"
     ]
    }
   ],
   "source": [
    "# Indexación y slicing de cadenas\n",
    "print(f\"Primer carácter: '{nombre_sensor[0]}'\")\n",
    "print(f\"Último carácter: '{nombre_sensor[-1]}'\")\n",
    "print(f\"Primeras 6 letras: '{nombre_sensor[:6]}'\")\n",
    "print(f\"Palabra 'Sensor': '{nombre_sensor[0:6]}'\")"
   ]
  },
  {
   "cell_type": "code",
   "execution_count": 19,
   "id": "e0ac479c",
   "metadata": {},
   "outputs": [
    {
     "name": "stdout",
     "output_type": "stream",
     "text": [
      "Código original: TEMP_01_ACTIVO\n",
      "¿Contiene 'TEMP'? True\n",
      "¿Está activo? True\n",
      "Separar por '_': ['TEMP', '01', 'ACTIVO']\n"
     ]
    }
   ],
   "source": [
    "# Métodos útiles para ingeniería con cadenas\n",
    "codigo_sensor: str = \"TEMP_01_ACTIVO\"\n",
    "print(f\"Código original: {codigo_sensor}\")\n",
    "print(f\"¿Contiene 'TEMP'? {codigo_sensor.startswith('TEMP')}\")\n",
    "print(f\"¿Está activo? {codigo_sensor.endswith('ACTIVO')}\")\n",
    "print(f\"Separar por '_': {codigo_sensor.split('_')}\" )"
   ]
  },
  {
   "cell_type": "markdown",
   "id": "1ad833a0",
   "metadata": {},
   "source": [
    "### 🔢 Enteros (`int`): métodos útiles\n",
    "\n",
    "- `bit_length()`: cantidad de bits necesarios para representar el número en binario (sin signo).\n",
    "- `to_bytes(length, byteorder)`: representación en bytes.\n",
    "- `int.from_bytes(bytes, byteorder)`: conversión desde bytes a entero (método de clase)."
   ]
  },
  {
   "cell_type": "code",
   "execution_count": 44,
   "id": "aa43b056",
   "metadata": {},
   "outputs": [
    {
     "name": "stdout",
     "output_type": "stream",
     "text": [
      "n = 1023\n",
      "bit_length → 10 bits\n",
      "to_bytes(2,'big') → b'\\x03\\xff'\n",
      "int.from_bytes(b,'big') → 1023\n"
     ]
    }
   ],
   "source": [
    "# Métodos de int\n",
    "n = 1023\n",
    "print(f\"n = {n}\")\n",
    "print(f\"bit_length → {n.bit_length()} bits\")\n",
    "\n",
    "# Representación en bytes (2 bytes, big-endian)\n",
    "b = n.to_bytes(2, byteorder='big')\n",
    "print(f\"to_bytes(2,'big') → {b}\")\n",
    "print(f\"int.from_bytes(b,'big') → {int.from_bytes(b, byteorder='big')}\")"
   ]
  },
  {
   "cell_type": "markdown",
   "id": "2c5f0956",
   "metadata": {},
   "source": [
    "### 🌊 Flotantes (`float`): métodos útiles\n",
    "\n",
    "- `as_integer_ratio()`: par `(numerador, denominador)` exacto de la fracción que representa el flotante.\n",
    "- `is_integer()`: indica si el valor es un entero matemático.\n",
    "- `hex()`: representación hexadecimal del flotante.\n",
    "- `float.fromhex(cadena)`: construcción desde representación hexadecimal."
   ]
  },
  {
   "cell_type": "code",
   "execution_count": 45,
   "id": "20b85fde",
   "metadata": {},
   "outputs": [
    {
     "name": "stdout",
     "output_type": "stream",
     "text": [
      "x = 3.5\n",
      "x.as_integer_ratio() → (7, 2)\n",
      "y = 2.0, y.is_integer() → True\n",
      "x.hex() → 0x1.c000000000000p+1\n",
      "float.fromhex(x.hex()) → 3.5\n"
     ]
    }
   ],
   "source": [
    "# Métodos de float\n",
    "x = 3.5\n",
    "y = 2.0\n",
    "print(f\"x = {x}\")\n",
    "print(f\"x.as_integer_ratio() → {x.as_integer_ratio()}\")\n",
    "print(f\"y = {y}, y.is_integer() → {y.is_integer()}\")\n",
    "print(f\"x.hex() → {x.hex()}\")\n",
    "print(f\"float.fromhex(x.hex()) → {float.fromhex(x.hex())}\")"
   ]
  },
  {
   "cell_type": "markdown",
   "id": "8e449973",
   "metadata": {},
   "source": [
    "### 📝 Cadenas (`str`): métodos frecuentes\n",
    "\n",
    "- Cambio de formato: `lower()`, `upper()`, `title()`, `capitalize()`.\n",
    "- Limpieza: `strip()`, `lstrip()`, `rstrip()` (eliminan espacios en extremos).\n",
    "- Búsqueda y reemplazo: `find()`, `rfind()`, `replace()`, `startswith()`, `endswith()`.\n",
    "- División y unión: `split(sep)`, `join(iterable)`.\n",
    "- Comprobaciones: `isalpha()`, `isdigit()`, `isalnum()`, `isnumeric()`.\n",
    "- Formato: `format(...)` (alternativa a f-strings)."
   ]
  },
  {
   "cell_type": "code",
   "execution_count": 46,
   "id": "862a4d0c",
   "metadata": {},
   "outputs": [
    {
     "name": "stdout",
     "output_type": "stream",
     "text": [
      "Original: '  Ingeniería de Datos 2025 🚀  '\n",
      "strip(): 'Ingeniería de Datos 2025 🚀'\n",
      "lower(): '  ingeniería de datos 2025 🚀  '\n",
      "upper(): '  INGENIERÍA DE DATOS 2025 🚀  '\n",
      "title(): '  Ingeniería De Datos 2025 🚀  '\n",
      "split(',') → ['temperatura', 'sensor', 'ambiente']\n",
      "'-'.join(partes) → temperatura-sensor-ambiente\n",
      "replace('sensor','actuador') → temperatura,actuador,ambiente\n",
      "startswith('tem') → True\n",
      "endswith('ente') → True\n",
      "X123.isalnum() → True\n",
      "'123'.isdigit() → True\n"
     ]
    }
   ],
   "source": [
    "# Métodos de str\n",
    "s = \"  Ingeniería de Datos 2025 🚀  \"\n",
    "print(f\"Original: '{s}'\")\n",
    "print(f\"strip(): '{s.strip()}'\")\n",
    "print(f\"lower(): '{s.lower()}'\")\n",
    "print(f\"upper(): '{s.upper()}'\")\n",
    "print(f\"title(): '{s.title()}'\")\n",
    "\n",
    "texto = \"temperatura,sensor,ambiente\"\n",
    "partes = texto.split(',')\n",
    "print(f\"split(',') → {partes}\")\n",
    "print(f\"'-'.join(partes) → {'-'.join(partes)}\")\n",
    "\n",
    "print(f\"replace('sensor','actuador') → {texto.replace('sensor','actuador')}\")\n",
    "print(f\"startswith('tem') → {texto.startswith('tem')}\")\n",
    "print(f\"endswith('ente') → {texto.endswith('ente')}\")\n",
    "\n",
    "codigo = \"X123\"\n",
    "print(f\"{codigo}.isalnum() → {codigo.isalnum()}\")\n",
    "print(f\"'123'.isdigit() → {'123'.isdigit()}\")"
   ]
  },
  {
   "cell_type": "markdown",
   "id": "f99d62d1",
   "metadata": {},
   "source": [
    "### ✅❌ Booleanos (`bool`): consideraciones\n",
    "\n",
    "- `bool` es una subclase de `int` con dos valores: `True` y `False`.\n",
    "- No introduce métodos propios relevantes; el énfasis está en:\n",
    "  - Conversión lógica: `bool(x)` determina la veracidad de `x` (truthiness).\n",
    "  - Operadores lógicos: `and`, `or`, `not`.\n",
    "  - Uso en condiciones, filtros y validaciones."
   ]
  },
  {
   "cell_type": "code",
   "execution_count": 42,
   "id": "fd5219a9",
   "metadata": {},
   "outputs": [
    {
     "name": "stdout",
     "output_type": "stream",
     "text": [
      "{'0': False, '1': True, '-1': True, \"''\": False, \"'texto'\": True, '[]': False, '[1]': True, 'None': False}\n",
      "a and b → False\n",
      "a or b  → True\n",
      "not a    → False\n",
      "isinstance(True, int) → True\n"
     ]
    }
   ],
   "source": [
    "# Operaciones y conversiones con bool\n",
    "valores = [0, 1, -1, \"\", \"texto\", [], [1], None]\n",
    "print({repr(v): bool(v) for v in valores})\n",
    "\n",
    "a, b = True, False\n",
    "print(f\"a and b → {a and b}\")\n",
    "print(f\"a or b  → {a or b}\")\n",
    "print(f\"not a    → {not a}\")\n",
    "\n",
    "# bool hereda de int (uso ilustrativo)\n",
    "print(f\"isinstance(True, int) → {isinstance(True, int)}\")"
   ]
  },
  {
   "cell_type": "markdown",
   "id": "b0e801d6",
   "metadata": {},
   "source": [
    "### ∅ `None` (tipo `NoneType`)\n",
    "\n",
    "`None` representa la ausencia de valor. Es un único objeto singleton que indica “no hay dato”.\n",
    "\n",
    "- Uso típico: valores por omisión, retorno de funciones sin resultado explícito, marcadores de ausencia.\n",
    "- Comparación: utilizar `is None` y `is not None` (no `==`).\n",
    "- Comportamiento lógico: `bool(None)` es `False`."
   ]
  },
  {
   "cell_type": "code",
   "execution_count": 43,
   "id": "3c272d85",
   "metadata": {},
   "outputs": [
    {
     "name": "stdout",
     "output_type": "stream",
     "text": [
      "resultado: None, type: <class 'NoneType'>\n",
      "resultado (tras inicialización): 0\n",
      "resultado is None → False\n",
      "bool(None) → False\n"
     ]
    }
   ],
   "source": [
    "# Uso de None\n",
    "resultado = None\n",
    "print(f\"resultado: {resultado}, type: {type(resultado)}\")\n",
    "\n",
    "# Patrón común: comprobar ausencia antes de asignar/procesar\n",
    "if resultado is None:\n",
    "    resultado = 0  # valor por defecto\n",
    "print(f\"resultado (tras inicialización): {resultado}\")\n",
    "\n",
    "# Comparaciones y veracidad\n",
    "print(f\"resultado is None → {resultado is None}\")\n",
    "print(f\"bool(None) → {bool(None)}\")"
   ]
  },
  {
   "cell_type": "markdown",
   "id": "fbbdbba9",
   "metadata": {},
   "source": [
    "---\n",
    "\n",
    "## 1.1 Métodos útiles integrados de los tipos básicos\n",
    "\n",
    "Esta sección presenta métodos y operaciones integradas que resultan útiles al trabajar con `int`, `float`, `str` y `bool`, además del valor especial `None`.\n",
    "\n",
    "> Los métodos son funciones asociadas a un tipo/objeto que facilitan operaciones frecuentes."
   ]
  },
  {
   "cell_type": "markdown",
   "id": "c45909f1",
   "metadata": {},
   "source": [
    "---\n",
    "\n",
    "## 2. Variables: nomenclatura, inicialización, asignación\n",
    "\n",
    "---\n",
    "\n",
    "Las **variables** almacenan referencias a valores en memoria. Funcionan como identificadores que permiten acceder y manipular dichos valores de manera controlada.\n",
    "\n",
    "A continuación se presentan reglas de nomenclatura y operaciones básicas de inicialización, asignación y reasignación."
   ]
  },
  {
   "cell_type": "markdown",
   "id": "20767043",
   "metadata": {},
   "source": [
    "### Nomenclatura de variables\n",
    "En Python, los nombres de variables deben cumplir:\n",
    "- Iniciar con una letra o guión bajo (`_`).\n",
    "- Contener letras, números y guión bajo (sin espacios ni tildes).\n",
    "- Respetar mayúsculas/minúsculas (`edad` ≠ `Edad`).\n",
    "- No coincidir con palabras reservadas (`if`, `for`, `class`, etc.).\n",
    "\n",
    "Ejemplos válidos e inválidos:"
   ]
  },
  {
   "cell_type": "code",
   "execution_count": null,
   "id": "33736fc7",
   "metadata": {},
   "outputs": [],
   "source": [
    "# Nombres válidos\n",
    "nombre: str = 'Ana'\n",
    "edad_usuario: int = 25\n",
    "_saldo_cuenta: float = 100.0\n",
    "temperatura_ambiente: float = 22.5\n",
    "\n",
    "# Nombres inválidos (generarían error si se descomentan)\n",
    "# 2nombres = 'Juan'   # No puede iniciar con número\n",
    "# mi-variable = 10    # No puede contener guiones\n",
    "# class = 5           # No puede ser palabra reservada"
   ]
  },
  {
   "cell_type": "markdown",
   "id": "531b4a6f",
   "metadata": {},
   "source": [
    "### Inicialización de variables\n",
    "La inicialización consiste en asignar un valor por primera vez a una variable, creando su referencia en memoria."
   ]
  },
  {
   "cell_type": "code",
   "execution_count": null,
   "id": "102b22c4",
   "metadata": {},
   "outputs": [],
   "source": [
    "contador: int = 0  # Inicialización: se crea la variable y se le da un valor inicial"
   ]
  },
  {
   "cell_type": "markdown",
   "id": "91e2084e",
   "metadata": {},
   "source": [
    "### Asignación de variables\n",
    "La asignación establece o actualiza el valor asociado a una variable mediante el operador `=`."
   ]
  },
  {
   "cell_type": "code",
   "execution_count": null,
   "id": "8d853fe1",
   "metadata": {},
   "outputs": [],
   "source": [
    "contador: int = 5  # Asignación: se cambia el valor de la variable"
   ]
  },
  {
   "cell_type": "markdown",
   "id": "dc5a4273",
   "metadata": {},
   "source": [
    "### Reasignación de variables\n",
    "La reasignación modifica el valor previamente asociado a una variable. La identidad del nombre se mantiene; el contenido referenciado puede cambiar."
   ]
  },
  {
   "cell_type": "code",
   "execution_count": null,
   "id": "4cd8cd36",
   "metadata": {},
   "outputs": [],
   "source": [
    "contador: int = 10  # Reasignación: se vuelve a cambiar el valor"
   ]
  },
  {
   "cell_type": "markdown",
   "id": "8b67806d",
   "metadata": {},
   "source": [
    "### 💻 Ejercicio: Intercambio de valores entre sensores\n",
    "\n",
    "Contexto: En un sistema de control industrial, se dispone de dos sensores:\n",
    "- `sensor_temperatura`: mide la temperatura del sistema.\n",
    "- `sensor_presion`: mide la presión del sistema.\n",
    "\n",
    "```python\n",
    "sensor_temperatura = 23\n",
    "sensor_presion = 39\n",
    "```\n",
    "\n",
    "Debido a un error de cableado, las lecturas están intercambiadas. Realice el intercambio correcto de valores entre las variables.\n",
    "\n",
    "Condición: No introducir valores literales. Utilizar únicamente asignaciones (y variables auxiliares si es necesario).\n",
    "\n",
    "---"
   ]
  },
  {
   "cell_type": "code",
   "execution_count": 47,
   "id": "b55804b7",
   "metadata": {},
   "outputs": [
    {
     "name": "stdout",
     "output_type": "stream",
     "text": [
      "Temperatura del sensor: 23 °C\n",
      "Presión del sensor: 39 hPa\n",
      "Temperatura del sensor después del intercambio: 39 °C\n",
      "Presión del sensor después del intercambio: 23 hPa\n"
     ]
    }
   ],
   "source": [
    "sensor_temperatura: int = 23\n",
    "sensor_presion: int = 39\n",
    "\n",
    "print(f\"Temperatura del sensor: {sensor_temperatura} °C\")\n",
    "print(f\"Presión del sensor: {sensor_presion} hPa\")\n",
    "\n",
    "# Intercambio\n",
    "variable_temporal: int = sensor_temperatura\n",
    "sensor_temperatura, sensor_presion = sensor_presion, variable_temporal\n",
    "\n",
    "print(f\"Temperatura del sensor después del intercambio: {sensor_temperatura} °C\")\n",
    "print(f\"Presión del sensor después del intercambio: {sensor_presion} hPa\")"
   ]
  },
  {
   "cell_type": "markdown",
   "id": "ea95df78",
   "metadata": {},
   "source": [
    "### 🔍 Verificación de tipos (type checking)\n",
    "\n",
    "Es fundamental conocer el tipo de dato que se manipula para depurar, validar y documentar el código.\n",
    "\n",
    "#### Objetivos\n",
    "- Depuración: detectar errores relacionados con tipos\n",
    "- Validación: comprobar que los datos cumplen el tipo esperado\n",
    "- Documentación: facilitar la comprensión del código\n",
    "- Robustez: prevenir fallos en tiempo de ejecución\n",
    "\n",
    "#### Herramientas\n",
    "- `type()`: retorna el tipo del objeto\n",
    "- `isinstance()`: verifica pertenencia a un tipo/clase\n",
    "- `dir()`: lista métodos y atributos disponibles\n",
    "\n",
    "---"
   ]
  },
  {
   "cell_type": "code",
   "execution_count": null,
   "id": "331a428b",
   "metadata": {},
   "outputs": [
    {
     "name": "stdout",
     "output_type": "stream",
     "text": [
      "Nombre: Ana\n",
      "Tipo de nombre: <class 'str'>\n"
     ]
    }
   ],
   "source": [
    "# EXPLORACIÓN DE TIPOS DE DATOS\n",
    "# Creamos variables de diferentes tipos\n",
    "nombre: str = \"Ana\"              # string (cadena de caracteres)\n",
    "edad: int = 20                   # int (entero)\n",
    "altura: float = 1.65             # float (flotante)\n",
    "es_estudiante: bool = True       # bool (booleano)\n",
    "print(f\"Nombre: {nombre}\")\n",
    "print(f\"Tipo de nombre: {type(nombre)}\")"
   ]
  },
  {
   "cell_type": "code",
   "execution_count": 31,
   "id": "2c638911",
   "metadata": {},
   "outputs": [
    {
     "name": "stdout",
     "output_type": "stream",
     "text": [
      "Edad: 20\n",
      "Tipo de edad: <class 'int'>\n"
     ]
    }
   ],
   "source": [
    "# Imprimir edad y su tipo\n",
    "print(f\"Edad: {edad}\")\n",
    "print(f\"Tipo de edad: {type(edad)}\")"
   ]
  },
  {
   "cell_type": "code",
   "execution_count": 32,
   "id": "56e85887",
   "metadata": {},
   "outputs": [
    {
     "name": "stdout",
     "output_type": "stream",
     "text": [
      "Altura: 1.65\n",
      "Tipo de altura: <class 'float'>\n"
     ]
    }
   ],
   "source": [
    "# Imprimir altura y su tipo\n",
    "print(f\"Altura: {altura}\")\n",
    "print(f\"Tipo de altura: {type(altura)}\")"
   ]
  },
  {
   "cell_type": "code",
   "execution_count": 33,
   "id": "b35831bc",
   "metadata": {},
   "outputs": [
    {
     "name": "stdout",
     "output_type": "stream",
     "text": [
      "Es estudiante: True\n",
      "Tipo de es_estudiante: <class 'bool'>\n"
     ]
    }
   ],
   "source": [
    "# Imprimir si es estudiante y su tipo\n",
    "print(f\"Es estudiante: {es_estudiante}\")\n",
    "print(f\"Tipo de es_estudiante: {type(es_estudiante)}\")"
   ]
  },
  {
   "cell_type": "code",
   "execution_count": 34,
   "id": "d193e9e9",
   "metadata": {},
   "outputs": [
    {
     "name": "stdout",
     "output_type": "stream",
     "text": [
      "¿La edad es un entero? True\n",
      "¿El nombre es una cadena? True\n",
      "¿La altura es un flotante? True\n",
      "¿es_estudiante es booleano? True\n"
     ]
    }
   ],
   "source": [
    "# Verificaciones simples con type()\n",
    "print(f\"¿La edad es un entero? {type(edad) == int}\")\n",
    "print(f\"¿El nombre es una cadena? {type(nombre) == str}\")\n",
    "print(f\"¿La altura es un flotante? {type(altura) == float}\")\n",
    "print(f\"¿es_estudiante es booleano? {type(es_estudiante) == bool}\")"
   ]
  },
  {
   "cell_type": "markdown",
   "id": "1f06feae",
   "metadata": {},
   "source": [
    "---\n",
    "\n",
    "## 3. Conversión de tipos\n",
    "\n",
    "---\n",
    "\n",
    "En numerosas situaciones es necesario transformar datos entre tipos para realizar operaciones o presentar resultados correctamente.\n",
    "\n",
    "### Motivación\n",
    "- Convertir texto a números para cálculos\n",
    "- Formatear números como texto para salida\n",
    "- Validar y limpiar datos de entrada\n",
    "\n",
    "#### Funciones principales\n",
    "- `int()`: convierte a entero\n",
    "- `float()`: convierte a flotante\n",
    "- `str()`: convierte a cadena\n",
    "- `bool()`: convierte a booleano\n",
    "\n",
    "#### Ejemplo en Python\n",
    "```python\n",
    "edad_texto = \"25\"\n",
    "edad = int(edad_texto)\n",
    "altura_texto = \"1.75\"\n",
    "altura = float(altura_texto)\n",
    "nombre = str(12345)\n",
    "activo = bool(\"algo\")\n",
    "```\n",
    "\n",
    "Nota: La conversión requiere compatibilidad entre el valor origen y el tipo destino; de lo contrario, se produce un error.\n",
    "\n",
    "El proceso de conversión de un tipo a otro se denomina casting.\n",
    "\n",
    "---"
   ]
  },
  {
   "cell_type": "code",
   "execution_count": null,
   "id": "3ab8250d",
   "metadata": {},
   "outputs": [
    {
     "name": "stdout",
     "output_type": "stream",
     "text": [
      "DATOS ORIGINALES:\n",
      "numero_como_texto: '25' (tipo: str)\n",
      "decimal_como_texto: '3.14' (tipo: str)\n",
      "numero_entero: 42 (tipo: int)\n",
      "numero_decimal: 2.71 (tipo: float)\n"
     ]
    }
   ],
   "source": [
    "# CONVERSIÓN DE TIPOS\n",
    "# Datos de ejemplo\n",
    "numero_como_texto: str = \"25\"        # String que representa un entero\n",
    "decimal_como_texto: str = \"3.14\"     # String que representa un flotante\n",
    "numero_entero: int = 42              # Entero que queremos como string\n",
    "numero_decimal: float = 2.71         # Flotante que queremos como entero\n",
    "\n",
    "print(\"DATOS ORIGINALES:\")\n",
    "print(f\"numero_como_texto: '{numero_como_texto}' (tipo: {type(numero_como_texto).__name__})\")\n",
    "print(f\"decimal_como_texto: '{decimal_como_texto}' (tipo: {type(decimal_como_texto).__name__})\")\n",
    "print(f\"numero_entero: {numero_entero} (tipo: {type(numero_entero).__name__})\")\n",
    "print(f\"numero_decimal: {numero_decimal} (tipo: {type(numero_decimal).__name__})\")"
   ]
  },
  {
   "cell_type": "code",
   "execution_count": null,
   "id": "8c0d7298",
   "metadata": {},
   "outputs": [
    {
     "name": "stdout",
     "output_type": "stream",
     "text": [
      "String a int: '25' → 25\n",
      "String a float: '3.14' → 3.14\n"
     ]
    }
   ],
   "source": [
    "# String a número\n",
    "numero: int = int(numero_como_texto)\n",
    "print(f\"String a int: '{numero_como_texto}' → {numero}\")\n",
    "decimal: float = float(decimal_como_texto)\n",
    "print(f\"String a float: '{decimal_como_texto}' → {decimal}\")"
   ]
  },
  {
   "cell_type": "code",
   "execution_count": null,
   "id": "b712b8e5",
   "metadata": {},
   "outputs": [
    {
     "name": "stdout",
     "output_type": "stream",
     "text": [
      "Int a string: 42 → '42'\n",
      "Float a int: 2.71 → 2\n"
     ]
    }
   ],
   "source": [
    "# Número a string y float a int\n",
    "texto: str = str(numero_entero)\n",
    "print(f\"Int a string: {numero_entero} → '{texto}'\")\n",
    "entero: int = int(numero_decimal)\n",
    "print(f\"Float a int: {numero_decimal} → {entero}\")"
   ]
  },
  {
   "cell_type": "code",
   "execution_count": 38,
   "id": "d4d071c3",
   "metadata": {},
   "outputs": [
    {
     "name": "stdout",
     "output_type": "stream",
     "text": [
      "bool(1): True\n",
      "bool(0): False\n",
      "bool('hola'): True\n",
      "bool(''): False\n"
     ]
    }
   ],
   "source": [
    "# Conversiones a booleano\n",
    "print(f\"bool(1): {bool(1)}\")\n",
    "print(f\"bool(0): {bool(0)}\")\n",
    "print(f\"bool('hola'): {bool('hola')}\")\n",
    "print(f\"bool(''): {bool('')}\")"
   ]
  },
  {
   "cell_type": "code",
   "execution_count": null,
   "id": "f0c64259",
   "metadata": {},
   "outputs": [
    {
     "ename": "ValueError",
     "evalue": "invalid literal for int() with base 10: 'hola'",
     "output_type": "error",
     "traceback": [
      "\u001b[31m---------------------------------------------------------------------------\u001b[39m",
      "\u001b[31mValueError\u001b[39m                                Traceback (most recent call last)",
      "\u001b[36mCell\u001b[39m\u001b[36m \u001b[39m\u001b[32mIn[39]\u001b[39m\u001b[32m, line 2\u001b[39m\n\u001b[32m      1\u001b[39m \u001b[38;5;66;03m# ⚠️ Conversiones que pueden dar error\u001b[39;00m\n\u001b[32m----> \u001b[39m\u001b[32m2\u001b[39m numero_malo = \u001b[38;5;28;43mint\u001b[39;49m\u001b[43m(\u001b[49m\u001b[33;43m\"\u001b[39;49m\u001b[33;43mhola\u001b[39;49m\u001b[33;43m\"\u001b[39;49m\u001b[43m)\u001b[49m\n",
      "\u001b[31mValueError\u001b[39m: invalid literal for int() with base 10: 'hola'"
     ]
    }
   ],
   "source": [
    "# ⚠️ Conversiones que pueden dar error\n",
    "try:\n",
    "    numero_malo: int = int(\"hola\")\n",
    "except ValueError as e:\n",
    "    print(f\"Error al convertir 'hola' a int: {e}\")"
   ]
  },
  {
   "cell_type": "code",
   "execution_count": null,
   "id": "353e2bd8",
   "metadata": {},
   "outputs": [],
   "source": [
    "# ⚠️ Conversiones que pueden dar error\n",
    "try:\n",
    "    decimal_malo: float = float(\"abc\")\n",
    "except ValueError as e:\n",
    "    print(f\"Error al convertir 'abc' a float: {e}\")"
   ]
  },
  {
   "cell_type": "markdown",
   "id": "5726f549",
   "metadata": {},
   "source": [
    "---\n",
    "\n",
    "## 4. Mutabilidad e inmutabilidad\n",
    "\n",
    "---\n",
    "\n",
    "En Python, algunos tipos permiten modificar su contenido después de creados (**mutables**) y otros no (**inmutables**). Este comportamiento afecta la gestión de memoria y la forma en que se comparten referencias entre variables.\n",
    "\n",
    "### Definiciones\n",
    "- **Mutables:** su contenido puede modificarse sin cambiar la identidad del objeto (ej.: `list`, `dict`, `set`).\n",
    "- **Inmutables:** su contenido no puede alterarse; toda modificación genera un objeto nuevo (ej.: `int`, `float`, `bool`, `str`).\n",
    "\n",
    "#### Tipos inmutables\n",
    "- `int`, `float`, `bool`, `str`\n",
    "\n",
    "#### Tipos mutables\n",
    "- `list`, `dict`, `set`\n",
    "\n",
    "#### Ejemplos\n",
    "```python\n",
    "# Inmutabilidad\n",
    "a = 5\n",
    "a = 6  # se crea un nuevo objeto\n",
    "\n",
    "# Mutabilidad\n",
    "lista = [1, 2, 3]\n",
    "lista.append(4)  # se modifica el mismo objeto\n",
    "```\n",
    "\n",
    "Importancia: Al compartir objetos mutables entre variables, los cambios se reflejan en todas las referencias. Con objetos inmutables, cada reasignación crea una nueva referencia.\n",
    "\n",
    "---"
   ]
  },
  {
   "cell_type": "code",
   "execution_count": null,
   "id": "ec7bdcaf",
   "metadata": {},
   "outputs": [],
   "source": [
    "# DEMOSTRACIÓN BÁSICA DE MUTABILIDAD\n",
    "# Ejemplo con tipos INMUTABLES (números y strings)\n",
    "numero: int = 42\n",
    "print(f\"Número original: {numero}\")\n",
    "numero = numero + 1\n",
    "print(f\"Número después de +1: {numero}\")\n",
    "print(\"💡 Nota: Se crea un nuevo número; el original no cambia.\")"
   ]
  },
  {
   "cell_type": "code",
   "execution_count": null,
   "id": "865c7570",
   "metadata": {},
   "outputs": [],
   "source": [
    "# Strings también son inmutables\n",
    "texto: str = \"Hola\"\n",
    "print(f\"Texto original: '{texto}'\")\n",
    "texto = texto + \" mundo\"\n",
    "print(f\"Texto después de concatenar: '{texto}'\")\n",
    "print(\"💡 Nota: Se crea un nuevo string; el original no cambia.\")"
   ]
  },
  {
   "cell_type": "code",
   "execution_count": null,
   "id": "64926f76",
   "metadata": {},
   "outputs": [],
   "source": [
    "# Ejemplo con listas (MUTABLES)\n",
    "lista_numeros: list[int] = [1, 2, 3]\n",
    "print(f\"Lista original: {lista_numeros}\")\n",
    "lista_numeros.append(4)\n",
    "print(f\"Lista después de agregar 4: {lista_numeros}\")\n",
    "print(\"💡 Nota: Se modifica el mismo objeto (lista).\")"
   ]
  },
  {
   "cell_type": "code",
   "execution_count": null,
   "id": "72376205",
   "metadata": {},
   "outputs": [],
   "source": [
    "# Demostración con variables que apuntan a la misma lista\n",
    "lista_a: list[int] = [1, 2, 3]\n",
    "lista_b: list[int] = lista_a  # Ambas variables referencian la misma lista\n",
    "print(f\"lista_a: {lista_a}\")\n",
    "print(f\"lista_b: {lista_b}\")\n",
    "lista_b.append(4)\n",
    "print(\"Después de lista_b.append(4):\")\n",
    "print(f\"lista_a: {lista_a}\")  # También cambia\n",
    "print(f\"lista_b: {lista_b}\")\n",
    "print(\"💡 Nota: Al compartir referencias a objetos mutables, los cambios se reflejan en todas las variables.\")"
   ]
  },
  {
   "cell_type": "code",
   "execution_count": null,
   "id": "999ae9c4",
   "metadata": {},
   "outputs": [],
   "source": [
    "# Resumen de mutabilidad\n",
    "print(\"• int, float, bool, str → INMUTABLES\")\n",
    "print(\"• list, dict → MUTABLES\")\n",
    "print(\"• Atención: al compartir listas entre variables, los cambios afectan a todas las referencias\")"
   ]
  },
  {
   "cell_type": "markdown",
   "id": "e96f767c",
   "metadata": {},
   "source": [
    "## 🎯 Resumen y ejercicios de repaso\n",
    "\n",
    "Se presentó una síntesis de los tipos de datos básicos y el manejo de variables en Python.\n",
    "\n",
    "### 📚 Contenidos revisados\n",
    "\n",
    "1. **Tipos de datos básicos**:\n",
    "   - `int`: números enteros para conteos e identificadores\n",
    "   - `float`: números decimales para mediciones\n",
    "   - `bool`: valores lógicos para condiciones\n",
    "   - `str`: texto para nombres, mensajes e identificadores\n",
    "\n",
    "2. **Variables**:\n",
    "   - Contenedores que almacenan referencias a objetos\n",
    "   - Nombres descriptivos mejoran la legibilidad\n",
    "   - Convención de nomenclatura: snake_case\n",
    "\n",
    "3. **Conversión de tipos**:\n",
    "   - `int()`, `float()`, `str()`, `bool()` para transformar datos\n",
    "   - Manejo de errores en conversiones\n",
    "\n",
    "4. **Mutabilidad**:\n",
    "   - Inmutables: `int`, `float`, `bool`, `str`\n",
    "   - Mutables: `list`, `dict`, `set`\n",
    "   - Atención con referencias compartidas\n",
    "\n",
    "---"
   ]
  },
  {
   "cell_type": "markdown",
   "id": "aa41012a",
   "metadata": {},
   "source": [
    "## 📝 Ejercicios de práctica\n",
    "\n",
    "A continuación se proponen ejercicios organizados por tema para consolidar los conceptos.\n",
    "\n",
    "### 1️⃣ Ejercicios: Tipos de datos fundamentales\n",
    "\n",
    "**Ejercicio 1.1 — Enteros**\n",
    "```python\n",
    "# Declarar variables para:\n",
    "# - La edad\n",
    "# - El año actual\n",
    "# - La cantidad de días en una semana\n",
    "# - Un entero negativo que represente temperatura bajo cero\n",
    "```\n",
    "\n",
    "**Ejercicio 1.2 — Flotantes**\n",
    "```python\n",
    "# Declarar variables para:\n",
    "# - Altura en metros\n",
    "# - Valor de pi (3.14159)\n",
    "# - Temperatura corporal (36.5)\n",
    "# - Un número pequeño en notación científica (1.5e-10)\n",
    "```\n",
    "\n",
    "**Ejercicio 1.3 — Booleanos**\n",
    "```python\n",
    "# Declarar variables booleanas para:\n",
    "# - Licencia de conducir\n",
    "# - Si está lloviendo hoy\n",
    "# - Si 5 es mayor que 3\n",
    "# - Si la edad es mayor o igual a 18\n",
    "```\n",
    "\n",
    "**Ejercicio 1.4 — Cadenas**\n",
    "```python\n",
    "# Declarar variables string para:\n",
    "# - Nombre completo\n",
    "# - Color favorito\n",
    "# - Frase motivacional\n",
    "# - Cadena vacía\n",
    "```\n",
    "\n",
    "### 2️⃣ Ejercicios: Variables (nomenclatura, inicialización, asignación)\n",
    "\n",
    "**Ejercicio 2.1 — Nomenclatura correcta**\n",
    "```python\n",
    "# Indicar cuáles nombres son válidos en Python (✅) o inválidos (❌):\n",
    "# mi_edad →\n",
    "# 2nombres →\n",
    "# nombre_completo →\n",
    "# class →\n",
    "# _temperatura →\n",
    "# mi-variable →\n",
    "# nombre2 →\n",
    "# Nombre →\n",
    "```\n",
    "\n",
    "**Ejercicio 2.2 — Asignación múltiple**\n",
    "```python\n",
    "# Declarar en una sola línea:\n",
    "# nombre = \"Juan\", edad = 25, altura = 1.75\n",
    "```\n",
    "\n",
    "**Ejercicio 2.3 — Reasignación**\n",
    "```python\n",
    "# Partir de: contador = 0\n",
    "# Incrementar en 5 y luego duplicar el valor\n",
    "# Determinar el valor final\n",
    "```\n",
    "\n",
    "### 3️⃣ Ejercicios: Conversión de tipos\n",
    "\n",
    "**Ejercicio 3.1 — Conversiones básicas**\n",
    "```python\n",
    "# Convertir los siguientes valores:\n",
    "texto_edad = \"25\"        # → a int con int()\n",
    "texto_precio = \"19.99\"   # → a float con float()\n",
    "numero = 42              # → a str con str()\n",
    "numero_decimal = 3.7     # → a int con int()\n",
    "```\n",
    "\n",
    "**Ejercicio 3.2 — Conversiones a booleano**\n",
    "```python\n",
    "# Convertir a booleano con bool():\n",
    "numero_uno = 1\n",
    "numero_cero = 0\n",
    "texto_vacio = \"\"\n",
    "texto_lleno = \"hola\"\n",
    "```\n",
    "\n",
    "### 4️⃣ Ejercicios: Mutabilidad e inmutabilidad\n",
    "\n",
    "**Ejercicio 4.1 — Clasificación**\n",
    "```python\n",
    "# Clasificar como MUTABLE o INMUTABLE:\n",
    "int  →\n",
    "str  →\n",
    "list →\n",
    "float →\n",
    "bool →\n",
    "```\n",
    "\n",
    "**Ejercicio 4.2 — Comportamiento inmutable**\n",
    "```python\n",
    "texto = \"Hola\"\n",
    "texto_nuevo = texto + \" mundo\"\n",
    "print(texto)        # ¿Cambia el texto original?\n",
    "print(texto_nuevo)  # ¿Qué contiene texto_nuevo?\n",
    "```\n",
    "\n",
    "**Ejercicio 4.3 — Comportamiento mutable**\n",
    "```python\n",
    "lista_a = [1, 2, 3]\n",
    "lista_b = lista_a\n",
    "lista_b.append(4)\n",
    "print(lista_a)  # ¿Contenido de lista_a?\n",
    "print(lista_b)  # ¿Contenido de lista_b?\n",
    "```\n",
    "\n",
    "### 5️⃣ Ejercicios integrados\n",
    "\n",
    "**Ejercicio 5.1 — Datos personales básicos**\n",
    "```python\n",
    "# Crear variables para:\n",
    "# - nombre (string)\n",
    "# - edad_texto (string \"25\")\n",
    "# - edad_numero (convierte edad_texto a int)\n",
    "# - altura_texto (string \"1.75\")\n",
    "# - altura_numero (convierte altura_texto a float)\n",
    "```\n",
    "\n",
    "**Ejercicio 5.2 — Verificación de tipos**\n",
    "```python\n",
    "# Dadas estas variables:\n",
    "a = 10\n",
    "b = 3.14\n",
    "c = \"Python\"\n",
    "d = True\n",
    "\n",
    "# Verificar el tipo con type():\n",
    "# print(type(a))\n",
    "# print(type(b))\n",
    "# print(type(c))\n",
    "# print(type(d))\n",
    "```\n",
    "\n",
    "### 6️⃣ Ejercicios de repaso\n",
    "\n",
    "**Ejercicio 6.1 — Intercambio de variables**\n",
    "```python\n",
    "# Intercambiar los valores usando una variable temporal:\n",
    "x = 10\n",
    "y = 20\n",
    "# 1. temporal = x\n",
    "# 2. x = y\n",
    "# 3. y = temporal\n",
    "```\n",
    "\n",
    "**Ejercicio 6.2 — Práctica de conversiones**\n",
    "```python\n",
    "numero_como_texto = \"123\"\n",
    "decimal_como_texto = \"45.67\"\n",
    "\n",
    "# Convertir numero_como_texto a int\n",
    "# Convertir decimal_como_texto a float\n",
    "# Convertir el número 89 a string\n",
    "# Convertir el string \"89\" a int\n",
    "```\n",
    "\n",
    "---\n",
    "\n",
    "### 📋 Instrucciones para resolver\n",
    "\n",
    "1. Copiar cada ejercicio a una nueva celda de código.\n",
    "2. Resolver paso a paso.\n",
    "3. Ejecutar para verificar resultados.\n",
    "4. Experimentar modificando valores.\n",
    "5. Consultar dudas cuando sea necesario."
   ]
  }
 ],
 "metadata": {
  "kernelspec": {
   "display_name": "principios-de-info",
   "language": "python",
   "name": "python3"
  },
  "language_info": {
   "codemirror_mode": {
    "name": "ipython",
    "version": 3
   },
   "file_extension": ".py",
   "mimetype": "text/x-python",
   "name": "python",
   "nbconvert_exporter": "python",
   "pygments_lexer": "ipython3",
   "version": "3.12.10"
  }
 },
 "nbformat": 4,
 "nbformat_minor": 5
}
