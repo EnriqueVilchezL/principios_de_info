{
 "cells": [
  {
   "cell_type": "markdown",
   "id": "e27bc9a4",
   "metadata": {},
   "source": [
    "# Principios de Informática: Laboratorio de Tipos de Datos y Variables en Python 🧮\n",
    "### Las piezas fundamentales de cualquier programa\n",
    "\n",
    "**Curso:** Principios de Informática\n",
    "\n",
    "---\n",
    "\n",
    "## Instrucciones 🚧\n",
    "\n",
    "### 1.\tObjetivo\n",
    "  * El objetivo es que usted aplique los conceptos vistos en clase utilizando Python en un entorno interactivo.\n",
    "\n",
    "### 2.\tEjecución\n",
    "  * **Haga una copia de este notebook y guárdelo en su propio drive antes de empezar**. Esto lo puede hacer en `Archivo` -> `Salvar una copia en Drive`. Trabaje sus soluciones en esta nueva copia.\n",
    "  * Lea atentamente cada problema o ejercicio que se le plantee en las celdas de texto (Markdown).\n",
    "  * Escriba su código en las celdas de código justo debajo de cada enunciado.\n",
    "  * Ejecute cada celda para verificar que su código funcione correctamente.\n",
    "  * Puede añadir celdas adicionales si lo considera necesario para dividir el código o realizar pruebas.\n",
    "\n",
    "### 3.\tDocumentación\n",
    "  * Si lo considera necesario, utilice celdas de texto (Markdown) para agregar comentarios, explicaciones o respuestas a preguntas.\n",
    "  * Organice el notebook de manera clara con títulos, subtítulos y descripciones pertinentes.\n",
    "\n",
    "### 4.\tEntrega\n",
    "  * Guarde su notebook con el nombre `laboratorio_#_nombre_apellidos.ipynb`. Por ejemplo: `laboratorio_1_enrique_vilchezlizano.ipynb`.\n",
    "  * Descargue el archivo desde Colab (`Archivo` -> `Descargar` > `Descargar .ipynb`).\n",
    "  * Este laboratorio debe entregarse a través de Mediación Virtual a más tardar el `FECHA` a las 11:59 p. m. (medianoche).\n",
    "\n",
    "### 5.\tRecomendaciones\n",
    "  * Ponga comentarios en su código para facilitar su comprensión.\n",
    "  * Utilice nombres claros y significativos para variables y funciones.\n",
    "  * Verifique que todas las celdas se ejecuten sin errores.\n",
    "  * Mantenga el notebook organizado y bien documentado.\n",
    "  * No dude en consultar en caso de dudas o dificultades.\n",
    "\n",
    "### 6.\tEvaluación\n",
    "  * Se evaluará que el código funcione correctamente y resuelva los problemas planteados.\n",
    "  * Se tomará en cuenta la claridad en la documentación y la organización del notebook.\n",
    "  * **Debe poder ejercutarse el notebook de forma secuencial y que funcione correctamente (no se aceptará la ejercución de celdas en desorden para obtener el resultado deseado).**"
   ]
  },
  {
   "cell_type": "markdown",
   "id": "5dc6431c",
   "metadata": {},
   "source": [
    "---\n",
    "\n",
    "**Ejercicio 1**\n",
    "\n",
    "Escriba un programa que almacene la cadena ¡Hola Mundo! en una variable y luego muestre por pantalla el contenido de la variable.\n",
    "\n",
    "---"
   ]
  },
  {
   "cell_type": "code",
   "execution_count": null,
   "id": "d015115b",
   "metadata": {},
   "outputs": [],
   "source": [
    "# Acá su código"
   ]
  },
  {
   "cell_type": "markdown",
   "id": "9f44cf8d",
   "metadata": {},
   "source": [
    "---\n",
    "\n",
    "**Ejercicio 2**\n",
    "\n",
    "Complete las siguientes variables con su información personal. Deben corresponder a los tipos de datos correctos (por ejemplo, un dato como el peso debería ser un `float` y no un `str`). Después, imprima cada variable\n",
    "\n",
    "---"
   ]
  },
  {
   "cell_type": "code",
   "execution_count": null,
   "id": "5a2ec2a1",
   "metadata": {},
   "outputs": [],
   "source": [
    "mi_edad = # Su edad en años (entero)\n",
    "mi_altura = # Su altura en metros (flotante)\n",
    "me_gusta_programar = # ¿Le gusta programar? (booleano: True o False)\n",
    "mi_nombre = # Su nombre (cadena)\n",
    "\n",
    "# Imprime los valores de las variables para verificar\n",
    "print(\"Mi edad:\", mi_edad)\n",
    "..."
   ]
  },
  {
   "cell_type": "markdown",
   "id": "0a1345c8",
   "metadata": {},
   "source": [
    "---\n",
    "\n",
    "**Ejercicio 3**\n",
    "\n",
    "En un sistema de monitoreo ambiental se utilizan cuatro sensores colocados en posiciones fijas: norte, este, sur y oeste, con lecturas almacenadas en las variables N, E, S y O respectivamente.\n",
    "\n",
    "Por razones operativas, se necesita rotar las lecturas de los sensores de modo que:\n",
    "* La lectura del sensor norte (N) pase a la variable del sensor este (E),\n",
    "* La lectura del sensor este (E) pase a la variable del sensor sur (S),\n",
    "* La lectura del sensor sur (S) pase a la variable del sensor oeste (O),\n",
    "* La lectura del sensor oeste (O) pase a la variable del sensor norte (N).\n",
    "\n",
    "\n",
    "Esto simula un giro horario de las lecturas del sistema.\n",
    "\n",
    "Requisitos del programa:\n",
    "* Dadas las variables N, E, S y O con sus lecturas iniciales, escriba un algoritmo que realice esta rotación de valores.\n",
    "* Solo puede utilizar el operador de asignación (=) para copiar valores entre variables.\n",
    "* Puede crear variables temporales auxiliares si lo necesita.\n",
    "* No está permitido asignar directamente valores constantes ni hacer la rotación manual “duro”, es decir, no se aceptan soluciones que reemplacen las variables con los valores finales sin usar asignaciones entre variables.\n",
    "\n",
    "Ejemplos:\n",
    "| Sensor | Lectura inicial | Lectura después de la rotación |\n",
    "|--------|-----------------|-------------------------------|\n",
    "| N      | 10.5            | 12.1                          |\n",
    "| E      | 7.2             | 10.5                          |\n",
    "| S      | 4.8             | 7.2                           |\n",
    "| O      | 12.1            | 4.8                           |\n",
    "\n",
    "---"
   ]
  },
  {
   "cell_type": "code",
   "execution_count": null,
   "id": "4877940e",
   "metadata": {},
   "outputs": [],
   "source": [
    "N = 8.7\n",
    "E = 2.5\n",
    "S = 3.1\n",
    "O = 1.2\n",
    "\n",
    "# Acá su código"
   ]
  },
  {
   "cell_type": "markdown",
   "id": "17a35025",
   "metadata": {},
   "source": [
    "---\n",
    "\n",
    "**Ejercicio 4**\n",
    "\n",
    "Revise e imprima el tipo de dato de cada uno de estos datos:\n",
    "```python\n",
    "fuerza = \"8.8\"\n",
    "cantidad_de_bacterias = \"90\"\n",
    "son_nuevas_especies = 1\n",
    "marca_del_motor = 392019\n",
    "```\n",
    "\n",
    "Use `type()` para ver los tipos e imprimirlos.\n",
    "\n",
    "Los valores correctos de cada variable deberían ser `fuerza` -> `float`, `cantidad_de_bacterias` -> `int`, `son_nuevas_especies` -> `bool` y `marca_del_motor` -> `str`. Realice una operación de casting para convertirlos a los tipos correctos. Imprima los nuevos tipos por medio de `type()`.\n",
    "\n",
    "---"
   ]
  },
  {
   "cell_type": "code",
   "execution_count": null,
   "id": "dc3765c1",
   "metadata": {},
   "outputs": [],
   "source": [
    "fuerza = \"8.8\"\n",
    "cantidad_de_bacterias = \"90\"\n",
    "son_nuevas_especies = 1\n",
    "marca_del_motor = 392019\n",
    "\n",
    "# Acá su código"
   ]
  },
  {
   "cell_type": "markdown",
   "id": "b92f9e17",
   "metadata": {},
   "source": [
    "---\n",
    "\n",
    "**Ejercicio 5**\n",
    "\n",
    "Escriba un programa en Python, que realice lo siguiente:\n",
    "* Solicite el nombre al usuario del programa\n",
    "* Imprima el mensaje \"Hola\", más el nombre del usuario\n",
    "* Pregunte al usuario el año en que nació\n",
    "* Imprima el mensaje \"Hola\", más el nombre del usuario, \"tienes \", más la edad del usuario.\n",
    "\n",
    "---"
   ]
  },
  {
   "cell_type": "code",
   "execution_count": null,
   "id": "a550420f",
   "metadata": {},
   "outputs": [],
   "source": []
  }
 ],
 "metadata": {
  "language_info": {
   "name": "python"
  }
 },
 "nbformat": 4,
 "nbformat_minor": 5
}
