{
 "cells": [
  {
   "cell_type": "markdown",
   "id": "e27bc9a4",
   "metadata": {},
   "source": [
    "# Principios de Informática: Laboratorio de Tipos de Datos y Variables en Python 🧮\n",
    "### Las piezas fundamentales de cualquier programa\n",
    "\n",
    "**Curso:** Principios de Informática\n",
    "\n",
    "---\n",
    "\n",
    "## Instrucciones 🚧\n",
    "\n",
    "### 1.\tObjetivo\n",
    "  * El objetivo es que usted aplique los conceptos vistos en clase utilizando Python en un entorno interactivo.\n",
    "\n",
    "### 2.\tEjecución\n",
    "  * Lea atentamente cada problema o ejercicio que se le plantee en las celdas de texto (Markdown).\n",
    "  * Escriba su código en las celdas de código justo debajo de cada enunciado.\n",
    "  * Ejecute cada celda para verificar que su código funcione correctamente.\n",
    "  * Puede añadir celdas adicionales si lo considera necesario para dividir el código o realizar pruebas.\n",
    "  * Se le recuerda que está **estrictamente prohibido** utilizar herramientas de inteligencia artificial para hacer sus soluciones. Puede ver cómo desactivar **Gemini** en Colab en este link: [![Desactivar Gemini](https://colab.research.google.com/assets/colab-badge.svg)](https://githubtocolab.com/EnriqueVilchezL/principios_de_info/blob/main/1_fundamentos_de_la_programacion/desactivar_gemini.ipynb).\n",
    "\n",
    "### 3.\tDocumentación\n",
    "  * Si lo considera necesario, utilice celdas de texto (Markdown) para agregar comentarios, explicaciones o respuestas a preguntas.\n",
    "  * Preferiblemente agregue comentarios significativos que ilustren el proceso en el código para hacerlo más claro, usando `#` o `\"\"\"Comentatio acá\"\"\"` en sus celdas de código.\n",
    "  * Organice el notebook de manera clara con títulos, subtítulos y descripciones pertinentes.\n",
    "\n",
    "### 4.\tEntrega\n",
    "  * Guarde su notebook con el nombre `laboratorio_#_carne.ipynb`. Por ejemplo: `laboratorio_01_c18477.ipynb`.\n",
    "  * Descargue el archivo desde Colab (`Archivo` -> `Descargar` > `Descargar .ipynb`).\n",
    "  * Entregue el archivo `.ipynb`. Este laboratorio debe entregarse a través de Mediación Virtual.\n",
    "\n",
    "### 5.\tRecomendaciones\n",
    "  * Ponga comentarios en su código para facilitar su comprensión.\n",
    "  * Utilice nombres claros y significativos para variables y funciones.\n",
    "  * Verifique que todas las celdas se ejecuten sin errores.\n",
    "  * Mantenga el notebook organizado y bien documentado.\n",
    "  * No dude en consultar en caso de dudas o dificultades.\n",
    "\n",
    "### 6.\tEvaluación\n",
    "  * Se evaluará que el código funcione correctamente y resuelva los problemas planteados.\n",
    "  * Se tomará en cuenta la claridad en la documentación y la organización del notebook.\n",
    "  * Se tomará en cuenta la nomenclatura de variables y funciones creadas. Estos nombres **deben** ser significativos. Por ejemplo, en vez de nombrar una variable `a`, nombrela con algo que represente su significado, como `nombre`, `edad_de_persona`, etc. Esto se exceptúa en los ejercicios en donde el mismo enunciado nombra las variables que se deben usar.\n",
    "  * **Debe poder ejecutarse el notebook de forma secuencial y que funcione correctamente (no se aceptará la ejecución de celdas en desorden para obtener el resultado deseado).**\n",
    "  * Cada ejercicio debe resolverse de manera **independiente**. Puede usar los mismos nombres de variables o funciones en distintos ejercicios, pero los valores de las variables (o resultados previos) **no se pueden reutilizar entre ejercicios salvo que se indique lo contrario en el enunciado del ejercicio**.\n",
    "\n",
    "#### Ejemplo de independencia entre ejercicios\n",
    "\n",
    "Lo incorrecto 🚫: \n",
    "\n",
    "| Ejercicio | Código | Comentario |\n",
    "|------------|-----------|--------|\n",
    "| 1 | x = 10<br>y = 5<br>suma = x + y<br>print(suma) | Calcula la suma correctamente |\n",
    "| 2 | doble = suma * 2<br>print(doble) | Reutiliza 'suma' del ejercicio 1, lo cual **no está permitido** |\n",
    "\n",
    "Lo correcto ✅:\n",
    "\n",
    "| Ejercicio | Código | Comentario |\n",
    "|------------|-----------|--------|\n",
    "| 1 | x = 10<br>y = 5<br>suma = x + y<br>print(suma) | Calcula la suma correctamente |\n",
    "| 2 | suma = 7 + 3<br>doble = suma * 2<br>print(doble) | No eutiliza 'suma' del ejercicio 1. Cada ejercicio se resuelve de manera independiente |"
   ]
  },
  {
   "cell_type": "markdown",
   "id": "0a1345c8",
   "metadata": {},
   "source": [
    "---\n",
    "\n",
    "**Ejercicio 1**\n",
    "\n",
    "En un sistema de monitoreo ambiental se utilizan cuatro sensores colocados en posiciones fijas: norte, este, sur y oeste, con lecturas almacenadas en las variables `N`, `E`, `S` y `O` respectivamente.\n",
    "\n",
    "Por razones operativas, se necesita rotar los valores de las lecturas de los sensores de modo que:\n",
    "* El valor del sensor norte (`N`) pase a la variable del sensor este (`E`),\n",
    "* El valor del sensor este (`E`) pase a la variable del sensor sur (`S`),\n",
    "* El valor del sensor sur (`S`) pase a la variable del sensor oeste (`O`),\n",
    "* El valor del sensor oeste (`O`) pase a la variable del sensor norte (`N`).\n",
    "\n",
    "Esto simula un giro horario de las lecturas del sistema.\n",
    "\n",
    "Requisitos del programa:\n",
    "* Dadas las variables `N`, `E`, `S` y `O` con sus valores iniciales, escriba un algoritmo que intercambie estos valores.\n",
    "* Solo puede utilizar el operador de asignación (=) para copiar valores entre variables.\n",
    "* Puede crear variables temporales auxiliares si lo necesita.\n",
    "* No está permitido asignar directamente valores constantes ni hacer la rotación manual, es decir, no se aceptan soluciones que reemplacen las variables con los valores finales sin usar asignaciones entre variables.\n",
    "\n",
    "Ejemplos:\n",
    "\n",
    "| Sensor | Lectura inicial | Lectura después de la rotación |\n",
    "|--------|-----------------|-------------------------------|\n",
    "| N      | 10.5            | 12.1                          |\n",
    "| E      | 7.2             | 10.5                          |\n",
    "| S      | 4.8             | 7.2                           |\n",
    "| O      | 12.1            | 4.8                           |\n",
    "\n",
    "---"
   ]
  },
  {
   "cell_type": "code",
   "execution_count": null,
   "id": "4877940e",
   "metadata": {},
   "outputs": [],
   "source": [
    "N = 8.7\n",
    "E = 2.5\n",
    "S = 3.1\n",
    "O = 1.2\n",
    "\n",
    "# Acá su código"
   ]
  },
  {
   "cell_type": "markdown",
   "id": "17a35025",
   "metadata": {},
   "source": [
    "---\n",
    "\n",
    "**Ejercicio 2**\n",
    "\n",
    "Revise e imprima el tipo de dato de cada uno de estos datos:\n",
    "```python\n",
    "fuerza = \"8.8\"\n",
    "cantidad_de_bacterias = \"90\"\n",
    "son_nuevas_especies = 1\n",
    "marca_del_motor = 392019\n",
    "```\n",
    "\n",
    "Use `type()` para ver los tipos e imprimirlos.\n",
    "\n",
    "Los valores correctos de cada variable deberían ser `fuerza` -> `float`, `cantidad_de_bacterias` -> `int`, `son_nuevas_especies` -> `bool` y `marca_del_motor` -> `str`. Realice una operación de `casting` para convertirlos a los tipos correctos. Imprima los nuevos tipos por medio de `type()`.\n",
    "\n",
    "Su programa debería imprimir exactamente lo siguiente:\n",
    "```txt\n",
    "La variable \"fuerza\" original es 8.8, y su tipo es <class 'str'>\n",
    "La variable \"cantidad_de_bacterias\" original es 90, y su tipo es <class 'str'>\n",
    "La variable \"son_nuevas_especies\" original es 1, y su tipo es <class 'int'>\n",
    "La variable \"marca_del_motor\" original es 392019, y su tipo es <class 'int'>\n",
    "\n",
    "La variable \"fuerza\" modificada es 8.8, y su tipo es <class 'float'>\n",
    "La variable \"cantidad_de_bacterias\" modificada es 90, y su tipo es <class 'int'>\n",
    "La variable \"son_nuevas_especies\" modificada es True, y su tipo es <class 'bool'>\n",
    "La variable \"marca_del_motor\" modificada es 392019, y su tipo es <class 'str'>\n",
    "```\n",
    "\n",
    "**Sugerencia**: Utilice las comillas simples (') para definir sus hileras para mostrar los mensajes. Esto permite utilizar el caracter de doble comillas (\") como parte del mensaje. Por ejemplo, formatee sus mensajes haciendo el str con comillas simples, como `'La variable \"fuerza\" original es ...'`, en vez de hacer `\"La variable \"fuerza\" original es ...\"`, pues esto daría un conflicto con las comillas dobles en \"fuerza\".\n",
    "\n",
    "---"
   ]
  },
  {
   "cell_type": "code",
   "execution_count": null,
   "id": "dc3765c1",
   "metadata": {},
   "outputs": [],
   "source": [
    "fuerza = \"8.8\"\n",
    "cantidad_de_bacterias = \"90\"\n",
    "son_nuevas_especies = 1\n",
    "marca_del_motor = 392019\n",
    "\n",
    "# Acá su código"
   ]
  },
  {
   "cell_type": "markdown",
   "id": "b92f9e17",
   "metadata": {},
   "source": [
    "---\n",
    "\n",
    "**Ejercicio 3**\n",
    "\n",
    "Escriba un programa en Python que haga lo siguiente:\n",
    "\n",
    "1. Solicite al usuario su **nombre completo**.  \n",
    "2. Salude al usuario con un mensaje personalizado, por ejemplo: `¡Hola, [Nombre]! ¿Cómo estas?`.\n",
    "3. Pregunte al usuario su **peso en kilogramos** y **altura en metros**.  \n",
    "4. Imprima este mensaje usando las variables correspondientes: `Ya veo, [Nombre]... Pesas [kilogramos] kg y mides [altura] m`.\n",
    "\n",
    "---"
   ]
  },
  {
   "cell_type": "code",
   "execution_count": null,
   "id": "a550420f",
   "metadata": {},
   "outputs": [],
   "source": [
    "# Acá su código"
   ]
  },
  {
   "cell_type": "markdown",
   "id": "7a9aa4e0",
   "metadata": {},
   "source": [
    "---\n",
    "\n",
    "**Ejercicio 4**\n",
    "\n",
    "Escriba un programa que solicite al usuario ingresar la cantidad de kilómetros recorridos por una motocicleta y la cantidad de litros de combustible que se queman por kilómetro. El programa debe calcular la cantidad total de litros de combustible que la motocicleta gastó, y mostrarlo en pantalla.\n",
    "\n",
    "Por ejemplo:\n",
    "\n",
    "| Kilómetros | Litros por kilómetro | Litros gastados |\n",
    "|--------|-----------------|-------------------------------|\n",
    "| 20      |   3          | 60                          |\n",
    "| 87      | 1             | 87                          |\n",
    "| 24      | 10             | 240                           |\n",
    "| 2.4      | 12.1            | 29.04                           |\n",
    "\n",
    "Recordatorio: Puede usar el operador `*` para hacer multiplicaciones entre números.\n",
    "\n",
    "---"
   ]
  },
  {
   "cell_type": "code",
   "execution_count": null,
   "id": "211037a1",
   "metadata": {},
   "outputs": [],
   "source": [
    "# Acá su código"
   ]
  },
  {
   "cell_type": "markdown",
   "id": "c31bd5d6",
   "metadata": {},
   "source": [
    "---\n",
    "\n",
    "**Ejercicio 5**\n",
    "\n",
    "Escriba un programa que solicite al usuario el ingreso de dos palabras, las cuales se guardarán en dos variables distintas. A continuación, invierta el orden de los caracteres de ambas palabras y luego concaténelas usando un espacio.\n",
    "\n",
    "Por ejemplo, su programa debería imprimir los siguiente si el usuario ingresa las cadenas `oma` y `ramargorp`:\n",
    "\n",
    "```txt\n",
    "Cadena 1: oma\n",
    "Cadena 2: ramargorp\n",
    "\n",
    "Cadena 1 invertida: amo\n",
    "Cadena 2 invertida: programar\n",
    "\n",
    "Cadenas concatenadas: amo programar\n",
    "```\n",
    "\n",
    "---"
   ]
  },
  {
   "cell_type": "code",
   "execution_count": null,
   "id": "316663fe",
   "metadata": {},
   "outputs": [],
   "source": [
    "# Acá su código"
   ]
  },
  {
   "cell_type": "markdown",
   "id": "d4ece1f5",
   "metadata": {},
   "source": [
    "---\n",
    "\n",
    "**Ejercicio 6**\n",
    "\n",
    "\n",
    "Escriba un programa que le solicite al usuario ingresar una fecha formada por 8 números, donde los primeros dos representan el día, los siguientes dos el mes y los últimos cuatro el año (DDMMAAAA). Separe los valores en distintas variables (una para el día, otra para el mes y otra para el año). Muestre al usuario la fecha con el formato DD / MM / AAAA.\n",
    "\n",
    "Por ejemplo, si la entrada original es `21082025`, su programa debe imprimir `21 / 08 / 2025`.\n",
    "\n",
    "---"
   ]
  },
  {
   "cell_type": "code",
   "execution_count": null,
   "id": "1f7e9e4d",
   "metadata": {},
   "outputs": [],
   "source": [
    "# Acá su código"
   ]
  }
 ],
 "metadata": {
  "language_info": {
   "name": "python"
  }
 },
 "nbformat": 4,
 "nbformat_minor": 5
}
