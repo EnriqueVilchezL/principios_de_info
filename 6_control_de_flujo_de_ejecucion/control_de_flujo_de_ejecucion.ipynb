{
 "cells": [
  {
   "cell_type": "markdown",
   "id": "99bff469",
   "metadata": {},
   "source": [
    "# Principios de Informática: Control de Flujo de Ejecución 🚦\n",
    "\n",
    "### Dándole a un programa la capacidad de decidir y repetir\n",
    "\n",
    "**Curso:** Principios de Informática\n",
    "\n",
    "[![Open In Colab](https://colab.research.google.com/assets/colab-badge.svg)](https://githubtocolab.com/EnriqueVilchezL/principios_de_info/blob/main/6_control_de_flujo_de_ejecucion/control_de_flujo_de_ejecucion.ipynb)\n",
    "\n",
    "---\n",
    "\n",
    "## 🗺️ Objetivos y contenidos\n",
    "\n",
    "Este notebook es una guía interactiva para entender la ejecución secuencial y los bloques de instrucciones en Python, utilizar estructuras condicionales (`if`, `elif`, `else`) para tomar decisiones, aplicar ciclos (`while`, `for`) para repetir acciones de manera controlada, comprender y usar las instrucciones `break`, `continue` y `else` en ciclos, utilizar la estructura `match-case` (switch) para múltiples opciones (Python 3.10+), y manejar errores y excepciones con `try...except`.\n",
    "\n",
    "> \"Detectar y corregir errores es una habilidad esencial para cualquier programador.\"\n",
    "\n",
    "**Importancia:**\n",
    "- El control de flujo permite que los programas sean inteligentes y flexibles.\n",
    "- Los ciclos y condicionales son la base de la lógica algorítmica.\n",
    "- El manejo de errores hace que los programas sean robustos y confiables.\n",
    "\n",
    "**Contenidos:**\n",
    "1. Secuencias de instrucciones\n",
    "2. Bloques de instrucciones\n",
    "3. Estructuras condicionales\n",
    "4. Ciclos y control de iteraciones\n",
    "5. Manejo de excepciones"
   ]
  },
  {
   "cell_type": "markdown",
   "id": "4d8c6356",
   "metadata": {},
   "source": [
    "---\n",
    "\n",
    "## 1. Secuencia de Instrucciones\n",
    "\n",
    "---\n",
    "\n",
    "Por defecto, un programa en Python se ejecuta de forma **secuencial**: de arriba hacia abajo, una línea a la vez. Es como leer un libro, página por página.\n",
    "\n",
    "---"
   ]
  },
  {
   "cell_type": "code",
   "execution_count": null,
   "id": "9873457a",
   "metadata": {},
   "outputs": [],
   "source": [
    "# Ejemplo de secuencia\n",
    "print(\"Paso 1: Iniciar proceso.\")\n",
    "print(\"Paso 2: Realizar cálculo.\")\n",
    "print(\"Paso 3: Finalizar proceso.\")"
   ]
  },
  {
   "cell_type": "markdown",
   "id": "cee54e64",
   "metadata": {},
   "source": [
    "---\n",
    "\n",
    "## 2. Bloques de Instrucciones\n",
    "\n",
    "---\n",
    "\n",
    "En Python, no usamos `{}` como en otros lenguajes para agrupar código. Usamos la **indentación** (el espacio al inicio de una línea, usualmente 4 espacios o una tabulación).\n",
    "\n",
    "Un **bloque** es un grupo de instrucciones que pertenecen a una estructura de control (como un `if` o un `for`). ¡La indentación es crucial y **no opcional**!\n",
    "\n",
    "`Estructura de control`: => Inicia el bloque  \n",
    "```python\n",
    "     instruccion_1  \n",
    "     instruccion_2 \n",
    "``` \n",
    "`instruccion_fuera_del_bloque` => Esta ya no pertenece al bloque\n",
    "\n",
    "**EN GENERAL**: Cuando se inicia un bloque de código con nueva indentación, se pone \":\" después de la instrucción de control de flujo.\n"
   ]
  },
  {
   "cell_type": "code",
   "execution_count": null,
   "id": "4af1f0e7",
   "metadata": {},
   "outputs": [],
   "source": [
    "# Ejemplo de bloque de instrucciones con if\n",
    "x = 5\n",
    "\n",
    "if x > 0:\n",
    "    print(\"x es positivo\")\n",
    "    print(\"Este mensaje también está dentro del bloque\")\n",
    "\n",
    "print(\"Este mensaje está fuera del bloque\")"
   ]
  },
  {
   "cell_type": "markdown",
   "id": "f945835d",
   "metadata": {},
   "source": [
    "---\n",
    "\n",
    "## 3. Estructuras Condicionales\n",
    "\n",
    "---\n",
    "\n",
    "Permiten que un programa ejecute ciertos bloques de código **solo si** se cumple una condición."
   ]
  },
  {
   "cell_type": "markdown",
   "id": "7ecfa93a",
   "metadata": {},
   "source": [
    "### `if`: La Decisión Simple\n",
    "\n",
    "El `if` (si) evalúa una condición. Si la condición es `True`, ejecuta el bloque de código indentado. Si es `False`, lo salta.\n",
    "\n",
    "La sintaxis es:\n",
    "\n",
    "```python\n",
    "if (condición):\n",
    "    [código si se cumple]\n",
    "\n",
    "[código que sigue]\n",
    "```\n",
    "\n",
    "\n",
    "**Analogía:** Si `está lloviendo`, `entonces llevo paraguas`.\n",
    "\n",
    "---"
   ]
  },
  {
   "cell_type": "code",
   "execution_count": null,
   "id": "da136501",
   "metadata": {},
   "outputs": [],
   "source": [
    "# Si la temperatura es mayor a 30...\n",
    "temp = 32.5\n",
    "if temp > 30:\n",
    "    # ...este bloque se ejecuta.\n",
    "    print(\"¡Hace mucho calor!\")\n",
    "    \n",
    "print(\"Fin de la verificación.\")  # Esta línea siempre se ejecuta"
   ]
  },
  {
   "cell_type": "code",
   "execution_count": null,
   "id": "04408de5",
   "metadata": {},
   "outputs": [],
   "source": [
    "temp = 25.0\n",
    "if temp > 30:\n",
    "    print(\"¡Hace mucho calor!\")\n",
    "\n",
    "print(\"Fin de la verificación.\")"
   ]
  },
  {
   "cell_type": "markdown",
   "id": "507d2405",
   "metadata": {},
   "source": [
    "### `if-else`: El Plan B\n",
    "\n",
    "El `else` (si no) nos da un camino alternativo. Si la condición del `if` es `False`, se ejecuta el bloque del `else`.\n",
    "\n",
    "La sintaxis es:\n",
    "\n",
    "```python\n",
    "if (condición):\n",
    "    [código si se cumple]\n",
    "else:\n",
    "    [código si no se cumple]\n",
    "    \n",
    "[código que sigue]\n",
    "```\n",
    "\n",
    "\n",
    "**Analogía:** Si `tengo efectivo`, `pago con efectivo`. Si no, `pago con tarjeta`.\n",
    "\n",
    "---"
   ]
  },
  {
   "cell_type": "code",
   "execution_count": null,
   "id": "b5df1376",
   "metadata": {},
   "outputs": [],
   "source": [
    "edad = 20\n",
    "if edad >= 18:\n",
    "    print(\"Puedes votar.\")\n",
    "else:\n",
    "    print(\"Aún no puedes votar.\")"
   ]
  },
  {
   "cell_type": "code",
   "execution_count": null,
   "id": "a2794b72",
   "metadata": {},
   "outputs": [],
   "source": [
    "edad = 16\n",
    "if edad >= 18:\n",
    "    print(\"Puedes votar.\")\n",
    "else:\n",
    "    print(\"Aún no puedes votar.\")"
   ]
  },
  {
   "cell_type": "markdown",
   "id": "5eabd53b",
   "metadata": {},
   "source": [
    "#### ⁉️ Ejercicio: Adivinanza\n",
    "\n",
    "Observe el siguiente código y determine cuál es la salida esperada sin ejecutarlo:\n",
    "\n",
    "```python\n",
    "a = 1\n",
    "b = 1\n",
    "\n",
    "if (b % 2 == 1) or not (a < 5) and (b + 7 >= 8):\n",
    "    print(\"OPCION 1\")\n",
    "else:\n",
    "    print(\"OPCION 2\")\n",
    "```\n",
    "\n",
    "Seleccione una de las siguientes opciones:\n",
    "\n",
    "1. Escribe OPCION 1.\n",
    "2. Escribe OPCION 2.\n",
    "3. No escribe nada.\n",
    "4. Origina un error durante la ejecución.\n",
    "\n",
    "---"
   ]
  },
  {
   "cell_type": "code",
   "execution_count": null,
   "id": "f2c7a6ad",
   "metadata": {},
   "outputs": [],
   "source": [
    "a = 3\n",
    "b = 6\n",
    "\n",
    "if not (b % 2 == 0) or (a < 5) and (b + 7 <= 8):\n",
    "    print(\"A\")\n",
    "else:\n",
    "    print(\"B\")"
   ]
  },
  {
   "cell_type": "markdown",
   "id": "ab38f52a",
   "metadata": {},
   "source": [
    "### `if-elif-else`: Múltiples Caminos\n",
    "\n",
    "El `elif` (contracción de 'else if') nos permite encadenar múltiples condiciones. Python las revisa en orden y ejecuta el bloque de la **primera** que sea `True`. Si ninguna lo es, ejecuta el `else` (si existe).\n",
    "\n",
    "La sintaxis es:\n",
    "\n",
    "```python\n",
    "if (condición):\n",
    "    [código si se cumple]\n",
    "\n",
    "elif (otra condición):\n",
    "    [código si se cumple la otra condición]\n",
    "    \n",
    "else:\n",
    "    [código si no se cumple ninguna]\n",
    "    \n",
    "[código que sigue]\n",
    "```\n",
    "\n",
    "---"
   ]
  },
  {
   "cell_type": "code",
   "execution_count": null,
   "id": "ae790cbf",
   "metadata": {},
   "outputs": [],
   "source": [
    "edad = int(input(\"Ingresa tu edad: \"))\n",
    "\n",
    "if edad < 18:\n",
    "    print(\"Aún no puedes votar :(\")\n",
    "elif edad == 18:\n",
    "    print(\"Ya puedes votar :D\")\n",
    "else:\n",
    "    print(\"Puedes votar :)\")"
   ]
  },
  {
   "cell_type": "markdown",
   "id": "4c09ad6b",
   "metadata": {},
   "source": [
    "Esto es equivalente a hacer varios `if`-`else` anidados. **Anidar** es poner una significa colocar una estructura dentro de otra."
   ]
  },
  {
   "cell_type": "code",
   "execution_count": null,
   "id": "5e66892d",
   "metadata": {},
   "outputs": [],
   "source": [
    "edad = int(input(\"Ingresa tu edad: \"))\n",
    "\n",
    "if edad < 18:\n",
    "    print(\"Aún no puedes votar :(\")\n",
    "else:\n",
    "    if edad == 18:\n",
    "        print(\"Ya puedes votar :D\")\n",
    "    else:\n",
    "        print(\"Puedes votar :)\")"
   ]
  },
  {
   "cell_type": "markdown",
   "id": "c120e5fe",
   "metadata": {},
   "source": [
    "### Operador ternario\n",
    "\n",
    "El **operador ternario** en Python permite escribir una condición simple en una sola línea, haciendo el código más compacto y legible.\n",
    "\n",
    "La sintaxis es:\n",
    "\n",
    "```python\n",
    "[código si se cumple] if (condición) else [código si no se cumple]\n",
    "```\n",
    "\n",
    "**Ejemplo:**\n",
    "\n",
    "Supongamos que queremos asignar el mensaje \"Mayor de edad\" si la variable `edad` es mayor o igual a 18, y \"Menor de edad\" en caso contrario.\n",
    "\n",
    "---\n"
   ]
  },
  {
   "cell_type": "code",
   "execution_count": null,
   "id": "7849f523",
   "metadata": {},
   "outputs": [],
   "source": [
    "edad = 20\n",
    "mensaje = \"Mayor de edad\" if edad >= 18 else \"Menor de edad\"\n",
    "print(mensaje)  # Imprime: Mayor de edad"
   ]
  },
  {
   "cell_type": "markdown",
   "id": "d5345e0e",
   "metadata": {},
   "source": [
    "Esto es equivalente a:"
   ]
  },
  {
   "cell_type": "code",
   "execution_count": null,
   "id": "3d1720a1",
   "metadata": {},
   "outputs": [],
   "source": [
    "edad = 20\n",
    "\n",
    "if edad >= 18:\n",
    "    mensaje = \"Mayor de edad\"\n",
    "else:\n",
    "    mensaje = \"Menor de edad\"\n",
    "\n",
    "print(mensaje)  # Imprime: Mayor de edad"
   ]
  },
  {
   "cell_type": "markdown",
   "id": "6cd362c4",
   "metadata": {},
   "source": [
    "El operador ternario es útil para asignaciones o expresiones simples, pero para lógica más compleja es mejor usar estructuras condicionales tradicionales.\n",
    "\n",
    "---"
   ]
  },
  {
   "cell_type": "markdown",
   "id": "555207bf",
   "metadata": {},
   "source": [
    "#### 🔠 Ejercicio: Calificación con Letras\n",
    "\n",
    "Crear un programa que reciba una nota de 0 a 100 de entrada y muestre la letra correspondiente:\n",
    "\n",
    "  * 90-100: 'A'\n",
    "  * 80-89: 'B'\n",
    "  * 70-79: 'C'\n",
    "  * Menor a 70: 'F'\n",
    "\n",
    "---"
   ]
  },
  {
   "cell_type": "code",
   "execution_count": null,
   "id": "0330683f",
   "metadata": {},
   "outputs": [],
   "source": [
    "nota = int(input(\"Ingresa tu nota:\"))\n",
    "\n",
    "if nota >= 90:\n",
    "    calificacion = 'A'\n",
    "elif nota >= 80:\n",
    "    calificacion = 'B'\n",
    "elif nota >= 70:\n",
    "    calificacion = 'C'\n",
    "else:\n",
    "    calificacion = 'F'\n",
    "print(f'Una nota de {nota} es: {calificacion}')"
   ]
  },
  {
   "cell_type": "markdown",
   "id": "c81aaf4b",
   "metadata": {},
   "source": [
    "### Estructura `switch` (match-case) en Python\n",
    "\n",
    "En otros lenguajes existe la estructura `switch` para comparar una variable contra varios valores posibles. En Python, a partir de la versión 3.10, se puede usar `match-case` para lograr algo similar.\n",
    "\n",
    "La sintaxis es:\n",
    "\n",
    "```python\n",
    "match variable:\n",
    "    case valor1:\n",
    "        [código si variable == valor1]\n",
    "\n",
    "    case valor2:\n",
    "        [código si variable == valor2]\n",
    "\n",
    "    case _:\n",
    "        [código por defecto (similar a else)]\n",
    "```\n",
    "\n",
    "Se compara el valor exacto de la variable con cada `case`.\n",
    "\n",
    "**Ejemplo:** Selección de día de la semana usando `match-case`.\n",
    "\n",
    "---"
   ]
  },
  {
   "cell_type": "code",
   "execution_count": null,
   "id": "b25b97e0",
   "metadata": {},
   "outputs": [],
   "source": [
    "# Ejemplo de match-case (switch)\n",
    "dia = \"lunes\"\n",
    "match dia:\n",
    "    case \"lunes\":\n",
    "        print(\"Es lunes, inicio de semana\")\n",
    "    case \"viernes\":\n",
    "        print(\"Es viernes, casi fin de semana\")\n",
    "    case \"sábado\" | \"domingo\":  # Sábado o domingo\n",
    "        print(\"Es fin de semana\")\n",
    "    case _ :\n",
    "        print(\"Es un día entre semana\")"
   ]
  },
  {
   "cell_type": "markdown",
   "id": "936df4ce",
   "metadata": {},
   "source": [
    "Esto es equivalente a usar una estructura `if`-`elif`-`else` varias veces con el operador `==`."
   ]
  },
  {
   "cell_type": "code",
   "execution_count": null,
   "id": "13513e69",
   "metadata": {},
   "outputs": [],
   "source": [
    "# Ejemplo de match-case (switch) con if elif else\n",
    "dia = \"lunes\"\n",
    "if dia == \"lunes\":\n",
    "    print(\"Es lunes, inicio de semana\")\n",
    "elif dia == \"viernes\":\n",
    "    print(\"Es viernes, casi fin de semana\")\n",
    "elif dia == \"sábado\" or dia == \"domingo\":\n",
    "    print(\"Es fin de semana\")\n",
    "else:\n",
    "    print(\"Es un día entre semana\")"
   ]
  },
  {
   "cell_type": "markdown",
   "id": "0c5645f0",
   "metadata": {},
   "source": [
    "#### ✏️ Ejercicio: Menú de opciones\n",
    "\n",
    "Crear un programa que muestre un menú simple (por ejemplo: 1. Sumar, 2. Restar, 3. Salir) y usar `match-case` para ejecutar la acción correspondiente según la opción elegida por el usuario.\n",
    "\n",
    "Haga que su programa sea resistente a errores de ejecución. Además, valide que sea una opción válida ingresada por el usuario. En caso de que sea una opción no disponible, muestre un mensaje indicándolo.\n",
    "\n",
    "---"
   ]
  },
  {
   "cell_type": "code",
   "execution_count": null,
   "id": "d5206f90",
   "metadata": {},
   "outputs": [],
   "source": [
    "# Solución: Menú de opciones con match-case (Python 3.10+)\n",
    "opcion = input(\"Elige una opción (1. Sumar, 2. Restar, 3. Salir): \")\n",
    "\n",
    "match opcion:\n",
    "    case \"1\":\n",
    "        try:\n",
    "            a = float(input(\"Ingrese el primer número: \"))\n",
    "            b = float(input(\"Ingrese el segundo número: \"))\n",
    "            print(f\"La suma es: {a + b}\")\n",
    "        except ValueError:\n",
    "            print(\"Error: Entrada no válida.\")\n",
    "\n",
    "    case \"2\":\n",
    "        try:\n",
    "            a = float(input(\"Ingrese el primer número: \"))\n",
    "            b = float(input(\"Ingrese el segundo número: \"))\n",
    "            print(f\"La resta es: {a - b}\")\n",
    "        except ValueError:\n",
    "            print(\"Error: Entrada no válida.\")\n",
    "            \n",
    "    case \"3\":\n",
    "        print(\"Saliendo del programa...\")\n",
    "    case _ :\n",
    "        print(\"Opción no válida\")"
   ]
  },
  {
   "cell_type": "markdown",
   "id": "d7bc7039",
   "metadata": {},
   "source": [
    "---\n",
    "\n",
    "## 4. Ciclos por condición, por contador y por colección\n",
    "\n",
    "---\n",
    "\n",
    "Muchas veces, se quiere evitar trabajo repetitivo, poniendo varias veces la misma línea. Para evitar repetir esas líneas manualmente, se usan **ciclos**.\n",
    "\n",
    "**¿Qué significa *iterar*?**\n",
    "*Iterar* es repetir varias veces un proceso con el objetivo de llegar a un objetivo deseado.\n",
    "\n",
    "**¿Qué es una *iteración*?**\n",
    "Una *iteración* es cada repetición individual del ciclo, es decir, cada vez que el bloque de código dentro del ciclo se ejecuta para un elemento diferente. Son los *pasos* de un ciclo.\n",
    "\n",
    "**Ejemplo**: Suponga que le piden imprimir todos los números del 1 al 100.\n",
    "\n",
    "---"
   ]
  },
  {
   "cell_type": "code",
   "execution_count": null,
   "id": "06e05986",
   "metadata": {},
   "outputs": [],
   "source": [
    "print(1)\n",
    "print(2)\n",
    "print(3)\n",
    "print(4)\n",
    "print(5)\n",
    "print(6)\n",
    "print(7)\n",
    "# ...\n",
    "print(100)  # Imprime hasta el 100"
   ]
  },
  {
   "cell_type": "markdown",
   "id": "2ee9b03a",
   "metadata": {},
   "source": [
    "> Para no hacer esto 100 veces manualmente, se usan los **ciclos**. Estos permiten **repetir** cierta cantidad de veces un bloque de código.\n",
    "\n",
    "---"
   ]
  },
  {
   "cell_type": "markdown",
   "id": "1cd40d48",
   "metadata": {},
   "source": [
    "### Ciclo `while`: Repetir mientras se cumpla una condición\n",
    "\n",
    "El bucle `while` (mientras) ejecuta un bloque de código repetidamente **mientras** su condición sea `True`.\n",
    "\n",
    "La sintaxis es:\n",
    "\n",
    "```python\n",
    "while (condición):\n",
    "    [código si se cumple]  # Este código se repite hasta que la condición sea `False`.\n",
    "\n",
    "[código que sigue]\n",
    "```\n",
    "\n",
    "**Peligro:** ¡Cuidado con los bucles infinitos! Hay que asegurarse de que la condición eventualmente se vuelva `False`.\n",
    "\n",
    "---"
   ]
  },
  {
   "cell_type": "code",
   "execution_count": null,
   "id": "73d4a176",
   "metadata": {},
   "outputs": [],
   "source": [
    "contador = 0\n",
    "\n",
    "while contador < 3:\n",
    "    print('Contador vale', contador)\n",
    "    contador += 1\n",
    "\n",
    "print('Fin del ciclo while')"
   ]
  },
  {
   "cell_type": "markdown",
   "id": "c7f2df65",
   "metadata": {},
   "source": [
    "Esto es quivalente a ejecutar manualmente el bloque interno 3 veces:"
   ]
  },
  {
   "cell_type": "code",
   "execution_count": null,
   "id": "eb386cef",
   "metadata": {},
   "outputs": [],
   "source": [
    "contador = 0\n",
    "\n",
    "print('Contador vale', contador)\n",
    "contador += 1\n",
    "\n",
    "print('Contador vale', contador)\n",
    "contador += 1\n",
    "\n",
    "print('Contador vale', contador)\n",
    "contador += 1"
   ]
  },
  {
   "cell_type": "markdown",
   "id": "91ec52ff",
   "metadata": {},
   "source": [
    "Si un ciclo empieza con una condición de `False`, nunca se va a ejecutar."
   ]
  },
  {
   "cell_type": "code",
   "execution_count": null,
   "id": "96721fce",
   "metadata": {},
   "outputs": [],
   "source": [
    "while False:\n",
    "    print('Nunca se ejecuta')"
   ]
  },
  {
   "cell_type": "markdown",
   "id": "f792f48e",
   "metadata": {},
   "source": [
    "#### ♾️ Ejercicio: ¿Infinito?\n",
    "\n",
    "El siguiente código presenta un bucle infinito (nunca termina). Existe un error lógico que está causando el problema. Determine dónde está el problema e indique cómo corregirlo. Intente no ejecutar el código para detectar el error.\n",
    "\n",
    "```python\n",
    "contador = 0\n",
    "\n",
    "# Queremos que el bucle termine cuando contador llegue a 5\n",
    "while contador < 5:\n",
    "    print(\"Contador:\", contador)\n",
    "```\n",
    "\n",
    "---"
   ]
  },
  {
   "cell_type": "code",
   "execution_count": null,
   "id": "cbe63698",
   "metadata": {},
   "outputs": [],
   "source": [
    "contador = 0\n",
    "\n",
    "while contador < 5:\n",
    "    print(\"Contador:\", contador)\n",
    "    contador += 1  # Incrementar el contador"
   ]
  },
  {
   "cell_type": "markdown",
   "id": "c3725ca3",
   "metadata": {},
   "source": [
    "#### `break`: salir inmediatamente de un ciclo\n",
    "\n",
    "La instrucción `break` se usa dentro de un ciclo (`while` o `for`) para terminarlo inmediatamente, sin importar si la condición del ciclo todavía es verdadera. Es útil cuando encontramos lo que buscamos o ya no tiene sentido seguir repitiendo.\n",
    "\n",
    "**Ejemplo:** Encontrar el primer múltiplo de 7 en el rango de 10 a 30:\n",
    "\n",
    "---"
   ]
  },
  {
   "cell_type": "code",
   "execution_count": null,
   "id": "abe8ee6f",
   "metadata": {},
   "outputs": [],
   "source": [
    "n = 10\n",
    "while n <= 30:\n",
    "    if n % 7 == 0:\n",
    "        print(f'El primer múltiplo de 7 en el rango es: {n}')\n",
    "        break\n",
    "    print(f'{n} no es múltiplo de 7')\n",
    "    n += 1"
   ]
  },
  {
   "cell_type": "markdown",
   "id": "a1fad7b3",
   "metadata": {},
   "source": [
    "**Nota:** Aunque `break` es útil, abusar de él puede hacer que el código sea difícil de leer y entender, porque el ciclo termina en un punto inesperado. Siempre que sea posible, es mejor diseñar la condición del ciclo para que termine de forma natural, es decir, cuando la condición del `while` o el rango del `for` ya no se cumple. Así el flujo del programa es más claro y predecible.\n",
    "\n",
    "**Para efectos del curso, está prohibido utilizar la palabra reservada `break` en cualquier evaluación o ejercicio, a menos que se diga lo contrario explícitamente**.\n",
    "\n",
    "---"
   ]
  },
  {
   "cell_type": "markdown",
   "id": "13d09b39",
   "metadata": {},
   "source": [
    "#### ⛓️‍💥 Ejercicio: Sin romper el ciclo\n",
    "\n",
    "Crea un programa que encuentre el primer múltiplo de 7 en el rango de 10 a 30. Salga del ciclo antes al encontrar el primer múltiplo, SIN usar `break`.\n",
    "\n",
    "---"
   ]
  },
  {
   "cell_type": "code",
   "execution_count": null,
   "id": "31284fdf",
   "metadata": {},
   "outputs": [],
   "source": [
    "n = 10\n",
    "encontrado = False\n",
    "while n <= 30 and not encontrado:\n",
    "    if n % 7 == 0:\n",
    "        print(f'El primer múltiplo de 7 en el rango es: {n}')\n",
    "        encontrado = True\n",
    "    else:\n",
    "        print(f'{n} no es múltiplo de 7')\n",
    "    n += 1"
   ]
  },
  {
   "cell_type": "markdown",
   "id": "d4f15a61",
   "metadata": {},
   "source": [
    "Python tiene una particularidad: permite usar un bloque `else` después de un ciclo. El bloque `else` se ejecuta solo si el ciclo termina de manera \"natural\" (es decir, no por un break)."
   ]
  },
  {
   "cell_type": "code",
   "execution_count": null,
   "id": "80984c27",
   "metadata": {},
   "outputs": [],
   "source": [
    "# Buscar un número en un rango usando while y else\n",
    "n = 1\n",
    "encontrado = False\n",
    "while n <= 5:\n",
    "    if n == 7:\n",
    "        print(\"¡Encontré el 7!\")\n",
    "        encontrado = True\n",
    "        break\n",
    "    n += 1\n",
    "else:\n",
    "    print(\"No se encontró el 7 en el rango de 1 a 5\")"
   ]
  },
  {
   "cell_type": "markdown",
   "id": "49a03805",
   "metadata": {},
   "source": [
    "#### `continue`: Saltando pasos de un ciclo\n",
    "\n",
    "La instrucción `continue` se usa dentro de un ciclo para saltar inmediatamente a la siguiente iteración, ignorando el resto del bloque de código en esa vuelta. Es útil cuando queremos omitir ciertos casos sin terminar el ciclo por completo.\n",
    "\n",
    "---"
   ]
  },
  {
   "cell_type": "code",
   "execution_count": null,
   "id": "0c2ef22a",
   "metadata": {},
   "outputs": [],
   "source": [
    "j = 0\n",
    "while j < 5:\n",
    "    j += 1\n",
    "    if j == 3:\n",
    "        continue\n",
    "\n",
    "    print('j:', j)"
   ]
  },
  {
   "cell_type": "markdown",
   "id": "88ab7eaa",
   "metadata": {},
   "source": [
    "#### 🚀 Ejercicio: Cuenta Regresiva\n",
    "\n",
    "Crear un programa que haga una cuenta regresiva desde 5 hasta 1 y al final imprima '¡Despegue!'.\n",
    "\n",
    "---"
   ]
  },
  {
   "cell_type": "code",
   "execution_count": null,
   "id": "6b8c9714",
   "metadata": {},
   "outputs": [],
   "source": [
    "contador = 5\n",
    "while contador > 0:\n",
    "    print(f'{contador}...')\n",
    "    contador -= 1  # ¡Importante! Modificamos el contador para que el bucle termine.\n",
    "print('¡Despegue! 🚀')"
   ]
  },
  {
   "cell_type": "markdown",
   "id": "a28d61d9",
   "metadata": {},
   "source": [
    "### Ciclo `for`: Repetir un número de veces o sobre una colección\n",
    "\n",
    "El bucle `for` (para) es ideal para **iterar** sobre una secuencia de elementos (como una lista, una cadena de texto) o para ejecutar un bloque un número determinado de veces.\n",
    "\n",
    "La sintaxis es:\n",
    "```python\n",
    "for [variable] in [secuencia]:  # Variable va tomando los valores de cada elemento en la secuencia\n",
    "    [código si se cumple]  # Este código se repite hasta que variable haya tomado todos los valores de la secuencia.\n",
    "\n",
    "[código que sigue]\n",
    "```\n",
    "\n",
    "---"
   ]
  },
  {
   "cell_type": "markdown",
   "id": "dbe55231",
   "metadata": {},
   "source": [
    "#### Iterar por contador con `range()`\n",
    "\n",
    "La función `range(n)` genera una secuencia de números desde 0 hasta `n-1`.\n",
    "\n",
    "---"
   ]
  },
  {
   "cell_type": "code",
   "execution_count": null,
   "id": "056003fe",
   "metadata": {},
   "outputs": [],
   "source": [
    "print(list(range(5)))  # [0, 1, 2, 3, 4]"
   ]
  },
  {
   "cell_type": "code",
   "execution_count": null,
   "id": "c7c42d4c",
   "metadata": {},
   "outputs": [],
   "source": [
    "print(list(range(1, 6)))  # [1, 2, 3, 4, 5]"
   ]
  },
  {
   "cell_type": "code",
   "execution_count": null,
   "id": "fa649129",
   "metadata": {},
   "outputs": [],
   "source": [
    "print(list(range(0, 10, 2)))  # [0, 2, 4, 6, 8]"
   ]
  },
  {
   "cell_type": "code",
   "execution_count": null,
   "id": "ea3aba13",
   "metadata": {},
   "outputs": [],
   "source": [
    "print(list(range(10, 0, -2)))  # [10, 8, 6, 4, 2]"
   ]
  },
  {
   "cell_type": "code",
   "execution_count": null,
   "id": "79aa0f76",
   "metadata": {},
   "outputs": [],
   "source": [
    "# Iterar 5 veces (de 0 a 4)\n",
    "for i in range(5):\n",
    "    print(f'Valor de i: {i}')"
   ]
  },
  {
   "cell_type": "markdown",
   "id": "f59cdd59",
   "metadata": {},
   "source": [
    "#### Iterar por una colección\n",
    "\n",
    "El bucle `for` puede recorrer directamente los elementos de una lista, tupla o cadena.\n",
    "\n",
    "---"
   ]
  },
  {
   "cell_type": "code",
   "execution_count": null,
   "id": "1cd16659",
   "metadata": {},
   "outputs": [],
   "source": [
    "rango = [1, 2, 3, 4, 5]\n",
    "for i in rango:\n",
    "    print(f'Repetición número {i}')"
   ]
  },
  {
   "cell_type": "code",
   "execution_count": null,
   "id": "f870a9b9",
   "metadata": {},
   "outputs": [],
   "source": [
    "cadena = \"Hola\"\n",
    "for letra in cadena:\n",
    "    print(f'Letra: {letra}')"
   ]
  },
  {
   "cell_type": "markdown",
   "id": "da690cbf",
   "metadata": {},
   "source": [
    "### Anidar ciclos\n",
    "\n",
    "Los ciclos se pueden **anidar** también, tanto ciclos while como for.\n",
    "\n",
    "---\n"
   ]
  },
  {
   "cell_type": "code",
   "execution_count": null,
   "id": "39922b14",
   "metadata": {},
   "outputs": [],
   "source": [
    "for iterador_externo in range(5):\n",
    "    print(f\"Iteración externa: {iterador_externo}\")\n",
    "    for iterador_interno in range(3):\n",
    "        print(f\"  Iteración interna: {iterador_interno}\")"
   ]
  },
  {
   "cell_type": "markdown",
   "id": "f84b6ea9",
   "metadata": {},
   "source": [
    "#### 🧐 Ejercicio: Analizar una Frase\n",
    "\n",
    "Dada la frase \"La programación es divertida\", cuente cuántas vocales tiene e imprímalo.\n",
    "\n",
    "---"
   ]
  },
  {
   "cell_type": "code",
   "execution_count": null,
   "id": "1c86a2a5",
   "metadata": {},
   "outputs": [],
   "source": [
    "frase = 'La programación es divertida'\n",
    "vocales = 'aeiouAEIOU'\n",
    "conteo = 0\n",
    "for letra in frase:\n",
    "    if letra in vocales:\n",
    "        conteo += 1\n",
    "print(f\"La frase '{frase}' tiene {conteo} vocales.\")"
   ]
  },
  {
   "cell_type": "markdown",
   "id": "519b1c06",
   "metadata": {},
   "source": [
    "---\n",
    "\n",
    "## 5. Manejo de Excepciones\n",
    "\n",
    "---\n",
    "\n",
    "¿Qué pasa si el código intenta hacer algo imposible, como dividir por cero o convertir 'hola' a un número? El programa se 'cae' y muestra un error.\n",
    "\n",
    "El bloque `try...except` nos permite **intentar** ejecutar un código propenso a errores y, si ocurre uno, **capturarlo** y manejarlo de forma elegante sin que el programa se detenga.\n",
    "\n",
    "---"
   ]
  },
  {
   "cell_type": "markdown",
   "id": "5ef4d8eb",
   "metadata": {},
   "source": [
    "**Ejercicio: División Segura**\n",
    "\n",
    "Crea una función que pida al usuario dos números y muestre el resultado de la división. Debe manejar el caso en que el segundo número sea cero y el caso en que el usuario no ingrese un número válido.\n",
    "\n",
    "---"
   ]
  },
  {
   "cell_type": "code",
   "execution_count": null,
   "id": "4b6f96c1",
   "metadata": {},
   "outputs": [],
   "source": [
    "try:\n",
    "    num1_str = input('Ingresa el dividendo: ')\n",
    "    num1 = float(num1_str)\n",
    "    num2_str = input('Ingresa el divisor: ')\n",
    "    num2 = float(num2_str)\n",
    "    resultado = num1 / num2\n",
    "    print(f'El resultado es: {resultado}')\n",
    "except ValueError:\n",
    "    print('Error: Debe ingresar números válidos.')\n",
    "except ZeroDivisionError:\n",
    "    print('Error: No se puede dividir por cero.')\n",
    "except Exception as e:\n",
    "    print(f'Ocurrió un error inesperado: {e}')"
   ]
  },
  {
   "cell_type": "markdown",
   "id": "2de69570",
   "metadata": {},
   "source": [
    "Además, se puede atrapar un error genérico, sin conocer su tipo."
   ]
  },
  {
   "cell_type": "code",
   "execution_count": null,
   "id": "9c868c21",
   "metadata": {},
   "outputs": [],
   "source": [
    "try:\n",
    "    d = 2 + \"Hola\" # Si comenta esto entra en ZeroDivisionError\n",
    "except Exception as ex:\n",
    "    print(\"Ha habido una excepción\", type(ex))"
   ]
  },
  {
   "cell_type": "markdown",
   "id": "4b35c7e2",
   "metadata": {},
   "source": [
    "Algo muy importante es que se puede usar el control de excepciones para forzar a que un usuario ingrese una entrada válida, repitiendo la solicitud."
   ]
  },
  {
   "cell_type": "code",
   "execution_count": null,
   "id": "9ab2874f",
   "metadata": {},
   "outputs": [],
   "source": [
    "entrada_valida = False\n",
    "\n",
    "while not entrada_valida:\n",
    "    try:\n",
    "        numero = int(input(\"Ingrese un número: \"))\n",
    "        entrada_valida = True\n",
    "    \n",
    "    except ValueError:\n",
    "        print(\"Entrada no válida. Por favor, ingrese un número entero.\")"
   ]
  },
  {
   "cell_type": "markdown",
   "id": "a772d9cb",
   "metadata": {},
   "source": [
    "Por último, se pueden forzar las excepciones si uno está realizando un programa. Esto se hace con la instrucción `raise`."
   ]
  },
  {
   "cell_type": "code",
   "execution_count": null,
   "id": "5d9e900b",
   "metadata": {},
   "outputs": [],
   "source": [
    "numero_1 = 9\n",
    "numero_2 = 0\n",
    "\n",
    "try:\n",
    "    if numero_2 != 0:\n",
    "        resultado = numero_1 / numero_2\n",
    "    else:\n",
    "        raise ZeroDivisionError(\"No se puede dividir entre cero\")\n",
    "\n",
    "except ZeroDivisionError as e:\n",
    "    print(\"Error:\", e)"
   ]
  },
  {
   "cell_type": "markdown",
   "id": "5cd2f4bf",
   "metadata": {},
   "source": [
    "## Ejercicios adicionales\n",
    "\n",
    "---"
   ]
  },
  {
   "cell_type": "markdown",
   "id": "1bfa5092",
   "metadata": {},
   "source": [
    "**1. ¿Frecuencia?**\n",
    "\n",
    "Una señal periódica tiene una frecuencia f en Hz.\n",
    "Un ingeniero necesita verificar si esta frecuencia es múltiplo de 5 Hz, ya que solo esas frecuencias son compatibles con un sistema de muestreo específico.\n",
    "\n",
    "Pida la frecuencia al usuario y luego determine si es múltiplo de 5. Si lo es, entonces imprima el mensaje \"La frecuencia es válida. Es múltiplo de 5 Hz.\", si no imprima \"Frecuencia no compatible con el sistema de muestreo.\"\n",
    "\n",
    "---"
   ]
  },
  {
   "cell_type": "code",
   "execution_count": null,
   "id": "85cb7c39",
   "metadata": {},
   "outputs": [],
   "source": [
    "f = int(input(\"Ingrese la frecuencia de la señal en Hz: \"))\n",
    "\n",
    "if f % 5 == 0:\n",
    "    print(\"La frecuencia es válida. Es múltiplo de 5 Hz.\")\n",
    "else:\n",
    "    print(\"Frecuencia no compatible con el sistema de muestreo.\")"
   ]
  },
  {
   "cell_type": "markdown",
   "id": "86bc903a",
   "metadata": {},
   "source": [
    "**2. Adivinar el número**\n",
    "\n",
    "Escriba un programa donde la computadora tiene almacenado un número (por ejemplo, `numero_secreto = 7`) y el usuario tiene que adivinarlo. Use un bucle `while` para seguir pidiendo un número hasta que el usuario acierte.\n",
    "\n",
    "---"
   ]
  },
  {
   "cell_type": "code",
   "execution_count": null,
   "id": "9dfe41f2",
   "metadata": {},
   "outputs": [],
   "source": [
    "numero_secreto: int = 7\n",
    "adivinado: bool = False\n",
    "\n",
    "while not adivinado:\n",
    "    try:\n",
    "        intento_str = input('Adivine el número secreto (entre 1 y 10): ')\n",
    "        intento_num = int(intento_str)\n",
    "        if intento_num == numero_secreto:\n",
    "            print('¡Felicidades! ¡Adivinó!')\n",
    "            adivinado = True\n",
    "        else:\n",
    "            print('Intente de nuevo.')\n",
    "    except ValueError:\n",
    "        print('Por favor, ingrese un número válido.')"
   ]
  },
  {
   "cell_type": "markdown",
   "id": "dfc1f70c",
   "metadata": {},
   "source": [
    "**3. Tabla de Multiplicar**\n",
    "\n",
    "Pida al usuario un número y muestra su tabla de multiplicar del 1 al 10 usando un bucle `for`. Por ejemplo, si el usuario ingresa un 10, se debe mostrar la siguiente salida:\n",
    "\n",
    "```txt\n",
    "--- Tabla del 10 ---\n",
    "1 x 10 = 10\n",
    "2 x 10 = 20\n",
    "3 x 10 = 30\n",
    "4 x 10 = 40\n",
    "5 x 10 = 50\n",
    "6 x 10 = 60\n",
    "7 x 10 = 70\n",
    "8 x 10 = 80\n",
    "9 x 10 = 90\n",
    "10 x 10 = 100\n",
    "```\n",
    "\n",
    "Asegúrese de que su programa sea resistente a errores en la entrada del usuario. Si el usuario ingresa algo que no es un número, pídalo de nuevo hasta que ingrese un número.\n",
    "\n",
    "---"
   ]
  },
  {
   "cell_type": "code",
   "execution_count": null,
   "id": "bb0dbc6f",
   "metadata": {},
   "outputs": [],
   "source": [
    "terminado = False\n",
    "while not terminado:\n",
    "    try:\n",
    "        num_str = input('Ingrese un número para ver su tabla de multiplicar: ')\n",
    "        num = int(num_str)\n",
    "        print(f'--- Tabla del {num} ---')\n",
    "        for i in range(1, 11):  # range(1, 11) va de 1 a 10\n",
    "            print(f'{num} x {i} = {num * i}')\n",
    "\n",
    "        terminado = True\n",
    "    except ValueError:\n",
    "        print('Entrada no válida. Debe ingresar un número.')"
   ]
  },
  {
   "cell_type": "markdown",
   "id": "29c81ee9",
   "metadata": {},
   "source": [
    "**4. Buscador de Nombres**\n",
    "\n",
    "Cree una lista de nombres, como `['Ana', 'Juan', 'Pedro', 'Maria', 'Luis']`. Luego, pida al usuario un nombre e indique si está en la lista o no.\n",
    "\n",
    "Si está en la lista, muestre el mensaje \"¡Bienvenid@, {nombre}! Está en la lista.\". Si no está en la lista, muestre el mensaje \"Lo siento {nombre}, no está en la lista de invitados.\"\n",
    "\n",
    "---"
   ]
  },
  {
   "cell_type": "code",
   "execution_count": null,
   "id": "1e18f08f",
   "metadata": {},
   "outputs": [],
   "source": [
    "lista_invitados: list[str] = ['Ana', 'Juan', 'Pedro', 'Maria', 'Luis']\n",
    "nombre_buscar: str = input('Ingresa tu nombre para ver si estás en la lista: ')\n",
    "\n",
    "if nombre_buscar in lista_invitados:\n",
    "    print(f'¡Bienvenido, {nombre_buscar}! Estás en la lista.')\n",
    "else:\n",
    "    print(f'Lo siento {nombre_buscar}, no estás en la lista de invitados.')"
   ]
  },
  {
   "cell_type": "markdown",
   "id": "42ab8964",
   "metadata": {},
   "source": [
    "**5. Calculadora Simple con Manejo de Errores**\n",
    "\n",
    "Diseñe un programa que funcione como una calculadora básica capaz de realizar las siguientes operaciones: suma, resta, multiplicación y división segura (la división debe validar que el divisor no sea cero).\n",
    "\n",
    "El programa debe:\n",
    "1.\tMostrar un menú de opciones al usuario con las operaciones disponibles y una opción para salir.\n",
    "2.\tSolicitar al usuario la operación deseada y dos números sobre los cuales se aplicará.\n",
    "3.\tValidar errores comunes, como división entre cero o ingreso de una opción inválida en el menú.\n",
    "4.\tEjecutar la operación y mostrar el resultado en pantalla.\n",
    "5.\tTras cada operación (excepto si el usuario elige salir), volver a mostrar el menú para permitir nuevas operaciones.\n",
    "6.\tFinalizar únicamente cuando el usuario elija explícitamente la opción de salida.\n",
    "\n",
    "---"
   ]
  },
  {
   "cell_type": "code",
   "execution_count": null,
   "id": "2ccd80b1",
   "metadata": {},
   "outputs": [],
   "source": [
    "opcion = \"0\"  # Inicializamos la variable\n",
    "\n",
    "while opcion != \"5\":\n",
    "    print(\"===== CALCULADORA =====\")\n",
    "    print(\"1. Suma\")\n",
    "    print(\"2. Resta\")\n",
    "    print(\"3. Multiplicación\")\n",
    "    print(\"4. División\")\n",
    "    print(\"5. Salir\")\n",
    "\n",
    "    opcion = input(\"Seleccione una opción: \")\n",
    "\n",
    "    match opcion:\n",
    "        case \"1\":\n",
    "            num1 = float(input(\"Ingrese el primer número: \"))\n",
    "            num2 = float(input(\"Ingrese el segundo número: \"))\n",
    "            print(\"Resultado:\", num1 + num2)\n",
    "\n",
    "        case \"2\":\n",
    "            num1 = float(input(\"Ingrese el primer número: \"))\n",
    "            num2 = float(input(\"Ingrese el segundo número: \"))\n",
    "            print(\"Resultado:\", num1 - num2)\n",
    "\n",
    "        case \"3\":\n",
    "            num1 = float(input(\"Ingrese el primer número: \"))\n",
    "            num2 = float(input(\"Ingrese el segundo número: \"))\n",
    "            print(\"Resultado:\", num1 * num2)\n",
    "\n",
    "        case \"4\":\n",
    "            num1 = float(input(\"Ingrese el primer número: \"))\n",
    "            num2 = float(input(\"Ingrese el segundo número: \"))\n",
    "            if num2 == 0:\n",
    "                print(\"Error: no se puede dividir entre cero\")\n",
    "            else:\n",
    "                print(\"Resultado:\", num1 / num2)\n",
    "\n",
    "        case \"5\":\n",
    "            print(\"Fin del programa\")\n",
    "\n",
    "        case _:\n",
    "            print(\"Opción inválida, intente de nuevo.\")\n",
    "\n",
    "    print()  # Línea en blanco para separar salidas\n"
   ]
  },
  {
   "cell_type": "markdown",
   "id": "671cad41",
   "metadata": {},
   "source": [
    "**6. Password**\n",
    "\n",
    "Usted se ha olvidado de la contraseña de su celular. Solo recuerda que es una clave numérica de 4 dígitos. A usted le gustaría saber cuáles son todas las posibles combinaciones que puede usar para descifrarlo. \n",
    "\n",
    "Haga un programa de python que genere y muestre todas las posibles combinaciones de dígitos para descifrar su clave de 4 dígitos.\n",
    "\n",
    "---"
   ]
  },
  {
   "cell_type": "code",
   "execution_count": null,
   "id": "b9b3305e",
   "metadata": {},
   "outputs": [],
   "source": [
    "for i in range(10):\n",
    "    for j in range(10):\n",
    "        for k in range(10):\n",
    "            for l in range(10):\n",
    "                print(f\"Posible clave: {i}{j}{k}{l}\")"
   ]
  },
  {
   "cell_type": "markdown",
   "id": "ed990e1e",
   "metadata": {},
   "source": [
    "## 🎯 Resumen y Ejercicios de Repaso\n",
    "\n",
    "Se presentó una síntesis de las instrucciones de control de flujo en Python.\n",
    "\n",
    "### 📚 Contenidos revisados\n",
    "\n",
    "1. **Secuencia de instrucciones**:\n",
    "   - Cómo Python ejecuta las instrucciones de manera secuencial.\n",
    "\n",
    "2. **Bloques de instrucciones**:\n",
    "   - Cómo agrupar instrucciones usando la indentación.\n",
    "\n",
    "3. **Estructuras condicionales (`if`, `elif`, `else`, `match-case`)**:\n",
    "   - Tomar decisiones en el programa según condiciones.\n",
    "   - Encadenar múltiples condiciones y caminos alternativos.\n",
    "\n",
    "4. **Ciclos (`while`, `for`) y control de iteraciones**:\n",
    "   - Repetir acciones mientras se cumpla una condición o sobre una colección de elementos.\n",
    "   - Uso de `break`, `continue` y `else` para controlar el flujo dentro de los ciclos.\n",
    "\n",
    "5. **Manejo de excepciones**:\n",
    "   - Anticipar y manejar errores comunes con `try...except` para hacer programas más robustos.\n",
    "\n",
    "---"
   ]
  },
  {
   "cell_type": "markdown",
   "id": "d9f121d2",
   "metadata": {},
   "source": [
    "## 📝 Ejercicios de Práctica\n",
    "\n",
    "A continuación se proponen ejercicios organizados por tema para consolidar los conceptos.\n",
    "\n",
    "-----\n",
    "\n",
    "### 1️⃣ **Ejercicios: Secuencia de Instrucciones**\n",
    "\n",
    "**Ejercicio 1.1 - Conversor de segundos**\n",
    "\n",
    "```python\n",
    "# En registros operativos (p. ej., bitácoras de planta, telemetría o tiempos de ejecución de tareas), las duraciones se capturan como un total de segundos. Los operadores necesitan ver estas duraciones en un formato legible horas:minutos:segundos.\n",
    "\n",
    "# Diseñe e implemente un módulo que convierta una cantidad total de segundos en su representación H horas, M minutos, S segundos y en formato HH:MM:SS.\n",
    "```\n",
    "\n",
    "-----\n",
    "\n",
    "### 2️⃣ **Ejercicios: Bloques de Instrucciones**\n",
    "\n",
    "**Ejercicio 2.1 - Identificación de bloques**\n",
    "\n",
    "```python\n",
    "# Analice el siguiente fragmento de código.\n",
    "# Identifique e indique cuáles instrucciones forman parte del mismo bloque.\n",
    "#\n",
    "# Escriba en los comentarios qué líneas de código se ejecutan si el `numero` es mayor a 10 y cuáles si no lo es.\n",
    "\n",
    "numero = int(input(\"Ingrese un número: \"))\n",
    "\n",
    "if numero > 10:\n",
    "    print(\"El número es mayor a 10.\")\n",
    "    print(\"¡Felicidades!\")\n",
    "else:\n",
    "    print(\"El número no es mayor a 10.\")\n",
    "    print(\"Intenta con un número más grande.\")\n",
    "print(\"Fin del programa.\")\n",
    "```\n",
    "\n",
    "-----\n",
    "\n",
    "### 3️⃣ **Ejercicios: Estructuras Condicionales**\n",
    "\n",
    "**Ejercicio 3.1 - Calificador de edad**\n",
    "\n",
    "```python\n",
    "# Pídale al usuario su edad.\n",
    "# Use una estructura condicional para determinar si es un \"niño\" (0-12), \"adolescente\" (13-17), \"adulto\" (18-64) o \"anciano\" (65 o más).\n",
    "# Imprima la categoría de edad correspondiente.\n",
    "```\n",
    "\n",
    "**Ejercicio 3.2 - Seguridad**\n",
    "\n",
    "```python\n",
    "# Un ingeniero de seguridad quiere implementar un control de acceso.\n",
    "# El sistema debe pedir al usuario:\n",
    "#\t1.\tSu edad.\n",
    "#\t2.\tSi tiene credencial (sí o no).\n",
    "\n",
    "# Con esas condiciones:\n",
    "#\t-\tSi la edad es mayor o igual a 18, entonces:\n",
    "#\t    -\tVerificar si tiene credencial.\n",
    "#\t    -\tSi tiene credencial → mostrar: “Acceso permitido”.\n",
    "#\t-\tSi no tiene credencial → mostrar: “Debe presentar credencial”.\n",
    "#\t-\tSi la edad es menor a 18 → mostrar: “Acceso denegado, es menor de edad”.\n",
    "```\n",
    "\n",
    "**Ejercicio 3.3 - Calculadora**\n",
    "\n",
    "```python\n",
    "# Una piscina municipal quiere calcular automáticamente el precio de entrada según la edad del visitante.\n",
    "#\t-\tSi el visitante tiene menos de 6 años, la entrada es gratis.\n",
    "#\t-\tSi tiene entre 6 y 17 años, paga 3 €.\n",
    "#\t-\tSi tiene entre 18 y 64 años, paga 7 €.\n",
    "#\t-\tSi tiene 65 años o más, paga 4 €.\n",
    "\n",
    "# El programa debe pedir la edad del visitante y mostrar el precio correspondiente.\n",
    "```\n",
    "\n",
    "**Ejercicio 3.4 - Letras**\n",
    "\n",
    "```python\n",
    "# Escribir un programa que solicite al usuario un carácter y determine si es un dígito numérico (0–9).\n",
    "#\t-\tSi es un dígito, mostrar el mensaje: \"Es un número\".\n",
    "#\t-\tSi no lo es, mostrar: \"No es un número\".\n",
    "#\t-\tSi el usuario ingresa más de un carácter, mostrar: \"Solo se permite un carácter\".\n",
    "```\n",
    "\n",
    "**Ejercicio 3.5 - Bisiesto**\n",
    "\n",
    "```python\n",
    "# Escriba un programa que pida un año y muestre si corresponde a un año común o a un año bisiesto.\n",
    "#\t-\tLos años bisiestos cumplen estas reglas:\n",
    "#\t-\tSon múltiplos de 4.\n",
    "#\t-\tLos múltiplos de 100 no son bisiestos, excepto si también son múltiplos de 400.\n",
    "# Estos son algunos ejemplos de salidas esperadas del programa.\n",
    "```\n",
    "\n",
    "```txt\n",
    "=== CALCULADORA DE CALENDARIO ===\n",
    "Ingrese un año: 2024\n",
    "Resultado: 2024 → Año bisiesto (múltiplo de 4 y no múltiplo de 100).\n",
    "\n",
    "---\n",
    "\n",
    "=== CALCULADORA DE CALENDARIO ===\n",
    "Ingrese un año: 2023\n",
    "Resultado: 2023 → Año común.\n",
    "\n",
    "---\n",
    "\n",
    "=== CALCULADORA DE CALENDARIO ===\n",
    "Ingrese un año: 2000\n",
    "Resultado: 2000 → Año bisiesto (múltiplo de 400).\n",
    "\n",
    "---\n",
    "\n",
    "=== CALCULADORA DE CALENDARIO ===\n",
    "Ingrese un año: 2100\n",
    "Resultado: 2100 → Año común (múltiplo de 100 pero no de 400).\n",
    "```\n",
    "\n",
    "**Ejercicio 3.6 - Múltiplos**\n",
    "\n",
    "```python\n",
    "# Escriba un programa que pida dos números enteros y que escriba si el mayor es múltiplo del menor.\n",
    "```\n",
    "\n",
    "-----\n",
    "\n",
    "### 4️⃣ **Ejercicios: Ciclos por Condición, Contador y Colección**\n",
    "\n",
    "**Ejercicio 4.1 - Palíndromo**\n",
    "\n",
    "```python\n",
    "# Cree un programa que determine y muestre un mensaje si una hilera de texto es un palíndromo.\n",
    "# Un palíndromo es una palabra que se lee igual de izquierda a derecha que de derecha a izquierda, por ejemplo: 'oso', 'ala', 'reconocer'.\n",
    "```\n",
    "\n",
    "**Ejercicio 4.2 - Factorial**\n",
    "\n",
    "```python\n",
    "# Pídale al usuario un número `n`.\n",
    "# Use un ciclo para multiplicar todos los números del 1 al `n`.\n",
    "# Imprima el resultado de la multiplicación.\n",
    "```\n",
    "\n",
    "**Ejercicio 4.3 - Primo**\n",
    "\n",
    "```python\n",
    "# Pídale al usuario un número `n`.\n",
    "# Haga un programa que determine si un número es primo o no.\n",
    "# Recuerde que un número primo es aquel que solo es divisible por 1 y él mismo.\n",
    "# Pista: Use un ciclo para recorrer todos los números que están antes de `n`.\n",
    "```\n",
    "\n",
    "**Ejercicio 4.4 - Media aritmética**\n",
    "\n",
    "```python\n",
    "# Haga un programa que pida al usuario cuantos números quiere introducir. Luego tiene que leer esa cantidad de números y realizar una media aritmética.\n",
    "```\n",
    "\n",
    "**Ejercicio 4.5 - Fibonacci**\n",
    "\n",
    "```python\n",
    "# Crear un algoritmo para la sucesión de Fibonacci de un número `n`. \n",
    "# Por ejemplo, para un `n` = 3, la sucesión de Fibonacci es la siguiente serie: 0, 1, 1, 2\n",
    "# Por ejemplo, para un `n` = 5, la sucesión de Fibonacci es la siguiente serie: 0, 1, 1, 2, 3, 5\n",
    "# Note que `n` representa la posición del n-ésimo elemento en la secuencia, empezando por 0.\n",
    "\n",
    "# Pista: Empezando por 0 y 1, el siguiente número es la suma de los dos números últimos.\n",
    "```\n",
    "\n",
    "**Ejercicio 4.6 - Par impar**\n",
    "\n",
    "```python\n",
    "# Escriba un programa que solicite `n` números enteros (solicite `n` al usuario antes) y luego determine y muestre cuántos de esos números son pares y cuántos impares.\n",
    "```\n",
    "\n",
    "**Ejercicio 4.7 - Menú**\n",
    "\n",
    "```python\n",
    "# Hacer un programa que muestre un menú de opciones en un bucle while.\n",
    "# El menú tendrá estas opciones:\n",
    "# \t1.\tSaludar.\n",
    "# \t2.\tCalcular el cuadrado de un número.\n",
    "# \t3.\tSalir.\n",
    "\n",
    "# El usuario podrá elegir una opción y el programa responderá. El menú se repetirá hasta que el usuario elija Salir.\n",
    "```\n",
    "\n",
    "**Ejercicio 4.8 - Suma**\n",
    "\n",
    "```python\n",
    "# Hacer un programa que pida números al usuario y los vaya sumando.\n",
    "# El proceso continuará mientras el usuario no ingrese el número 0.\n",
    "# Al final, hay que mostrar la suma total.\n",
    "```\n",
    "\n",
    "**Ejercicio 4.9 - Varios palíndromo**\n",
    "\n",
    "```python\n",
    "# Haga un programa que, dada una lista de hileras de texto como ['aba', 'bab', 'abba', 'abab', 'baba'], cuente la cantidad de hileras de texto que son palíndromos.\n",
    "```\n",
    "\n",
    "-----\n",
    "\n",
    "### 5️⃣ **Ejercicios: Manejo de Excepciones**\n",
    "\n",
    "**Ejercicio 5.1 - Divisor seguro**\n",
    "\n",
    "```python\n",
    "# Pídale al usuario dos números.\n",
    "# Realice la división del primer número por el segundo.\n",
    "# Usa un bloque `try-except` para manejar la excepción si el segundo número es 0 (`ZeroDivisionError`).\n",
    "# Si la división es exitosa, imprima el resultado. Si hay un error, pida nuevamente el número al usuario hasta que la división sea exitosa.\n",
    "```\n",
    "\n",
    "**Ejercicio 5.2 - Mínimo y máximo**\n",
    "\n",
    "```python\n",
    "# Hacer un programa que permita al usuario ingresar una lista de números enteros positivos.\n",
    "#\t-\tEl programa seguirá pidiendo números hasta que el usuario ingrese -1, que indica que terminó.\n",
    "#\t-\tSi el usuario ingresa algo que no sea un número, se mostrará un mensaje de error y se volverá a pedir.\n",
    "#\t-\tAl final, el programa tiene que mostrar el número más pequeño de todos y el máximo.\n",
    "```\n",
    "\n",
    "-----\n",
    "\n",
    "### 6️⃣ **Ejercicios Integrados**\n",
    "\n",
    "**Ejercicio 6.1 - Calculadora con bucle y manejo de errores**\n",
    "\n",
    "```python\n",
    "# Crear un programa que le pida al usuario dos números y una operación (+, -, *, /, **, raíz).\n",
    "# El programa debe realizar la operación y mostrar el resultado.\n",
    "# Debe usar un ciclo `while` para seguir pidiendo operaciones hasta que el usuario decida salir.\n",
    "# Debe usar estructuras condicionales para determinar qué operación realizar.\n",
    "# Debe usar un bloque `try-except` para manejar la división por cero y entradas no numéricas.\n",
    "```\n",
    "\n",
    "-----\n",
    "\n",
    "### 7️⃣ **Ejercicios de Repaso**\n",
    "\n",
    "**Ejercicio 7.1 - Triángulo**\n",
    "\n",
    "```python\n",
    "# Escriba un programa que pida al usuario un número entero y muestre por pantalla un triángulo rectángulo como el de más abajo, de altura el número introducido.\n",
    "\n",
    "# Para n = 5:\n",
    "*\n",
    "**\n",
    "***\n",
    "****\n",
    "*****\n",
    "```\n",
    "\n",
    "-----\n",
    "\n",
    "### 📋 **Instrucciones para resolver:**\n",
    "\n",
    "1. Copiar cada ejercicio a una nueva celda de código.\n",
    "2. Resolver paso a paso.\n",
    "3. Ejecutar para verificar resultados.\n",
    "4. Experimentar modificando valores.\n",
    "5. Consultar dudas cuando sea necesario."
   ]
  }
 ],
 "metadata": {
  "language_info": {
   "name": "python"
  }
 },
 "nbformat": 4,
 "nbformat_minor": 5
}
