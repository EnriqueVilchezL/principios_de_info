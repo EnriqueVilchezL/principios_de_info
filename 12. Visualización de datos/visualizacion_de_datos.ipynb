{
 "cells": [
  {
   "cell_type": "markdown",
   "id": "bc5be9d1",
   "metadata": {},
   "source": [
    "# Principios de Informática: Visualización de Datos 📊\n",
    "### Convirtiendo números en historias visuales\n",
    "\n",
    "**Curso:** Principios de Informática\n",
    "\n",
    "---\n",
    "## ¿Por Qué una Imagen Vale Más que Mil Números? 🖼️\n",
    "\n",
    "En ciencia e ingeniería, generamos y recolectamos enormes cantidades de datos. Una tabla con miles de números es difícil de interpretar. ¿Hay una tendencia? ¿Existen valores atípicos? ¿Cómo se relacionan dos variables?\n",
    "\n",
    "La **visualización de datos** es el arte y la ciencia de representar datos de forma gráfica. Un buen gráfico puede revelar patrones, tendencias y correlaciones que pasarían desapercibidas en los datos crudos. Nos permite comunicar nuestros hallazgos de una manera clara, potente y universal.\n",
    "\n",
    "Hoy, aprenderemos a usar las bibliotecas de Python para transformar nuestros datos numéricos en gráficos informativos y atractivos.\n",
    "\n",
    "---\n",
    "### ✅ Lo que aprenderemos hoy:\n",
    "* **Bibliotecas de Graficación:** Conoceremos `Matplotlib` y `Seaborn`.\n",
    "* **Integración con NumPy y Pandas:** Cómo visualizar arreglos y DataFrames directamente.\n",
    "* **Tipos de Gráficos Esenciales:** Crearemos gráficos de líneas, dispersión, histogramas y superficies.\n",
    "* **Personalización:** Aprenderemos a añadir títulos, etiquetas y colores para que nuestros gráficos cuenten una historia clara.\n",
    "\n",
    "---\n",
    "## 📚 Bibliotecas de Graficación\n",
    "\n",
    "Python tiene un ecosistema muy rico para la visualización de datos. Nos centraremos en dos de las bibliotecas más importantes:\n",
    "\n",
    "* **Matplotlib**: Es la biblioteca de graficación \"abuelo\" de Python. Es extremadamente potente y personalizable, aunque a veces puede ser un poco verbosa. Es la base sobre la que se construyen muchas otras bibliotecas.\n",
    "* **Seaborn**: Construida sobre Matplotlib, Seaborn proporciona una interfaz de más alto nivel para crear gráficos estadísticos atractivos y complejos con menos código.\n",
    "\n",
    "Para instalarlas (si no las tienes), abre tu terminal y escribe: `pip install matplotlib seaborn`\n",
    "\n",
    "---\n",
    "## 🤝 Integración con NumPy y Pandas\n",
    "\n",
    "La verdadera fuerza de estas bibliotecas de visualización reside en su perfecta integración con las herramientas de computación numérica que ya conocemos. Podemos pasar arreglos de NumPy y DataFrames de Pandas directamente a las funciones de graficación.\n",
    "\n",
    "---\n",
    "### Visualizando un Arreglo de NumPy"
   ]
  },
  {
   "cell_type": "code",
   "execution_count": null,
   "id": "8559ed90",
   "metadata": {},
   "outputs": [],
   "source": [
    "import numpy as np\n",
    "import matplotlib.pyplot as plt # Convención para importar el módulo de graficación de Matplotlib\n",
    "\n",
    "# Generar los datos\n",
    "x = np.linspace(0, 10, 100) # 100 puntos entre 0 y 10\n",
    "y = np.sin(x)\n",
    "\n",
    "# Crear el gráfico\n",
    "plt.plot(x, y)\n",
    "plt.title(\"Gráfico de la Función Seno\")\n",
    "plt.xlabel(\"Eje X\")\n",
    "plt.ylabel(\"Seno(X)\")\n",
    "plt.grid(True) # Añadir una cuadrícula\n",
    "plt.show() # Mostrar el gráfico"
   ]
  },
  {
   "cell_type": "markdown",
   "id": "4e4d2d83",
   "metadata": {},
   "source": [
    "---\n",
    "\n",
    "### Visualizando un DataFrame de Pandas"
   ]
  },
  {
   "cell_type": "code",
   "execution_count": null,
   "id": "2d5f521f",
   "metadata": {},
   "outputs": [],
   "source": [
    "import pandas as pd\n",
    "import matplotlib.pyplot as plt\n",
    "\n",
    "# Crear un DataFrame\n",
    "datos = {\n",
    "    'año': [2020, 2021, 2022, 2023, 2024],\n",
    "    'ventas_producto_A': [100, 120, 150, 130, 170],\n",
    "    'ventas_producto_B': [80, 90, 100, 115, 140]\n",
    "}\n",
    "df_ventas = pd.DataFrame(datos)\n",
    "\n",
    "# Usar el método .plot() del DataFrame\n",
    "df_ventas.plot(x='año', y=['ventas_producto_A', 'ventas_producto_B'], kind='line', marker='o')\n",
    "\n",
    "plt.title(\"Ventas Anuales por Producto\")\n",
    "plt.xlabel(\"Año\")\n",
    "plt.ylabel(\"Unidades Vendidas\")\n",
    "plt.legend([\"Producto A\", \"Producto B\"])\n",
    "plt.grid(True)\n",
    "plt.show()"
   ]
  },
  {
   "cell_type": "markdown",
   "id": "8e15e701",
   "metadata": {},
   "source": [
    "---\n",
    "## 📈 Tipos de Gráficos Relevantes para Ciencias\n",
    "\n",
    "---\n",
    "### Gráfico de Líneas\n",
    "\n",
    "**Uso**: Ideal para mostrar la evolución de una variable a lo largo del tiempo o de otra variable continua. Perfecto para series temporales.\n",
    "\n",
    "---\n",
    "**Ejercicio: Visualizar Temperatura de un Día**\n",
    "Tienes datos de temperatura tomados cada hora durante 12 horas. Visualízalos en un gráfico de líneas.\n"
   ]
  },
  {
   "cell_type": "code",
   "execution_count": null,
   "id": "a91cd862",
   "metadata": {},
   "outputs": [],
   "source": [
    "import matplotlib.pyplot as plt\n",
    "\n",
    "horas = [0, 1, 2, 3, 4, 5, 6, 7, 8, 9, 10, 11, 12]\n",
    "temperaturas = [18, 17, 16, 16, 17, 19, 21, 23, 24, 25, 26, 25]\n",
    "\n",
    "plt.plot(horas, temperaturas, color='red', marker='.')\n",
    "plt.title(\"Evolución de la Temperatura\")\n",
    "plt.xlabel(\"Hora del día\")\n",
    "plt.ylabel(\"Temperatura (°C)\")\n",
    "plt.xticks(horas) # Asegurarse de que todas las horas se muestren en el eje X\n",
    "plt.grid(True)\n",
    "plt.show()"
   ]
  },
  {
   "cell_type": "markdown",
   "id": "1836930b",
   "metadata": {},
   "source": [
    "---\n",
    "### Gráfico de Dispersión (Scatter Plot)\n",
    "\n",
    "**Uso**: Excelente para visualizar la relación entre dos variables numéricas. Nos ayuda a ver si existe una correlación (positiva, negativa) o si no hay ninguna relación aparente.\n",
    "\n",
    "---\n",
    "**Ejercicio: Relación entre Humedad y Temperatura**\n",
    "Tienes datos de humedad y temperatura. Crea un gráfico de dispersión para ver si están relacionados.\n"
   ]
  },
  {
   "cell_type": "code",
   "execution_count": null,
   "id": "b792d57f",
   "metadata": {},
   "outputs": [],
   "source": [
    "import matplotlib.pyplot as plt\n",
    "import numpy as np\n",
    "\n",
    "# Datos simulados: a mayor temperatura, menor humedad\n",
    "temperatura_disp = np.array([20, 22, 25, 28, 30, 32, 35])\n",
    "humedad_disp = np.array([80, 75, 65, 55, 50, 45, 40])\n",
    "\n",
    "plt.scatter(temperatura_disp, humedad_disp, color='blue')\n",
    "plt.title(\"Relación entre Temperatura y Humedad\")\n",
    "plt.xlabel(\"Temperatura (°C)\")\n",
    "plt.ylabel(\"Humedad (%)\")\n",
    "plt.grid(True)\n",
    "plt.show()"
   ]
  },
  {
   "cell_type": "markdown",
   "id": "6d8f616c",
   "metadata": {},
   "source": [
    "---\n",
    "### Histogramas\n",
    "\n",
    "**Uso**: Un histograma nos muestra la **distribución** de una sola variable numérica. Agrupa los números en \"contenedores\" (bins) y cuenta cuántos valores caen en cada contenedor. Es fundamental para entender la frecuencia y la forma de nuestros datos.\n",
    "\n",
    "---\n",
    "**Ejercicio: Distribución de Calificaciones**\n",
    "Tienes las calificaciones de un examen para 100 estudiantes. Crea un histograma para ver cómo se distribuyen.\n"
   ]
  },
  {
   "cell_type": "code",
   "execution_count": null,
   "id": "8019eeb5",
   "metadata": {
    "vscode": {
     "languageId": "r"
    }
   },
   "outputs": [],
   "source": [
    "import matplotlib.pyplot as plt\n",
    "import numpy as np\n",
    "\n",
    "# Generar 100 calificaciones aleatorias con una distribución normal (media=75, desv. est.=10)\n",
    "calificaciones = np.random.normal(loc=75, scale=10, size=100)\n",
    "\n",
    "# Crear el histograma\n",
    "# bins=10 significa que dividiremos el rango de datos en 10 contenedores\n",
    "plt.hist(calificaciones, bins=10, edgecolor='black', color='skyblue')\n",
    "plt.title(\"Distribución de Calificaciones del Examen\")\n",
    "plt.xlabel(\"Calificación\")\n",
    "plt.ylabel(\"Frecuencia (Nº de Estudiantes)\")\n",
    "plt.show()"
   ]
  },
  {
   "cell_type": "markdown",
   "id": "128999ff",
   "metadata": {},
   "source": [
    "---\n",
    "### Gráficos de Superficie (3D)\n",
    "\n",
    "**Uso**: Para visualizar datos en tres dimensiones. Son excelentes para representar funciones de dos variables `(z = f(x, y))` o para visualizar terrenos y campos de fuerza.\n",
    "\n",
    "---\n",
    "**Ejercicio: Visualizar una Función 3D**\n",
    "Vamos a visualizar la función `z = sin(sqrt(x^2 + y^2))`, que crea un patrón de ondas circulares.\n"
   ]
  },
  {
   "cell_type": "code",
   "execution_count": null,
   "id": "c09269be",
   "metadata": {},
   "outputs": [],
   "source": [
    "import matplotlib.pyplot as plt\n",
    "import numpy as np\n",
    "\n",
    "# Crear una figura y un eje 3D\n",
    "fig = plt.figure()\n",
    "ax = plt.axes(projection='3d')\n",
    "\n",
    "# Crear los datos para los ejes x e y\n",
    "x = np.linspace(-6, 6, 30)\n",
    "y = np.linspace(-6, 6, 30)\n",
    "\n",
    "# Crear una malla (una cuadrícula de puntos x, y)\n",
    "X, Y = np.meshgrid(x, y)\n",
    "\n",
    "# Calcular los valores de Z para cada punto de la malla\n",
    "R = np.sqrt(np.power(X, 2) + np.power(Y, 2))\n",
    "Z = np.sin(R)\n",
    "\n",
    "# Crear el gráfico de superficie\n",
    "ax.plot_surface(X, Y, Z, cmap='viridis', edgecolor='none')\n",
    "\n",
    "ax.set_title('Gráfico de Superficie 3D')\n",
    "plt.show()"
   ]
  },
  {
   "cell_type": "markdown",
   "id": "38ad8d24",
   "metadata": {},
   "source": [
    "---\n",
    "## 🎨 Personalización de Gráficos Básicos\n",
    "\n",
    "Un gráfico sin etiquetas es como un mapa sin nombres de ciudades. La personalización es clave para que sea interpretable.\n",
    "\n",
    "* `plt.title(\"Mi Título\")`: Añade un título al gráfico.\n",
    "* `plt.xlabel(\"Etiqueta del Eje X\")`: Nombra el eje horizontal.\n",
    "* `plt.ylabel(\"Etiqueta del Eje Y\")`: Nombra el eje vertical.\n",
    "* `plt.legend()`: Muestra una leyenda (útil cuando hay varias líneas).\n",
    "* `plt.grid(True)`: Añade una cuadrícula de fondo.\n",
    "* `color='red'`: Cambia el color de la línea o los puntos.\n",
    "* `marker='o'`: Cambia el estilo de los marcadores en los puntos de datos.\n",
    "* `linestyle='--'`: Cambia el estilo de la línea (p. ej., a una línea discontinua).\n",
    "\n",
    "---\n",
    "## ✏️ Ejercicios Finales de Práctica"
   ]
  },
  {
   "cell_type": "markdown",
   "id": "d61ab684",
   "metadata": {},
   "source": [
    "---\n",
    "**1. Comparación de Dos Funciones**\n",
    "En un mismo gráfico de líneas, visualiza las funciones `y = x^2` e `y = x^3` para valores de `x` entre -10 y 10. Personaliza el gráfico con un título, etiquetas para los ejes y una leyenda.\n"
   ]
  },
  {
   "cell_type": "code",
   "execution_count": null,
   "id": "8bce887b",
   "metadata": {},
   "outputs": [],
   "source": [
    "import numpy as np\n",
    "import matplotlib.pyplot as plt\n",
    "\n",
    "x = np.linspace(-10, 10, 100)\n",
    "y1 = np.power(x, 2)\n",
    "y2 = np.power(x, 3)\n",
    "\n",
    "plt.plot(x, y1, color='blue', linestyle='--', label='x^2')\n",
    "plt.plot(x, y2, color='green', label='x^3')\n",
    "\n",
    "plt.title(\"Comparación de Funciones Cuadrática y Cúbica\")\n",
    "plt.xlabel(\"X\")\n",
    "plt.ylabel(\"Y\")\n",
    "plt.legend()\n",
    "plt.grid(True)\n",
    "plt.show()"
   ]
  },
  {
   "cell_type": "markdown",
   "id": "8ee3526a",
   "metadata": {},
   "source": [
    "---\n",
    "**2. Análisis de Datos de Iris con Seaborn**\n",
    "La biblioteca Seaborn viene con conjuntos de datos de ejemplo. Usa el famoso conjunto de datos \"iris\" para crear un gráfico de dispersión que muestre la relación entre la longitud del sépalo (`sepal_length`) y el ancho del sépalo (`sepal_width`). Usa el parámetro `hue` para colorear los puntos según la especie."
   ]
  },
  {
   "cell_type": "code",
   "execution_count": null,
   "id": "374498be",
   "metadata": {},
   "outputs": [],
   "source": [
    "import seaborn as sns\n",
    "import matplotlib.pyplot as plt\n",
    "\n",
    "# Cargar el conjunto de datos de ejemplo\n",
    "iris = sns.load_dataset(\"iris\")\n",
    "\n",
    "# Crear el gráfico de dispersión con Seaborn\n",
    "sns.scatterplot(data=iris, x=\"sepal_length\", y=\"sepal_width\", hue=\"species\")\n",
    "\n",
    "plt.title(\"Relación entre Longitud y Ancho del Sépalo en Flores de Iris\")\n",
    "plt.xlabel(\"Longitud del Sépalo (cm)\")\n",
    "plt.ylabel(\"Ancho del Sépalo (cm)\")\n",
    "plt.grid(True)\n",
    "plt.show()"
   ]
  },
  {
   "cell_type": "markdown",
   "id": "d05d72e2",
   "metadata": {},
   "source": [
    "---\n",
    "**3. Histograma de Datos de Vuelo**\n",
    "Usa el conjunto de datos \"flights\" de Seaborn y crea un histograma del número de pasajeros (`passengers`) para ver su distribución a lo largo de los años."
   ]
  },
  {
   "cell_type": "code",
   "execution_count": null,
   "id": "4fcdac2e",
   "metadata": {},
   "outputs": [],
   "source": [
    "import seaborn as sns\n",
    "import matplotlib.pyplot as plt\n",
    "\n",
    "# Cargar el conjunto de datos\n",
    "flights = sns.load_dataset(\"flights\")\n",
    "\n",
    "# Crear el histograma\n",
    "plt.hist(flights['passengers'], bins=15, edgecolor='black')\n",
    "plt.title(\"Distribución del Número de Pasajeros en Vuelos\")\n",
    "plt.xlabel(\"Número de Pasajeros\")\n",
    "plt.ylabel(\"Frecuencia (Meses)\")\n",
    "plt.show()"
   ]
  }
 ],
 "metadata": {
  "language_info": {
   "name": "python"
  }
 },
 "nbformat": 4,
 "nbformat_minor": 5
}
