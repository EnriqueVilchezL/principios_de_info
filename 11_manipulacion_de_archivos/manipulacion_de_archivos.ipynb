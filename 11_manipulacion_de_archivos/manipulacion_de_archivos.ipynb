{
 "cells": [
  {
   "cell_type": "markdown",
   "id": "1bd2b1f4",
   "metadata": {},
   "source": [
    "# Principios de Informática: Manipulación de Archivos 💾\n",
    "\n",
    "### Guardando y cargando datos para que perduren\n",
    "\n",
    "**Curso:** Principios de Informática\n",
    "\n",
    "---\n",
    "\n",
    "## 🗺️ Objetivos y contenidos\n",
    "\n",
    "Este notebook es una guía interactiva para comprender los fundamentos de la computación numérica en Python, el uso de arreglos (arrays) y operaciones vectorizadas con la biblioteca NumPy, y cómo estas herramientas permiten procesar grandes volúmenes de datos de manera eficiente. Se aprenderá a crear y manipular arreglos, realizar operaciones matemáticas rápidas y comparar el rendimiento frente a los bucles tradicionales. También se exploran aplicaciones prácticas en ciencia, ingeniería y análisis de datos.\n",
    "\n",
    "> \"La eficiencia en el manejo de datos numéricos es clave para resolver problemas reales en ciencia y tecnología.\"\n",
    "\n",
    "**Importancia:**\n",
    "- NumPy permite realizar cálculos numéricos de manera mucho más rápida que con listas y bucles tradicionales de Python.\n",
    "- El manejo eficiente de datos es fundamental en áreas como ingeniería, ciencia de datos, simulaciones y procesamiento de imágenes.\n",
    "- Aprender a usar arreglos y operaciones vectorizadas es una habilidad esencial para cualquier programador científico.\n",
    "\n",
    "**Contenidos:**\n",
    "1. Arreglos de una dimensión\n",
    "2. Arreglos de múltiples dimensiones\n",
    "3. Operaciones vectorizadas\n",
    "4. Broadcasting"
   ]
  },
  {
   "cell_type": "markdown",
   "id": "2dc04bcb",
   "metadata": {},
   "source": [
    "---\n",
    "\n",
    "## 1. Concepto de archivo para la persistencia de datos\n",
    "\n",
    "---\n",
    "\n",
    "### ¿Qué es un Archivo y Por Qué es Importante? 🗂️\n",
    "\n",
    "Hasta este punto, todos los datos con los que se ha trabajado (variables, listas, etc.) residen en la **memoria RAM**. Esta memoria es **volátil**, lo que significa que cuando el programa termina o se apaga la computadora, toda la información se pierde.\n",
    "\n",
    "Un **archivo** es un contenedor de información en un dispositivo de almacenamiento **no volátil** (como un disco duro, un SSD o una memoria USB). Permite la **persistencia de datos**: guardar el estado de un programa, los resultados de cálculos o cualquier información para poder utilizarla en el futuro.\n",
    "\n",
    "**Analogía**: La memoria RAM es como una memoria a corto plazo para pensar en un problema. Un archivo es como un cuaderno donde se anota la solución para que no se olvide. 📓\n",
    "\n",
    "---"
   ]
  },
  {
   "cell_type": "markdown",
   "id": "46c03ed3",
   "metadata": {},
   "source": [
    "### Trabajar con Archivos de Texto (.txt) 📝\n",
    "\n",
    "Los archivos de texto plano son la forma más simple de persistencia. No tienen formato, solo caracteres.\n",
    "\n",
    "---"
   ]
  },
  {
   "cell_type": "markdown",
   "id": "33d005b8",
   "metadata": {},
   "source": [
    "#### Leer archivos de texto en Python con `open()`\n",
    "\n",
    "Para leer archivos de texto en Python, se utiliza la función incorporada `open()`. Esta función permite abrir un archivo y obtener un objeto que se puede usar para leer su contenido.\n",
    "\n",
    "**Sintaxis básica:**\n",
    "```python\n",
    "archivo = open('ruta/al/archivo.txt', 'modo')\n",
    "```\n",
    "\n",
    "- `'ruta/al/archivo.txt'`: Es la ruta al archivo que se desea abrir. Puede ser una ruta relativa (por ejemplo, `'datos.txt'`) o una ruta absoluta (por ejemplo, `'/home/usuario/documentos/datos.txt'`).\n",
    "- `'modo'`: Especifica cómo se abrirá el archivo. Los modos más comunes son:\n",
    "    - `'r'`: Solo lectura (por defecto). El archivo debe existir.\n",
    "    - `'w'`: Escritura. Si el archivo existe, se sobreescribe; si no existe, se crea uno nuevo.\n",
    "    - `'a'`: Añadir (append). Si el archivo existe, se añade al final; si no existe, se crea uno nuevo.\n",
    "    - `'x'`: Creación exclusiva. Falla si el archivo ya existe.\n",
    "    - `'b'`: Modo binario (por ejemplo, `'rb'` para leer en binario).\n",
    "    - `'t'`: Modo texto (por ejemplo, `'rt'` para leer en texto, es el valor por defecto).\n",
    "\n",
    "\n",
    "\n",
    "**Sobre las rutas:**\n",
    "- Cada `/` representa una carpeta en el sistema de archivos. Por ejemplo, `ruta/al/archivo.txt` indica que hay una carpeta llamada `ruta`, dentro de ella otra llamada `al`, y dentro de `al` está el archivo.\n",
    "- Si el archivo está en la misma carpeta que el notebook, basta con poner el nombre del archivo.\n",
    "- Si está en otra carpeta, se debe especificar la ruta relativa o absoluta.\n",
    "- En Windows, se recomienda usar doble barra invertida (`\\\\`) o una barra normal (`/`).\n",
    "\n",
    "---"
   ]
  },
  {
   "cell_type": "markdown",
   "id": "4d15fad6",
   "metadata": {},
   "source": [
    "En Colab, se pueden subir archivos temporalmente usando el widget de subida de archivos o en el menú de la izquierda, donde se encuentra el explorador de archivos.\n",
    "\n",
    "---"
   ]
  },
  {
   "cell_type": "code",
   "execution_count": null,
   "id": "4ddbcc7b",
   "metadata": {},
   "outputs": [],
   "source": [
    "# Subir archivos a Colab usando widgets\n",
    "from google.colab import files\n",
    "\n",
    "# Esto abrirá un botón para seleccionar archivos desde tu computadora\n",
    "uploaded = files.upload()"
   ]
  },
  {
   "cell_type": "code",
   "execution_count": null,
   "id": "328b42c8",
   "metadata": {},
   "outputs": [],
   "source": [
    "# Abrir el archivo en modo lectura ('r')\n",
    "archivo = open('ejemplo.txt', 'r')\n",
    "contenido = archivo.read()  # Lee todo el contenido como una sola cadena\n",
    "archivo.close()  # ¡Recuerde cerrar el archivo!\n",
    "print(contenido)"
   ]
  },
  {
   "cell_type": "markdown",
   "id": "8f187386",
   "metadata": {},
   "source": [
    "**Recomendación:** Es mejor usar la instrucción `with` para abrir archivos, ya que así se cierran automáticamente:\n",
    "\n",
    "---"
   ]
  },
  {
   "cell_type": "code",
   "execution_count": null,
   "id": "83ebcb4d",
   "metadata": {},
   "outputs": [],
   "source": [
    "with open('ejemplo.txt', 'r') as archivo:\n",
    "    for linea in archivo:\n",
    "        print(linea.strip())"
   ]
  },
  {
   "cell_type": "markdown",
   "id": "3b371cde",
   "metadata": {},
   "source": [
    "En Python, cuando se abre un archivo con `open()` sin usar with, el archivo no se cierra automáticamente al salir del bloque de código, lo que puede traer varios problemas:\n",
    "\n",
    "1.\tFugas de recursos: El archivo queda abierto en el sistema operativo hasta que se cierre manualmente con `archivo.close()`. Si se abren muchos archivos sin cerrarlos, se puede alcanzar el límite de descriptores de archivo del sistema.\n",
    "\n",
    "2.\tDatos no escritos correctamente: Si se abre un archivo en modo escritura ('w', 'a' o 'r+') y no lo se cierra, el contenido en el archivo podría no guardarse en disco, lo que puede causar pérdida de datos.\n",
    "\n",
    "3.\tBloqueo de archivos: Algunos sistemas mantienen bloqueos sobre archivos abiertos, lo que puede impedir que otros procesos (o incluso el mismo programa) los accedan correctamente hasta que se liberen.\n",
    "\n",
    "---"
   ]
  },
  {
   "cell_type": "markdown",
   "id": "8c7cb96e",
   "metadata": {},
   "source": [
    "#### Escribir en un archivo .txt\n",
    "\n",
    "Se utiliza la función `open()` con el modo `'w'` (write/escribir).\n",
    "\n",
    "**¡Cuidado!** El modo `'w'` **sobrescribe** el archivo si ya existe. Si se desea añadir al final, se debe usar el modo `'a'` (append/añadir).\n",
    "\n",
    "---"
   ]
  },
  {
   "cell_type": "code",
   "execution_count": null,
   "id": "45e97259",
   "metadata": {},
   "outputs": [],
   "source": [
    "def guardar_log(mensaje: str, nombre_archivo: str = \"log.txt\") -> None:\n",
    "    \"\"\"\n",
    "    Guarda un mensaje en un archivo de log con una marca de tiempo.\n",
    "\n",
    "    Args:\n",
    "        mensaje (str): El mensaje a guardar en el log.\n",
    "        nombre_archivo (str): El nombre del archivo de log. Por defecto es 'log.txt'.\n",
    "    \"\"\"\n",
    "    import datetime\n",
    "    # 'with' se asegura de que el archivo se cierre automáticamente\n",
    "    with open(nombre_archivo, 'a') as archivo:\n",
    "        timestamp = datetime.datetime.now().strftime(\"%Y-%m-%d %H:%M:%S\")\n",
    "        archivo.write(f\"[{timestamp}] - {mensaje}\\n\")\n",
    "\n",
    "# Escribimos varias líneas en nuestro log\n",
    "\n",
    "guardar_log(\"Inicio del proceso de simulación.\")\n",
    "guardar_log(\"Cargando parámetros iniciales.\")\n",
    "guardar_log(\"Simulación completada con éxito.\")\n",
    "print(\"Se ha escrito en el archivo 'log.txt'\")"
   ]
  },
  {
   "cell_type": "markdown",
   "id": "2a7a2929",
   "metadata": {},
   "source": [
    "#### 📋 Ejercicio: Registro de moléculas\n",
    "\n",
    "Escriba un programa en Python que permita **registrar información de moléculas** en un archivo de texto (`moleculas.txt`).  \n",
    "\n",
    "1. El programa debe pedir al usuario, mediante `input()`, los siguientes datos de cada molécula:  \n",
    "   - **Nombre de la molécula**  \n",
    "   - **Fórmula química**  \n",
    "   - **Masa molecular (g/mol)**  \n",
    "\n",
    "2. Una vez introducidos los datos, deben guardarse en el archivo `moleculas.txt` en el siguiente formato (una molécula por línea):  \n",
    "\n",
    "```txt\n",
    "Nombre | Fórmula | Masa\n",
    "```\n",
    "\n",
    "Ejemplo:  \n",
    "\n",
    "```txt\n",
    "Agua | H2O | 18.015\n",
    "Dióxido de carbono | CO2 | 44.01\n",
    "```\n",
    "\n",
    "3. El programa debe permitir **registrar varias moléculas de manera consecutiva**, hasta que el usuario indique que no quiere continuar (por ejemplo, escribiendo `\"no\"` cuando se le pregunte si desea ingresar otra molécula).  \n",
    "\n",
    "4. Al terminar, el archivo `moleculas.txt` debe contener todas las moléculas registradas.  \n",
    "\n",
    "---"
   ]
  },
  {
   "cell_type": "code",
   "execution_count": null,
   "id": "0498b9ec",
   "metadata": {},
   "outputs": [],
   "source": [
    "def pedir_datos() -> tuple[str, str, str]:\n",
    "    \"\"\"\n",
    "    Pide los datos de una molécula al usuario y los retorna como una tupla.\n",
    "\n",
    "    Returns:\n",
    "        tuple[str, str, str]: Una tupla con (nombre, fórmula, masa).\n",
    "    \"\"\"\n",
    "    nombre = input(\"Ingrese el nombre de la molécula: \")\n",
    "    formula = input(\"Ingrese la fórmula química: \")\n",
    "    masa = input(\"Ingrese la masa molecular (g/mol): \")\n",
    "    return nombre, formula, masa\n",
    "\n",
    "\n",
    "def guardar_datos(archivo: str, datos: tuple[str, str, str]) -> None:\n",
    "    \"\"\"\n",
    "    Guarda los datos de una molécula en un archivo de texto.\n",
    "\n",
    "    Args:\n",
    "        archivo (str): La ruta del archivo donde se guardarán los datos.\n",
    "        datos (tuple[str, str, str]): Una tupla con (nombre, fórmula, masa).\n",
    "    \"\"\"\n",
    "    with open(archivo, \"a\", encoding=\"utf-8\") as f:\n",
    "        nombre, formula, masa = datos\n",
    "        f.write(f\"{nombre} | {formula} | {masa}\\n\")\n",
    "\n",
    "archivo = \"moleculas.txt\"\n",
    "while True:\n",
    "    datos = pedir_datos()\n",
    "    guardar_datos(archivo, datos)\n",
    "\n",
    "    continuar = input(\"¿Desea registrar otra molécula? (sí/no): \").strip().lower()\n",
    "    if continuar == \"no\":\n",
    "        break\n",
    "\n",
    "print(f\"\\nRegistro completado. Los datos se guardaron en '{archivo}'.\")"
   ]
  },
  {
   "cell_type": "markdown",
   "id": "a8f1ad56",
   "metadata": {},
   "source": [
    "---\n",
    "\n",
    "## 2. Bibliotecas para el Análisis de Datos\n",
    "\n",
    "---\n",
    "\n",
    "Aunque Python puede manejar archivos de texto básicos por sí mismo, para tareas más complejas como trabajar con hojas de cálculo o grandes conjuntos de datos, usamos bibliotecas especializadas.\n",
    "\n",
    "La biblioteca más importante para el análisis de datos en Python es **Pandas**.\n",
    "\n",
    "**Pandas** introduce dos estructuras de datos súper poderosas:\n",
    "\n",
    "  * **`Series`**: Es como una columna de una tabla. Un arreglo de una dimensión con etiquetas (un índice).\n",
    "  * **`DataFrame`**: Es una tabla completa, con filas y columnas. Es la estructura de datos principal en Pandas y se puede pensar en ella como una hoja de Excel o una tabla de SQL.\n",
    "\n",
    "Para instalar pandas (si no lo tienes), abra su terminal y escriba: `pip install pandas`\n",
    "\n",
    "---"
   ]
  },
  {
   "cell_type": "code",
   "execution_count": null,
   "id": "0ab22173",
   "metadata": {},
   "outputs": [],
   "source": [
    "!pip install pandas"
   ]
  },
  {
   "cell_type": "code",
   "execution_count": null,
   "id": "6e7342f6",
   "metadata": {},
   "outputs": [],
   "source": [
    "import pandas as pd"
   ]
  },
  {
   "cell_type": "markdown",
   "id": "41e64200",
   "metadata": {},
   "source": [
    "### Creando un DataFrame\n",
    "\n",
    "Para crear un DataFrame, se puede iniciar con un diccionario que tenga las columnas y los datos de cada columna:\n",
    "\n",
    "```python\n",
    "datos = {\n",
    "    \"columna_1\": [valor_1_1, valor_1_2, valor_1_3, ..., valor_1_n],\n",
    "    \"columna_2\": [valor_2_1, valor_2_2, valor_2_3, ..., valor_2_n],\n",
    "    \"columna_3\": [valor_3_1, valor_3_2, valor_3_3, ..., valor_3_n],\n",
    "    # ... más columnas si las hay\n",
    "}\n",
    "\n",
    "df_datos = pd.DataFrame(datos)\n",
    "```\n",
    "\n",
    "Esta sintaxis permite crear un DataFrame que se verá como una tabla de la siguiente forma:\n",
    "\n",
    "\n",
    "| columna_1    | columna_2    | columna_3    | ... |\n",
    "|--------------|--------------|--------------|-----|\n",
    "| valor_1_1    | valor_2_1    | valor_3_1    | ... |\n",
    "| valor_1_2    | valor_2_2    | valor_3_2    | ... |\n",
    "| valor_1_3    | valor_2_3    | valor_3_3    | ... |\n",
    "| ...          | ...          | ...          | ... |\n",
    "| valor_1_n    | valor_2_n    | valor_3_n    | ... |\n",
    "\n",
    "---"
   ]
  },
  {
   "cell_type": "code",
   "execution_count": null,
   "id": "60de95b3",
   "metadata": {},
   "outputs": [],
   "source": [
    "# Creamos un diccionario con los datos\n",
    "datos_sensores = {\n",
    "    'tiempo_seg': [0, 1, 2, 3, 4],\n",
    "    'temperatura_C': [25.1, 25.3, 25.2, 25.4, 25.5],\n",
    "    'humedad_pct': [45, 46, 45, 47, 48]\n",
    "}\n",
    "\n",
    "# Creamos el DataFrame\n",
    "df_sensores = pd.DataFrame(datos_sensores)\n",
    "\n",
    "print(\"--- Nuestro DataFrame ---\")\n",
    "print(df_sensores)"
   ]
  },
  {
   "cell_type": "markdown",
   "id": "3abfe15c",
   "metadata": {},
   "source": [
    "También, se puede pasar una lista de diccionarios, en donde cada diccionario tenga un valor por cada columna del DataFrame. Esto sería equivalente a decir que cada diccionario en la lista es una fila."
   ]
  },
  {
   "cell_type": "code",
   "execution_count": null,
   "id": "f1d8ead5",
   "metadata": {},
   "outputs": [],
   "source": [
    "datos_sensores = [\n",
    "    {'tiempo_seg': 0, 'temperatura_C': 25.1, 'humedad_pct': 45},\n",
    "    {'tiempo_seg': 1, 'temperatura_C': 25.3, 'humedad_pct': 46},\n",
    "    {'tiempo_seg': 2, 'temperatura_C': 25.2, 'humedad_pct': 45},\n",
    "    {'tiempo_seg': 3, 'temperatura_C': 25.4, 'humedad_pct': 47},\n",
    "    {'tiempo_seg': 4, 'temperatura_C': 25.5, 'humedad_pct': 48}\n",
    "]\n",
    "\n",
    "df_sensores = pd.DataFrame(datos_sensores)\n",
    "\n",
    "print(\"--- Nuestro DataFrame ---\")\n",
    "print(df_sensores)"
   ]
  },
  {
   "cell_type": "markdown",
   "id": "d3a491da",
   "metadata": {},
   "source": [
    "### Trabajando con Archivos CSV y Excel 📊\n",
    "\n",
    "Para datos tabulares (como hojas de cálculo), Pandas es la herramienta ideal.\n",
    "\n",
    "  * **CSV (Comma-Separated Values)**: Un formato de texto simple donde los valores de las columnas se separan por comas. Es universal y ligero.\n",
    "  * **XLSX (Excel)**: El formato nativo de Microsoft Excel. Puede contener múltiples hojas, fórmulas y formato.\n",
    "\n",
    "---"
   ]
  },
  {
   "cell_type": "markdown",
   "id": "561a4eb8",
   "metadata": {},
   "source": [
    "#### CSVs\n",
    "\n",
    "Se puede usar el método `.to_csv()` para guardar un DataFrame como un archivo CSV. \n",
    "\n",
    "Se puede usar el argumento `index`, que toma un `bool` para indicar su se quiere guardar el índice del DataFrame en el archivo o no. El valor por defecto es `True`.\n",
    "\n",
    "---"
   ]
  },
  {
   "cell_type": "code",
   "execution_count": null,
   "id": "52d29c19",
   "metadata": {},
   "outputs": [],
   "source": [
    "df_sensores.to_csv(\"datos_sensores_sin_indice.csv\", index=False)\n",
    "df_sensores.to_csv(\"datos_sensores.csv\", index=True)"
   ]
  },
  {
   "cell_type": "markdown",
   "id": "65a4da58",
   "metadata": {},
   "source": [
    "Para cargar los datos, se usa la función `pd.read_csv()`.\n",
    "\n",
    "---"
   ]
  },
  {
   "cell_type": "code",
   "execution_count": null,
   "id": "9f4153aa",
   "metadata": {},
   "outputs": [],
   "source": [
    "df_csv = pd.read_csv(\"datos_sensores.csv\")\n",
    "print(df_csv)"
   ]
  },
  {
   "cell_type": "markdown",
   "id": "2212944f",
   "metadata": {},
   "source": [
    "#### XLSX\n",
    "\n",
    "Es casi idéntico a trabajar con CSV, pero se usa `.to_excel()` para leer los datos.\n",
    "\n",
    "Se puede especificar un nombre de una hoja de cálculo, con el parámetro `sheet_name`.\n",
    "\n",
    "---"
   ]
  },
  {
   "cell_type": "code",
   "execution_count": null,
   "id": "83fc0053",
   "metadata": {},
   "outputs": [],
   "source": [
    "df_sensores.to_excel(\"datos_sensores.xlsx\", sheet_name=\"Lecturas\", index=False)"
   ]
  },
  {
   "cell_type": "markdown",
   "id": "aae7815f",
   "metadata": {},
   "source": [
    "Para cargar los datos, se usa la función `pd.read_excel()`.\n",
    "\n",
    "---"
   ]
  },
  {
   "cell_type": "code",
   "execution_count": null,
   "id": "9305ead3",
   "metadata": {},
   "outputs": [],
   "source": [
    "df_excel = pd.read_excel(\"datos_sensores.xlsx\", sheet_name=\"Lecturas\")\n",
    "print(df_excel)"
   ]
  },
  {
   "cell_type": "markdown",
   "id": "638fa702",
   "metadata": {},
   "source": [
    "#### 👨‍🎓 Ejercicio: Estudiantes\n",
    "\n",
    "Cree un programa que permita ingresar los datos de varios estudiantes y los guarde en un archivo CSV. Cada estudiante debe tener las siguientes columnas:  \n",
    "- **Nombre** → string  \n",
    "- **Edad** → entero  \n",
    "- **Nota_Matematicas** → float  \n",
    "- **Ciudad** → string  \n",
    "\n",
    "El programa debe:  \n",
    "1. Pedir al usuario que ingrese los datos un estudiante hasta que ya no quiera ingresar más datos.  \n",
    "2. Permitir ingresar tantos estudiantes como el usuario desee, hasta que indique que no quiere agregar más.  \n",
    "3. Validar que la **edad** sea un número entero y la **nota de matemáticas** un número decimal válido.  \n",
    "4. Guardar todos los estudiantes ingresados en un **DataFrame de pandas**.  \n",
    "5. Exportar el DataFrame a un archivo llamado `estudiantes.csv`. \n",
    "\n",
    "---"
   ]
  },
  {
   "cell_type": "code",
   "execution_count": null,
   "id": "2619e0a4",
   "metadata": {},
   "outputs": [],
   "source": [
    "# Lista vacía para almacenar los estudiantes\n",
    "estudiantes = []\n",
    "\n",
    "# Variable de control para el bucle principal\n",
    "continuar = 's'\n",
    "\n",
    "while continuar.lower() == 's':\n",
    "    print(\"\\nIngrese los datos del estudiante:\")\n",
    "\n",
    "    nombre = input(\"Nombre: \")\n",
    "    \n",
    "    # Validar que la edad sea un entero\n",
    "    edad_valida = False\n",
    "    while not edad_valida:\n",
    "        try:\n",
    "            edad = int(input(\"Edad: \"))\n",
    "            edad_valida = True\n",
    "        except ValueError:\n",
    "            print(\"Por favor, ingrese un número entero para la edad.\")\n",
    "    \n",
    "    # Validar que la nota sea un número flotante\n",
    "    nota_valida = False\n",
    "    while not nota_valida:\n",
    "        try:\n",
    "            nota = float(input(\"Nota de Matemáticas: \"))\n",
    "            nota_valida = True\n",
    "        except ValueError:\n",
    "            print(\"Por favor, ingrese un número válido para la nota.\")\n",
    "    \n",
    "    ciudad = input(\"Ciudad: \")\n",
    "    \n",
    "    # Agregar el estudiante a la lista\n",
    "    estudiantes.append({\n",
    "        \"Nombre\": nombre,\n",
    "        \"Edad\": edad,\n",
    "        \"Nota_Matematicas\": nota,\n",
    "        \"Ciudad\": ciudad\n",
    "    })\n",
    "    \n",
    "    continuar_valida = False\n",
    "    while not continuar_valida:\n",
    "        continuar = input(\"¿Desea ingresar otro estudiante? (s/n): \").strip().lower()\n",
    "        if continuar in ['s', 'n']:\n",
    "            continuar_valida = True\n",
    "        else:\n",
    "            print(\"Por favor, ingrese 's' para sí o 'n' para no.\")\n",
    "\n",
    "# Crear el DataFrame\n",
    "df = pd.DataFrame(estudiantes)\n",
    "\n",
    "# Mostrar el DataFrame\n",
    "print(\"\\nDataFrame de Estudiantes:\")\n",
    "print(df)\n",
    "\n",
    "# Guardar en CSV\n",
    "df.to_csv(\"estudiantes.csv\", index=False)\n",
    "print(\"\\nArchivo 'estudiantes.csv' creado correctamente.\")"
   ]
  },
  {
   "cell_type": "markdown",
   "id": "014b8bd0",
   "metadata": {},
   "source": [
    "### Operaciones básicas con DataFrames\n",
    "\n",
    "A continuación se presentan algunas de las operaciones más comunes que se pueden realizar con DataFrames.\n",
    "\n",
    "---"
   ]
  },
  {
   "cell_type": "markdown",
   "id": "4e6629a5",
   "metadata": {},
   "source": [
    "#### Ver los primeros datos\n",
    "\n",
    "Para ver los primeros datos de un DataFrame se usa `.head()`. Como parámetro se le puede indicar la cantidad de filas que se quieren ver.\n",
    "\n",
    "---"
   ]
  },
  {
   "cell_type": "code",
   "execution_count": null,
   "id": "c2dad727",
   "metadata": {},
   "outputs": [],
   "source": [
    "# Mostrar las primeras filas de un DataFrame\n",
    "print(df_sensores.head())"
   ]
  },
  {
   "cell_type": "markdown",
   "id": "cc31aca2",
   "metadata": {},
   "source": [
    "#### Seleccionar una columna del DataFrame\n",
    "\n",
    "Para seleccionar una columna específica, se puede usar el nombre de la columna entre corchetes.\n",
    "\n",
    "---"
   ]
  },
  {
   "cell_type": "code",
   "execution_count": null,
   "id": "fd6f349d",
   "metadata": {},
   "outputs": [],
   "source": [
    "# Seleccionar la columna de temperatura\n",
    "print(df_sensores['temperatura_C'])"
   ]
  },
  {
   "cell_type": "markdown",
   "id": "2c60dc59",
   "metadata": {},
   "source": [
    "#### Filtrar filas según una condición\n",
    "\n",
    "Se pueden seleccionar solo las filas que cumplen una condición lógica.\n",
    "\n",
    "Las filas de los DataFrames se pueden filtrar por medio de **indexación booleana**, similar a los arreglos de NumPy.\n",
    "\n",
    "Pero, existe una diferencia: los DataFrames aceptan una lista de `bool`, o un objeto `Series` que tenga un booleano por fila.\n",
    "\n",
    "---"
   ]
  },
  {
   "cell_type": "code",
   "execution_count": null,
   "id": "194a8455",
   "metadata": {},
   "outputs": [],
   "source": [
    "print(df_sensores['temperatura_C'] > 25.3)\n",
    "print(type(df_sensores['temperatura_C'] > 25.3))"
   ]
  },
  {
   "cell_type": "code",
   "execution_count": null,
   "id": "57cfa895",
   "metadata": {},
   "outputs": [],
   "source": [
    "# Filtrar filas donde la temperatura sea mayor a 25.3\n",
    "condicion_serie = df_sensores['temperatura_C'] > 25.3\n",
    "condicion_lista = condicion_serie.tolist()\n",
    "\n",
    "print(df_sensores[condicion_serie])\n",
    "print(df_sensores[condicion_lista])\n",
    "print(df_sensores[df_sensores['temperatura_C'] > 25.3])"
   ]
  },
  {
   "cell_type": "markdown",
   "id": "cf8c8c84",
   "metadata": {},
   "source": [
    "También, se pueden combinar condiciones"
   ]
  },
  {
   "cell_type": "code",
   "execution_count": null,
   "id": "8f35b724",
   "metadata": {},
   "outputs": [],
   "source": [
    "print(df_sensores[(df_sensores['humedad_pct'] < 47) & (df_sensores['temperatura_C'] > 25.2)])\n",
    "\n",
    "print(df_sensores[(df_sensores['humedad_pct'] < 47) | (df_sensores['temperatura_C'] > 25.2)])\n",
    "\n",
    "print(df_sensores[~(df_sensores['humedad_pct'] < 47)])"
   ]
  },
  {
   "cell_type": "markdown",
   "id": "125bce40",
   "metadata": {},
   "source": [
    "#### Cambiar el valor de una columna\n",
    "\n",
    "Se pueden seleccionar solo las filas que cumplen una condición lógica y luego cambiar el valor de estas filas en el DataFrame original.  \n",
    "\n",
    "Para esto se utiliza `.loc`, que sirve para **acceder y modificar filas y columnas por sus etiquetas (nombres)**.  \n",
    "La sintaxis más común en este caso es:  \n",
    "\n",
    "```python\n",
    "# Para acceder a los datos\n",
    "df.loc[condición, nombre_columna]\n",
    "\n",
    "# Para cambiar esos datos\n",
    "df.loc[condición, nombre_columna] = nuevo_valor\n",
    "```\n",
    "\n",
    "---"
   ]
  },
  {
   "cell_type": "code",
   "execution_count": null,
   "id": "c201631c",
   "metadata": {},
   "outputs": [],
   "source": [
    "condicion = df_sensores['humedad_pct'] < 25.2\n",
    "columna = 'humedad_pct'\n",
    "\n",
    "print(df_sensores.loc[condicion, [columna]])\n",
    "# Reemplazar los valores en la columna 'humedad_pct' donde la condición es verdadera\n",
    "df_sensores.loc[condicion, [columna]] = 0\n",
    "print(df_sensores['temperatura_C'])"
   ]
  },
  {
   "cell_type": "markdown",
   "id": "47e5b977",
   "metadata": {},
   "source": [
    "También se puede usar `.iloc`. El método `.iloc` funciona igual que `.loc`, pero en vez de etiquetas usa índices numéricos (posición de filas y columnas).\n",
    "\n",
    "La sintaxis es:\n",
    "```python\n",
    "# Para acceder a los datos\n",
    "df.iloc[rango_num_fila, rango_num_columna]\n",
    "\n",
    "# Para cambiar esos datos\n",
    "df.iloc[rango_num_fila, rango_num_columna] = nuevo_valor\n",
    "```\n",
    "\n",
    "---"
   ]
  },
  {
   "cell_type": "code",
   "execution_count": null,
   "id": "91da1a36",
   "metadata": {},
   "outputs": [],
   "source": [
    "# Obtener las primeras dos filas y la primera columna usando iloc\n",
    "print(df_sensores.iloc[0:2, 0])"
   ]
  },
  {
   "cell_type": "markdown",
   "id": "3aaa86f5",
   "metadata": {},
   "source": [
    "#### Reemplazar los valores nulos\n",
    "\n",
    "En ocasiones, los DataFrames tienen datos nulos (vacíos o inválidos) en sus columnas. Se pueden reemplazar estos datos buscando cuáles son nulos. Se puede usar el método `.isna` o `.isnull` para obtener una DataFrame o un objecto Series con booleanos indicando si el dato es nulo.\n",
    "\n",
    "---"
   ]
  },
  {
   "cell_type": "code",
   "execution_count": null,
   "id": "83359396",
   "metadata": {},
   "outputs": [],
   "source": [
    "df = pd.DataFrame({\n",
    "    \"Nombre\": [\"Ana\", None, \"Carlos\", \"Marta\"],  # None se convierte en NA\n",
    "    \"Edad\": [25, 30, None, 28]                   # None en números → NaN\n",
    "})\n",
    "\n",
    "print(df.isnull())\n",
    "print(df.isna())\n",
    "\n",
    "df['Edad'].fillna(0, inplace=True)  # Reemplaza NaN con 0"
   ]
  },
  {
   "cell_type": "markdown",
   "id": "8530e729",
   "metadata": {},
   "source": [
    "Se puede usar el método `.fillna` para reemplazar los valores nulos con cierto valor.\n",
    "\n",
    "Se usa el parámetro `inplace` con un `bool` para indicar si el cambio se hace sobre la referencia original, en vez de devolver una copia."
   ]
  },
  {
   "cell_type": "code",
   "execution_count": null,
   "id": "7fba7b0a",
   "metadata": {},
   "outputs": [],
   "source": [
    "df['Nombre'].fillna(\"Desconocido\", inplace=True)  # Reemplaza None con \"Desconocido\"\n",
    "print(df)\n",
    "\n",
    "df['Edad'] = df['Edad'].fillna(0)  # Reemplaza NaN con 0"
   ]
  },
  {
   "cell_type": "markdown",
   "id": "e892ed39",
   "metadata": {},
   "source": [
    "#### Crear nuevas columnas\n",
    "\n",
    "Se pueden crear nuevas columnas poniendo entre `[]` el nombre de la nueva columna, junto a la asignación deseada.\n",
    "\n",
    "---"
   ]
  },
  {
   "cell_type": "markdown",
   "id": "63c65c93",
   "metadata": {},
   "source": [
    "Una forma de crearla es igualando la columna a un valor constante:"
   ]
  },
  {
   "cell_type": "code",
   "execution_count": null,
   "id": "4ad3d3cf",
   "metadata": {},
   "outputs": [],
   "source": [
    "df['Ciudad'] = 'San José'  # Nueva columna con valor constante\n",
    "print(df)"
   ]
  },
  {
   "cell_type": "markdown",
   "id": "70b30793",
   "metadata": {},
   "source": [
    "Otra forma es crearla por medio de una lista de valores que tenga la misma cantidad de valores que la cantidad de filas:"
   ]
  },
  {
   "cell_type": "code",
   "execution_count": null,
   "id": "95a6fbfc",
   "metadata": {},
   "outputs": [],
   "source": [
    "df['Puntaje'] = [85, 90, 78, 92]  # Nueva columna con una lista de valores\n",
    "\n",
    "# Nueva columna indicando si la persona es mayor de 25\n",
    "df[\"Mayor_25\"] = df[\"Edad\"] > 25\n",
    "\n",
    "print(df)"
   ]
  },
  {
   "cell_type": "markdown",
   "id": "f299b86b",
   "metadata": {},
   "source": [
    "Otra es usar una función que procese cierta columna, usando `apply` y pasando de parámetro la función deseada:"
   ]
  },
  {
   "cell_type": "code",
   "execution_count": null,
   "id": "3f752e37",
   "metadata": {},
   "outputs": [],
   "source": [
    "# Crear columna con longitud del nombre\n",
    "df[\"Longitud_Nombre\"] = df[\"Nombre\"].apply(len)\n",
    "\n",
    "print(df)"
   ]
  },
  {
   "cell_type": "markdown",
   "id": "936cd66a",
   "metadata": {},
   "source": [
    "Finalmente, se puede usar `np.where` para soluciones más complejas:"
   ]
  },
  {
   "cell_type": "code",
   "execution_count": null,
   "id": "075cce64",
   "metadata": {},
   "outputs": [],
   "source": [
    "import numpy as np\n",
    "\n",
    "df[\"Categoria\"] = np.where(df[\"Edad\"] > 25, \"Adulto\", \"Joven\")\n",
    "print(df)"
   ]
  },
  {
   "cell_type": "markdown",
   "id": "0f73bb1a",
   "metadata": {},
   "source": [
    "#### Calcular estadísticas básicas\n",
    "\n",
    "Pandas permite calcular estadísticas como promedio, máximo, mínimo, etc., de manera sencilla.\n",
    "\n",
    "---"
   ]
  },
  {
   "cell_type": "code",
   "execution_count": null,
   "id": "9e742926",
   "metadata": {},
   "outputs": [],
   "source": [
    "# Calcular el promedio de la temperatura\n",
    "print(df_sensores['temperatura_C'].mean())\n",
    "\n",
    "# Calcular la desviación estándar y varianza de la temperatura\n",
    "print(df_sensores['temperatura_C'].std())\n",
    "print(df_sensores['temperatura_C'].var())\n",
    "\n",
    "# Calcular la humedad máxima y mínima\n",
    "print(df_sensores['humedad_pct'].max())\n",
    "print(df_sensores['humedad_pct'].min())"
   ]
  },
  {
   "cell_type": "markdown",
   "id": "0c34cb63",
   "metadata": {},
   "source": [
    "#### Describir estadísticamente los datos\n",
    "\n",
    "El método `.describe()` entrega un resumen estadístico de las columnas numéricas del DataFrame.\n",
    "\n",
    "---"
   ]
  },
  {
   "cell_type": "code",
   "execution_count": null,
   "id": "d7ce4354",
   "metadata": {},
   "outputs": [],
   "source": [
    "# Resumen estadístico de las columnas numéricas\n",
    "print(df_sensores.describe())"
   ]
  },
  {
   "cell_type": "markdown",
   "id": "e87908f8",
   "metadata": {},
   "source": [
    "Otras operaciones se pueden consultar en la documentación oficial de [pandas](https://pandas.pydata.org/docs/reference/index.html)."
   ]
  },
  {
   "cell_type": "markdown",
   "id": "1f537df7",
   "metadata": {},
   "source": [
    "---\n",
    "\n",
    "## 🖼️ Manipulación de Imágenes (JPEG)\n",
    "\n",
    "Para manipular imágenes, una de las bibliotecas más populares es **Pillow**, una continuación del proyecto PIL (Python Imaging Library).\n",
    "\n",
    "Para instalarla: `pip install Pillow`\n",
    "\n",
    "---\n",
    "\n",
    "**Ejercicio: Abrir y Analizar una Imagen**\n",
    "Vamos a abrir una imagen, ver sus propiedades básicas y crear una versión en escala de grises. (Nota: para este ejercicio, necesitarás tener un archivo de imagen llamado \"robot.jpg\" en la misma carpeta).\n",
    "\n",
    "*(Si no tienes una imagen, puedes buscar una en internet y guardarla como \"robot.jpg\")*\n",
    "\n",
    "---"
   ]
  },
  {
   "cell_type": "code",
   "execution_count": null,
   "id": "69e7db25",
   "metadata": {},
   "outputs": [],
   "source": [
    "from PIL import Image\n",
    "\n",
    "try:\n",
    "    # Abrir la imagen\n",
    "    img = Image.open(\"robot.jpg\")\n",
    "\n",
    "    # Mostrar información básica\n",
    "    print(f\"Formato de la imagen: {img.format}\")\n",
    "    print(f\"Tamaño de la imagen (ancho x alto): {img.size}\")\n",
    "    print(f\"Modo de color: {img.mode}\") # RGB, L (escala de grises), etc.\n",
    "\n",
    "    # Convertir a escala de grises\n",
    "    img_gris = img.convert(\"L\")\n",
    "\n",
    "    # Guardar la nueva imagen\n",
    "    img_gris.save(\"robot_gris.jpg\")\n",
    "\n",
    "    print(\"\\n✅ Imagen convertida a escala de grises y guardada como 'robot_gris.jpg'\")\n",
    "\n",
    "    # Opcional: mostrar la imagen (puede no funcionar en todos los entornos)\n",
    "    # img.show()\n",
    "    # img_gris.show()\n",
    "\n",
    "except FileNotFoundError:\n",
    "    print(\"Error: Asegúrate de tener un archivo 'robot.jpg' en la misma carpeta.\")"
   ]
  },
  {
   "cell_type": "markdown",
   "id": "c8a8f7f6",
   "metadata": {},
   "source": [
    "## Ejercicios Adicionales\n",
    "\n",
    "---"
   ]
  },
  {
   "cell_type": "markdown",
   "id": "0162d663",
   "metadata": {},
   "source": [
    "**1. Agenda de Contactos (CSV):**\n",
    "Cree un programa que solicite al usuario un nombre y un número de teléfono, y lo guarde en un archivo `contactos.csv`. Si el archivo ya existe, debe añadir el nuevo contacto sin borrar los anteriores.\n",
    "\n",
    "---"
   ]
  },
  {
   "cell_type": "code",
   "execution_count": null,
   "id": "35c9c963",
   "metadata": {},
   "outputs": [],
   "source": [
    "import pandas as pd\n",
    "import os\n",
    "\n",
    "nombre = input(\"Ingresa el nombre del contacto: \")\n",
    "telefono = input(\"Ingresa el número de teléfono: \")\n",
    "\n",
    "nuevo_contacto = pd.DataFrame([{'nombre': nombre, 'telefono': telefono}])\n",
    "\n",
    "# 'a' para append (añadir), header=False para no escribir el encabezado de nuevo\n",
    "\n",
    "nuevo_contacto.to_csv('contactos.csv', mode='a', header=not os.path.exists('contactos.csv'), index=False)\n",
    "\n",
    "print(f\"Contacto '{nombre}' guardado.\")"
   ]
  },
  {
   "cell_type": "markdown",
   "id": "c5b67bfa",
   "metadata": {},
   "source": [
    "### Operaciones básicas con DataFrames\n",
    "\n",
    "Cree un archivo Excel llamado `calificaciones.xlsx` con columnas \"Estudiante\", \"Nota1\", \"Nota2\". Luego, escriba un programa que lea el archivo, calcule una nueva columna \"Promedio\" y guarde el resultado en una nueva hoja llamada \"Resultados Finales\" dentro del mismo archivo.\n",
    "\n",
    "---"
   ]
  },
  {
   "cell_type": "code",
   "execution_count": null,
   "id": "fe63380e",
   "metadata": {},
   "outputs": [],
   "source": [
    "import pandas as pd\n",
    "\n",
    "# Crear el DataFrame inicial y guardarlo\n",
    "\n",
    "datos_calificaciones = {\n",
    "    \"Estudiante\": [\"Ana\", \"Juan\", \"Pedro\"],\n",
    "    \"Nota1\": [85, 90, 78],\n",
    "    \"Nota2\": [92, 88, 80]\n",
    "}\n",
    "df_calif = pd.DataFrame(datos_calificaciones)\n",
    "df_calif.to_excel(\"calificaciones.xlsx\", sheet_name=\"Notas Parciales\", index=False)\n",
    "\n",
    "# Leer el archivo\n",
    "\n",
    "df_leido = pd.read_excel(\"calificaciones.xlsx\", sheet_name=\"Notas Parciales\")\n",
    "\n",
    "# Calcular el promedio\n",
    "\n",
    "df_leido['Promedio'] = df_leido[['Nota1', 'Nota2']].mean(axis=1)\n",
    "\n",
    "# Guardar en una nueva hoja\n",
    "\n",
    "with pd.ExcelWriter('calificaciones.xlsx', mode='a', engine='openpyxl') as writer:\n",
    "    df_leido.to_excel(writer, sheet_name='Resultados Finales', index=False)\n",
    "\n",
    "print(\"Archivo 'calificaciones.xlsx' actualizado con la hoja 'Resultados Finales'.\")"
   ]
  },
  {
   "cell_type": "markdown",
   "id": "df216c8a",
   "metadata": {},
   "source": [
    "---\n",
    "\n",
    "**3. Rotar una Imagen:**\n",
    "Utilice la biblioteca Pillow para abrir una imagen y guardarla rotada 90 grados.\n",
    "\n",
    "---"
   ]
  },
  {
   "cell_type": "code",
   "execution_count": null,
   "id": "d187f951",
   "metadata": {},
   "outputs": [],
   "source": [
    "from PIL import Image\n",
    "\n",
    "try:\n",
    "    img = Image.open(\"robot.jpg\")\n",
    "    img_rotada = img.rotate(90)\n",
    "    img_rotada.save(\"robot_rotado.jpg\")\n",
    "    print(\"Imagen rotada y guardada como 'robot_rotado.jpg'\")\n",
    "except FileNotFoundError:\n",
    "    print(\"Error: No se encontró el archivo 'robot.jpg'\")"
   ]
  },
  {
   "cell_type": "markdown",
   "id": "11e7db21",
   "metadata": {},
   "source": [
    "---\n",
    "\n",
    "**4. Filtrar Datos de CSV:**\n",
    "Lee el archivo `datos_sensores.csv`. Filtra y muestra solo las filas donde la temperatura sea mayor a 25.3.\n",
    "\n",
    "---"
   ]
  },
  {
   "cell_type": "code",
   "execution_count": null,
   "id": "cf7b881a",
   "metadata": {},
   "outputs": [],
   "source": [
    "import pandas as pd\n",
    "\n",
    "try:\n",
    "    df = pd.read_csv(\"datos_sensores.csv\")\n",
    "    temperaturas_altas = df[df['temperatura_C'] > 25.3]\n",
    "    print(\"--- Filas con temperatura mayor a 25.3°C ---\")\n",
    "    print(temperaturas_altas)\n",
    "except FileNotFoundError:\n",
    "    print(\"Error: Ejecuta primero la celda que crea 'datos_sensores.csv'\")"
   ]
  },
  {
   "cell_type": "markdown",
   "id": "70d8575b",
   "metadata": {},
   "source": [
    "---\n",
    "\n",
    "**5. Contar Líneas de un Archivo:**\n",
    "Escriba una función que reciba el nombre de un archivo de texto y devuelva el número de líneas que contiene. Utilícela para contar las líneas del archivo `log.txt`.\n",
    "\n",
    "---"
   ]
  },
  {
   "cell_type": "code",
   "execution_count": null,
   "id": "fffd16ab",
   "metadata": {},
   "outputs": [],
   "source": [
    "def contar_lineas(nombre_archivo: str) -> int:\n",
    "    \"\"\"Cuenta el número de líneas en un archivo de texto.\"\"\"\n",
    "    try:\n",
    "        with open(nombre_archivo, 'r') as archivo:\n",
    "            return len(archivo.readlines())\n",
    "    except FileNotFoundError:\n",
    "        return 0\n",
    "\n",
    "num_lineas = contar_lineas(\"log.txt\")\n",
    "print(f\"El archivo 'log.txt' tiene {num_lineas} líneas.\")"
   ]
  }
 ],
 "metadata": {
  "language_info": {
   "name": "python"
  }
 },
 "nbformat": 4,
 "nbformat_minor": 5
}
