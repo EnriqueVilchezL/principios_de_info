{
 "cells": [
  {
   "cell_type": "markdown",
   "id": "39288afa",
   "metadata": {},
   "source": [
    "# Principios de Informática: Estructuras de Datos Fundamentales 🗃️\n",
    "### Organizando la información para resolver problemas complejos\n",
    "\n",
    "**Curso:** Principios de Informática"
   ]
  },
  {
   "cell_type": "markdown",
   "id": "62b6f1c6",
   "metadata": {},
   "source": [
    "## ¿Por qué necesitamos diferentes 'cajas'? 📦\n",
    "\n",
    "Imagina que tienes que organizar tus cosas. Usarías una caja de herramientas para los tornillos y martillos, un álbum para tus fotos y una agenda para tus contactos. Cada 'contenedor' está diseñado para un propósito específico.\n",
    "\n",
    "En programación, ocurre lo mismo. No todos los datos son iguales, por lo que usamos diferentes **estructuras de datos** para organizarlos de manera eficiente. Elegir la estructura correcta es fundamental para escribir código limpio, rápido y fácil de mantener.\n",
    "\n",
    "Hoy exploraremos los cuatro contenedores fundamentales de Python: **Listas**, **Tuplas**, **Diccionarios** y **Conjuntos**.\n",
    "\n",
    "---"
   ]
  },
  {
   "cell_type": "markdown",
   "id": "3d497d0c",
   "metadata": {},
   "source": [
    "**Lo que comparten todos los contenedores**\n",
    "\n",
    "Todos los contenedores soportan el operador `in`, para saber si un elemento pertenece a la estructura de datos.\n",
    "\n",
    "La sintaxis para hacerlo es:\n",
    "```python\n",
    "elemento in [coleccion] # Devuelve True si el elemento está dentro, y False si no lo está\n",
    "```"
   ]
  },
  {
   "cell_type": "markdown",
   "id": "913fd274",
   "metadata": {},
   "source": [
    "---\n",
    "\n",
    "## 1. Listas: estructura, indexación y métodos básicos\n",
    "\n",
    "---\n",
    "\n",
    "Una **lista** es una colección **ordenada** y **mutable** de elementos.\n",
    "\n",
    "Algunas propiedades de las listas:\n",
    "\n",
    "* Son **ordenadas**: mantienen el orden en el que han sido definidas\n",
    "* Son **mutables**: se puede agregar, remover o modificar sus elementos.\n",
    "* Son **dinámicas**: ya que se pueden añadir o eliminar elementos.\n",
    "* Son **anidadas**: una lista puede contener a otra lista en sus elementos.\n",
    "* Pueden ser formadas por tipos arbitrarios\n",
    "* Pueden ser indexadas con [i].\n",
    "\n",
    "**Analogía**: Una lista de compras 📋. Puedes agregar nuevos artículos, tachar los que ya tienes y cambiar de opinión sobre una marca.\n",
    "\n",
    "---"
   ]
  },
  {
   "cell_type": "markdown",
   "id": "8eab9216",
   "metadata": {},
   "source": [
    "### Creación de listas\n",
    "\n",
    "Se crean con corchetes `[]`. Para crear una lista en python puedes usar esta sintaxis:\n",
    "\n",
    "```python\n",
    "lista = [elemento_1, elemento_2, ..., elemento_n]\n",
    "```\n",
    "\n",
    "**Nota**: ¡Los elementos pueden ser de distintos tipos!\n",
    "\n",
    "---"
   ]
  },
  {
   "cell_type": "code",
   "execution_count": null,
   "id": "e3ec4aaf",
   "metadata": {},
   "outputs": [],
   "source": [
    "lista = [1, 2, 3, 4, 5]"
   ]
  },
  {
   "cell_type": "code",
   "execution_count": null,
   "id": "98c9734b",
   "metadata": {},
   "outputs": [],
   "source": [
    "lista_combinada = [1, \"dos\", 3.0, True]"
   ]
  },
  {
   "cell_type": "markdown",
   "id": "e884b22e",
   "metadata": {},
   "source": [
    "### Indexación de Listas\n",
    "\n",
    "Se accede a sus elementos mediante un **índice**, que comienza en `0`.\n",
    "\n",
    "**¿Qué son los índices?**\n",
    "\n",
    "Un **índice** es la posición numérica que identifica a cada elemento dentro de una lista (o secuencia) en Python. El primer elemento tiene índice `0`, el segundo índice `1`, y así sucesivamente. También puedes usar índices negativos para contar desde el final: `-1` es el último elemento, `-2` el penúltimo, etc.\n",
    "\n",
    "Por ejemplo:\n",
    "```python\n",
    "colores = ['rojo', 'verde', 'azul']\n",
    "print(colores[0])   # 'rojo' (primer elemento)\n",
    "print(colores[-1])  # 'azul' (último elemento)\n",
    "```\n",
    "\n",
    "---"
   ]
  },
  {
   "cell_type": "code",
   "execution_count": null,
   "id": "b99e27c4",
   "metadata": {},
   "outputs": [],
   "source": [
    "# Acceso al primer elemento de una lista\n",
    "mi_lista = [1, 2, 3, 4, 5]\n",
    "print(f'El primer elemento es: {mi_lista[0]}')"
   ]
  },
  {
   "cell_type": "code",
   "execution_count": null,
   "id": "9253db08",
   "metadata": {},
   "outputs": [],
   "source": [
    "# Accesso al segundo elemento de una lista\n",
    "mi_lista = [1, 2, 3, 4, 5]\n",
    "print(f'El segundo elemento es: {mi_lista[1]}')"
   ]
  },
  {
   "cell_type": "code",
   "execution_count": null,
   "id": "3c12c734",
   "metadata": {},
   "outputs": [],
   "source": [
    "# Acceso al último elemento de una lista\n",
    "mi_lista = [1, 2, 3, 4, 5]\n",
    "print(f'El último elemento es: {mi_lista[-1]}')"
   ]
  },
  {
   "cell_type": "markdown",
   "id": "613e2401",
   "metadata": {},
   "source": [
    "**¿Qué pasa si queremos obtener una sublista?**\n",
    "\n",
    "Python permite obtener una sublista de una lista por medio del *slicing* (rebanado). El slicing consiste en seleccionar un rango de elementos usando la sintaxis `[inicio:fin]`, donde `inicio` es el índice del primer elemento que quieres incluir y `fin` es el índice donde se detiene (sin incluir ese elemento).\n",
    "\n",
    "Por ejemplo:\n",
    "```python\n",
    "numeros = [10, 20, 30, 40, 50, 60]\n",
    "sublista = numeros[1:4]  # Toma los elementos en las posiciones 1, 2 y 3\n",
    "print(sublista)  # [20, 30, 40]\n",
    "```\n",
    "\n",
    "- Si omites `inicio`, comienza desde el principio de la lista.\n",
    "- Si omites `fin`, toma hasta el final de la lista.\n",
    "- También puedes usar un tercer parámetro para el paso: `[inicio:fin:paso]`.\n",
    "\n",
    "---"
   ]
  },
  {
   "cell_type": "code",
   "execution_count": null,
   "id": "253a36e8",
   "metadata": {},
   "outputs": [],
   "source": [
    "# Lista de sensores en un proyecto de robótica\n",
    "sensores = ['temperatura', 'humedad', 'distancia', 'luz']\n",
    "\n",
    "# Accediendo a elementos (Indexación)\n",
    "print(f'El primer sensor es: {sensores[0]}')      # Acceso al primer elemento\n",
    "print(f'El último sensor es: {sensores[-1]}')     # Acceso al último elemento\n",
    "print(f'Los sensores intermedios son: {sensores[1:3]}') # Slicing: desde el índice 1 hasta el 2"
   ]
  },
  {
   "cell_type": "markdown",
   "id": "c30dc8d4",
   "metadata": {},
   "source": [
    "### Métodos básicos\n",
    "\n",
    "Las listas en Python tienen varios métodos útiles para modificar su contenido:\n",
    "\n",
    "- `.append(elemento)`: Agrega un elemento al final de la lista.\n",
    "- `.insert(pos, elemento)`: Inserta un elemento en una posición específica.\n",
    "- `.remove(elemento)`: Elimina la primera aparición de un elemento.\n",
    "- `.pop([pos])`: Elimina y devuelve el elemento en la posición dada (por defecto, el último).\n",
    "- `.sort()`: Ordena la lista en su lugar.\n",
    "- `.extend()`: Agrega los elementos de una lista a otra lista.\n",
    "- `.reverse()`: Invierte el orden de los elementos de la lista.\n",
    "- `.index(elemento)`: Devuelve el índice de la primera aparición del elemento.\n",
    "- `.count(elemento)`: Cuenta cuántas veces aparece un elemento en la lista."
   ]
  },
  {
   "cell_type": "code",
   "execution_count": null,
   "id": "d486a873",
   "metadata": {},
   "outputs": [],
   "source": [
    "# .append(elemento)\n",
    "mi_lista = [1, 2, 3]\n",
    "mi_lista.append(4)\n",
    "print('append:', mi_lista)  # [1, 2, 3, 4]"
   ]
  },
  {
   "cell_type": "code",
   "execution_count": null,
   "id": "5259dc1e",
   "metadata": {},
   "outputs": [],
   "source": [
    "# .insert(pos, elemento)\n",
    "mi_lista.insert(1, 10)\n",
    "print('insert:', mi_lista)  # [1, 10, 2, 3, 4]"
   ]
  },
  {
   "cell_type": "code",
   "execution_count": null,
   "id": "788e6937",
   "metadata": {},
   "outputs": [],
   "source": [
    "# .remove(elemento)\n",
    "mi_lista.remove(10)\n",
    "print('remove:', mi_lista)  # [1, 2, 3, 4]"
   ]
  },
  {
   "cell_type": "code",
   "execution_count": null,
   "id": "8fb5518d",
   "metadata": {},
   "outputs": [],
   "source": [
    "# .pop([pos])\n",
    "ultimo = mi_lista.pop()\n",
    "print('pop (sin índice):', mi_lista, '| valor extraído:', ultimo)  # [1, 2, 3] | 4\n",
    "segundo = mi_lista.pop(1)\n",
    "print('pop (índice 1):', mi_lista, '| valor extraído:', segundo)  # [1, 3] | 2"
   ]
  },
  {
   "cell_type": "code",
   "execution_count": null,
   "id": "5380294d",
   "metadata": {},
   "outputs": [],
   "source": [
    "# .sort()\n",
    "mi_lista = [3, 1, 4, 1, 5]\n",
    "mi_lista.sort()\n",
    "print('sort:', mi_lista)  # [1, 1, 3, 4, 5]"
   ]
  },
  {
   "cell_type": "code",
   "execution_count": null,
   "id": "c6f0deb5",
   "metadata": {},
   "outputs": [],
   "source": [
    "# .extend(otra_lista)\n",
    "otra_lista = [6, 7, 8]\n",
    "mi_lista.extend(otra_lista) # [1, 1, 3, 4, 5, 6, 7, 8]"
   ]
  },
  {
   "cell_type": "code",
   "execution_count": null,
   "id": "807cc30c",
   "metadata": {},
   "outputs": [],
   "source": [
    "# .reverse()\n",
    "mi_lista.reverse()\n",
    "print('reverse:', mi_lista)  # [8, 7, 6, 5, 4, 3, 1, 1]"
   ]
  },
  {
   "cell_type": "code",
   "execution_count": null,
   "id": "438574e2",
   "metadata": {},
   "outputs": [],
   "source": [
    "# .index(elemento)\n",
    "indice = mi_lista.index(4)\n",
    "print('index de 4:', indice)  # 5"
   ]
  },
  {
   "cell_type": "code",
   "execution_count": null,
   "id": "899c5a31",
   "metadata": {},
   "outputs": [],
   "source": [
    "# .count(elemento)\n",
    "cuantos_unos = mi_lista.count(1)\n",
    "print('count de 1:', cuantos_unos)  # 2"
   ]
  },
  {
   "cell_type": "markdown",
   "id": "d2ddc116",
   "metadata": {},
   "source": [
    "Así mismo, es muy común cambiar el elemento de alguna posición por algún otro valor. Esto se logra accediendo a la posición con `[i]` y luego usando el operador de asignación `=`."
   ]
  },
  {
   "cell_type": "code",
   "execution_count": null,
   "id": "45281666",
   "metadata": {},
   "outputs": [],
   "source": [
    "mi_lista = [1, 2, 3, 4, 5]\n",
    "\n",
    "print(f\"Mi lista original: {mi_lista}\")\n",
    "# Cambiamos el primer elemento\n",
    "mi_lista[0] = 10\n",
    "print(f\"Mi lista modificada: {mi_lista}\")"
   ]
  },
  {
   "cell_type": "markdown",
   "id": "e88bc40b",
   "metadata": {},
   "source": [
    "Finalmente, podemos contar la cantidad de elementos de una lista fácilmente con `len`."
   ]
  },
  {
   "cell_type": "code",
   "execution_count": null,
   "id": "b3e00113",
   "metadata": {},
   "outputs": [],
   "source": [
    "print(len(mi_lista))  # 8, cantidad de elementos en la lista"
   ]
  },
  {
   "cell_type": "markdown",
   "id": "ba501f69",
   "metadata": {},
   "source": [
    "#### Ejercicio: Gestionar Invitados a un Evento\n",
    "\n",
    "Tienes una lista de invitados. Realiza las siguientes operaciones:\n",
    "1.  Agrega a 'Carlos' a la lista.\n",
    "2.  'Ana' no puede venir, elimínala de la lista.\n",
    "3.  Ordena la lista final alfabéticamente."
   ]
  },
  {
   "cell_type": "markdown",
   "id": "087388ae",
   "metadata": {},
   "source": [
    "---"
   ]
  },
  {
   "cell_type": "code",
   "execution_count": null,
   "id": "75e9a42f",
   "metadata": {},
   "outputs": [],
   "source": [
    "invitados: list[str] = ['Maria', 'Juan', 'Ana', 'Pedro']\n",
    "print(f'Invitados originales: {invitados}')\n",
    "\n",
    "# 1. Agregar a 'Carlos'\n",
    "invitados.append('Carlos')\n",
    "print(f'Después de agregar a Carlos: {invitados}')\n",
    "\n",
    "# 2. Eliminar a 'Ana'\n",
    "invitados.remove('Ana')\n",
    "print(f'Después de eliminar a Ana: {invitados}')\n",
    "\n",
    "# 3. Ordenar la lista\n",
    "invitados.sort()\n",
    "print(f'Lista final ordenada: {invitados}')"
   ]
  },
  {
   "cell_type": "markdown",
   "id": "dce3a42f",
   "metadata": {},
   "source": [
    "### Iterando una lista\n",
    "\n",
    "Puedes recorrer todos los elementos de una lista fácilmente con ciclos.\n",
    "\n",
    "---"
   ]
  },
  {
   "cell_type": "markdown",
   "id": "a55af227",
   "metadata": {},
   "source": [
    "1. Por medio de **índices**: Si lo haces por medio de índices, se puede hacer por medio de un `while` o un `for`."
   ]
  },
  {
   "cell_type": "code",
   "execution_count": null,
   "id": "f900cfcd",
   "metadata": {},
   "outputs": [],
   "source": [
    "colores = ['rojo', 'verde', 'azul']\n",
    "\n",
    "cantidad_de_elementos = len(colores)\n",
    "print('Cantidad de elementos en la lista de colores:', cantidad_de_elementos)\n",
    "\n",
    "# Así podemos obtener una lista con los índices de los elementos\n",
    "print(f'Índices de los colores: {list(range(cantidad_de_elementos))}' )"
   ]
  },
  {
   "cell_type": "code",
   "execution_count": null,
   "id": "8d4955f7",
   "metadata": {},
   "outputs": [],
   "source": [
    "# Recorrer la lista de colores con un ciclo for\n",
    "for i in range(len(colores)):\n",
    "    print(colores[i])"
   ]
  },
  {
   "cell_type": "code",
   "execution_count": null,
   "id": "81656663",
   "metadata": {},
   "outputs": [],
   "source": [
    "# Recorrer la lista de colores con un ciclo while\n",
    "colores = ['rojo', 'verde', 'azul']\n",
    "i = 0\n",
    "while i < len(colores):\n",
    "    print(f'Color {i}: {colores[i]}')\n",
    "    i += 1\n"
   ]
  },
  {
   "cell_type": "markdown",
   "id": "122b2403",
   "metadata": {},
   "source": [
    "2. Por medio de **colecciones**: Para ello, usa un ciclo `for`."
   ]
  },
  {
   "cell_type": "code",
   "execution_count": null,
   "id": "9680062c",
   "metadata": {},
   "outputs": [],
   "source": [
    "colores = ['rojo', 'verde', 'azul']\n",
    "for color in colores:\n",
    "    print(color)"
   ]
  },
  {
   "cell_type": "markdown",
   "id": "25bb5dda",
   "metadata": {},
   "source": [
    "Si necesitamos un índice acompañado con la lista, que tome valores desde 0 hasta n-1, se puede hacer con `enumerate`."
   ]
  },
  {
   "cell_type": "code",
   "execution_count": null,
   "id": "849243d0",
   "metadata": {},
   "outputs": [],
   "source": [
    "colores = ['rojo', 'verde', 'azul']\n",
    "for i, color in enumerate(colores):\n",
    "    print(i, color)"
   ]
  },
  {
   "cell_type": "markdown",
   "id": "57f7e0e9",
   "metadata": {},
   "source": [
    "Si tenemos dos listas y las queremos iterar a la vez, también es posible hacerlo por medio de `zip`."
   ]
  },
  {
   "cell_type": "code",
   "execution_count": null,
   "id": "6416920f",
   "metadata": {},
   "outputs": [],
   "source": [
    "colores_1 = ['rojo', 'verde', 'azul']\n",
    "colores_2 = ['amarillo', 'naranja', 'morado']\n",
    "\n",
    "for color_1, color_2 in zip(colores_1, colores_2):\n",
    "    print(f'Color 1: {color_1}, Color 2: {color_2}')"
   ]
  },
  {
   "cell_type": "markdown",
   "id": "081d9de0",
   "metadata": {},
   "source": [
    "#### Ejercicio: Mayor y menor\n",
    "\n",
    "Escribe un programa que almacene en una lista los siguientes precios, 50, 75, 46, 22, 80, 65, 8, y muestre por pantalla el menor y el mayor de los precios.\n",
    "\n",
    "---"
   ]
  },
  {
   "cell_type": "code",
   "execution_count": null,
   "id": "0808054e",
   "metadata": {},
   "outputs": [],
   "source": [
    "lista = [50, 75, 46, 22, 80, 65, 8]\n",
    "\n",
    "menor = lista[0]\n",
    "for numero in lista:\n",
    "    if numero < menor:\n",
    "        menor = numero\n",
    "\n",
    "print(f'Menor: {menor}')\n",
    "\n",
    "mayor = lista[0]\n",
    "for numero in lista:\n",
    "    if numero > mayor:\n",
    "        mayor = numero\n",
    "\n",
    "print(f'Mayor: {mayor}')\n"
   ]
  },
  {
   "cell_type": "markdown",
   "id": "adf3e6b2",
   "metadata": {},
   "source": [
    "Esto mismo, se puede conseguir con las funciones `min` y `max` que vienen por defecto en python."
   ]
  },
  {
   "cell_type": "code",
   "execution_count": null,
   "id": "303f1b90",
   "metadata": {},
   "outputs": [],
   "source": [
    "lista = [50, 75, 46, 22, 80, 65, 8]\n",
    "\n",
    "menor = min(lista)\n",
    "mayor = max(lista)\n",
    "print(f'Menor: {menor}, Mayor: {mayor}')"
   ]
  },
  {
   "cell_type": "markdown",
   "id": "d72bb8ac",
   "metadata": {},
   "source": [
    "### Particularidades de las listas"
   ]
  },
  {
   "cell_type": "markdown",
   "id": "a4610ba6",
   "metadata": {},
   "source": [
    "1. **Operador +**: Puedes concatenar listas usando el operador `+`."
   ]
  },
  {
   "cell_type": "code",
   "execution_count": null,
   "id": "f536d6ef",
   "metadata": {},
   "outputs": [],
   "source": [
    "a = [1, 2, 3]\n",
    "b = [4, 5]\n",
    "c = a + b  # [1, 2, 3, 4, 5]\n",
    "print(c)"
   ]
  },
  {
   "cell_type": "markdown",
   "id": "e0000764",
   "metadata": {},
   "source": [
    "2. **Separación de hileras**: Puedes separar una hilera y convertirla a una lista si tiene **separadores** dentro, por medio del método `.split()`."
   ]
  },
  {
   "cell_type": "code",
   "execution_count": null,
   "id": "eb71757e",
   "metadata": {},
   "outputs": [],
   "source": [
    "hilera = \"Esta es una oracion. Esta es la segunda oracion. Esta es la tercera oracion.\"\n",
    "lista_palabras = hilera.split('. ') # Esto separa la hilera en una lista de oraciones, separandolas cada vez que encuentra un punto seguido de un espacio.\n",
    "print(lista_palabras)  # ['Esta es una oracion', 'Esta es la segunda oracion', 'Esta es la tercera oracion']"
   ]
  },
  {
   "cell_type": "code",
   "execution_count": null,
   "id": "7550e886",
   "metadata": {},
   "outputs": [],
   "source": [
    "hilera = \"rojo,verde,azul\"\n",
    "lista_colores = hilera.split(',')  # Esto separa la hilera en una lista de colores, separandolos cada vez que encuentra una coma.\n",
    "print(lista_colores)   # ['rojo', 'verde', 'azul']"
   ]
  },
  {
   "cell_type": "markdown",
   "id": "64c0055c",
   "metadata": {},
   "source": [
    "---\n",
    "\n",
    "## 2. Tuplas: La Caja Fuerte Inmutable\n",
    "\n",
    "---\n",
    "\n",
    "Una **tupla** es una colección **ordenada** e **inmutable** de elementos. Es muy similar a las listas, con la excepción de que son **inmutables**.\n",
    "\n",
    "**Analogía**: Las coordenadas GPS de un lugar. Son un par de números fijos (latitud, longitud) que no deberían cambiar.\n",
    "\n",
    "---"
   ]
  },
  {
   "cell_type": "markdown",
   "id": "6cf74b0d",
   "metadata": {},
   "source": [
    "### Creación\n",
    "\n",
    "Se crean con corchetes `()`, pero pueden ser opcionales. Para crear una tupla en python puedes usar esta sintaxis:\n",
    "\n",
    "```python\n",
    "tupla = (elemento_1, elemento_2, ..., elemento_n)\n",
    "```\n",
    "\n",
    "**Nota**: ¡Los elementos pueden ser de distintos tipos!\n",
    "\n",
    "---"
   ]
  },
  {
   "cell_type": "code",
   "execution_count": null,
   "id": "ca68ac0b",
   "metadata": {},
   "outputs": [],
   "source": [
    "tupla = (1, 2, 3, 4, 5)"
   ]
  },
  {
   "cell_type": "code",
   "execution_count": null,
   "id": "c981da7b",
   "metadata": {},
   "outputs": [],
   "source": [
    "tupla_combinada = (1, \"dos\", 3.0, True)"
   ]
  },
  {
   "cell_type": "markdown",
   "id": "eb0d9a1f",
   "metadata": {},
   "source": [
    "### Indexación de tuplas\n",
    "\n",
    "Se accede a sus elementos mediante un **índice**, que comienza en `0`.\n",
    "\n",
    "---"
   ]
  },
  {
   "cell_type": "code",
   "execution_count": null,
   "id": "ed33def2",
   "metadata": {},
   "outputs": [],
   "source": [
    "tupla = (1, 2, 3, 4, 5)\n",
    "print(f'El primer elemento es: {tupla[0]}')\n",
    "print(f'El segundo elemento es: {tupla[1]}')\n",
    "print(f'El último elemento es: {tupla[-1]}')"
   ]
  },
  {
   "cell_type": "markdown",
   "id": "cccc93d6",
   "metadata": {},
   "source": [
    "### Métodos básicos\n",
    "\n",
    "Las tuplas en Python tienen varios métodos útiles acceder a su contenido:\n",
    "\n",
    "- `.index(elemento)`: Devuelve el índice de la primera aparición del elemento.\n",
    "- `.count(elemento)`: Cuenta cuántas veces aparece un elemento en la tupla.\n",
    "\n",
    "---"
   ]
  },
  {
   "cell_type": "code",
   "execution_count": null,
   "id": "f05f92c8",
   "metadata": {},
   "outputs": [],
   "source": [
    "# .index(elemento)\n",
    "tupla = (1, 2, 3, 4, 5)\n",
    "tupla_index = tupla.index(3)\n",
    "print(f'Índice del elemento 3: {tupla_index}')  # 2"
   ]
  },
  {
   "cell_type": "code",
   "execution_count": null,
   "id": "6a2c6f67",
   "metadata": {},
   "outputs": [],
   "source": [
    "# .count(elemento)\n",
    "cantidad_de_elementos = tupla.count(2)\n",
    "print(f'Cantidad de veces que aparece el elemento 2: {cantidad_de_elementos}')  # 1"
   ]
  },
  {
   "cell_type": "markdown",
   "id": "7bd5e4b5",
   "metadata": {},
   "source": [
    "Finalmente, podemos contar la cantidad de elementos de una tupla fácilmente con `len`."
   ]
  },
  {
   "cell_type": "code",
   "execution_count": null,
   "id": "335b890c",
   "metadata": {},
   "outputs": [],
   "source": [
    "print(f'Cantidad de elementos en la tupla: {len(tupla)}')  # 5"
   ]
  },
  {
   "cell_type": "markdown",
   "id": "e5be439b",
   "metadata": {},
   "source": [
    "### Inmutabilidad\n",
    "\n",
    "Las tuplas, son **inmutables**. Esto quiere decir que, una vez se crean, **no se pueden modificar**. Si quieres hacerle un cambio, debes hacer una tupla nueva.\n",
    "\n",
    "---"
   ]
  },
  {
   "cell_type": "code",
   "execution_count": null,
   "id": "150cfd07",
   "metadata": {},
   "outputs": [],
   "source": [
    "try:\n",
    "    tupla = (1, 2, 3, 4, 5)\n",
    "    tupla[0] = 10  # Intento de modificar el primer elemento\n",
    "    print('Tupla modificada:', tupla)\n",
    "    \n",
    "except TypeError as e:\n",
    "    print(f'Error: {e}')"
   ]
  },
  {
   "cell_type": "markdown",
   "id": "43b9f360",
   "metadata": {},
   "source": [
    "### Empaquetado y Desempaquetado\n",
    "\n",
    "Una particularidad de las tuplas es que Python permite separar sus elementos a variables individuales y agrupar varias variables a una sola tupla.\n",
    "\n",
    "---"
   ]
  },
  {
   "cell_type": "markdown",
   "id": "b7ba4a4d",
   "metadata": {},
   "source": [
    "* **Empaquetado (Packing)**: Es el acto de agrupar varios valores en una tupla."
   ]
  },
  {
   "cell_type": "code",
   "execution_count": null,
   "id": "6a42912b",
   "metadata": {},
   "outputs": [],
   "source": [
    "# Empaquetado\n",
    "tupla_empacada = 1, 2, 3  # No es necesario usar paréntesis\n",
    "print(f'Tupla empacada: {tupla_empacada}')"
   ]
  },
  {
   "cell_type": "code",
   "execution_count": null,
   "id": "9a4b1e74",
   "metadata": {},
   "outputs": [],
   "source": [
    "# Empaquetado con variables\n",
    "x = 1\n",
    "y = 2\n",
    "z = 3\n",
    "tupla_empacada = x, y, z\n",
    "print(f'Tupla empacada con variables: {tupla_empacada}')"
   ]
  },
  {
   "cell_type": "markdown",
   "id": "13f8cd23",
   "metadata": {},
   "source": [
    "* **Desempaquetado (Unpacking)**: Es el acto de asignar los valores de una tupla a múltiples variables."
   ]
  },
  {
   "cell_type": "code",
   "execution_count": null,
   "id": "95652637",
   "metadata": {},
   "outputs": [],
   "source": [
    "# Desempaquetado\n",
    "punto_3d = (1, 2, 3)\n",
    "x, y, z = punto_3d  # Asignación de los valores de la tupla a las variables\n",
    "print(f'Valor de x: {x}')\n",
    "print(f'Valor de y: {y}')\n",
    "print(f'Valor de z: {z}')"
   ]
  },
  {
   "cell_type": "markdown",
   "id": "805cb8c3",
   "metadata": {},
   "source": [
    "**¡Ojo!**: No puedes desempaquetar más o menos valores de la cuenta."
   ]
  },
  {
   "cell_type": "code",
   "execution_count": null,
   "id": "072a9bd4",
   "metadata": {},
   "outputs": [],
   "source": [
    "try:\n",
    "    tupla = (1, 2, 3, 4, 5)\n",
    "    x, y, z = tupla  # Intento de desempaquetar número incorrecto de valores\n",
    "    print(f'Valores desempaquetados: x={x}, y={y}, z={z}')\n",
    "\n",
    "except ValueError as e:\n",
    "    print(f'Error: {e}')"
   ]
  },
  {
   "cell_type": "code",
   "execution_count": null,
   "id": "9ce63465",
   "metadata": {},
   "outputs": [],
   "source": [
    "try:\n",
    "    tupla = (1, 2, 3, 4, 5)\n",
    "    x, y, z, k, p, h = tupla  # Intento de desempaquetar número incorrecto de valores\n",
    "    print(f'Valores desempaquetados: x={x}, y={y}, z={z}, k={k}, p={p}, h={h}')\n",
    "\n",
    "except ValueError as e:\n",
    "    print(f'Error: {e}')"
   ]
  },
  {
   "cell_type": "markdown",
   "id": "8fff3eff",
   "metadata": {},
   "source": [
    "#### Ejercicio: Devolver Múltiples Valores\n",
    "\n",
    "Una aplicación común de las tuplas es devolver múltiples valores desde una función. Crea una función que reciba una lista de números y devuelva tanto el valor mínimo como el máximo en una sola tupla.\n",
    "\n",
    "---"
   ]
  },
  {
   "cell_type": "code",
   "execution_count": null,
   "id": "21e6e9d1",
   "metadata": {},
   "outputs": [],
   "source": [
    "def encontrar_min_y_max(numeros: list[float]) -> tuple[float, float]:\n",
    "    \"\"\"Encuentra el valor mínimo y máximo de una lista y los devuelve en una tupla.\"\"\"\n",
    "    minimo = min(numeros)\n",
    "    maximo = max(numeros)\n",
    "    return (minimo, maximo) # Empaquetado\n",
    "\n",
    "# Desempaquetado del resultado\n",
    "lecturas_sensor = [25.1, 24.8, 25.5, 24.9, 26.0, 24.7]\n",
    "temp_min, temp_max = encontrar_min_y_max(lecturas_sensor)\n",
    "\n",
    "print(f'Las lecturas del sensor fueron: {lecturas_sensor}')\n",
    "print(f'La temperatura mínima registrada fue: {temp_min}°C')\n",
    "print(f'La temperatura máxima registrada fue: {temp_max}°C')"
   ]
  },
  {
   "cell_type": "markdown",
   "id": "f6d86e20",
   "metadata": {},
   "source": [
    "### Iterando una tupla\n",
    "\n",
    "Puedes recorrer todos los elementos de una tupla fácilmente con ciclos. De hecho, **se pueden recorrer igual que una lista**.\n",
    "\n",
    "---"
   ]
  },
  {
   "cell_type": "markdown",
   "id": "f344c30f",
   "metadata": {},
   "source": [
    "1. Por medio de **índices**: Si lo haces por medio de índices, se puede hacer por medio de un `while` o un `for`."
   ]
  },
  {
   "cell_type": "code",
   "execution_count": null,
   "id": "135da665",
   "metadata": {},
   "outputs": [],
   "source": [
    "tupla = (1, 2, 3, 4, 5)\n",
    "for i in range(len(tupla)):\n",
    "    print(f'Índice {i}: {tupla[i]}')"
   ]
  },
  {
   "cell_type": "code",
   "execution_count": null,
   "id": "93db2a2f",
   "metadata": {},
   "outputs": [],
   "source": [
    "tupla = (1, 2, 3, 4, 5)\n",
    "contador = 0\n",
    "\n",
    "while contador < len(tupla):\n",
    "    print(f'Índice {contador}: {tupla[contador]}')\n",
    "    contador += 1"
   ]
  },
  {
   "cell_type": "markdown",
   "id": "525d47c0",
   "metadata": {},
   "source": [
    "2. Por medio de **colecciones**: Para ello, usa un ciclo `for`."
   ]
  },
  {
   "cell_type": "code",
   "execution_count": null,
   "id": "efcedbd8",
   "metadata": {},
   "outputs": [],
   "source": [
    "tupla = (1, 2, 3, 4, 5)\n",
    "for elemento in tupla:\n",
    "    print(f'Elemento: {elemento}')"
   ]
  },
  {
   "cell_type": "markdown",
   "id": "aaa4c1cb",
   "metadata": {},
   "source": [
    "#### Ejercicio: Coordenadas en el Plano\n",
    "\n",
    "Tienes una lista de coordenadas en 2D, donde cada coordenada está representada como una tupla con dos valores: (x, y).\n",
    "\n",
    "Ejemplo de lista de coordenadas:\n",
    "\n",
    "```python\n",
    "coordenadas = [(3, 4), (1, 1), (0, 0), (5, 2), (-3, 3), (2, -1), (4, 5), (6, 7), (8, 9), (0, 1), (9, 0), (-1, 0), (-3, 0)]\n",
    "```\n",
    "\n",
    "- Cuenta e imprime cuántas coordenadas están en cada cuadrante (I, II, III, IV) y cuántas están en los ejes o el origen.\n",
    "- Crea una nueva lista con solo las coordenadas que están en el primer cuadrante.\n",
    "\n",
    "---"
   ]
  },
  {
   "cell_type": "code",
   "execution_count": null,
   "id": "6f90dab3",
   "metadata": {},
   "outputs": [],
   "source": [
    "coordenadas = [(3, 4), (1, 1), (0, 0), (5, 2), (-3, 3), (2, -1), (4, 5), (6, 7), (8, 9), (0, 1), (9, 0), (-1, 0), (-3, 0)]\n",
    "\n",
    "coordenadas_primer_cuadrante = []\n",
    "cantidades_por_cuadrante = [0, 0, 0, 0]  # Cantidades por cuadrante\n",
    "cantidad_eje_x = 0\n",
    "cantidad_eje_y = 0\n",
    "cantidad_origen = 0\n",
    "for x, y in coordenadas:\n",
    "    if x > 0 and y > 0:\n",
    "        coordenadas_primer_cuadrante.append((x, y))\n",
    "        cantidades_por_cuadrante[0] += 1\n",
    "    elif x < 0 and y > 0:\n",
    "        cantidades_por_cuadrante[1] += 1\n",
    "    elif x < 0 and y < 0:\n",
    "        cantidades_por_cuadrante[2] += 1\n",
    "    elif x > 0 and y < 0:\n",
    "        cantidades_por_cuadrante[3] += 1\n",
    "    elif x == 0 and y != 0:\n",
    "        cantidad_eje_y += 1\n",
    "    elif y == 0 and x != 0:\n",
    "        cantidad_eje_x += 1\n",
    "    elif x == 0 and y == 0:\n",
    "        cantidad_origen += 1\n",
    "\n",
    "print(f'Coordenadas en el primer cuadrante: {coordenadas_primer_cuadrante}')"
   ]
  },
  {
   "cell_type": "markdown",
   "id": "8448c48f",
   "metadata": {},
   "source": [
    "---\n",
    "\n",
    "## 3. Diccionarios: estructura clave-valor, métodos básicos\n",
    "\n",
    "---\n",
    "\n",
    "Un **diccionario** es una colección **no ordenada** de pares **clave-valor**.\n",
    "\n",
    "Algunas propiedades de los diccionarios:\n",
    "\n",
    "* Son **dinámicos**: pueden crecer o decrecer, se pueden añadir o eliminar elementos.\n",
    "* Son **anidados**: un diccionario puede contener a otro diccionario en su campo value.\n",
    "* Son **mutables**: se pueden agregar, quitar o modificar sus elementos.\n",
    "\n",
    "**Analogía**: Un diccionario es como un diccionario de palabras, las claves son las palabras, y los valores son sus significados."
   ]
  },
  {
   "cell_type": "markdown",
   "id": "50ba8371",
   "metadata": {},
   "source": [
    "---"
   ]
  },
  {
   "cell_type": "markdown",
   "id": "00b2f47d",
   "metadata": {},
   "source": [
    "### Creación\n",
    "\n",
    "Se crean con llaves `{}`, o la palabra `dict`. Para crear un diccionario en python puedes usar esta sintaxis:\n",
    "\n",
    "```python\n",
    "diccionario = {\n",
    "    clave_1: valor_1,\n",
    "    clave_2: valor_2,\n",
    "    ...\n",
    "    clave_n: valor_n\n",
    "}\n",
    "```\n",
    "\n",
    "**Nota**: ¡Las claves y valores pueden ser de distintos tipos!\n",
    "\n",
    "**✅ Regla para las claves**:\n",
    "* Las claves deben ser **inmutables** (hashables): pueden ser de tipos como int, float, str, tuple (si sus elementos también son inmutables), bool, etc.\n",
    "* No puedes usar listas, diccionarios u otros objetos mutables como claves.\n",
    "\n",
    "---"
   ]
  },
  {
   "cell_type": "code",
   "execution_count": null,
   "id": "70337f0e",
   "metadata": {},
   "outputs": [],
   "source": [
    "persona = {\n",
    "  \"Nombre\": \"Sara\",\n",
    "  \"Edad\": 27,\n",
    "  \"Cedula\": 1_0234_0983\n",
    "}\n",
    "print(persona)"
   ]
  },
  {
   "cell_type": "markdown",
   "id": "448d2e62",
   "metadata": {},
   "source": [
    "Otra forma equivalente de crear un diccionario en Python es usando `dict()` e introduciendo los pares `clave: valor` entre paréntesis."
   ]
  },
  {
   "cell_type": "code",
   "execution_count": null,
   "id": "a59e0b67",
   "metadata": {},
   "outputs": [],
   "source": [
    "persona = dict([\n",
    "    ('Nombre', 'Sara'),\n",
    "    ('Edad', 27),\n",
    "    ('Cedula', 1_0234_0983),\n",
    "])\n",
    "print(persona)"
   ]
  },
  {
   "cell_type": "markdown",
   "id": "d9d214ea",
   "metadata": {},
   "source": [
    "También es posible asignar los valores directamente en `dict()`."
   ]
  },
  {
   "cell_type": "code",
   "execution_count": null,
   "id": "113f74fa",
   "metadata": {},
   "outputs": [],
   "source": [
    "persona = dict(\n",
    "    Nombre='Sara',\n",
    "    Edad=27,\n",
    "    Cedula=1_0234_0983\n",
    ")\n",
    "print(persona)"
   ]
  },
  {
   "cell_type": "markdown",
   "id": "f7f16f25",
   "metadata": {},
   "source": [
    "### Accesando diccionarios\n",
    "\n",
    "Se accede a sus elementos mediante un la **clave**, usando `[clave]`, o el método `get`. Esto es similar al **índice** usado en las listas o las tuplas, con la diferencia de que las claves pueden ser de cualquier tipo **inmutable**.\n",
    "\n",
    "Por ejemplo:\n",
    "```python\n",
    "definiciones = {\n",
    "    \"Uva\": \"Fruta de color morado que sabe muy bien\",\n",
    "    \"Carro\": \"Medio de transporte de cuatro ruedas\",\n",
    "    \"Lluvia\": \"Fenomeno natural que hace caer lluvia del cielo\"\n",
    "}\n",
    "\n",
    "print(definiciones[\"Uva\"])  # Fruta de color morado que sabe muy bien\n",
    "print(definiciones[\"Carro\"])  # Medio de transporte de cuatro ruedas\n",
    "```\n",
    "\n",
    "---"
   ]
  },
  {
   "cell_type": "code",
   "execution_count": null,
   "id": "18b1cd5e",
   "metadata": {},
   "outputs": [],
   "source": [
    "# Diccionario para almacenar la configuración de un motor\n",
    "config_motor = {\n",
    "    'velocidad': 5000,\n",
    "    'temperatura_max': 95.5,\n",
    "    'unidades': 'RPM',\n",
    "    'activo': True\n",
    "}\n",
    "\n",
    "# Acceder a un valor a través de su clave\n",
    "print(f'Velocidad configurada: {config_motor[\"velocidad\"]} {config_motor[\"unidades\"]}')"
   ]
  },
  {
   "cell_type": "markdown",
   "id": "014fe739",
   "metadata": {},
   "source": [
    "### Métodos básicos\n",
    "\n",
    "Los diccionarios en Python tienen varios métodos útiles para modificar y consultar sus elementos:\n",
    "\n",
    "- `.keys()`: Devuelve una vista con todas las claves del diccionario.\n",
    "- `.values()`: Devuelve una vista con todos los valores del diccionario.\n",
    "- `.items()`: Devuelve una vista de pares (clave, valor).\n",
    "- `.get(clave, valor_por_defecto)`: Devuelve el valor asociado a la clave, o el valor por defecto si la clave no existe.\n",
    "- `.pop(clave)`: Elimina la clave y devuelve su valor.\n",
    "- `.update(otro_diccionario)`: Actualiza el diccionario con los pares de otro diccionario.\n",
    "- `.clear()`: Elimina todos los elementos del diccionario.\n",
    "\n",
    "---"
   ]
  },
  {
   "cell_type": "code",
   "execution_count": null,
   "id": "50d83eb0",
   "metadata": {},
   "outputs": [],
   "source": [
    "# .keys()\n",
    "config_motor = {\n",
    "    'velocidad': 5000,\n",
    "    'temperatura_max': 95.5,\n",
    "    'unidades': 'RPM',\n",
    "    'activo': True\n",
    "}\n",
    "print(f'Claves del diccionario: {config_motor.keys()}')"
   ]
  },
  {
   "cell_type": "code",
   "execution_count": null,
   "id": "5e945c13",
   "metadata": {},
   "outputs": [],
   "source": [
    "# .values()\n",
    "print(f'Valores del diccionario: {config_motor.values()}')"
   ]
  },
  {
   "cell_type": "code",
   "execution_count": null,
   "id": "df421570",
   "metadata": {},
   "outputs": [],
   "source": [
    "# .items()\n",
    "print(f'Pares del diccionario: {config_motor.items()}')"
   ]
  },
  {
   "cell_type": "code",
   "execution_count": null,
   "id": "ad4b67d1",
   "metadata": {},
   "outputs": [],
   "source": [
    "# .get(clave, valor_por_defecto)\n",
    "print(f'Valor de \"velocidad\": {config_motor.get(\"velocidad\", \"No disponible\")}')\n",
    "print(f'Valor de \"presion\": {config_motor.get(\"presion\", \"No disponible\")}')\n",
    "print(f'Valor de \"activo\": {config_motor.get(\"activo\", \"No disponible\")}')\n",
    "print(f'Valor de \"inactivo\": {config_motor.get(\"inactivo\", \"No disponible\")}')"
   ]
  },
  {
   "cell_type": "code",
   "execution_count": null,
   "id": "a77bf037",
   "metadata": {},
   "outputs": [],
   "source": [
    "# .pop(clave)\n",
    "config_motor.pop('velocidad')\n",
    "print(f'Configuración del motor después de eliminar \"velocidad\": {config_motor}')"
   ]
  },
  {
   "cell_type": "code",
   "execution_count": null,
   "id": "499ece5c",
   "metadata": {},
   "outputs": [],
   "source": [
    "# .update(otro_diccionario)\n",
    "otro_config = {\n",
    "    'presion': 101.3,\n",
    "    'activo': False\n",
    "}\n",
    "config_motor.update(otro_config)\n",
    "print(f'Configuración del motor después de actualizar: {config_motor}')"
   ]
  },
  {
   "cell_type": "code",
   "execution_count": null,
   "id": "e64d61a7",
   "metadata": {},
   "outputs": [],
   "source": [
    "# .clear()\n",
    "config_motor.clear()\n",
    "print(f'Configuración del motor después de limpiar: {config_motor}')"
   ]
  },
  {
   "cell_type": "markdown",
   "id": "f21b44a2",
   "metadata": {},
   "source": [
    "Para agregar un par de `clave: valor` a un diccionario, puedes acceder poner la clave que deseas con `[clave]` y luego usas el operador de asignación `=`."
   ]
  },
  {
   "cell_type": "code",
   "execution_count": null,
   "id": "f572a428",
   "metadata": {},
   "outputs": [],
   "source": [
    "config_motor[\"marca\"] = \"MotorX\"\n",
    "print(f'Configuración del motor después de cambiar la marca: {config_motor}')"
   ]
  },
  {
   "cell_type": "markdown",
   "id": "96746279",
   "metadata": {},
   "source": [
    "Así mismo, es muy común cambiar el elemento de alguna clave por algún otro valor. Esto se logra accediendo a la clave con `[clave]` y luego usando el operador de asignación `=`."
   ]
  },
  {
   "cell_type": "code",
   "execution_count": null,
   "id": "36092bdf",
   "metadata": {},
   "outputs": [],
   "source": [
    "config_motor[\"marca\"] = \"MotorY\"\n",
    "print(f'Configuración del motor después de cambiar la marca: {config_motor}')"
   ]
  },
  {
   "cell_type": "markdown",
   "id": "420685ff",
   "metadata": {},
   "source": [
    "Finalmente, podemos contar la cantidad de pares de `clave: valor` de un diccionario fácilmente con `len`."
   ]
  },
  {
   "cell_type": "code",
   "execution_count": null,
   "id": "577bd195",
   "metadata": {},
   "outputs": [],
   "source": [
    "config_motor = {\n",
    "    'velocidad': 5000,\n",
    "    'temperatura_max': 95.5,\n",
    "    'unidades': 'RPM',\n",
    "    'activo': True\n",
    "}\n",
    "print(f'Cantidad de elementos en el diccionario: {len(config_motor)}')  # 4"
   ]
  },
  {
   "cell_type": "markdown",
   "id": "e1112b42",
   "metadata": {},
   "source": [
    "**Ejercicio: Perfil de Usuario**\n",
    "\n",
    "Crea un diccionario para almacenar tu perfil de usuario con las claves: 'nombre', 'edad' y 'ciudad'. Luego, actualiza tu edad sumándole 1 año e imprime el perfil completo.\n",
    "\n",
    "---"
   ]
  },
  {
   "cell_type": "code",
   "execution_count": null,
   "id": "f4d2246a",
   "metadata": {},
   "outputs": [],
   "source": [
    "perfil_usuario = {\n",
    "    'nombre': 'Alex',\n",
    "    'edad': 30,\n",
    "    'ciudad': 'San José'\n",
    "}\n",
    "print(f'Perfil original: {perfil_usuario}')\n",
    "\n",
    "# Actualizar la edad\n",
    "perfil_usuario['edad'] += 1\n",
    "\n",
    "print(f'Perfil actualizado: {perfil_usuario}')"
   ]
  },
  {
   "cell_type": "markdown",
   "id": "4f258fae",
   "metadata": {},
   "source": [
    "### Iterando un diccionario\n",
    "\n",
    "Puedes recorrer todos los elementos de un diccionario fácilmente con ciclos.\n",
    "\n",
    "---"
   ]
  },
  {
   "cell_type": "markdown",
   "id": "f647b32a",
   "metadata": {},
   "source": [
    "1. Por medio de **claves**: Usa un ciclo `for`."
   ]
  },
  {
   "cell_type": "code",
   "execution_count": null,
   "id": "563b2f68",
   "metadata": {},
   "outputs": [],
   "source": [
    "vestimenta = {\n",
    "    'camisa': 'azul',\n",
    "    'pantalones': 'negros',\n",
    "    'zapatos': 'marrones'\n",
    "}\n",
    "\n",
    "for clave in vestimenta:\n",
    "    print(f\"{clave}: {vestimenta[clave]}\")"
   ]
  },
  {
   "cell_type": "markdown",
   "id": "7cad3be1",
   "metadata": {},
   "source": [
    "2. Por medio de `.items()`: Usa un ciclo `for`."
   ]
  },
  {
   "cell_type": "code",
   "execution_count": null,
   "id": "93d5c9f1",
   "metadata": {},
   "outputs": [],
   "source": [
    "vestimenta = {\n",
    "    'camisa': 'azul',\n",
    "    'pantalones': 'negros',\n",
    "    'zapatos': 'marrones'\n",
    "}\n",
    "\n",
    "for clave, valor in vestimenta.items():\n",
    "    print(f\"{clave}: {valor}\")"
   ]
  },
  {
   "cell_type": "markdown",
   "id": "1e221ea6",
   "metadata": {},
   "source": [
    "#### Ejercicio: Acceso anidado\n",
    "\n",
    "Dada la siguiente estructura de datos:\n",
    "\n",
    "```python\n",
    "personas = [\n",
    "    {\n",
    "        \"Nombre\": \"Ana\",\n",
    "        \"Edad\": 2,\n",
    "        \"Residencia\": \"Heredia\",\n",
    "        \"Telefonos\": {\n",
    "            \"Casa\": \"2233-0022\", \n",
    "            \"Celular\": \"8793-9212\", \n",
    "            \"Trabajo\": [\"2222-3293\", \"2123-0932\"]\n",
    "        }\n",
    "    },\n",
    "    {\n",
    "        \"Nombre\": \"Luis\",\n",
    "        \"Edad\": 30,\n",
    "        \"Residencia\": \"Cartago\",\n",
    "        \"Telefonos\": {\n",
    "            \"Casa\": \"2456-7890\",\n",
    "            \"Celular\": \"8888-1111\",\n",
    "            \"Trabajo\": [\"2100-1122\"]\n",
    "        }\n",
    "    }\n",
    "]\n",
    "```\n",
    "\n",
    "Imprime el último número de trabajo de todos las personas.\n",
    "\n",
    "---"
   ]
  },
  {
   "cell_type": "code",
   "execution_count": null,
   "id": "4317ccd1",
   "metadata": {},
   "outputs": [],
   "source": [
    "personas = [\n",
    "    {\n",
    "        \"Nombre\": \"Ana\",\n",
    "        \"Edad\": 2,\n",
    "        \"Residencia\": \"Heredia\",\n",
    "        \"Telefonos\": {\n",
    "            \"Casa\": \"2233-0022\", \n",
    "            \"Celular\": \"8793-9212\", \n",
    "            \"Trabajo\": [\"2222-3293\", \"2123-0932\"]\n",
    "        }\n",
    "    },\n",
    "    {\n",
    "        \"Nombre\": \"Luis\",\n",
    "        \"Edad\": 30,\n",
    "        \"Residencia\": \"Cartago\",\n",
    "        \"Telefonos\": {\n",
    "            \"Casa\": \"2456-7890\",\n",
    "            \"Celular\": \"8888-1111\",\n",
    "            \"Trabajo\": [\"2100-1122\"]\n",
    "        }\n",
    "    }\n",
    "]\n",
    "\n",
    "# Primera opción\n",
    "for persona in personas:\n",
    "    telefonos = persona[\"Telefonos\"]\n",
    "    telefonos_de_trabajo = telefonos[\"Trabajo\"]\n",
    "\n",
    "    print(f\"Persona: {persona['Nombre']}, Teléfono de trabajo: {telefonos_de_trabajo[-1]}\")\n",
    "\n",
    "# Segunda opción\n",
    "for persona in personas:\n",
    "    print(f\"Persona: {persona['Nombre']}, Teléfono de trabajo: {persona['Telefonos']['Trabajo'][-1]}\")\n"
   ]
  },
  {
   "cell_type": "markdown",
   "id": "3a771bb0",
   "metadata": {},
   "source": [
    "---\n",
    "\n",
    "## 4. Conjuntos: estructura de valores únicos, métodos básicos\n",
    "\n",
    "---\n",
    "\n",
    "Un **conjunto** es una colección **no ordenada** de elementos **únicos**.\n",
    "\n",
    "Algunas propiedades de los conjuntos son:\n",
    "\n",
    "* Son **no ordenados**, no puedes estar seguro del orden de los elementos.\n",
    "* Son **únicos**, no puede haber elementos duplicados. Si intentas agregar un elemento que ya existe, simplemente se ignora.\n",
    "* Son **mutables y dinámicos**, puedes agregar y eliminar elementos. Pero, no puedes modificar sus elementos porque **no tienen posiciones fijas**.\n",
    "\n",
    "**Analogía**: Una colección de calcomonías únicos. Si te regalan una calcomonía que ya tienes, tu colección no cambia de tamaño.\n",
    "\n",
    "---"
   ]
  },
  {
   "cell_type": "code",
   "execution_count": null,
   "id": "7163792e",
   "metadata": {},
   "outputs": [],
   "source": [
    "conjunto = {1, 2, 3, 4, 5}\n",
    "print(f'Conjunto original: {conjunto}')"
   ]
  },
  {
   "cell_type": "code",
   "execution_count": null,
   "id": "02ff8eec",
   "metadata": {},
   "outputs": [],
   "source": [
    "conjunto_combinado = {1, \"dos\", 3.0, True}\n",
    "print(f'Conjunto combinado: {conjunto_combinado}')"
   ]
  },
  {
   "cell_type": "markdown",
   "id": "88bb4be9",
   "metadata": {},
   "source": [
    "También, es posible crear un conjunto con `set()` y una lista de elementos."
   ]
  },
  {
   "cell_type": "code",
   "execution_count": null,
   "id": "7cd231b2",
   "metadata": {},
   "outputs": [],
   "source": [
    "conjunto = set([1, 2, 3, 4, 5, 5])\n",
    "print(f'Conjunto creado con set(): {conjunto}')  # Ojo, el 5 solo se agrega una vez porque los conjuntos no permiten duplicados"
   ]
  },
  {
   "cell_type": "markdown",
   "id": "69b875e6",
   "metadata": {},
   "source": [
    "### Indexación de conjuntos\n",
    "\n",
    "Los conjuntos (set) en Python **no se pueden indexar**, porque **no tienen orden ni posiciones fijas**.\n",
    "\n",
    "---"
   ]
  },
  {
   "cell_type": "code",
   "execution_count": null,
   "id": "aabc01fc",
   "metadata": {},
   "outputs": [],
   "source": [
    "try:\n",
    "    conjunto = {1, 2, 3, 4, 5}\n",
    "    print(conjunto[0])  # Intento de indexar un conjunto, lo cual no es válido\n",
    "\n",
    "except TypeError as e:\n",
    "    print(f'Error: {e}')"
   ]
  },
  {
   "cell_type": "markdown",
   "id": "c1f896e7",
   "metadata": {},
   "source": [
    "### Métodos básicos de conjuntos\n",
    "\n",
    "Los conjuntos en Python tienen varios métodos útiles para trabajar con elementos únicos:\n",
    "\n",
    "- `.add(elemento)`: Agrega un elemento al conjunto.\n",
    "- `.remove(elemento)`: Elimina un elemento (lanza error si no existe).\n",
    "- `.discard(elemento)`: Elimina un elemento si existe (no lanza error si no está).\n",
    "- `.pop()`: Elimina y devuelve un elemento arbitrario del conjunto.\n",
    "- `.clear()`: Elimina todos los elementos del conjunto.\n",
    "- `.union(otro_conjunto)`: Devuelve un nuevo conjunto con todos los elementos de ambos conjuntos.\n",
    "- `.intersection(otro_conjunto)`: Devuelve un nuevo conjunto con los elementos comunes.\n",
    "- `.difference(otro_conjunto)`: Devuelve un nuevo conjunto con los elementos que están en el primero pero no en el segundo.\n",
    "- `.issubset(otro_conjunto)`: Devuelve True si el conjunto es subconjunto de otro.\n",
    "- `.issuperset(otro_conjunto)`: Devuelve True si el conjunto es superconjunto de otro."
   ]
  },
  {
   "cell_type": "code",
   "execution_count": null,
   "id": "70bf1d5c",
   "metadata": {},
   "outputs": [],
   "source": [
    "# .add()\n",
    "conjunto = {1, 2, 3}\n",
    "conjunto.add(4)\n",
    "print('Después de add(4):', conjunto)"
   ]
  },
  {
   "cell_type": "code",
   "execution_count": null,
   "id": "34076f8d",
   "metadata": {},
   "outputs": [],
   "source": [
    "# .remove()\n",
    "conjunto.remove(2)\n",
    "print('Después de remove(2):', conjunto)"
   ]
  },
  {
   "cell_type": "code",
   "execution_count": null,
   "id": "f4dad787",
   "metadata": {},
   "outputs": [],
   "source": [
    "# .discard()\n",
    "conjunto.discard(10)  # No lanza error si el elemento no existe\n",
    "print('Después de discard(10):', conjunto)"
   ]
  },
  {
   "cell_type": "code",
   "execution_count": null,
   "id": "1cb7e599",
   "metadata": {},
   "outputs": [],
   "source": [
    "# .pop()\n",
    "elemento = conjunto.pop()  # Elimina y retorna un elemento arbitrario\n",
    "print('Después de pop():', conjunto, '| Elemento eliminado:', elemento)"
   ]
  },
  {
   "cell_type": "code",
   "execution_count": null,
   "id": "a5b2e52e",
   "metadata": {},
   "outputs": [],
   "source": [
    "# .clear()\n",
    "conjunto.clear()\n",
    "print('Después de clear():', conjunto)"
   ]
  },
  {
   "cell_type": "code",
   "execution_count": null,
   "id": "e5830fcf",
   "metadata": {},
   "outputs": [],
   "source": [
    "# .union()\n",
    "print('a.union(b):', a.union(b))\n",
    "print('a | b:', a | b)  # Otra forma de hacer la unión"
   ]
  },
  {
   "cell_type": "code",
   "execution_count": null,
   "id": "2b67840b",
   "metadata": {},
   "outputs": [],
   "source": [
    "# .intersection()\n",
    "print('a.intersection(b):', a.intersection(b))\n",
    "print('a & b:', a & b)  # Otra forma de hacer la intersección"
   ]
  },
  {
   "cell_type": "code",
   "execution_count": null,
   "id": "915d726a",
   "metadata": {},
   "outputs": [],
   "source": [
    "# .difference()\n",
    "print('a.difference(b):', a.difference(b))\n",
    "print('a - b:', a - b)  # Otra forma de hacer la diferencia"
   ]
  },
  {
   "cell_type": "code",
   "execution_count": null,
   "id": "bac96db0",
   "metadata": {},
   "outputs": [],
   "source": [
    "# .issubset()\n",
    "print('{1, 2}.issubset(a):', {1, 2}.issubset(a))"
   ]
  },
  {
   "cell_type": "code",
   "execution_count": null,
   "id": "17e93b29",
   "metadata": {},
   "outputs": [],
   "source": [
    "# .issuperset()\n",
    "print('a.issuperset({1, 2}):', a.issuperset({1, 2}))"
   ]
  },
  {
   "cell_type": "markdown",
   "id": "604cb756",
   "metadata": {},
   "source": [
    "Finalmente, podemos contar la cantidad de elementos de un conjunto fácilmente con `len`."
   ]
  },
  {
   "cell_type": "code",
   "execution_count": null,
   "id": "99a0bb04",
   "metadata": {},
   "outputs": [],
   "source": [
    "print(f'Cantidad de elementos en el conjunto: {len(a)}')"
   ]
  },
  {
   "cell_type": "markdown",
   "id": "0ab225d9",
   "metadata": {},
   "source": [
    "**Ejercicio: Encontrar Ingredientes Comunes**\n",
    "\n",
    "Tienes dos recetas y quieres saber qué ingredientes tienen en común. Supón que estos son tus ingredientes:\n",
    "\n",
    "```python\n",
    "receta_1 = {'harina', 'azúcar', 'huevos', 'leche'}\n",
    "receta_2 = {'chocolate', 'azúcar', 'mantequilla', 'harina'}\n",
    "```"
   ]
  },
  {
   "cell_type": "markdown",
   "id": "32476cef",
   "metadata": {},
   "source": [
    "---"
   ]
  },
  {
   "cell_type": "code",
   "execution_count": null,
   "id": "a89582ec",
   "metadata": {},
   "outputs": [],
   "source": [
    "receta_1 = {'harina', 'azúcar', 'huevos', 'leche'}\n",
    "receta_2 = {'chocolate', 'azúcar', 'mantequilla', 'harina'}\n",
    "\n",
    "ingredientes_comunes = receta_1 & receta_2\n",
    "\n",
    "print(f'Ingredientes en común: {ingredientes_comunes}')"
   ]
  },
  {
   "cell_type": "markdown",
   "id": "fb73cec4",
   "metadata": {},
   "source": [
    "### Iterando un conjunto\n",
    "\n",
    "Puedes recorrer todos los elementos de un conjunto fácilmente con ciclos.\n",
    "\n",
    "---"
   ]
  },
  {
   "cell_type": "code",
   "execution_count": null,
   "id": "2fb1a592",
   "metadata": {},
   "outputs": [],
   "source": [
    "frutas = {\"manzana\", \"banana\", \"pera\"}\n",
    "\n",
    "for fruta in frutas:\n",
    "    print(fruta)"
   ]
  },
  {
   "cell_type": "markdown",
   "id": "0aef154a",
   "metadata": {},
   "source": [
    "#### Ejercicio: Cursos matriculados\n",
    "\n",
    "Una biblioteca lleva el registro de los libros que leen los miembros de un club de lectura. Cada miembro está representado por un diccionario con su nombre, edad y un conjunto de libros que ha leído:\n",
    "\n",
    "```python\n",
    "club = [\n",
    "    {\n",
    "        \"nombre\": \"Ana\",\n",
    "        \"edad\": 25,\n",
    "        \"libros\": {\"1984\", \"Cien años de soledad\", \"El Principito\"}\n",
    "    },\n",
    "    {\n",
    "        \"nombre\": \"Luis\",\n",
    "        \"edad\": 30,\n",
    "        \"libros\": {\"1984\", \"Fahrenheit 451\", \"El Hobbit\"}\n",
    "    },\n",
    "    {\n",
    "        \"nombre\": \"María\",\n",
    "        \"edad\": 22,\n",
    "        \"libros\": {\"Cien años de soledad\", \"El Hobbit\", \"Don Quijote\"}\n",
    "    }\n",
    "]\n",
    "```\n",
    "\n",
    "Crea un conjunto con todos los libros únicos leídos por el club."
   ]
  },
  {
   "cell_type": "markdown",
   "id": "76a3f897",
   "metadata": {},
   "source": [
    "---\n",
    "\n",
    "## 5. Aplicaciones de cada estructura\n",
    "\n",
    "---\n",
    "\n",
    "Dependiendo de lo que estemos haciendo, puede ser más conveniente una estructura u otra.\n",
    "\n",
    "| Estructura | Caso de Uso Principal | Ejemplo en Procesamiento de Datos |\n",
    "| :--- | :--- | :--- |\n",
    "| **Lista** 📝 | Una colección ordenada de elementos que necesitas modificar. | Almacenar una serie temporal de lecturas de un sensor, que puedes ordenar o filtrar. |\n",
    "| **Tupla** 📦 | Una colección ordenada de elementos que NO deben cambiar. Ideal para devolver múltiples valores de una función. | Almacenar coordenadas (lat, lon), colores (R, G, B) o registros fijos de una base de datos. |\n",
    "| **Diccionario** 🔑 | Para almacenar relaciones lógicas entre pares de datos (clave-valor). Búsqueda rápida por clave. | Un perfil de usuario, la configuración de un sistema, o los metadatos de un archivo. |\n",
    "| **Conjunto** 🎯 | Para almacenar elementos únicos y realizar operaciones matemáticas de conjuntos (unión, intersección). | Eliminar duplicados de una lista de datos, o comprobar la pertenencia de un elemento de forma muy rápida. |\n",
    "\n",
    "---"
   ]
  },
  {
   "cell_type": "markdown",
   "id": "98b355fa",
   "metadata": {},
   "source": [
    "#### Ejercicio: ¿Qué estructura de datos usarías?\n",
    "\n",
    "Lee cada enunciado y elige la estructura más adecuada:\n",
    "👉 list, tuple, dict, set\n",
    "\n",
    "1. Quieres almacenar las temperaturas registradas durante una semana, y necesitas calcular promedios y ordenar los datos.\n",
    "\n",
    "2. Una función devuelve las dimensiones (ancho, alto) de una imagen, y no deben modificarse accidentalmente.\n",
    "\n",
    "3. Debes guardar la cantidad de productos disponibles en una tienda, donde puedes buscar por nombre del producto.\n",
    "\n",
    "4. Tienes una lista con muchos correos electrónicos, pero necesitas eliminar los duplicados rápidamente.\n",
    "\n",
    "5. Necesitas mantener una colección de colores (como (255, 0, 0)) asociados a nombres como \"rojo\" o \"verde\".\n",
    "\n",
    "6. Quieres saber qué palabras aparecen en ambos documentos para encontrar coincidencias.\n",
    "\n",
    "7. Debes guardar la información personal de un usuario (nombre, edad, correo) y poder accederla fácilmente por campo.\n",
    "\n",
    "8. Guardar los resultados de una encuesta donde se registraron las respuestas en el orden en que llegaron.\n",
    "\n",
    "9. Una función debe devolver un par (resultado, mensaje) que no debe modificarse una vez devuelto.\n",
    "\n",
    "10. Quieres verificar si un número de identificación aparece en una lista grande, y no te importa el orden.\n",
    "\n",
    "---"
   ]
  },
  {
   "cell_type": "markdown",
   "id": "9b1e3801",
   "metadata": {},
   "source": [
    "## ✏️ Ejercicios Adicionales\n",
    "\n",
    "---"
   ]
  },
  {
   "cell_type": "markdown",
   "id": "4eb3166b",
   "metadata": {},
   "source": [
    "**1. Inventario de Frutas:**\n",
    "Crea una lista de frutas. Pide al usuario que añada una fruta nueva a la lista. Luego, muestra la lista final ordenada alfabéticamente.\n",
    "\n",
    "---"
   ]
  },
  {
   "cell_type": "code",
   "execution_count": null,
   "id": "e01d6f3c",
   "metadata": {},
   "outputs": [],
   "source": [
    "frutas: list[str] = ['manzana', 'banana', 'uva']\n",
    "nueva_fruta: str = input('Agrega una nueva fruta al inventario: ')\n",
    "frutas.append(nueva_fruta)\n",
    "frutas.sort()\n",
    "print(f'Inventario actualizado y ordenado: {frutas}')"
   ]
  },
  {
   "cell_type": "markdown",
   "id": "6d755b2b",
   "metadata": {},
   "source": [
    "**2. Elementos repetidos:**\n",
    "Pide al usuario que ingrese una lista de números separados por comas. Determina cuántos elementos están repetidos en esa lista.\n",
    "\n",
    "---"
   ]
  },
  {
   "cell_type": "code",
   "execution_count": null,
   "id": "c3627b49",
   "metadata": {},
   "outputs": [],
   "source": [
    "elementos = input('Ingresa una lista de elementos separados por comas: ')\n",
    "lista_elementos = elementos.split(',')\n",
    "\n",
    "elementos_nuevos = []\n",
    "for elemento in lista_elementos:\n",
    "    if elemento not in elementos_nuevos:\n",
    "        elementos_nuevos.append(elemento.strip())\n",
    "\n",
    "print(f'Cantidad de elementos repetidos: {len(lista_elementos) - len(elementos_nuevos)}')"
   ]
  },
  {
   "cell_type": "code",
   "execution_count": null,
   "id": "59b77f1d",
   "metadata": {},
   "outputs": [],
   "source": [
    "elementos = input('Ingresa una lista de elementos separados por comas: ')\n",
    "lista_elementos = elementos.split(',')\n",
    "\n",
    "elementos_unicos = set(lista_elementos)  # Convertimos a conjunto para eliminar duplicados\n",
    "print(f\"Cantidad de elementos repetidos: {len(lista_elementos) - len(elementos_unicos)}\")"
   ]
  },
  {
   "cell_type": "markdown",
   "id": "8515695a",
   "metadata": {},
   "source": [
    "**3. Teléfonos de Contacto Únicos:**\n",
    "Tienes dos listas de teléfonos de dos eventos diferentes. Encuentra todos los números de teléfono únicos (sin duplicados) de ambos eventos combinados.\n",
    "\n",
    "---"
   ]
  },
  {
   "cell_type": "code",
   "execution_count": null,
   "id": "e8caac00",
   "metadata": {},
   "outputs": [],
   "source": [
    "telefonos_evento_1 = ['555-123', '555-456', '555-789']\n",
    "telefonos_evento_2 = ['555-456', '555-999', '555-111']\n",
    "\n",
    "# Usamos conjuntos para combinar y obtener valores únicos automáticamente\n",
    "set_1 = set(telefonos_evento_1)\n",
    "set_2 = set(telefonos_evento_2)\n",
    "todos_los_telefonos_unicos = set_1.union(set_2)\n",
    "\n",
    "print(f'Todos los números de contacto únicos son: {todos_los_telefonos_unicos}')"
   ]
  },
  {
   "cell_type": "markdown",
   "id": "bde73ed5",
   "metadata": {},
   "source": [
    "**4. Frecuencia de caracteres:**\n",
    "\n",
    "Escribe un programa que procese strings ingresados por el usuario. La lectura finaliza cuando se hayan procesado 3 strings. Al finalizar, informa la cantidad total de ocurrencias de cada carácter, por todos los strings ingresados. Ejemplo: \"r\":5, \"%\":3, \"a\":8, \"9\":1.\n",
    "\n",
    "---"
   ]
  },
  {
   "cell_type": "code",
   "execution_count": null,
   "id": "5ecb557b",
   "metadata": {},
   "outputs": [],
   "source": [
    "diccionario_de_caracteres = {}\n",
    "\n",
    "for i in range(3):\n",
    "    frase = input('Ingresa una frase: ')\n",
    "    for caracter in frase:\n",
    "\n",
    "        if caracter not in diccionario_de_caracteres:\n",
    "            diccionario_de_caracteres[caracter] = 1\n",
    "        else:\n",
    "            diccionario_de_caracteres[caracter] += 1\n",
    "\n",
    "print(\"Frecuencia de caracteres:\")\n",
    "for caracter, frecuencia in diccionario_de_caracteres.items():\n",
    "    print(f\"'{caracter}': {frecuencia}\")"
   ]
  },
  {
   "cell_type": "markdown",
   "id": "2c771629",
   "metadata": {},
   "source": [
    "**5. Lista de la Compra (Diccionario):**\n",
    "Tienes un diccionario que representa el inventario de una tienda. Cada clave es el nombre de un producto y su valor es la cantidad en stock.\n",
    "\n",
    "```python\n",
    "inventario = {\n",
    "    \"manzanas\": 10,\n",
    "    \"bananas\": 5,\n",
    "    \"naranjas\": 0,\n",
    "    \"peras\": 3\n",
    "}\n",
    "```\n",
    "\n",
    "1.\tEscribe un bucle que permita al usuario “comprar” productos.\n",
    "2.\tSi el producto existe y hay stock, disminuye la cantidad y muestra un mensaje.\n",
    "3.\tSi no hay stock, informa al usuario que está agotado.\n",
    "4.\tSi el producto no existe, informa que no lo vendes.\n",
    "5.\tEl usuario puede escribir \"salir\" para terminar.\n",
    "\n",
    "---"
   ]
  },
  {
   "cell_type": "code",
   "execution_count": null,
   "id": "f82bada7",
   "metadata": {},
   "outputs": [],
   "source": [
    "inventario = {\n",
    "    'manzanas': 10,\n",
    "    'bananas': 5,\n",
    "    'naranjas': 8,\n",
    "    'peras': 12\n",
    "}\n",
    "\n",
    "def mostrar_inventario(inventario):\n",
    "    print(\"Inventario actual:\")\n",
    "    for fruta, cantidad in inventario.items():\n",
    "        print(f\"{fruta}: {cantidad}\")\n",
    "\n",
    "def verificar_stock(inventario, fruta):\n",
    "    if fruta in inventario:\n",
    "        return inventario[fruta]\n",
    "    else:\n",
    "        return 0\n",
    "    \n",
    "def comprar_fruta(inventario, fruta):\n",
    "    if fruta in inventario:\n",
    "        if verificar_stock(inventario, fruta) > 0:\n",
    "            inventario[fruta] -= 1\n",
    "            print(f\"Has comprado una {fruta}. Stock restante: {inventario[fruta]}\")\n",
    "\n",
    "        else:\n",
    "            print(f\"La fruta '{fruta}' está agotada.\")\n",
    "    else:\n",
    "        print(f\"La fruta '{fruta}' no está disponible en el inventario.\")\n",
    "\n",
    "salir = False\n",
    "while not salir:\n",
    "    print(\"\\nOpciones:\")\n",
    "    print(\"1. Mostrar inventario\")\n",
    "    print(\"2. Verificar stock de una fruta\")\n",
    "    print(\"3. Comprar una fruta\")\n",
    "    print(\"4. Salir\")\n",
    "\n",
    "    opcion = input(\"Selecciona una opción (1-4): \")\n",
    "\n",
    "    if opcion == '1':\n",
    "        mostrar_inventario(inventario)\n",
    "    elif opcion == '2':\n",
    "        fruta = input(\"Ingresa el nombre de la fruta: \")\n",
    "        cantidad = verificar_stock(inventario, fruta)\n",
    "        print(f\"Cantidad de '{fruta}' en stock: {cantidad}\")\n",
    "    elif opcion == '3':\n",
    "        fruta = input(\"Ingresa el nombre de la fruta que deseas comprar: \")\n",
    "        comprar_fruta(inventario, fruta)\n",
    "    elif opcion == '4':\n",
    "        salir = True\n",
    "    else:\n",
    "        print(\"Opción no válida, intenta nuevamente.\")"
   ]
  }
 ],
 "metadata": {
  "language_info": {
   "name": "python"
  }
 },
 "nbformat": 4,
 "nbformat_minor": 5
}
