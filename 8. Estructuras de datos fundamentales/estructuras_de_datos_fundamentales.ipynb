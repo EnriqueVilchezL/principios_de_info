{
 "cells": [
  {
   "cell_type": "markdown",
   "id": "39288afa",
   "metadata": {},
   "source": [
    "# Principios de Informática: Estructuras de Datos Fundamentales 🗃️\n",
    "### ### Organizando la información para resolver problemas complejos\n",
    "\n",
    "**Curso:** Principios de Informática"
   ]
  },
  {
   "cell_type": "markdown",
   "id": "9b88700e",
   "metadata": {},
   "source": [
    "---"
   ]
  },
  {
   "cell_type": "markdown",
   "id": "62b6f1c6",
   "metadata": {},
   "source": [
    "## ¿Por qué necesitamos diferentes 'cajas'? 📦\n",
    "\n",
    "Imagina que tienes que organizar tus cosas. Usarías una caja de herramientas para los tornillos y martillos, un álbum para tus fotos y una agenda para tus contactos. Cada 'contenedor' está diseñado para un propósito específico.\n",
    "\n",
    "En programación, ocurre lo mismo. No todos los datos son iguales, por lo que usamos diferentes **estructuras de datos** para organizarlos de manera eficiente. Elegir la estructura correcta es fundamental para escribir código limpio, rápido y fácil de mantener.\n",
    "\n",
    "Hoy exploraremos los cuatro contenedores fundamentales de Python: **Listas**, **Tuplas**, **Diccionarios** y **Conjuntos**."
   ]
  },
  {
   "cell_type": "markdown",
   "id": "1bdd96c5",
   "metadata": {},
   "source": [
    "---"
   ]
  },
  {
   "cell_type": "markdown",
   "id": "913fd274",
   "metadata": {},
   "source": [
    "## 📝 Listas: La Caja de Herramientas Modificable\n",
    "\n",
    "Una **lista** es una colección **ordenada** y **mutable** de elementos.\n",
    "\n",
    "* **Ordenada**: Los elementos mantienen el orden en que los agregaste.\n",
    "* **Mutable**: ¡Puedes cambiar su contenido! Agregar, eliminar o modificar elementos después de crearla.\n",
    "\n",
    "**Analogía**: Una lista de compras. Puedes agregar nuevos artículos, tachar los que ya tienes y cambiar de opinión sobre una marca."
   ]
  },
  {
   "cell_type": "markdown",
   "id": "f365d3d8",
   "metadata": {},
   "source": [
    "---"
   ]
  },
  {
   "cell_type": "markdown",
   "id": "e884b22e",
   "metadata": {},
   "source": [
    "### ### Creación e Indexación de Listas\n",
    "\n",
    "Se crean con corchetes `[]` y se accede a sus elementos mediante un **índice**, que comienza en `0`."
   ]
  },
  {
   "cell_type": "markdown",
   "id": "e4bb32f7",
   "metadata": {},
   "source": [
    "---"
   ]
  },
  {
   "cell_type": "code",
   "execution_count": null,
   "id": "253a36e8",
   "metadata": {},
   "outputs": [],
   "source": [
    "# Lista de sensores en un proyecto de robótica\n",
    "sensores: list[str] = ['temperatura', 'humedad', 'distancia', 'luz']\n",
    "\n",
    "# Accediendo a elementos (Indexación)\n",
    "print(f'El primer sensor es: {sensores[0]}')      # Acceso al primer elemento\n",
    "print(f'El último sensor es: {sensores[-1]}')     # Acceso al último elemento\n",
    "print(f'Los sensores intermedios son: {sensores[1:3]}') # Slicing: desde el índice 1 hasta el 2"
   ]
  },
  {
   "cell_type": "markdown",
   "id": "2eb16498",
   "metadata": {},
   "source": [
    "---"
   ]
  },
  {
   "cell_type": "markdown",
   "id": "c30dc8d4",
   "metadata": {},
   "source": [
    "### ### Métodos Básicos de las Listas\n",
    "\n",
    "Como las listas son mutables, tienen métodos para cambiar su contenido."
   ]
  },
  {
   "cell_type": "markdown",
   "id": "82012d22",
   "metadata": {},
   "source": [
    "---"
   ]
  },
  {
   "cell_type": "code",
   "execution_count": null,
   "id": "3090d26c",
   "metadata": {},
   "outputs": [],
   "source": [
    "tareas_pendientes: list[str] = ['Revisar documentación', 'Escribir código']\n",
    "print(f'Tareas iniciales: {tareas_pendientes}')\n",
    "\n",
    "# .append(): Agrega un elemento al final\n",
    "tareas_pendientes.append('Probar el programa')\n",
    "print(f'Después de append: {tareas_pendientes}')\n",
    "\n",
    "# .remove(): Elimina la primera aparición de un valor\n",
    "tareas_pendientes.remove('Escribir código')\n",
    "print(f'Después de remove: {tareas_pendientes}')\n",
    "\n",
    "# .pop(): Elimina y devuelve el elemento de un índice (por defecto, el último)\n",
    "tarea_completada = tareas_pendientes.pop(0)\n",
    "print(f'Tarea completada: '{tarea_completada}')\n",
    "print(f'Tareas restantes: {tareas_pendientes}')\n",
    "\n",
    "# .sort(): Ordena la lista (in-place)\n",
    "numeros: list[int] = [5, 1, 10, 3]\n",
    "numeros.sort()\n",
    "print(f'Lista de números ordenada: {numeros}')"
   ]
  },
  {
   "cell_type": "markdown",
   "id": "439ef8b8",
   "metadata": {},
   "source": [
    "---"
   ]
  },
  {
   "cell_type": "markdown",
   "id": "ba501f69",
   "metadata": {},
   "source": [
    "**Ejercicio: Gestionar Invitados a un Evento**\n",
    "Tienes una lista de invitados. Realiza las siguientes operaciones:\n",
    "1.  Agrega a 'Carlos' a la lista.\n",
    "2.  'Ana' no puede venir, elimínala de la lista.\n",
    "3.  Ordena la lista final alfabéticamente."
   ]
  },
  {
   "cell_type": "markdown",
   "id": "087388ae",
   "metadata": {},
   "source": [
    "---"
   ]
  },
  {
   "cell_type": "code",
   "execution_count": null,
   "id": "75e9a42f",
   "metadata": {},
   "outputs": [],
   "source": [
    "invitados: list[str] = ['Maria', 'Juan', 'Ana', 'Pedro']\n",
    "print(f'Invitados originales: {invitados}')\n",
    "\n",
    "# 1. Agregar a 'Carlos'\n",
    "invitados.append('Carlos')\n",
    "print(f'Después de agregar a Carlos: {invitados}')\n",
    "\n",
    "# 2. Eliminar a 'Ana'\n",
    "invitados.remove('Ana')\n",
    "print(f'Después de eliminar a Ana: {invitados}')\n",
    "\n",
    "# 3. Ordenar la lista\n",
    "invitados.sort()\n",
    "print(f'Lista final ordenada: {invitados}')"
   ]
  },
  {
   "cell_type": "markdown",
   "id": "64c6aa47",
   "metadata": {},
   "source": [
    "---"
   ]
  },
  {
   "cell_type": "markdown",
   "id": "64c0055c",
   "metadata": {},
   "source": [
    "## 📦 Tuplas: La Caja Fuerte Inmutable\n",
    "\n",
    "Una **tupla** es una colección **ordenada** e **inmutable** de elementos.\n",
    "\n",
    "* **Ordenada**: Al igual que las listas, los elementos mantienen su posición.\n",
    "* **Inmutable**: ¡No puedes cambiar su contenido una vez creada! No puedes agregar, eliminar ni modificar elementos.\n",
    "\n",
    "**Analogía**: Las coordenadas GPS de un lugar. Son un par de números fijos (latitud, longitud) que no deberían cambiar."
   ]
  },
  {
   "cell_type": "markdown",
   "id": "7343aa73",
   "metadata": {},
   "source": [
    "---"
   ]
  },
  {
   "cell_type": "markdown",
   "id": "6cf74b0d",
   "metadata": {},
   "source": [
    "### Creación, Empaquetado y Desempaquetado\n",
    "\n",
    "Se crean con paréntesis `()` (aunque a menudo son opcionales).\n",
    "\n",
    "* **Empaquetado (Packing)**: Es el acto de agrupar varios valores en una tupla.\n",
    "* **Desempaquetado (Unpacking)**: Es el acto de asignar los valores de una tupla a múltiples variables."
   ]
  },
  {
   "cell_type": "markdown",
   "id": "459c7adf",
   "metadata": {},
   "source": [
    "---"
   ]
  },
  {
   "cell_type": "code",
   "execution_count": null,
   "id": "9da3bb17",
   "metadata": {},
   "outputs": [],
   "source": [
    "# Empaquetado de una tupla\n",
    "punto_3d = (10, 20, 5) # (x, y, z)\n",
    "print(f'Coordenadas del punto: {punto_3d}')\n",
    "\n",
    "# Desempaquetado de la tupla\n",
    "x, y, z = punto_3d\n",
    "print(f'Valor de x: {x}')\n",
    "print(f'Valor de y: {y}')\n",
    "print(f'Valor de z: {z}')\n",
    "\n",
    "# Las tuplas son inmutables. ¡Esto daría un error!\n",
    "# punto_3d[0] = 15 # TypeError: 'tuple' object does not support item assignment"
   ]
  },
  {
   "cell_type": "markdown",
   "id": "338462c1",
   "metadata": {},
   "source": [
    "---"
   ]
  },
  {
   "cell_type": "markdown",
   "id": "8fff3eff",
   "metadata": {},
   "source": [
    "**Ejercicio: Devolver Múltiples Valores**\n",
    "Una aplicación común de las tuplas es devolver múltiples valores desde una función. Crea una función que reciba una lista de números y devuelva tanto el valor mínimo como el máximo en una sola tupla."
   ]
  },
  {
   "cell_type": "markdown",
   "id": "206adeb1",
   "metadata": {},
   "source": [
    "---"
   ]
  },
  {
   "cell_type": "code",
   "execution_count": null,
   "id": "21e6e9d1",
   "metadata": {},
   "outputs": [],
   "source": [
    "def encontrar_min_y_max(numeros: list[float]) -> tuple[float, float]:\n",
    "    \"\"\"Encuentra el valor mínimo y máximo de una lista y los devuelve en una tupla.\"\"\"\n",
    "    minimo = min(numeros)\n",
    "    maximo = max(numeros)\n",
    "    return (minimo, maximo) # Empaquetado\n",
    "\n",
    "# Desempaquetado del resultado\n",
    "lecturas_sensor = [25.1, 24.8, 25.5, 24.9, 26.0, 24.7]\n",
    "temp_min, temp_max = encontrar_min_y_max(lecturas_sensor)\n",
    "\n",
    "print(f'Las lecturas del sensor fueron: {lecturas_sensor}')\n",
    "print(f'La temperatura mínima registrada fue: {temp_min}°C')\n",
    "print(f'La temperatura máxima registrada fue: {temp_max}°C')"
   ]
  },
  {
   "cell_type": "markdown",
   "id": "4c5a009b",
   "metadata": {},
   "source": [
    "---"
   ]
  },
  {
   "cell_type": "markdown",
   "id": "8448c48f",
   "metadata": {},
   "source": [
    "## 🔑 Diccionarios: La Agenda de Contactos\n",
    "\n",
    "Un **diccionario** es una colección **no ordenada** de pares **clave-valor**.\n",
    "\n",
    "* **No ordenada** (en versiones antiguas de Python): Los elementos no tienen un orden predecible.\n",
    "* **Pares clave-valor**: Cada elemento tiene una **clave** única que se usa para acceder a su **valor** correspondiente.\n",
    "* **Mutable**: Puedes agregar, modificar y eliminar pares clave-valor.\n",
    "\n",
    "**Analogía**: Una agenda de contactos. La 'clave' es el nombre de la persona, y el 'valor' es su número de teléfono. Buscas por nombre, no por posición."
   ]
  },
  {
   "cell_type": "markdown",
   "id": "50ba8371",
   "metadata": {},
   "source": [
    "---"
   ]
  },
  {
   "cell_type": "markdown",
   "id": "00b2f47d",
   "metadata": {},
   "source": [
    "### Creación y Métodos Básicos\n",
    "\n",
    "Se crean con llaves `{}`."
   ]
  },
  {
   "cell_type": "markdown",
   "id": "014fe739",
   "metadata": {},
   "source": [
    "---"
   ]
  },
  {
   "cell_type": "code",
   "execution_count": null,
   "id": "02239a75",
   "metadata": {},
   "outputs": [],
   "source": [
    "# Diccionario para almacenar la configuración de un motor\n",
    "config_motor = {\n",
    "    'velocidad': 5000,\n",
    "    'temperatura_max': 95.5,\n",
    "    'unidades': 'RPM',\n",
    "    'activo': True\n",
    "}\n",
    "\n",
    "# Acceder a un valor a través de su clave\n",
    "print(f'Velocidad configurada: {config_motor['velocidad']} {config_motor['unidades']}')\n",
    "\n",
    "# Modificar un valor\n",
    "config_motor['velocidad'] = 5500\n",
    "print(f'Nueva velocidad: {config_motor['velocidad']}')\n",
    "\n",
    "# Agregar un nuevo par clave-valor\n",
    "config_motor['modelo'] = 'V8'\n",
    "\n",
    "# Métodos básicos\n",
    "print(f'Todas las claves: {list(config_motor.keys())}')\n",
    "print(f'Todos los valores: {list(config_motor.values())}')\n",
    "print(f'Todos los pares: {list(config_motor.items())}')"
   ]
  },
  {
   "cell_type": "markdown",
   "id": "42c8581a",
   "metadata": {},
   "source": [
    "---"
   ]
  },
  {
   "cell_type": "markdown",
   "id": "e1112b42",
   "metadata": {},
   "source": [
    "**Ejercicio: Perfil de Usuario**\n",
    "Crea un diccionario para almacenar tu perfil de usuario con las claves: 'nombre', 'edad' y 'ciudad'. Luego, actualiza tu edad sumándole 1 año e imprime el perfil completo."
   ]
  },
  {
   "cell_type": "markdown",
   "id": "1f0018f4",
   "metadata": {},
   "source": [
    "---"
   ]
  },
  {
   "cell_type": "code",
   "execution_count": null,
   "id": "f4d2246a",
   "metadata": {},
   "outputs": [],
   "source": [
    "perfil_usuario = {\n",
    "    'nombre': 'Alex',\n",
    "    'edad': 30,\n",
    "    'ciudad': 'San José'\n",
    "}\n",
    "print(f'Perfil original: {perfil_usuario}')\n",
    "\n",
    "# Actualizar la edad\n",
    "perfil_usuario['edad'] += 1\n",
    "\n",
    "print(f'Perfil actualizado: {perfil_usuario}')"
   ]
  },
  {
   "cell_type": "markdown",
   "id": "62983bb3",
   "metadata": {},
   "source": [
    "---"
   ]
  },
  {
   "cell_type": "markdown",
   "id": "3a771bb0",
   "metadata": {},
   "source": [
    "## 🎯 Conjuntos (Sets): La Colección de Elementos Únicos\n",
    "\n",
    "Un **conjunto** es una colección **no ordenada** de elementos **únicos**.\n",
    "\n",
    "* **No ordenada**: No puedes estar seguro del orden de los elementos.\n",
    "* **Únicos**: No puede haber elementos duplicados. Si intentas agregar un elemento que ya existe, simplemente se ignora.\n",
    "* **Mutable**: Puedes agregar y eliminar elementos.\n",
    "\n",
    "**Analogía**: Una colección de cromos únicos. Si te regalan un cromo que ya tienes, tu colección no cambia de tamaño."
   ]
  },
  {
   "cell_type": "markdown",
   "id": "71cf530b",
   "metadata": {},
   "source": [
    "---"
   ]
  },
  {
   "cell_type": "markdown",
   "id": "a86a3364",
   "metadata": {},
   "source": [
    "### Creación y Operaciones Básicas\n",
    "\n",
    "Se crean con `set()` o con llaves `{}` (pero un conjunto vacío debe crearse con `set()`, ya que `{}` crea un diccionario vacío)."
   ]
  },
  {
   "cell_type": "markdown",
   "id": "db259969",
   "metadata": {},
   "source": [
    "---"
   ]
  },
  {
   "cell_type": "code",
   "execution_count": null,
   "id": "8d1601de",
   "metadata": {},
   "outputs": [],
   "source": [
    "# Creando un conjunto a partir de una lista con duplicados\n",
    "numeros_con_duplicados = [1, 2, 2, 3, 4, 4, 4, 5]\n",
    "numeros_unicos = set(numeros_con_duplicados)\n",
    "print(f'Lista original: {numeros_con_duplicados}')\n",
    "print(f'Conjunto de números únicos: {numeros_unicos}')\n",
    "\n",
    "# Operaciones básicas\n",
    "numeros_unicos.add(6) # Agregar un elemento\n",
    "print(f'Después de agregar el 6: {numeros_unicos}')\n",
    "numeros_unicos.add(2) # Intentar agregar un duplicado (no hace nada)\n",
    "print(f'Después de intentar agregar el 2: {numeros_unicos}')\n",
    "numeros_unicos.remove(4)\n",
    "print(f'Después de eliminar el 4: {numeros_unicos}')\n",
    "\n",
    "# Operaciones de conjuntos\n",
    "set_a = {1, 2, 3, 4}\n",
    "set_b = {3, 4, 5, 6}\n",
    "print(f'Unión (A ∪ B): {set_a.union(set_b)}')\n",
    "print(f'Intersección (A ∩ B): {set_a.intersection(set_b)}')"
   ]
  },
  {
   "cell_type": "markdown",
   "id": "eb7425b2",
   "metadata": {},
   "source": [
    "---"
   ]
  },
  {
   "cell_type": "markdown",
   "id": "0ab225d9",
   "metadata": {},
   "source": [
    "**Ejercicio: Encontrar Ingredientes Comunes**\n",
    "Tienes dos recetas y quieres saber qué ingredientes tienen en común."
   ]
  },
  {
   "cell_type": "markdown",
   "id": "32476cef",
   "metadata": {},
   "source": [
    "---"
   ]
  },
  {
   "cell_type": "code",
   "execution_count": null,
   "id": "a89582ec",
   "metadata": {},
   "outputs": [],
   "source": [
    "receta_1 = {'harina', 'azúcar', 'huevos', 'leche'}\n",
    "receta_2 = {'chocolate', 'azúcar', 'mantequilla', 'harina'}\n",
    "\n",
    "ingredientes_comunes = receta_1.intersection(receta_2)\n",
    "\n",
    "print(f'Ingredientes en común: {ingredientes_comunes}')"
   ]
  },
  {
   "cell_type": "markdown",
   "id": "a0a1e8e7",
   "metadata": {},
   "source": [
    "---"
   ]
  },
  {
   "cell_type": "markdown",
   "id": "76a3f897",
   "metadata": {},
   "source": [
    "## ¿Cuándo Usar Cada Estructura? 🧐\n",
    "\n",
    "| Estructura | Caso de Uso Principal | Ejemplo en Procesamiento de Datos |\n",
    "| :--- | :--- | :--- |\n",
    "| **Lista** 📝 | Una colección ordenada de elementos que necesitas modificar. | Almacenar una serie temporal de lecturas de un sensor, que puedes ordenar o filtrar. |\n",
    "| **Tupla** 📦 | Una colección ordenada de elementos que NO deben cambiar. Ideal para devolver múltiples valores de una función. | Almacenar coordenadas (lat, lon), colores (R, G, B) o registros fijos de una base de datos. |\n",
    "| **Diccionario** 🔑 | Para almacenar relaciones lógicas entre pares de datos (clave-valor). Búsqueda rápida por clave. | Un perfil de usuario, la configuración de un sistema, o los metadatos de un archivo. |\n",
    "| **Conjunto** 🎯 | Para almacenar elementos únicos y realizar operaciones matemáticas de conjuntos (unión, intersección). | Eliminar duplicados de una lista de datos, o comprobar la pertenencia de un elemento de forma muy rápida. |"
   ]
  },
  {
   "cell_type": "markdown",
   "id": "e5385a0f",
   "metadata": {},
   "source": [
    "---"
   ]
  },
  {
   "cell_type": "markdown",
   "id": "9b1e3801",
   "metadata": {},
   "source": [
    "## ✏️ Ejercicios Finales de Práctica"
   ]
  },
  {
   "cell_type": "markdown",
   "id": "db8615d2",
   "metadata": {},
   "source": [
    "---"
   ]
  },
  {
   "cell_type": "markdown",
   "id": "4eb3166b",
   "metadata": {},
   "source": [
    "**1. Inventario de Frutas:**\n",
    "Crea una lista de frutas. Pide al usuario que añada una fruta nueva a la lista. Luego, muestra la lista final ordenada alfabéticamente."
   ]
  },
  {
   "cell_type": "markdown",
   "id": "560968ad",
   "metadata": {},
   "source": [
    "---"
   ]
  },
  {
   "cell_type": "code",
   "execution_count": null,
   "id": "e01d6f3c",
   "metadata": {},
   "outputs": [],
   "source": [
    "frutas: list[str] = ['manzana', 'banana', 'uva']\n",
    "nueva_fruta: str = input('Agrega una nueva fruta al inventario: ')\n",
    "frutas.append(nueva_fruta)\n",
    "frutas.sort()\n",
    "print(f'Inventario actualizado y ordenado: {frutas}')"
   ]
  },
  {
   "cell_type": "markdown",
   "id": "dac5d338",
   "metadata": {},
   "source": [
    "---"
   ]
  },
  {
   "cell_type": "markdown",
   "id": "6d755b2b",
   "metadata": {},
   "source": [
    "**2. Información de Libro:**\n",
    "Almacena la información de un libro (título, autor, año) en un diccionario. Luego, imprime una frase que diga: 'El libro [título], escrito por [autor], fue publicado en [año]'."
   ]
  },
  {
   "cell_type": "markdown",
   "id": "cf55dfdb",
   "metadata": {},
   "source": [
    "---"
   ]
  },
  {
   "cell_type": "code",
   "execution_count": null,
   "id": "c3627b49",
   "metadata": {},
   "outputs": [],
   "source": [
    "libro = {\n",
    "    'titulo': 'Cien Años de Soledad',\n",
    "    'autor': 'Gabriel García Márquez',\n",
    "    'año': 1967\n",
    "}\n",
    "print(f'El libro {libro['titulo']}, escrito por {libro['autor']}, fue publicado en {libro['año']}.')"
   ]
  },
  {
   "cell_type": "markdown",
   "id": "263db3be",
   "metadata": {},
   "source": [
    "---"
   ]
  },
  {
   "cell_type": "markdown",
   "id": "8515695a",
   "metadata": {},
   "source": [
    "**3. Teléfonos de Contacto Únicos:**\n",
    "Tienes dos listas de teléfonos de dos eventos diferentes. Encuentra todos los números de teléfono únicos (sin duplicados) de ambos eventos combinados."
   ]
  },
  {
   "cell_type": "markdown",
   "id": "cda964a6",
   "metadata": {},
   "source": [
    "---"
   ]
  },
  {
   "cell_type": "code",
   "execution_count": null,
   "id": "e8caac00",
   "metadata": {},
   "outputs": [],
   "source": [
    "telefonos_evento_1 = ['555-123', '555-456', '555-789']\n",
    "telefonos_evento_2 = ['555-456', '555-999', '555-111']\n",
    "\n",
    "# Usamos conjuntos para combinar y obtener valores únicos automáticamente\n",
    "set_1 = set(telefonos_evento_1)\n",
    "set_2 = set(telefonos_evento_2)\n",
    "todos_los_telefonos_unicos = set_1.union(set_2)\n",
    "\n",
    "print(f'Todos los números de contacto únicos son: {todos_los_telefonos_unicos}')"
   ]
  },
  {
   "cell_type": "markdown",
   "id": "2c411d52",
   "metadata": {},
   "source": [
    "---"
   ]
  },
  {
   "cell_type": "markdown",
   "id": "bde73ed5",
   "metadata": {},
   "source": [
    "**4. Constantes Físicas:**\n",
    "Almacena el nombre, valor y unidades de una constante física (ej. Gravedad: 9.8, 'm/s^2') en una tupla. Luego desempaqueta la tupla en variables e imprímelas."
   ]
  },
  {
   "cell_type": "markdown",
   "id": "0f820575",
   "metadata": {},
   "source": [
    "---"
   ]
  },
  {
   "cell_type": "code",
   "execution_count": null,
   "id": "5ecb557b",
   "metadata": {},
   "outputs": [],
   "source": [
    "constante_gravedad = ('Gravedad', 9.8, 'm/s^2')\n",
    "\n",
    "nombre, valor, unidades = constante_gravedad\n",
    "\n",
    "print(f'Constante: {nombre}')\n",
    "print(f'Valor: {valor} {unidades}')"
   ]
  },
  {
   "cell_type": "markdown",
   "id": "c9da3160",
   "metadata": {},
   "source": [
    "---"
   ]
  },
  {
   "cell_type": "markdown",
   "id": "2c771629",
   "metadata": {},
   "source": [
    "**5. Lista de la Compra (Diccionario):**\n",
    "Crea un diccionario para una lista de la compra donde las claves son los productos y los valores son las cantidades. Por ejemplo: `{'manzanas': 5, 'leche': 2}`. Luego, agrega 'pan' con cantidad 1."
   ]
  },
  {
   "cell_type": "markdown",
   "id": "eaed26ff",
   "metadata": {},
   "source": [
    "---"
   ]
  },
  {
   "cell_type": "code",
   "execution_count": null,
   "id": "f82bada7",
   "metadata": {},
   "outputs": [],
   "source": [
    "lista_compra = {\n",
    "    'manzanas': 5,\n",
    "    'leche': 2,\n",
    "    'huevos': 12\n",
    "}\n",
    "print(f'Lista de compra original: {lista_compra}')\n",
    "\n",
    "lista_compra['pan'] = 1\n",
    "print(f'Lista de compra actualizada: {lista_compra}')"
   ]
  }
 ],
 "metadata": {
  "language_info": {
   "name": "python"
  }
 },
 "nbformat": 4,
 "nbformat_minor": 5
}
