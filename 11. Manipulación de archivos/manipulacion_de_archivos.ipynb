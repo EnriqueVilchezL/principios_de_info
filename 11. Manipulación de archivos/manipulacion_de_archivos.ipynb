{
 "cells": [
  {
   "cell_type": "markdown",
   "id": "1bd2b1f4",
   "metadata": {},
   "source": [
    "# Principios de Informática: Manipulación de Archivos 💾\n",
    "\n",
    "### Guardando y cargando nuestros datos para que perduren\n",
    "\n",
    "**Curso:** Principios de Informática\n",
    "\n",
    "---"
   ]
  },
  {
   "cell_type": "markdown",
   "id": "2dc04bcb",
   "metadata": {},
   "source": [
    "## ¿Qué es un Archivo y Por Qué es Importante? 🤔\n",
    "\n",
    "Hasta ahora, todos los datos con los que hemos trabajado (variables, listas, etc.) han vivido en la **memoria RAM**. Esta memoria es **volátil**, lo que significa que cuando nuestro programa termina o apagamos la computadora, ¡toda la información se pierde!\n",
    "\n",
    "Un **archivo** es un contenedor de información en un dispositivo de almacenamiento **no volátil** (como un disco duro, un SSD o una memoria USB). Nos permite la **persistencia de datos**: guardar el estado de nuestro programa, los resultados de nuestros cálculos o cualquier información para poder usarla en el futuro.\n",
    "\n",
    "**Analogía**: La memoria RAM es como tu memoria a corto plazo para pensar en un problema. Un archivo es como un cuaderno donde anotas la solución para que no se te olvide. 📓\n",
    "\n",
    "---"
   ]
  },
  {
   "cell_type": "markdown",
   "id": "a8f1ad56",
   "metadata": {},
   "source": [
    "## Bibliotecas para el Análisis de Datos 📊\n",
    "\n",
    "Aunque Python puede manejar archivos de texto básicos por sí mismo, para tareas más complejas como trabajar con hojas de cálculo o grandes conjuntos de datos, usamos bibliotecas especializadas.\n",
    "\n",
    "La biblioteca más importante para el análisis de datos en Python es **Pandas**.\n",
    "\n",
    "**Pandas** introduce dos estructuras de datos súper poderosas:\n",
    "\n",
    "  * **`Series`**: Es como una columna de una tabla. Un arreglo de una dimensión con etiquetas (un índice).\n",
    "  * **`DataFrame`**: Es una tabla completa, con filas y columnas. Es la estructura de datos principal en Pandas y puedes pensar en ella como una hoja de Excel o una tabla de SQL.\n",
    "\n",
    "Para instalar pandas (si no lo tienes), abre tu terminal y escribe: `pip install pandas openpyxl`\n",
    "\n",
    "---"
   ]
  },
  {
   "cell_type": "markdown",
   "id": "46c03ed3",
   "metadata": {},
   "source": [
    "## 📄 Trabajando con Archivos de Texto (.txt)\n",
    "\n",
    "Los archivos de texto plano son la forma más simple de persistencia. No tienen formato, solo caracteres.\n",
    "\n",
    "---"
   ]
  },
  {
   "cell_type": "markdown",
   "id": "8c7cb96e",
   "metadata": {},
   "source": [
    "### Escribiendo en un archivo .txt\n",
    "\n",
    "Usamos la función `open()` con el modo `'w'` (write/escribir).\n",
    "\n",
    "**¡Cuidado!** El modo `'w'` **sobrescribe** el archivo si ya existe. Si quieres añadir al final, usa el modo `'a'` (append/añadir).\n",
    "\n",
    "---"
   ]
  },
  {
   "cell_type": "code",
   "execution_count": null,
   "id": "45e97259",
   "metadata": {},
   "outputs": [],
   "source": [
    "def guardar_log(mensaje: str, nombre_archivo: str = \"log.txt\") -> None:\n",
    "    \"\"\"Escribe un mensaje en un archivo de texto con la fecha y hora.\"\"\"\n",
    "    import datetime\n",
    "    # 'with' se asegura de que el archivo se cierre automáticamente\n",
    "    with open(nombre_archivo, 'a') as archivo:\n",
    "        timestamp = datetime.datetime.now().strftime(\"%Y-%m-%d %H:%M:%S\")\n",
    "        archivo.write(f\"[{timestamp}] - {mensaje}\\n\")\n",
    "\n",
    "# Escribimos varias líneas en nuestro log\n",
    "\n",
    "guardar_log(\"Inicio del proceso de simulación.\")\n",
    "guardar_log(\"Cargando parámetros iniciales.\")\n",
    "guardar_log(\"Simulación completada con éxito.\")\n",
    "print(\"Se ha escrito en el archivo 'log.txt'\")"
   ]
  },
  {
   "cell_type": "markdown",
   "id": "8ea0fde7",
   "metadata": {},
   "source": [
    "---\n",
    "\n",
    "### Leyendo desde un archivo .txt\n",
    "\n",
    "Usamos la función `open()` con el modo `'r'` (read/leer).\n",
    "\n",
    "---"
   ]
  },
  {
   "cell_type": "markdown",
   "id": "9e5224d9",
   "metadata": {},
   "source": [
    "**Ejercicio: Leer el Log**\n",
    "Escribe un programa que lea el archivo `log.txt` que acabas de crear y muestre su contenido en la consola.\n",
    "\n",
    "---"
   ]
  },
  {
   "cell_type": "code",
   "execution_count": null,
   "id": "7fee7ca3",
   "metadata": {},
   "outputs": [],
   "source": [
    "def leer_log(nombre_archivo: str = \"log.txt\") -> None:\n",
    "    \"\"\"Lee un archivo de texto y muestra su contenido.\"\"\"\n",
    "    try:\n",
    "        with open(nombre_archivo, 'r') as archivo:\n",
    "            contenido = archivo.read()\n",
    "            print(\"--- Contenido del Log ---\")\n",
    "            print(contenido)\n",
    "    except FileNotFoundError:\n",
    "        print(f\"Error: El archivo '{nombre_archivo}' no fue encontrado.\")\n",
    "\n",
    "leer_log()"
   ]
  },
  {
   "cell_type": "markdown",
   "id": "558c4e51",
   "metadata": {},
   "source": [
    "---\n",
    "\n",
    "## 📈 Trabajando con Archivos CSV y Excel\n",
    "\n",
    "Para datos tabulares (como hojas de cálculo), Pandas es la herramienta ideal.\n",
    "\n",
    "  * **CSV (Comma-Separated Values)**: Un formato de texto simple donde los valores de las columnas se separan por comas. Es universal y ligero.\n",
    "  * **XLSX (Excel)**: El formato nativo de Microsoft Excel. Puede contener múltiples hojas, fórmulas y formato.\n",
    "\n",
    "---"
   ]
  },
  {
   "cell_type": "markdown",
   "id": "41e64200",
   "metadata": {},
   "source": [
    "### Creando un DataFrame y guardándolo en CSV\n",
    "\n",
    "Primero, creamos un DataFrame de Pandas a partir de un diccionario. Luego, usamos el método `.to_csv()` para guardarlo.\n",
    "\n",
    "---"
   ]
  },
  {
   "cell_type": "code",
   "execution_count": null,
   "id": "60de95b3",
   "metadata": {},
   "outputs": [],
   "source": [
    "import pandas as pd\n",
    "\n",
    "# Creamos un diccionario con los datos\n",
    "\n",
    "datos_sensores = {\n",
    "    'tiempo_seg': [0, 1, 2, 3, 4],\n",
    "    'temperatura_C': [25.1, 25.3, 25.2, 25.4, 25.5],\n",
    "    'humedad_pct': [45, 46, 45, 47, 48]\n",
    "}\n",
    "\n",
    "# Creamos el DataFrame\n",
    "\n",
    "df_sensores = pd.DataFrame(datos_sensores)\n",
    "\n",
    "print(\"--- Nuestro DataFrame ---\")\n",
    "print(df_sensores)\n",
    "\n",
    "# Guardamos el DataFrame en un archivo CSV\n",
    "\n",
    "# index=False evita que se guarde el índice del DataFrame en el archivo\n",
    "\n",
    "df_sensores.to_csv(\"datos_sensores.csv\", index=False)\n",
    "\n",
    "print(\"\\n✅ DataFrame guardado en 'datos_sensores.csv'\")"
   ]
  },
  {
   "cell_type": "markdown",
   "id": "65a4da58",
   "metadata": {},
   "source": [
    "---\n",
    "\n",
    "### Cargando un archivo CSV a un DataFrame\n",
    "\n",
    "Para cargar los datos, usamos la función `pd.read_csv()`.\n",
    "\n",
    "---\n",
    "\n",
    "**Ejercicio: Cargar y Analizar Datos**\n",
    "Carga el archivo `datos_sensores.csv` que acabas de crear y realiza estas operaciones básicas:\n",
    "\n",
    "1.  Muestra las primeras 3 filas (`.head()`).\n",
    "2.  Calcula la temperatura promedio (`.mean()`).\n",
    "3.  Describe estadísticamente los datos (`.describe()`).\n",
    "\n",
    "---"
   ]
  },
  {
   "cell_type": "code",
   "execution_count": null,
   "id": "b8ff50d8",
   "metadata": {},
   "outputs": [],
   "source": [
    "import pandas as pd\n",
    "\n",
    "# Cargamos el archivo CSV en un nuevo DataFrame\n",
    "\n",
    "df_cargado = pd.read_csv(\"datos_sensores.csv\")\n",
    "\n",
    "print(\"--- DataFrame Cargado desde CSV ---\")\n",
    "print(df_cargado)\n",
    "\n",
    "# 1. Primeras 3 filas\n",
    "\n",
    "print(\"\\n--- Primeras 3 filas ---\")\n",
    "print(df_cargado.head(3))\n",
    "\n",
    "# 2. Temperatura promedio\n",
    "\n",
    "temp_promedio = df_cargado['temperatura_C'].mean()\n",
    "print(f\"\\n🌡️ Temperatura promedio: {temp_promedio:.2f}°C\")\n",
    "\n",
    "# 3. Descripción estadística\n",
    "\n",
    "print(\"\\n--- Resumen Estadístico ---\")\n",
    "print(df_cargado.describe())"
   ]
  },
  {
   "cell_type": "markdown",
   "id": "2212944f",
   "metadata": {},
   "source": [
    "---\n",
    "\n",
    "### Trabajando con Archivos Excel (.xlsx)\n",
    "\n",
    "Es casi idéntico a trabajar con CSV, pero usamos `.to_excel()` y `pd.read_excel()`.\n",
    "\n",
    "---"
   ]
  },
  {
   "cell_type": "code",
   "execution_count": null,
   "id": "83fc0053",
   "metadata": {},
   "outputs": [],
   "source": [
    "import pandas as pd\n",
    "\n",
    "# Usaremos el mismo DataFrame de antes\n",
    "\n",
    "datos_sensores = {\n",
    "    'tiempo_seg': [0, 1, 2, 3, 4],\n",
    "    'temperatura_C': [25.1, 25.3, 25.2, 25.4, 25.5],\n",
    "    'humedad_pct': [45, 46, 45, 47, 48]\n",
    "}\n",
    "df_sensores = pd.DataFrame(datos_sensores)\n",
    "\n",
    "# Guardar en un archivo Excel\n",
    "\n",
    "df_sensores.to_excel(\"datos_sensores.xlsx\", sheet_name=\"Lecturas\", index=False)\n",
    "\n",
    "# Cargar desde un archivo Excel\n",
    "\n",
    "df_excel = pd.read_excel(\"datos_sensores.xlsx\", sheet_name=\"Lecturas\")\n",
    "\n",
    "print(\"--- DataFrame cargado desde Excel ---\")\n",
    "print(df_excel)\n",
    "print(\"\\n✅ Operaciones con Excel completadas.\")"
   ]
  },
  {
   "cell_type": "markdown",
   "id": "1f537df7",
   "metadata": {},
   "source": [
    "---\n",
    "\n",
    "## 🖼️ Manipulación de Imágenes (JPEG)\n",
    "\n",
    "Para manipular imágenes, una de las bibliotecas más populares es **Pillow**, una continuación del proyecto PIL (Python Imaging Library).\n",
    "\n",
    "Para instalarla: `pip install Pillow`\n",
    "\n",
    "---\n",
    "\n",
    "**Ejercicio: Abrir y Analizar una Imagen**\n",
    "Vamos a abrir una imagen, ver sus propiedades básicas y crear una versión en escala de grises. (Nota: para este ejercicio, necesitarás tener un archivo de imagen llamado \"robot.jpg\" en la misma carpeta).\n",
    "\n",
    "*(Si no tienes una imagen, puedes buscar una en internet y guardarla como \"robot.jpg\")*\n",
    "\n",
    "---"
   ]
  },
  {
   "cell_type": "code",
   "execution_count": null,
   "id": "69e7db25",
   "metadata": {},
   "outputs": [],
   "source": [
    "from PIL import Image\n",
    "\n",
    "try:\n",
    "    # Abrir la imagen\n",
    "    img = Image.open(\"robot.jpg\")\n",
    "\n",
    "    # Mostrar información básica\n",
    "    print(f\"Formato de la imagen: {img.format}\")\n",
    "    print(f\"Tamaño de la imagen (ancho x alto): {img.size}\")\n",
    "    print(f\"Modo de color: {img.mode}\") # RGB, L (escala de grises), etc.\n",
    "\n",
    "    # Convertir a escala de grises\n",
    "    img_gris = img.convert(\"L\")\n",
    "\n",
    "    # Guardar la nueva imagen\n",
    "    img_gris.save(\"robot_gris.jpg\")\n",
    "\n",
    "    print(\"\\n✅ Imagen convertida a escala de grises y guardada como 'robot_gris.jpg'\")\n",
    "\n",
    "    # Opcional: mostrar la imagen (puede no funcionar en todos los entornos)\n",
    "    # img.show()\n",
    "    # img_gris.show()\n",
    "\n",
    "except FileNotFoundError:\n",
    "    print(\"Error: Asegúrate de tener un archivo 'robot.jpg' en la misma carpeta.\")"
   ]
  },
  {
   "cell_type": "markdown",
   "id": "c8a8f7f6",
   "metadata": {},
   "source": [
    "---\n",
    "\n",
    "## ✏️ Ejercicios Finales de Práctica\n",
    "\n",
    "---"
   ]
  },
  {
   "cell_type": "markdown",
   "id": "0162d663",
   "metadata": {},
   "source": [
    "**1. Agenda de Contactos (CSV):**\n",
    "Crea un programa que pida al usuario un nombre y un número de teléfono, y lo guarde en un archivo `contactos.csv`. Si el archivo ya existe, debe añadir el nuevo contacto sin borrar los anteriores.\n",
    "\n",
    "---"
   ]
  },
  {
   "cell_type": "code",
   "execution_count": null,
   "id": "35c9c963",
   "metadata": {},
   "outputs": [],
   "source": [
    "import pandas as pd\n",
    "import os\n",
    "\n",
    "nombre = input(\"Ingresa el nombre del contacto: \")\n",
    "telefono = input(\"Ingresa el número de teléfono: \")\n",
    "\n",
    "nuevo_contacto = pd.DataFrame([{'nombre': nombre, 'telefono': telefono}])\n",
    "\n",
    "# 'a' para append (añadir), header=False para no escribir el encabezado de nuevo\n",
    "\n",
    "nuevo_contacto.to_csv('contactos.csv', mode='a', header=not os.path.exists('contactos.csv'), index=False)\n",
    "\n",
    "print(f\"Contacto '{nombre}' guardado.\")"
   ]
  },
  {
   "cell_type": "markdown",
   "id": "c5b67bfa",
   "metadata": {},
   "source": [
    "---\n",
    "\n",
    "**2. Promedio de Notas (Excel):**\n",
    "Crea un archivo Excel llamado `calificaciones.xlsx` con columnas \"Estudiante\", \"Nota1\", \"Nota2\". Luego, escribe un programa que lea el archivo, calcule una nueva columna \"Promedio\" y guarde el resultado en una nueva hoja llamada \"Resultados Finales\" dentro del mismo archivo.\n",
    "\n",
    "---"
   ]
  },
  {
   "cell_type": "code",
   "execution_count": null,
   "id": "fe63380e",
   "metadata": {},
   "outputs": [],
   "source": [
    "import pandas as pd\n",
    "\n",
    "# Crear el DataFrame inicial y guardarlo\n",
    "\n",
    "datos_calificaciones = {\n",
    "    \"Estudiante\": [\"Ana\", \"Juan\", \"Pedro\"],\n",
    "    \"Nota1\": [85, 90, 78],\n",
    "    \"Nota2\": [92, 88, 80]\n",
    "}\n",
    "df_calif = pd.DataFrame(datos_calificaciones)\n",
    "df_calif.to_excel(\"calificaciones.xlsx\", sheet_name=\"Notas Parciales\", index=False)\n",
    "\n",
    "# Leer el archivo\n",
    "\n",
    "df_leido = pd.read_excel(\"calificaciones.xlsx\", sheet_name=\"Notas Parciales\")\n",
    "\n",
    "# Calcular el promedio\n",
    "\n",
    "df_leido['Promedio'] = df_leido[['Nota1', 'Nota2']].mean(axis=1)\n",
    "\n",
    "# Guardar en una nueva hoja\n",
    "\n",
    "with pd.ExcelWriter('calificaciones.xlsx', mode='a', engine='openpyxl') as writer:\n",
    "    df_leido.to_excel(writer, sheet_name='Resultados Finales', index=False)\n",
    "\n",
    "print(\"Archivo 'calificaciones.xlsx' actualizado con la hoja 'Resultados Finales'.\")"
   ]
  },
  {
   "cell_type": "markdown",
   "id": "df216c8a",
   "metadata": {},
   "source": [
    "---\n",
    "\n",
    "**3. Rotar una Imagen:**\n",
    "Usa la biblioteca Pillow para abrir una imagen y guardarla rotada 90 grados.\n",
    "\n",
    "---"
   ]
  },
  {
   "cell_type": "code",
   "execution_count": null,
   "id": "d187f951",
   "metadata": {},
   "outputs": [],
   "source": [
    "from PIL import Image\n",
    "\n",
    "try:\n",
    "    img = Image.open(\"robot.jpg\")\n",
    "    img_rotada = img.rotate(90)\n",
    "    img_rotada.save(\"robot_rotado.jpg\")\n",
    "    print(\"Imagen rotada y guardada como 'robot_rotado.jpg'\")\n",
    "except FileNotFoundError:\n",
    "    print(\"Error: No se encontró el archivo 'robot.jpg'\")"
   ]
  },
  {
   "cell_type": "markdown",
   "id": "11e7db21",
   "metadata": {},
   "source": [
    "---\n",
    "\n",
    "**4. Filtrar Datos de CSV:**\n",
    "Lee el archivo `datos_sensores.csv`. Filtra y muestra solo las filas donde la temperatura sea mayor a 25.3.\n",
    "\n",
    "---"
   ]
  },
  {
   "cell_type": "code",
   "execution_count": null,
   "id": "cf7b881a",
   "metadata": {},
   "outputs": [],
   "source": [
    "import pandas as pd\n",
    "\n",
    "try:\n",
    "    df = pd.read_csv(\"datos_sensores.csv\")\n",
    "    temperaturas_altas = df[df['temperatura_C'] > 25.3]\n",
    "    print(\"--- Filas con temperatura mayor a 25.3°C ---\")\n",
    "    print(temperaturas_altas)\n",
    "except FileNotFoundError:\n",
    "    print(\"Error: Ejecuta primero la celda que crea 'datos_sensores.csv'\")"
   ]
  },
  {
   "cell_type": "markdown",
   "id": "70d8575b",
   "metadata": {},
   "source": [
    "---\n",
    "\n",
    "**5. Contar Líneas de un Archivo:**\n",
    "Escribe una función que reciba el nombre de un archivo de texto y devuelva el número de líneas que contiene. Úsala para contar las líneas del archivo `log.txt`.\n",
    "\n",
    "---"
   ]
  },
  {
   "cell_type": "code",
   "execution_count": null,
   "id": "fffd16ab",
   "metadata": {},
   "outputs": [],
   "source": [
    "def contar_lineas(nombre_archivo: str) -> int:\n",
    "    \"\"\"Cuenta el número de líneas en un archivo de texto.\"\"\"\n",
    "    try:\n",
    "        with open(nombre_archivo, 'r') as archivo:\n",
    "            return len(archivo.readlines())\n",
    "    except FileNotFoundError:\n",
    "        return 0\n",
    "\n",
    "num_lineas = contar_lineas(\"log.txt\")\n",
    "print(f\"El archivo 'log.txt' tiene {num_lineas} líneas.\")"
   ]
  }
 ],
 "metadata": {
  "language_info": {
   "name": "python"
  }
 },
 "nbformat": 4,
 "nbformat_minor": 5
}
