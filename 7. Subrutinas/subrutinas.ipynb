{
 "cells": [
  {
   "cell_type": "markdown",
   "id": "90c832e3",
   "metadata": {},
   "source": [
    "# Principios de Informática: Subrutinas 🧩\n",
    "### Construyendo programas modulares y reutilizables\n",
    "\n",
    "**Curso:** Principios de Informática\n",
    "\n",
    "---"
   ]
  },
  {
   "cell_type": "markdown",
   "id": "224ba31e",
   "metadata": {},
   "source": [
    "## ¿Por Qué Dividir Para Conquistar? 💡\n",
    "\n",
    "Imagina que estás construyendo un coche. No construirías todo el coche como una sola pieza gigante y monolítica. Lo construirías en partes: el motor, el chasis, las ruedas, el sistema eléctrico. Cada parte es un **módulo** que se puede diseñar, construir y probar de forma independiente. Si el motor falla, puedes arreglar o reemplazar el motor sin tener que reconstruir todo el coche.\n",
    "\n",
    "En programación, hacemos exactamente lo mismo. En lugar de escribir un programa larguísimo y complejo como un solo bloque de código, lo dividimos en piezas más pequeñas y manejables llamadas **subrutinas** (o, como las conocemos más comúnmente en Python, **funciones**).\n",
    "\n",
    "---"
   ]
  },
  {
   "cell_type": "markdown",
   "id": "be0741ac",
   "metadata": {},
   "source": [
    "### La importancia de la Modularización y la Reutilización\n",
    "\n",
    "* **Modularización**: Dividir un problema complejo en subproblemas más simples. Esto hace que el código sea más fácil de leer, entender y depurar. 🧩\n",
    "* **Reutilización**: Una vez que escribes una subrutina para una tarea específica (como calcular un promedio o validar un correo electrónico), puedes **llamarla** y usarla tantas veces como quieras, en diferentes partes de tu programa o incluso en otros programas. ¡Escribe una vez, úsalo siempre! ♻️\n",
    "\n",
    "---"
   ]
  },
  {
   "cell_type": "markdown",
   "id": "aed8ff6e",
   "metadata": {},
   "source": [
    "## Definiendo una Subrutina (Función) 🛠️\n",
    "\n",
    "Una **subrutina** o **función** es un bloque de código organizado y reutilizable que realiza una única acción relacionada. Las funciones proporcionan una mejor modularidad para tu aplicación y un alto grado de reutilización de código.\n",
    "\n",
    "---"
   ]
  },
  {
   "cell_type": "markdown",
   "id": "e7f7073d",
   "metadata": {},
   "source": [
    "### Componentes de una Función en Python\n",
    "\n",
    "Una función se define con la palabra clave `def` y tiene los siguientes componentes:\n",
    "\n",
    "`def` `nombre_de_la_funcion` `(` `parametros` `) ->` `tipo_de_retorno` `:`\n",
    "    `\"\"\"Docstring: explica qué hace la función.\"\"\"`\n",
    "    `# Cuerpo de la función`\n",
    "    `# Código que realiza la tarea`\n",
    "    `return` `valor`\n",
    "\n",
    "1.  **`def`**: La palabra clave que le dice a Python: \"¡Voy a definir una función!\".\n",
    "2.  **`nombre_de_la_funcion`**: Un nombre descriptivo (usando `snake_case`).\n",
    "3.  **`parametros`**: (Opcionales) Las variables que la función recibe como entrada para trabajar. Son como los ingredientes de una receta.\n",
    "4.  **`-> tipo_de_retorno`**: (Opcional pero muy recomendado) Una \"type hint\" que indica qué tipo de dato devolverá la función. Si no devuelve nada, se usa `-> None`.\n",
    "5.  **`:`**: Dos puntos que marcan el inicio del bloque de la función.\n",
    "6.  **Cuerpo de la función**: El bloque de código indentado que realiza la tarea.\n",
    "7.  **`return`**: (Opcional) La palabra clave que envía un resultado de vuelta a quien llamó la función.\n",
    "\n",
    "---"
   ]
  },
  {
   "cell_type": "markdown",
   "id": "e81f0064",
   "metadata": {},
   "source": [
    "**Ejercicio: Tu Primera Función**\n",
    "Define una función llamada `saludar` que reciba un `nombre` como parámetro y muestre un saludo personalizado.\n",
    "\n",
    "---"
   ]
  },
  {
   "cell_type": "code",
   "execution_count": null,
   "id": "b09aeb6f",
   "metadata": {},
   "outputs": [],
   "source": [
    "def saludar(nombre: str) -> None:\n",
    "    \"\"\"\n",
    "    Esta función recibe un nombre e imprime un saludo en la consola.\n",
    "    No devuelve ningún valor.\n",
    "    \"\"\"\n",
    "    mensaje: str = f\"¡Hola, {nombre}! Bienvenido a las funciones en Python.\"\n",
    "    print(mensaje)\n",
    "\n",
    "# Invocación de la función\n",
    "saludar(\"Ana\")\n",
    "saludar(\"Carlos\")"
   ]
  },
  {
   "cell_type": "markdown",
   "id": "db8cdb6d",
   "metadata": {},
   "source": [
    "---\n",
    "\n",
    "## Devolviendo Valores con `return` 📤\n",
    "\n",
    "No todas las funciones simplemente imprimen algo. Muchas veces, necesitamos que una función **calcule un valor** y nos lo entregue para que podamos usarlo más tarde. Para esto se utiliza la instrucción `return`.\n",
    "\n",
    "Cuando Python encuentra un `return`, sale inmediatamente de la función y devuelve el valor especificado.\n",
    "\n",
    "---"
   ]
  },
  {
   "cell_type": "markdown",
   "id": "077d37b6",
   "metadata": {},
   "source": [
    "**Ejercicio: Calculadora de Área**\n",
    "Crea una función `calcular_area_rectangulo` que reciba `ancho` y `alto` y **devuelva** el área calculada.\n",
    "\n",
    "---"
   ]
  },
  {
   "cell_type": "code",
   "execution_count": null,
   "id": "f4388987",
   "metadata": {},
   "outputs": [],
   "source": [
    "def calcular_area_rectangulo(ancho: float, alto: float) -> float:\n",
    "    \"\"\"Calcula y devuelve el área de un rectángulo.\"\"\"\n",
    "    area = ancho * alto\n",
    "    return area\n",
    "\n",
    "# Invocación y almacenamiento del resultado\n",
    "area1 = calcular_area_rectangulo(10.5, 4)\n",
    "area2 = calcular_area_rectangulo(8, 5)\n",
    "\n",
    "print(f\"El área del primer rectángulo es: {area1}\")\n",
    "print(f\"El área total de ambos rectángulos es: {area1 + area2}\")"
   ]
  },
  {
   "cell_type": "markdown",
   "id": "82759fed",
   "metadata": {},
   "source": [
    "---\n",
    "\n",
    "## Invocación y Paso de Argumentos 📞\n",
    "\n",
    "* **Invocación**: Es el acto de \"llamar\" o ejecutar una función. Se hace escribiendo el nombre de la función seguido de paréntesis `()`.\n",
    "* **Argumentos**: Son los valores reales que se le envían a la función cuando se invoca. Estos valores se asignan a los **parámetros** definidos en la función.\n",
    "\n",
    "`mi_funcion(argumento_1, argumento_2)`\n",
    "\n",
    "---"
   ]
  },
  {
   "cell_type": "markdown",
   "id": "79f709ca",
   "metadata": {},
   "source": [
    "## El Paso de Argumentos: Mutables vs. Inmutables ⛓️\n",
    "\n",
    "Este es un concepto **crucial**. La forma en que Python pasa los argumentos a las funciones tiene un efecto diferente dependiendo de si el tipo de dato es **inmutable** o **mutable**.\n",
    "\n",
    "---"
   ]
  },
  {
   "cell_type": "markdown",
   "id": "8551bd35",
   "metadata": {},
   "source": [
    "### Paso de Tipos Inmutables (como `int`, `str`, `float`, `bool`)\n",
    "Cuando pasas un objeto inmutable a una función, la función recibe una **copia del valor**. Si modificas el parámetro dentro de la función, la variable original fuera de la función **NO cambia**.\n",
    "\n",
    "---"
   ]
  },
  {
   "cell_type": "code",
   "execution_count": null,
   "id": "5c4c6607",
   "metadata": {},
   "outputs": [],
   "source": [
    "def intentar_modificar_numero(numero: int) -> None:\n",
    "    print(f\"    Dentro de la función (antes): {numero}\")\n",
    "    numero = 100 # Se crea una nueva variable 'numero' local a la función\n",
    "    print(f\"    Dentro de la función (después): {numero}\")\n",
    "\n",
    "# Variable original\n",
    "mi_numero: int = 10\n",
    "print(f\"Fuera de la función (antes): {mi_numero}\")\n",
    "\n",
    "intentar_modificar_numero(mi_numero)\n",
    "\n",
    "print(f\"Fuera de la función (después): {mi_numero}\") # ¡No cambió!"
   ]
  },
  {
   "cell_type": "markdown",
   "id": "fa5129af",
   "metadata": {},
   "source": [
    "---\n",
    "\n",
    "### Paso de Tipos Mutables (como `list`, `dict`)\n",
    "Cuando pasas un objeto mutable a una función, la función recibe una **referencia al objeto original**. Si modificas el objeto dentro de la función (por ejemplo, agregando un elemento a una lista), el objeto original fuera de la función **SÍ cambia**.\n",
    "\n",
    "---"
   ]
  },
  {
   "cell_type": "code",
   "execution_count": null,
   "id": "ed67360e",
   "metadata": {},
   "outputs": [],
   "source": [
    "def agregar_elemento_a_lista(una_lista: list) -> None:\n",
    "    print(f\"    Dentro de la función (antes): {una_lista}\")\n",
    "    una_lista.append(99) # Se modifica el objeto original\n",
    "    print(f\"    Dentro de la función (después): {una_lista}\")\n",
    "\n",
    "# Lista original\n",
    "mi_lista: list = [1, 2, 3]\n",
    "print(f\"Fuera de la función (antes): {mi_lista}\")\n",
    "\n",
    "agregar_elemento_a_lista(mi_lista)\n",
    "\n",
    "print(f\"Fuera de la función (después): {mi_lista}\") # ¡Sí cambió!"
   ]
  },
  {
   "cell_type": "markdown",
   "id": "5bef0c7d",
   "metadata": {},
   "source": [
    "---\n",
    "\n",
    "## ✏️ Ejercicios de Práctica\n",
    "\n",
    "---"
   ]
  },
  {
   "cell_type": "markdown",
   "id": "06a3d8a9",
   "metadata": {},
   "source": [
    "**1. Convertidor de Temperatura**\n",
    "Escribe una función `convertir_celsius_a_fahrenheit` que reciba una temperatura en Celsius y devuelva el valor equivalente en Fahrenheit. La fórmula es: `F = C * 9/5 + 32`.\n",
    "\n",
    "---"
   ]
  },
  {
   "cell_type": "code",
   "execution_count": null,
   "id": "9e176e9d",
   "metadata": {},
   "outputs": [],
   "source": [
    "def convertir_celsius_a_fahrenheit(celsius: float) -> float:\n",
    "    \"\"\"Convierte una temperatura de Celsius a Fahrenheit.\"\"\"\n",
    "    fahrenheit = celsius * 9/5 + 32\n",
    "    return fahrenheit\n",
    "\n",
    "# Prueba\n",
    "temp_c = 25.0\n",
    "temp_f = convertir_celsius_a_fahrenheit(temp_c)\n",
    "print(f\"{temp_c}°C es equivalente a {temp_f}°F\")"
   ]
  },
  {
   "cell_type": "markdown",
   "id": "f97e3532",
   "metadata": {},
   "source": [
    "---\n",
    "\n",
    "**2. Encontrar el Máximo**\n",
    "Crea una función `encontrar_maximo` que reciba dos números y devuelva el mayor de los dos, sin usar la función `max()` de Python.\n",
    "\n",
    "---"
   ]
  },
  {
   "cell_type": "code",
   "execution_count": null,
   "id": "5995b287",
   "metadata": {},
   "outputs": [],
   "source": [
    "def encontrar_maximo(num1: float, num2: float) -> float:\n",
    "    \"\"\"Devuelve el mayor de dos números.\"\"\"\n",
    "    if num1 > num2:\n",
    "        return num1\n",
    "    else:\n",
    "        return num2\n",
    "\n",
    "# Prueba\n",
    "print(f\"El máximo entre 10 y 25 es: {encontrar_maximo(10, 25)}\")\n",
    "print(f\"El máximo entre -5 y -1 es: {encontrar_maximo(-5, -1)}\")"
   ]
  },
  {
   "cell_type": "markdown",
   "id": "cc0263f5",
   "metadata": {},
   "source": [
    "---\n",
    "\n",
    "**3. Longitud de una Cadena**\n",
    "Escribe una función `calcular_longitud` que reciba una cadena de texto y devuelva el número de caracteres que contiene, sin usar la función `len()` de Python. (Pista: usa un bucle `for`).\n",
    "\n",
    "---"
   ]
  },
  {
   "cell_type": "code",
   "execution_count": null,
   "id": "cc19a0eb",
   "metadata": {},
   "outputs": [],
   "source": [
    "def calcular_longitud(texto: str) -> int:\n",
    "    \"\"\"Calcula la longitud de una cadena de texto.\"\"\"\n",
    "    contador = 0\n",
    "    for _ in texto:\n",
    "        contador += 1\n",
    "    return contador\n",
    "\n",
    "# Prueba\n",
    "print(f\"La longitud de 'Python' es: {calcular_longitud('Python')}\")\n",
    "print(f\"La longitud de '' es: {calcular_longitud('')}\")"
   ]
  },
  {
   "cell_type": "markdown",
   "id": "9abf0d58",
   "metadata": {},
   "source": [
    "---\n",
    "\n",
    "**4. Modificando una Lista**\n",
    "Crea una función `duplicar_elementos` que reciba una lista de números. La función debe modificar la lista original, multiplicando cada uno de sus elementos por 2. La función no debe devolver nada (`-> None`).\n",
    "\n",
    "---"
   ]
  },
  {
   "cell_type": "code",
   "execution_count": null,
   "id": "f253d7a7",
   "metadata": {},
   "outputs": [],
   "source": [
    "def duplicar_elementos(numeros: list[int]) -> None:\n",
    "    \"\"\"Modifica una lista, duplicando cada uno de sus elementos.\"\"\"\n",
    "    for i in range(len(numeros)):\n",
    "        numeros[i] = numeros[i] * 2\n",
    "\n",
    "# Prueba\n",
    "mi_lista_numeros = [1, 5, 10, 15]\n",
    "print(f\"Lista original: {mi_lista_numeros}\")\n",
    "duplicar_elementos(mi_lista_numeros)\n",
    "print(f\"Lista modificada: {mi_lista_numeros}\")"
   ]
  },
  {
   "cell_type": "markdown",
   "id": "8ccc60bd",
   "metadata": {},
   "source": [
    "---"
   ]
  }
 ],
 "metadata": {
  "language_info": {
   "name": "python"
  }
 },
 "nbformat": 4,
 "nbformat_minor": 5
}
