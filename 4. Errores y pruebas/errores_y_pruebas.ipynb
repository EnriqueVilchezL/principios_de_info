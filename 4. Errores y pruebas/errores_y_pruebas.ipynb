{
 "cells": [
  {
   "cell_type": "markdown",
   "id": "6ceb75a1",
   "metadata": {},
   "source": [
    "# Principios de Informática: Errores y Pruebas 🐍\n",
    "### ¡A la caza de pulgas (bugs)! 🐞\n",
    "**Curso:** Principios de Informática"
   ]
  },
  {
   "cell_type": "markdown",
   "id": "f7208162",
   "metadata": {},
   "source": [
    "## 🧠 ¿Qué es un Error en Programación?\n",
    "En programación, un **error** o **bug** es un defecto en el código que causa que un programa se comporte de manera inesperada o incorrecta. No importa cuán bueno seas programando, ¡los errores siempre aparecerán! La clave es saber cómo encontrarlos y corregirlos."
   ]
  },
  {
   "cell_type": "markdown",
   "id": "4fe0ed4d",
   "metadata": {},
   "source": [
    "Existen principalmente dos tipos de errores con los que te encontrarás:\n",
    "\n",
    "### ❌ Errores de Ejecución (Runtime Errors)\n",
    "Estos errores detienen tu programa por completo. Ocurren cuando el programa intenta hacer algo que es imposible.\n"
   ]
  },
  {
   "cell_type": "code",
   "execution_count": null,
   "id": "b7fc3312",
   "metadata": {},
   "outputs": [],
   "source": [
    "# Ejemplo de error de ejecución (Runtime Error):\n",
    "# Intentar acceder a un índice fuera de rango en una lista\n",
    "lista = [1, 2, 3]\n",
    "print(lista[5])  # Esto causará un IndexError en tiempo de ejecución"
   ]
  },
  {
   "cell_type": "markdown",
   "id": "8e3be0bb",
   "metadata": {},
   "source": [
    "\n",
    "### 🤯 Errores Lógicos (Logical Errors)\n",
    "Estos son los más escurridizos. El programa se ejecuta sin problemas, pero el resultado es incorrecto porque la lógica del código está mal."
   ]
  },
  {
   "cell_type": "code",
   "execution_count": null,
   "id": "0bad95a8",
   "metadata": {},
   "outputs": [],
   "source": [
    "# compute the area of a rectangle incorrectly\n",
    "def area_rectangulo(base: float, altura: float) -> float:\n",
    "    return base * altura / 2 # debería ser base * altura"
   ]
  },
  {
   "cell_type": "markdown",
   "id": "a0bde365",
   "metadata": {},
   "source": [
    "## ❌ Errores de Ejecución\n",
    "Imagina que le pides a un robot que divida 10 manzanas entre 0 personas. El robot se quedaría \"congelado\" porque es una tarea imposible. ¡Eso es un error de ejecución!\n",
    "\n",
    "Python te avisa de estos errores con un mensaje claro que te dice qué salió mal y en qué línea de código."
   ]
  },
  {
   "cell_type": "code",
   "execution_count": null,
   "id": "8f859112",
   "metadata": {},
   "outputs": [],
   "source": [
    "# Ejemplo de error de ejecución: Dividir por cero\n",
    "numerador = 10\n",
    "denominador = 0\n",
    "# La siguiente línea causará un error y detendrá el programa\n",
    "# print(numerador / denominador)"
   ]
  },
  {
   "cell_type": "code",
   "execution_count": null,
   "id": "c8e91dc8",
   "metadata": {},
   "outputs": [],
   "source": [
    "# Corrección: Verificar antes de dividir\n",
    "numerador = 10\n",
    "denominador = 0\n",
    "\n",
    "if denominador != 0:\n",
    "  print(numerador / denominador)\n",
    "else:\n",
    "  print(\"❌ No se puede dividir por cero.\")"
   ]
  },
  {
   "cell_type": "markdown",
   "id": "9f52782b",
   "metadata": {},
   "source": [
    "## 🤯 Errores Lógicos\n",
    "Estos errores son como seguir una receta de cocina al pie de la letra, pero la receta tenía un error y en lugar de azúcar usaste sal. El pastel se verá como un pastel, pero el sabor será... ¡inesperado!\n",
    "\n",
    "El programa no se detiene, pero el resultado no es el que esperabas. Estos errores requieren que revises la lógica de tu código paso a paso."
   ]
  },
  {
   "cell_type": "code",
   "execution_count": null,
   "id": "8be5e679",
   "metadata": {},
   "outputs": [],
   "source": [
    "# Ejemplo de error lógico (Logical Error):\n",
    "# Calcular el área de un triángulo, pero usar la fórmula incorrecta\n",
    "base = 10\n",
    "altura = 5\n",
    "# Fórmula incorrecta: área = base * altura (debería ser base * altura / 2)\n",
    "area = base * altura\n",
    "print(f'Área calculada (incorrecta): {area}')"
   ]
  },
  {
   "cell_type": "code",
   "execution_count": null,
   "id": "6def5e50",
   "metadata": {},
   "outputs": [],
   "source": [
    "# Ejemplo de error lógico: Calcular un promedio incorrectamente\n",
    "# El objetivo es calcular el promedio de 3 números\n",
    "numero1 = 10\n",
    "numero2 = 20\n",
    "numero3 = 30\n",
    "\n",
    "# Error lógico: se divide por 2 en lugar de 3\n",
    "promedio_incorrecto = (numero1 + numero2 + numero3) / 2\n",
    "print(f\"Promedio incorrecto: {promedio_incorrecto}\")"
   ]
  },
  {
   "cell_type": "code",
   "execution_count": null,
   "id": "7e9fad4d",
   "metadata": {},
   "outputs": [],
   "source": [
    "# Corrección:\n",
    "promedio_correcto = (numero1 + numero2 + numero3) / 3\n",
    "print(f\"✅ Promedio correcto: {promedio_correcto}\")"
   ]
  },
  {
   "cell_type": "markdown",
   "id": "51bfa76c",
   "metadata": {},
   "source": [
    "## 🧪 La Importancia de las Pruebas (Testing)\n",
    "\n",
    "\n",
    "Programar sin probar es como construir un puente y cruzarlo sin verificar si es seguro. Las **pruebas** son el proceso de verificar que tu código hace lo que se supone que debe hacer y que no tiene errores."
   ]
  },
  {
   "cell_type": "markdown",
   "id": "54260289",
   "metadata": {},
   "source": [
    "### 📦 Pruebas de Caja Negra (Black-Box Testing)\n",
    "\n",
    "Una forma común de probar es la **prueba de caja negra**. Imagina que tienes una máquina (una \"caja negra\"), pero no puedes ver cómo funciona por dentro. Solo puedes ponerle entradas y ver qué salidas produce.\n",
    "\n",
    "En las pruebas de caja negra, no nos importa *cómo* está escrito el código. Solo nos enfocamos en si para una **entrada** dada, obtenemos la **salida esperada**.\n",
    "\n",
    "Entrada -> **[Caja Negra]** -> Salida"
   ]
  },
  {
   "cell_type": "markdown",
   "id": "4f4967ef",
   "metadata": {},
   "source": [
    "\n",
    "### 📝 Ejercicio Práctico: Probando una Función de Descuento\n",
    "\n",
    "Aquí tienes una función que calcula el descuento para una tienda. Tu trabajo es probarla usando la técnica de caja negra."
   ]
  },
  {
   "cell_type": "code",
   "execution_count": null,
   "id": "b73e650e",
   "metadata": {},
   "outputs": [],
   "source": [
    "def calcular_precio_final(precio_original: float, categoria_cliente: str) -> float:\n",
    "  \"\"\"\n",
    "  Calcula el precio final aplicando un descuento basado en la categoría del cliente.\n",
    "  - 'normal': 10% de descuento\n",
    "  - 'vip': 20% de descuento\n",
    "  - 'premium': 30% de descuento\n",
    "  \"\"\"\n",
    "  if categoria_cliente == \"normal\":\n",
    "    descuento = 0.10\n",
    "  elif categoria_cliente == \"vip\":\n",
    "    descuento = 0.20\n",
    "  elif categoria_cliente == \"premium\":\n",
    "    descuento = 0.30\n",
    "  else:\n",
    "    descuento = 0.0\n",
    "  \n",
    "  return precio_original * (1 - descuento)"
   ]
  },
  {
   "cell_type": "markdown",
   "id": "96259c35",
   "metadata": {},
   "source": [
    "### Pasos para la Prueba de Caja Negra\n",
    "\n",
    "1.  **Entender qué debe hacer la función:** La función aplica un descuento según la categoría del cliente.\n",
    "2.  **Definir casos de prueba:** Piensa en diferentes entradas que podrías darle y cuál debería ser la salida.\n",
    "\n",
    "    * **Caso Normal:** Una entrada típica y esperada.\n",
    "        * `precio_original = 100`, `categoria_cliente = \"vip\"` -> `salida esperada = 80`\n",
    "    * **Caso de Borde:** Un valor en el límite de una condición.\n",
    "        * `precio_original = 0`, `categoria_cliente = \"normal\"` -> `salida esperada = 0`\n",
    "    * **Caso de Error:** Una entrada que no debería funcionar o que debería ser manejada de alguna forma.\n",
    "        * `precio_original = 100`, `categoria_cliente = \"invitado\"` -> `salida esperada = 100`\n",
    "---"
   ]
  },
  {
   "cell_type": "markdown",
   "id": "895a30dd",
   "metadata": {},
   "source": [
    "Ahora, escribe el código para probar la función con los casos que definiste.\n",
    "---"
   ]
  },
  {
   "cell_type": "code",
   "execution_count": null,
   "id": "c0adaf8d",
   "metadata": {},
   "outputs": [],
   "source": [
    "# Escribe aquí tus pruebas\n",
    "# Ejemplo de cómo probar un caso:\n",
    "precio_calculado = calcular_precio_final(100, \"vip\")\n",
    "print(f\"Probando cliente 'vip': Precio esperado = 80, Precio calculado = {precio_calculado}\")\n",
    "\n",
    "# ¡Añade más pruebas!"
   ]
  },
  {
   "cell_type": "markdown",
   "id": "ac7695fc",
   "metadata": {},
   "source": [
    "---\n",
    "\n",
    "### ✅ Solución de las Pruebas\n",
    "\n",
    "Una forma de automatizar las pruebas es usando `assert`, que verifica si una condición es verdadera. Si no lo es, detiene el programa y muestra un error."
   ]
  },
  {
   "cell_type": "code",
   "execution_count": null,
   "id": "92f1ba58",
   "metadata": {},
   "outputs": [],
   "source": [
    "# Caso Normal\n",
    "assert calcular_precio_final(100, \"normal\") == 90\n",
    "assert calcular_precio_final(200, \"vip\") == 160\n",
    "assert calcular_precio_final(1000, \"premium\") == 700\n",
    "\n",
    "# Caso de Borde\n",
    "assert calcular_precio_final(0, \"normal\") == 0\n",
    "\n",
    "# Caso de Error\n",
    "assert calcular_precio_final(100, \"invitado\") == 100\n",
    "assert calcular_precio_final(100, \"\") == 100\n",
    "\n",
    "print(\"✅ ¡Todas las pruebas pasaron exitosamente!\")"
   ]
  },
  {
   "cell_type": "markdown",
   "id": "eaa59499",
   "metadata": {},
   "source": [
    "## 🚀 Conclusión\n",
    "\n",
    "¡Felicidades! Ahora sabes cómo identificar diferentes tipos de errores y cómo usar las pruebas de caja negra para asegurarte de que tu código funciona como se espera.\n",
    "\n",
    "Recuerda: un buen programador no es el que no comete errores, sino el que sabe cómo encontrarlos y arreglarlos. ¡Sigue practicando!"
   ]
  }
 ],
 "metadata": {
  "language_info": {
   "name": "python"
  }
 },
 "nbformat": 4,
 "nbformat_minor": 5
}
