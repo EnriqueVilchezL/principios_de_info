{
 "cells": [
  {
   "cell_type": "markdown",
   "id": "4901ed24",
   "metadata": {},
   "source": [
    "# Principios de Informática: Introducción al Uso de Bibliotecas 📚\n",
    "### Ampliando nuestros superpoderes con código preexistente\n",
    "\n",
    "**Curso:** Principios de Informática\n",
    "\n",
    "---"
   ]
  },
  {
   "cell_type": "markdown",
   "id": "abdb8ed9",
   "metadata": {},
   "source": [
    "## ¿Qué es una Biblioteca? 🏛️\n",
    "\n",
    "Imagina que quieres construir un coche y, en lugar de fabricar cada tornillo, cada rueda y cada pieza del motor desde cero, vas a una tienda de auto-repuestos y compras esas piezas ya hechas por expertos. Ahorrarías una cantidad increíble de tiempo y esfuerzo, y probablemente el resultado sería más fiable.\n",
    "\n",
    "En programación, una **biblioteca** (o *library*) es exactamente eso: una colección de código preescrito (funciones, clases, etc.) que podemos **importar** y usar en nuestros propios programas. Nos permite no tener que \"reinventar la rueda\".\n",
    "\n",
    "Python tiene una vasta **Biblioteca Estándar** que viene incluida por defecto, y un ecosistema gigantesco de bibliotecas de terceros (como NumPy, Pandas, Matplotlib) que podemos instalar para realizar tareas especializadas.\n",
    "\n",
    "---"
   ]
  },
  {
   "cell_type": "markdown",
   "id": "ad8a56d7",
   "metadata": {},
   "source": [
    "### ¿Por qué usar bibliotecas?\n",
    "* **Ahorro de Tiempo**: No tienes que escribir código para tareas comunes.\n",
    "* **Fiabilidad**: El código de las bibliotecas populares ha sido probado por miles de desarrolladores.\n",
    "* **Rendimiento**: Muchas bibliotecas (especialmente las científicas) están altamente optimizadas.\n",
    "* **Nuevas Capacidades**: Nos dan acceso a funcionalidades que serían muy complejas de programar desde cero (ej. gráficos, machine learning, etc.).\n",
    "\n",
    "---"
   ]
  },
  {
   "cell_type": "markdown",
   "id": "a7ef4aa8",
   "metadata": {},
   "source": [
    "## Explorando la Documentación 🗺️\n",
    "\n",
    "Cada biblioteca tiene su propio \"manual de usuario\" llamado **documentación**. Aprender a leer la documentación es una de las habilidades más importantes de un programador.\n",
    "\n",
    "La documentación nos dice:\n",
    "* ¿Qué hace la biblioteca?\n",
    "* ¿Qué funciones y clases contiene?\n",
    "* ¿Cómo se usan esas funciones (qué parámetros aceptan y qué devuelven)?\n",
    "* Ejemplos de uso.\n",
    "\n",
    "La documentación oficial de Python es un excelente lugar para empezar: [docs.python.org](https://docs.python.org/3/)\n",
    "\n",
    "---"
   ]
  },
  {
   "cell_type": "markdown",
   "id": "4e995fb7",
   "metadata": {},
   "source": [
    "**Ejercicio: Explorar la Biblioteca `math`**\n",
    "1.  Ve a la documentación de la biblioteca `math` de Python.\n",
    "2.  Busca cómo se llama la función para calcular la raíz cuadrada.\n",
    "3.  Busca el valor de la constante matemática Pi (`π`).\n",
    "\n",
    "---"
   ]
  },
  {
   "cell_type": "code",
   "execution_count": null,
   "id": "fd2a2916",
   "metadata": {},
   "outputs": [],
   "source": [
    "# Después de explorar la documentación, sabemos que:\n",
    "# - La función para la raíz cuadrada es sqrt()\n",
    "# - La constante Pi es math.pi\n",
    "\n",
    "# Para usarla, primero debemos importarla\n",
    "import math\n",
    "\n",
    "numero = 81\n",
    "raiz_cuadrada = math.sqrt(numero)\n",
    "pi_valor = math.pi\n",
    "\n",
    "print(f\"La raíz cuadrada de {numero} es: {raiz_cuadrada}\")\n",
    "print(f\"El valor de Pi es aproximadamente: {pi_valor}\")"
   ]
  },
  {
   "cell_type": "markdown",
   "id": "3fd05aee",
   "metadata": {},
   "source": [
    "---\n",
    "\n",
    "## Importando Bibliotecas a Nuestro Programa 📥\n",
    "\n",
    "Para usar una biblioteca en nuestro código, primero debemos **importarla**. Hay varias formas de hacerlo.\n",
    "\n",
    "---"
   ]
  },
  {
   "cell_type": "markdown",
   "id": "61141ab8",
   "metadata": {},
   "source": [
    "### `import biblioteca`\n",
    "Esta es la forma más común y recomendada. Importa la biblioteca completa y, para usar sus funciones, debemos usar el nombre de la biblioteca como prefijo.\n",
    "\n",
    "`import math`\n",
    "`math.sqrt(25)`\n",
    "\n",
    "---"
   ]
  },
  {
   "cell_type": "markdown",
   "id": "ea7cb234",
   "metadata": {},
   "source": [
    "### `from biblioteca import funcion`\n",
    "Importa solo una función o componente específico de la biblioteca. Esto nos permite llamarla directamente sin el prefijo.\n",
    "\n",
    "`from math import sqrt`\n",
    "`sqrt(25)`\n",
    "\n",
    "---"
   ]
  },
  {
   "cell_type": "markdown",
   "id": "8a12c9e9",
   "metadata": {},
   "source": [
    "### `import biblioteca as alias`\n",
    "A veces, los nombres de las bibliotecas son muy largos. Podemos darles un \"apodo\" o **alias** para escribir menos.\n",
    "\n",
    "`import math as m`\n",
    "`m.sqrt(25)`\n",
    "\n",
    "---"
   ]
  },
  {
   "cell_type": "markdown",
   "id": "da9dc22a",
   "metadata": {},
   "source": [
    "### Ejemplos con Bibliotecas Comunes\n",
    "\n",
    "Vamos a explorar tres bibliotecas muy útiles de la Biblioteca Estándar de Python.\n",
    "\n",
    "---"
   ]
  },
  {
   "cell_type": "markdown",
   "id": "b969e014",
   "metadata": {},
   "source": [
    "**1. La Biblioteca `math`**\n",
    "Proporciona acceso a funciones matemáticas.\n",
    "\n",
    "---"
   ]
  },
  {
   "cell_type": "code",
   "execution_count": null,
   "id": "e67e695b",
   "metadata": {},
   "outputs": [],
   "source": [
    "import math\n",
    "\n",
    "# Funciones trigonométricas (trabajan en radianes)\n",
    "angulo_rad = math.pi / 2 # 90 grados\n",
    "print(f\"Seno de 90°: {math.sin(angulo_rad)}\")\n",
    "\n",
    "# Factorial\n",
    "print(f\"Factorial de 5 (5!): {math.factorial(5)}\")\n",
    "\n",
    "# Potencias y logaritmos\n",
    "print(f\"2 elevado a la 10: {math.pow(2, 10)}\")\n",
    "print(f\"Logaritmo natural de 10: {math.log(10)}\")"
   ]
  },
  {
   "cell_type": "markdown",
   "id": "e3e3a02f",
   "metadata": {},
   "source": [
    "---\n",
    "\n",
    "**2. La Biblioteca `random`**\n",
    "Permite generar números pseudo-aleatorios y realizar selecciones al azar.\n",
    "\n",
    "---"
   ]
  },
  {
   "cell_type": "code",
   "execution_count": null,
   "id": "db141dcc",
   "metadata": {},
   "outputs": [],
   "source": [
    "import random\n",
    "\n",
    "# Generar un número entero aleatorio en un rango\n",
    "dado = random.randint(1, 6)\n",
    "print(f\"Lanzamiento de un dado: {dado}\")\n",
    "\n",
    "# Elegir un elemento al azar de una lista\n",
    "opciones = [\"piedra\", \"papel\", \"tijera\"]\n",
    "eleccion_computadora = random.choice(opciones)\n",
    "print(f\"La computadora elige: {eleccion_computadora}\")\n",
    "\n",
    "# Barajar una lista\n",
    "cartas = [\"As\", \"Rey\", \"Reina\", \"Jota\"]\n",
    "random.shuffle(cartas)\n",
    "print(f\"Cartas barajadas: {cartas}\")"
   ]
  },
  {
   "cell_type": "markdown",
   "id": "68ecb5ce",
   "metadata": {},
   "source": [
    "---\n",
    "\n",
    "**3. La Biblioteca `datetime`**\n",
    "Nos permite trabajar con fechas y horas.\n",
    "\n",
    "---"
   ]
  },
  {
   "cell_type": "code",
   "execution_count": null,
   "id": "03945e6f",
   "metadata": {},
   "outputs": [],
   "source": [
    "import datetime\n",
    "\n",
    "# Obtener la fecha y hora actual\n",
    "ahora = datetime.datetime.now()\n",
    "print(f\"Fecha y hora actual: {ahora}\")\n",
    "\n",
    "# Crear una fecha específica\n",
    "fecha_evento = datetime.date(2025, 9, 18)\n",
    "print(f\"Fecha del evento: {fecha_evento}\")\n",
    "\n",
    "# Formatear una fecha a un string más legible\n",
    "print(f\"Fecha formateada: {ahora.strftime('%A, %d de %B de %Y - %H:%M')}\")\n",
    "\n",
    "# Calcular la diferencia entre dos fechas\n",
    "diferencia = ahora.date() - fecha_evento\n",
    "print(f\"Días hasta el evento: {-diferencia.days}\")"
   ]
  },
  {
   "cell_type": "markdown",
   "id": "28ac3958",
   "metadata": {},
   "source": [
    "---\n",
    "\n",
    "## ✏️ Ejercicios de Práctica\n",
    "\n",
    "---"
   ]
  },
  {
   "cell_type": "markdown",
   "id": "2aa96db8",
   "metadata": {},
   "source": [
    "**1. Calculadora de Círculo**\n",
    "Usa la biblioteca `math` para crear una función que reciba el radio de un círculo y devuelva una tupla con su área y su circunferencia. (Usa `math.pi`).\n",
    "\n",
    "---"
   ]
  },
  {
   "cell_type": "code",
   "execution_count": null,
   "id": "4982a902",
   "metadata": {},
   "outputs": [],
   "source": [
    "import math\n",
    "\n",
    "def calcular_circulo(radio: float) -> tuple[float, float]:\n",
    "    \"\"\"Calcula el área y la circunferencia de un círculo.\"\"\"\n",
    "    area = math.pi * (radio ** 2)\n",
    "    circunferencia = 2 * math.pi * radio\n",
    "    return (area, circunferencia)\n",
    "\n",
    "# Prueba\n",
    "radio_circulo = 5.0\n",
    "area_calc, circunf_calc = calcular_circulo(radio_circulo)\n",
    "print(f\"Para un círculo de radio {radio_circulo}:\")\n",
    "print(f\"  Área: {area_calc:.2f}\")\n",
    "print(f\"  Circunferencia: {circunf_calc:.2f}\")"
   ]
  },
  {
   "cell_type": "markdown",
   "id": "4b0acd18",
   "metadata": {},
   "source": [
    "---\n",
    "\n",
    "**2. Generador de Contraseñas Simple**\n",
    "Usa las bibliotecas `random` y `string` para crear una función que genere una contraseña aleatoria de una longitud determinada.\n",
    "\n",
    "---"
   ]
  },
  {
   "cell_type": "code",
   "execution_count": null,
   "id": "d5c133f7",
   "metadata": {},
   "outputs": [],
   "source": [
    "import random\n",
    "import string\n",
    "\n",
    "def generar_contrasena(longitud: int) -> str:\n",
    "    \"\"\"Genera una contraseña aleatoria con letras, números y símbolos.\"\"\"\n",
    "    caracteres = string.ascii_letters + string.digits + string.punctuation\n",
    "    contrasena = ''.join(random.choice(caracteres) for i in range(longitud))\n",
    "    return contrasena\n",
    "\n",
    "# Prueba\n",
    "longitud_deseada = 12\n",
    "nueva_contrasena = generar_contrasena(longitud_deseada)\n",
    "print(f\"Tu nueva contraseña de {longitud_deseada} caracteres es: {nueva_contrasena}\")"
   ]
  },
  {
   "cell_type": "markdown",
   "id": "c8f60057",
   "metadata": {},
   "source": [
    "---\n",
    "\n",
    "**3. ¿Qué día de la semana naciste?**\n",
    "Usa la biblioteca `datetime` para averiguar qué día de la semana fue una fecha específica (por ejemplo, tu fecha de nacimiento).\n",
    "\n",
    "---"
   ]
  },
  {
   "cell_type": "code",
   "execution_count": null,
   "id": "73ec1570",
   "metadata": {},
   "outputs": [],
   "source": [
    "import datetime\n",
    "\n",
    "def dia_de_la_semana_nacimiento(anio: int, mes: int, dia: int) -> str:\n",
    "    \"\"\"Devuelve el nombre del día de la semana para una fecha dada.\"\"\"\n",
    "    try:\n",
    "        fecha = datetime.date(anio, mes, dia)\n",
    "        # %A devuelve el nombre completo del día de la semana\n",
    "        return fecha.strftime(\"%A\")\n",
    "    except ValueError:\n",
    "        return \"Fecha no válida.\"\n",
    "\n",
    "# Prueba\n",
    "dia_semana = dia_de_la_semana_nacimiento(2000, 1, 15)\n",
    "print(f\"El 15 de enero de 2000 fue un: {dia_semana}\")"
   ]
  }
 ],
 "metadata": {
  "language_info": {
   "name": "python"
  }
 },
 "nbformat": 4,
 "nbformat_minor": 5
}
