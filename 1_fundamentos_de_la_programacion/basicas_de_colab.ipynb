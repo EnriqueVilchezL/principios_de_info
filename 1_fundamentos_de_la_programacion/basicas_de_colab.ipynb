{
 "cells": [
  {
   "cell_type": "markdown",
   "id": "c9ce3630",
   "metadata": {},
   "source": [
    "# Principios de Informática: Introducción a Google Colaboratory 💻\n",
    "\n",
    "### Tu primer paso hacia la programación en la nube 🚀\n",
    "\n",
    "**Curso:** Principios de Informática\n",
    "\n",
    "[![Open In Colab](https://colab.research.google.com/assets/colab-badge.svg)](https://githubtocolab.com/EnriqueVilchezL/principios_de_info/blob/main/1.%20Fundamentos%20de%20la%20programaci%C3%B3n/basicas_de_colab.ipynb)\n",
    "\n",
    "-----"
   ]
  },
  {
   "cell_type": "markdown",
   "id": "6eae2314",
   "metadata": {},
   "source": [
    "## ¡Bienvenido a Google Colaboratory! 👋\n",
    "\n",
    "Google Colaboratory (también conocido como Colab) es una herramienta increíble que te permite escribir y ejecutar código Python directamente en tu navegador. Piensa en Colab como tu laboratorio de programación personal en la nube. ¡No necesitas instalar nada!\n",
    "\n",
    "### ¿Por qué Colab es genial para ti? 🧠\n",
    "\n",
    "  * **Gratis y en la nube:** Accede a recursos computacionales potentes (¡incluso GPUs!) sin costo.\n",
    "  * **Fácil de usar:** Interfaz intuitiva, perfecta para principiantes.\n",
    "  * **Colaboración:** Comparte tus proyectos fácilmente con compañeros y profesores.\n",
    "  * **Integración:** Se conecta sin problemas con Google Drive.\n",
    "\n",
    "-----"
   ]
  },
  {
   "cell_type": "markdown",
   "id": "8317c6df",
   "metadata": {},
   "source": [
    "## Entendiendo la Estructura de un Notebook de Colab 🧩\n",
    "\n",
    "Un notebook de Colab está compuesto por \"celdas\". Imagina que cada celda es un bloque de construcción. Hay dos tipos principales de celdas:\n",
    "\n",
    "1.  **Celdas de Texto (Markdown):** Aquí escribes tus explicaciones, notas, instrucciones, ¡como este texto que estás leyendo!\n",
    "2.  **Celdas de Código (Python):** Aquí escribes y ejecutas tu código Python.\n",
    "\n",
    "-----"
   ]
  },
  {
   "cell_type": "markdown",
   "id": "3a15fc04",
   "metadata": {},
   "source": [
    "### Celdas de Código: Donde la Magia Sucede ✨\n",
    "\n",
    "Las celdas de código te permiten ejecutar comandos Python. El resultado de tu código se mostrará justo debajo de la celda.\n",
    "\n",
    "**¿Cómo ejecutar una celda de código?**\n",
    "Hay varias formas:\n",
    "\n",
    "  * Haz clic en el ícono de \"Play\" (▶️) a la izquierda de la celda.\n",
    "  * Presiona `Ctrl + Enter` (o `Cmd + Enter` en Mac) para ejecutar la celda y permanecer en ella.\n",
    "  * Presiona `Shift + Enter` para ejecutar la celda y mover el foco a la siguiente celda.\n",
    "  * Presiona `Alt + Enter` para ejecutar la celda e insertar una nueva celda de código debajo.\n",
    "\n",
    "-----"
   ]
  },
  {
   "cell_type": "code",
   "execution_count": null,
   "id": "993f9250",
   "metadata": {},
   "outputs": [],
   "source": [
    "print(\"¡Hola!\")"
   ]
  },
  {
   "cell_type": "code",
   "execution_count": null,
   "id": "03dce3e2",
   "metadata": {},
   "outputs": [],
   "source": [
    "# Variables definidas aquí pueden ser usadas en otras celdas\n",
    "mensaje = \"¡Bienvenido a Principios de Informática!\""
   ]
  },
  {
   "cell_type": "code",
   "execution_count": null,
   "id": "10af8c9d",
   "metadata": {},
   "outputs": [],
   "source": [
    "print(mensaje)"
   ]
  },
  {
   "cell_type": "markdown",
   "id": "2b387dd3",
   "metadata": {},
   "source": [
    "---\n",
    "\n",
    "#### 💡 Mini Tip: ¿Qué es un comentario en Python?\n",
    "\n",
    "Un **comentario** es texto en el código que Python ignora. Sirve para explicar lo que hace tu código.\n",
    "\n",
    "- Todo lo que escribas después de un símbolo `#` en una línea es un comentario."
   ]
  },
  {
   "cell_type": "code",
   "execution_count": null,
   "id": "a25c922f",
   "metadata": {},
   "outputs": [],
   "source": [
    "# Esto es un comentario y no se ejecuta"
   ]
  },
  {
   "cell_type": "code",
   "execution_count": null,
   "id": "1558c9db",
   "metadata": {},
   "outputs": [],
   "source": [
    "\"\"\"\n",
    "Esto es un comentario de varias líneas.\n",
    "Puedes usarlo para explicar partes del código o dejar notas.\n",
    "\"\"\""
   ]
  },
  {
   "cell_type": "code",
   "execution_count": null,
   "id": "2e555906",
   "metadata": {},
   "outputs": [],
   "source": [
    "print(\"Esto sí se ejecuta\")"
   ]
  },
  {
   "cell_type": "markdown",
   "id": "9d36e857",
   "metadata": {},
   "source": [
    "---\n",
    "\n",
    "#### 💡 Mini Tip: ¿Cómo agrego una nueva celda?\n",
    "\n",
    "- Haz clic en el botón \"+ Código\" o \"+ Texto\" arriba del notebook.\n",
    "- O usa el menú: **Insertar > Nueva celda de código/texto**."
   ]
  },
  {
   "cell_type": "code",
   "execution_count": null,
   "id": "9e234750",
   "metadata": {},
   "outputs": [],
   "source": []
  },
  {
   "cell_type": "markdown",
   "id": "d68a2a77",
   "metadata": {},
   "source": [
    "---\n",
    "\n",
    "#### 💡 Mini Tip: ¿Cómo edito una celda de texto?\n",
    "\n",
    "- Haz doble clic sobre la celda de texto para editar el contenido Markdown.\n",
    "- Luego presiona **Shift + Enter** para ver el resultado con formato."
   ]
  },
  {
   "cell_type": "markdown",
   "id": "d1c9bd36",
   "metadata": {},
   "source": [
    "¡Edita esta celda!"
   ]
  },
  {
   "cell_type": "markdown",
   "id": "2b9d56d6",
   "metadata": {},
   "source": [
    "#### ✅ Ejercicio: Tu Primer Programa\n",
    "\n",
    "Escribe hola mundo y haz que se muestre en la pantalla.\n",
    "\n",
    "-----"
   ]
  },
  {
   "cell_type": "code",
   "execution_count": null,
   "id": "6b809d91",
   "metadata": {},
   "outputs": [],
   "source": [
    "print(\"¡Hola, mundo!\")"
   ]
  },
  {
   "cell_type": "markdown",
   "id": "a61c22a4",
   "metadata": {},
   "source": [
    "### Celdas de Texto: Dale Estilo a tus Ideas 📝\n",
    "\n",
    "Las celdas de texto usan **Markdown**, un lenguaje de marcado simple para dar formato al texto. ¡Es como escribir en un editor de texto, pero con superpoderes de formato!\n",
    "\n",
    "**Ejemplos de Markdown:**\n",
    "\n",
    "  * **Encabezados:** Usa `#` para títulos (cuantos más `#`, más pequeño el título).\n",
    "    ```markdown\n",
    "    # Título Principal\n",
    "    ## Subtítulo\n",
    "    ### Sub-subtítulo\n",
    "    ```\n",
    "  * **Negrita:** `**texto en negrita**` o `__texto en negrita__`\n",
    "  * **Cursiva:** `*texto en cursiva*` o `_texto en cursiva_`\n",
    "  * **Listas:**\n",
    "      * **Ordenadas:** `1. Primer elemento`\n",
    "      * **Desordenadas:** `* Primer elemento`\n",
    "  * **Enlaces:** `[Texto del enlace](URL)`\n",
    "  * **Imágenes:** `![Texto alternativo](URL de la imagen)`\n",
    "  * **Bloques de código:** Usa tres tildes graves (```` ``` ````) alrededor de tu código.\n",
    "    ````\n",
    "    ```python\n",
    "    print(\"Esto es un bloque de código\")\n",
    "    ```\n",
    "    ````\n",
    "\n",
    "Para editar una celda de texto, simplemente haz doble clic sobre ella. Verás el código Markdown y una vista previa.\n",
    "\n",
    "-----"
   ]
  },
  {
   "cell_type": "markdown",
   "id": "c76eba0c",
   "metadata": {},
   "source": [
    "#### 🎨 Ejercicio: Formateando tu Notebook\n",
    "\n",
    "Crea una nueva celda de texto debajo de esta. En ella:\n",
    "\n",
    "1.  Pon un título usando `##`.\n",
    "2.  Escribe una oración en **negrita** y otra en *cursiva*.\n",
    "3.  Crea una lista desordenada con tres de tus lenguajes de programación favoritos (o cualquier tema que te guste).\n",
    "\n",
    "-----"
   ]
  },
  {
   "cell_type": "markdown",
   "id": "7478ab3b",
   "metadata": {},
   "source": [
    "## Titulo\n",
    "\n",
    "**Esta es una oracion en negrita**\n",
    "*Esta es una oracion en cursiva*"
   ]
  },
  {
   "cell_type": "markdown",
   "id": "28bc7550",
   "metadata": {},
   "source": [
    "### El Entorno de Ejecución ⚙️\n",
    "\n",
    "Cuando ejecutas código en Colab, estás utilizando una \"máquina virtual\" temporal en los servidores de Google. Si cierras tu notebook o dejas de usarlo por un tiempo, esta máquina se reiniciará, y cualquier variable o estado que tu código haya creado se perderá. Por eso, si vas a seguir trabajando en tu notebook más tarde, es buena idea ejecutar todas las celdas de nuevo para restaurar el estado.\n",
    "\n",
    "-----"
   ]
  },
  {
   "cell_type": "markdown",
   "id": "9c5c86b0",
   "metadata": {},
   "source": [
    "## ¡Felicitaciones! 🎉\n",
    "\n",
    "Has completado tu primera introducción a Google Colaboratory. Ahora tienes las herramientas básicas para empezar a escribir y ejecutar código Python en un entorno interactivo y colaborativo. ¡El cielo es el límite para lo que puedes crear!\n",
    "\n",
    "**Próximos pasos:**\n",
    "\n",
    "  * ¡Empieza a experimentar! La mejor forma de aprender es haciendo.\n",
    "  * Explora las librerías de Python para análisis de datos (`pandas`, `numpy`) y visualización (`matplotlib`, `seaborn`).\n",
    "  * Considera aprender sobre Machine Learning, un área donde Colab brilla.\n",
    "\n",
    "¡Sigue programando y aprendiendo! 🚀"
   ]
  }
 ],
 "metadata": {
  "language_info": {
   "name": "python"
  }
 },
 "nbformat": 4,
 "nbformat_minor": 5
}
