{
 "cells": [
  {
   "cell_type": "markdown",
   "id": "c9ce3630",
   "metadata": {},
   "source": [
    "# Principios de Informática: Introducción a Google Colaboratory 💻\n",
    "\n",
    "### Guía de introducción al entorno de programación en la nube 🚀\n",
    "\n",
    "**Curso:** Principios de Informática\n",
    "\n",
    "[![Open In Colab](https://colab.research.google.com/assets/colab-badge.svg)](https://githubtocolab.com/EnriqueVilchezL/principios_de_info/blob/main/1_fundamentos_de_la_programacion/basicas_de_colab.ipynb)\n",
    "\n",
    "-----"
   ]
  },
  {
   "cell_type": "markdown",
   "id": "6eae2314",
   "metadata": {},
   "source": [
    "## Introducción a Google Colaboratory 👋\n",
    "\n",
    "Google Colaboratory (también conocido como Colab) es una plataforma que permite escribir y ejecutar código Python directamente en el navegador web. Funciona como un entorno de programación basado en la nube que no requiere instalación local de software.\n",
    "\n",
    "### Características principales de Colab 🧠\n",
    "\n",
    "  * **Acceso gratuito:** Proporciona recursos computacionales avanzados (incluyendo GPUs) sin costo.\n",
    "  * **Interfaz intuitiva:** Diseñado para facilitar el aprendizaje y desarrollo de código.\n",
    "  * **Funcionalidad colaborativa:** Permite compartir proyectos con otros usuarios de forma sencilla.\n",
    "  * **Integración con servicios:** Se conecta directamente con Google Drive y otros servicios.\n",
    "\n",
    "-----"
   ]
  },
  {
   "cell_type": "markdown",
   "id": "8317c6df",
   "metadata": {},
   "source": [
    "## Estructura de un Notebook de Colab 🧩\n",
    "\n",
    "Un notebook de Colab está organizado en unidades denominadas \"celdas\". Cada celda constituye un componente modular del documento. Existen dos tipos principales de celdas:\n",
    "\n",
    "1.  **Celdas de Texto (Markdown):** Contienen documentación, explicaciones e instrucciones en formato de texto enriquecido.\n",
    "2.  **Celdas de Código (Python):** Contienen código Python ejecutable.\n",
    "\n",
    "-----"
   ]
  },
  {
   "cell_type": "markdown",
   "id": "3a15fc04",
   "metadata": {},
   "source": [
    "### Celdas de Código: Ejecución de instrucciones ✨\n",
    "\n",
    "Las celdas de código permiten ejecutar comandos Python. El resultado de la ejecución se muestra inmediatamente debajo de la celda correspondiente.\n",
    "\n",
    "**Métodos de ejecución de celdas de código:**\n",
    "\n",
    "  * Hacer clic en el ícono de reproducción (▶️) ubicado a la izquierda de la celda.\n",
    "  * Presionar `Ctrl + Enter` (o `Cmd + Enter` en Mac) para ejecutar la celda actual.\n",
    "  * Presionar `Shift + Enter` para ejecutar la celda y avanzar a la siguiente.\n",
    "  * Presionar `Alt + Enter` para ejecutar la celda e insertar una nueva celda de código debajo.\n",
    "\n",
    "-----"
   ]
  },
  {
   "cell_type": "code",
   "execution_count": null,
   "id": "993f9250",
   "metadata": {},
   "outputs": [],
   "source": [
    "print(\"¡Hola!\")"
   ]
  },
  {
   "cell_type": "code",
   "execution_count": null,
   "id": "03dce3e2",
   "metadata": {},
   "outputs": [],
   "source": [
    "# Variables definidas en esta celda permanecen disponibles para uso en otras celdas\n",
    "mensaje = \"Bienvenido a Principios de Informática\""
   ]
  },
  {
   "cell_type": "code",
   "execution_count": null,
   "id": "10af8c9d",
   "metadata": {},
   "outputs": [],
   "source": [
    "print(mensaje)"
   ]
  },
  {
   "cell_type": "markdown",
   "id": "2b387dd3",
   "metadata": {},
   "source": [
    "---\n",
    "\n",
    "#### 💡 Conceptos fundamentales: Comentarios en Python\n",
    "\n",
    "Un **comentario** es texto incluido en el código fuente que el intérprete de Python ignora durante la ejecución. Su propósito es documentar y explicar la funcionalidad del código.\n",
    "\n",
    "- Todo texto que sigue al símbolo `#` en una línea constituye un comentario de línea simple."
   ]
  },
  {
   "cell_type": "code",
   "execution_count": null,
   "id": "a25c922f",
   "metadata": {},
   "outputs": [],
   "source": [
    "# Esto es un comentario y no se ejecuta"
   ]
  },
  {
   "cell_type": "code",
   "execution_count": null,
   "id": "1558c9db",
   "metadata": {},
   "outputs": [],
   "source": [
    "\"\"\"\n",
    "Comentario de múltiples líneas (docstring).\n",
    "Utilizado para documentación extensa de código o módulos.\n",
    "\"\"\""
   ]
  },
  {
   "cell_type": "code",
   "execution_count": null,
   "id": "2e555906",
   "metadata": {},
   "outputs": [],
   "source": [
    "print(\"Esto sí se ejecuta\")"
   ]
  },
  {
   "cell_type": "markdown",
   "id": "9d36e857",
   "metadata": {},
   "source": [
    "---\n",
    "\n",
    "#### 💡 Procedimiento: Agregar nuevas celdas\n",
    "\n",
    "- Utilizar los botones \"+ Código\" o \"+ Texto\" en la barra superior del notebook.\n",
    "- Alternativamente, acceder al menú: **Insertar > Nueva celda de código/texto**."
   ]
  },
  {
   "cell_type": "code",
   "execution_count": null,
   "id": "9e234750",
   "metadata": {},
   "outputs": [],
   "source": []
  },
  {
   "cell_type": "markdown",
   "id": "d68a2a77",
   "metadata": {},
   "source": [
    "---\n",
    "\n",
    "#### 💡 Procedimiento: Edición de celdas de texto\n",
    "\n",
    "- Hacer doble clic sobre la celda de texto para acceder al modo de edición Markdown.\n",
    "- Presionar **Shift + Enter** para renderizar el contenido con formato aplicado."
   ]
  },
  {
   "cell_type": "markdown",
   "id": "d1c9bd36",
   "metadata": {},
   "source": [
    "Celda de texto para edición práctica"
   ]
  },
  {
   "cell_type": "markdown",
   "id": "2b9d56d6",
   "metadata": {},
   "source": [
    "#### ✅ Ejercicio práctico: Primer programa\n",
    "\n",
    "Implementar un programa que muestre el mensaje \"Hola, mundo!\" en pantalla.\n",
    "\n",
    "-----"
   ]
  },
  {
   "cell_type": "code",
   "execution_count": null,
   "id": "6b809d91",
   "metadata": {},
   "outputs": [],
   "source": [
    "print(\"Hola, mundo!\")"
   ]
  },
  {
   "cell_type": "markdown",
   "id": "a61c22a4",
   "metadata": {},
   "source": [
    "### Celdas de Texto: Documentación con Markdown 📝\n",
    "\n",
    "Las celdas de texto utilizan **Markdown**, un lenguaje de marcado ligero que permite aplicar formato al texto de manera sencilla y estandarizada.\n",
    "\n",
    "**Sintaxis de Markdown:**\n",
    "\n",
    "  * **Encabezados:** Utilizar `#` para títulos (a mayor cantidad de `#`, menor jerarquía del título).\n",
    "    ```markdown\n",
    "    # Título Principal\n",
    "    ## Subtítulo\n",
    "    ### Sub-subtítulo\n",
    "    ```\n",
    "  * **Texto en negrita:** `**texto en negrita**` o `__texto en negrita__`\n",
    "  * **Texto en cursiva:** `*texto en cursiva*` o `_texto en cursiva_`\n",
    "  * **Listas:**\n",
    "      * **Numeradas:** `1. Primer elemento`\n",
    "      * **Con viñetas:** `* Primer elemento`\n",
    "  * **Enlaces:** `[Texto del enlace](URL)`\n",
    "  * **Imágenes:** `![Texto alternativo](URL de la imagen)`\n",
    "  * **Bloques de código:** Utilizar tres acentos graves (```` ``` ````) para delimitar código.\n",
    "    ````\n",
    "    ```python\n",
    "    print(\"Ejemplo de bloque de código\")\n",
    "    ```\n",
    "    ````\n",
    "\n",
    "Para editar una celda de texto, hacer doble clic sobre ella para acceder al código Markdown subyacente.\n",
    "\n",
    "-----"
   ]
  },
  {
   "cell_type": "markdown",
   "id": "c76eba0c",
   "metadata": {},
   "source": [
    "#### 🎨 Ejercicio práctico: Aplicación de formato Markdown\n",
    "\n",
    "Crear una nueva celda de texto debajo de esta sección. Implementar los siguientes elementos:\n",
    "\n",
    "1.  Crear un título utilizando `##`.\n",
    "2.  Escribir una oración en **negrita** y otra en *cursiva*.\n",
    "3.  Generar una lista con viñetas de tres elementos temáticos de interés.\n",
    "\n",
    "-----"
   ]
  },
  {
   "cell_type": "markdown",
   "id": "7478ab3b",
   "metadata": {},
   "source": [
    "## Ejemplo de Formato\n",
    "\n",
    "**Esta es una oración con formato de texto en negrita**\n",
    "*Esta es una oración con formato de texto en cursiva*\n",
    "\n",
    "* Elemento 1\n",
    "* Elemento 2  \n",
    "* Elemento 3"
   ]
  },
  {
   "cell_type": "markdown",
   "id": "28bc7550",
   "metadata": {},
   "source": [
    "### Entorno de Ejecución ⚙️\n",
    "\n",
    "El código ejecutado en Colab utiliza una máquina virtual temporal alojada en los servidores de Google. Cuando se cierra el notebook o permanece inactivo durante un período prolongado, esta instancia se reinicia automáticamente. Consecuentemente, todas las variables y estados del programa se eliminan de la memoria.\n",
    "\n",
    "Para continuar trabajando en sesiones posteriores, es necesario re-ejecutar todas las celdas relevantes para restaurar el estado del entorno de ejecución.\n",
    "\n",
    "-----"
   ]
  },
  {
   "cell_type": "markdown",
   "id": "9c5c86b0",
   "metadata": {},
   "source": [
    "## Conclusión 🎉\n",
    "\n",
    "Se ha completado la introducción fundamental a Google Colaboratory. Este entorno proporciona las herramientas básicas necesarias para desarrollar y ejecutar código Python en un contexto interactivo y colaborativo.\n",
    "\n",
    "**Recomendaciones para continuar el aprendizaje:**\n",
    "\n",
    "  * Practicar la implementación de código de forma regular para consolidar los conceptos.\n",
    "  * Explorar bibliotecas de Python especializadas en análisis de datos (`pandas`, `numpy`) y visualización (`matplotlib`, `seaborn`).\n",
    "  * Investigar aplicaciones de Machine Learning, área donde Colab demuestra particular eficacia.\n",
    "\n",
    "Continuar con el desarrollo de habilidades de programación mediante la práctica constante. 🚀"
   ]
  }
 ],
 "metadata": {
  "language_info": {
   "name": "python"
  }
 },
 "nbformat": 4,
 "nbformat_minor": 5
}
