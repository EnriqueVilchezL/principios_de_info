{
 "cells": [
  {
   "cell_type": "markdown",
   "id": "18573c0c",
   "metadata": {},
   "source": [
    "# Desactivar Gemini 🤖\n",
    "\n",
    "El proceso de aprendizaje puede verse comprometido si se utilizan herramientas de inteligencia artificial de forma incorrecta. Por ello, es fundamental evitar obstáculos para el aprendizaje.\n",
    "\n",
    "> Colab tiene activado por defecto **autocompletados de código** mediante Gemini. Es **imprescindible** desactivar la opción de autocompletado con Gemini para aprender los fundamentos de la programación correctamente. Para realizar este ajuste, se debe acceder a:\n",
    "\n",
    "`⚙️ (Open Settings)`<br>\n",
    "&nbsp;&nbsp;&nbsp;&nbsp;&nbsp;&nbsp;&nbsp;&nbsp;&nbsp;&nbsp;&nbsp;&nbsp;└── `AI Assistance`<br>\n",
    "&nbsp;&nbsp;&nbsp;&nbsp;&nbsp;&nbsp;&nbsp;&nbsp;&nbsp;&nbsp;&nbsp;&nbsp;&nbsp;&nbsp;&nbsp;&nbsp;&nbsp;&nbsp;&nbsp;&nbsp;&nbsp;&nbsp;&nbsp;&nbsp;└── [✅] `Show AI-powered inline completitions`  \n",
    "&nbsp;&nbsp;&nbsp;&nbsp;&nbsp;&nbsp;&nbsp;&nbsp;&nbsp;&nbsp;&nbsp;&nbsp;&nbsp;&nbsp;&nbsp;&nbsp;&nbsp;&nbsp;&nbsp;&nbsp;&nbsp;&nbsp;&nbsp;&nbsp;└── [ ] `Hide generative AI features`\n",
    "\n",
    "Se debe **desactivar** la opción `Show AI-powered inline completitions`, haciendo clic en la casilla, y **activar** la opción `Hide generative AI features`, marcando la casilla correspondiente.\n",
    "\n",
    "Al hacerlo, se debe ver de la siguiente manera:\n",
    "\n",
    "`⚙️ (Open Settings)`<br>\n",
    "&nbsp;&nbsp;&nbsp;&nbsp;&nbsp;&nbsp;&nbsp;&nbsp;&nbsp;&nbsp;&nbsp;&nbsp;└── `AI Assistance`<br>\n",
    "&nbsp;&nbsp;&nbsp;&nbsp;&nbsp;&nbsp;&nbsp;&nbsp;&nbsp;&nbsp;&nbsp;&nbsp;&nbsp;&nbsp;&nbsp;&nbsp;&nbsp;&nbsp;&nbsp;&nbsp;&nbsp;&nbsp;&nbsp;&nbsp;└── [ ] `Show AI-powered inline completitions`  \n",
    "&nbsp;&nbsp;&nbsp;&nbsp;&nbsp;&nbsp;&nbsp;&nbsp;&nbsp;&nbsp;&nbsp;&nbsp;&nbsp;&nbsp;&nbsp;&nbsp;&nbsp;&nbsp;&nbsp;&nbsp;&nbsp;&nbsp;&nbsp;&nbsp;└── [✅] `Hide generative AI features`\n",
    "\n",
    "Finalmente, seleccionar `Close`.\n",
    "\n",
    "-----"
   ]
  },
  {
   "cell_type": "markdown",
   "id": "636b577a",
   "metadata": {},
   "source": [
    "## ¿Cómo se ven los autocompletados con Gemini activado?\n",
    "\n",
    "Cuando Gemini está activado en Colab, se muestran sugerencias de código generadas por IA en color gris claro, que pueden completar líneas enteras o incluso bloques completos de código. Estas sugerencias suelen aparecer automáticamente mientras se escribe.\n",
    "\n",
    "Por ejemplo, al comenzar a escribir una instrucción secuencial:\n",
    "```python\n",
    "nombre = input('Ingrese su nombre:')\n",
    "# El cursor está aquí...\n",
    "```\n",
    "Puede aparecer una sugerencia en gris como:\n",
    "```python\n",
    "nombre = input('Ingrese su nombre:')\n",
    "```\n",
    "```markdown\n",
    "print('Hola,', nombre)  # ← sugerencia generada por Gemini (gris)\n",
    "```\n",
    "\n",
    "O bien, al escribir una asignación:\n",
    "```python\n",
    "a = 5\n",
    "b = 3\n",
    "# El cursor está aquí...\n",
    "```\n",
    "Puede aparecer una sugerencia en gris como:\n",
    "```python\n",
    "a = 5\n",
    "b = 3\n",
    "```\n",
    "```markdown\n",
    "suma = a + b  # ← sugerencia generada por Gemini (gris)\n",
    "print(suma)    # ← sugerencia generada por Gemini (gris)\n",
    "```\n",
    "\n",
    "---"
   ]
  },
  {
   "cell_type": "code",
   "execution_count": null,
   "id": "c0ed5d10",
   "metadata": {},
   "outputs": [],
   "source": [
    "nombre = input('Ingrese su nombre:')"
   ]
  },
  {
   "cell_type": "markdown",
   "id": "415226d2",
   "metadata": {},
   "source": [
    "## ¿Cómo se ven los autocompletados con Gemini desactivado?\n",
    "\n",
    "Cuando Gemini está desactivado, solo se muestran autocompletados básicos, como nombres de variables ya declaradas, funciones estándar de Python o sugerencias de sintaxis. No aparecen soluciones completas ni bloques de código generados por IA.\n",
    "Por ejemplo, al escribir:\n",
    "```python\n",
    "a = 5\n",
    "b = 3\n",
    "# El cursor está aquí...\n",
    "```\n",
    "**No** aparecen líneas como `suma = a + b` o `print(suma)` en gris.\n",
    "\n",
    "---"
   ]
  },
  {
   "cell_type": "code",
   "execution_count": null,
   "id": "c79891ff",
   "metadata": {},
   "outputs": [],
   "source": [
    "a = 5\n",
    "b = 3"
   ]
  },
  {
   "cell_type": "markdown",
   "id": "7dc44c51",
   "metadata": {},
   "source": [
    "**No** se pueden usar los autocompletados de Gemini, ni la ventana del chat con Gemini."
   ]
  }
 ],
 "metadata": {
  "language_info": {
   "name": "python"
  }
 },
 "nbformat": 4,
 "nbformat_minor": 5
}
