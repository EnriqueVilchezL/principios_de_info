{
 "cells": [
  {
   "cell_type": "markdown",
   "id": "4901ed24",
   "metadata": {},
   "source": [
    "# Principios de Informática: Introducción al Uso de Bibliotecas 📚\n",
    "### Ampliando nuestros superpoderes con código preexistente\n",
    "\n",
    "**Curso:** Principios de Informática\n",
    "\n",
    "---\n",
    "\n",
    "## 🗺️ Nuestro Recorrido de Hoy\n",
    "\n",
    "En este notebook aprenderás a:\n",
    "- Comprender qué es una biblioteca y por qué son útiles en programación.\n",
    "- Importar y utilizar bibliotecas estándar de Python como `math`, `random` y `datetime`.\n",
    "- Consultar la documentación de una biblioteca y sus funciones.\n",
    "- Usar diferentes formas de importación (`import`, `from ... import`, `as`).\n",
    "- Aplicar funciones y métodos de bibliotecas en ejemplos prácticos.\n",
    "\n",
    "> \"Detectar y corregir errores es una habilidad esencial para cualquier programador.\"\n",
    "\n",
    "**¿Por qué es importante?**\n",
    "- Las bibliotecas permiten reutilizar código probado y eficiente.\n",
    "- Facilitan la resolución de problemas complejos con menos esfuerzo.\n",
    "- Amplían las capacidades de Python para tareas especializadas.\n",
    "\n",
    "**¿Qué encontrarás aquí?**\n",
    "1. Concepto de bibliotecas\n",
    "2. Exploración de documentación de bibliotecas\n",
    "3. Importación de bibliotecas\n",
    "\n",
    "¡Listos para practicar y dominar el uso de bibliotecas en Python! 💡⌨️"
   ]
  },
  {
   "cell_type": "markdown",
   "id": "abdb8ed9",
   "metadata": {},
   "source": [
    "---\n",
    "\n",
    "## 1. Concepto de bibliotecas\n",
    "\n",
    "---\n",
    "\n",
    "### ¿Qué es una Biblioteca? 🏛️\n",
    "\n",
    "Imagina que quieres construir un coche y, en lugar de fabricar cada tornillo, cada rueda y cada pieza del motor desde cero, vas a una tienda de auto-repuestos y compras esas piezas ya hechas por expertos. Ahorrarías una cantidad increíble de tiempo y esfuerzo, y probablemente el resultado sería más fiable.\n",
    "\n",
    "En programación, una **biblioteca** (o *library*) es exactamente eso: una colección de código preescrito (funciones, clases, etc.) que podemos **importar** y usar en nuestros propios programas. Nos permite no tener que \"reinventar la rueda\".\n",
    "\n",
    "Python tiene una vasta **Biblioteca Estándar** que viene incluida por defecto, y un ecosistema gigantesco de bibliotecas de terceros (como NumPy, Pandas, Matplotlib) que podemos instalar para realizar tareas especializadas.\n",
    "\n",
    "La sintaxis para acceder a una biblioteca es:\n",
    "\n",
    "```python\n",
    "import [nombre_de_biblioteca]\n",
    "```\n",
    "\n",
    "---"
   ]
  },
  {
   "cell_type": "code",
   "execution_count": null,
   "id": "f648c781",
   "metadata": {},
   "outputs": [],
   "source": [
    "import numpy\n",
    "import pandas\n",
    "import matplotlib\n",
    "import random\n",
    "import math"
   ]
  },
  {
   "cell_type": "markdown",
   "id": "ad8a56d7",
   "metadata": {},
   "source": [
    "### ¿Por qué usar bibliotecas?\n",
    "* **Ahorro de Tiempo**: No tienes que escribir código para tareas comunes.\n",
    "* **Fiabilidad**: El código de las bibliotecas populares ha sido probado por miles de desarrolladores.\n",
    "* **Rendimiento**: Muchas bibliotecas (especialmente las científicas) están altamente optimizadas.\n",
    "* **Nuevas Capacidades**: Nos dan acceso a funcionalidades que serían muy complejas de programar desde cero (ej. gráficos, machine learning, etc.)."
   ]
  },
  {
   "cell_type": "markdown",
   "id": "a7ef4aa8",
   "metadata": {},
   "source": [
    "---\n",
    "\n",
    "## 2. Exploración de documentación de bibliotecas\n",
    "\n",
    "---\n",
    "\n",
    "Cada biblioteca tiene su propio \"manual de usuario\" llamado **documentación**. Aprender a leer la documentación es una de las habilidades más importantes de un programador.\n",
    "\n",
    "La documentación nos dice:\n",
    "* ¿Qué hace la biblioteca?\n",
    "* ¿Qué funciones y clases contiene?\n",
    "* ¿Cómo se usan esas funciones (qué parámetros aceptan y qué devuelven)?\n",
    "* Ejemplos de uso.\n",
    "\n",
    "La documentación oficial de Python es un excelente lugar para empezar: [docs.python.org](https://docs.python.org/3/)\n",
    "\n",
    "---"
   ]
  },
  {
   "cell_type": "markdown",
   "id": "4e995fb7",
   "metadata": {},
   "source": [
    "**Ejercicio: Explorar la Biblioteca `math`**\n",
    "1.  Ve a la documentación de la biblioteca `math` de Python.\n",
    "2.  Busca cómo se llama la función para calcular la raíz cuadrada.\n",
    "3.  Busca el valor de la constante matemática Pi (`π`).\n",
    "\n",
    "---"
   ]
  },
  {
   "cell_type": "code",
   "execution_count": null,
   "id": "fd2a2916",
   "metadata": {},
   "outputs": [],
   "source": [
    "# Después de explorar la documentación, sabemos que:\n",
    "# - La función para la raíz cuadrada es sqrt()\n",
    "# - La constante Pi es math.pi\n",
    "\n",
    "# Para usarla, primero debemos importarla\n",
    "import math\n",
    "\n",
    "numero = 81\n",
    "raiz_cuadrada = math.sqrt(numero)\n",
    "pi_valor = math.pi\n",
    "\n",
    "print(f\"La raíz cuadrada de {numero} es: {raiz_cuadrada}\")\n",
    "print(f\"El valor de Pi es aproximadamente: {pi_valor}\")"
   ]
  },
  {
   "cell_type": "markdown",
   "id": "983a703f",
   "metadata": {},
   "source": [
    "### La función `help()`\n",
    "\n",
    "Si queremos ver la documentación desde python podemos usar la función `help()`, que imprime la información de la biblioteca o función que queremos comprender.\n",
    "\n",
    "---"
   ]
  },
  {
   "cell_type": "code",
   "execution_count": null,
   "id": "9a153c0d",
   "metadata": {},
   "outputs": [],
   "source": [
    "import math\n",
    "help(math)  # Muestra la documentación de la biblioteca math"
   ]
  },
  {
   "cell_type": "code",
   "execution_count": null,
   "id": "6281de2e",
   "metadata": {},
   "outputs": [],
   "source": [
    "help(math.sqrt)  # Muestra la documentación de la función sqrt"
   ]
  },
  {
   "cell_type": "markdown",
   "id": "9272c68a",
   "metadata": {},
   "source": [
    "### Cursor\n",
    "\n",
    "Algunos entornos de progamación permiten observar parte de la documentación de las funciones o bibliotecas poniendo el cursor sobre ellas.\n",
    "\n",
    "Por ejemplo, poniendo el cursor sobre `math` posiblemente se vea un mensaje como:\n",
    "\n",
    "```python\n",
    "module: math\n",
    "This module provides access to the mathematical functions\n",
    "defined by the C standard.\n",
    "```\n",
    "\n",
    "---"
   ]
  },
  {
   "cell_type": "markdown",
   "id": "3fd05aee",
   "metadata": {},
   "source": [
    "---\n",
    "\n",
    "## 3. Importación de bibliotecas\n",
    "\n",
    "---\n",
    "\n",
    "Para usar una biblioteca en nuestro código, primero debemos **importarla**. Hay varias formas de hacerlo.\n",
    "\n",
    "---"
   ]
  },
  {
   "cell_type": "markdown",
   "id": "61141ab8",
   "metadata": {},
   "source": [
    "### `import biblioteca`\n",
    "Esta es la forma más común y recomendada. Importa la biblioteca completa y, para usar sus funciones, debemos usar el nombre de la biblioteca como prefijo.\n",
    "\n",
    "---"
   ]
  },
  {
   "cell_type": "code",
   "execution_count": null,
   "id": "cd89e548",
   "metadata": {},
   "outputs": [],
   "source": [
    "import math\n",
    "\n",
    "math.sqrt(25)  # Calcula la raíz cuadrada de 25"
   ]
  },
  {
   "cell_type": "markdown",
   "id": "ea7cb234",
   "metadata": {},
   "source": [
    "### `from biblioteca import funcion`\n",
    "Importa solo una función o componente específico de la biblioteca. Esto nos permite llamarla directamente sin el prefijo.\n",
    "\n",
    "---"
   ]
  },
  {
   "cell_type": "code",
   "execution_count": null,
   "id": "f0d5a9ca",
   "metadata": {},
   "outputs": [],
   "source": [
    "from math import sqrt\n",
    "\n",
    "sqrt(25)  # Calcula la raíz cuadrada de 25 sin usar el prefijo math."
   ]
  },
  {
   "cell_type": "markdown",
   "id": "8a12c9e9",
   "metadata": {},
   "source": [
    "### `import biblioteca as alias`\n",
    "A veces, los nombres de las bibliotecas son muy largos. Podemos darles un \"apodo\" o **alias** para escribir menos.\n",
    "\n",
    "---"
   ]
  },
  {
   "cell_type": "code",
   "execution_count": null,
   "id": "d4e578e0",
   "metadata": {},
   "outputs": [],
   "source": [
    "import math as ma\n",
    "\n",
    "ma.sqrt(25)  # Calcula la raíz cuadrada de 25 usando el alias ma"
   ]
  },
  {
   "cell_type": "markdown",
   "id": "da9dc22a",
   "metadata": {},
   "source": [
    "### Ejemplos con Bibliotecas Comunes\n",
    "\n",
    "Vamos a explorar tres bibliotecas muy útiles de la Biblioteca Estándar de Python.\n",
    "\n",
    "---"
   ]
  },
  {
   "cell_type": "markdown",
   "id": "b969e014",
   "metadata": {},
   "source": [
    "**1. La Biblioteca `math`**\n",
    "Proporciona acceso a funciones matemáticas.\n",
    "\n",
    "---"
   ]
  },
  {
   "cell_type": "code",
   "execution_count": null,
   "id": "e67e695b",
   "metadata": {},
   "outputs": [],
   "source": [
    "import math\n",
    "\n",
    "# Funciones trigonométricas (trabajan en radianes)\n",
    "angulo_rad = math.pi / 2 # 90 grados\n",
    "print(f\"Seno de 90°: {math.sin(angulo_rad)}\")"
   ]
  },
  {
   "cell_type": "code",
   "execution_count": null,
   "id": "9294a951",
   "metadata": {},
   "outputs": [],
   "source": [
    "# Factorial\n",
    "print(f\"Factorial de 5 (5!): {math.factorial(5)}\")"
   ]
  },
  {
   "cell_type": "code",
   "execution_count": null,
   "id": "ff963280",
   "metadata": {},
   "outputs": [],
   "source": [
    "# Potencias y logaritmos\n",
    "print(f\"2 elevado a la 10: {math.pow(2, 10)}\")\n",
    "print(f\"Logaritmo natural de 10: {math.log(10)}\")"
   ]
  },
  {
   "cell_type": "markdown",
   "id": "e3e3a02f",
   "metadata": {},
   "source": [
    "**2. La Biblioteca `random`**\n",
    "Permite generar números pseudo-aleatorios y realizar selecciones al azar.\n",
    "\n",
    "---"
   ]
  },
  {
   "cell_type": "code",
   "execution_count": null,
   "id": "db141dcc",
   "metadata": {},
   "outputs": [],
   "source": [
    "import random\n",
    "\n",
    "# Generar un número entero aleatorio en un rango\n",
    "dado = random.randint(1, 6)\n",
    "print(f\"Lanzamiento de un dado: {dado}\")"
   ]
  },
  {
   "cell_type": "code",
   "execution_count": null,
   "id": "98961091",
   "metadata": {},
   "outputs": [],
   "source": [
    "# Elegir un elemento al azar de una lista\n",
    "opciones = [\"piedra\", \"papel\", \"tijera\"]\n",
    "eleccion_computadora = random.choice(opciones)\n",
    "print(f\"La computadora elige: {eleccion_computadora}\")"
   ]
  },
  {
   "cell_type": "code",
   "execution_count": null,
   "id": "3ee6507f",
   "metadata": {},
   "outputs": [],
   "source": [
    "# Barajar una lista\n",
    "cartas = [\"As\", \"Rey\", \"Reina\", \"Jota\"]\n",
    "random.shuffle(cartas)\n",
    "print(f\"Cartas barajadas: {cartas}\")"
   ]
  },
  {
   "cell_type": "markdown",
   "id": "68ecb5ce",
   "metadata": {},
   "source": [
    "**3. La Biblioteca `datetime`**\n",
    "Nos permite trabajar con fechas y horas.\n",
    "\n",
    "---"
   ]
  },
  {
   "cell_type": "code",
   "execution_count": null,
   "id": "03945e6f",
   "metadata": {},
   "outputs": [],
   "source": [
    "import datetime\n",
    "\n",
    "# Obtener la fecha y hora actual\n",
    "ahora = datetime.datetime.now()\n",
    "print(f\"Fecha y hora actual: {ahora}\")"
   ]
  },
  {
   "cell_type": "code",
   "execution_count": null,
   "id": "ab51dd66",
   "metadata": {},
   "outputs": [],
   "source": [
    "# Crear una fecha específica\n",
    "fecha_evento = datetime.date(2025, 9, 18)\n",
    "print(f\"Fecha del evento: {fecha_evento}\")"
   ]
  },
  {
   "cell_type": "code",
   "execution_count": null,
   "id": "19870b6f",
   "metadata": {},
   "outputs": [],
   "source": [
    "# Formatear una fecha a un string más legible\n",
    "print(f\"Fecha formateada: {ahora.strftime('%A, %d de %B de %Y - %H:%M')}\")"
   ]
  },
  {
   "cell_type": "code",
   "execution_count": null,
   "id": "3bf83a49",
   "metadata": {},
   "outputs": [],
   "source": [
    "# Calcular la diferencia entre dos fechas\n",
    "diferencia = ahora.date() - fecha_evento\n",
    "print(f\"Días hasta el evento: {-diferencia.days}\")"
   ]
  },
  {
   "cell_type": "markdown",
   "id": "28ac3958",
   "metadata": {},
   "source": [
    "## ✏️ Ejercicios Adicionales\n",
    "\n",
    "---"
   ]
  },
  {
   "cell_type": "markdown",
   "id": "2aa96db8",
   "metadata": {},
   "source": [
    "**1. Calculadora de Círculo**\n",
    "Usa la biblioteca `math` para crear una función que reciba el radio de un círculo y devuelva una tupla con su área y su circunferencia. (Usa `math.pi`).\n",
    "\n",
    "---"
   ]
  },
  {
   "cell_type": "code",
   "execution_count": null,
   "id": "4982a902",
   "metadata": {},
   "outputs": [],
   "source": [
    "import math\n",
    "\n",
    "def calcular_circulo(radio: float) -> tuple[float, float]:\n",
    "    \"\"\"Calcula el área y la circunferencia de un círculo dado su radio.\n",
    "\n",
    "    Args:\n",
    "        radio (float): El radio del círculo.\n",
    "    \n",
    "    Returns:\n",
    "        tuple: Un tuple que contiene el área y la circunferencia del círculo.\n",
    "    \"\"\"\n",
    "    area = math.pi * (radio ** 2)\n",
    "    circunferencia = 2 * math.pi * radio\n",
    "    return (area, circunferencia)\n",
    "\n",
    "# Prueba\n",
    "radio_circulo = 5.0\n",
    "area_calc, circunf_calc = calcular_circulo(radio_circulo)\n",
    "print(f\"Para un círculo de radio {radio_circulo}:\")\n",
    "print(f\"  Área: {area_calc:.2f}\")\n",
    "print(f\"  Circunferencia: {circunf_calc:.2f}\")"
   ]
  },
  {
   "cell_type": "markdown",
   "id": "4b0acd18",
   "metadata": {},
   "source": [
    "**2. Generador de Contraseñas Simple**\n",
    "Usa las bibliotecas `random` y `string` para crear una función que genere una contraseña aleatoria de una longitud determinada.\n",
    "\n",
    "---"
   ]
  },
  {
   "cell_type": "code",
   "execution_count": null,
   "id": "d5c133f7",
   "metadata": {},
   "outputs": [],
   "source": [
    "import random\n",
    "import string\n",
    "\n",
    "def generar_contrasena(longitud: int) -> str:\n",
    "    \"\"\"Genera una contraseña aleatoria con letras, números y símbolos.\n",
    "\n",
    "    Args:\n",
    "        longitud (int): La longitud deseada de la contraseña.\n",
    "\n",
    "    Returns:\n",
    "        str: Una contraseña aleatoria de la longitud especificada.\n",
    "    \"\"\"\n",
    "    caracteres = string.ascii_letters + string.digits + string.punctuation\n",
    "    contrasena = ''.join(random.choice(caracteres) for i in range(longitud))\n",
    "    return contrasena\n",
    "\n",
    "# Prueba\n",
    "longitud_deseada = 12\n",
    "nueva_contrasena = generar_contrasena(longitud_deseada)\n",
    "print(f\"Tu nueva contraseña de {longitud_deseada} caracteres es: {nueva_contrasena}\")"
   ]
  },
  {
   "cell_type": "markdown",
   "id": "c8f60057",
   "metadata": {},
   "source": [
    "**3. ¿Qué día de la semana naciste?**\n",
    "Usa la biblioteca `datetime` para averiguar qué día de la semana fue una fecha específica (por ejemplo, tu fecha de nacimiento).\n",
    "\n",
    "---"
   ]
  },
  {
   "cell_type": "code",
   "execution_count": null,
   "id": "73ec1570",
   "metadata": {},
   "outputs": [],
   "source": [
    "import datetime\n",
    "\n",
    "def dia_de_la_semana_nacimiento(anio: int, mes: int, dia: int) -> str:\n",
    "    \"\"\"Determina el día de la semana en que nació una persona.\n",
    "\n",
    "    Args:\n",
    "        anio (int): El año de nacimiento.\n",
    "        mes (int): El mes de nacimiento.\n",
    "        dia (int): El día de nacimiento.\n",
    "\n",
    "    Returns:\n",
    "        str: El nombre del día de la semana en que nació.\n",
    "    \"\"\"\n",
    "    try:\n",
    "        fecha = datetime.date(anio, mes, dia)\n",
    "        # %A devuelve el nombre completo del día de la semana\n",
    "        return fecha.strftime(\"%A\")\n",
    "    except ValueError:\n",
    "        return \"Fecha no válida.\"\n",
    "\n",
    "# Prueba\n",
    "dia_semana = dia_de_la_semana_nacimiento(2000, 1, 15)\n",
    "print(f\"El 15 de enero de 2000 fue un: {dia_semana}\")"
   ]
  },
  {
   "cell_type": "markdown",
   "id": "1d1788fe",
   "metadata": {},
   "source": [
    "## 🎯 Resumen y Ejercicios de Repaso\n",
    "\n",
    "¡Excelente trabajo! Has completado el recorrido por los conceptos clave sobre **el uso de bibliotecas en Python**.\n",
    "\n",
    "### 📚 Lo que hemos aprendido:\n",
    "\n",
    "1. **Concepto de biblioteca:**\n",
    "   - Qué es una biblioteca y por qué es útil en programación.\n",
    "   - Diferencia entre la biblioteca estándar y bibliotecas de terceros.\n",
    "\n",
    "2. **Exploración de documentación:**\n",
    "   - Cómo buscar y leer la documentación oficial de una biblioteca.\n",
    "   - Uso de la función `help()` y la ayuda contextual en el editor.\n",
    "\n",
    "3. **Importación de bibliotecas:**\n",
    "   - Diferentes formas de importar (`import`, `from ... import`, `as`).\n",
    "   - Ventajas y desventajas de cada forma.\n",
    "\n",
    "---"
   ]
  },
  {
   "cell_type": "markdown",
   "id": "6c0dccae",
   "metadata": {},
   "source": [
    "## 📝 Ejercicios de Práctica\n",
    "\n",
    "¡Es hora de poner en práctica lo aprendido\\!\n",
    "\n",
    "-----\n",
    "\n",
    "### 1️⃣ **Ejercicios: Concepto de bibliotecas**\n",
    "\n",
    "**Ejercicio 1.1 - Identificación de bibliotecas estándar**\n",
    "\n",
    "```python\n",
    "# Pídele al usuario que ingrese el nombre de un módulo que considere parte de la biblioteca estándar de Python.\n",
    "# Si el módulo es `math`, `os` o `random`, imprime un mensaje que confirme que es parte de la biblioteca estándar.\n",
    "# En caso contrario, imprime un mensaje que sugiera que podría ser una biblioteca de terceros o que no existe.\n",
    "```\n",
    "\n",
    "**Ejercicio 1.2 - Distinción de funcionalidades**\n",
    "\n",
    "```python\n",
    "# Crea un programa que importe la biblioteca `math` y la biblioteca `os`.\n",
    "# Usa una función de la biblioteca `math` para calcular la raíz cuadrada de un número ingresado por el usuario.\n",
    "# Usa una función de la biblioteca `os` para obtener el directorio de trabajo actual.\n",
    "# Imprime ambos resultados y explica brevemente la diferencia en las funcionalidades que ofrecen estas dos bibliotecas.\n",
    "```\n",
    "\n",
    "-----\n",
    "\n",
    "### 2️⃣ **Ejercicios: Exploración de documentación de bibliotecas**\n",
    "\n",
    "**Ejercicio 2.1 - Búsqueda de función específica**\n",
    "\n",
    "```python\n",
    "# El usuario necesita generar un número entero aleatorio dentro de un rango específico.\n",
    "# Su tarea es simular la búsqueda en la documentación de la biblioteca `random`.\n",
    "# Describe qué función de `random` usarías para este propósito y cómo la usarías, incluyendo un ejemplo de código.\n",
    "# Pista: No necesitas importar la biblioteca, solo describe el proceso de cómo encontrarías la solución.\n",
    "```\n",
    "\n",
    "**Ejercicio 2.2 - Comprensión de un módulo**\n",
    "\n",
    "```python\n",
    "# El módulo `datetime` de Python es muy útil para trabajar con fechas y horas.\n",
    "# Imagina que estás revisando su documentación.\n",
    "# Describe tres clases o funciones clave que encontrarías en este módulo y explica brevemente para qué se usa cada una, basándote en lo que aprenderías de su documentación.\n",
    "# Por ejemplo: `datetime.datetime` es una clase que representa una combinación de fecha y hora.\n",
    "```\n",
    "\n",
    "-----\n",
    "\n",
    "### 3️⃣ **Ejercicios: Importación de bibliotecas a un programa de elaboración propia**\n",
    "\n",
    "**Ejercicio 3.1 - Importación completa y uso**\n",
    "\n",
    "```python\n",
    "# Escribe un programa que importe completamente la biblioteca `math`.\n",
    "# Pídele al usuario que ingrese el radio de un círculo.\n",
    "# Usa la constante `math.pi` y la función `math.pow` para calcular y mostrar el área del círculo.\n",
    "# Recuerda la fórmula del área: `Área = pi * radio^2`.\n",
    "```\n",
    "\n",
    "**Ejercicio 3.2 - Importación parcial y alias**\n",
    "\n",
    "```python\n",
    "# Escribe un programa que importe solo la función `randint` del módulo `random` y le dé un alias (`rnd_int`).\n",
    "# El programa debe generar un número entero aleatorio entre 1 y 100, usando el alias `rnd_int`.\n",
    "# Pídele al usuario que adivine el número.\n",
    "# Compara la respuesta del usuario con el número generado y dile si adivinó correctamente o no.\n",
    "```\n",
    "\n",
    "-----\n",
    "\n",
    "### 4️⃣ **Ejercicios: Ejercicios integrados**\n",
    "\n",
    "**Ejercicio 4.1 - Conversor de unidades de temperatura**\n",
    "\n",
    "```python\n",
    "# Crea un programa que use la biblioteca `math` para convertir temperaturas de Celsius a Fahrenheit.\n",
    "# El programa debe pedirle al usuario que ingrese una temperatura en grados Celsius.\n",
    "# Usa la fórmula de conversión: `Fahrenheit = (Celsius * 9/5) + 32`.\n",
    "# Pídele al usuario un número de precisión y usa la función `math.ceil` o `math.floor` para redondear el resultado a ese valor.\n",
    "# Imprime el resultado final.\n",
    "```\n",
    "\n",
    "-----\n",
    "\n",
    "### 5️⃣ **Ejercicios: Ejercicios de Repaso**\n",
    "\n",
    "**Ejercicio 5.1 - Análisis de datos con `csv`**\n",
    "\n",
    "```python\n",
    "# Usa la biblioteca `csv` para leer y procesar un archivo de datos.\n",
    "# (Puedes crear un archivo de texto llamado `ventas.csv` con este contenido):\n",
    "# producto,cantidad\n",
    "# manzana,10\n",
    "# banana,15\n",
    "# manzana,5\n",
    "# pera,20\n",
    "\n",
    "# Escribe un programa que lea este archivo CSV y calcule el total de ventas de cada producto.\n",
    "# Usa un diccionario para almacenar los totales (por ejemplo: `{'manzana': 15, 'banana': 15, 'pera': 20}`).\n",
    "# Imprime el diccionario final.\n",
    "```\n",
    "\n",
    "-----\n",
    "\n",
    "### 📋 **Instrucciones para resolver:**\n",
    "\n",
    "1.  Copia cada ejercicio en una nueva celda de código.\n",
    "2.  Resuelve paso a paso y comenta tu razonamiento.\n",
    "3.  Ejecuta para verificar tus respuestas.\n",
    "4.  Experimenta modificando los valores.\n",
    "5.  Pregunta si tienes dudas. Hazlo pensando en algoritmos."
   ]
  }
 ],
 "metadata": {
  "language_info": {
   "name": "python"
  }
 },
 "nbformat": 4,
 "nbformat_minor": 5
}
