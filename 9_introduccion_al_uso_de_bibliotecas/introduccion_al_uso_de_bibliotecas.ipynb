{
 "cells": [
  {
   "cell_type": "markdown",
   "id": "4901ed24",
   "metadata": {},
   "source": [
    "# Principios de Informática: Introducción al Uso de Bibliotecas 📚\n",
    "### Ampliando los superpoderes con código preexistente\n",
    "\n",
    "**Curso:** Principios de Informática\n",
    "\n",
    "[![Open In Colab](https://colab.research.google.com/assets/colab-badge.svg)](https://githubtocolab.com/EnriqueVilchezL/principios_de_info/blob/main/9_introduccion_al_uso_de_bibliotecas/introduccion_al_uso_de_bibliotecas.ipynb)\n",
    "\n",
    "---\n",
    "\n",
    "## 🗺️ Objetivos y contenidos\n",
    "\n",
    "Este notebook es una guía interactiva para comprender qué es una biblioteca y por qué son útiles en programación, importar y utilizar bibliotecas estándar de Python como `math`, `random` y `datetime`, consultar la documentación de una biblioteca y sus funciones, usar diferentes formas de importación (`import`, `from ... import`, `as`), aplicar funciones y métodos de bibliotecas en ejemplos prácticos.\n",
    "\n",
    "> \"Detectar y corregir errores es una habilidad esencial para cualquier programador.\"\n",
    "\n",
    "**Importancia:**\n",
    "- Las bibliotecas permiten reutilizar código probado y eficiente.\n",
    "- Facilitan la resolución de problemas complejos con menos esfuerzo.\n",
    "- Amplían las capacidades de Python para tareas especializadas.\n",
    "\n",
    "**Contenidos:**\n",
    "1. Concepto de bibliotecas\n",
    "2. Exploración de documentación de bibliotecas\n",
    "3. Importación de bibliotecas"
   ]
  },
  {
   "cell_type": "markdown",
   "id": "abdb8ed9",
   "metadata": {},
   "source": [
    "---\n",
    "\n",
    "## 1. Concepto de bibliotecas\n",
    "\n",
    "---\n",
    "\n",
    "### ¿Qué es una Biblioteca? 🏛️\n",
    "\n",
    "Imagine que quiere construir un carro y, en lugar de fabricar cada tornillo, cada rueda y cada pieza del motor desde cero, va a una tienda de auto-repuestos y compra esas piezas ya hechas por expertos. Se ahorraría una cantidad increíble de tiempo y esfuerzo, y probablemente el resultado sería más fiable.\n",
    "\n",
    "En programación, una **biblioteca** (o *library*) es exactamente eso: una colección de código preescrito (funciones, clases, etc.) que podemos **importar** y usar en nuestros propios programas. Nos permite no tener que \"reinventar la rueda\".\n",
    "\n",
    "Python tiene una vasta **Biblioteca Estándar** que viene incluida por defecto, y un ecosistema gigantesco de bibliotecas de terceros (como NumPy, Pandas, Matplotlib) que podemos instalar para realizar tareas especializadas.\n",
    "\n",
    "La sintaxis para acceder a una biblioteca es:\n",
    "\n",
    "```python\n",
    "import [nombre_de_biblioteca]\n",
    "```\n",
    "\n",
    "---"
   ]
  },
  {
   "cell_type": "code",
   "execution_count": null,
   "id": "f648c781",
   "metadata": {},
   "outputs": [],
   "source": [
    "import numpy\n",
    "import pandas\n",
    "import matplotlib\n",
    "import random\n",
    "import math"
   ]
  },
  {
   "cell_type": "markdown",
   "id": "ad8a56d7",
   "metadata": {},
   "source": [
    "### ¿Por qué usar bibliotecas?\n",
    "* **Ahorro de Tiempo**: No se tiene que escribir código para tareas comunes.\n",
    "* **Fiabilidad**: El código de las bibliotecas populares ha sido probado por miles de desarrolladores.\n",
    "* **Rendimiento**: Muchas bibliotecas (especialmente las científicas) están altamente optimizadas.\n",
    "* **Nuevas Capacidades**: Dan acceso a funcionalidades que serían muy complejas de programar desde cero (ej. gráficos, machine learning, etc.)."
   ]
  },
  {
   "cell_type": "markdown",
   "id": "a7ef4aa8",
   "metadata": {},
   "source": [
    "---\n",
    "\n",
    "## 2. Exploración de documentación de bibliotecas\n",
    "\n",
    "---\n",
    "\n",
    "Cada biblioteca tiene su propio \"manual de usuario\" llamado **documentación**. Aprender a leer la documentación es una de las habilidades más importantes de un programador.\n",
    "\n",
    "La documentación indica:\n",
    "* ¿Qué hace la biblioteca?\n",
    "* ¿Qué funciones y clases contiene?\n",
    "* ¿Cómo se usan esas funciones (qué parámetros aceptan y qué devuelven)?\n",
    "* Ejemplos de uso.\n",
    "\n",
    "La documentación oficial de Python es un excelente lugar para empezar: [docs.python.org](https://docs.python.org/3/)\n",
    "\n",
    "---"
   ]
  },
  {
   "cell_type": "markdown",
   "id": "4e995fb7",
   "metadata": {},
   "source": [
    "#### 🧮 Ejercicio: Explorar la Biblioteca `math`\n",
    "\n",
    "1.  Vaya a la documentación de la biblioteca `math` de Python: [link](https://docs.python.org/3/library/math.html).\n",
    "2.  Busque cómo se llama la función para calcular la raíz cuadrada.\n",
    "3.  Busque el valor de la constante matemática Pi (`π`).\n",
    "\n",
    "---"
   ]
  },
  {
   "cell_type": "code",
   "execution_count": null,
   "id": "fd2a2916",
   "metadata": {},
   "outputs": [],
   "source": [
    "# Después de explorar la documentación, se sabe que:\n",
    "# - La función para la raíz cuadrada es sqrt()\n",
    "# - La constante Pi es math.pi\n",
    "\n",
    "# Para usarla, primero hay que importarla\n",
    "import math\n",
    "\n",
    "numero = 81\n",
    "raiz_cuadrada = math.sqrt(numero)\n",
    "pi_valor = math.pi\n",
    "\n",
    "print(f\"La raíz cuadrada de {numero} es: {raiz_cuadrada}\")\n",
    "print(f\"El valor de Pi es aproximadamente: {pi_valor}\")"
   ]
  },
  {
   "cell_type": "markdown",
   "id": "983a703f",
   "metadata": {},
   "source": [
    "### La función `help()`\n",
    "\n",
    "Si se quiere ver la documentación desde python se puede usar la función `help()`, que imprime la información de la biblioteca o función que se busca comprender.\n",
    "\n",
    "---"
   ]
  },
  {
   "cell_type": "code",
   "execution_count": null,
   "id": "9a153c0d",
   "metadata": {},
   "outputs": [],
   "source": [
    "import math\n",
    "help(math)  # Muestra la documentación de la biblioteca math"
   ]
  },
  {
   "cell_type": "code",
   "execution_count": null,
   "id": "6281de2e",
   "metadata": {},
   "outputs": [],
   "source": [
    "help(math.sqrt)  # Muestra la documentación de la función sqrt"
   ]
  },
  {
   "cell_type": "markdown",
   "id": "9272c68a",
   "metadata": {},
   "source": [
    "### Cursor\n",
    "\n",
    "Algunos entornos de progamación permiten observar parte de la documentación de las funciones o bibliotecas poniendo el cursor sobre ellas.\n",
    "\n",
    "Por ejemplo, poniendo el cursor sobre `math` posiblemente se vea un mensaje como:\n",
    "\n",
    "```python\n",
    "module: math\n",
    "This module provides access to the mathematical functions\n",
    "defined by the C standard.\n",
    "```\n",
    "\n",
    "---"
   ]
  },
  {
   "cell_type": "markdown",
   "id": "3fd05aee",
   "metadata": {},
   "source": [
    "---\n",
    "\n",
    "## 3. Importación de bibliotecas\n",
    "\n",
    "---\n",
    "\n",
    "Para usar una biblioteca en el código, primero hay que **importarla**. Hay varias formas de hacerlo.\n",
    "\n",
    "---"
   ]
  },
  {
   "cell_type": "markdown",
   "id": "61141ab8",
   "metadata": {},
   "source": [
    "### `import biblioteca`\n",
    "\n",
    "Esta es la forma más común para la mayoría de bibliotecas. Importa la biblioteca completa y, para usar sus funciones, hay usar el nombre de la biblioteca como prefijo.\n",
    "\n",
    "---"
   ]
  },
  {
   "cell_type": "code",
   "execution_count": null,
   "id": "cd89e548",
   "metadata": {},
   "outputs": [],
   "source": [
    "import math\n",
    "\n",
    "math.sqrt(25)  # Calcula la raíz cuadrada de 25"
   ]
  },
  {
   "cell_type": "markdown",
   "id": "ea7cb234",
   "metadata": {},
   "source": [
    "### `from biblioteca import funcion`\n",
    "\n",
    "Importa solo una función o componente específico de la biblioteca. Esto permite llamarla directamente sin el prefijo.\n",
    "\n",
    "---"
   ]
  },
  {
   "cell_type": "code",
   "execution_count": null,
   "id": "f0d5a9ca",
   "metadata": {},
   "outputs": [],
   "source": [
    "from math import sqrt\n",
    "\n",
    "sqrt(25)  # Calcula la raíz cuadrada de 25 sin usar el prefijo math."
   ]
  },
  {
   "cell_type": "markdown",
   "id": "8a12c9e9",
   "metadata": {},
   "source": [
    "### `import biblioteca as alias`\n",
    "\n",
    "A veces, los nombres de las bibliotecas son muy largos. Se les puede dar un \"apodo\" o **alias** para escribir menos.\n",
    "\n",
    "---"
   ]
  },
  {
   "cell_type": "code",
   "execution_count": null,
   "id": "d4e578e0",
   "metadata": {},
   "outputs": [],
   "source": [
    "import math as ma\n",
    "\n",
    "ma.sqrt(25)  # Calcula la raíz cuadrada de 25 usando el alias ma"
   ]
  },
  {
   "cell_type": "markdown",
   "id": "da9dc22a",
   "metadata": {},
   "source": [
    "### Ejemplos con Bibliotecas Comunes\n",
    "\n",
    "A continuación, se exploran tres bibliotecas muy útiles de la Biblioteca Estándar de Python.\n",
    "\n",
    "---"
   ]
  },
  {
   "cell_type": "markdown",
   "id": "b969e014",
   "metadata": {},
   "source": [
    "**1. La Biblioteca `math`**\n",
    "\n",
    "Proporciona acceso a funciones matemáticas.\n",
    "\n",
    "---"
   ]
  },
  {
   "cell_type": "code",
   "execution_count": null,
   "id": "e67e695b",
   "metadata": {},
   "outputs": [],
   "source": [
    "import math\n",
    "\n",
    "# Funciones trigonométricas (trabajan en radianes)\n",
    "angulo_rad = math.pi / 2 # 90 grados\n",
    "print(f\"Seno de 90°: {math.sin(angulo_rad)}\")"
   ]
  },
  {
   "cell_type": "code",
   "execution_count": null,
   "id": "9294a951",
   "metadata": {},
   "outputs": [],
   "source": [
    "# Factorial\n",
    "print(f\"Factorial de 5 (5!): {math.factorial(5)}\")"
   ]
  },
  {
   "cell_type": "code",
   "execution_count": null,
   "id": "ff963280",
   "metadata": {},
   "outputs": [],
   "source": [
    "# Potencias y logaritmos\n",
    "print(f\"2 elevado a la 10: {math.pow(2, 10)}\")\n",
    "print(f\"Logaritmo natural de 10: {math.log(10)}\")"
   ]
  },
  {
   "cell_type": "markdown",
   "id": "f7b98f7e",
   "metadata": {},
   "source": [
    "#### 🥇 Ejercicio: Optimizando primos\n",
    "\n",
    "En ejercicios anteriores, se vio cómo utilizar ciclos para determinar si un número es primo. Ahora se va a optimizar ese proceso utilizando la biblioteca `math`.\n",
    "\n",
    "Enunciado:\n",
    "1.\tSolicite al usuario un número entero positivo n.\n",
    "2.\tEscriba un programa que determine si n es primo de manera eficiente.\n",
    "- En lugar de revisar todos los números hasta n-1, solo revise hasta la raíz cuadrada de n usando math.isqrt(n).\n",
    "3.\tEl programa debe mostrar un mensaje indicando si el número es primo o no primo.\n",
    "\n",
    "---"
   ]
  },
  {
   "cell_type": "code",
   "execution_count": null,
   "id": "c9e73e7f",
   "metadata": {},
   "outputs": [],
   "source": [
    "import math\n",
    "\n",
    "def es_primo(numero: int) -> bool:\n",
    "    \"\"\"\n",
    "    Verifica si un número es primo.\n",
    "\n",
    "    Args:\n",
    "        numero (int): El número a verificar.\n",
    "\n",
    "    Returns:\n",
    "        bool: True si el número es primo, False en caso contrario.\n",
    "    \"\"\"\n",
    "    if numero <= 1:\n",
    "        return False\n",
    "\n",
    "    for i in range(2, math.isqrt(numero) + 1):\n",
    "        if numero % i == 0:\n",
    "            return False\n",
    "    \n",
    "    return True\n",
    "\n",
    "n = int(input(\"Ingrese un número para verificar si es primo: \"))\n",
    "if es_primo(n):\n",
    "    print(f\"{n} es un número primo.\")\n",
    "else:\n",
    "    print(f\"{n} no es un número primo.\")"
   ]
  },
  {
   "cell_type": "markdown",
   "id": "e3e3a02f",
   "metadata": {},
   "source": [
    "**2. La Biblioteca `random`**\n",
    "\n",
    "Permite generar números pseudo-aleatorios y realizar selecciones al azar.\n",
    "\n",
    "---"
   ]
  },
  {
   "cell_type": "code",
   "execution_count": null,
   "id": "db141dcc",
   "metadata": {},
   "outputs": [],
   "source": [
    "import random\n",
    "\n",
    "# Generar un número entero aleatorio en un rango\n",
    "dado = random.randint(1, 6)\n",
    "print(f\"Lanzamiento de un dado: {dado}\")"
   ]
  },
  {
   "cell_type": "code",
   "execution_count": null,
   "id": "98961091",
   "metadata": {},
   "outputs": [],
   "source": [
    "# Elegir un elemento al azar de una lista\n",
    "opciones = [\"piedra\", \"papel\", \"tijera\"]\n",
    "eleccion_computadora = random.choice(opciones)\n",
    "print(f\"La computadora elige: {eleccion_computadora}\")"
   ]
  },
  {
   "cell_type": "code",
   "execution_count": null,
   "id": "3ee6507f",
   "metadata": {},
   "outputs": [],
   "source": [
    "# Barajar una lista\n",
    "cartas = [\"As\", \"Rey\", \"Reina\", \"Jota\"]\n",
    "random.shuffle(cartas)\n",
    "print(f\"Cartas barajadas: {cartas}\")"
   ]
  },
  {
   "cell_type": "markdown",
   "id": "47ff5166",
   "metadata": {},
   "source": [
    "#### 🍀 Ejercicio: Lotería\n",
    "\n",
    "Escriba un programa en Python que simule un sorteo de lotería. El programa debe generar un número aleatorio del 0 al 99 y una serie aleatoria del 0 al 999. Luego, pida al usuario que ingrese su número y su serie.\n",
    "\n",
    "El programa comparará los valores ingresados con los sorteados y mostrará un mensaje indicando si acertó el número, la serie o ambos. Por ejemplo:\n",
    "- Si acierta solo el número, mostrar: “¡Acertó el número!”\n",
    "- Si acierta solo la serie: “¡Acertó la serie!”\n",
    "- Si acierta ambos: “¡Felicidades, acertó el premio mayor!”.\n",
    "\n",
    "Para generar los valores aleatorios, use la biblioteca random, por ejemplo random.randint(0,99) para el número y random.randint(0,999) para la serie.\n",
    "\n",
    "---"
   ]
  },
  {
   "cell_type": "code",
   "execution_count": null,
   "id": "645a9a7e",
   "metadata": {},
   "outputs": [],
   "source": [
    "import random\n",
    "\n",
    "# Generar número y serie aleatorios\n",
    "numero_sorteado = random.randint(0, 99)\n",
    "serie_sorteada = random.randint(0, 999)\n",
    "\n",
    "# Pedir al usuario su número y serie\n",
    "numero_usuario = int(input(\"Ingrese su número (0-99): \"))\n",
    "serie_usuario = int(input(\"Ingrese su serie (0-999): \"))\n",
    "\n",
    "# Formatear con ceros a la izquierda\n",
    "numero_sorteado_str = f\"{numero_sorteado:02d}\"\n",
    "serie_sorteada_str = f\"{serie_sorteada:03d}\"\n",
    "numero_usuario_str = f\"{numero_usuario:02d}\"\n",
    "serie_usuario_str = f\"{serie_usuario:03d}\"\n",
    "\n",
    "# Mostrar resultados\n",
    "print(f\"\\nNúmero sorteado: {numero_sorteado_str}\")\n",
    "print(f\"Serie sorteada: {serie_sorteada_str}\\n\")\n",
    "\n",
    "# Comprobar aciertos\n",
    "if numero_usuario == numero_sorteado and serie_usuario == serie_sorteada:\n",
    "    print(\"¡Felicidades, acertó el premio mayor!\")\n",
    "elif numero_usuario == numero_sorteado:\n",
    "    print(\"¡Acertó el número!\")\n",
    "elif serie_usuario == serie_sorteada:\n",
    "    print(\"¡Acertó la serie!\")\n",
    "else:\n",
    "    print(\"Lo siento, no acertó ninguno.\")"
   ]
  },
  {
   "cell_type": "markdown",
   "id": "68ecb5ce",
   "metadata": {},
   "source": [
    "**3. La Biblioteca `datetime`**\n",
    "\n",
    "Permite trabajar con fechas y horas.\n",
    "\n",
    "---"
   ]
  },
  {
   "cell_type": "code",
   "execution_count": null,
   "id": "03945e6f",
   "metadata": {},
   "outputs": [],
   "source": [
    "import datetime\n",
    "\n",
    "# Obtener la fecha y hora actual\n",
    "ahora = datetime.datetime.now()\n",
    "print(f\"Fecha y hora actual: {ahora}\")"
   ]
  },
  {
   "cell_type": "code",
   "execution_count": null,
   "id": "ab51dd66",
   "metadata": {},
   "outputs": [],
   "source": [
    "# Crear una fecha específica\n",
    "fecha_evento = datetime.date(2025, 9, 18)\n",
    "print(f\"Fecha del evento: {fecha_evento}\")"
   ]
  },
  {
   "cell_type": "code",
   "execution_count": null,
   "id": "19870b6f",
   "metadata": {},
   "outputs": [],
   "source": [
    "# Formatear una fecha a un string más legible\n",
    "print(f\"Fecha formateada: {ahora.strftime('%A, %d de %B de %Y - %H:%M')}\")"
   ]
  },
  {
   "cell_type": "code",
   "execution_count": null,
   "id": "3bf83a49",
   "metadata": {},
   "outputs": [],
   "source": [
    "# Calcular la diferencia entre dos fechas\n",
    "diferencia = ahora.date() - fecha_evento\n",
    "print(f\"Días hasta el evento: {-diferencia.days}\")"
   ]
  },
  {
   "cell_type": "markdown",
   "id": "1d0496e5",
   "metadata": {},
   "source": [
    "#### 👵 Ejercicio: Edad\n",
    "\n",
    "Escriba un programa en Python que calcule la edad de una persona solo en años completos. El programa debe pedir al usuario que ingrese su fecha de nacimiento en formato `DD/MM/AAAA`y luego mostrar cuántos años tiene hasta la fecha de hoy.\n",
    "\n",
    "El cálculo debe considerar si la persona ya cumplió años este año o no, para que la edad refleje únicamente los años completos vividos.\n",
    "\n",
    "Use la biblioteca `datetime` para convertir la cadena de entrada en un objeto de fecha y obtener la fecha actual.\n",
    "\n",
    "---"
   ]
  },
  {
   "cell_type": "code",
   "execution_count": null,
   "id": "497f72fc",
   "metadata": {},
   "outputs": [],
   "source": [
    "from datetime import datetime, date\n",
    "\n",
    "def calcular_edad(fecha_nac_str: str) -> int:\n",
    "    \"\"\"\n",
    "    Calcula la edad en años a partir de la fecha de nacimiento proporcionada.\n",
    "\n",
    "    Args:\n",
    "        fecha_nac_str (str): La fecha de nacimiento en formato \"DD/MM/AAAA\".\n",
    "\n",
    "    Returns:\n",
    "        int: La edad en años.\n",
    "    \"\"\"\n",
    "    fecha_nac = datetime.strptime(fecha_nac_str, \"%d/%m/%Y\").date()\n",
    "    hoy = date.today()\n",
    "    años = hoy.year - fecha_nac.year\n",
    "    if (hoy.month, hoy.day) < (fecha_nac.month, fecha_nac.day):\n",
    "        años -= 1\n",
    "    return años\n",
    "\n",
    "fecha_usuario = input(\"Ingrese su fecha de nacimiento (DD/MM/AAAA): \")\n",
    "años = calcular_edad(fecha_usuario)\n",
    "print(f\"Usted tiene {años} años.\")"
   ]
  },
  {
   "cell_type": "markdown",
   "id": "6aa8ca1e",
   "metadata": {},
   "source": [
    "# 📚 Otras bibliotecas comunes de Python\n",
    "\n",
    "---\n",
    "\n",
    "## 🔢 Matemática y Ciencia\n",
    "\n",
    "| Biblioteca       | Propósito                                                                 | Documentación                                                                 |\n",
    "|------------------|---------------------------------------------------------------------------|-------------------------------------------------------------------------------|\n",
    "| `math`           | Funciones matemáticas básicas y avanzadas                                 | [docs.python.org](https://docs.python.org/3/library/math.html)                |\n",
    "| `random`         | Generación de números pseudoaleatorios y selección aleatoria               | [docs.python.org](https://docs.python.org/3/library/random.html)              |\n",
    "| `statistics`     | Funciones estadísticas básicas para datos numéricos                       | [docs.python.org](https://docs.python.org/3/library/statistics.html)         |\n",
    "| `numpy`          | Álgebra lineal, matrices y operaciones vectorizadas                       | [numpy.org](https://numpy.org/doc/)                                           |\n",
    "| `scipy`          | Herramientas científicas avanzadas, incluyendo estadísticas y optimización | [docs.scipy.org](https://docs.scipy.org/doc/scipy/)                           |\n",
    "\n",
    "\n",
    "## 🕒 Fechas y Tiempo\n",
    "\n",
    "| Biblioteca       | Propósito                                                                 | Documentación                                                                 |\n",
    "|------------------|---------------------------------------------------------------------------|-------------------------------------------------------------------------------|\n",
    "| `datetime`       | Clases para manipular fechas y horas                                     | [docs.python.org](https://docs.python.org/3/library/datetime.html)            |\n",
    "| `time`           | Funciones relacionadas con el tiempo y conversiones                       | [docs.python.org](https://docs.python.org/3/library/time.html)                |\n",
    "| `dateutil`       | Extensiones poderosas para el módulo `datetime`                           | [dateutil.readthedocs.io](https://dateutil.readthedocs.io/)                   |\n",
    "\n",
    "\n",
    "## 📊 Manejo de Datos\n",
    "\n",
    "| Biblioteca       | Propósito                                                                 | Documentación                                                                 |\n",
    "|------------------|---------------------------------------------------------------------------|-------------------------------------------------------------------------------|\n",
    "| `pandas`         | Análisis y manipulación de datos tabulares                                | [pandas.pydata.org](https://pandas.pydata.org/pandas-docs/stable/)            |\n",
    "| `csv`            | Lectura y escritura de archivos CSV                                       | [docs.python.org](https://docs.python.org/3/library/csv.html)                 |\n",
    "| `json`           | Codificación y decodificación de datos JSON                               | [docs.python.org](https://docs.python.org/3/library/json.html)                |\n",
    "\n",
    "\n",
    "## 🌐 Web y Redes\n",
    "\n",
    "| Biblioteca       | Propósito                                                                 | Documentación                                                                 |\n",
    "|------------------|---------------------------------------------------------------------------|-------------------------------------------------------------------------------|\n",
    "| `requests`       | Realizar peticiones HTTP de manera sencilla                              | [requests.readthedocs.io](https://requests.readthedocs.io/)                   |\n",
    "| `BeautifulSoup`  | Extracción de datos de archivos HTML y XML                               | [beautiful-soup-4.readthedocs.io](https://beautiful-soup-4.readthedocs.io/)   |\n",
    "\n",
    "\n",
    "## 📈 Visualización\n",
    "\n",
    "| Biblioteca       | Propósito                                                                 | Documentación                                                                 |\n",
    "|------------------|---------------------------------------------------------------------------|-------------------------------------------------------------------------------|\n",
    "| `matplotlib`     | Creación de gráficos estáticos en 2D                                      | [matplotlib.org](https://matplotlib.org/stable/contents.html)                 |\n",
    "| `seaborn`        | Visualización estadística basada en `matplotlib`                          | [seaborn.pydata.org](https://seaborn.pydata.org/)                             |\n",
    "| `plotly`         | Creación de gráficos interactivos                                         | [plotly.com](https://plotly.com/python/)                                      |\n",
    "\n",
    "\n",
    "## ⚙️ Sistema y Utilidades\n",
    "\n",
    "| Biblioteca       | Propósito                                                                 | Documentación                                                                 |\n",
    "|------------------|---------------------------------------------------------------------------|-------------------------------------------------------------------------------|\n",
    "| `os`             | Interacción con el sistema operativo, manejo de archivos y directorios    | [docs.python.org](https://docs.python.org/3/library/os.html)                  |\n",
    "| `sys`            | Acceso a parámetros y funciones del intérprete de Python                   | [docs.python.org](https://docs.python.org/3/library/sys.html)                 |\n",
    "| `re`             | Expresiones regulares para búsqueda y manipulación de texto               | [docs.python.org](https://docs.python.org/3/library/re.html)                  |"
   ]
  },
  {
   "cell_type": "markdown",
   "id": "28ac3958",
   "metadata": {},
   "source": [
    "## ✏️ Ejercicios Adicionales\n",
    "\n",
    "---"
   ]
  },
  {
   "cell_type": "markdown",
   "id": "2aa96db8",
   "metadata": {},
   "source": [
    "**1. Calculadora de Círculo**\n",
    "\n",
    "Use la biblioteca `math` para crear una función que reciba el radio de un círculo y devuelva una tupla con su área y su circunferencia. (Use `math.pi`).\n",
    "\n",
    "---"
   ]
  },
  {
   "cell_type": "code",
   "execution_count": null,
   "id": "4982a902",
   "metadata": {},
   "outputs": [],
   "source": [
    "import math\n",
    "\n",
    "def calcular_circulo(radio: float) -> tuple[float, float]:\n",
    "    \"\"\"Calcula el área y la circunferencia de un círculo dado su radio.\n",
    "\n",
    "    Args:\n",
    "        radio (float): El radio del círculo.\n",
    "    \n",
    "    Returns:\n",
    "        tuple: Un tuple que contiene el área y la circunferencia del círculo.\n",
    "    \"\"\"\n",
    "    area = math.pi * (radio ** 2)\n",
    "    circunferencia = 2 * math.pi * radio\n",
    "    return (area, circunferencia)\n",
    "\n",
    "# Prueba\n",
    "radio_circulo = 5.0\n",
    "area_calc, circunf_calc = calcular_circulo(radio_circulo)\n",
    "print(f\"Para un círculo de radio {radio_circulo}:\")\n",
    "print(f\"  Área: {area_calc:.2f}\")\n",
    "print(f\"  Circunferencia: {circunf_calc:.2f}\")"
   ]
  },
  {
   "cell_type": "markdown",
   "id": "4b0acd18",
   "metadata": {},
   "source": [
    "**2. Generador de Contraseñas Simple**\n",
    "\n",
    "Use las bibliotecas `random` y `string` para crear una función que genere una contraseña aleatoria de una longitud determinada.\n",
    "\n",
    "---"
   ]
  },
  {
   "cell_type": "code",
   "execution_count": null,
   "id": "d5c133f7",
   "metadata": {},
   "outputs": [],
   "source": [
    "import random\n",
    "import string\n",
    "\n",
    "def generar_contrasena(longitud: int) -> str:\n",
    "    \"\"\"Genera una contraseña aleatoria con letras, números y símbolos.\n",
    "\n",
    "    Args:\n",
    "        longitud (int): La longitud deseada de la contraseña.\n",
    "\n",
    "    Returns:\n",
    "        str: Una contraseña aleatoria de la longitud especificada.\n",
    "    \"\"\"\n",
    "    caracteres = string.ascii_letters + string.digits + string.punctuation\n",
    "    contrasena = ''.join(random.choice(caracteres) for i in range(longitud))\n",
    "    return contrasena\n",
    "\n",
    "# Prueba\n",
    "longitud_deseada = 12\n",
    "nueva_contrasena = generar_contrasena(longitud_deseada)\n",
    "print(f\"Tu nueva contraseña de {longitud_deseada} caracteres es: {nueva_contrasena}\")"
   ]
  },
  {
   "cell_type": "markdown",
   "id": "c8f60057",
   "metadata": {},
   "source": [
    "**3. ¿Qué día de la semana naciste?**\n",
    "\n",
    "Use la biblioteca `datetime` para averiguar qué día de la semana fue una fecha específica (por ejemplo, su fecha de nacimiento).\n",
    "\n",
    "---"
   ]
  },
  {
   "cell_type": "code",
   "execution_count": null,
   "id": "73ec1570",
   "metadata": {},
   "outputs": [],
   "source": [
    "import datetime\n",
    "\n",
    "def dia_de_la_semana_nacimiento(anio: int, mes: int, dia: int) -> str:\n",
    "    \"\"\"Determina el día de la semana en que nació una persona.\n",
    "\n",
    "    Args:\n",
    "        anio (int): El año de nacimiento.\n",
    "        mes (int): El mes de nacimiento.\n",
    "        dia (int): El día de nacimiento.\n",
    "\n",
    "    Returns:\n",
    "        str: El nombre del día de la semana en que nació.\n",
    "    \"\"\"\n",
    "    try:\n",
    "        fecha = datetime.date(anio, mes, dia)\n",
    "        # %A devuelve el nombre completo del día de la semana\n",
    "        return fecha.strftime(\"%A\")\n",
    "    except ValueError:\n",
    "        return \"Fecha no válida.\"\n",
    "\n",
    "# Prueba\n",
    "dia_semana = dia_de_la_semana_nacimiento(2000, 1, 15)\n",
    "print(f\"El 15 de enero de 2000 fue un: {dia_semana}\")"
   ]
  },
  {
   "cell_type": "markdown",
   "id": "1d1788fe",
   "metadata": {},
   "source": [
    "## 🎯 Resumen y Ejercicios de Repaso\n",
    "\n",
    "Se presentó una síntesis de las bibliotecas en Python.\n",
    "\n",
    "### 📚 Contenidos revisados\n",
    "\n",
    "1. **Concepto de biblioteca:**\n",
    "   - Qué es una biblioteca y por qué es útil en programación.\n",
    "   - Diferencia entre la biblioteca estándar y bibliotecas de terceros.\n",
    "\n",
    "2. **Exploración de documentación:**\n",
    "   - Cómo buscar y leer la documentación oficial de una biblioteca.\n",
    "   - Uso de la función `help()` y la ayuda contextual en el editor.\n",
    "\n",
    "3. **Importación de bibliotecas:**\n",
    "   - Diferentes formas de importar (`import`, `from ... import`, `as`).\n",
    "   - Ventajas y desventajas de cada forma.\n",
    "\n",
    "---"
   ]
  },
  {
   "cell_type": "markdown",
   "id": "6c0dccae",
   "metadata": {},
   "source": [
    "## 📝 Ejercicios de Práctica\n",
    "\n",
    "A continuación se proponen ejercicios organizados por tema para consolidar los conceptos.\n",
    "\n",
    "-----\n",
    "\n",
    "### 1️⃣ **Ejercicios: Concepto de bibliotecas**\n",
    "\n",
    "**Ejercicio 1.1 - Identificación de bibliotecas estándar**\n",
    "\n",
    "```python\n",
    "# Pídale al usuario que ingrese el nombre de un módulo que considere parte de la biblioteca estándar de Python.\n",
    "# Si el módulo es `math`, `os` o `random`, imprima un mensaje que confirme que es parte de la biblioteca estándar.\n",
    "# En caso contrario, imprima un mensaje que sugiera que podría ser una biblioteca de terceros o que no existe.\n",
    "```\n",
    "\n",
    "**Ejercicio 1.2 - Distinción de funcionalidades**\n",
    "\n",
    "```python\n",
    "# Cree un programa que importe la biblioteca `math` y la biblioteca `os`.\n",
    "# Use una función de la biblioteca `math` para calcular la raíz cuadrada de un número ingresado por el usuario.\n",
    "# Use una función de la biblioteca `os` para obtener el directorio de trabajo actual.\n",
    "# Imprima ambos resultados y explique brevemente la diferencia en las funcionalidades que ofrecen estas dos bibliotecas.\n",
    "```\n",
    "\n",
    "-----\n",
    "\n",
    "### 2️⃣ **Ejercicios: Exploración de documentación de bibliotecas**\n",
    "\n",
    "**Ejercicio 2.1 - Búsqueda de función específica**\n",
    "\n",
    "```python\n",
    "# El usuario necesita generar un número entero aleatorio dentro de un rango específico.\n",
    "# Su tarea es simular la búsqueda en la documentación de la biblioteca `random`.\n",
    "# Describa qué función de `random` usaría para este propósito y cómo la usaría, incluyendo un ejemplo de código.\n",
    "# Pista: No necesita importar la biblioteca, solo describa el proceso de cómo encontraría la solución.\n",
    "```\n",
    "\n",
    "**Ejercicio 2.2 - Comprensión de un módulo**\n",
    "\n",
    "```python\n",
    "# El módulo `datetime` de Python es muy útil para trabajar con fechas y horas.\n",
    "# Imagine que está revisando su documentación.\n",
    "# Describa tres clases o funciones clave que encontraría en este módulo y explique brevemente para qué se usa cada una, basándose en lo que aprendería de su documentación.\n",
    "# Por ejemplo: `datetime.datetime` es una clase que representa una combinación de fecha y hora.\n",
    "```\n",
    "\n",
    "-----\n",
    "\n",
    "### 3️⃣ **Ejercicios: Importación de bibliotecas a un programa de elaboración propia**\n",
    "\n",
    "**Ejercicio 3.1 - Importación completa y uso**\n",
    "\n",
    "```python\n",
    "# Escriba un programa que importe completamente la biblioteca `math`.\n",
    "# Pídale al usuario que ingrese el radio de un círculo.\n",
    "# Use la constante `math.pi` y la función `math.pow` para calcular y mostrar el área del círculo.\n",
    "# Recuerde la fórmula del área: `Área = pi * radio^2`.\n",
    "```\n",
    "\n",
    "**Ejercicio 3.2 - Importación parcial y alias**\n",
    "\n",
    "```python\n",
    "# Escriba un programa que importe solo la función `randint` del módulo `random` y le dé un alias (`rnd_int`).\n",
    "# El programa debe generar un número entero aleatorio entre 1 y 100, usando el alias `rnd_int`.\n",
    "# Pídale al usuario que adivine el número.\n",
    "# Compare la respuesta del usuario con el número generado y diga si adivinó correctamente o no.\n",
    "```\n",
    "\n",
    "-----\n",
    "\n",
    "### 4️⃣ **Ejercicios: Ejercicios integrados**\n",
    "\n",
    "**Ejercicio 4.1 - Conversor de unidades de temperatura**\n",
    "\n",
    "```python\n",
    "# Cree un programa que use la biblioteca `math` para convertir temperaturas de Celsius a Fahrenheit.\n",
    "# El programa debe pedirle al usuario que ingrese una temperatura en grados Celsius.\n",
    "# Use la fórmula de conversión: `Fahrenheit = (Celsius * 9/5) + 32`.\n",
    "# Pídale al usuario un número de precisión y use la función `math.ceil` o `math.floor` para redondear el resultado a ese valor.\n",
    "# Imprima el resultado final.\n",
    "```\n",
    "\n",
    "-----\n",
    "\n",
    "### 5️⃣ **Ejercicios: Ejercicios de Repaso**\n",
    "\n",
    "**Ejercicio 5.1 - Análisis de datos con `csv`**\n",
    "\n",
    "```python\n",
    "# Use la biblioteca `csv` para leer y procesar un archivo de datos.\n",
    "# (Puede crear un archivo de texto llamado `ventas.csv` con este contenido):\n",
    "# producto,cantidad\n",
    "# manzana,10\n",
    "# banana,15\n",
    "# manzana,5\n",
    "# pera,20\n",
    "\n",
    "# Escriba un programa que lea este archivo CSV y calcule el total de ventas de cada producto.\n",
    "# Use un diccionario para almacenar los totales (por ejemplo: `{'manzana': 15, 'banana': 15, 'pera': 20}`).\n",
    "# Imprima el diccionario final.\n",
    "```\n",
    "\n",
    "-----\n",
    "\n",
    "### 📋 **Instrucciones para resolver:**\n",
    "\n",
    "1.  Copie cada ejercicio en una nueva celda de código.\n",
    "2.  Resuelva paso a paso y comente su razonamiento.\n",
    "3.  Ejecute para verificar sus respuestas.\n",
    "4.  Experimente modificando los valores.\n",
    "5.  Pregunte si tiene dudas. Hágalo pensando en algoritmos."
   ]
  }
 ],
 "metadata": {
  "language_info": {
   "name": "python"
  }
 },
 "nbformat": 4,
 "nbformat_minor": 5
}
