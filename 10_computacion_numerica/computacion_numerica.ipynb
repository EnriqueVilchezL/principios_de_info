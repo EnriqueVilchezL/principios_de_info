{
 "cells": [
  {
   "cell_type": "markdown",
   "id": "84d29081",
   "metadata": {},
   "source": [
    "# Principios de Informática: Computación Numérica 🔢\n",
    "### De los bucles lentos a las operaciones vectorizadas de alta velocidad\n",
    "\n",
    "**Curso:** Principios de Informática\n",
    "\n",
    "---\n",
    "\n",
    "## 🗺️ Objetivos y contenidos\n",
    "\n",
    "Este notebook es una guía interactiva para comprender los fundamentos de la computación numérica en Python, el uso de arreglos (arrays) y operaciones vectorizadas con la biblioteca NumPy, y cómo estas herramientas permiten procesar grandes volúmenes de datos de manera eficiente. Aprenderás a crear y manipular arreglos, realizar operaciones matemáticas rápidas, y comparar el rendimiento frente a los bucles tradicionales. También se exploran aplicaciones prácticas en ciencia, ingeniería y análisis de datos.\n",
    "\n",
    "> \"La eficiencia en el manejo de datos numéricos es clave para resolver problemas reales en ciencia y tecnología.\"\n",
    "\n",
    "**Importancia:**\n",
    "- NumPy permite realizar cálculos numéricos de manera mucho más rápida que con listas y bucles tradicionales de Python.\n",
    "- El manejo eficiente de datos es fundamental en áreas como ingeniería, ciencia de datos, simulaciones y procesamiento de imágenes.\n",
    "- Aprender a usar arreglos y operaciones vectorizadas es una habilidad esencial para cualquier programador científico.\n",
    "\n",
    "**Contenidos:**\n",
    "1. Arreglos de una dimensión\n",
    "2. Arreglos de múltiples dimensiones\n",
    "3. Operaciones vectorizadas\n",
    "4. \n",
    "\n",
    "---"
   ]
  },
  {
   "cell_type": "markdown",
   "id": "e3e1104f",
   "metadata": {},
   "source": [
    "## La Necesidad de la Velocidad 🚀\n",
    "\n",
    "En ingeniería y ciencia, a menudo trabajamos con grandes volúmenes de datos numéricos: lecturas de sensores, simulaciones, imágenes, etc. Procesar estos datos con bucles `for` tradicionales de Python puede ser **muy lento**.\n",
    "\n",
    "La computación numérica utiliza bibliotecas especializadas para realizar operaciones matemáticas sobre grandes conjuntos de datos de manera extremadamente rápida y eficiente. La biblioteca fundamental para esto en Python es **NumPy**.\n",
    "\n",
    "**`NumPy` (Numerical Python)** proporciona un nuevo tipo de estructura de datos llamado **arreglo (array)**, que es la base para casi toda la computación científica en Python.\n",
    "\n",
    "---"
   ]
  },
  {
   "cell_type": "code",
   "execution_count": null,
   "id": "bf3e71c2",
   "metadata": {},
   "outputs": [],
   "source": [
    "import numpy as np  # Es una convención estándar importar numpy como 'np'"
   ]
  },
  {
   "cell_type": "markdown",
   "id": "1e45abfb",
   "metadata": {},
   "source": [
    "---\n",
    "\n",
    "## 1. Arreglos de una Dimensión (Vectores) \n",
    "\n",
    "---\n",
    "\n",
    "Un arreglo de una dimensión es similar a una lista, pero con diferencias clave:\n",
    "1.  Todos sus elementos deben ser del **mismo tipo** (generalmente números).\n",
    "2.  Son mucho más **rápidos** para operaciones matemáticas.\n",
    "3.  Tienen un tamaño predefinido desde el momento de su creación.\n",
    "\n",
    "---"
   ]
  },
  {
   "cell_type": "markdown",
   "id": "d1cedc33",
   "metadata": {},
   "source": [
    "### Creación de Arreglos\n",
    "\n",
    "La forma más común de crear un arreglo es a partir de una lista de Python usando la función `numpy.array()`.\n",
    "\n",
    "---"
   ]
  },
  {
   "cell_type": "code",
   "execution_count": null,
   "id": "b452549b",
   "metadata": {},
   "outputs": [],
   "source": [
    "arreglo = np.array([1, 2, 3, 4, 5])  # Creando un arreglo a partir de una lista\n",
    "\n",
    "print(arreglo)\n",
    "print(type(arreglo))"
   ]
  },
  {
   "cell_type": "markdown",
   "id": "37e19eb5",
   "metadata": {},
   "source": [
    "Note que el tipo del arreglo es un `np.ndarray`. Esto es un arreglo de `numpy` de `n` dimensiones."
   ]
  },
  {
   "cell_type": "code",
   "execution_count": null,
   "id": "3033e999",
   "metadata": {},
   "outputs": [],
   "source": [
    "# Creando un arreglo a partir de una lista\n",
    "lecturas_voltaje = [5.1, 5.0, 4.9, 5.2, 4.8]\n",
    "arreglo_voltajes = np.array(lecturas_voltaje)\n",
    "\n",
    "print(f\"Esto es una lista de Python: {lecturas_voltaje}\")\n",
    "print(f\"Esto es un arreglo de NumPy: {arreglo_voltajes}\")\n",
    "print(f\"Tipo de dato de la lista: {type(lecturas_voltaje)}\")\n",
    "print(f\"Tipo de dato del arreglo: {type(arreglo_voltajes)}\")\n",
    "print(f\"Tipo de datos del arreglo: {arreglo_voltajes.dtype}\")"
   ]
  },
  {
   "cell_type": "code",
   "execution_count": null,
   "id": "6f9f9846",
   "metadata": {},
   "outputs": [],
   "source": [
    "# Creando un arreglo a partir de una lista\n",
    "lecturas_voltaje = [5, 3, 7, 9, 10]\n",
    "arreglo_voltajes = np.array(lecturas_voltaje)\n",
    "\n",
    "print(f\"Esto es una lista de Python: {lecturas_voltaje}\")\n",
    "print(f\"Esto es un arreglo de NumPy: {arreglo_voltajes}\")\n",
    "print(f\"Tipo de dato de la lista: {type(lecturas_voltaje)}\")\n",
    "print(f\"Tipo de dato del arreglo: {type(arreglo_voltajes)}\")\n",
    "print(f\"Tipo de datos del arreglo: {arreglo_voltajes.dtype}\")"
   ]
  },
  {
   "cell_type": "markdown",
   "id": "88c34110",
   "metadata": {},
   "source": [
    "De igual forma, se pueden hacer arreglos de 0 dimensiones (un solo elemento)."
   ]
  },
  {
   "cell_type": "code",
   "execution_count": null,
   "id": "20617168",
   "metadata": {},
   "outputs": [],
   "source": [
    "arreglo = np.array(3)  # Creando un arreglo de 0 dimensiones"
   ]
  },
  {
   "cell_type": "markdown",
   "id": "3ca927a5",
   "metadata": {},
   "source": [
    "Se pueden observar las dimensiones del arreglo con `.shape`."
   ]
  },
  {
   "cell_type": "code",
   "execution_count": null,
   "id": "8b6891d6",
   "metadata": {},
   "outputs": [],
   "source": [
    "arreglo = np.array([1, 2, 3, 4, 5])  # Creando un arreglo de 1 dimensión\n",
    "print(f\"Dimensiones: {arreglo.shape}\")"
   ]
  },
  {
   "cell_type": "markdown",
   "id": "c6083f76",
   "metadata": {},
   "source": [
    "#### Creaciones especiales\n",
    "\n",
    "Hay maneras de crear arreglos con características particulares en NumPy.\n",
    "\n",
    "---"
   ]
  },
  {
   "cell_type": "markdown",
   "id": "810d8312",
   "metadata": {},
   "source": [
    "* **`np.arrange`**: Permite crear un arreglo de enteros desde un número de incio hasta uno final."
   ]
  },
  {
   "cell_type": "code",
   "execution_count": null,
   "id": "9c340414",
   "metadata": {},
   "outputs": [],
   "source": [
    "print(np.arrange(10))  # Crea un arreglo de enteros del 0 al 9\n",
    "print(np.arange(5, 15))  # Crea un arreglo de enteros del 5 al 14\n",
    "print(np.arange(0, 10, 2))  # Crea un arreglo de enteros del 0 al 9 con paso de 2"
   ]
  },
  {
   "cell_type": "markdown",
   "id": "bd113640",
   "metadata": {},
   "source": [
    "* **`np.zeros`**: Crea un arreglo de 0s con la dimensión especificada."
   ]
  },
  {
   "cell_type": "code",
   "execution_count": null,
   "id": "fae38329",
   "metadata": {},
   "outputs": [],
   "source": [
    "print(np.zeros(5))  # Crea un arreglo de 0s con 5 elementos"
   ]
  },
  {
   "cell_type": "markdown",
   "id": "fdf0e5e6",
   "metadata": {},
   "source": [
    "* **`np.ones`**: Crea un arreglo de 1s con la dimensión especificada."
   ]
  },
  {
   "cell_type": "code",
   "execution_count": null,
   "id": "743a3316",
   "metadata": {},
   "outputs": [],
   "source": [
    "print(np.ones(5))  # Crea un arreglo de 1s con 5 elementos"
   ]
  },
  {
   "cell_type": "markdown",
   "id": "00daf79b",
   "metadata": {},
   "source": [
    "* **`np.full`**: Crea un arreglo lleno de un elemento que indiques."
   ]
  },
  {
   "cell_type": "code",
   "execution_count": null,
   "id": "8337012c",
   "metadata": {},
   "outputs": [],
   "source": [
    "print(np.full(5, \"_\", dtype=str))"
   ]
  },
  {
   "cell_type": "markdown",
   "id": "feaf7e24",
   "metadata": {},
   "source": [
    "#### Creaciones aleatorias\n",
    "\n",
    "NumPy permite crear arreglos con valores aleatorios también.\n",
    "\n",
    "---"
   ]
  },
  {
   "cell_type": "markdown",
   "id": "c2993e80",
   "metadata": {},
   "source": [
    "* **`np.random.rand`**: Números aleatorios uniformes entre 0 y 1:"
   ]
  },
  {
   "cell_type": "code",
   "execution_count": null,
   "id": "71aef85a",
   "metadata": {},
   "outputs": [],
   "source": [
    "datos = np.random.rand(5)  # 5 números aleatorios entre 0 y 1\n",
    "print(datos)"
   ]
  },
  {
   "cell_type": "markdown",
   "id": "493d3d10",
   "metadata": {},
   "source": [
    "* **`np.random.randint`**: Números enteros aleatorios en un rango:"
   ]
  },
  {
   "cell_type": "code",
   "execution_count": null,
   "id": "b4530e60",
   "metadata": {},
   "outputs": [],
   "source": [
    "datos = np.random.randint(0, 10, size=8)  # 8 enteros entre 0 y 9\n",
    "print(datos)"
   ]
  },
  {
   "cell_type": "markdown",
   "id": "ee195834",
   "metadata": {},
   "source": [
    "* **`np.random.normal`**: Números aleatorios con distribución normal"
   ]
  },
  {
   "cell_type": "code",
   "execution_count": null,
   "id": "090f9011",
   "metadata": {},
   "outputs": [],
   "source": [
    "datos = np.random.normal(loc=0, scale=1, size=10)  # 10 valores con media 0 y desviación 1\n",
    "print(datos)"
   ]
  },
  {
   "cell_type": "markdown",
   "id": "154da870",
   "metadata": {},
   "source": [
    "### Tipos de datos\n",
    "\n",
    "NumPy puede almacenar una gran variedad de tipos de datos en sus arreglos. Entre ellos están:\n",
    "\n",
    "- `int8`, `int16`, `int32`, `int64`: Enteros con diferentes tamaños de bits.\n",
    "- `uint8`, `uint16`, `uint32`, `uint64`: Enteros sin signo (solo positivos).\n",
    "- `float16`, `float32`, `float64`: Números de punto flotante (decimales) de diferentes precisiones.\n",
    "- `complex64`, `complex128`: Números complejos.\n",
    "- `bool`: Valores booleanos (`True` o `False`).\n",
    "- `str_`: Cadenas de texto de longitud fija.\n",
    "- `object_`: Objetos de Python (permite mezclar tipos, pero se pierde eficiencia).\n",
    "\n",
    "Se puede especificar el tipo de dato al crear un arreglo usando el argumento `dtype`.\n",
    "\n",
    "---"
   ]
  },
  {
   "cell_type": "code",
   "execution_count": null,
   "id": "69c6a43d",
   "metadata": {},
   "outputs": [],
   "source": [
    "arreglo = np.array([1, 2, 3], dtype=np.float32)"
   ]
  },
  {
   "cell_type": "markdown",
   "id": "36fa7a4a",
   "metadata": {},
   "source": [
    "**¿Por qué es importante escoger bien el tipo de dato?**\n",
    "\n",
    "Elegir el tipo de dato adecuado en un arreglo de NumPy es fundamental porque:\n",
    "- **Memoria:** Un tipo de dato más pequeño (por ejemplo, `int8` en vez de `int64`) puede ahorrar mucha memoria si tienes millones de elementos.\n",
    "- **Velocidad:** Operar sobre tipos de datos más simples y pequeños suele ser más rápido.\n",
    "- **Precisión:** Para cálculos científicos, a veces se requiere mayor precisión (por ejemplo, `float64` en vez de `float32`).\n",
    "- **Compatibilidad:** Algunas funciones o bibliotecas requieren tipos de datos específicos.\n",
    "\n",
    "Desde una perspectiva de ingeniería y ciencias:\n",
    "- En simulaciones numéricas, el tipo de dato puede afectar la estabilidad y exactitud de los resultados (por ejemplo, errores de redondeo en `float32` vs. `float64`).\n",
    "- En procesamiento de señales o imágenes, elegir el tipo correcto permite manejar grandes volúmenes de datos sin desperdiciar recursos.\n",
    "- En análisis de datos experimentales, la precisión del tipo de dato puede ser crucial para detectar pequeñas diferencias o tendencias.\n",
    "- En aplicaciones de hardware embebido o microcontroladores, la memoria es limitada y el tipo de dato debe ser cuidadosamente seleccionado.\n",
    "\n",
    "En resumen:\n",
    "- Usa el tipo más pequeño posible que cumpla con tus necesidades de rango y precisión.\n",
    "- Si necesitas almacenar números grandes o decimales muy precisos, elige un tipo más grande.\n",
    "- Para datos categóricos o booleanos, usa `bool` o `int8`.\n",
    "\n",
    "---"
   ]
  },
  {
   "cell_type": "markdown",
   "id": "17eaf5c3",
   "metadata": {},
   "source": [
    "#### 💊 Ejercicio: Cálculo de dosis basada en peso corporal\n",
    "\n",
    "Una fórmula común para dosis de medicamentos es:\n",
    "\n",
    "$\n",
    "\\text{Dosis total} = \\text{dosis por kg} \\times \\text{peso del paciente}\n",
    "$\n",
    "\n",
    "Dada una dosis por kg de `0.123456789` mg y un peso de `70.1234` kg, calcule la dosis total usando `float32` y `float64`. Observe... ¿hay diferencias en la dosis?\n",
    "\n",
    "---"
   ]
  },
  {
   "cell_type": "code",
   "execution_count": null,
   "id": "84119219",
   "metadata": {},
   "outputs": [],
   "source": [
    "# Dosis por kg (en mg)\n",
    "dosis_kg = 0.123456789\n",
    "\n",
    "# Peso del paciente (kg)\n",
    "peso = 70.1234\n",
    "\n",
    "# Usando float32\n",
    "dosis_total_32 = np.float32(dosis_kg) * np.float32(peso)\n",
    "\n",
    "# Usando float64\n",
    "dosis_total_64 = np.float64(dosis_kg) * np.float64(peso)\n",
    "\n",
    "print(f\"Dosis total (float32): {dosis_total_32:.10f} mg\")\n",
    "print(f\"Dosis total (float64): {dosis_total_64:.10f} mg\")\n",
    "print(f\"Diferencia absoluta: {abs(dosis_total_64 - dosis_total_32):.10f} mg\")"
   ]
  },
  {
   "cell_type": "markdown",
   "id": "1cc2c397",
   "metadata": {},
   "source": [
    "### Indexación, Recorrido y Slicing\n",
    "\n",
    "Funciona de manera muy similar a las listas de Python.\n",
    "\n",
    "---"
   ]
  },
  {
   "cell_type": "code",
   "execution_count": null,
   "id": "f8a66876",
   "metadata": {},
   "outputs": [],
   "source": [
    "datos_acelerometro = np.array([0.1, 0.5, 1.2, 1.8, 2.3, 2.5, 2.1])"
   ]
  },
  {
   "cell_type": "markdown",
   "id": "942fb3a4",
   "metadata": {},
   "source": [
    "#### Indexación\n",
    "\n",
    "`arreglo[i]` para acceder al elemento en la posición `i`.\n",
    "\n",
    "---"
   ]
  },
  {
   "cell_type": "code",
   "execution_count": null,
   "id": "cdc168d9",
   "metadata": {},
   "outputs": [],
   "source": [
    "# Indexación\n",
    "print(f\"Primer dato: {datos_acelerometro[0]}\")\n",
    "print(f\"Último dato: {datos_acelerometro[-1]}\")"
   ]
  },
  {
   "cell_type": "markdown",
   "id": "10307f7d",
   "metadata": {},
   "source": [
    "#### Recorrido\n",
    "\n",
    "Se puede usar un bucle `for` para iterar sobre los elementos.\n",
    "\n",
    "---"
   ]
  },
  {
   "cell_type": "code",
   "execution_count": null,
   "id": "2c7e1ead",
   "metadata": {},
   "outputs": [],
   "source": [
    "# Recorrido\n",
    "print(\"Recorriendo los datos:\")\n",
    "for dato in datos_acelerometro:\n",
    "    print(f\"  - {dato}\")"
   ]
  },
  {
   "cell_type": "markdown",
   "id": "85927de5",
   "metadata": {},
   "source": [
    "#### Slicing\n",
    "\n",
    "`arreglo[inicio:fin:paso]` para obtener una sub-sección del arreglo.\n",
    "\n",
    "---"
   ]
  },
  {
   "cell_type": "code",
   "execution_count": null,
   "id": "5c6db491",
   "metadata": {},
   "outputs": [],
   "source": [
    "# Slicing\n",
    "print(f\"Primeros tres datos: {datos_acelerometro[0:3]}\")\n",
    "print(f\"Datos desde el índice 3 hasta el final: {datos_acelerometro[3:]}\")"
   ]
  },
  {
   "cell_type": "markdown",
   "id": "5608a788",
   "metadata": {},
   "source": [
    "Se puede omitir el inicio o el final. Por ejemplo, si se omite el final (como `arreglo[inicio:]`) se está indicando que se obtenga la subsección desde `inicio`, hasta el final de todo el arreglo."
   ]
  },
  {
   "cell_type": "code",
   "execution_count": null,
   "id": "fc12d3e5",
   "metadata": {},
   "outputs": [],
   "source": [
    "print(f\"Datos desde el índice 2 hasta el final: {datos_acelerometro[2:]}\")"
   ]
  },
  {
   "cell_type": "markdown",
   "id": "05c6460d",
   "metadata": {},
   "source": [
    "Si se omite el inicio (como `arreglo[:final]`) se está indicando que se obtenga la subsección desde el principio del arreglo hasta `final`."
   ]
  },
  {
   "cell_type": "code",
   "execution_count": null,
   "id": "b161db33",
   "metadata": {},
   "outputs": [],
   "source": [
    "print(f\"Datos desde el inicio hasta el índice 3: {datos_acelerometro[:3]}\")"
   ]
  },
  {
   "cell_type": "markdown",
   "id": "bc2977ec",
   "metadata": {},
   "source": [
    "#### 2️⃣ Ejercicio: ¿Un par?\n",
    "\n",
    "Dado el siguiente arreglo:\n",
    "\n",
    "```python\n",
    "arreglo = np.array([1, 2, 3, 4, 5, 6, 7, 8])\n",
    "```\n",
    "\n",
    "Imprima todos los números que estén en posiciones pares, empezando desde el segundo elemento. Hágalo en una sola línea.\n",
    "\n",
    "---"
   ]
  },
  {
   "cell_type": "code",
   "execution_count": null,
   "id": "945aa708",
   "metadata": {},
   "outputs": [],
   "source": [
    "arreglo = np.array([1, 2, 3, 4, 5, 6, 7, 8])\n",
    "\n",
    "print(arreglo[::2])"
   ]
  },
  {
   "cell_type": "markdown",
   "id": "33a96110",
   "metadata": {},
   "source": [
    "### Mutabilidad\n",
    "\n",
    "Los arreglos de NumPy son **mutables**. Esto quiere decir que sus elements se pueden modificar una vez creados.\n",
    "\n",
    "---"
   ]
  },
  {
   "cell_type": "code",
   "execution_count": null,
   "id": "797b80fb",
   "metadata": {},
   "outputs": [],
   "source": [
    "arreglo = np.array([1, 2, 3, 4, 5])  # Creando un arreglo a partir de una lista\n",
    "arreglo[0] = 10  # Modificando el primer elemento\n",
    "print(arreglo)"
   ]
  },
  {
   "cell_type": "markdown",
   "id": "c8f4b2d5",
   "metadata": {},
   "source": [
    "Por lo tanto, cuando se asigna a otra variable un arreglo, esto es una **referencia** y no una **copia**."
   ]
  },
  {
   "cell_type": "code",
   "execution_count": null,
   "id": "ede1a082",
   "metadata": {},
   "outputs": [],
   "source": [
    "arreglo = np.array([1, 2, 3, 4, 5])  # Creando un arreglo a partir de una lista\n",
    "arreglo_2 = arreglo  # Asignando el arreglo a otra variable\n",
    "\n",
    "arreglo[0] = 10  # Modificando el primer elemento del arreglo original\n",
    "print(arreglo)  # Imprime: [10  2  3\n",
    "print(arreglo_2)  # Imprime: [10  2  3  4  5]"
   ]
  },
  {
   "cell_type": "markdown",
   "id": "d106d2c6",
   "metadata": {},
   "source": [
    "Para evitar esto, se puede usar el método `copy()`."
   ]
  },
  {
   "cell_type": "code",
   "execution_count": null,
   "id": "065755bd",
   "metadata": {},
   "outputs": [],
   "source": [
    "arreglo = np.array([1, 2, 3, 4, 5])  # Creando un arreglo a partir de una lista\n",
    "arreglo_2 = arreglo.copy()  # Asignando el arreglo a otra variable\n",
    "\n",
    "arreglo[0] = 10  # Modificando el primer elemento del arreglo original\n",
    "print(arreglo)  # Imprime: [10  2  3  4  5]\n",
    "print(arreglo_2)  # Imprime: [1  2  3  4  5]"
   ]
  },
  {
   "cell_type": "markdown",
   "id": "a2931fde",
   "metadata": {},
   "source": [
    "#### Agregando datos\n",
    "\n",
    "A diferencia de las listas, en donde agregar datos es sumamente sencillo, agregar datos a los arreglos de numpy es más complicado. Aunque los arreglos son **mutables**, no son particularmente **dinámicos** (es decir, no es tan sencillo agregar o quitar elementos).\n",
    "\n",
    "---"
   ]
  },
  {
   "cell_type": "markdown",
   "id": "5e06d519",
   "metadata": {},
   "source": [
    "Para agregar un elemento, se puede usar `np.append(arreglo, elemento)`. O si se quiere extender un arreglo, se puede usar `np.concatenate(arreglo, lista)`.\n",
    "\n",
    "Ojo que estas dos operaciones crean vectores nuevos, por lo que el arreglo original queda intacto."
   ]
  },
  {
   "cell_type": "code",
   "execution_count": null,
   "id": "b5d641ed",
   "metadata": {},
   "outputs": [],
   "source": [
    "arreglo = np.array([1, 2, 3, 4, 5])  # Creando un arreglo a partir de una lista\n",
    "\n",
    "arreglo_2 = np.append(arreglo, 6)  # OJO que np.append devuelve un nuevo arreglo, no modifica el original\n",
    "print(arreglo)  # Imprime: [1 2 3 4 5]\n",
    "print(arreglo_2)  # Imprime: [1 2 3 4 5 6]"
   ]
  },
  {
   "cell_type": "code",
   "execution_count": null,
   "id": "6159ac22",
   "metadata": {},
   "outputs": [],
   "source": [
    "arreglo = np.array([1, 2, 3, 4, 5])  # Creando un arreglo a partir de una lista\n",
    "arreglo_2 = np.concatenate((arreglo, [6, 7, 8]))  # OJO que np.concatenate devuelve un nuevo arreglo, no modifica el original\n",
    "print(arreglo)  # Imprime: [1 2 3 4 5]\n",
    "print(arreglo_2)  # Imprime: [1 2 3 4 5 6 7 8]"
   ]
  },
  {
   "cell_type": "markdown",
   "id": "8ba1d1ea",
   "metadata": {},
   "source": [
    "⚠️ **Advertencia sobre rendimiento**\n",
    "\n",
    "Agregar elementos uno por uno en un bucle usando np.append o np.concatenate es ineficiente, porque cada vez se crea un array nuevo."
   ]
  },
  {
   "cell_type": "code",
   "execution_count": null,
   "id": "09ae56c6",
   "metadata": {},
   "outputs": [],
   "source": [
    "arreglo = np.array([])\n",
    "\n",
    "for i in range(5):\n",
    "    arreglo = np.append(arreglo, i)  # ❌ No recomendado para muchos elementos\n",
    "\n",
    "print(arreglo)  # [0. 1. 2. 3. 4.]"
   ]
  },
  {
   "cell_type": "markdown",
   "id": "35ed701d",
   "metadata": {},
   "source": [
    "En lugar de eso, si ya se sabe cuántos elementos habrá, lo ideal es preasignar el tamaño y luego llenar:"
   ]
  },
  {
   "cell_type": "code",
   "execution_count": null,
   "id": "cb53293a",
   "metadata": {},
   "outputs": [],
   "source": [
    "arreglo = np.empty(5)\n",
    "for i in range(5):\n",
    "    arreglo[i] = i"
   ]
  },
  {
   "cell_type": "markdown",
   "id": "f8c9d4a9",
   "metadata": {},
   "source": [
    "#### Eliminando datos\n",
    "\n",
    "De forma similar, no es tan directo eliminar datos.\n",
    "\n",
    "---"
   ]
  },
  {
   "cell_type": "markdown",
   "id": "ac258cc8",
   "metadata": {},
   "source": [
    "En NumPy, puedes eliminar elementos de un array usando principalmente la función `np.delete(arreglo, indice)` o `np.delete(arreglo, lista_de_indices)`."
   ]
  },
  {
   "cell_type": "code",
   "execution_count": null,
   "id": "e4fdf8ae",
   "metadata": {},
   "outputs": [],
   "source": [
    "arreglo = np.array([10, 20, 30, 40, 50])\n",
    "nuevo_arr = np.delete(arreglo, 2)  # Elimina el elemento en el índice 2 (30). OJO que np.delete devuelve un nuevo arreglo, no modifica el original\n",
    "\n",
    "print(nuevo_arr)  # [10 20 40 50]"
   ]
  },
  {
   "cell_type": "code",
   "execution_count": null,
   "id": "89e50c38",
   "metadata": {},
   "outputs": [],
   "source": [
    "arreglo = np.array([10, 20, 30, 40, 50])\n",
    "nuevo_arr = np.delete(arreglo, [1, 3])  # Elimina los índices 1 y 3 (20 y 40)\n",
    "\n",
    "print(nuevo_arr)  # [10 30 50]"
   ]
  },
  {
   "cell_type": "markdown",
   "id": "d631db46",
   "metadata": {},
   "source": [
    "**Resumen**: Modificar elementos en un arreglo de NumPy se puede hacer y no causa problemas. Sin embargo, es **recomendable** conocer de antemano el tamaño del arreglo, para no agregar o eliminar elementos dinámicamente.\n",
    "\n",
    "---"
   ]
  },
  {
   "cell_type": "markdown",
   "id": "692b8f5f",
   "metadata": {},
   "source": [
    "### Indexación booleana\n",
    "\n",
    "Si se quiere aplicar algún filtro sobre el arreglo, se puede usar la **indexación booleana**.\n",
    "\n",
    "Es una forma de seleccionar elementos de un arreglo de NumPy usando otro arreglo del mismo tamaño con valores `True` o `False`. **Solo se seleccionan los elementos que corresponden a un `True`**.\n",
    "\n",
    "La sintaxis para hacerlo es:\n",
    "\n",
    "```python\n",
    "arreglo[[bool, bool, ..., bool]]. \n",
    "```\n",
    "\n",
    "Es como *indexar* un arreglo con otro arreglo o lista.\n",
    "\n",
    "Al arreglo o lista de booleanos se le llama **máscara**.\n",
    "\n",
    "---"
   ]
  },
  {
   "cell_type": "code",
   "execution_count": null,
   "id": "7ed3edf8",
   "metadata": {},
   "outputs": [],
   "source": [
    "arreglo = np.array([1, 2, 3, 4, 5])  # Creando un arreglo a partir de una lista\n",
    "arreglo_booleano_mascara = [True, False, True, False, True]  # Máscara booleana\n",
    "\n",
    "print(arreglo[arreglo_booleano_mascara])  # Imprime: [1 3 5]"
   ]
  },
  {
   "cell_type": "markdown",
   "id": "78764929",
   "metadata": {},
   "source": [
    "#### Filtrando\n",
    "\n",
    "Se pueden hacer filtros sobre los arreglos. Un **filtro** es una condición lógica que permite seleccionar solo los elementos que cumplen ciertos criterios. En NumPy, esto se con la **indexación booleana**.\n",
    "\n",
    "---"
   ]
  },
  {
   "cell_type": "markdown",
   "id": "e8727700",
   "metadata": {},
   "source": [
    "Por ejemplo, si se tiene un arreglo de temperaturas y se quiere quedar solo con las que son mayores a 30 grados:"
   ]
  },
  {
   "cell_type": "code",
   "execution_count": null,
   "id": "122cd9b5",
   "metadata": {},
   "outputs": [],
   "source": [
    "temperaturas = np.array([28, 31, 35, 29, 33])\n",
    "filtro = temperaturas > 30\n",
    "print(filtro)  # [False  True  True False  True]\n",
    "print(temperaturas[filtro])  # [31 35 33]"
   ]
  },
  {
   "cell_type": "markdown",
   "id": "b80f15dd",
   "metadata": {},
   "source": [
    "Se puede incluso combinar filtros como si fueran expresiones booleanas. Por ejemplo, se puede hacer un `and` lógico con `&`, un `or` lógico con `|`, o un `not` lógico con `~`.\n",
    "\n",
    "Si se quisiera obtener las temperaturas que son mayores a 30 grados y que no son múltiplos de 5:"
   ]
  },
  {
   "cell_type": "code",
   "execution_count": null,
   "id": "eb0021ac",
   "metadata": {},
   "outputs": [],
   "source": [
    "temperaturas = np.array([28, 31, 35, 29, 33])\n",
    "\n",
    "print(temperaturas[temperaturas > 30 & ~(temperaturas % 5 == 0)])  # [31 35 33]"
   ]
  },
  {
   "cell_type": "markdown",
   "id": "b570da73",
   "metadata": {},
   "source": [
    "Finalmente, se pueden reemplazar valores usando indexación binaria. Todos los valores donde la condición sea `True` se reemplazan.\n",
    "\n",
    "Si se quisiera reemplazar todas las temperaturas que son mayores a 30 grados por 0:"
   ]
  },
  {
   "cell_type": "code",
   "execution_count": null,
   "id": "025deb69",
   "metadata": {},
   "outputs": [],
   "source": [
    "temperaturas[temperaturas > 30] = 0  # Reemplaza los valores mayores a 30 por 0"
   ]
  },
  {
   "cell_type": "markdown",
   "id": "4b1fab7b",
   "metadata": {},
   "source": [
    "#### 🔥 Ejercicio: Exceso de calor\n",
    "\n",
    "Usted es parte de un equipo de investigación climática. Se tiene un conjunto de datos de temperaturas promedio mensuales registradas en distintas estaciones meteorológicas durante varios años.\n",
    "\n",
    "Imprima aquellas en donde las temperaturas sean igual o menores a 35 grados y aquellas en donde las temperaturas excedan los 35 grados.\n",
    "\n",
    "**Solo se puede usar un operador de comparación**.\n",
    "\n",
    "---"
   ]
  },
  {
   "cell_type": "code",
   "execution_count": null,
   "id": "69c3558e",
   "metadata": {},
   "outputs": [],
   "source": [
    "# Supongamos que son datos de 10 años (120 meses) en una estación\n",
    "temperaturas = np.random.normal(loc=15, scale=10, size=120)  # promedio 15°C, desvío 10°C\n",
    "\n",
    "máscara = temperaturas > 35\n",
    "\n",
    "temperaturas_excedidas = temperaturas[máscara]  # Filtrando temperaturas mayores a 35°C\n",
    "temperaturas_no_excedidas = temperaturas[~máscara]  # Filtrando temperaturas menores o iguales a 35°C\n",
    "\n",
    "print(temperaturas[:10])  # Ejemplo de primeros valores\n",
    "print(f\"Temperaturas excedidas: {temperaturas_excedidas}\")\n",
    "print(f\"Temperaturas no excedidas: {temperaturas_no_excedidas}\")"
   ]
  },
  {
   "cell_type": "markdown",
   "id": "0de3e662",
   "metadata": {},
   "source": [
    "---\n",
    "\n",
    "## 2. Arreglos de Múltiples Dimensiones\n",
    "\n",
    "---\n",
    "Se pueden tener arreglos de dos, tres o más dimensiones. Un arreglo 2D es una **matriz**, que es fundamental en áreas como el álgebra lineal, el procesamiento de imágenes y las simulaciones.\n",
    "\n",
    "**OJO**: Si una matriz es un arreglo ==> Todas las operaciones que se pueden aplicar sobre un arreglo, aplican sobre una matriz.\n",
    "\n",
    "---\n",
    "\n",
    "### Creación de matrices\n",
    "\n",
    "Se crean a partir de una lista de listas. Para acceder a los elementos, usamos dos índices: `matriz[fila, columna]`.\n",
    "\n",
    "---"
   ]
  },
  {
   "cell_type": "code",
   "execution_count": null,
   "id": "466fd2ca",
   "metadata": {},
   "outputs": [],
   "source": [
    "# Creando una matriz 2x3 a partir de una lista de listas\n",
    "matriz_datos = np.array([[1, 2, 3],\n",
    "                         [4, 5, 6]])\n",
    "\n",
    "print(matriz_datos)\n",
    "print(type(matriz_datos))"
   ]
  },
  {
   "cell_type": "code",
   "execution_count": null,
   "id": "58f6245d",
   "metadata": {},
   "outputs": [],
   "source": [
    "# Acceder a un elemento específico (fila 1, columna 2)\n",
    "print(matriz_datos[1, 2])  # Imprime: 6\n",
    "\n",
    "# Acceso más ineficiente\n",
    "print(matriz_datos[1][2])  # Imprime: 6"
   ]
  },
  {
   "cell_type": "code",
   "execution_count": null,
   "id": "459e11bd",
   "metadata": {},
   "outputs": [],
   "source": [
    "print(matriz_datos.shape)  # Imprime las dimensiones de la matriz (2, 3)"
   ]
  },
  {
   "cell_type": "markdown",
   "id": "6a519fb3",
   "metadata": {},
   "source": [
    "#### Creaciones especiales\n",
    "\n",
    "Hay maneras de crear matrices con características particulares en NumPy. Se comparten los métodos usados para los arreglos, pero ahora se especifican las dimensiones deseadas con una *tupla*, o usando el método `.reshape()` con el tamaño deseado.\n",
    "\n",
    "---"
   ]
  },
  {
   "cell_type": "code",
   "execution_count": null,
   "id": "4b3cba97",
   "metadata": {},
   "outputs": [],
   "source": [
    "# Reshape\n",
    "matriz_datos = np.array([1, 2, 3, 4, 5, 6]).reshape(2, 3)  # Cambiando la forma del arreglo a una matriz de 2x3\n",
    "print(\"Matriz de 2x3:\")\n",
    "print(matriz_datos)"
   ]
  },
  {
   "cell_type": "code",
   "execution_count": null,
   "id": "3b06faa1",
   "metadata": {},
   "outputs": [],
   "source": [
    "# Incremental\n",
    "matriz = np.arange(1, 13).reshape(3, 4)  # Matriz de 3 filas y 4 columnas\n",
    "print(\"Matriz de 3x4:\")\n",
    "print(matriz)"
   ]
  },
  {
   "cell_type": "code",
   "execution_count": null,
   "id": "8bfa6fb8",
   "metadata": {},
   "outputs": [],
   "source": [
    "# Ceros\n",
    "matriz_ceros = np.zeros((3, 4))  # Matriz de 3 filas y 4 columnas llena de ceros\n",
    "print(\"Matriz de ceros:\")\n",
    "print(matriz_ceros)"
   ]
  },
  {
   "cell_type": "code",
   "execution_count": null,
   "id": "ac33b92a",
   "metadata": {},
   "outputs": [],
   "source": [
    "# Unos\n",
    "matriz_unos = np.ones((2, 5))  # Matriz de 2 filas y 5 columnas llena de unos\n",
    "print(\"Matriz de unos:\")\n",
    "print(matriz_unos)"
   ]
  },
  {
   "cell_type": "code",
   "execution_count": null,
   "id": "173ee31f",
   "metadata": {},
   "outputs": [],
   "source": [
    "# Aleatorios\n",
    "matriz_aleatoria = np.random.rand(3, 4)  # Matriz de 3 filas y 4 columnas con valores aleatorios entre 0 y 1\n",
    "print(\"Matriz aleatoria:\")\n",
    "print(matriz_aleatoria)"
   ]
  },
  {
   "cell_type": "markdown",
   "id": "79c05e5c",
   "metadata": {},
   "source": [
    "### Indexación, Recorrido y Slicing\n",
    "\n",
    "Funciona de manera muy similar a las listas de Python.\n",
    "\n",
    "---"
   ]
  },
  {
   "cell_type": "code",
   "execution_count": null,
   "id": "da88a59d",
   "metadata": {},
   "outputs": [],
   "source": [
    "matriz_datos = np.array([[1, 2, 3],\n",
    "                         [4, 5, 6]])"
   ]
  },
  {
   "cell_type": "markdown",
   "id": "b8622543",
   "metadata": {},
   "source": [
    "#### Indexación\n",
    "\n",
    "`matriz[i][j]` (se indexa primero una fila y luego una columna) o `matriz[i, j]` (se indexa el elemento exacto que se quiere) para acceder al elemento en la fila `i`, columna `j`.\n",
    "\n",
    "En NumPy, ¡`matriz[i, j]` es más eficiente!\n",
    "\n",
    "---"
   ]
  },
  {
   "cell_type": "code",
   "execution_count": null,
   "id": "3bea7fa2",
   "metadata": {},
   "outputs": [],
   "source": [
    "# Indexación\n",
    "print(f\"Primera fila: {matriz_datos[0]}\")\n",
    "print(f\"Segunda fila: {matriz_datos[1]}\")"
   ]
  },
  {
   "cell_type": "code",
   "execution_count": null,
   "id": "7c52bf8d",
   "metadata": {},
   "outputs": [],
   "source": [
    "print(f\"Elemento en la fila 0, columna 1: {matriz_datos[0][1]}\")\n",
    "\n",
    "# Indexación multidimensional directa\n",
    "print(f\"Elemento en la fila 1, columna 2: {matriz_datos[1, 2]}\")"
   ]
  },
  {
   "cell_type": "markdown",
   "id": "eefa16bd",
   "metadata": {},
   "source": [
    "#### Recorrido\n",
    "\n",
    "Se puede usar varios bucles `for` para iterar sobre los elementos.\n",
    "\n",
    "---"
   ]
  },
  {
   "cell_type": "code",
   "execution_count": null,
   "id": "0471da5c",
   "metadata": {},
   "outputs": [],
   "source": [
    "for i in range(matriz_datos.shape[0]):  # Recorriendo filas\n",
    "    for j in range(matriz_datos.shape[1]):  # Recorriendo columnas\n",
    "        print(f\"Elemento en la fila {i}, columna {j}: {matriz_datos[i, j]}\")"
   ]
  },
  {
   "cell_type": "markdown",
   "id": "33cd1c29",
   "metadata": {},
   "source": [
    "#### Slicing\n",
    "\n",
    "`matriz[inicio:fin:paso, inicio_2:fin_2:paso_2]` para obtener una sub-sección de una matriz.\n",
    "\n",
    "---"
   ]
  },
  {
   "cell_type": "code",
   "execution_count": null,
   "id": "a30d1ff3",
   "metadata": {},
   "outputs": [],
   "source": [
    "matriz_datos = np.array([[1, 2, 3],\n",
    "                         [4, 5, 6],\n",
    "                         [7, 8, 9]])\n",
    "\n",
    "print(\"Subsección de la matriz:\")\n",
    "print(matriz_datos[0:2, 1:3])  # Imprime las filas 0 a 1 y columnas 1 a 2"
   ]
  },
  {
   "cell_type": "markdown",
   "id": "539a46de",
   "metadata": {},
   "source": [
    "#### 🏊 Ejercicio: Bordes de una piscina\n",
    "\n",
    "Usted está encargado de poner los azulejos en una piscina rectangular. La piscina es representada como una matriz de 0s, donde cada 0 representa una baldosa de agua. Su trabajo es colocar baldosas de borde (1s) alrededor del borde de la piscina.\n",
    "\n",
    "Dada una piscina de tamaño (7, 8) representada por una matriz de ceros, crea una nueva matriz del mismo tamaño, pero con 1s en el borde (primera y última fila, primera y última columna).\n",
    "\n",
    "Por ejemplo:\n",
    "```python\n",
    "11111111\n",
    "10000001\n",
    "10000001\n",
    "10000001\n",
    "10000001\n",
    "10000001\n",
    "11111111\n",
    "```\n",
    "\n",
    "---"
   ]
  },
  {
   "cell_type": "code",
   "execution_count": null,
   "id": "8c06ec39",
   "metadata": {},
   "outputs": [],
   "source": [
    "filas = 7\n",
    "columnas = 8\n",
    "piscina = np.zeros((filas, columnas))\n",
    "\n",
    "def es_borde(i: int, j: int) -> bool:\n",
    "    \"\"\"Verifica si la posición (i, j) es un borde de la piscina.\n",
    "\n",
    "    Args:\n",
    "        i (int): Índice de la fila.\n",
    "        j (int): Índice de la columna.\n",
    "    \n",
    "    Returns:\n",
    "        bool: True si es un borde, False en caso contrario.\n",
    "    \"\"\"\n",
    "    return i == 0 or i == filas - 1 or j == 0 or j == columnas - 1\n",
    "\n",
    "for i in range(filas):\n",
    "    for j in range(columnas):\n",
    "        # Verificamos si es un borde\n",
    "        if es_borde(i, j):\n",
    "            piscina[i, j] = 1  # Asignamos 1 a los bordes\n",
    "\n",
    "print(\"Piscina con bordes:\")\n",
    "print(piscina)"
   ]
  },
  {
   "cell_type": "markdown",
   "id": "81194916",
   "metadata": {},
   "source": [
    "### Indexación booleana y filtros\n",
    "\n",
    "Al igual que en los arreglos, en las matrices si se quiere aplicar algún filtro sobre el arreglo, se puede usar la **indexación booleana**.\n",
    "\n",
    "---"
   ]
  },
  {
   "cell_type": "code",
   "execution_count": null,
   "id": "c098ca86",
   "metadata": {},
   "outputs": [],
   "source": [
    "matriz_datos = np.array([[1, 2, 3],\n",
    "                         [4, 5, 6],\n",
    "                         [7, 8, 9]])\n",
    "\n",
    "# Imprimimos solo los múltiplos de 2\n",
    "print(\"Elementos múltiplos de 2:\")\n",
    "print(matriz_datos[matriz_datos % 2 == 0])  # Imprime: [2 4 6 8]. OJO que retorna un arreglo unidimensional con los elementos que cumplen la condición"
   ]
  },
  {
   "cell_type": "markdown",
   "id": "42919215",
   "metadata": {},
   "source": [
    "#### ⛏️ Ejercicio: Buscaminas\n",
    "\n",
    "Dada una matriz binaria (1 = mina, 0 = vacío), cree una versión legible del tablero como una matriz de cadenas de texto:\n",
    "- \"x\" si la celda es 1 (mina)\n",
    "- \"_\" si la celda es 0 (vacía)\n",
    "\n",
    "---"
   ]
  },
  {
   "cell_type": "code",
   "execution_count": null,
   "id": "31385ef6",
   "metadata": {},
   "outputs": [],
   "source": [
    "minas = np.array([\n",
    "    [0, 1, 0],\n",
    "    [0, 0, 1],\n",
    "    [1, 0, 0]\n",
    "])\n",
    "\n",
    "# Crear matriz de strings con \"_\"\n",
    "tablero = np.full(minas.shape, \"_\", dtype=str)\n",
    "\n",
    "# Poner \"x\" donde hay minas\n",
    "tablero[minas == 1] = \"x\"\n",
    "\n",
    "print(tablero)"
   ]
  },
  {
   "cell_type": "markdown",
   "id": "bd7b0203",
   "metadata": {},
   "source": [
    "### Arreglos de más dimensiones\n",
    "\n",
    "Los arreglos no se limitan a una sola dimensión. Se pueden tener matrices (2D), cubos (3D) o incluso estructuras de más dimensiones. ¡Imagina una hoja de cálculo (2D) o un cubo de Rubik (3D)!\n",
    "\n",
    "- **Unidimensional:** Una lista de números.\n",
    "- **Bidimensional:** Una tabla o matriz (filas y columnas).\n",
    "- **Tridimensional:** Un cubo de datos, como una pila de matrices.\n",
    "\n",
    "> **Visualización:**\n",
    ">\n",
    "> - 1D: `[1, 2, 3, 4]`\n",
    "> - 2D: `[[1, 2], [3, 4]]`\n",
    "> - 3D: `[[[1, 2], [3, 4]], [[5, 6], [7, 8]]]`\n",
    "> - ...\n",
    "\n",
    "La **estructura** general se mantiene: son colecciones de datos. Sin embargo, la **lógica** para recorrerlos o manipularlos puede cambiar, ya que ahora se necesitan más índices y, a menudo, bucles anidados.\n",
    "\n",
    "La idea de \"arreglo\" es la misma, pero la forma de trabajar con ellos puede ser más compleja a medida que aumentan las dimensiones."
   ]
  },
  {
   "cell_type": "markdown",
   "id": "11e72ce7",
   "metadata": {},
   "source": [
    "---\n",
    "\n",
    "## 3. Operaciones Vectorizadas\n",
    "\n",
    "---\n",
    "\n",
    "La principal ventaja de NumPy es su capacidad para realizar **operaciones vectorizadas**. Esto significa que se pueden aplicar una operación a un arreglo completo de una sola vez, sin necesidad de escribir un bucle `for`. NumPy ejecuta estas operaciones en código C o Fortran compilado, lo que es órdenes de magnitud más rápido.\n",
    "\n",
    "---\n",
    "\n",
    "### Operaciones Elemento a Elemento\n",
    "\n",
    "Se pueden ejecutar operaciones entre dos arreglos (si tienen la misma forma) o un arreglo y un escalar.\n",
    "\n",
    "---"
   ]
  },
  {
   "cell_type": "markdown",
   "id": "a2e79959",
   "metadata": {},
   "source": [
    "#### Suma\n",
    "\n",
    "Se pueden sumar dos elementos por medio del operador `+` o del método `np.add`.\n",
    "\n",
    "---"
   ]
  },
  {
   "cell_type": "code",
   "execution_count": null,
   "id": "66b39d66",
   "metadata": {},
   "outputs": [],
   "source": [
    "# Operaciones con un escalar\n",
    "arr1 = np.array([10, 20, 30])\n",
    "print(f\"Arreglo original: {arr1}\")\n",
    "\n",
    "# Sumar 5 a cada elemento\n",
    "resultado_suma = np.add(arr1, 5)\n",
    "print(f\"Sumando 5: {resultado_suma}\")\n",
    "\n",
    "resultado_suma = arr1 + 5\n",
    "print(f\"Sumando 5 con operador: {resultado_suma}\")"
   ]
  },
  {
   "cell_type": "code",
   "execution_count": null,
   "id": "568966b2",
   "metadata": {},
   "outputs": [],
   "source": [
    "# Operaciones con un escalar\n",
    "arr1 = np.array([10, 20, 30])\n",
    "arr2 = np.array([1, 2, 3])\n",
    "print(f\"Arreglo original: {arr1}\")\n",
    "\n",
    "# Sumar dos arreglos\n",
    "resultado_suma_arr = np.add(arr1, arr2)\n",
    "print(f\"Sumando arreglos: {resultado_suma_arr}\")\n",
    "\n",
    "resultado_suma = arr1 + arr2\n",
    "print(f\"Sumando 5 con operador: {resultado_suma}\")"
   ]
  },
  {
   "cell_type": "markdown",
   "id": "d8d63262",
   "metadata": {},
   "source": [
    "#### Resta\n",
    "\n",
    "Se pueden restar dos elementos por medio del operador `-` o del método `np.subtract`.\n",
    "\n",
    "---"
   ]
  },
  {
   "cell_type": "code",
   "execution_count": null,
   "id": "bc041187",
   "metadata": {},
   "outputs": [],
   "source": [
    "# Operaciones con un escalar\n",
    "arr1 = np.array([10, 20, 30])\n",
    "print(f\"Arreglo original: {arr1}\")\n",
    "\n",
    "# Sumar 5 a cada elemento\n",
    "resultado_resta = np.subtract(arr1, 5)\n",
    "print(f\"Restando 5: {resultado_resta}\")\n",
    "\n",
    "resultado_resta = arr1 - 5\n",
    "print(f\"Restando 5 con operador: {resultado_resta}\")"
   ]
  },
  {
   "cell_type": "code",
   "execution_count": null,
   "id": "cfc5d6a6",
   "metadata": {},
   "outputs": [],
   "source": [
    "# Operaciones con un escalar\n",
    "arr1 = np.array([10, 20, 30])\n",
    "arr2 = np.array([1, 2, 3])\n",
    "print(f\"Arreglo original: {arr1}\")\n",
    "\n",
    "# Sumar dos arreglos\n",
    "resultado_resta_arr = np.subtract(arr1, arr2)\n",
    "print(f\"Restando arreglos: {resultado_resta_arr}\")\n",
    "\n",
    "resultado_resta = arr1 - arr2\n",
    "print(f\"Restando 5 con operador: {resultado_resta}\")"
   ]
  },
  {
   "cell_type": "markdown",
   "id": "fd9ce6fd",
   "metadata": {},
   "source": [
    "#### Multiplicación\n",
    "\n",
    "Se pueden multiplicar dos elementos por medio del operador `*` o del método `np.multiply`.\n",
    "\n",
    "---"
   ]
  },
  {
   "cell_type": "code",
   "execution_count": null,
   "id": "84a76dc0",
   "metadata": {},
   "outputs": [],
   "source": [
    "# Operaciones con un escalar\n",
    "arr1 = np.array([10, 20, 30])\n",
    "print(f\"Arreglo original: {arr1}\")\n",
    "\n",
    "# Sumar 5 a cada elemento\n",
    "resultado_mult = np.multiply(arr1, 5)\n",
    "print(f\"Multiplicando por 5: {resultado_mult}\")\n",
    "\n",
    "resultado_mult = arr1 * 5\n",
    "print(f\"Multiplicando por 5 con operador: {resultado_mult}\")"
   ]
  },
  {
   "cell_type": "code",
   "execution_count": null,
   "id": "bb78a48b",
   "metadata": {},
   "outputs": [],
   "source": [
    "# Operaciones con un escalar\n",
    "arr1 = np.array([10, 20, 30])\n",
    "arr2 = np.array([1, 2, 3])\n",
    "print(f\"Arreglo original: {arr1}\")\n",
    "\n",
    "# Sumar dos arreglos\n",
    "resultado_mult_arr = np.multiply(arr1, arr2)\n",
    "print(f\"Multiplicando arreglos: {resultado_mult_arr}\")\n",
    "\n",
    "resultado_mult = arr1 * arr2\n",
    "print(f\"Multiplicando 5 con operador: {resultado_mult}\")"
   ]
  },
  {
   "cell_type": "markdown",
   "id": "194fbfb1",
   "metadata": {},
   "source": [
    "#### División\n",
    "\n",
    "Se pueden dividir dos elementos por medio del operador `/` o del método `np.divide`.\n",
    "\n",
    "---"
   ]
  },
  {
   "cell_type": "code",
   "execution_count": null,
   "id": "05c2eff6",
   "metadata": {},
   "outputs": [],
   "source": [
    "# Operaciones con un escalar\n",
    "arr1 = np.array([10, 20, 30])\n",
    "print(f\"Arreglo original: {arr1}\")\n",
    "\n",
    "# Sumar 5 a cada elemento\n",
    "resultado_div = np.divide(arr1, 5)\n",
    "print(f\"Dividiendo por 5: {resultado_div}\")\n",
    "\n",
    "resultado_div = arr1 / 5\n",
    "print(f\"Dividiendo por 5 con operador: {resultado_div}\")"
   ]
  },
  {
   "cell_type": "code",
   "execution_count": null,
   "id": "e1a00922",
   "metadata": {},
   "outputs": [],
   "source": [
    "# Operaciones con un escalar\n",
    "arr1 = np.array([10, 20, 30])\n",
    "arr2 = np.array([1, 2, 3])\n",
    "print(f\"Arreglo original: {arr1}\")\n",
    "\n",
    "# Sumar dos arreglos\n",
    "resultado_div_arr = np.divide(arr1, arr2)\n",
    "print(f\"Dividiendo arreglos: {resultado_div_arr}\")\n",
    "\n",
    "resultado_div = arr1 / arr2\n",
    "print(f\"Dividiendo 5 con operador: {resultado_div}\")"
   ]
  },
  {
   "cell_type": "markdown",
   "id": "0b995ed9",
   "metadata": {},
   "source": [
    "#### 💪 Ejercicio: Fuerzas\n",
    "\n",
    "Una estructura metálica está sometida a fuerzas en tres direcciones (X, Y, Z) aplicadas sobre **5 nodos**. Se han medido dos tipos de fuerzas:\n",
    "\n",
    "- **`fuerzas_externas`**: fuerzas aplicadas por cargas externas.\n",
    "- **`fuerzas_internas`**: fuerzas internas generadas por reacciones de la estructura.\n",
    "\n",
    "Cada conjunto está representado como un arreglo NumPy de forma `(5, 3)`, donde cada fila representa un nodo y cada columna una dirección (X, Y, Z).\n",
    "\n",
    "**Datos**:\n",
    "\n",
    "```python\n",
    "fuerzas_externas = np.array([[100, 200, -150],\n",
    "                   [80, -120, 90],\n",
    "                   [-60, 100, 110],\n",
    "                   [50, 75, -80],\n",
    "                   [-90, -60, 130]])\n",
    "\n",
    "fuerzas_internas = np.array([[-100, -180, 140],\n",
    "                    [-70, 110, -95],\n",
    "                    [65, -90, -105],\n",
    "                    [-55, -70, 85],\n",
    "                    [85, 65, -125]])\n",
    "```\n",
    "\n",
    "1. **Calcule el vector de fuerza neta en cada nodo**, como:\n",
    "\n",
    "   **$\\text{fuerza neta} = \\text{fuerzas externas} + \\text{fuerzas internas}$**\n",
    "\n",
    "2. **Obtenga la magnitud de la fuerza neta en cada nodo** utilizando la fórmula:\n",
    "\n",
    "   **$|F| = sqrt(Fx² + Fy² + Fz²)$**  \n",
    "   (Use `np.multiply` para elevar al cuadrado y `np.sqrt` con `np.sum`)\n",
    "\n",
    "---"
   ]
  },
  {
   "cell_type": "code",
   "execution_count": null,
   "id": "48e552d8",
   "metadata": {},
   "outputs": [],
   "source": [
    "fuerzas_externas = np.array([[100, 200, -150],\n",
    "                   [80, -120, 90],\n",
    "                   [-60, 100, 110],\n",
    "                   [50, 75, -80],\n",
    "                   [-90, -60, 130]])\n",
    "\n",
    "fuerzas_internas = np.array([[-100, -180, 140],\n",
    "                    [-70, 110, -95],\n",
    "                    [65, -90, -105],\n",
    "                    [-55, -70, 85],\n",
    "                    [85, 65, -125]])\n",
    "\n",
    "# 1\n",
    "fuerza_neta = fuerzas_externas + fuerzas_internas\n",
    "\n",
    "# 2\n",
    "magnitud = np.sqrt(fuerza_neta[:, 0] * fuerza_neta[:, 0] +\n",
    "                   fuerza_neta[:, 1] * fuerza_neta[:, 1] +\n",
    "                   fuerza_neta[:, 2] * fuerza_neta[:, 2])\n",
    "\n",
    "print(\"Magnitud:\")\n",
    "print(magnitud)"
   ]
  },
  {
   "cell_type": "markdown",
   "id": "b96535ff",
   "metadata": {},
   "source": [
    "### Funciones de Agregación\n",
    "\n",
    "Son funciones que resumen los datos en un arreglo, como encontrar el promedio, el mínimo o el máximo.\n",
    "\n",
    "---"
   ]
  },
  {
   "cell_type": "markdown",
   "id": "a4eb4a6b",
   "metadata": {},
   "source": [
    "#### Sumando\n",
    "\n",
    "Se pueden sumar todos los datos de un arreglo por medio del método `np.sum`.\n",
    "\n",
    "---"
   ]
  },
  {
   "cell_type": "code",
   "execution_count": null,
   "id": "896b87bc",
   "metadata": {},
   "outputs": [],
   "source": [
    "datos_sensor = np.array([1, 2, 3, 4, 5])  # Creando un arreglo a partir de una lista\n",
    "suma_total = np.sum(datos_sensor)\n",
    "print(f\"Suma de las lecturas: {suma_total:.2f}\")"
   ]
  },
  {
   "cell_type": "markdown",
   "id": "f2dd9844",
   "metadata": {},
   "source": [
    "#### Promedio\n",
    "\n",
    "Se puede obtener el promedio de un arreglo por medio del método `np.mean`.\n",
    "\n",
    "---"
   ]
  },
  {
   "cell_type": "code",
   "execution_count": null,
   "id": "31ae281a",
   "metadata": {},
   "outputs": [],
   "source": [
    "datos_sensor = np.array([1, 2, 3, 4, 5])  # Creando un arreglo a partir de una lista\n",
    "promedio = np.mean(datos_sensor)\n",
    "print(f\"Promedio de las lecturas: {promedio:.2f}\")"
   ]
  },
  {
   "cell_type": "markdown",
   "id": "3f93a38a",
   "metadata": {},
   "source": [
    "#### Mínimo y máximo\n",
    "\n",
    "Se puede obtener el mínimo de un arreglo por medio del método `np.min`, y el máximo por medio del método `np.max`.\n",
    "\n",
    "---"
   ]
  },
  {
   "cell_type": "code",
   "execution_count": null,
   "id": "5928472d",
   "metadata": {},
   "outputs": [],
   "source": [
    "# Valor mínimo y máximo\n",
    "minimo = np.min(datos_sensor)\n",
    "maximo = np.max(datos_sensor)\n",
    "print(f\"Lectura mínima: {minimo}, Lectura máxima: {maximo}\")"
   ]
  },
  {
   "cell_type": "markdown",
   "id": "b6005f57",
   "metadata": {},
   "source": [
    "---\n",
    "\n",
    "### Operaciones sobre Filas y Columnas\n",
    "\n",
    "Para matrices, se pueden aplicar funciones de agregación al arreglo completo, o solo a lo largo de las filas (`axis=1`) o de las columnas (`axis=0`).\n",
    "\n",
    "---"
   ]
  },
  {
   "cell_type": "markdown",
   "id": "e65c6b59",
   "metadata": {},
   "source": [
    "#### ¿Qué son los ejes (`axis`) en NumPy?\n",
    "\n",
    "Un arreglo NumPy puede tener varias dimensiones (llamadas **ejes** o **axes**). Cada `axis` representa una dirección a lo largo de la cual se puede operar.\n",
    "\n",
    "![Ejes](https://predictivehacks.com/wp-content/uploads/2020/08/numpy_arrays-1024x572.png)\n",
    "\n",
    "---"
   ]
  },
  {
   "cell_type": "code",
   "execution_count": null,
   "id": "b9ae2e89",
   "metadata": {},
   "outputs": [],
   "source": [
    "ventas_trimestrales = np.array([[100, 120, 150],  # Producto A\n",
    "                                 [80,  90,  110]]) # Producto B\n",
    "\n",
    "# Suma total de todas las ventas\n",
    "total_ventas = np.sum(ventas_trimestrales)\n",
    "print(f\"Ventas totales: {total_ventas}\")"
   ]
  },
  {
   "cell_type": "code",
   "execution_count": null,
   "id": "48df9fbe",
   "metadata": {},
   "outputs": [],
   "source": [
    "# Suma por columna (ventas totales por mes)\n",
    "ventas_por_mes = np.sum(ventas_trimestrales, axis=0)\n",
    "print(f\"Ventas por mes: {ventas_por_mes}\")"
   ]
  },
  {
   "cell_type": "code",
   "execution_count": null,
   "id": "6d589704",
   "metadata": {},
   "outputs": [],
   "source": [
    "# Suma por fila (ventas totales por producto)\n",
    "ventas_por_producto = np.sum(ventas_trimestrales, axis=1)\n",
    "print(f\"Ventas por producto: {ventas_por_producto}\")"
   ]
  },
  {
   "cell_type": "markdown",
   "id": "ec8bb60b",
   "metadata": {},
   "source": [
    "👉 `axis=N` significa: aplicar la operación colapsando la dimensión N (combinándola)."
   ]
  },
  {
   "cell_type": "markdown",
   "id": "67e1e060",
   "metadata": {},
   "source": [
    "Por ejemplo, para un arreglo de 1 dimensión, al hacer `np.sum(axis=0)` significa \"colapse los elementos del eje 0 y aplique la suma\". Esto es:"
   ]
  },
  {
   "cell_type": "code",
   "execution_count": null,
   "id": "c13c2ed8",
   "metadata": {},
   "outputs": [],
   "source": [
    "arreglo = np.array([1, 2, 3, 4])\n",
    "\n",
    "print(f\"Suma por columnas: {np.sum(arreglo, axis=0)}\")"
   ]
  },
  {
   "cell_type": "markdown",
   "id": "777bb9c1",
   "metadata": {},
   "source": [
    "Para un arreglo de 2 dimensiones, al hacer `np.sum(axis=0)` significa \"colapse los elementos del eje 0 y aplique la suma\". Esto es:\n",
    "\n",
    "![Sum axis 0 image](https://raw.githubusercontent.com/EnriqueVilchezL/principios_de_info/main/10_computacion_numerica/imgs/numpy_axis-0.png)"
   ]
  },
  {
   "cell_type": "code",
   "execution_count": null,
   "id": "65c4c762",
   "metadata": {},
   "outputs": [],
   "source": [
    "arreglo = np.array([[1, 2, 3, 4],\n",
    "                    [5, 6, 7, 8],\n",
    "                    [9, 10, 11, 12]])\n",
    "\n",
    "print(f\"Suma: {np.sum(arreglo, axis=0)}\")"
   ]
  },
  {
   "cell_type": "markdown",
   "id": "fc9da22d",
   "metadata": {},
   "source": [
    "Al hacer `np.sum(axis=1)`, significa \"colapse los elementos del eje 1 y aplique la suma\". Esto es:\n",
    "\n",
    "![Sum axis 1 image](https://raw.githubusercontent.com/EnriqueVilchezL/principios_de_info/main/10_computacion_numerica/imgs/numpy_axis-1.png)"
   ]
  },
  {
   "cell_type": "code",
   "execution_count": null,
   "id": "7d2ff3f2",
   "metadata": {},
   "outputs": [],
   "source": [
    "arreglo = np.array([[1, 2, 3, 4],\n",
    "                    [5, 6, 7, 8],\n",
    "                    [9, 10, 11, 12]])\n",
    "\n",
    "print(f\"Suma: {np.sum(arreglo, axis=1)}\")"
   ]
  },
  {
   "cell_type": "markdown",
   "id": "3709ea5b",
   "metadata": {},
   "source": [
    "#### 👩‍🏫 Ejercicio: Grupo de clase\n",
    "\n",
    "Se tienen los resultados de exámenes de un grupo de estudiantes almacenados en dos arreglos NumPy:\n",
    "\n",
    "```python\n",
    "examen_1 = np.array([90, 89, 67, 86, 59, 20, 100])\n",
    "examen_2 = np.array([100, 82, 38, 49, 56, 34, 98])\n",
    "```\n",
    "\n",
    "La nota del índice `i` es la calificación del estudiante `i`. Calcule el promedio de:\n",
    "\n",
    "- Ambos examenes, para cada estudiante.\n",
    "- Cada examen, para el aula.\n",
    "- Todas las notas.\n",
    "\n",
    "---"
   ]
  },
  {
   "cell_type": "code",
   "execution_count": null,
   "id": "4d5a2292",
   "metadata": {},
   "outputs": [],
   "source": [
    "examen_1 = np.array([90, 89, 67, 86, 59, 20, 100])\n",
    "examen_2 = np.array([100, 82, 38, 49, 56, 34, 98])\n",
    "\n",
    "ambos_examenes = np.array([examen_1, examen_2])\n",
    "print(\"Arreglo de exámenes:\")\n",
    "print(ambos_examenes)\n",
    "\n",
    "# Promedio por estudiante para ambos exámenes\n",
    "promedio_por_estudiante = np.mean(ambos_examenes, axis=0)\n",
    "print(\"Promedio por estudiante:\")\n",
    "print(promedio_por_estudiante)\n",
    "\n",
    "# Promedio por examen\n",
    "promedio_por_examen = np.mean(ambos_examenes, axis=1)\n",
    "print(\"Promedio por examen:\")\n",
    "print(promedio_por_examen)\n",
    "\n",
    "# Promedio general\n",
    "promedio_general = np.mean(ambos_examenes)\n",
    "print(f\"Promedio general: {promedio_general}\")"
   ]
  },
  {
   "cell_type": "markdown",
   "id": "c7ed7355",
   "metadata": {},
   "source": [
    "---\n",
    "\n",
    "### Álgebra Lineal: Operaciones con Matrices\n",
    "\n",
    "NumPy (y su compañera **SciPy**) son potencias para el álgebra lineal.\n",
    "\n",
    "**¿Qué es SciPy?**  \n",
    "SciPy es una biblioteca de Python construida sobre NumPy que proporciona funciones avanzadas para matemáticas, ciencia e ingeniería. Incluye módulos para álgebra lineal, optimización, integración, estadística, procesamiento de señales, entre otros. Es ampliamente utilizada en la computación científica por su eficiencia y facilidad de uso.\n",
    "\n",
    "---"
   ]
  },
  {
   "cell_type": "code",
   "execution_count": null,
   "id": "85e311f4",
   "metadata": {},
   "outputs": [],
   "source": [
    "from scipy import linalg # SciPy es la biblioteca para computación científica, construida sobre NumPy\n",
    "\n",
    "A = np.array([[1, 2], [3, 4]])\n",
    "B = np.array([[5, 6], [7, 8]])"
   ]
  },
  {
   "cell_type": "markdown",
   "id": "6bd4ee29",
   "metadata": {},
   "source": [
    "#### Multiplicación de matrices\n",
    "\n",
    "Enrealidad el operador `*` en NumPy representa al producto Hadamard ($A \\circ B$), que es la multiplicación elemento a elemento de dos arreglos:\n",
    "\n",
    "Para hacer una multiplicación de matrices, se usa `np.dot()` o el operador `@`.\n",
    "\n",
    "---"
   ]
  },
  {
   "cell_type": "code",
   "execution_count": null,
   "id": "f743bdd4",
   "metadata": {},
   "outputs": [],
   "source": [
    "# Multiplicación de matrices\n",
    "C = np.dot(A, B)\n",
    "print(\"Multiplicación de A y B:\")\n",
    "print(C)\n",
    "\n",
    "C = A @ B  # Operador @ para multiplicación de matrices\n",
    "print(\"Multiplicación de A y B con operador @:\")\n",
    "print(C)"
   ]
  },
  {
   "cell_type": "markdown",
   "id": "6f57c6f6",
   "metadata": {},
   "source": [
    "#### Transposición\n",
    "\n",
    "Intercambia filas por columnas. Se puede hacer con `np.transponse` o accediendo a la propiedad `.T` de un arreglo.\n",
    "\n",
    "---"
   ]
  },
  {
   "cell_type": "code",
   "execution_count": null,
   "id": "35359c93",
   "metadata": {},
   "outputs": [],
   "source": [
    "# Transposición de A\n",
    "A_t = np.transpose(A)\n",
    "print(\"Transpuesta de A:\")\n",
    "print(A_t)\n",
    "\n",
    "A_t = A.T  # Propiedad .T para transposición\n",
    "print(\"Transpuesta de A con propiedad .T:\")\n",
    "print(A_t)"
   ]
  },
  {
   "cell_type": "markdown",
   "id": "d971449e",
   "metadata": {},
   "source": [
    "#### Diagonal\n",
    "\n",
    "Se puede obtener la diagonal de una matriz con `np.diag`.\n",
    "\n",
    "---"
   ]
  },
  {
   "cell_type": "code",
   "execution_count": null,
   "id": "36bd9bac",
   "metadata": {},
   "outputs": [],
   "source": [
    "# Diagonal de C\n",
    "diag_C = np.diag(C)\n",
    "print(f\"Diagonal de C: {diag_C}\")"
   ]
  },
  {
   "cell_type": "markdown",
   "id": "c48fe93b",
   "metadata": {},
   "source": [
    "#### Inversa\n",
    "\n",
    "Se puede obtener la inversa de una matriz con `linalg.inv` de `SciPy`.\n",
    "\n",
    "---"
   ]
  },
  {
   "cell_type": "code",
   "execution_count": null,
   "id": "81808380",
   "metadata": {},
   "outputs": [],
   "source": [
    "# Inversa de A (usando SciPy)\n",
    "A_inv = linalg.inv(A)\n",
    "print(\"Inversa de A:\")\n",
    "print(A_inv)\n",
    "\n",
    "# Verificación: A * A_inv debería ser la matriz identidad\n",
    "print(\"Verificación A * A_inv:\")\n",
    "print(np.dot(A, A_inv))"
   ]
  },
  {
   "cell_type": "markdown",
   "id": "25527096",
   "metadata": {},
   "source": [
    "---\n",
    "\n",
    "## 4. Broadcasting\n",
    "\n",
    "---\n",
    "\n",
    "El **broadcasting** describe cómo NumPy trata los arreglos con diferentes formas durante las operaciones aritméticas. Sujeto a ciertas restricciones, el arreglo más pequeño es \"transmitido\" (broadcast) a través del arreglo más grande para que tengan formas compatibles.\n",
    "\n",
    "Esto permite, por ejemplo, sumar un vector a cada fila de una matriz sin tener que crear copias del vector.\n",
    "\n",
    "---"
   ]
  },
  {
   "cell_type": "code",
   "execution_count": null,
   "id": "9bcc53c4",
   "metadata": {},
   "outputs": [],
   "source": [
    "# Matriz de datos de 3x3\n",
    "matriz = np.array([[1, 2, 3],\n",
    "                   [4, 5, 6],\n",
    "                   [7, 8, 9]])\n",
    "\n",
    "# Vector de 1x3 que queremos sumar a cada fila\n",
    "vector_suma = np.array([10, 20, 30])\n",
    "\n",
    "# Broadcasting en acción: NumPy \"estira\" o \"duplica\" virtualmente el vector_suma\n",
    "# para que coincida con la forma de la matriz, y luego realiza la suma.\n",
    "resultado = np.add(matriz, vector_suma)\n",
    "\n",
    "print(\"\\nResultado de la suma con broadcasting:\")\n",
    "print(resultado)"
   ]
  },
  {
   "cell_type": "markdown",
   "id": "62ae504f",
   "metadata": {},
   "source": [
    "Esto es equivalente a haber duplicado el vector, para hacerlo de la forma de la matriz:"
   ]
  },
  {
   "cell_type": "code",
   "execution_count": null,
   "id": "52a389e4",
   "metadata": {},
   "outputs": [],
   "source": [
    "vector_suma = np.array([10, 20, 30]).repeat(3, axis=0).reshape(3, 3)\n",
    "print(\"\\nVector estirado manualmente:\")\n",
    "print(vector_suma)\n",
    "\n",
    "# Verificación: la suma manual debe ser igual al resultado con broadcasting\n",
    "resultado_manual = np.add(matriz, vector_suma)\n",
    "print(\"\\nResultado de la suma manual:\")\n",
    "print(resultado_manual)"
   ]
  },
  {
   "cell_type": "markdown",
   "id": "52452511",
   "metadata": {},
   "source": [
    "También se podría hacer la suma con columnas, si se cambia la forma del vector:"
   ]
  },
  {
   "cell_type": "code",
   "execution_count": null,
   "id": "e20ab4c9",
   "metadata": {},
   "outputs": [],
   "source": [
    "vector_suma = np.array([10, 20, 30]).reshape(3, 1)  # Cambiando la forma a una columna\n",
    "\n",
    "print(\"\\nVector como columna:\")\n",
    "print(vector_suma)\n",
    "\n",
    "# Suma con broadcasting\n",
    "resultado = np.add(matriz, vector_suma)\n",
    "print(\"\\nResultado de la suma con broadcasting (vector columna):\")\n",
    "print(resultado)"
   ]
  },
  {
   "cell_type": "markdown",
   "id": "3c4a31ea",
   "metadata": {},
   "source": [
    "## Ejercicios Adicionales\n",
    "\n",
    "---"
   ]
  },
  {
   "cell_type": "markdown",
   "id": "9db22b84",
   "metadata": {},
   "source": [
    "**1. Normalización de Datos**\n",
    "\n",
    "Dadas las lecturas de un sensor:\n",
    "\n",
    "```python\n",
    "datos = np.array([110, 115, 108, 120, 105, 112])\n",
    "```\n",
    "\n",
    "Normalice los datos para que estén en el rango de 0 a 1. La fórmula es: `X_norm = (X - X_min) / (X_max - X_min)`.\n",
    "\n",
    "---"
   ]
  },
  {
   "cell_type": "code",
   "execution_count": null,
   "id": "586bb320",
   "metadata": {},
   "outputs": [],
   "source": [
    "import numpy as np\n",
    "\n",
    "datos = np.array([110, 115, 108, 120, 105, 112])\n",
    "\n",
    "# Tu código aquí\n",
    "minimo = np.min(datos)\n",
    "maximo = np.max(datos)\n",
    "\n",
    "datos_normalizados = np.divide(np.subtract(datos, minimo), np.subtract(maximo, minimo))\n",
    "\n",
    "print(f\"Datos originales: {datos}\")\n",
    "print(f\"Datos normalizados: {datos_normalizados}\")"
   ]
  },
  {
   "cell_type": "markdown",
   "id": "c2f440eb",
   "metadata": {},
   "source": [
    "**2. Calificaciones Finales**\n",
    "\n",
    "Se tiene una matriz donde las filas representan a los estudiantes y las columnas representan las calificaciones de 3 exámenes.\n",
    "\n",
    "```python\n",
    "calificaciones = np.array([[8, 7, 9],   # Estudiante 1\n",
    "                           [10, 8, 9],  # Estudiante 2\n",
    "                           [7, 6, 8]]) # Estudiante 3\n",
    "```\n",
    "\n",
    "Calcule el promedio final de cada estudiante.\n",
    "\n",
    "---"
   ]
  },
  {
   "cell_type": "code",
   "execution_count": null,
   "id": "5256fffb",
   "metadata": {},
   "outputs": [],
   "source": [
    "import numpy as np\n",
    "\n",
    "calificaciones = np.array([[8, 7, 9],   # Estudiante 1\n",
    "                           [10, 8, 9],  # Estudiante 2\n",
    "                           [7, 6, 8]]) # Estudiante 3\n",
    "\n",
    "# Tu código aquí (calcula el promedio por fila)\n",
    "promedios_finales = np.mean(calificaciones, axis=1)\n",
    "\n",
    "print(\"Calificaciones:\")\n",
    "print(calificaciones)\n",
    "print(f\"Promedios finales de los estudiantes: {promedios_finales}\")"
   ]
  },
  {
   "cell_type": "markdown",
   "id": "fbfd0178",
   "metadata": {},
   "source": [
    "**3. Conversión de Moneda**\n",
    "\n",
    "Se tiene un arreglo con precios en dólares. Use broadcasting para convertirlos a tres monedas diferentes (Euros, Yenes, Libras) usando un vector de tasas de conversión.\n",
    "\n",
    "```python\n",
    "precios_usd = np.array([[10], [25], [50]]) # Precios en USD\n",
    "tasas_conversion = np.array([0.92, 148.5, 0.79]) # EUR, JPY, GBP\n",
    "```\n",
    "\n",
    "---"
   ]
  },
  {
   "cell_type": "code",
   "execution_count": null,
   "id": "4a87bf7d",
   "metadata": {},
   "outputs": [],
   "source": [
    "import numpy as np\n",
    "\n",
    "precios_usd = np.array([[10], [25], [50]]) # Precios en USD\n",
    "tasas_conversion = np.array([0.92, 148.5, 0.79]) # EUR, JPY, GBP\n",
    "\n",
    "# Tu código aquí (multiplica la matriz de precios por el vector de tasas)\n",
    "precios_convertidos = np.multiply(precios_usd, tasas_conversion)\n",
    "\n",
    "print(\"Precios convertidos (filas=producto, columnas=EUR, JPY, GBP):\")\n",
    "print(precios_convertidos)"
   ]
  },
  {
   "cell_type": "markdown",
   "id": "b9f60c18",
   "metadata": {},
   "source": [
    "**4. Sistema de Ecuaciones Lineales**\n",
    "\n",
    "Resuelva el siguiente sistema de ecuaciones lineales usando la inversa de una matriz:\n",
    "  `2x + y = 8`\n",
    "  `x + 3y = 7`\n",
    "Esto se puede representar como `A * v = b`, donde `v` es el vector `[x, y]`. La solución es `v = A_inv * b`.\n",
    "\n",
    "---"
   ]
  },
  {
   "cell_type": "code",
   "execution_count": null,
   "id": "da180ffa",
   "metadata": {},
   "outputs": [],
   "source": [
    "import numpy as np\n",
    "from scipy import linalg\n",
    "\n",
    "# Matriz de coeficientes A\n",
    "A = np.array([[2, 1],\n",
    "              [1, 3]])\n",
    "\n",
    "# Vector de resultados b\n",
    "b = np.array([8, 7])\n",
    "\n",
    "# Su código aquí: calcule la inversa de A y luego use np.dot para encontrar la solución\n",
    "A_inv = linalg.inv(A)\n",
    "solucion = np.dot(A_inv, b)\n",
    "\n",
    "print(f\"La solución es x = {solucion[0]}, y = {solucion[1]}\")"
   ]
  },
  {
   "cell_type": "markdown",
   "id": "9230b571",
   "metadata": {},
   "source": [
    "**5. Distancia Euclidiana**\n",
    "\n",
    "Cree una función que calcule la distancia euclidiana entre dos puntos (vectores) en un espacio n-dimensional. La fórmula es `sqrt(sum((p1 - p2)^2))`.\n",
    "\n",
    "---"
   ]
  },
  {
   "cell_type": "code",
   "execution_count": null,
   "id": "d2e6ea3f",
   "metadata": {},
   "outputs": [],
   "source": [
    "import numpy as np\n",
    "\n",
    "def distancia_euclidiana(p1: np.ndarray, p2: np.ndarray) -> float:\n",
    "    \"\"\"\n",
    "    Calcula la distancia euclidiana entre dos puntos en un espacio n-dimensional.\n",
    "\n",
    "    Args:\n",
    "        p1 (np.ndarray): Coordenadas del primer punto.\n",
    "        p2 (np.ndarray): Coordenadas del segundo punto.\n",
    "\n",
    "    Returns:\n",
    "        float: La distancia euclidiana entre los dos puntos.\n",
    "    \"\"\"\n",
    "    diferencia_cuadrada = np.power(np.subtract(p1, p2), 2)\n",
    "    suma_cuadrados = np.sum(diferencia_cuadrada)\n",
    "    distancia = np.sqrt(suma_cuadrados)\n",
    "    return distancia\n",
    "\n",
    "# Prueba\n",
    "punto1 = np.array([1, 2, 3])\n",
    "punto2 = np.array([4, 6, 8])\n",
    "\n",
    "dist = distancia_euclidiana(punto1, punto2)\n",
    "print(f\"La distancia euclidiana entre {punto1} y {punto2} es: {dist:.2f}\")"
   ]
  },
  {
   "cell_type": "markdown",
   "id": "ef6397d2",
   "metadata": {},
   "source": [
    "## 📝 Ejercicios de Práctica Avanzados\n",
    "\n",
    "A continuación se proponen ejercicios avanzados y más complejos para consolidar los conceptos.\n",
    "\n",
    "-----\n",
    "\n",
    "### 1️⃣ **Ejercicios: Arreglos de una y varias dimensiones**\n",
    "\n",
    "**Ejercicio 1.1 - Filtrado y reestructuración de datos**\n",
    "\n",
    "```python\n",
    "# Importe la biblioteca NumPy.\n",
    "# Cree un arreglo 1D llamado 'datos_sensores' con 50 valores aleatorios enteros entre 10 y 100.\n",
    "# 1. Filtre y extraiga todos los valores que son mayores a 75.\n",
    "# 2. Reestructure (reshape) el arreglo original de 50 elementos a una matriz 5x10.\n",
    "# 3. Acceda e imprima la fila completa que contiene el valor máximo de toda la matriz.\n",
    "```\n",
    "\n",
    "**Ejercicio 1.2 - Agregación de datos en matriz 2D**\n",
    "\n",
    "```python\n",
    "# Importe NumPy.\n",
    "# Cree una matriz 4x5 llamada 'matriz_ventas' con valores aleatorios enteros entre 100 y 500.\n",
    "# Cada fila representa un mes y cada columna un producto.\n",
    "# 1. Calcule y agregue una nueva fila al final que contenga el promedio de ventas por producto (promedio de cada columna).\n",
    "# 2. Calcule y agregue una nueva columna al final que contenga el total de ventas por mes (suma de cada fila).\n",
    "# 3. Imprima la matriz resultante con las nuevas filas y columnas agregadas.\n",
    "```\n",
    "\n",
    "-----\n",
    "\n",
    "### 2️⃣ **Ejercicios: Operaciones vectoriales**\n",
    "\n",
    "**Ejercicio 2.1 - Normalización y cálculo de distancias**\n",
    "\n",
    "```python\n",
    "# Importe NumPy.\n",
    "# Cree dos arreglos 1D, 'v1' y 'v2', con 3 elementos cada uno, con valores flotantes aleatorios.\n",
    "# 1. Normalice ambos vectores a su norma L2 (es decir, divida cada vector por su magnitud).\n",
    "#    La magnitud (o norma L2) se calcula como la raíz cuadrada de la suma de los cuadrados de sus elementos.\n",
    "#    Fórmula: ||v|| = sqrt(sum(v_i^2)).\n",
    "# 2. Calcule e imprima la distancia euclidiana entre los dos vectores normalizados.\n",
    "#    Fórmula: d(v1, v2) = sqrt(sum((v1_i - v2_i)^2)).\n",
    "```\n",
    "\n",
    "**Ejercicio 2.2 - Multiplicación de matrices**\n",
    "\n",
    "```python\n",
    "# Importe NumPy.\n",
    "# 1. Pida al usuario las dimensiones de dos matrices:\n",
    "#    - Para la matriz 'A': número de filas y columnas.\n",
    "#    - Para la matriz 'B': número de filas y columnas.\n",
    "# 2. Pida al usuario que ingrese los valores de cada matriz de acuerdo con las dimensiones indicadas. Puede almacenar los valores en listas. Luego de leer los valores, convierta las listas en arreglos de numpy.\n",
    "# 3. Verifique que las matrices sean compatibles para la multiplicación.\n",
    "#    Esto es, el número de columnas de A debe ser igual al número de filas de B.\n",
    "# 4. Realice la multiplicación de matrices 'A' @ 'B' y almacene el resultado en una nueva matriz 'C'.\n",
    "# 5. Imprima la matriz resultante 'C' y su forma (shape).\n",
    "# 6. Explique brevemente por qué la forma de 'C' es la que se obtiene.\n",
    "```\n",
    "\n",
    "-----\n",
    "\n",
    "### 3️⃣ **Ejercicios: Broadcasting**\n",
    "\n",
    "**Ejercicio 3.1 - Operación con dimensiones incompatibles**\n",
    "\n",
    "```python\n",
    "# Importe NumPy.\n",
    "# Cree una matriz 4x3, 'matriz_a', con valores aleatorios.\n",
    "# Cree un arreglo 1D, 'vector_b', de tamaño 3, con valores aleatorios.\n",
    "# Cree un arreglo 1D, 'vector_c', de tamaño 4, con valores aleatorios.\n",
    "# 1. Realice la suma de 'matriz_a' con 'vector_b'. Imprima el resultado y explique cómo funcionó el broadcasting.\n",
    "# 2. Intente realizar la suma de 'matriz_a' con 'vector_c'.\n",
    "# 3. Explique por qué el segundo intento falla y cómo podría reestructurar 'vector_c' para que la operación sea exitosa.\n",
    "```\n",
    "\n",
    "**Ejercicio 3.2 - Normalización de datos en una matriz**\n",
    "\n",
    "```python\n",
    "# Importe NumPy.\n",
    "# Cree una matriz 5x3 llamada 'conjunto_datos' con valores aleatorios que representan, por ejemplo,\n",
    "# las mediciones de 5 experimentos (filas) para 3 variables (columnas).\n",
    "# 1. Normalice cada columna de la matriz para que tenga una media de 0 y una desviación estándar de 1.\n",
    "#    Fórmula de normalización (estandarización): (x - media) / desviación_estándar.\n",
    "#    Use broadcasting para restar la media de cada columna y luego dividir por la desviación estándar de cada columna,\n",
    "#    todo en una sola línea de código.\n",
    "# 2. Imprima la matriz normalizada y verifique la media y la desviación estándar de cada columna (deberían ser 0 y 1, respectivamente).\n",
    "```\n",
    "\n",
    "-----\n",
    "\n",
    "### 4️⃣ **Ejercicios: Ejercicios integrados**\n",
    "\n",
    "**Ejercicio 4.1 - Análisis de datos de rendimiento**\n",
    "\n",
    "```python\n",
    "# Importe NumPy.\n",
    "# Imagine que tiene datos de rendimiento de 10 estudiantes en 5 materias diferentes.\n",
    "# Cree una matriz 10x5 llamada 'rendimiento' con valores enteros aleatorios entre 60 y 100.\n",
    "# 1. Usando operaciones vectoriales, calcule el promedio de rendimiento de cada estudiante.\n",
    "# 2. Usando broadcasting, identifique y reemplace todas las calificaciones por debajo de 70 con 70.\n",
    "#    Esto simula una política de \"calificación mínima\".\n",
    "# 3. Calcule el promedio general de todas las calificaciones después de aplicar la política.\n",
    "# 4. Imprima tanto el arreglo de promedios por estudiante como el promedio general final.\n",
    "```\n",
    "\n",
    "**Ejercicio 4.2 - Simulación de un sistema de coordenadas 3D**\n",
    "\n",
    "```python\n",
    "# Importe NumPy.\n",
    "# Cree una matriz 100x3 llamada 'puntos_3d' con valores flotantes aleatorios entre -10 y 10.\n",
    "# Cada fila representa un punto (x, y, z) en un sistema de coordenadas 3D.\n",
    "# 1. Cree un vector 1D llamado 'traslacion' con valores [5, -2, 3] que representa un desplazamiento.\n",
    "# 2. Use broadcasting para aplicar la traslación a cada punto en 'puntos_3d'.\n",
    "# 3. Calcule la distancia euclidiana de cada uno de los 100 puntos ORIGINALES al origen (0, 0, 0).\n",
    "#    Almacene estas distancias en un nuevo arreglo 1D.\n",
    "# 4. Encuentre e imprima el punto original que estaba más cerca del origen.\n",
    "```\n",
    "\n",
    "-----\n",
    "\n",
    "### 5️⃣ **Ejercicios: Ejercicios de Repaso**\n",
    "\n",
    "**Ejercicio 5.1 - Transformación y filtrado avanzado**\n",
    "\n",
    "```python\n",
    "# Dado un array 2D A de forma (n, n) con números enteros aleatorios entre 1 y 100, realiza lo siguiente usando solo NumPy (sin bucles explícitos):\n",
    "\t# 1.\tCre4 un nuevo array B que contenga la suma de cada elemento con sus vecinos inmediatos (arriba, abajo, izquierda, derecha). Los elementos en los bordes deben considerarse solo con los vecinos válidos.\n",
    "\t# 2.\tFiltr4 B para quedarte solo con los elementos que sean pares y mayores que la media de todo el array original A.\n",
    "\t# 3.\tDevuelva un array 1D ordenado con estos valores filtrados, sin duplicados.\n",
    "```\n",
    "\n",
    "-----\n",
    "\n",
    "### 📋 **Instrucciones para resolver:**\n",
    "\n",
    "1.  Copie cada ejercicio en una nueva celda de código.\n",
    "2.  Resuelva paso a paso y comente su razonamiento.\n",
    "3.  Ejecute para verificar sus respuestas.\n",
    "4.  Experimente modificando los valores.\n",
    "5.  Si tiene dudas, puede preguntar, pensando siempre en la lógica de los algoritmos."
   ]
  }
 ],
 "metadata": {
  "language_info": {
   "name": "python"
  }
 },
 "nbformat": 4,
 "nbformat_minor": 5
}
